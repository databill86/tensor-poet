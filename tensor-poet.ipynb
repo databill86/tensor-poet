{
 "cells": [
  {
   "cell_type": "code",
   "execution_count": 1,
   "metadata": {
    "collapsed": true
   },
   "outputs": [],
   "source": [
    "import numpy as np\n",
    "import os\n",
    "import random\n",
    "import tensorflow as tf\n",
    "from IPython.core.display import display, HTML"
   ]
  },
  {
   "cell_type": "code",
   "execution_count": 2,
   "metadata": {
    "collapsed": false
   },
   "outputs": [],
   "source": [
    "# TextLibrary class: text library for training, encoding, batch generation,\n",
    "# and formatted source display\n",
    "class TextLibrary:\n",
    "    def __init__(self, filenames):\n",
    "        self.filenames = filenames\n",
    "        self.data=''\n",
    "        self.files=[]\n",
    "        index = 1\n",
    "        for filename in filenames:\n",
    "            fd={}\n",
    "            fd[\"name\"] = os.path.splitext(os.path.basename(filename))[0]\n",
    "            self.c2i = {}\n",
    "            self.i2c = {}\n",
    "            try:\n",
    "                f = open(filename)\n",
    "                dat = f.read()\n",
    "                self.data += dat\n",
    "                fd[\"data\"] = dat\n",
    "                fd[\"index\"] = index\n",
    "                index += 1\n",
    "                self.files.append(fd)\n",
    "                f.close()\n",
    "            except OSError:\n",
    "                print(\"  ERROR: Cannot read: \", filename, e)\n",
    "        cs = set(self.data)\n",
    "        csi = list(enumerate(cs))\n",
    "        self.c2i = {c: i for i, c in csi}\n",
    "        # csi = list(enumerate(cs))\n",
    "        self.i2c = {i: c for i, c in csi}\n",
    "        self.ptr = 0\n",
    "            \n",
    "    def printColoredIPython(self, textlist, pre='', post=''):\n",
    "        bgcolors = ['#d4e6f1', '#d8daef', '#ebdef0', '#eadbd8', '#e2d7d5', '#edebd0',\n",
    "                    '#ecf3cf', '#d4efdf', '#d0ece7', '#d6eaf8', '#d4e6f1', '#d6dbdf',\n",
    "                    '#f6ddcc', '#fae5d3', '#fdebd0', '#e5e8e8', '#eaeded', '#A9CCE3']\n",
    "        out = ''\n",
    "        for txt, ind in textlist:\n",
    "            if ind==0:\n",
    "                out += txt\n",
    "            else:\n",
    "                out += \"<span style=\\\"background-color:\"+bgcolors[ind%16]+\";\\\">\" + txt +\\\n",
    "                       \"</span>\"+\"<sup>[\" + str(ind) + \"]</sup>\"\n",
    "        display(HTML(pre+out+post))\n",
    "        \n",
    "    def sourceHighlight(self, txt, minQuoteSize=10):\n",
    "        tx = txt\n",
    "        out = []\n",
    "        qts = []\n",
    "        txsrc=[(\"Sources: \", 0)]\n",
    "        sc=False\n",
    "        noquote = ''\n",
    "        while len(tx)>0:  # search all library files for quote 'txt'\n",
    "            mxQ = 0\n",
    "            mxI = 0\n",
    "            mxN = ''\n",
    "            found = False\n",
    "            for f in self.files:  # find longest quote in all texts\n",
    "                p = minQuoteSize\n",
    "                if p<=len(tx) and tx[:p] in f[\"data\"]:\n",
    "                    p = minQuoteSize + 1\n",
    "                    while p<=len(tx) and tx[:p] in f[\"data\"]:\n",
    "                        p += 1\n",
    "                    if p-1>mxQ:\n",
    "                        mxQ = p-1\n",
    "                        mxI = f[\"index\"]\n",
    "                        mxN = f[\"name\"]\n",
    "                        found = True\n",
    "            if found:  # save longest quote for colorizing\n",
    "                if len(noquote)>0:\n",
    "                    out.append((noquote, 0))\n",
    "                    noquote = ''\n",
    "                out.append((tx[:mxQ],mxI))\n",
    "                tx = tx[mxQ:]\n",
    "                if mxI not in qts:  # create a new reference, if first occurence\n",
    "                    qts.append(mxI)\n",
    "                    if sc:\n",
    "                        txsrc.append((\", \", 0))\n",
    "                    sc = True\n",
    "                    txsrc.append((mxN,mxI))\n",
    "            else:\n",
    "                noquote += tx[0]\n",
    "                tx = tx[1:]\n",
    "        if len(noquote)>0:\n",
    "            out.append((noquote, 0))\n",
    "            noquote = ''        \n",
    "        self.printColoredIPython(out)\n",
    "        if len(qts)>0:  # print references, if there is at least one source\n",
    "            self.printColoredIPython(txsrc, pre=\"<small><p style=\\\"text-align:right;\\\">\",\n",
    "                                     post=\"</p></small>\")\n",
    "    \n",
    "    def getSlice(self, length):\n",
    "        if (self.ptr + length >= len(self.data)):\n",
    "            self.ptr = 0\n",
    "        if self.ptr == 0:\n",
    "            rst = True\n",
    "        else:\n",
    "            rst = False\n",
    "        sl = self.data[self.ptr:self.ptr+length]\n",
    "        self.ptr += length\n",
    "        return sl, rst\n",
    "    \n",
    "    def decode(self, ar):\n",
    "         return ''.join([self.i2c[ic] for ic in ar])\n",
    "            \n",
    "    def getRandomSlice(self, length):\n",
    "        p = random.randrange(0,len(self.data)-length)\n",
    "        sl = self.data[p:p+length]\n",
    "        return sl\n",
    "    \n",
    "    def getSliceArray(self, length):\n",
    "        ar = np.array([c for c in self.getSlice(length)[0]])\n",
    "        return ar\n",
    "        \n",
    "    def getSample(self, length):\n",
    "        s, rst = self.getSlice(length+1)\n",
    "        X = [self.c2i[c] for c in s[:-1]]\n",
    "        y = [self.c2i[c] for c in s[1:]]\n",
    "        return (X, y, rst)\n",
    "    \n",
    "    def getRandomSample(self, length):\n",
    "        s = self.getRandomSlice(length+1)\n",
    "        X = [self.c2i[c] for c in s[:-1]]\n",
    "        y = [self.c2i[c] for c in s[1:]]\n",
    "        return (X, y)\n",
    "    \n",
    "    def getSampleBatch(self, batch_size, length):\n",
    "        smpX = []\n",
    "        smpy = []\n",
    "        for i in range(batch_size):\n",
    "            Xi, yi, rst = self.getSample(length)\n",
    "            smpX.append(Xi)\n",
    "            smpy.append(yi)\n",
    "        return smpX, smpy, rst\n",
    "        \n",
    "    def getRandomSampleBatch(self, batch_size, length):\n",
    "        smpX = []\n",
    "        smpy = []\n",
    "        for i in range(batch_size):\n",
    "            Xi, yi = self.getRandomSample(length)\n",
    "            smpX.append(Xi)\n",
    "            smpy.append(yi)\n",
    "        return smpX, smpy"
   ]
  },
  {
   "cell_type": "code",
   "execution_count": 3,
   "metadata": {
    "collapsed": false
   },
   "outputs": [],
   "source": [
    "# The tensorflow model for text generation\n",
    "class TensorPoetModel:\n",
    "    def __init__(self, params):\n",
    "        self.vocab_size = params[\"vocab_size\"]\n",
    "        self.neurons = params[\"neurons\"]\n",
    "        self.layers = params[\"layers\"]\n",
    "        self.learning_rate = params[\"learning_rate\"]\n",
    "        self.steps = params[\"steps\"]\n",
    "        # self.clip = -1.0 * params[\"clip\"]\n",
    "        \n",
    "        tf.reset_default_graph()\n",
    "\n",
    "        # Training:\n",
    "        self.X = tf.placeholder(tf.int32, shape=[None, self.steps])\n",
    "        self.y = tf.placeholder(tf.int32, shape=[None, self.steps])\n",
    "\n",
    "        onehot_X = tf.one_hot(self.X, self.vocab_size)\n",
    "        onehot_y = tf.one_hot(self.y, self.vocab_size)\n",
    "\n",
    "        basic_cell = tf.contrib.rnn.BasicLSTMCell(self.neurons)\n",
    "        stacked_cell = tf.contrib.rnn.MultiRNNCell([basic_cell] * self.layers)\n",
    "\n",
    "        self.batch_size = tf.placeholder(tf.int32)\n",
    "        self.init_state_0 = stacked_cell.zero_state(self.batch_size, tf.float32)\n",
    "\n",
    "        self.init_state = self.init_state_0\n",
    "\n",
    "        with tf.variable_scope('rnn') as scope:\n",
    "            rnn_outputs, states = tf.nn.dynamic_rnn(stacked_cell, onehot_X, initial_state=self.init_state, dtype=tf.float32)\n",
    "            self.init_state = states\n",
    "\n",
    "        self.final_state = self.init_state\n",
    "        stacked_rnn_outputs = tf.reshape(rnn_outputs, [-1, self.neurons])\n",
    "\n",
    "        # with tf.variable_scope('fc') as scope:\n",
    "        softmax_w = tf.get_variable(\"softmax_w\", [self.neurons, self.vocab_size], initializer=tf.random_normal_initializer(), dtype=tf.float32)\n",
    "        softmax_b = tf.get_variable(\"softmax_b\", [self.vocab_size], dtype=tf.float32)\n",
    "            \n",
    "        logits_raw = tf.matmul(stacked_rnn_outputs, softmax_w) + softmax_b\n",
    "        logits = tf.reshape(logits_raw, [-1, self.steps, self.vocab_size])\n",
    "\n",
    "        output_softmax = tf.nn.softmax(logits)\n",
    "\n",
    "        self.temperature = tf.placeholder(tf.float32)\n",
    "        self.output_softmax_temp = tf.nn.softmax(tf.div(logits, self.temperature))\n",
    "\n",
    "        softmax_entropy = tf.nn.softmax_cross_entropy_with_logits(labels=onehot_y, logits=logits)\n",
    "\n",
    "        self.cross_entropy = tf.reduce_mean(softmax_entropy)\n",
    "        optimizer = tf.train.AdamOptimizer(learning_rate=self.learning_rate)\n",
    "\n",
    "        self.training_op = optimizer.minimize(self.cross_entropy)  #, var_list=[embeddings, states, stacked_outputs])\n",
    "\n",
    "        # Clipping isn't necessary, even for really deep networks:\n",
    "        # grads = optimizer.compute_gradients(self.cross_entropy)\n",
    "        # minclip = -1.0 * self.clip\n",
    "        # capped_grads = [(tf.clip_by_value(grad, minclip, self.clip), var) for grad, var in grads]\n",
    "        # self.training_op = optimizer.apply_gradients(capped_grads)\n",
    "\n",
    "        self.prediction = tf.cast(tf.argmax(output_softmax, -1), tf.int32)\n",
    "        correct_prediction = tf.equal(self.y, self.prediction)\n",
    "        self.accuracy = tf.reduce_mean(tf.cast(correct_prediction, tf.float32))\n",
    "        error = 1.0 - self.accuracy\n",
    "\n",
    "        \n",
    "        # Tensorboard\n",
    "        tf.summary.scalar(\"cross-entropy\", self.cross_entropy)\n",
    "        tf.summary.scalar(\"error\", error)\n",
    "        self.summary_merged = tf.summary.merge_all()\n",
    "\n",
    "        # Init\n",
    "        self.init = tf.global_variables_initializer()\n"
   ]
  },
  {
   "cell_type": "code",
   "execution_count": null,
   "metadata": {
    "collapsed": false,
    "scrolled": false
   },
   "outputs": [],
   "source": [
    "textlib = TextLibrary([  # add additional texts, to train concurrently on multiple srcs:\n",
    "                       # 'data/tiny-shakespeare.txt',\n",
    "                       'data/emma-jane-austen.txt',\n",
    "                       'data/voyage-out-virginia-woolf.txt',\n",
    "                       'data/pride-prejudice-jane-austen.txt',\n",
    "                       'data/wuthering-heights-emily-bronte.txt',            \n",
    "                      ])\n",
    "\n",
    "params = {\n",
    "    \"vocab_size\": len(textlib.i2c),\n",
    "    \"neurons\": 256,\n",
    "    \"layers\": 4,\n",
    "    \"learning_rate\": 1.e-3,\n",
    "    \"steps\": 96,\n",
    "}\n",
    "\n",
    "model = TensorPoetModel(params)"
   ]
  },
  {
   "cell_type": "code",
   "execution_count": null,
   "metadata": {
    "collapsed": false,
    "scrolled": true
   },
   "outputs": [
    {
     "name": "stdout",
     "output_type": "stream",
     "text": [
      "Tensorboard: 'tensorboard --logdir /home/dsc/git/AI/tensor-poet/tensorlog'\n",
      "Epoch: 0.00, iter: 0, cross-entropy: 4.494, accuracy: 0.16618\n",
      "   y: one connected with him. | Your alliance will be a disgrace; your name will never even be mentioned\n",
      "  yp: w                                                                                               \n",
      "Epoch: 0.21, iter: 100, cross-entropy: 3.159, accuracy: 0.16243\n",
      "   y: altogether, and | the rest of the journey was made almost in darkness, the mountain being | a great \n",
      "  yp:                                                                                                 \n",
      "Epoch: 0.41, iter: 200, cross-entropy: 3.026, accuracy: 0.19613\n",
      "   y: --such a rest to the eyes--and the bazaars are so glad of things.\" | Her voice dropped into the sm\n",
      "  yp:        eeeeee eeeeee ee         ee ee        e eeeeee   eeeee          aae    ee  ee ee       ee\n",
      "Epoch: 0.62, iter: 300, cross-entropy: 2.738, accuracy: 0.24349\n",
      "   y: though | there were enough of those weak moments of depression to make it | perfectly easy for a les\n",
      "  yp:  ee    eee   ae   an    tee aee   aer  ae    n ae ae eerttt  ao he   an eeeee aee an   aee aeee \n",
      "Epoch: 0.82, iter: 400, cross-entropy: 2.395, accuracy: 0.33480\n",
      "   y: , and came to town with the resolution of hunting |      for them. The motive professed, was his c\n",
      "  yp:   tnd tore th th   hosh the souened ng tn ter  ng oouttt   the   Ihe sos ne toeee   d  ahs hes t\n",
      "----------------- temperature = 0.2 ----------------------\n"
     ]
    },
    {
     "data": {
      "text/html": [
       "o<span style=\"background-color:#eadbd8;\"> here to be </span><sup>[3]</sup>the sould the sour<span style=\"background-color:#e2d7d5;\">d the sound </span><sup>[4]</sup>to her herse<span style=\"background-color:#e2d7d5;\">red and the</span><sup>[4]</sup><span style=\"background-color:#ebdef0;\"> sound and the</span><sup>[2]</sup><span style=\"background-color:#ebdef0;\"> was the sour</span><sup>[2]</sup><span style=\"background-color:#ebdef0;\">d and the p</span><sup>[2]</sup>arr<span style=\"background-color:#d8daef;\">es to her ha</span><sup>[1]</sup><span style=\"background-color:#ebdef0;\">s and the pe</span><sup>[2]</sup>r<span style=\"background-color:#ebdef0;\">ter of the s</span><sup>[2]</sup>on<span style=\"background-color:#ebdef0;\">tered to h</span><sup>[2]</sup>ad the f<span style=\"background-color:#e2d7d5;\">inter the </span><sup>[4]</sup><span style=\"background-color:#eadbd8;\">paring the</span><sup>[3]</sup> ha<span style=\"background-color:#ebdef0;\">d her to her </span><sup>[2]</sup><span style=\"background-color:#d8daef;\">and the th</span><sup>[1]</sup>e p<span style=\"background-color:#e2d7d5;\">ast of the s</span><sup>[4]</sup>ourd the sould the sof<span style=\"background-color:#e2d7d5;\">ered the ma</span><sup>[4]</sup><span style=\"background-color:#d8daef;\">rt of the </span><sup>[1]</sup>m<span style=\"background-color:#d8daef;\">art and the </span><sup>[1]</sup><span style=\"background-color:#e2d7d5;\">wall of the </span><sup>[4]</sup>sou<span style=\"background-color:#d8daef;\">ld and the </span><sup>[1]</sup>parsed t<span style=\"background-color:#ebdef0;\">he was and th</span><sup>[2]</sup>e sou<span style=\"background-color:#ebdef0;\">rd and the</span><sup>[2]</sup> s<span style=\"background-color:#d8daef;\">oud of the </span><sup>[1]</sup>par<span style=\"background-color:#d8daef;\">ter and the </span><sup>[1]</sup>par<span style=\"background-color:#d8daef;\">ter and the </span><sup>[1]</sup>parter to has<span style=\"background-color:#d8daef;\"> her the p</span><sup>[1]</sup>era<span style=\"background-color:#d8daef;\">sed of the </span><sup>[1]</sup>sourd the so<span style=\"background-color:#ebdef0;\">me and the p</span><sup>[2]</sup>arsion the so<span style=\"background-color:#d8daef;\">ntered the pa</span><sup>[1]</sup>r<span style=\"background-color:#eadbd8;\">ter to her </span><sup>[3]</sup>the sonderting "
      ],
      "text/plain": [
       "<IPython.core.display.HTML object>"
      ]
     },
     "metadata": {},
     "output_type": "display_data"
    },
    {
     "data": {
      "text/html": [
       "<small><p style=\"text-align:right;\">Sources: <span style=\"background-color:#eadbd8;\">pride-prejudice-jane-austen</span><sup>[3]</sup>, <span style=\"background-color:#e2d7d5;\">wuthering-heights-emily-bronte</span><sup>[4]</sup>, <span style=\"background-color:#ebdef0;\">voyage-out-virginia-woolf</span><sup>[2]</sup>, <span style=\"background-color:#d8daef;\">emma-jane-austen</span><sup>[1]</sup></p></small>"
      ],
      "text/plain": [
       "<IPython.core.display.HTML object>"
      ]
     },
     "metadata": {},
     "output_type": "display_data"
    },
    {
     "name": "stdout",
     "output_type": "stream",
     "text": [
      "----------------- temperature = 0.4 ----------------------\n"
     ]
    },
    {
     "data": {
      "text/html": [
       "he mise so all bete the soud so deny to rece<span style=\"background-color:#d8daef;\">as to her </span><sup>[1]</sup>to sach the bu<span style=\"background-color:#eadbd8;\">ther the ca</span><sup>[3]</sup><span style=\"background-color:#d8daef;\">ssed her fo</span><sup>[1]</sup>n with sims t<span style=\"background-color:#ebdef0;\">he was and th</span><sup>[2]</sup><span style=\"background-color:#eadbd8;\">en been hi</span><sup>[3]</sup>d toar houkher\n",
       "<span style=\"background-color:#ebdef0;\">and and th</span><sup>[2]</sup>it r<span style=\"background-color:#d8daef;\">ace. The r</span><sup>[1]</sup>ast deris<span style=\"background-color:#eadbd8;\">g and her </span><sup>[3]</sup><span style=\"background-color:#d8daef;\">here the s</span><sup>[1]</sup>o soter of on our. W<span style=\"background-color:#eadbd8;\">other than </span><sup>[3]</sup>whild the mimter<span style=\"background-color:#eadbd8;\"> then when </span><sup>[3]</sup>th<span style=\"background-color:#ebdef0;\">e she was and</span><sup>[2]</sup>er<span style=\"background-color:#ebdef0;\">ed content</span><sup>[2]</sup><span style=\"background-color:#eadbd8;\">y and her </span><sup>[3]</sup>co<span style=\"background-color:#d8daef;\">rest of the </span><sup>[1]</sup>bepe to has in to be<span style=\"background-color:#e2d7d5;\">ne and then </span><sup>[4]</sup>wi<span style=\"background-color:#d8daef;\">ll to the </span><sup>[1]</sup>had <span style=\"background-color:#d8daef;\">o her and the </span><sup>[1]</sup>rou<span style=\"background-color:#eadbd8;\">rt of her a</span><sup>[3]</sup>lled her arpe. When<span style=\"background-color:#ebdef0;\">ther was an</span><sup>[2]</sup>d the cor<span style=\"background-color:#ebdef0;\">tering of </span><sup>[2]</sup>the corfe to<span style=\"background-color:#d8daef;\">re and the </span><sup>[1]</sup>hou<span style=\"background-color:#ebdef0;\">rd and the</span><sup>[2]</sup> per<span style=\"background-color:#e2d7d5;\">ent, on the </span><sup>[4]</sup>sound a perpans of t"
      ],
      "text/plain": [
       "<IPython.core.display.HTML object>"
      ]
     },
     "metadata": {},
     "output_type": "display_data"
    },
    {
     "data": {
      "text/html": [
       "<small><p style=\"text-align:right;\">Sources: <span style=\"background-color:#d8daef;\">emma-jane-austen</span><sup>[1]</sup>, <span style=\"background-color:#eadbd8;\">pride-prejudice-jane-austen</span><sup>[3]</sup>, <span style=\"background-color:#ebdef0;\">voyage-out-virginia-woolf</span><sup>[2]</sup>, <span style=\"background-color:#e2d7d5;\">wuthering-heights-emily-bronte</span><sup>[4]</sup></p></small>"
      ],
      "text/plain": [
       "<IPython.core.display.HTML object>"
      ]
     },
     "metadata": {},
     "output_type": "display_data"
    },
    {
     "name": "stdout",
     "output_type": "stream",
     "text": [
      "----------------- temperature = 0.6 ----------------------\n"
     ]
    },
    {
     "data": {
      "text/html": [
       "hearpe to prested of warle bert interes of ferrey to<span style=\"background-color:#d8daef;\">re and\n",
       "the</span><sup>[1]</sup>n a<span style=\"background-color:#d8daef;\">y found the</span><sup>[1]</sup> there<span style=\"background-color:#ebdef0;\"> war, and </span><sup>[2]</sup>her mis<span style=\"background-color:#ebdef0;\">ing of the\n",
       "s</span><sup>[2]</sup>olt buth as onderace dorelpaned, thet\n",
       "the mare dorthered of a siver and <span style=\"background-color:#ebdef0;\">in of the </span><sup>[2]</sup>care ton oust they ampen<span style=\"background-color:#e2d7d5;\">ling would </span><sup>[4]</sup><span style=\"background-color:#ebdef0;\">the sad and </span><sup>[2]</sup>mare and siweser.\"\n",
       "\n",
       "\"Whene you waid can<span style=\"background-color:#d8daef;\">ther in the</span><sup>[1]</sup>r wond no<span style=\"background-color:#eadbd8;\">ver of his </span><sup>[3]</sup>fercico<span style=\"background-color:#d8daef;\">nd of her h</span><sup>[1]</sup>erenes<span style=\"background-color:#e2d7d5;\">s though, </span><sup>[4]</sup>but then nog<span style=\"background-color:#d8daef;\">ting of the </span><sup>[1]</sup>poret of whes hurlen of har ther<span style=\"background-color:#e2d7d5;\">pet of her</span><sup>[4]</sup> the sunf<span style=\"background-color:#d8daef;\">e and with </span><sup>[1]</sup>be<span style=\"background-color:#ebdef0;\">ong the be</span><sup>[2]</sup>er thor<span style=\"background-color:#d8daef;\">et and the\n",
       "</span><sup>[1]</sup>pisseriany soighly then fore ant to han "
      ],
      "text/plain": [
       "<IPython.core.display.HTML object>"
      ]
     },
     "metadata": {},
     "output_type": "display_data"
    },
    {
     "data": {
      "text/html": [
       "<small><p style=\"text-align:right;\">Sources: <span style=\"background-color:#d8daef;\">emma-jane-austen</span><sup>[1]</sup>, <span style=\"background-color:#ebdef0;\">voyage-out-virginia-woolf</span><sup>[2]</sup>, <span style=\"background-color:#e2d7d5;\">wuthering-heights-emily-bronte</span><sup>[4]</sup>, <span style=\"background-color:#eadbd8;\">pride-prejudice-jane-austen</span><sup>[3]</sup></p></small>"
      ],
      "text/plain": [
       "<IPython.core.display.HTML object>"
      ]
     },
     "metadata": {},
     "output_type": "display_data"
    },
    {
     "name": "stdout",
     "output_type": "stream",
     "text": [
      "----------------- temperature = 0.8 ----------------------\n"
     ]
    },
    {
     "data": {
      "text/html": [
       "__ao____ot__C_______________________________________________________________________________________________________________________________________________________________________________________________________________________________________________________________________________________________________________________________________________________________________________________________________________________________________________________________________________________________________"
      ],
      "text/plain": [
       "<IPython.core.display.HTML object>"
      ]
     },
     "metadata": {},
     "output_type": "display_data"
    },
    {
     "name": "stdout",
     "output_type": "stream",
     "text": [
      "----------------- temperature = 1.0 ----------------------\n"
     ]
    },
    {
     "data": {
      "text/html": [
       "he trosk of'ond other has ongelonaco, yut, asdetangid\n",
       "afiaclaong hussbeed a hed\n",
       "tover mey mithed so breogethles wondv<span style=\"background-color:#e2d7d5;\">eving her h</span><sup>[4]</sup>ar almpere kundite tho socqerite anlagian;\n",
       "thenk doosher-ether.”\n",
       "\n",
       "“ait Mls. tentanfe thale corer<span style=\"background-color:#d8daef;\">eded. She </span><sup>[1]</sup>has my covon yyen plrekty-. Shey wore ind\n",
       "measid fad husant. far vover dyee.\n",
       "DSeat wtoy is mevered I alt otlepch bemant<span style=\"background-color:#ebdef0;\">tter to pe</span><sup>[2]</sup>cirped wore'<span style=\"background-color:#ebdef0;\">g to the b</span><sup>[2]</sup>eeed now Ml. Il\n",
       "wouldttertiad on! pindy it in doventcuun<span style=\"background-color:#d8daef;\">y of though</span><sup>[1]</sup>y uxme nune.-Ther a faudliod\n",
       "lutterlciod of has "
      ],
      "text/plain": [
       "<IPython.core.display.HTML object>"
      ]
     },
     "metadata": {},
     "output_type": "display_data"
    },
    {
     "data": {
      "text/html": [
       "<small><p style=\"text-align:right;\">Sources: <span style=\"background-color:#e2d7d5;\">wuthering-heights-emily-bronte</span><sup>[4]</sup>, <span style=\"background-color:#d8daef;\">emma-jane-austen</span><sup>[1]</sup>, <span style=\"background-color:#ebdef0;\">voyage-out-virginia-woolf</span><sup>[2]</sup></p></small>"
      ],
      "text/plain": [
       "<IPython.core.display.HTML object>"
      ]
     },
     "metadata": {},
     "output_type": "display_data"
    },
    {
     "name": "stdout",
     "output_type": "stream",
     "text": [
      "---------------------------------------\n",
      "Epoch: 1.03, iter: 500, cross-entropy: 2.140, accuracy: 0.39469\n",
      "   y: nd you _are_ Heathcliff! | But altered!  Nay, there's no comprehending it.  Have you been for a | so\n",
      "  yp:    tou hont  taarheeene   | et tnl r    Iuon  ahe e s sewtaueeestdd ng tn  IIe e tou hean tor tnpo\n",
      "Epoch: 1.23, iter: 600, cross-entropy: 1.966, accuracy: 0.43783\n",
      "   y:  | voice, but with much sorrowful despondency.  'I shall not stay.  I am | neither come to wrangle n\n",
      "  yp:  teunh  aut thsh tesh to eete r teaeerd d e  SH  woedl not ttee   ' wm notnher tone to baetdey t\n",
      "Epoch: 1.44, iter: 700, cross-entropy: 1.757, accuracy: 0.48779\n",
      "   y: re was not a day without its | engagement. Mrs. Bennet had so carefully provided for the entertain\n",
      "  yp:    aas aot tnsey thth ut an eandetenent  Ir.. Wennet wed ah hone el y arepesed tor the sncrr enn\n",
      "Epoch: 1.64, iter: 800, cross-entropy: 1.716, accuracy: 0.49935\n",
      "   y: interesting as | the discussion of his concerns; and every report, therefore, every | guess--all tha\n",
      "  yp: tnderest og tn the widtort on of tes aonserti  and tvery teplsee ahe e ore, aneny trrn  -anl the\n",
      "Epoch: 1.85, iter: 900, cross-entropy: 1.600, accuracy: 0.52913\n",
      "   y: , and, like nature's good sense, might be | depended upon. |  | Rachel went to bed; she lay in the dar\n",
      "  yp:   and  aike totureds trod aoese  ayght te aeserded tpon   | 'echel wart to te   ahe wid an the siy\n",
      "----------------- temperature = 0.2 ----------------------\n"
     ]
    },
    {
     "data": {
      "text/html": [
       "<span style=\"background-color:#d8daef;\">                                                       </span><sup>[1]</sup><span style=\"background-color:#d8daef;\">                                                       </span><sup>[1]</sup><span style=\"background-color:#d8daef;\">                                                       </span><sup>[1]</sup><span style=\"background-color:#d8daef;\">                                                       </span><sup>[1]</sup><span style=\"background-color:#d8daef;\">                                                       </span><sup>[1]</sup><span style=\"background-color:#d8daef;\">                                                       </span><sup>[1]</sup><span style=\"background-color:#d8daef;\">                                                       </span><sup>[1]</sup><span style=\"background-color:#d8daef;\">                                                       </span><sup>[1]</sup><span style=\"background-color:#d8daef;\">                                                       </span><sup>[1]</sup>     "
      ],
      "text/plain": [
       "<IPython.core.display.HTML object>"
      ]
     },
     "metadata": {},
     "output_type": "display_data"
    },
    {
     "data": {
      "text/html": [
       "<small><p style=\"text-align:right;\">Sources: <span style=\"background-color:#d8daef;\">emma-jane-austen</span><sup>[1]</sup></p></small>"
      ],
      "text/plain": [
       "<IPython.core.display.HTML object>"
      ]
     },
     "metadata": {},
     "output_type": "display_data"
    },
    {
     "name": "stdout",
     "output_type": "stream",
     "text": [
      "----------------- temperature = 0.4 ----------------------\n"
     ]
    },
    {
     "data": {
      "text/html": [
       "<span style=\"background-color:#d8daef;\">                                                       </span><sup>[1]</sup><span style=\"background-color:#d8daef;\">                                                       </span><sup>[1]</sup><span style=\"background-color:#d8daef;\">                                                       </span><sup>[1]</sup><span style=\"background-color:#d8daef;\">                                                       </span><sup>[1]</sup><span style=\"background-color:#d8daef;\">                                                       </span><sup>[1]</sup><span style=\"background-color:#d8daef;\">                                                       </span><sup>[1]</sup><span style=\"background-color:#d8daef;\">                                                       </span><sup>[1]</sup><span style=\"background-color:#d8daef;\">                                                       </span><sup>[1]</sup><span style=\"background-color:#d8daef;\">                                                       </span><sup>[1]</sup>     "
      ],
      "text/plain": [
       "<IPython.core.display.HTML object>"
      ]
     },
     "metadata": {},
     "output_type": "display_data"
    },
    {
     "data": {
      "text/html": [
       "<small><p style=\"text-align:right;\">Sources: <span style=\"background-color:#d8daef;\">emma-jane-austen</span><sup>[1]</sup></p></small>"
      ],
      "text/plain": [
       "<IPython.core.display.HTML object>"
      ]
     },
     "metadata": {},
     "output_type": "display_data"
    },
    {
     "name": "stdout",
     "output_type": "stream",
     "text": [
      "----------------- temperature = 0.6 ----------------------\n"
     ]
    },
    {
     "data": {
      "text/html": [
       "<span style=\"background-color:#d8daef;\">                    </span><sup>[1]</sup>n<span style=\"background-color:#e2d7d5;\">aster looked </span><sup>[4]</sup>the<span style=\"background-color:#d8daef;\">y her passi</span><sup>[1]</sup><span style=\"background-color:#d8daef;\">on\n",
       "of his </span><sup>[1]</sup>been <span style=\"background-color:#ebdef0;\">day as the</span><sup>[2]</sup> bather is ple<span style=\"background-color:#ebdef0;\">as in his </span><sup>[2]</sup>beg<span style=\"background-color:#eadbd8;\">and in the e</span><sup>[3]</sup>llow<span style=\"background-color:#d8daef;\"> of\n",
       "mind o</span><sup>[1]</sup><span style=\"background-color:#d8daef;\">f any conse</span><sup>[1]</sup>rsi<span style=\"background-color:#eadbd8;\">tion, would be </span><sup>[3]</sup>i<span style=\"background-color:#eadbd8;\">t she could e</span><sup>[3]</sup>xpea<span style=\"background-color:#eadbd8;\">red it had</span><sup>[3]</sup><span style=\"background-color:#eadbd8;\">\n",
       "been in the </span><sup>[3]</sup>laug<span style=\"background-color:#ebdef0;\">her in the hall</span><sup>[2]</sup>s<span style=\"background-color:#d8daef;\"> her had s</span><sup>[1]</sup>aid his crosp<span style=\"background-color:#ebdef0;\">enly laugh</span><sup>[2]</sup><span style=\"background-color:#d8daef;\"> to him the</span><sup>[1]</sup>\n",
       "<span style=\"background-color:#ebdef0;\">person the w</span><sup>[2]</sup>or<span style=\"background-color:#d8daef;\">ld and int</span><sup>[1]</sup>envenc<span style=\"background-color:#d8daef;\">e her word</span><sup>[1]</sup>e<span style=\"background-color:#ebdef0;\">res in her </span><sup>[2]</sup><span style=\"background-color:#eadbd8;\">and whether he</span><sup>[3]</sup>\n",
       "had speed <span style=\"background-color:#d8daef;\">its of the </span><sup>[1]</sup>rou<span style=\"background-color:#ebdef0;\">nd began sp</span><sup>[2]</sup>eak s<span style=\"background-color:#d8daef;\">o the world </span><sup>[1]</sup>r<span style=\"background-color:#eadbd8;\">ed this co</span><sup>[3]</sup>ul<span style=\"background-color:#e2d7d5;\">d should a</span><sup>[4]</sup><span style=\"background-color:#eadbd8;\">nd the conse</span><sup>[3]</sup>nce\n",
       "<span style=\"background-color:#ebdef0;\">the\n",
       "should</span><sup>[2]</sup> nei<span style=\"background-color:#d8daef;\">d her last </span><sup>[1]</sup><span style=\"background-color:#d8daef;\">moment, which </span><sup>[1]</sup>a sepulars so har<span style=\"background-color:#e2d7d5;\">dly at the </span><sup>[4]</sup><span style=\"background-color:#ebdef0;\">something r</span><sup>[2]</sup>esp"
      ],
      "text/plain": [
       "<IPython.core.display.HTML object>"
      ]
     },
     "metadata": {},
     "output_type": "display_data"
    },
    {
     "data": {
      "text/html": [
       "<small><p style=\"text-align:right;\">Sources: <span style=\"background-color:#d8daef;\">emma-jane-austen</span><sup>[1]</sup>, <span style=\"background-color:#e2d7d5;\">wuthering-heights-emily-bronte</span><sup>[4]</sup>, <span style=\"background-color:#ebdef0;\">voyage-out-virginia-woolf</span><sup>[2]</sup>, <span style=\"background-color:#eadbd8;\">pride-prejudice-jane-austen</span><sup>[3]</sup></p></small>"
      ],
      "text/plain": [
       "<IPython.core.display.HTML object>"
      ]
     },
     "metadata": {},
     "output_type": "display_data"
    },
    {
     "name": "stdout",
     "output_type": "stream",
     "text": [
      "----------------- temperature = 0.8 ----------------------\n"
     ]
    },
    {
     "data": {
      "text/html": [
       "  bather def<span style=\"background-color:#eadbd8;\">rections that </span><sup>[3]</sup>his of could nexerves\n",
       "hour<span style=\"background-color:#ebdef0;\">t than the</span><sup>[2]</sup><span style=\"background-color:#d8daef;\">y was not </span><sup>[1]</sup>be so lotebly trush<span style=\"background-color:#d8daef;\"> and instant</span><sup>[1]</sup><span style=\"background-color:#eadbd8;\"> you should be </span><sup>[3]</sup>our\n",
       "was her Cilasbon an chiddrey who whise<span style=\"background-color:#ebdef0;\"> its more </span><sup>[2]</sup>have sconf<span style=\"background-color:#eadbd8;\">icions which</span><sup>[3]</sup><span style=\"background-color:#d8daef;\">\n",
       "shall be </span><sup>[1]</sup>fore of sperkand une<span style=\"background-color:#d8daef;\">ed to their </span><sup>[1]</sup><span style=\"background-color:#eadbd8;\">wife of the </span><sup>[3]</sup>way <span style=\"background-color:#d8daef;\">on had she</span><sup>[1]</sup>\n",
       "dou<span style=\"background-color:#eadbd8;\">m to do the</span><sup>[3]</sup> had to d<span style=\"background-color:#eadbd8;\">ave answer</span><sup>[3]</sup>ared i<span style=\"background-color:#d8daef;\">n whispering </span><sup>[1]</sup>r<span style=\"background-color:#d8daef;\">oor of his</span><sup>[1]</sup>\n",
       "ranie<span style=\"background-color:#d8daef;\">s for ever</span><sup>[1]</sup> into bode<span style=\"background-color:#ebdef0;\">rst, who was </span><sup>[2]</sup>so<span style=\"background-color:#d8daef;\"> could of </span><sup>[1]</sup>the hoor<span style=\"background-color:#d8daef;\"> of\n",
       "other </span><sup>[1]</sup>an<span style=\"background-color:#d8daef;\">y dear, but </span><sup>[1]</sup><span style=\"background-color:#d8daef;\">Mrs. Elton, who wa</span><sup>[1]</sup><span style=\"background-color:#d8daef;\">s in her wa</span><sup>[1]</sup>s per<span style=\"background-color:#eadbd8;\">happy for </span><sup>[3]</sup>her as<span style=\"background-color:#ebdef0;\">\n",
       "the world o</span><sup>[2]</sup><span style=\"background-color:#e2d7d5;\">f him was </span><sup>[4]</sup>s<span style=\"background-color:#ebdef0;\">aid they m</span><sup>[2]</sup>ore of mer"
      ],
      "text/plain": [
       "<IPython.core.display.HTML object>"
      ]
     },
     "metadata": {},
     "output_type": "display_data"
    },
    {
     "data": {
      "text/html": [
       "<small><p style=\"text-align:right;\">Sources: <span style=\"background-color:#eadbd8;\">pride-prejudice-jane-austen</span><sup>[3]</sup>, <span style=\"background-color:#ebdef0;\">voyage-out-virginia-woolf</span><sup>[2]</sup>, <span style=\"background-color:#d8daef;\">emma-jane-austen</span><sup>[1]</sup>, <span style=\"background-color:#e2d7d5;\">wuthering-heights-emily-bronte</span><sup>[4]</sup></p></small>"
      ],
      "text/plain": [
       "<IPython.core.display.HTML object>"
      ]
     },
     "metadata": {},
     "output_type": "display_data"
    },
    {
     "name": "stdout",
     "output_type": "stream",
     "text": [
      "----------------- temperature = 1.0 ----------------------\n"
     ]
    },
    {
     "data": {
      "text/html": [
       "  erfor<span style=\"background-color:#ebdef0;\">tical life</span><sup>[2]</sup><span style=\"background-color:#ebdef0;\"> minute and</span><sup>[2]</sup>, and\n",
       "chaped or plaw<span style=\"background-color:#e2d7d5;\">sion.\n",
       "\n",
       "\n",
       "\n",
       "\n",
       "C</span><sup>[4]</sup>*PTER I  \n",
       "Camp<span style=\"background-color:#d8daef;\">ell into a </span><sup>[1]</sup><span style=\"background-color:#eadbd8;\">him. And ther</span><sup>[3]</sup>le'r answer good dipparu<span style=\"background-color:#ebdef0;\">ted him in</span><sup>[2]</sup>\n",
       "harfo<span style=\"background-color:#ebdef0;\">come, and </span><sup>[2]</sup>the scrais<span style=\"background-color:#d8daef;\">re of their </span><sup>[1]</sup>k<span style=\"background-color:#eadbd8;\">ifference h</span><sup>[3]</sup><span style=\"background-color:#ebdef0;\">is people </span><sup>[2]</sup>conbouct.\n",
       "\n",
       "\"Ony it, I spones you<span style=\"background-color:#eadbd8;\">selves, wh</span><sup>[3]</sup><span style=\"background-color:#d8daef;\">o whole ho</span><sup>[1]</sup><span style=\"background-color:#eadbd8;\">le to Elizabeth</span><sup>[3]</sup><span style=\"background-color:#d8daef;\">. The evening </span><sup>[1]</sup>eno<span style=\"background-color:#d8daef;\">ng to\n",
       "the </span><sup>[1]</sup>better dn<span style=\"background-color:#eadbd8;\">ive of her</span><sup>[3]</sup> eyes weated. He ad they\n",
       "ea<span style=\"background-color:#d8daef;\">rested in </span><sup>[1]</sup>been becalf<span style=\"background-color:#ebdef0;\">ned the wi</span><sup>[2]</sup>ll marm, whis harthing a\n",
       "lightment! how tobd in a Wenta<span style=\"background-color:#d8daef;\">in, though </span><sup>[1]</sup>Larzo's\n",
       "look ofher bud so holl of she choltered gavil f<span style=\"background-color:#d8daef;\">or silence</span><sup>[1]</sup> you ma"
      ],
      "text/plain": [
       "<IPython.core.display.HTML object>"
      ]
     },
     "metadata": {},
     "output_type": "display_data"
    },
    {
     "data": {
      "text/html": [
       "<small><p style=\"text-align:right;\">Sources: <span style=\"background-color:#ebdef0;\">voyage-out-virginia-woolf</span><sup>[2]</sup>, <span style=\"background-color:#e2d7d5;\">wuthering-heights-emily-bronte</span><sup>[4]</sup>, <span style=\"background-color:#d8daef;\">emma-jane-austen</span><sup>[1]</sup>, <span style=\"background-color:#eadbd8;\">pride-prejudice-jane-austen</span><sup>[3]</sup></p></small>"
      ],
      "text/plain": [
       "<IPython.core.display.HTML object>"
      ]
     },
     "metadata": {},
     "output_type": "display_data"
    },
    {
     "name": "stdout",
     "output_type": "stream",
     "text": [
      "---------------------------------------\n",
      "Epoch: 2.06, iter: 1000, cross-entropy: 1.589, accuracy: 0.53548\n",
      "   y: , not after his father. John, the second, | is named after his father. Some people are surprized, \n",
      "  yp:   aot tlter tes cocher   ohn  ahe waault  an aote  tnter tes cocher   h e taople tne thcerized  \n",
      "Epoch: 2.26, iter: 1100, cross-entropy: 1.491, accuracy: 0.55599\n",
      "   y: . Thornbury exclaimed. She told them that for some | days Hughling Elliot had been ill, and the on\n",
      "  yp:   Theueoury oxpeaimed   he whod hhe |  woet sor tome | tiy  aarhbyng slieot,wav been snl  and she st\n",
      "Epoch: 2.47, iter: 1200, cross-entropy: 1.402, accuracy: 0.56836\n",
      "   y: inting to another of the miniatures, | \"is my master--and very like him. It was drawn at the same \n",
      "  yp: nnd ng to h yther tf the sosdnteres  aIt nu danter -and tery site tim     was aeewi tn the seme \n",
      "Epoch: 2.67, iter: 1300, cross-entropy: 1.368, accuracy: 0.58252\n",
      "   y: --He gave his consent with very | little persuasion.” |  | “Ah!” thought Emma, “he would have done as \n",
      "  yp:  -Ie sove aes aonsiqt tith aery pittle warsoadeon   |  | “In!  sheugh  tlma, wIe wauld nave bone t  \n",
      "Epoch: 2.88, iter: 1400, cross-entropy: 1.386, accuracy: 0.57812\n",
      "   y:  situation was most suitable, quite the | gentleman himself, and without low connexions; at the sa\n",
      "  yp:  tottation ois aort aecteble  auite ahe srntleman oas elf  and tath ut heo tomvecions  an the so\n",
      "----------------- temperature = 0.2 ----------------------\n"
     ]
    },
    {
     "data": {
      "text/html": [
       "<span style=\"background-color:#d8daef;\">                                                       </span><sup>[1]</sup><span style=\"background-color:#d8daef;\">                                                       </span><sup>[1]</sup><span style=\"background-color:#d8daef;\">                                                       </span><sup>[1]</sup><span style=\"background-color:#d8daef;\">                                                       </span><sup>[1]</sup><span style=\"background-color:#d8daef;\">                                                       </span><sup>[1]</sup><span style=\"background-color:#d8daef;\">                                                       </span><sup>[1]</sup><span style=\"background-color:#d8daef;\">                                                       </span><sup>[1]</sup><span style=\"background-color:#d8daef;\">                                                       </span><sup>[1]</sup><span style=\"background-color:#d8daef;\">                                                       </span><sup>[1]</sup>     "
      ],
      "text/plain": [
       "<IPython.core.display.HTML object>"
      ]
     },
     "metadata": {},
     "output_type": "display_data"
    },
    {
     "data": {
      "text/html": [
       "<small><p style=\"text-align:right;\">Sources: <span style=\"background-color:#d8daef;\">emma-jane-austen</span><sup>[1]</sup></p></small>"
      ],
      "text/plain": [
       "<IPython.core.display.HTML object>"
      ]
     },
     "metadata": {},
     "output_type": "display_data"
    },
    {
     "name": "stdout",
     "output_type": "stream",
     "text": [
      "----------------- temperature = 0.4 ----------------------\n"
     ]
    },
    {
     "data": {
      "text/html": [
       "<span style=\"background-color:#d8daef;\">                                                       </span><sup>[1]</sup><span style=\"background-color:#d8daef;\">                                                       </span><sup>[1]</sup><span style=\"background-color:#d8daef;\">                                                       </span><sup>[1]</sup><span style=\"background-color:#d8daef;\">                                                       </span><sup>[1]</sup><span style=\"background-color:#d8daef;\">                                                       </span><sup>[1]</sup><span style=\"background-color:#d8daef;\">                                                       </span><sup>[1]</sup><span style=\"background-color:#d8daef;\">                                                       </span><sup>[1]</sup><span style=\"background-color:#d8daef;\">                                                       </span><sup>[1]</sup><span style=\"background-color:#d8daef;\">                                                       </span><sup>[1]</sup>     "
      ],
      "text/plain": [
       "<IPython.core.display.HTML object>"
      ]
     },
     "metadata": {},
     "output_type": "display_data"
    },
    {
     "data": {
      "text/html": [
       "<small><p style=\"text-align:right;\">Sources: <span style=\"background-color:#d8daef;\">emma-jane-austen</span><sup>[1]</sup></p></small>"
      ],
      "text/plain": [
       "<IPython.core.display.HTML object>"
      ]
     },
     "metadata": {},
     "output_type": "display_data"
    },
    {
     "name": "stdout",
     "output_type": "stream",
     "text": [
      "----------------- temperature = 0.6 ----------------------\n"
     ]
    },
    {
     "data": {
      "text/html": [
       "<span style=\"background-color:#d8daef;\">                                                       </span><sup>[1]</sup><span style=\"background-color:#d8daef;\">                                                       </span><sup>[1]</sup><span style=\"background-color:#d8daef;\">                                                       </span><sup>[1]</sup><span style=\"background-color:#d8daef;\">                                                       </span><sup>[1]</sup><span style=\"background-color:#d8daef;\">                                                       </span><sup>[1]</sup><span style=\"background-color:#d8daef;\">                                                       </span><sup>[1]</sup><span style=\"background-color:#d8daef;\">                                                       </span><sup>[1]</sup><span style=\"background-color:#d8daef;\">                                                       </span><sup>[1]</sup><span style=\"background-color:#d8daef;\">                                                       </span><sup>[1]</sup>     "
      ],
      "text/plain": [
       "<IPython.core.display.HTML object>"
      ]
     },
     "metadata": {},
     "output_type": "display_data"
    },
    {
     "data": {
      "text/html": [
       "<small><p style=\"text-align:right;\">Sources: <span style=\"background-color:#d8daef;\">emma-jane-austen</span><sup>[1]</sup></p></small>"
      ],
      "text/plain": [
       "<IPython.core.display.HTML object>"
      ]
     },
     "metadata": {},
     "output_type": "display_data"
    }
   ],
   "source": [
    "# Training:\n",
    "max_iter = 1000000\n",
    "batch_size = 64\n",
    "generated_text_size = 500\n",
    "epl = len(textlib.data) / (batch_size * model.steps)\n",
    "\n",
    "with tf.Session() as sess:\n",
    "    model.init.run()\n",
    "\n",
    "    tflogdir = os.path.realpath('tensorlog')\n",
    "    if not os.path.exists(tflogdir):\n",
    "        os.makedirs(tflogdir)\n",
    "        print(\"Tensorboard: 'tensorboard --logdir {}'\".format(tflogdir))\n",
    "\n",
    "    train_writer = tf.summary.FileWriter(tflogdir, sess.graph)\n",
    "    train_writer.add_graph(sess.graph)\n",
    "        \n",
    "    \n",
    "    for iteration in range(max_iter):\n",
    "        # Train with batches from the text library:\n",
    "        X_batch, y_batch = textlib.getRandomSampleBatch(batch_size, model.steps)\n",
    "        i_state = sess.run([model.init_state_0], feed_dict={model.batch_size: batch_size})\n",
    "        i_state, _ = sess.run([model.final_state, model.training_op],\n",
    "                              feed_dict={model.X: X_batch, model.y: y_batch,\n",
    "                                         model.batch_size: batch_size, model.init_state: i_state})\n",
    "\n",
    "        # Output training statistics every 100 iterations:\n",
    "        if iteration % 100 == 0:\n",
    "            ce, accuracy, prediction, summary = sess.run([model.cross_entropy,\n",
    "                                                          model.accuracy, model.prediction,\n",
    "                                                          model.summary_merged],\n",
    "                                             feed_dict={model.X: X_batch, model.y: y_batch,\n",
    "                                                        model.batch_size: batch_size})\n",
    "            train_writer.add_summary(summary, iteration)\n",
    "            ep = iteration / epl\n",
    "            print(\"Epoch: {0:.2f}, iter: {1:d}, cross-entropy: {2:.3f}, accuracy: {3:.5f}\".format(ep, iteration, ce, accuracy))\n",
    "            for ind in range(1): # model.batch_size):\n",
    "                ys = textlib.decode(y_batch[ind]).replace('\\n', ' | ')\n",
    "                yps = textlib.decode(prediction[ind]).replace('\\n', ' | ')\n",
    "                print(\"   y:\", ys)\n",
    "                print(\"  yp:\", yps)\n",
    "\n",
    "        # Generate sample texts for different temperature every 500 iterations:\n",
    "        if (iteration+1) % 500 == 0:\n",
    "            for t in range(2, 11, 2):\n",
    "                temp = float(t) / 10.0;\n",
    "                g_state = sess.run([model.init_state_0], feed_dict={model.batch_size: 1})\n",
    "                xs = ' ' * model.steps\n",
    "                xso = ''\n",
    "                for i in range(generated_text_size):\n",
    "                    X_new = np.transpose([[textlib.c2i[sj]] for sj in xs])\n",
    "                    g_state, y_pred = sess.run([model.final_state, model.output_softmax_temp], \n",
    "                                              feed_dict={model.X: X_new, model.init_state: g_state,\n",
    "                                                         model.batch_size: 1, model.temperature: temp})\n",
    "                    inds=list(range(model.vocab_size))\n",
    "                    ind = np.random.choice(inds, p=y_pred[0, -1].ravel())\n",
    "                    nc = textlib.i2c[ind]\n",
    "                    xso += nc\n",
    "                    xs = xs[1:]+nc\n",
    "                             \n",
    "                print(\"----------------- temperature =\", temp, \"----------------------\")\n",
    "                # print(xso)\n",
    "                textlib.sourceHighlight(xso, 10)\n",
    "            print(\"---------------------------------------\")"
   ]
  },
  {
   "cell_type": "code",
   "execution_count": null,
   "metadata": {
    "collapsed": true
   },
   "outputs": [],
   "source": []
  }
 ],
 "metadata": {
  "kernelspec": {
   "display_name": "Python 3",
   "language": "python",
   "name": "python3"
  },
  "language_info": {
   "codemirror_mode": {
    "name": "ipython",
    "version": 3
   },
   "file_extension": ".py",
   "mimetype": "text/x-python",
   "name": "python",
   "nbconvert_exporter": "python",
   "pygments_lexer": "ipython3",
   "version": "3.6.0"
  }
 },
 "nbformat": 4,
 "nbformat_minor": 2
}
