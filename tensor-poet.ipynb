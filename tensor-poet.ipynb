{
 "cells": [
  {
   "cell_type": "code",
   "execution_count": 1,
   "metadata": {
    "collapsed": true
   },
   "outputs": [],
   "source": [
    "import numpy as np\n",
    "import os\n",
    "import random\n",
    "import tensorflow as tf\n",
    "from IPython.core.display import display, HTML"
   ]
  },
  {
   "cell_type": "code",
   "execution_count": 2,
   "metadata": {
    "collapsed": false
   },
   "outputs": [],
   "source": [
    "# TextLibrary class: text library for training, encoding, batch generation,\n",
    "# and formatted source display\n",
    "class TextLibrary:\n",
    "    def __init__(self, filenames, max=100000000):\n",
    "        self.filenames = filenames\n",
    "        self.data=''\n",
    "        self.files=[]\n",
    "        index = 1\n",
    "        for filename in filenames:\n",
    "            fd={}\n",
    "            fd[\"name\"] = os.path.splitext(os.path.basename(filename))[0]\n",
    "            self.c2i = {}\n",
    "            self.i2c = {}\n",
    "            try:\n",
    "                f = open(filename)\n",
    "                dat = f.read(max)\n",
    "                self.data += dat\n",
    "                fd[\"data\"] = dat\n",
    "                fd[\"index\"] = index\n",
    "                index += 1\n",
    "                self.files.append(fd)\n",
    "                f.close()\n",
    "            except OSError:\n",
    "                print(\"  ERROR: Cannot read: \", filename)\n",
    "        ind = 0\n",
    "        for c in self.data: # sets are not deterministic\n",
    "            if c not in self.c2i:\n",
    "                self.c2i[c] = ind\n",
    "                self.i2c[ind] = c\n",
    "                ind += 1\n",
    "        self.ptr = 0\n",
    "            \n",
    "    def printColoredIPython(self, textlist, pre='', post=''):\n",
    "        bgcolors = ['#d4e6f1', '#d8daef', '#ebdef0', '#eadbd8', '#e2d7d5', '#edebd0',\n",
    "                    '#ecf3cf', '#d4efdf', '#d0ece7', '#d6eaf8', '#d4e6f1', '#d6dbdf',\n",
    "                    '#f6ddcc', '#fae5d3', '#fdebd0', '#e5e8e8', '#eaeded', '#A9CCE3']\n",
    "        out = ''\n",
    "        for txt, ind in textlist:\n",
    "            txt = txt.replace('\\n','<br>')\n",
    "            if ind==0:\n",
    "                out += txt\n",
    "            else:\n",
    "                out += \"<span style=\\\"background-color:\"+bgcolors[ind%16]+\";\\\">\" + txt +\\\n",
    "                       \"</span>\"+\"<sup>[\" + str(ind) + \"]</sup>\"\n",
    "        display(HTML(pre+out+post))\n",
    "        \n",
    "    def sourceHighlight(self, txt, minQuoteSize=10):\n",
    "        tx = txt\n",
    "        out = []\n",
    "        qts = []\n",
    "        txsrc=[(\"Sources: \", 0)]\n",
    "        sc=False\n",
    "        noquote = ''\n",
    "        while len(tx)>0:  # search all library files for quote 'txt'\n",
    "            mxQ = 0\n",
    "            mxI = 0\n",
    "            mxN = ''\n",
    "            found = False\n",
    "            for f in self.files:  # find longest quote in all texts\n",
    "                p = minQuoteSize\n",
    "                if p<=len(tx) and tx[:p] in f[\"data\"]:\n",
    "                    p = minQuoteSize + 1\n",
    "                    while p<=len(tx) and tx[:p] in f[\"data\"]:\n",
    "                        p += 1\n",
    "                    if p-1>mxQ:\n",
    "                        mxQ = p-1\n",
    "                        mxI = f[\"index\"]\n",
    "                        mxN = f[\"name\"]\n",
    "                        found = True\n",
    "            if found:  # save longest quote for colorizing\n",
    "                if len(noquote)>0:\n",
    "                    out.append((noquote, 0))\n",
    "                    noquote = ''\n",
    "                out.append((tx[:mxQ],mxI))\n",
    "                tx = tx[mxQ:]\n",
    "                if mxI not in qts:  # create a new reference, if first occurence\n",
    "                    qts.append(mxI)\n",
    "                    if sc:\n",
    "                        txsrc.append((\", \", 0))\n",
    "                    sc = True\n",
    "                    txsrc.append((mxN,mxI))\n",
    "            else:\n",
    "                noquote += tx[0]\n",
    "                tx = tx[1:]\n",
    "        if len(noquote)>0:\n",
    "            out.append((noquote, 0))\n",
    "            noquote = ''\n",
    "        self.printColoredIPython(out)\n",
    "        if len(qts)>0:  # print references, if there is at least one source\n",
    "            self.printColoredIPython(txsrc, pre=\"<small><p style=\\\"text-align:right;\\\">\",\n",
    "                                     post=\"</p></small>\")\n",
    "    \n",
    "    def getSlice(self, length):\n",
    "        if (self.ptr + length >= len(self.data)):\n",
    "            self.ptr = 0\n",
    "        if self.ptr == 0:\n",
    "            rst = True\n",
    "        else:\n",
    "            rst = False\n",
    "        sl = self.data[self.ptr:self.ptr+length]\n",
    "        self.ptr += length\n",
    "        return sl, rst\n",
    "    \n",
    "    def decode(self, ar):\n",
    "         return ''.join([self.i2c[ic] for ic in ar])\n",
    "            \n",
    "    def getRandomSlice(self, length):\n",
    "        p = random.randrange(0,len(self.data)-length)\n",
    "        sl = self.data[p:p+length]\n",
    "        return sl\n",
    "    \n",
    "    def getSliceArray(self, length):\n",
    "        ar = np.array([c for c in self.getSlice(length)[0]])\n",
    "        return ar\n",
    "        \n",
    "    def getSample(self, length):\n",
    "        s, rst = self.getSlice(length+1)\n",
    "        X = [self.c2i[c] for c in s[:-1]]\n",
    "        y = [self.c2i[c] for c in s[1:]]\n",
    "        return (X, y, rst)\n",
    "    \n",
    "    def getRandomSample(self, length):\n",
    "        s = self.getRandomSlice(length+1)\n",
    "        X = [self.c2i[c] for c in s[:-1]]\n",
    "        y = [self.c2i[c] for c in s[1:]]\n",
    "        return (X, y)\n",
    "    \n",
    "    def getSampleBatch(self, batch_size, length):\n",
    "        smpX = []\n",
    "        smpy = []\n",
    "        for i in range(batch_size):\n",
    "            Xi, yi, rst = self.getSample(length)\n",
    "            smpX.append(Xi)\n",
    "            smpy.append(yi)\n",
    "        return smpX, smpy, rst\n",
    "        \n",
    "    def getRandomSampleBatch(self, batch_size, length):\n",
    "        smpX = []\n",
    "        smpy = []\n",
    "        for i in range(batch_size):\n",
    "            Xi, yi = self.getRandomSample(length)\n",
    "            smpX.append(Xi)\n",
    "            smpy.append(yi)\n",
    "        return smpX, smpy"
   ]
  },
  {
   "cell_type": "code",
   "execution_count": 3,
   "metadata": {
    "collapsed": false
   },
   "outputs": [],
   "source": [
    "# The tensorflow model for text generation\n",
    "class TensorPoetModel:\n",
    "    def __init__(self, params):\n",
    "        self.vocab_size = params[\"vocab_size\"]\n",
    "        self.neurons = params[\"neurons\"]\n",
    "        self.layers = params[\"layers\"]\n",
    "        self.learning_rate = params[\"learning_rate\"]\n",
    "        self.steps = params[\"steps\"]\n",
    "        # self.clip = -1.0 * params[\"clip\"]\n",
    "        \n",
    "        tf.reset_default_graph()\n",
    "\n",
    "        # Training & Generating:\n",
    "        self.X = tf.placeholder(tf.int32, shape=[None, self.steps])\n",
    "        self.y = tf.placeholder(tf.int32, shape=[None, self.steps])\n",
    "\n",
    "        onehot_X = tf.one_hot(self.X, self.vocab_size)\n",
    "        onehot_y = tf.one_hot(self.y, self.vocab_size)\n",
    "\n",
    "        basic_cell = tf.contrib.rnn.BasicLSTMCell(self.neurons)\n",
    "        stacked_cell = tf.contrib.rnn.MultiRNNCell([basic_cell] * self.layers)\n",
    "\n",
    "        self.batch_size = tf.placeholder(tf.int32)\n",
    "        self.init_state_0 = stacked_cell.zero_state(self.batch_size, tf.float32)\n",
    "\n",
    "        self.init_state = self.init_state_0\n",
    "\n",
    "        with tf.variable_scope('rnn') as scope:\n",
    "            rnn_outputs, states = tf.nn.dynamic_rnn(stacked_cell, onehot_X, \n",
    "                                                    initial_state=self.init_state, \n",
    "                                                    dtype=tf.float32)\n",
    "            self.init_state = states\n",
    "\n",
    "        self.final_state = self.init_state\n",
    "        stacked_rnn_outputs = tf.reshape(rnn_outputs, [-1, self.neurons])\n",
    "\n",
    "        softmax_w = tf.Variable(tf.random_normal([self.neurons, self.vocab_size]), dtype=tf.float32)\n",
    "        softmax_b = tf.Variable([self.vocab_size], dtype=tf.float32)\n",
    "            \n",
    "        logits_raw = tf.matmul(stacked_rnn_outputs, softmax_w) + softmax_b\n",
    "        logits = tf.reshape(logits_raw, [-1, self.steps, self.vocab_size])\n",
    "\n",
    "        output_softmax = tf.nn.softmax(logits)\n",
    "\n",
    "        self.temperature = tf.placeholder(tf.float32)\n",
    "        self.output_softmax_temp = tf.nn.softmax(tf.div(logits, self.temperature))\n",
    "\n",
    "        softmax_entropy = tf.nn.softmax_cross_entropy_with_logits(labels=onehot_y, logits=logits)\n",
    "\n",
    "        self.cross_entropy = tf.reduce_mean(softmax_entropy)\n",
    "        optimizer = tf.train.AdamOptimizer(learning_rate=self.learning_rate)\n",
    "\n",
    "        self.training_op = optimizer.minimize(self.cross_entropy)\n",
    "        \n",
    "        # Clipping isn't necessary, even for really deep networks:\n",
    "        # grads = optimizer.compute_gradients(self.cross_entropy)\n",
    "        # minclip = -1.0 * self.clip\n",
    "        # capped_grads = [(tf.clip_by_value(grad, minclip, self.clip), var) for grad, var in grads]\n",
    "        # self.training_op = optimizer.apply_gradients(capped_grads)\n",
    "\n",
    "        self.prediction = tf.cast(tf.argmax(output_softmax, -1), tf.int32)\n",
    "        correct_prediction = tf.equal(self.y, self.prediction)\n",
    "        self.accuracy = tf.reduce_mean(tf.cast(correct_prediction, tf.float32))\n",
    "        error = 1.0 - self.accuracy\n",
    "\n",
    "        \n",
    "        # Tensorboard\n",
    "        tf.summary.scalar(\"cross-entropy\", self.cross_entropy)\n",
    "        tf.summary.scalar(\"error\", error)\n",
    "        self.summary_merged = tf.summary.merge_all()\n",
    "\n",
    "        # Init\n",
    "        self.init = tf.global_variables_initializer()\n"
   ]
  },
  {
   "cell_type": "code",
   "execution_count": 4,
   "metadata": {
    "collapsed": false,
    "scrolled": false
   },
   "outputs": [],
   "source": [
    "textlib = TextLibrary([  # add additional texts, to train concurrently on multiple txts:\n",
    "                        # 'data/tiny-shakespeare.txt',\n",
    "                        # 'bk/emma-jane-austen.txt',\n",
    "                        # 'bk/voyage-out-virginia-woolf.txt',\n",
    "                        # 'bk/pride-prejudice-jane-austen.txt',\n",
    "                        # 'bk/wuthering-heights-emily-bronte.txt',            \n",
    "                        # 'bk/musil.txt',\n",
    "                        'bk/HauptwerkePhilosophieKonig.txt',\n",
    "                        'bk/HeideggerGeier.txt',\n",
    "                        'bk/HeideggerSafranski.txt',\n",
    "                        'bk/HeideggerTrawny.txt',\n",
    "                        'bk/MythenKonig.txt',\n",
    "                        'bk/phaenomenologie.txt',\n",
    "                        'bk/MiphamAdornment.txt',\n",
    "                        'bk/MiphamSelflessness.txt',\n",
    "                        'bk/MiphamBeacon.txt',\n",
    "                        'bk/MiphamSpeechDelight.txt',\n",
    "                        'bk/MiphamVividAwareness.txt',\n",
    "                        'bk/MiphamWhiteLotus.txt',\n",
    "                        'bk/HumeEnquiry.txt',\n",
    "                        'bk/KantKritik.txt',\n",
    "                        'bk/KantProlegomena.txt',\n",
    "                        'bk/McEvilleyShapeAncientThought.txt',\n",
    "                        'bk/PenroseEmperorNewMind.txt',\n",
    "                        'bk/PenroseLargeSmall.txt',\n",
    "                        'bk/AristotelesPhysik.txt',\n",
    "                        'bk/PlatonWerke.txt',\n",
    "                        'bk/schopenhauer.txt',\n",
    "                        'bk/SearleMindIntroduction.txt',\n",
    "                        'bk/SearleMindLanguageSociety.txt',\n",
    "                        'bk/SearleNeurosciencePhilosophy.txt',\n",
    "                        'bk/SpinozaEthik.txt',\n",
    "                      ])\n",
    "\n",
    "params = {\n",
    "    \"vocab_size\": len(textlib.i2c),\n",
    "    \"neurons\": 256,\n",
    "    \"layers\": 8,\n",
    "    \"learning_rate\": 1.e-3,\n",
    "    \"steps\": 128,\n",
    "}\n",
    "\n",
    "model = TensorPoetModel(params)"
   ]
  },
  {
   "cell_type": "code",
   "execution_count": 19,
   "metadata": {
    "collapsed": false,
    "scrolled": false
   },
   "outputs": [
    {
     "name": "stdout",
     "output_type": "stream",
     "text": [
      "Tensorboard: 'tensorboard --logdir /home/dsc/git/AI/tensor-poet/tensorlog'\n",
      "Restoring checkpoint at 15500: /home/dsc/git/AI/tensor-poet/tensorlog/model.ckpt-15500\n",
      "Epoch: 10.01, iter: 15600, cross-entropy: 1.078, accuracy: 0.66534\n",
      "Epoch: 10.14, iter: 15800, cross-entropy: 1.090, accuracy: 0.66254\n",
      "Epoch: 10.27, iter: 16000, cross-entropy: 1.050, accuracy: 0.67480\n",
      "Epoch: 10.39, iter: 16200, cross-entropy: 1.104, accuracy: 0.66296\n",
      "Epoch: 10.52, iter: 16400, cross-entropy: 1.077, accuracy: 0.66907\n",
      "Epoch: 10.65, iter: 16600, cross-entropy: 1.083, accuracy: 0.66650\n",
      "Epoch: 10.78, iter: 16800, cross-entropy: 1.089, accuracy: 0.66718\n",
      "Epoch: 10.91, iter: 17000, cross-entropy: 1.080, accuracy: 0.66907\n",
      "Epoch: 11.04, iter: 17200, cross-entropy: 1.034, accuracy: 0.67841\n",
      "Epoch: 11.16, iter: 17400, cross-entropy: 1.065, accuracy: 0.67346\n",
      "Epoch: 11.29, iter: 17600, cross-entropy: 1.071, accuracy: 0.67572\n",
      "Epoch: 11.42, iter: 17800, cross-entropy: 1.065, accuracy: 0.66998\n",
      "Epoch: 11.55, iter: 18000, cross-entropy: 1.089, accuracy: 0.66821\n",
      "Epoch: 11.68, iter: 18200, cross-entropy: 1.098, accuracy: 0.66394\n",
      "Epoch: 11.81, iter: 18400, cross-entropy: 1.063, accuracy: 0.67389\n",
      "Epoch: 11.93, iter: 18600, cross-entropy: 1.026, accuracy: 0.68512\n",
      "Epoch: 12.06, iter: 18800, cross-entropy: 1.069, accuracy: 0.66852\n",
      "Epoch: 12.19, iter: 19000, cross-entropy: 1.071, accuracy: 0.67090\n",
      "Epoch: 12.32, iter: 19200, cross-entropy: 1.069, accuracy: 0.67139\n",
      "Epoch: 12.45, iter: 19400, cross-entropy: 1.076, accuracy: 0.67291\n",
      "Epoch: 12.58, iter: 19600, cross-entropy: 1.085, accuracy: 0.66748\n",
      "Epoch: 12.70, iter: 19800, cross-entropy: 1.041, accuracy: 0.68030\n",
      "Epoch: 12.83, iter: 20000, cross-entropy: 1.070, accuracy: 0.67676\n"
     ]
    },
    {
     "ename": "KeyboardInterrupt",
     "evalue": "",
     "output_type": "error",
     "traceback": [
      "\u001b[0;31m---------------------------------------------------------------------------\u001b[0m",
      "\u001b[0;31mKeyboardInterrupt\u001b[0m                         Traceback (most recent call last)",
      "\u001b[0;32m<ipython-input-19-8240c30c9dc2>\u001b[0m in \u001b[0;36m<module>\u001b[0;34m()\u001b[0m\n\u001b[1;32m     40\u001b[0m         i_state, _ = sess.run([model.final_state, model.training_op],\n\u001b[1;32m     41\u001b[0m                               feed_dict={model.X: X_batch, model.y: y_batch,\n\u001b[0;32m---> 42\u001b[0;31m                                          model.batch_size: batch_size, model.init_state: i_state})\n\u001b[0m\u001b[1;32m     43\u001b[0m \u001b[0;34m\u001b[0m\u001b[0m\n\u001b[1;32m     44\u001b[0m         \u001b[0;31m# Output training statistics every 100 iterations:\u001b[0m\u001b[0;34m\u001b[0m\u001b[0;34m\u001b[0m\u001b[0m\n",
      "\u001b[0;32m/usr/lib/python3.6/site-packages/tensorflow/python/client/session.py\u001b[0m in \u001b[0;36mrun\u001b[0;34m(self, fetches, feed_dict, options, run_metadata)\u001b[0m\n\u001b[1;32m    765\u001b[0m     \u001b[0;32mtry\u001b[0m\u001b[0;34m:\u001b[0m\u001b[0;34m\u001b[0m\u001b[0m\n\u001b[1;32m    766\u001b[0m       result = self._run(None, fetches, feed_dict, options_ptr,\n\u001b[0;32m--> 767\u001b[0;31m                          run_metadata_ptr)\n\u001b[0m\u001b[1;32m    768\u001b[0m       \u001b[0;32mif\u001b[0m \u001b[0mrun_metadata\u001b[0m\u001b[0;34m:\u001b[0m\u001b[0;34m\u001b[0m\u001b[0m\n\u001b[1;32m    769\u001b[0m         \u001b[0mproto_data\u001b[0m \u001b[0;34m=\u001b[0m \u001b[0mtf_session\u001b[0m\u001b[0;34m.\u001b[0m\u001b[0mTF_GetBuffer\u001b[0m\u001b[0;34m(\u001b[0m\u001b[0mrun_metadata_ptr\u001b[0m\u001b[0;34m)\u001b[0m\u001b[0;34m\u001b[0m\u001b[0m\n",
      "\u001b[0;32m/usr/lib/python3.6/site-packages/tensorflow/python/client/session.py\u001b[0m in \u001b[0;36m_run\u001b[0;34m(self, handle, fetches, feed_dict, options, run_metadata)\u001b[0m\n\u001b[1;32m    963\u001b[0m     \u001b[0;32mif\u001b[0m \u001b[0mfinal_fetches\u001b[0m \u001b[0;32mor\u001b[0m \u001b[0mfinal_targets\u001b[0m\u001b[0;34m:\u001b[0m\u001b[0;34m\u001b[0m\u001b[0m\n\u001b[1;32m    964\u001b[0m       results = self._do_run(handle, final_targets, final_fetches,\n\u001b[0;32m--> 965\u001b[0;31m                              feed_dict_string, options, run_metadata)\n\u001b[0m\u001b[1;32m    966\u001b[0m     \u001b[0;32melse\u001b[0m\u001b[0;34m:\u001b[0m\u001b[0;34m\u001b[0m\u001b[0m\n\u001b[1;32m    967\u001b[0m       \u001b[0mresults\u001b[0m \u001b[0;34m=\u001b[0m \u001b[0;34m[\u001b[0m\u001b[0;34m]\u001b[0m\u001b[0;34m\u001b[0m\u001b[0m\n",
      "\u001b[0;32m/usr/lib/python3.6/site-packages/tensorflow/python/client/session.py\u001b[0m in \u001b[0;36m_do_run\u001b[0;34m(self, handle, target_list, fetch_list, feed_dict, options, run_metadata)\u001b[0m\n\u001b[1;32m   1013\u001b[0m     \u001b[0;32mif\u001b[0m \u001b[0mhandle\u001b[0m \u001b[0;32mis\u001b[0m \u001b[0;32mNone\u001b[0m\u001b[0;34m:\u001b[0m\u001b[0;34m\u001b[0m\u001b[0m\n\u001b[1;32m   1014\u001b[0m       return self._do_call(_run_fn, self._session, feed_dict, fetch_list,\n\u001b[0;32m-> 1015\u001b[0;31m                            target_list, options, run_metadata)\n\u001b[0m\u001b[1;32m   1016\u001b[0m     \u001b[0;32melse\u001b[0m\u001b[0;34m:\u001b[0m\u001b[0;34m\u001b[0m\u001b[0m\n\u001b[1;32m   1017\u001b[0m       return self._do_call(_prun_fn, self._session, handle, feed_dict,\n",
      "\u001b[0;32m/usr/lib/python3.6/site-packages/tensorflow/python/client/session.py\u001b[0m in \u001b[0;36m_do_call\u001b[0;34m(self, fn, *args)\u001b[0m\n\u001b[1;32m   1020\u001b[0m   \u001b[0;32mdef\u001b[0m \u001b[0m_do_call\u001b[0m\u001b[0;34m(\u001b[0m\u001b[0mself\u001b[0m\u001b[0;34m,\u001b[0m \u001b[0mfn\u001b[0m\u001b[0;34m,\u001b[0m \u001b[0;34m*\u001b[0m\u001b[0margs\u001b[0m\u001b[0;34m)\u001b[0m\u001b[0;34m:\u001b[0m\u001b[0;34m\u001b[0m\u001b[0m\n\u001b[1;32m   1021\u001b[0m     \u001b[0;32mtry\u001b[0m\u001b[0;34m:\u001b[0m\u001b[0;34m\u001b[0m\u001b[0m\n\u001b[0;32m-> 1022\u001b[0;31m       \u001b[0;32mreturn\u001b[0m \u001b[0mfn\u001b[0m\u001b[0;34m(\u001b[0m\u001b[0;34m*\u001b[0m\u001b[0margs\u001b[0m\u001b[0;34m)\u001b[0m\u001b[0;34m\u001b[0m\u001b[0m\n\u001b[0m\u001b[1;32m   1023\u001b[0m     \u001b[0;32mexcept\u001b[0m \u001b[0merrors\u001b[0m\u001b[0;34m.\u001b[0m\u001b[0mOpError\u001b[0m \u001b[0;32mas\u001b[0m \u001b[0me\u001b[0m\u001b[0;34m:\u001b[0m\u001b[0;34m\u001b[0m\u001b[0m\n\u001b[1;32m   1024\u001b[0m       \u001b[0mmessage\u001b[0m \u001b[0;34m=\u001b[0m \u001b[0mcompat\u001b[0m\u001b[0;34m.\u001b[0m\u001b[0mas_text\u001b[0m\u001b[0;34m(\u001b[0m\u001b[0me\u001b[0m\u001b[0;34m.\u001b[0m\u001b[0mmessage\u001b[0m\u001b[0;34m)\u001b[0m\u001b[0;34m\u001b[0m\u001b[0m\n",
      "\u001b[0;32m/usr/lib/python3.6/site-packages/tensorflow/python/client/session.py\u001b[0m in \u001b[0;36m_run_fn\u001b[0;34m(session, feed_dict, fetch_list, target_list, options, run_metadata)\u001b[0m\n\u001b[1;32m   1002\u001b[0m         return tf_session.TF_Run(session, options,\n\u001b[1;32m   1003\u001b[0m                                  \u001b[0mfeed_dict\u001b[0m\u001b[0;34m,\u001b[0m \u001b[0mfetch_list\u001b[0m\u001b[0;34m,\u001b[0m \u001b[0mtarget_list\u001b[0m\u001b[0;34m,\u001b[0m\u001b[0;34m\u001b[0m\u001b[0m\n\u001b[0;32m-> 1004\u001b[0;31m                                  status, run_metadata)\n\u001b[0m\u001b[1;32m   1005\u001b[0m \u001b[0;34m\u001b[0m\u001b[0m\n\u001b[1;32m   1006\u001b[0m     \u001b[0;32mdef\u001b[0m \u001b[0m_prun_fn\u001b[0m\u001b[0;34m(\u001b[0m\u001b[0msession\u001b[0m\u001b[0;34m,\u001b[0m \u001b[0mhandle\u001b[0m\u001b[0;34m,\u001b[0m \u001b[0mfeed_dict\u001b[0m\u001b[0;34m,\u001b[0m \u001b[0mfetch_list\u001b[0m\u001b[0;34m)\u001b[0m\u001b[0;34m:\u001b[0m\u001b[0;34m\u001b[0m\u001b[0m\n",
      "\u001b[0;31mKeyboardInterrupt\u001b[0m: "
     ]
    }
   ],
   "source": [
    "# Training:\n",
    "max_iter = 1000000\n",
    "batch_size = 128\n",
    "generated_text_size = 500\n",
    "restoreCheckpoints = True\n",
    "generateDuringTraining = False\n",
    "verbose = False\n",
    "\n",
    "with tf.Session() as sess:\n",
    "    epl = len(textlib.data) / (batch_size * model.steps)\n",
    "    model.init.run()\n",
    "\n",
    "    tflogdir = os.path.realpath('tensorlog')\n",
    "    if not os.path.exists(tflogdir):\n",
    "        os.makedirs(tflogdir)\n",
    "    print(\"Tensorboard: 'tensorboard --logdir {}'\".format(tflogdir))\n",
    "\n",
    "    train_writer = tf.summary.FileWriter(tflogdir, sess.graph)\n",
    "    train_writer.add_graph(sess.graph)\n",
    "    \n",
    "    # Used for saving the training parameters periodically\n",
    "    saver = tf.train.Saver()\n",
    "    checkpoint_file = os.path.join(tflogdir, 'model.ckpt')\n",
    "    # FFR: tf.train.export_meta_graph(filename=None, meta_info_def=None, graph_def=None, saver_def=None, collection_list=None, as_text=False, graph=None, export_scope=None, clear_devices=False, **kwargs)\n",
    "    start_iter = 0\n",
    "    if restoreCheckpoints:\n",
    "        lastSave = tf.train.latest_checkpoint(tflogdir, latest_filename=None)\n",
    "        if lastSave is not None:\n",
    "            pt = lastSave.rfind('-')\n",
    "            if pt != -1:\n",
    "                pt += 1\n",
    "                start_iter=int(lastSave[pt:])\n",
    "            print(\"Restoring checkpoint at {}: {}\".format(start_iter, lastSave))\n",
    "            saver.restore(sess, lastSave)\n",
    "    \n",
    "    for iteration in range(start_iter, max_iter):\n",
    "        # Train with batches from the text library:\n",
    "        X_batch, y_batch = textlib.getRandomSampleBatch(batch_size, model.steps)\n",
    "        i_state = sess.run([model.init_state_0], feed_dict={model.batch_size: batch_size})\n",
    "        i_state, _ = sess.run([model.final_state, model.training_op],\n",
    "                              feed_dict={model.X: X_batch, model.y: y_batch,\n",
    "                                         model.batch_size: batch_size, model.init_state: i_state})\n",
    "\n",
    "        # Output training statistics every 100 iterations:\n",
    "        if iteration % 200 == 0:\n",
    "            ce, accuracy, prediction, summary = sess.run([model.cross_entropy,\n",
    "                                                          model.accuracy, model.prediction,\n",
    "                                                          model.summary_merged],\n",
    "                                             feed_dict={model.X: X_batch, model.y: y_batch,\n",
    "                                                        model.batch_size: batch_size})\n",
    "            train_writer.add_summary(summary, iteration)\n",
    "            ep = iteration / epl\n",
    "            print(\"Epoch: {0:.2f}, iter: {1:d}, cross-entropy: {2:.3f}, accuracy: {3:.5f}\".format(ep, iteration, ce, accuracy))\n",
    "            if verbose:\n",
    "                for ind in range(1): # model.batch_size):\n",
    "                    ys = textlib.decode(y_batch[ind]).replace('\\n', ' | ')\n",
    "                    yps = textlib.decode(prediction[ind]).replace('\\n', ' | ')\n",
    "                    print(\"   y:\", ys)\n",
    "                    print(\"  yp:\", yps)\n",
    "\n",
    "        # Generate sample texts for different temperature every 500 iterations:\n",
    "        if (iteration+1) % 500 == 0:\n",
    "            \n",
    "            # Save training data\n",
    "            saver.save(sess, checkpoint_file, global_step=iteration+1)\n",
    "\n",
    "            if generateDuringTraining:\n",
    "                # Generate sample\n",
    "                for t in range(2, 11, 4):\n",
    "                    temp = float(t) / 10.0;\n",
    "                    g_state = sess.run([model.init_state_0], feed_dict={model.batch_size: 1})\n",
    "                    xs = ' ' * model.steps\n",
    "                    xso = ''\n",
    "                    for i in range(generated_text_size):\n",
    "                        X_new = np.transpose([[textlib.c2i[sj]] for sj in xs])\n",
    "                        g_state, y_pred = sess.run([model.final_state, model.output_softmax_temp], \n",
    "                                                  feed_dict={model.X: X_new, model.init_state: g_state,\n",
    "                                                             model.batch_size: 1, model.temperature: temp})\n",
    "                        inds=list(range(model.vocab_size))\n",
    "                        ind = np.random.choice(inds, p=y_pred[0, -1].ravel())\n",
    "                        nc = textlib.i2c[ind]\n",
    "                        xso += nc\n",
    "                        xs = xs[1:]+nc\n",
    "\n",
    "                    print(\"----------------- temperature =\", temp, \"----------------------\")\n",
    "                    # print(xso)\n",
    "                    textlib.sourceHighlight(xso, 20)   # 20: minimum quote size detected.\n",
    "                print(\"---------------------------------------\")"
   ]
  },
  {
   "cell_type": "code",
   "execution_count": null,
   "metadata": {
    "collapsed": true
   },
   "outputs": [],
   "source": [
    "# Generating text using the model data generated during training.\n",
    "def ghostWriter(textsize, temperature=1.0):\n",
    "    xso = None\n",
    "    with tf.Session() as sess:\n",
    "        model.init.run()\n",
    "\n",
    "        tflogdir = os.path.realpath('tensorlog')\n",
    "        if not os.path.exists(tflogdir):\n",
    "            print(\"You haven't trained a model, no data found at: {}\".format(tflogdir))\n",
    "            return None\n",
    "\n",
    "        # Used for saving the training parameters periodically\n",
    "        saver = tf.train.Saver()\n",
    "        checkpoint_file = os.path.join(tflogdir, 'model.ckpt')\n",
    "\n",
    "        lastSave = tf.train.latest_checkpoint(tflogdir, latest_filename=None)\n",
    "        if lastSave is not None:\n",
    "            pt = lastSave.rfind('-')\n",
    "            if pt != -1:\n",
    "                pt += 1\n",
    "                start_iter=int(lastSave[pt:])\n",
    "            print(\"Restoring checkpoint at {}: {}\".format(start_iter, lastSave))\n",
    "            saver.restore(sess, lastSave)\n",
    "        else:\n",
    "            print(\"No checkpoints have been saved at:{}\".format(tflogdir))\n",
    "            return None\n",
    "\n",
    "        g_state = sess.run([model.init_state_0], feed_dict={model.batch_size: 1})\n",
    "        xs = ' ' * model.steps\n",
    "        xso = ''\n",
    "        for i in range(textsize):\n",
    "            X_new = np.transpose([[textlib.c2i[sj]] for sj in xs])\n",
    "            g_state, y_pred = sess.run([model.final_state, model.output_softmax_temp], \n",
    "                                      feed_dict={model.X: X_new, model.init_state: g_state,\n",
    "                                                 model.batch_size: 1, model.temperature: temperature})\n",
    "            inds=list(range(model.vocab_size))\n",
    "            ind = np.random.choice(inds, p=y_pred[0, -1].ravel())\n",
    "            nc = textlib.i2c[ind]\n",
    "            xso += nc\n",
    "            xs = xs[1:]+nc\n",
    "    return(xso)\n",
    "\n",
    "\n",
    "def detectPlagiarism(generatedtext, textlibrary, minQuoteLength=10):\n",
    "    textlibrary.sourceHighlight(generatedtext, minQuoteLength)\n",
    "    "
   ]
  },
  {
   "cell_type": "code",
   "execution_count": null,
   "metadata": {
    "collapsed": false,
    "scrolled": false
   },
   "outputs": [],
   "source": [
    "tgen=ghostWriter(10000)\n",
    "detectPlagiarism(tgen, textlib)"
   ]
  },
  {
   "cell_type": "code",
   "execution_count": 12,
   "metadata": {
    "collapsed": false
   },
   "outputs": [],
   "source": [
    "# Do a dialog with the recursive neural net trained above:\n",
    "# def genDialogAnswer(prompt, g_state=None, endPrompt='.', maxEndPrompts=2, maxAnswerSize=512, temperature=1.0):\n",
    "def doDialog():\n",
    "    temperature = 0.6  # 0.1 (frozen character) - 1.3 (creative/chaotic character)\n",
    "    endPrompt = '.'  # the endPrompt character is the end-mark in answers.\n",
    "    maxEndPrompts = 4  # look for number of maxEndPrompts until answer is finished.\n",
    "    maxAnswerSize = 2048  # Maximum length of the answer\n",
    "    minAnswerSize = 64  # Minimum length of the answer\n",
    "\n",
    "    with tf.Session() as sess:\n",
    "        print(\"Please enter some dialog.\")\n",
    "        print(\"The net will answer according to your input.\")\n",
    "        print(\"'bye' for end,\")\n",
    "        print(\"'temperature=<float>' [0.1(frozen)-1.0(creative)]\")\n",
    "        print(\"    to change character of the dialog.\")\n",
    "        print(\"    Current temperature={}.\".format(temperature))\n",
    "        print()\n",
    "        xso = None\n",
    "        bye = False\n",
    "        model.init.run()\n",
    "\n",
    "        tflogdir = os.path.realpath('tensorlog')\n",
    "        if not os.path.exists(tflogdir):\n",
    "            print(\"You haven't trained a model, no data found at: {}\".format(tflogdir))\n",
    "            return \n",
    "\n",
    "        # Used for saving the training parameters periodically\n",
    "        saver = tf.train.Saver()\n",
    "        checkpoint_file = os.path.join(tflogdir, 'model.ckpt')\n",
    "\n",
    "        lastSave = tf.train.latest_checkpoint(tflogdir, latest_filename=None)\n",
    "        if lastSave is not None:\n",
    "            pt = lastSave.rfind('-')\n",
    "            if pt != -1:\n",
    "                pt += 1\n",
    "                start_iter=int(lastSave[pt:])\n",
    "            # print(\"Restoring checkpoint at {}: {}\".format(start_iter, lastSave))\n",
    "            saver.restore(sess, lastSave)\n",
    "        else:\n",
    "            print(\"No checkpoints have been saved at:{}\".format(tflogdir))\n",
    "            return\n",
    "\n",
    "        g_state = sess.run([model.init_state_0], feed_dict={model.batch_size: 1})\n",
    "\n",
    "        bye = False\n",
    "        while not bye:\n",
    "            print(\"> \", end=\"\")\n",
    "            prompt = input()\n",
    "            if prompt == 'bye':\n",
    "                bye = True\n",
    "                print(\"Good bye!\")\n",
    "                continue\n",
    "            if prompt[:len(\"temperature=\")] == \"temperature=\":\n",
    "                t = float(prompt[len(\"temperature=\"):])\n",
    "                if t>0.05 and t<1.4:\n",
    "                    temperature = t\n",
    "                    print(\"(generator temperature now {})\".format(t))\n",
    "                    print()\n",
    "                    continue\n",
    "                print(\"Invalid temperature-value ignored! [0.1-1.0]\")\n",
    "                continue\n",
    "            xs = ' ' * model.steps\n",
    "            xso = ''\n",
    "            for rep in range(3):\n",
    "                for i in range(len(prompt)):\n",
    "                    xs = xs[1:]+prompt[i]\n",
    "                    X_new = np.transpose([[textlib.c2i[sj]] for sj in xs])\n",
    "                    g_state, y_pred = sess.run([model.final_state, model.output_softmax_temp], \n",
    "                                              feed_dict={model.X: X_new, model.init_state: g_state,\n",
    "                                                         model.batch_size: 1, model.temperature: temperature})\n",
    "            ans=0\n",
    "            numEndPrompts = 0\n",
    "            while (ans<maxAnswerSize and numEndPrompts < maxEndPrompts) or ans<minAnswerSize:\n",
    "\n",
    "                X_new = np.transpose([[textlib.c2i[sj]] for sj in xs])\n",
    "                g_state, y_pred = sess.run([model.final_state, model.output_softmax_temp], \n",
    "                                          feed_dict={model.X: X_new, model.init_state: g_state,\n",
    "                                                     model.batch_size: 1, model.temperature: temperature})\n",
    "                inds=list(range(model.vocab_size))\n",
    "                ind = np.random.choice(inds, p=y_pred[0, -1].ravel())\n",
    "                nc = textlib.i2c[ind]\n",
    "                if nc == endPrompt:\n",
    "                    numEndPrompts += 1\n",
    "                xso += nc\n",
    "                xs = xs[1:]+nc\n",
    "                ans += 1\n",
    "            textlib.sourceHighlight(xso, 13)\n",
    "            # print(xso.replace(\"\\\\n\",\"\\n\"))\n",
    "    return"
   ]
  },
  {
   "cell_type": "code",
   "execution_count": 20,
   "metadata": {
    "collapsed": false,
    "scrolled": false
   },
   "outputs": [
    {
     "name": "stdout",
     "output_type": "stream",
     "text": [
      "Please enter some dialog.\n",
      "The net will answer according to your input.\n",
      "'bye' for end,\n",
      "'temperature=<float>' [0.1(frozen)-1.0(creative)]\n",
      "    to change character of the dialog.\n",
      "    Current temperature=0.6.\n",
      "> Was ist die Brücke zwischen Dualismus und Einheit?\n"
     ]
    },
    {
     "data": {
      "text/html": [
       " – Ich na<span style=\"background-color:#e2d7d5;\">hm auch nicht </span><sup>[20]</sup>immer nu<span style=\"background-color:#edebd0;\">n zu eröffnen</span><sup>[21]</sup><span style=\"background-color:#e2d7d5;\">, und werden im</span><sup>[20]</sup><span style=\"background-color:#fdebd0;\">mer nur in der Er</span><sup>[14]</sup><span style=\"background-color:#fdebd0;\">kenntnis mit </span><sup>[14]</sup><span style=\"background-color:#edebd0;\">sich schlechthin zu</span><sup>[21]</sup><span style=\"background-color:#e2d7d5;\"> tun und auch </span><sup>[20]</sup><span style=\"background-color:#e2d7d5;\">es gesagt habe, </span><sup>[20]</sup><span style=\"background-color:#e2d7d5;\">und auch nicht vo</span><sup>[20]</sup><span style=\"background-color:#ecf3cf;\">rzustellen, was sie a</span><sup>[6]</sup><span style=\"background-color:#e2d7d5;\">usspricht, au</span><sup>[20]</sup><span style=\"background-color:#ecf3cf;\">ßer dem Seienden </span><sup>[6]</sup><span style=\"background-color:#d8daef;\">erkennen, sondern </span><sup>[1]</sup><span style=\"background-color:#fdebd0;\">in der Natur ges</span><sup>[14]</sup><span style=\"background-color:#e2d7d5;\">etzt ist, daß e</span><sup>[20]</sup><span style=\"background-color:#edebd0;\">s auch sei, als </span><sup>[21]</sup>sein Fallen bekomm<span style=\"background-color:#ebdef0;\">t, gegen die </span><sup>[2]</sup><span style=\"background-color:#edebd0;\">bestehende Reg</span><sup>[5]</sup>ier<span style=\"background-color:#fdebd0;\">ende und nicht </span><sup>[14]</sup>in<span style=\"background-color:#d8daef;\"> der Verantwortung </span><sup>[1]</sup><span style=\"background-color:#edebd0;\">eines Theiles, </span><sup>[21]</sup><span style=\"background-color:#ecf3cf;\">welches in der </span><sup>[6]</sup><span style=\"background-color:#ecf3cf;\">Welt der Wahr</span><sup>[6]</sup><span style=\"background-color:#edebd0;\">heit gehört, </span><sup>[21]</sup><span style=\"background-color:#e2d7d5;\">der nicht in der </span><sup>[20]</sup><span style=\"background-color:#edebd0;\">andern Seite s</span><sup>[21]</sup><span style=\"background-color:#ecf3cf;\">ich bewegt, ist </span><sup>[6]</sup><span style=\"background-color:#ecf3cf;\">die des Selbstbewußtseins</span><sup>[6]</sup>, welche<span style=\"background-color:#edebd0;\">s welches den </span><sup>[21]</sup><span style=\"background-color:#e2d7d5;\">gegenständlichen </span><sup>[4]</sup><span style=\"background-color:#fdebd0;\">Vorstellungen zu </span><sup>[14]</sup>i<span style=\"background-color:#e2d7d5;\">hren und der </span><sup>[20]</sup>einzel<span style=\"background-color:#ecf3cf;\">nen Unmittelbarkeit </span><sup>[6]</sup><span style=\"background-color:#ecf3cf;\">ist. Aber die </span><sup>[6]</sup>Ei<span style=\"background-color:#ecf3cf;\">nheit ist nicht </span><sup>[6]</sup>nur<span style=\"background-color:#eadbd8;\"> Eins sein und </span><sup>[19]</sup>d<span style=\"background-color:#d6eaf8;\">as sein Vermögen </span><sup>[25]</sup><span style=\"background-color:#ecf3cf;\">vorhanden. Denn a</span><sup>[6]</sup><span style=\"background-color:#fdebd0;\">lle Kausalität </span><sup>[14]</sup><span style=\"background-color:#edebd0;\">aber ist es, wor</span><sup>[21]</sup><span style=\"background-color:#ecf3cf;\">in es selbst </span><sup>[6]</sup>ein<span style=\"background-color:#ecf3cf;\">e ihre Bestimmtheit</span><sup>[6]</sup> ausmacht, d.i."
      ],
      "text/plain": [
       "<IPython.core.display.HTML object>"
      ]
     },
     "metadata": {},
     "output_type": "display_data"
    },
    {
     "data": {
      "text/html": [
       "<small><p style=\"text-align:right;\">Sources: <span style=\"background-color:#e2d7d5;\">PlatonWerke</span><sup>[20]</sup>, <span style=\"background-color:#edebd0;\">schopenhauer</span><sup>[21]</sup>, <span style=\"background-color:#fdebd0;\">KantKritik</span><sup>[14]</sup>, <span style=\"background-color:#ecf3cf;\">phaenomenologie</span><sup>[6]</sup>, <span style=\"background-color:#d8daef;\">HauptwerkePhilosophieKonig</span><sup>[1]</sup>, <span style=\"background-color:#ebdef0;\">HeideggerGeier</span><sup>[2]</sup>, <span style=\"background-color:#edebd0;\">MythenKonig</span><sup>[5]</sup>, <span style=\"background-color:#e2d7d5;\">HeideggerTrawny</span><sup>[4]</sup>, <span style=\"background-color:#eadbd8;\">AristotelesPhysik</span><sup>[19]</sup>, <span style=\"background-color:#d6eaf8;\">SpinozaEthik</span><sup>[25]</sup></p></small>"
      ],
      "text/plain": [
       "<IPython.core.display.HTML object>"
      ]
     },
     "metadata": {},
     "output_type": "display_data"
    },
    {
     "name": "stdout",
     "output_type": "stream",
     "text": [
      "> Is there a connection between dualism and unity?\n"
     ]
    },
    {
     "data": {
      "text/html": [
       "<span style=\"background-color:#ebdef0;\"> I think there is </span><sup>[18]</sup><span style=\"background-color:#d4efdf;\">no different </span><sup>[7]</sup><span style=\"background-color:#d6dbdf;\">people to be </span><sup>[11]</sup>very<span style=\"background-color:#d6dbdf;\"> good and that </span><sup>[11]</sup><span style=\"background-color:#ecf3cf;\">the mind is its</span><sup>[22]</sup><span style=\"background-color:#d4efdf;\">elf the object</span><sup>[7]</sup><span style=\"background-color:#d4e6f1;\"> of a specific </span><sup>[16]</sup>memb<span style=\"background-color:#d0ece7;\">er. It would be </span><sup>[24]</sup><span style=\"background-color:#ecf3cf;\">no such thing as the self </span><sup>[22]</sup><span style=\"background-color:#d6eaf8;\">and what is not </span><sup>[9]</sup>really impart<span style=\"background-color:#d4efdf;\">ial. It is th</span><sup>[7]</sup><span style=\"background-color:#d4e6f1;\">erefore extreme</span><sup>[10]</sup> to clou<span style=\"background-color:#d4e6f1;\">d, the effect </span><sup>[10]</sup><span style=\"background-color:#d4e6f1;\">of the two truths are </span><sup>[10]</sup><span style=\"background-color:#d8daef;\">experienced by the s</span><sup>[17]</sup>ens<span style=\"background-color:#d6dbdf;\">e that is present a</span><sup>[11]</sup>nd<span style=\"background-color:#d4efdf;\"> the self is </span><sup>[7]</sup><span style=\"background-color:#d4efdf;\">consciousness and m</span><sup>[7]</sup>ean<span style=\"background-color:#d4e6f1;\">s to be the s</span><sup>[10]</sup><span style=\"background-color:#d4e6f1;\">elf, and so on. </span><sup>[16]</sup>A<span style=\"background-color:#d4efdf;\">ll subjects are </span><sup>[7]</sup>first used<span style=\"background-color:#d8daef;\"> for a conscious</span><sup>[17]</sup><span style=\"background-color:#d4e6f1;\">ness of the mind </span><sup>[10]</sup><span style=\"background-color:#d4efdf;\">and the chair </span><sup>[23]</sup><span style=\"background-color:#d4e6f1;\">of any of the </span><sup>[10]</sup>people."
      ],
      "text/plain": [
       "<IPython.core.display.HTML object>"
      ]
     },
     "metadata": {},
     "output_type": "display_data"
    },
    {
     "data": {
      "text/html": [
       "<small><p style=\"text-align:right;\">Sources: <span style=\"background-color:#ebdef0;\">PenroseLargeSmall</span><sup>[18]</sup>, <span style=\"background-color:#d4efdf;\">MiphamAdornment</span><sup>[7]</sup>, <span style=\"background-color:#d6dbdf;\">MiphamVividAwareness</span><sup>[11]</sup>, <span style=\"background-color:#ecf3cf;\">SearleMindIntroduction</span><sup>[22]</sup>, <span style=\"background-color:#d4e6f1;\">McEvilleyShapeAncientThought</span><sup>[16]</sup>, <span style=\"background-color:#d0ece7;\">SearleNeurosciencePhilosophy</span><sup>[24]</sup>, <span style=\"background-color:#d6eaf8;\">MiphamBeacon</span><sup>[9]</sup>, <span style=\"background-color:#d4e6f1;\">MiphamSpeechDelight</span><sup>[10]</sup>, <span style=\"background-color:#d8daef;\">PenroseEmperorNewMind</span><sup>[17]</sup>, <span style=\"background-color:#d4efdf;\">SearleMindLanguageSociety</span><sup>[23]</sup></p></small>"
      ],
      "text/plain": [
       "<IPython.core.display.HTML object>"
      ]
     },
     "metadata": {},
     "output_type": "display_data"
    },
    {
     "name": "stdout",
     "output_type": "stream",
     "text": [
      "> Was ist die letztendliche Wahrheit allen Seins?\n"
     ]
    },
    {
     "data": {
      "text/html": [
       "<span style=\"background-color:#d8daef;\"> oder sollte e</span><sup>[1]</sup>r d<span style=\"background-color:#e2d7d5;\">en Reden, und </span><sup>[20]</sup>nicht<span style=\"background-color:#e2d7d5;\">s so scheint, </span><sup>[20]</sup><span style=\"background-color:#ecf3cf;\">so kann es nicht </span><sup>[6]</sup><span style=\"background-color:#e2d7d5;\">notwendig auf die </span><sup>[20]</sup><span style=\"background-color:#e2d7d5;\">andere Erklärung </span><sup>[20]</sup>d<span style=\"background-color:#edebd0;\">es andern als d</span><sup>[21]</sup><span style=\"background-color:#e2d7d5;\">ie Untersuchung von </span><sup>[20]</sup><span style=\"background-color:#edebd0;\">der Erkenntnis der </span><sup>[5]</sup>Seel<span style=\"background-color:#eadbd8;\">e in ihnen ge</span><sup>[3]</sup><span style=\"background-color:#edebd0;\">nommen werden.<br><br></span><sup>[5]</sup><span style=\"background-color:#e2d7d5;\">Protarchos: Allerdings.<br><br>Sokrates: Und die </span><sup>[20]</sup><span style=\"background-color:#edebd0;\">Staatsverfassung und </span><sup>[21]</sup><span style=\"background-color:#edebd0;\">die Herrschaft der </span><sup>[5]</sup><span style=\"background-color:#eadbd8;\">Schafe von de</span><sup>[3]</sup>m<span style=\"background-color:#e2d7d5;\"> vielen Andern </span><sup>[20]</sup><span style=\"background-color:#e2d7d5;\">willst du dich auch </span><sup>[20]</sup>jetzt<span style=\"background-color:#e2d7d5;\"> gewaltsam an </span><sup>[20]</sup><span style=\"background-color:#fdebd0;\">der Natur der Vernunft </span><sup>[14]</sup>zu dem<span style=\"background-color:#e2d7d5;\"> welchen eine </span><sup>[20]</sup>Weis<span style=\"background-color:#fdebd0;\">e entweder ge</span><sup>[14]</sup><span style=\"background-color:#eadbd8;\">sund zu werden, </span><sup>[19]</sup>so<span style=\"background-color:#e2d7d5;\"> daß er das Ges</span><sup>[20]</sup>e<span style=\"background-color:#d8daef;\">tz der Erkenntnis </span><sup>[1]</sup><span style=\"background-color:#edebd0;\">geben kann, zu</span><sup>[21]</sup><span style=\"background-color:#e2d7d5;\"> gehören, und je</span><sup>[20]</sup><span style=\"background-color:#fdebd0;\">ne eine andere </span><sup>[14]</sup><span style=\"background-color:#e2d7d5;\">werden, und ih</span><sup>[20]</sup>r<span style=\"background-color:#d8daef;\"> Unternehmen </span><sup>[1]</sup><span style=\"background-color:#e2d7d5;\">und der Erkenntnis a</span><sup>[20]</sup><span style=\"background-color:#edebd0;\">ber ist uns a priori </span><sup>[21]</sup><span style=\"background-color:#fdebd0;\">ein verschiedenes </span><sup>[14]</sup><span style=\"background-color:#e5e8e8;\">Wesen der Erfahrung</span><sup>[15]</sup><span style=\"background-color:#e2d7d5;\">. Wenn aber ein </span><sup>[20]</sup>Mal der Stock<span style=\"background-color:#eadbd8;\">, aus der absoluten </span><sup>[3]</sup><span style=\"background-color:#eadbd8;\">Welt als solche</span><sup>[3]</sup><span style=\"background-color:#edebd0;\">n aussprechende </span><sup>[21]</sup><span style=\"background-color:#ecf3cf;\">Form des reinen </span><sup>[6]</sup><span style=\"background-color:#fdebd0;\">Verstandes an </span><sup>[14]</sup>i<span style=\"background-color:#fdebd0;\">hr sein können, </span><sup>[14]</sup>da<span style=\"background-color:#edebd0;\">s die Vollständigkeit </span><sup>[21]</sup><span style=\"background-color:#edebd0;\">der Sache selbst au</span><sup>[21]</sup><span style=\"background-color:#edebd0;\">ch erscheint, d</span><sup>[21]</sup><span style=\"background-color:#eadbd8;\">er mit den Ge</span><sup>[3]</sup><span style=\"background-color:#e2d7d5;\">genständen der </span><sup>[4]</sup><span style=\"background-color:#fdebd0;\">Dinge auf dem</span><sup>[14]</sup><span style=\"background-color:#edebd0;\"> Willen ausgehenden </span><sup>[21]</sup><span style=\"background-color:#ecf3cf;\">Einheit ist, </span><sup>[6]</sup><span style=\"background-color:#ecf3cf;\">als solche in </span><sup>[6]</sup><span style=\"background-color:#e5e8e8;\">Ansehung aller Gegenstände </span><sup>[15]</sup>von so<span style=\"background-color:#fdebd0;\">lchem Erkenntni</span><sup>[14]</sup>ßgrunden nach<span style=\"background-color:#edebd0;\">, ein Bewußtseyn s</span><sup>[21]</sup>teh<span style=\"background-color:#edebd0;\">t; so können wir d</span><sup>[21]</sup>auern<span style=\"background-color:#edebd0;\">de Arten der </span><sup>[21]</sup><span style=\"background-color:#fdebd0;\">Vernunft die Einheit der Er</span><sup>[14]</sup>fahrun<span style=\"background-color:#d6eaf8;\">g gesagt werden</span><sup>[25]</sup><span style=\"background-color:#eadbd8;\"> können, und w</span><sup>[3]</sup>a<span style=\"background-color:#edebd0;\">s sie erkennen</span><sup>[21]</sup><span style=\"background-color:#eadbd8;\"> können, und das</span><sup>[3]</sup><span style=\"background-color:#edebd0;\">selbe ist, daß </span><sup>[21]</sup><span style=\"background-color:#e2d7d5;\">man sie von der Er</span><sup>[20]</sup>fa<span style=\"background-color:#ecf3cf;\">hrung an der </span><sup>[6]</sup><span style=\"background-color:#ecf3cf;\">Natur, als die </span><sup>[6]</sup><span style=\"background-color:#d8daef;\">Leidenschaft und </span><sup>[1]</sup><span style=\"background-color:#edebd0;\">den Formen der Er</span><sup>[21]</sup><span style=\"background-color:#fdebd0;\">fahrung nach </span><sup>[14]</sup><span style=\"background-color:#eadbd8;\">der eigenthümlichen </span><sup>[19]</sup><span style=\"background-color:#fdebd0;\">Erkenntnisart au</span><sup>[14]</sup>f<span style=\"background-color:#eadbd8;\"> die Entscheidung i</span><sup>[3]</sup>hr<span style=\"background-color:#edebd0;\">er Prämissen a</span><sup>[21]</sup>llererst vereinigt."
      ],
      "text/plain": [
       "<IPython.core.display.HTML object>"
      ]
     },
     "metadata": {},
     "output_type": "display_data"
    },
    {
     "data": {
      "text/html": [
       "<small><p style=\"text-align:right;\">Sources: <span style=\"background-color:#d8daef;\">HauptwerkePhilosophieKonig</span><sup>[1]</sup>, <span style=\"background-color:#e2d7d5;\">PlatonWerke</span><sup>[20]</sup>, <span style=\"background-color:#ecf3cf;\">phaenomenologie</span><sup>[6]</sup>, <span style=\"background-color:#edebd0;\">schopenhauer</span><sup>[21]</sup>, <span style=\"background-color:#edebd0;\">MythenKonig</span><sup>[5]</sup>, <span style=\"background-color:#eadbd8;\">HeideggerSafranski</span><sup>[3]</sup>, <span style=\"background-color:#fdebd0;\">KantKritik</span><sup>[14]</sup>, <span style=\"background-color:#eadbd8;\">AristotelesPhysik</span><sup>[19]</sup>, <span style=\"background-color:#e5e8e8;\">KantProlegomena</span><sup>[15]</sup>, <span style=\"background-color:#e2d7d5;\">HeideggerTrawny</span><sup>[4]</sup>, <span style=\"background-color:#d6eaf8;\">SpinozaEthik</span><sup>[25]</sup></p></small>"
      ],
      "text/plain": [
       "<IPython.core.display.HTML object>"
      ]
     },
     "metadata": {},
     "output_type": "display_data"
    },
    {
     "name": "stdout",
     "output_type": "stream",
     "text": [
      "> Gibt es einen grundlegenden Begriff der Moral? Oder anders ausgedrückt: wie bestimmen wir, was gutes Handeln ist?\n"
     ]
    },
    {
     "data": {
      "text/html": [
       "<span style=\"background-color:#e2d7d5;\"> – Nein, sagte ich, </span><sup>[20]</sup>wenn<span style=\"background-color:#e2d7d5;\"> er ja wohl nicht </span><sup>[20]</sup>weiß<span style=\"background-color:#eadbd8;\">.<br><br><br><br><br><br>Achtes Capitel<br><br><br><br><br><br></span><sup>[19]</sup><span style=\"background-color:#e2d7d5;\"><br><br>Platon<br><br><br><br><br><br></span><sup>[20]</sup>E<span style=\"background-color:#e2d7d5;\">in solcher Ver</span><sup>[20]</sup>hältnis das einst<span style=\"background-color:#edebd0;\"> zu entschlagen</span><sup>[21]</sup><span style=\"background-color:#e2d7d5;\">, daß das Schiff</span><sup>[20]</sup>e<span style=\"background-color:#e2d7d5;\"> selbst scheint </span><sup>[20]</sup><span style=\"background-color:#e2d7d5;\">und auch mit de</span><sup>[20]</sup><span style=\"background-color:#e2d7d5;\">r gerechten und der </span><sup>[20]</sup><span style=\"background-color:#d8daef;\">gegenwärtigen und </span><sup>[1]</sup><span style=\"background-color:#ecf3cf;\">noch nicht für sich selbst </span><sup>[6]</sup><span style=\"background-color:#ecf3cf;\">sich hineinge</span><sup>[6]</sup><span style=\"background-color:#fdebd0;\">worfen haben, </span><sup>[14]</sup><span style=\"background-color:#e2d7d5;\">nicht aber das G</span><sup>[20]</sup>esag<span style=\"background-color:#e2d7d5;\">te bestehe, und </span><sup>[20]</sup><span style=\"background-color:#ebdef0;\">wie er selbst </span><sup>[2]</sup><span style=\"background-color:#e2d7d5;\">in der Seele ist </span><sup>[20]</sup><span style=\"background-color:#ebdef0;\">und der Gesamt</span><sup>[2]</sup> sein mag<span style=\"background-color:#edebd0;\">, oder das andere </span><sup>[21]</sup>K<span style=\"background-color:#ecf3cf;\">einer und der </span><sup>[6]</sup>Reichtum<span style=\"background-color:#e2d7d5;\">? – Das dünkt mich wohl, sagte </span><sup>[20]</sup><span style=\"background-color:#e2d7d5;\">ich. – Nicht a</span><sup>[20]</sup>ndersw<span style=\"background-color:#e2d7d5;\">ie also nicht au</span><sup>[20]</sup><span style=\"background-color:#e2d7d5;\">ch die Sternkunde</span><sup>[20]</sup><span style=\"background-color:#e2d7d5;\">. – Freilich.</span><sup>[20]</sup>"
      ],
      "text/plain": [
       "<IPython.core.display.HTML object>"
      ]
     },
     "metadata": {},
     "output_type": "display_data"
    },
    {
     "data": {
      "text/html": [
       "<small><p style=\"text-align:right;\">Sources: <span style=\"background-color:#e2d7d5;\">PlatonWerke</span><sup>[20]</sup>, <span style=\"background-color:#eadbd8;\">AristotelesPhysik</span><sup>[19]</sup>, <span style=\"background-color:#edebd0;\">schopenhauer</span><sup>[21]</sup>, <span style=\"background-color:#d8daef;\">HauptwerkePhilosophieKonig</span><sup>[1]</sup>, <span style=\"background-color:#ecf3cf;\">phaenomenologie</span><sup>[6]</sup>, <span style=\"background-color:#fdebd0;\">KantKritik</span><sup>[14]</sup>, <span style=\"background-color:#ebdef0;\">HeideggerGeier</span><sup>[2]</sup></p></small>"
      ],
      "text/plain": [
       "<IPython.core.display.HTML object>"
      ]
     },
     "metadata": {},
     "output_type": "display_data"
    },
    {
     "name": "stdout",
     "output_type": "stream",
     "text": [
      "> what is the foundation of morality and good action?\n"
     ]
    },
    {
     "data": {
      "text/html": [
       " A<span style=\"background-color:#d4efdf;\">nd the reality </span><sup>[23]</sup><span style=\"background-color:#d4efdf;\">of emptiness is the </span><sup>[7]</sup><span style=\"background-color:#d6eaf8;\">expression of the a</span><sup>[9]</sup>nci<span style=\"background-color:#d4efdf;\">ent perception</span><sup>[7]</sup><span style=\"background-color:#d4efdf;\"> of all phenomena, </span><sup>[7]</sup>and<span style=\"background-color:#d4efdf;\"> dispels the ex</span><sup>[7]</sup><span style=\"background-color:#d4efdf;\">perience, the </span><sup>[7]</sup><span style=\"background-color:#d4efdf;\">reality of the b</span><sup>[23]</sup>ody<span style=\"background-color:#fae5d3;\"> is an animal </span><sup>[13]</sup><span style=\"background-color:#d4e6f1;\">substance of </span><sup>[10]</sup>o<span style=\"background-color:#d8daef;\">ther than something t</span><sup>[17]</sup>o the <span style=\"background-color:#d4efdf;\">self. If the </span><sup>[7]</sup><span style=\"background-color:#d4e6f1;\">words are not </span><sup>[10]</sup>acce<span style=\"background-color:#d4efdf;\">ssible for the </span><sup>[7]</sup>case are “unders<span style=\"background-color:#ecf3cf;\">tative states</span><sup>[22]</sup>” (Bde<span style=\"background-color:#d4efdf;\">a). These are </span><sup>[7]</sup>many as mus<span style=\"background-color:#d4e6f1;\">t be seen as </span><sup>[16]</sup>it<span style=\"background-color:#d4efdf;\"> is a restrict</span><sup>[23]</sup><span style=\"background-color:#d4efdf;\">ive interpretation</span><sup>[23]</sup><span style=\"background-color:#fae5d3;\"> of the effects</span><sup>[13]</sup><span style=\"background-color:#d6eaf8;\">, but it is s</span><sup>[9]</sup><span style=\"background-color:#d4efdf;\">aid that the appr</span><sup>[7]</sup>ehen<span style=\"background-color:#d6eaf8;\">sion of complete</span><sup>[9]</sup><span style=\"background-color:#d4efdf;\">s the apprehending </span><sup>[7]</sup>a<span style=\"background-color:#d4e6f1;\">nd in the nonexisten</span><sup>[16]</sup><span style=\"background-color:#d4e6f1;\">ce of each of t</span><sup>[16]</sup><span style=\"background-color:#d4efdf;\">he consciousness, </span><sup>[7]</sup><span style=\"background-color:#d4efdf;\">but in the other</span><sup>[23]</sup><span style=\"background-color:#d4e6f1;\"> hand, is the s</span><sup>[16]</sup>am<span style=\"background-color:#d4efdf;\">e thing to be </span><sup>[7]</sup><span style=\"background-color:#d4efdf;\">produced; and i</span><sup>[7]</sup><span style=\"background-color:#d4e6f1;\">f something per</span><sup>[10]</sup>ceiv<span style=\"background-color:#d4efdf;\">es the approximate </span><sup>[7]</sup><span style=\"background-color:#d4efdf;\">of the intentionality, </span><sup>[23]</sup><span style=\"background-color:#d8daef;\">it would be the s</span><sup>[17]</sup><span style=\"background-color:#d4e6f1;\">upreme position</span><sup>[10]</sup><span style=\"background-color:#d4e6f1;\"> of any mind </span><sup>[16]</sup><span style=\"background-color:#ecf3cf;\">is supposed to be t</span><sup>[22]</sup>reated<span style=\"background-color:#d4efdf;\"> as empty of t</span><sup>[7]</sup><span style=\"background-color:#f6ddcc;\">he mind and the s</span><sup>[12]</sup><span style=\"background-color:#d4efdf;\">outh and the </span><sup>[7]</sup><span style=\"background-color:#d8daef;\">answer to the s</span><sup>[17]</sup>a<span style=\"background-color:#d4e6f1;\">me particle t</span><sup>[10]</sup><span style=\"background-color:#d4efdf;\">o the problem of </span><sup>[7]</sup><span style=\"background-color:#d4e6f1;\">structure in the </span><sup>[16]</sup>three faces (and so on-and-dow<span style=\"background-color:#ecf3cf;\">n processes, i</span><sup>[22]</sup>s<span style=\"background-color:#d4e6f1;\"> what is that </span><sup>[16]</sup><span style=\"background-color:#ecf3cf;\">follows that we are </span><sup>[22]</sup>used<span style=\"background-color:#d4e6f1;\"> for a whole </span><sup>[16]</sup>mass of<span style=\"background-color:#fae5d3;\"> life. These </span><sup>[13]</sup><span style=\"background-color:#d6dbdf;\">instructions m</span><sup>[11]</sup><span style=\"background-color:#ebdef0;\">ay be able to a</span><sup>[18]</sup><span style=\"background-color:#d8daef;\">ctually do not </span><sup>[17]</sup>exis<span style=\"background-color:#fae5d3;\">t by the mind</span><sup>[13]</sup><span style=\"background-color:#d4efdf;\"> and so forth.</span><sup>[7]</sup>"
      ],
      "text/plain": [
       "<IPython.core.display.HTML object>"
      ]
     },
     "metadata": {},
     "output_type": "display_data"
    },
    {
     "data": {
      "text/html": [
       "<small><p style=\"text-align:right;\">Sources: <span style=\"background-color:#d4efdf;\">SearleMindLanguageSociety</span><sup>[23]</sup>, <span style=\"background-color:#d4efdf;\">MiphamAdornment</span><sup>[7]</sup>, <span style=\"background-color:#d6eaf8;\">MiphamBeacon</span><sup>[9]</sup>, <span style=\"background-color:#fae5d3;\">HumeEnquiry</span><sup>[13]</sup>, <span style=\"background-color:#d4e6f1;\">MiphamSpeechDelight</span><sup>[10]</sup>, <span style=\"background-color:#d8daef;\">PenroseEmperorNewMind</span><sup>[17]</sup>, <span style=\"background-color:#ecf3cf;\">SearleMindIntroduction</span><sup>[22]</sup>, <span style=\"background-color:#d4e6f1;\">McEvilleyShapeAncientThought</span><sup>[16]</sup>, <span style=\"background-color:#f6ddcc;\">MiphamWhiteLotus</span><sup>[12]</sup>, <span style=\"background-color:#d6dbdf;\">MiphamVividAwareness</span><sup>[11]</sup>, <span style=\"background-color:#ebdef0;\">PenroseLargeSmall</span><sup>[18]</sup></p></small>"
      ],
      "text/plain": [
       "<IPython.core.display.HTML object>"
      ]
     },
     "metadata": {},
     "output_type": "display_data"
    },
    {
     "name": "stdout",
     "output_type": "stream",
     "text": [
      "> temperature=1.2\n",
      "(generator temperature now 1.2)\n",
      "> what is the nature of mind?\n"
     ]
    },
    {
     "data": {
      "text/html": [
       "<br><br>A mas<span style=\"background-color:#d0ece7;\">s between psychological </span><sup>[24]</sup>net collecting tertion (IEI.26), “How altkered five baz types of Badylonia,”<span style=\"background-color:#d8daef;\"> on the various a</span><sup>[17]</sup>ccu<span style=\"background-color:#d8daef;\">nding machine</span><sup>[17]</sup>s and nacrotubule will be always, he<span style=\"background-color:#d4e6f1;\"> generated. But i</span><sup>[16]</sup><span style=\"background-color:#d4e6f1;\">n terms of the k</span><sup>[10]</sup>he<span style=\"background-color:#ecf3cf;\">at terminology </span><sup>[22]</sup>of the applies of now;<span style=\"background-color:#d4e6f1;\"> as their pat</span><sup>[10]</sup>tern, before aurterici<span style=\"background-color:#d8daef;\">es initially </span><sup>[17]</sup><span style=\"background-color:#d4efdf;\">established w</span><sup>[7]</sup>hen be<span style=\"background-color:#d8daef;\">ing, would th</span><sup>[17]</sup>ink, so when you;<span style=\"background-color:#fae5d3;\"> that every ar</span><sup>[13]</sup>t, not-homel<span style=\"background-color:#d6eaf8;\">and.<br><br>In the </span><sup>[9]</sup>Skep<span style=\"background-color:#d8daef;\">tical theory that</span><sup>[17]</sup><span style=\"background-color:#d8daef;\">, so what we </span><sup>[17]</sup>‘proved<span style=\"background-color:#d4e6f1;\"> three-dimensional </span><sup>[16]</sup>hemisphemess) mere<span style=\"background-color:#d4e6f1;\">ly meaningful</span><sup>[10]</sup><br><br>3) runs mer to that."
      ],
      "text/plain": [
       "<IPython.core.display.HTML object>"
      ]
     },
     "metadata": {},
     "output_type": "display_data"
    },
    {
     "data": {
      "text/html": [
       "<small><p style=\"text-align:right;\">Sources: <span style=\"background-color:#d0ece7;\">SearleNeurosciencePhilosophy</span><sup>[24]</sup>, <span style=\"background-color:#d8daef;\">PenroseEmperorNewMind</span><sup>[17]</sup>, <span style=\"background-color:#d4e6f1;\">McEvilleyShapeAncientThought</span><sup>[16]</sup>, <span style=\"background-color:#d4e6f1;\">MiphamSpeechDelight</span><sup>[10]</sup>, <span style=\"background-color:#ecf3cf;\">SearleMindIntroduction</span><sup>[22]</sup>, <span style=\"background-color:#d4efdf;\">MiphamAdornment</span><sup>[7]</sup>, <span style=\"background-color:#fae5d3;\">HumeEnquiry</span><sup>[13]</sup>, <span style=\"background-color:#d6eaf8;\">MiphamBeacon</span><sup>[9]</sup></p></small>"
      ],
      "text/plain": [
       "<IPython.core.display.HTML object>"
      ]
     },
     "metadata": {},
     "output_type": "display_data"
    },
    {
     "name": "stdout",
     "output_type": "stream",
     "text": [
      "> temperature=0.8\n",
      "(generator temperature now 0.8)\n",
      "> What is the nature of mind?\n"
     ]
    },
    {
     "data": {
      "text/html": [
       "<span style=\"background-color:#d6dbdf;\"><br><br><br><br>This is what i</span><sup>[11]</sup>s a merpor<span style=\"background-color:#d4efdf;\"> of their object</span><sup>[7]</sup>-<span style=\"background-color:#d4e6f1;\">objects give </span><sup>[16]</sup>b<span style=\"background-color:#d4e6f1;\">y the nonexistence of </span><sup>[10]</sup><span style=\"background-color:#d4e6f1;\">the mind.<br><br><br><br></span><sup>[10]</sup>For<span style=\"background-color:#d6dbdf;\"> if that is the </span><sup>[11]</sup>same than fa<span style=\"background-color:#d4efdf;\">cts, it is th</span><sup>[7]</sup>erefor<span style=\"background-color:#d4e6f1;\">e release from </span><sup>[16]</sup><span style=\"background-color:#d4e6f1;\">the realm of c</span><sup>[10]</sup><span style=\"background-color:#ecf3cf;\">ausality, we </span><sup>[22]</sup><span style=\"background-color:#d4efdf;\">should appear </span><sup>[7]</sup>similarly all<span style=\"background-color:#d8daef;\">ows the same </span><sup>[17]</sup><span style=\"background-color:#d4e6f1;\">disintegratedness. </span><sup>[10]</sup><span style=\"background-color:#ecf3cf;\">It is important to see </span><sup>[22]</sup><span style=\"background-color:#d4efdf;\">such a cause </span><sup>[7]</sup><span style=\"background-color:#d4efdf;\">or different. </span><sup>[7]</sup><span style=\"background-color:#d4efdf;\">On the other hand, it was </span><sup>[7]</sup><span style=\"background-color:#fae5d3;\">sometimes to </span><sup>[13]</sup><span style=\"background-color:#d6eaf8;\">worry that th</span><sup>[9]</sup>e self<span style=\"background-color:#d4e6f1;\"> and such and </span><sup>[10]</sup><span style=\"background-color:#d8daef;\">unconscious s</span><sup>[17]</sup>quare act<span style=\"background-color:#d4e6f1;\">s may assert </span><sup>[10]</sup><span style=\"background-color:#d4efdf;\">that all phenomena </span><sup>[7]</sup><span style=\"background-color:#d4e6f1;\">incarnations are </span><sup>[16]</sup>un<span style=\"background-color:#d4e6f1;\">able to exist in </span><sup>[16]</sup><span style=\"background-color:#d4e6f1;\">the quest of </span><sup>[16]</sup><span style=\"background-color:#d8daef;\">experimental e</span><sup>[17]</sup>xperience."
      ],
      "text/plain": [
       "<IPython.core.display.HTML object>"
      ]
     },
     "metadata": {},
     "output_type": "display_data"
    },
    {
     "data": {
      "text/html": [
       "<small><p style=\"text-align:right;\">Sources: <span style=\"background-color:#d6dbdf;\">MiphamVividAwareness</span><sup>[11]</sup>, <span style=\"background-color:#d4efdf;\">MiphamAdornment</span><sup>[7]</sup>, <span style=\"background-color:#d4e6f1;\">McEvilleyShapeAncientThought</span><sup>[16]</sup>, <span style=\"background-color:#d4e6f1;\">MiphamSpeechDelight</span><sup>[10]</sup>, <span style=\"background-color:#ecf3cf;\">SearleMindIntroduction</span><sup>[22]</sup>, <span style=\"background-color:#d8daef;\">PenroseEmperorNewMind</span><sup>[17]</sup>, <span style=\"background-color:#fae5d3;\">HumeEnquiry</span><sup>[13]</sup>, <span style=\"background-color:#d6eaf8;\">MiphamBeacon</span><sup>[9]</sup></p></small>"
      ],
      "text/plain": [
       "<IPython.core.display.HTML object>"
      ]
     },
     "metadata": {},
     "output_type": "display_data"
    },
    {
     "name": "stdout",
     "output_type": "stream",
     "text": [
      "> temperature=0.2\n",
      "(generator temperature now 0.2)\n",
      "> What is the nature of mind?\n"
     ]
    },
    {
     "data": {
      "text/html": [
       " If<span style=\"background-color:#ecf3cf;\"> we are the s</span><sup>[22]</sup>am<span style=\"background-color:#d4e6f1;\">e as the self </span><sup>[10]</sup><span style=\"background-color:#d4efdf;\">in the experience of the </span><sup>[7]</sup><span style=\"background-color:#d6dbdf;\">mind to be the </span><sup>[11]</sup><span style=\"background-color:#d6dbdf;\">same as the s</span><sup>[11]</sup><span style=\"background-color:#d4e6f1;\">elf of the mind</span><sup>[16]</sup><span style=\"background-color:#d4e6f1;\">. It is not a se</span><sup>[16]</sup><span style=\"background-color:#f6ddcc;\">ries of the p</span><sup>[12]</sup><span style=\"background-color:#d4efdf;\">roperty of the s</span><sup>[7]</sup>elf<span style=\"background-color:#d4efdf;\"> and the self </span><sup>[7]</sup><span style=\"background-color:#ecf3cf;\">and the same thing </span><sup>[22]</sup><span style=\"background-color:#d4e6f1;\">as a series of th</span><sup>[16]</sup><span style=\"background-color:#d4efdf;\">e property of the </span><sup>[7]</sup><span style=\"background-color:#d8daef;\">internal states of the </span><sup>[17]</sup><span style=\"background-color:#d4efdf;\">problem of the </span><sup>[7]</sup><span style=\"background-color:#d4efdf;\">particle of the </span><sup>[7]</sup><span style=\"background-color:#d4efdf;\">self in the sense </span><sup>[7]</sup><span style=\"background-color:#d6dbdf;\">of the experience of the </span><sup>[11]</sup><span style=\"background-color:#ecf3cf;\">experience of the self in </span><sup>[22]</sup><span style=\"background-color:#d4efdf;\">the sense of the p</span><sup>[7]</sup><span style=\"background-color:#d6eaf8;\">erson who is </span><sup>[9]</sup><span style=\"background-color:#d6dbdf;\">an experience of the </span><sup>[11]</sup><span style=\"background-color:#d4efdf;\">mind, and the </span><sup>[7]</sup><span style=\"background-color:#ecf3cf;\">experience of the self i</span><sup>[22]</sup><span style=\"background-color:#d6dbdf;\">s the same as the s</span><sup>[11]</sup>elf<span style=\"background-color:#d4e6f1;\"> in the experience of the e</span><sup>[10]</sup><span style=\"background-color:#d4efdf;\">xperience of the c</span><sup>[7]</sup><span style=\"background-color:#d4efdf;\">ause of the pr</span><sup>[7]</sup><span style=\"background-color:#d4e6f1;\">operty of the a</span><sup>[16]</sup><span style=\"background-color:#d4efdf;\">pprehension of the p</span><sup>[7]</sup>erson<span style=\"background-color:#d4efdf;\"> who are not </span><sup>[7]</sup><span style=\"background-color:#d4e6f1;\">anything that is not </span><sup>[16]</sup><span style=\"background-color:#d4efdf;\">a conscious field </span><sup>[23]</sup><span style=\"background-color:#d4efdf;\">of any object</span><sup>[7]</sup>. T<span style=\"background-color:#d4efdf;\">he self is not </span><sup>[7]</sup><span style=\"background-color:#d8daef;\">a conscious a</span><sup>[17]</sup><span style=\"background-color:#d4efdf;\">nd the same e</span><sup>[7]</sup><span style=\"background-color:#d4e6f1;\">xternal object t</span><sup>[10]</sup><span style=\"background-color:#d4efdf;\">o be a single </span><sup>[7]</sup><span style=\"background-color:#d4efdf;\">particle that is </span><sup>[7]</sup><span style=\"background-color:#d4e6f1;\">not established as the </span><sup>[10]</sup><span style=\"background-color:#d4e6f1;\">appearance of any o</span><sup>[16]</sup><span style=\"background-color:#ecf3cf;\">ther experience. </span><sup>[22]</sup><span style=\"background-color:#d4efdf;\">It is not a con</span><sup>[7]</sup><span style=\"background-color:#d4efdf;\">sciousness that are </span><sup>[7]</sup><span style=\"background-color:#d4e6f1;\">not existent </span><sup>[10]</sup>and no<span style=\"background-color:#fae5d3;\">t any other e</span><sup>[13]</sup>xperience."
      ],
      "text/plain": [
       "<IPython.core.display.HTML object>"
      ]
     },
     "metadata": {},
     "output_type": "display_data"
    },
    {
     "data": {
      "text/html": [
       "<small><p style=\"text-align:right;\">Sources: <span style=\"background-color:#ecf3cf;\">SearleMindIntroduction</span><sup>[22]</sup>, <span style=\"background-color:#d4e6f1;\">MiphamSpeechDelight</span><sup>[10]</sup>, <span style=\"background-color:#d4efdf;\">MiphamAdornment</span><sup>[7]</sup>, <span style=\"background-color:#d6dbdf;\">MiphamVividAwareness</span><sup>[11]</sup>, <span style=\"background-color:#d4e6f1;\">McEvilleyShapeAncientThought</span><sup>[16]</sup>, <span style=\"background-color:#f6ddcc;\">MiphamWhiteLotus</span><sup>[12]</sup>, <span style=\"background-color:#d8daef;\">PenroseEmperorNewMind</span><sup>[17]</sup>, <span style=\"background-color:#d6eaf8;\">MiphamBeacon</span><sup>[9]</sup>, <span style=\"background-color:#d4efdf;\">SearleMindLanguageSociety</span><sup>[23]</sup>, <span style=\"background-color:#fae5d3;\">HumeEnquiry</span><sup>[13]</sup></p></small>"
      ],
      "text/plain": [
       "<IPython.core.display.HTML object>"
      ]
     },
     "metadata": {},
     "output_type": "display_data"
    },
    {
     "name": "stdout",
     "output_type": "stream",
     "text": [
      "> bye\n",
      "Good bye!\n"
     ]
    }
   ],
   "source": [
    "# Talk to the net!\n",
    "doDialog()"
   ]
  },
  {
   "cell_type": "code",
   "execution_count": null,
   "metadata": {
    "collapsed": true
   },
   "outputs": [],
   "source": []
  }
 ],
 "metadata": {
  "kernelspec": {
   "display_name": "Python 3",
   "language": "python",
   "name": "python3"
  },
  "language_info": {
   "codemirror_mode": {
    "name": "ipython",
    "version": 3
   },
   "file_extension": ".py",
   "mimetype": "text/x-python",
   "name": "python",
   "nbconvert_exporter": "python",
   "pygments_lexer": "ipython3",
   "version": "3.6.0"
  }
 },
 "nbformat": 4,
 "nbformat_minor": 2
}
