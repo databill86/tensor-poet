{
 "cells": [
  {
   "cell_type": "code",
   "execution_count": 3,
   "metadata": {
    "collapsed": true
   },
   "outputs": [],
   "source": [
    "import numpy as np\n",
    "import os\n",
    "import random\n",
    "import tensorflow as tf\n",
    "from IPython.core.display import display, HTML"
   ]
  },
  {
   "cell_type": "code",
   "execution_count": 4,
   "metadata": {
    "collapsed": false
   },
   "outputs": [],
   "source": [
    "# TextLibrary class: text library for training, encoding, batch generation,\n",
    "# and formatted source display\n",
    "class TextLibrary:\n",
    "    def __init__(self, filenames):\n",
    "        self.filenames = filenames\n",
    "        self.data=''\n",
    "        self.files=[]\n",
    "        index = 1\n",
    "        for filename in filenames:\n",
    "            fd={}\n",
    "            fd[\"name\"] = os.path.splitext(os.path.basename(filename))[0]\n",
    "            self.c2i = {}\n",
    "            self.i2c = {}\n",
    "            try:\n",
    "                f = open(filename)\n",
    "                dat = f.read()\n",
    "                self.data += dat\n",
    "                fd[\"data\"] = dat\n",
    "                fd[\"index\"] = index\n",
    "                index += 1\n",
    "                self.files.append(fd)\n",
    "                f.close()\n",
    "            except OSError:\n",
    "                print(\"  ERROR: Cannot read: \", filename, e)\n",
    "        cs = set(self.data)\n",
    "        csi = list(enumerate(cs))\n",
    "        self.c2i = {c: i for i, c in csi}\n",
    "        # csi = list(enumerate(cs))\n",
    "        self.i2c = {i: c for i, c in csi}\n",
    "        self.ptr = 0\n",
    "            \n",
    "    def printColoredIPython(self, textlist, pre='', post=''):\n",
    "        bgcolors = ['#d4e6f1', '#d8daef', '#ebdef0', '#eadbd8', '#e2d7d5', '#edebd0',\n",
    "                    '#ecf3cf', '#d4efdf', '#d0ece7', '#d6eaf8', '#d4e6f1', '#d6dbdf',\n",
    "                    '#f6ddcc', '#fae5d3', '#fdebd0', '#e5e8e8', '#eaeded', '#A9CCE3']\n",
    "        out = ''\n",
    "        for txt, ind in textlist:\n",
    "            txt = txt.replace('\\n','<br>')\n",
    "            if ind==0:\n",
    "                out += txt\n",
    "            else:\n",
    "                out += \"<span style=\\\"background-color:\"+bgcolors[ind%16]+\";\\\">\" + txt +\\\n",
    "                       \"</span>\"+\"<sup>[\" + str(ind) + \"]</sup>\"\n",
    "        display(HTML(pre+out+post))\n",
    "        \n",
    "    def sourceHighlight(self, txt, minQuoteSize=10):\n",
    "        tx = txt\n",
    "        out = []\n",
    "        qts = []\n",
    "        txsrc=[(\"Sources: \", 0)]\n",
    "        sc=False\n",
    "        noquote = ''\n",
    "        while len(tx)>0:  # search all library files for quote 'txt'\n",
    "            mxQ = 0\n",
    "            mxI = 0\n",
    "            mxN = ''\n",
    "            found = False\n",
    "            for f in self.files:  # find longest quote in all texts\n",
    "                p = minQuoteSize\n",
    "                if p<=len(tx) and tx[:p] in f[\"data\"]:\n",
    "                    p = minQuoteSize + 1\n",
    "                    while p<=len(tx) and tx[:p] in f[\"data\"]:\n",
    "                        p += 1\n",
    "                    if p-1>mxQ:\n",
    "                        mxQ = p-1\n",
    "                        mxI = f[\"index\"]\n",
    "                        mxN = f[\"name\"]\n",
    "                        found = True\n",
    "            if found:  # save longest quote for colorizing\n",
    "                if len(noquote)>0:\n",
    "                    out.append((noquote, 0))\n",
    "                    noquote = ''\n",
    "                out.append((tx[:mxQ],mxI))\n",
    "                tx = tx[mxQ:]\n",
    "                if mxI not in qts:  # create a new reference, if first occurence\n",
    "                    qts.append(mxI)\n",
    "                    if sc:\n",
    "                        txsrc.append((\", \", 0))\n",
    "                    sc = True\n",
    "                    txsrc.append((mxN,mxI))\n",
    "            else:\n",
    "                noquote += tx[0]\n",
    "                tx = tx[1:]\n",
    "        if len(noquote)>0:\n",
    "            out.append((noquote, 0))\n",
    "            noquote = ''\n",
    "        self.printColoredIPython(out)\n",
    "        if len(qts)>0:  # print references, if there is at least one source\n",
    "            self.printColoredIPython(txsrc, pre=\"<small><p style=\\\"text-align:right;\\\">\",\n",
    "                                     post=\"</p></small>\")\n",
    "    \n",
    "    def getSlice(self, length):\n",
    "        if (self.ptr + length >= len(self.data)):\n",
    "            self.ptr = 0\n",
    "        if self.ptr == 0:\n",
    "            rst = True\n",
    "        else:\n",
    "            rst = False\n",
    "        sl = self.data[self.ptr:self.ptr+length]\n",
    "        self.ptr += length\n",
    "        return sl, rst\n",
    "    \n",
    "    def decode(self, ar):\n",
    "         return ''.join([self.i2c[ic] for ic in ar])\n",
    "            \n",
    "    def getRandomSlice(self, length):\n",
    "        p = random.randrange(0,len(self.data)-length)\n",
    "        sl = self.data[p:p+length]\n",
    "        return sl\n",
    "    \n",
    "    def getSliceArray(self, length):\n",
    "        ar = np.array([c for c in self.getSlice(length)[0]])\n",
    "        return ar\n",
    "        \n",
    "    def getSample(self, length):\n",
    "        s, rst = self.getSlice(length+1)\n",
    "        X = [self.c2i[c] for c in s[:-1]]\n",
    "        y = [self.c2i[c] for c in s[1:]]\n",
    "        return (X, y, rst)\n",
    "    \n",
    "    def getRandomSample(self, length):\n",
    "        s = self.getRandomSlice(length+1)\n",
    "        X = [self.c2i[c] for c in s[:-1]]\n",
    "        y = [self.c2i[c] for c in s[1:]]\n",
    "        return (X, y)\n",
    "    \n",
    "    def getSampleBatch(self, batch_size, length):\n",
    "        smpX = []\n",
    "        smpy = []\n",
    "        for i in range(batch_size):\n",
    "            Xi, yi, rst = self.getSample(length)\n",
    "            smpX.append(Xi)\n",
    "            smpy.append(yi)\n",
    "        return smpX, smpy, rst\n",
    "        \n",
    "    def getRandomSampleBatch(self, batch_size, length):\n",
    "        smpX = []\n",
    "        smpy = []\n",
    "        for i in range(batch_size):\n",
    "            Xi, yi = self.getRandomSample(length)\n",
    "            smpX.append(Xi)\n",
    "            smpy.append(yi)\n",
    "        return smpX, smpy"
   ]
  },
  {
   "cell_type": "code",
   "execution_count": 5,
   "metadata": {
    "collapsed": false
   },
   "outputs": [],
   "source": [
    "# The tensorflow model for text generation\n",
    "class TensorPoetModel:\n",
    "    def __init__(self, params):\n",
    "        self.vocab_size = params[\"vocab_size\"]\n",
    "        self.neurons = params[\"neurons\"]\n",
    "        self.layers = params[\"layers\"]\n",
    "        self.learning_rate = params[\"learning_rate\"]\n",
    "        self.steps = params[\"steps\"]\n",
    "        # self.clip = -1.0 * params[\"clip\"]\n",
    "        \n",
    "        tf.reset_default_graph()\n",
    "\n",
    "        # Training & Generating:\n",
    "        self.X = tf.placeholder(tf.int32, shape=[None, self.steps])\n",
    "        self.y = tf.placeholder(tf.int32, shape=[None, self.steps])\n",
    "\n",
    "        onehot_X = tf.one_hot(self.X, self.vocab_size)\n",
    "        onehot_y = tf.one_hot(self.y, self.vocab_size)\n",
    "\n",
    "        basic_cell = tf.contrib.rnn.BasicLSTMCell(self.neurons)\n",
    "        stacked_cell = tf.contrib.rnn.MultiRNNCell([basic_cell] * self.layers)\n",
    "\n",
    "        self.batch_size = tf.placeholder(tf.int32)\n",
    "        self.init_state_0 = stacked_cell.zero_state(self.batch_size, tf.float32)\n",
    "\n",
    "        self.init_state = self.init_state_0\n",
    "\n",
    "        with tf.variable_scope('rnn') as scope:\n",
    "            rnn_outputs, states = tf.nn.dynamic_rnn(stacked_cell, onehot_X, \n",
    "                                                    initial_state=self.init_state, \n",
    "                                                    dtype=tf.float32)\n",
    "            self.init_state = states\n",
    "\n",
    "        self.final_state = self.init_state\n",
    "        stacked_rnn_outputs = tf.reshape(rnn_outputs, [-1, self.neurons])\n",
    "\n",
    "        softmax_w = tf.get_variable(\"softmax_w\", [self.neurons, self.vocab_size], \n",
    "                                    initializer=tf.random_normal_initializer(), dtype=tf.float32)\n",
    "        softmax_b = tf.get_variable(\"softmax_b\", [self.vocab_size], dtype=tf.float32)\n",
    "            \n",
    "        logits_raw = tf.matmul(stacked_rnn_outputs, softmax_w) + softmax_b\n",
    "        logits = tf.reshape(logits_raw, [-1, self.steps, self.vocab_size])\n",
    "\n",
    "        output_softmax = tf.nn.softmax(logits)\n",
    "\n",
    "        self.temperature = tf.placeholder(tf.float32)\n",
    "        self.output_softmax_temp = tf.nn.softmax(tf.div(logits, self.temperature))\n",
    "\n",
    "        softmax_entropy = tf.nn.softmax_cross_entropy_with_logits(labels=onehot_y, logits=logits)\n",
    "\n",
    "        self.cross_entropy = tf.reduce_mean(softmax_entropy)\n",
    "        optimizer = tf.train.AdamOptimizer(learning_rate=self.learning_rate)\n",
    "\n",
    "        self.training_op = optimizer.minimize(self.cross_entropy)\n",
    "        \n",
    "        # Clipping isn't necessary, even for really deep networks:\n",
    "        # grads = optimizer.compute_gradients(self.cross_entropy)\n",
    "        # minclip = -1.0 * self.clip\n",
    "        # capped_grads = [(tf.clip_by_value(grad, minclip, self.clip), var) for grad, var in grads]\n",
    "        # self.training_op = optimizer.apply_gradients(capped_grads)\n",
    "\n",
    "        self.prediction = tf.cast(tf.argmax(output_softmax, -1), tf.int32)\n",
    "        correct_prediction = tf.equal(self.y, self.prediction)\n",
    "        self.accuracy = tf.reduce_mean(tf.cast(correct_prediction, tf.float32))\n",
    "        error = 1.0 - self.accuracy\n",
    "\n",
    "        \n",
    "        # Tensorboard\n",
    "        tf.summary.scalar(\"cross-entropy\", self.cross_entropy)\n",
    "        tf.summary.scalar(\"error\", error)\n",
    "        self.summary_merged = tf.summary.merge_all()\n",
    "\n",
    "        # Init\n",
    "        self.init = tf.global_variables_initializer()\n"
   ]
  },
  {
   "cell_type": "code",
   "execution_count": null,
   "metadata": {
    "collapsed": false,
    "scrolled": false
   },
   "outputs": [],
   "source": [
    "textlib = TextLibrary([  # add additional texts, to train concurrently on multiple txts:\n",
    "                       # 'data/tiny-shakespeare.txt',\n",
    "                       'bk/emma-jane-austen.txt',\n",
    "                       'bk/voyage-out-virginia-woolf.txt',\n",
    "                       'bk/pride-prejudice-jane-austen.txt',\n",
    "                       'bk/wuthering-heights-emily-bronte.txt',            \n",
    "                      ])\n",
    "\n",
    "params = {\n",
    "    \"vocab_size\": len(textlib.i2c),\n",
    "    \"neurons\": 256,\n",
    "    \"layers\": 8,\n",
    "    \"learning_rate\": 1.e-3,\n",
    "    \"steps\": 96,\n",
    "}\n",
    "\n",
    "model = TensorPoetModel(params)"
   ]
  },
  {
   "cell_type": "code",
   "execution_count": null,
   "metadata": {
    "collapsed": false,
    "scrolled": false
   },
   "outputs": [
    {
     "name": "stdout",
     "output_type": "stream",
     "text": [
      "Epoch: 0.00, iter: 0, cross-entropy: 4.652, accuracy: 0.14648\n",
      "   y: wo moments of silence | being ample encouragement for Mr. Elton’s sanguine state of mind, he | tried\n",
      "  yp: σRoooooooooooo                                                                                  \n",
      "Epoch: 0.41, iter: 200, cross-entropy: 3.173, accuracy: 0.16097\n",
      "   y:  who was bent as some trees are by a gale on one side of | them had slipped in. Nodding to Mr. Amb\n",
      "  yp:                                                                                                 \n",
      "Epoch: 0.82, iter: 400, cross-entropy: 3.121, accuracy: 0.16374\n",
      "   y:  you wouldn't come.  And papa swore it was | owing to me: he called me a pitiful, shuffling, worth\n",
      "  yp:                                                                                                 \n",
      "Epoch: 1.23, iter: 600, cross-entropy: 3.085, accuracy: 0.17513\n",
      "   y:  haggard | and drowsy. |  | 'What ails you, Cathy?' he was saying when I entered: 'you look as dismal | \n",
      "  yp:                                                                                         |  |  |  |  |  |  |   \n",
      "Epoch: 1.64, iter: 800, cross-entropy: 3.110, accuracy: 0.16243\n",
      "   y: s sure to be damp; besides, I see at least a dozen | toads.\" |  | \"Toads? Those are stones, Helen. Com\n",
      "  yp:                                                                                                 \n",
      "Epoch: 2.06, iter: 1000, cross-entropy: 2.684, accuracy: 0.25423\n",
      "   y: ng round. \"Oh, _Cowper's | Letters_! I've never read them. Are they nice?\" |  | \"Rather dull,\" said Ra\n",
      "  yp: t  toe    I a  anaeeeeee  onte     I  s ao e  aoee toe    e  hhe  ah e   |  | \"Weeee  aeee   ae   ae\n",
      "Epoch: 2.47, iter: 1200, cross-entropy: 2.276, accuracy: 0.34310\n",
      "   y: rners, while their | father and mother sat eating and drinking, and singing and laughing, and | burn\n",
      "  yp:        ahete the e aore e and tere e aor tetenn tnd teete nn  and thne nn tnd teree ng  and tete\n",
      "Epoch: 2.88, iter: 1400, cross-entropy: 2.108, accuracy: 0.39128\n",
      "   y: nd | drew in a few more breaths of the soft, sweet air; my eyes were on the | moon, and my back to t\n",
      "  yp:    teoadhn t sor tert teortee tf the somee ahend t d  ae tnt  tore af the | sert  and te sese th h\n",
      "Epoch: 3.29, iter: 1600, cross-entropy: 1.872, accuracy: 0.45492\n",
      "   y: ks and thus never troubled her head about the censorship which | was exercised first by her aunts,\n",
      "  yp:    tnd thenetoaer toeugde  air farr tnout the worsert eosoiach has axcrieoed torseete tar fndt  \n",
      "Epoch: 3.70, iter: 1800, cross-entropy: 1.694, accuracy: 0.50407\n",
      "   y: s. They might | advance rapidly if they would, however; they must advance somehow or | other whether\n",
      "  yp: ee  he  weght b eerde tectn e tn the  wauld  aewever  ahe  wast b eerde th ettmetf | tnher thenher\n",
      "Epoch: 4.11, iter: 2000, cross-entropy: 1.572, accuracy: 0.51969\n",
      "   y: gh his income, by pay and appointments, was | handsome, his fortune was moderate and must be all h\n",
      "  yp:  httes an oren au ter tnd t pearteent   ahs sevd ome  aes crr ure tas tare yte tnd toct be a l t\n",
      "Epoch: 4.52, iter: 2200, cross-entropy: 1.545, accuracy: 0.54183\n",
      "   y: ree, which, although it did | not grow across her path, stopped her as effectively as if the branc\n",
      "  yp: eeac ahoch  anlhough tt wos not aoew t coss tirefatse ahapped tir an tvpectioe y an tf the seesd\n",
      "Epoch: 4.93, iter: 2400, cross-entropy: 1.429, accuracy: 0.57161\n",
      "   y: m, without saying a word. |  | Colonel Fitzwilliam entered into conversation directly with the | readi\n",
      "  yp: ne ahth ut aeiing t ford   | 'oronel arvewilliam wnter d tn o tonversation oosectly aath the sosd \n",
      "Epoch: 5.34, iter: 2600, cross-entropy: 1.316, accuracy: 0.60775\n",
      "   y: ased her bitterness. At last she broke out-- |  | \"Thank God, Helen, I'm not like you! I sometimes t\n",
      "  yp:  de  ter fotser  ss   n test ahe weoue tft -a |  | Ihetk yor! aewen, w m aot tike tour   ah etime  t\n",
      "Epoch: 5.76, iter: 2800, cross-entropy: 1.330, accuracy: 0.59652\n",
      "   y: omen, but I've had other | women. Then I've great faults. I'm very lazy, I'm moody--\" He persisted\n",
      "  yp: ettr  aut t me nav bnher tiren   he  t ve noaat torlts    m tery site  a m aarn  -a |  e wrrcosted\n",
      "Epoch: 6.17, iter: 3000, cross-entropy: 1.358, accuracy: 0.58984\n",
      "   y: rs before: the same moon shone through the window; and the same autumn | landscape lay outside.  W\n",
      "  yp: nd tegore  ahe wame porn ttewt ooaough the wandow, and the | same | onnimnttamc  aperaid oft ide   I\n",
      "Epoch: 6.58, iter: 3200, cross-entropy: 1.281, accuracy: 0.60173\n",
      "   y: ouched his hat--a salutation which Mr. Darcy just deigned to return. | What could be the meaning o\n",
      "  yp:   th d tim fan -anmtdltetivn ohich hr. Earcy wust aolnhtd th heaurn  |  | het hould ne ahe soaning o\n",
      "Epoch: 6.99, iter: 3400, cross-entropy: 1.271, accuracy: 0.60954\n",
      "   y:  her face and the plaster walls. There were | no pictures on the walls but here and there boughs l\n",
      "  yp:  te  hate tnd she saecees whyks  |  he e ware sotcotture  wf the soyl, oet ter ,and she e wetshs t\n",
      "Epoch: 7.40, iter: 3600, cross-entropy: 1.236, accuracy: 0.61833\n",
      "   y: olding it as a circumscribed mound, | eternally burnt, eternally scarred. From the deck of the shi\n",
      "  yp: eue ng tt wl t sorcumstoobad oernta axecnally deriie axccnelly dearced  Heam the sisieof the wao\n",
      "Epoch: 7.81, iter: 3800, cross-entropy: 1.234, accuracy: 0.62533\n",
      "   y:  than those with whom she was connected. There | could not exist in the world _two_ men, over whom\n",
      "  yp:  thet these thth aham hhe was aonsected  She e would bot bxpsteht the sorld ohho  woat arer thim\n",
      "Epoch: 8.22, iter: 4000, cross-entropy: 1.223, accuracy: 0.62630\n",
      "   y:  certainly will meet them if I can prevail; and I shall call on Miss | Bates in my way home.” |  | “Th\n",
      "  yp: ntortainly satl ba t hhe  tn t can breveil  and I ahall norl yf | trss | Fates an ty hoy tewe   |  | “Ih\n",
      "Epoch: 8.63, iter: 4200, cross-entropy: 1.199, accuracy: 0.62419\n",
      "   y: ss Bennet the | principal object. He was then, he said, on his way to Longbourn on | purpose to inqu\n",
      "  yp: n  tennet toe sroncipll ofject   e was ahe   ae waid  ar tes fiy to tandbourn af tetpose to tntu\n",
      "Epoch: 9.04, iter: 4400, cross-entropy: 1.210, accuracy: 0.62370\n",
      "   y:  the trees | which were massed on the sides of the river. |  | Soon Wilfrid Flushing slept, and Hirst \n",
      "  yp: ethe srees ohich hare sarted tn the sage  of the sover,  | \"h n aacleid hrashing whiet  and sarst \n",
      "Epoch: 9.46, iter: 4600, cross-entropy: 1.210, accuracy: 0.62663\n",
      "   y:  present hour. Jane Fairfax | did look and move superior; but Emma suspected she might have been | g\n",
      "  yp:  trosent tawrs  ane Fairfax iid nook atd sere tocprior  aut tmma whppected toe wught have been s\n",
      "Epoch: 9.87, iter: 4800, cross-entropy: 1.181, accuracy: 0.63298\n",
      "   y: sic to her, and they looked it over together.--Emma | took the opportunity of whispering, |  | “You sp\n",
      "  yp: n neth ter  and the  wooked an aner th ether  | -Tvma wook the stportunity of thacter ng   | “Iou mh\n",
      "----------------- temperature = 0.2 ----------------------\n"
     ]
    },
    {
     "data": {
      "text/html": [
       "<span style=\"background-color:#d8daef;\">                                                       </span><sup>[1]</sup><span style=\"background-color:#d8daef;\">                                                       </span><sup>[1]</sup><span style=\"background-color:#d8daef;\">                                                       </span><sup>[1]</sup><span style=\"background-color:#d8daef;\">                                                       </span><sup>[1]</sup><span style=\"background-color:#d8daef;\">                                                       </span><sup>[1]</sup><span style=\"background-color:#d8daef;\">                                                       </span><sup>[1]</sup><span style=\"background-color:#d8daef;\">                                                       </span><sup>[1]</sup><span style=\"background-color:#d8daef;\">                                                       </span><sup>[1]</sup><span style=\"background-color:#d8daef;\">                                                       </span><sup>[1]</sup><span style=\"background-color:#d8daef;\">                                                       </span><sup>[1]</sup><span style=\"background-color:#d8daef;\">                                                       </span><sup>[1]</sup><span style=\"background-color:#d8daef;\">                                                       </span><sup>[1]</sup><span style=\"background-color:#d8daef;\">                                                       </span><sup>[1]</sup><span style=\"background-color:#d8daef;\">                                                       </span><sup>[1]</sup><span style=\"background-color:#d8daef;\">                                                       </span><sup>[1]</sup><span style=\"background-color:#d8daef;\">                                                       </span><sup>[1]</sup><span style=\"background-color:#d8daef;\">                                                       </span><sup>[1]</sup><span style=\"background-color:#d8daef;\">                                                       </span><sup>[1]</sup>          "
      ],
      "text/plain": [
       "<IPython.core.display.HTML object>"
      ]
     },
     "metadata": {},
     "output_type": "display_data"
    },
    {
     "data": {
      "text/html": [
       "<small><p style=\"text-align:right;\">Sources: <span style=\"background-color:#d8daef;\">emma-jane-austen</span><sup>[1]</sup></p></small>"
      ],
      "text/plain": [
       "<IPython.core.display.HTML object>"
      ]
     },
     "metadata": {},
     "output_type": "display_data"
    },
    {
     "name": "stdout",
     "output_type": "stream",
     "text": [
      "----------------- temperature = 0.6 ----------------------\n"
     ]
    },
    {
     "data": {
      "text/html": [
       "<span style=\"background-color:#d8daef;\">                                                       </span><sup>[1]</sup><span style=\"background-color:#d8daef;\">                                                       </span><sup>[1]</sup><span style=\"background-color:#d8daef;\">                                                       </span><sup>[1]</sup><span style=\"background-color:#d8daef;\">                                                       </span><sup>[1]</sup><span style=\"background-color:#d8daef;\">                                                       </span><sup>[1]</sup><span style=\"background-color:#d8daef;\">                                                       </span><sup>[1]</sup><span style=\"background-color:#d8daef;\">                                                       </span><sup>[1]</sup><span style=\"background-color:#d8daef;\">                                                       </span><sup>[1]</sup><span style=\"background-color:#d8daef;\">                                                       </span><sup>[1]</sup><span style=\"background-color:#d8daef;\">                                                       </span><sup>[1]</sup><span style=\"background-color:#d8daef;\">                                                       </span><sup>[1]</sup><span style=\"background-color:#d8daef;\">                                                       </span><sup>[1]</sup><span style=\"background-color:#d8daef;\">                                                       </span><sup>[1]</sup><span style=\"background-color:#d8daef;\">                                                       </span><sup>[1]</sup><span style=\"background-color:#d8daef;\">                                                       </span><sup>[1]</sup><span style=\"background-color:#d8daef;\">                                                       </span><sup>[1]</sup><span style=\"background-color:#d8daef;\">                                                       </span><sup>[1]</sup><span style=\"background-color:#d8daef;\">                                                       </span><sup>[1]</sup>          "
      ],
      "text/plain": [
       "<IPython.core.display.HTML object>"
      ]
     },
     "metadata": {},
     "output_type": "display_data"
    },
    {
     "data": {
      "text/html": [
       "<small><p style=\"text-align:right;\">Sources: <span style=\"background-color:#d8daef;\">emma-jane-austen</span><sup>[1]</sup></p></small>"
      ],
      "text/plain": [
       "<IPython.core.display.HTML object>"
      ]
     },
     "metadata": {},
     "output_type": "display_data"
    },
    {
     "name": "stdout",
     "output_type": "stream",
     "text": [
      "----------------- temperature = 1.0 ----------------------\n"
     ]
    },
    {
     "data": {
      "text/html": [
       "<span style=\"background-color:#d8daef;\">                          </span><sup>[1]</sup>εbeing<br>former and meansh--about him, I believe, you might not think of<br>among the priek a flook of opening like.--I believe this respect your<br>tone were at desire; and She recollected. Show, Heathcliff was animated to my<br>completely; at the marriage and Hertfords are a shocking in arm--this plod<br>outside.--Emma, thus was the trow up a flower dispositian, and as they<br>had been drawn about mentioning's wife.<br><br>\"Nonding too!\" she retered, \"I don't not mun for Hinds.'<br><br>'You have seen this matter?'<br><br>It issumanly can be quarrel, the Lattor can bring away of courses,\"<br>but here joined the period of that moment was watching an improbent.<br>However, I should never respect her, experient from her. \"What's you leave.  'We<br>nield know it is.\"<br><br>The lear intently instead of free with their form, and Emma felt a point<br>of small delightful shoots--uhluragtless, the wishing of her excessives and<br>great respect air few as much i<span style=\"background-color:#d8daef;\">n Mr. Knightley and </span><sup>[1]</sup>by Emma, so many<br>for a value<br>came.<br><br>\"Mebly"
      ],
      "text/plain": [
       "<IPython.core.display.HTML object>"
      ]
     },
     "metadata": {},
     "output_type": "display_data"
    },
    {
     "data": {
      "text/html": [
       "<small><p style=\"text-align:right;\">Sources: <span style=\"background-color:#d8daef;\">emma-jane-austen</span><sup>[1]</sup></p></small>"
      ],
      "text/plain": [
       "<IPython.core.display.HTML object>"
      ]
     },
     "metadata": {},
     "output_type": "display_data"
    },
    {
     "name": "stdout",
     "output_type": "stream",
     "text": [
      "---------------------------------------\n",
      "Epoch: 10.28, iter: 5000, cross-entropy: 1.193, accuracy: 0.62646\n",
      "   y: t that Mr. Darcy has no defect. He owns it | himself without disguise.\" |  | \"No\"--said Darcy, \"I have\n",
      "  yp: n thet tr. Darcy wad no oosent  Ie wun |  tn wasself tith ut aespusse.  |  | \"Io, -Ihyd Iercy, wI dave\n",
      "Epoch: 10.69, iter: 5200, cross-entropy: 1.184, accuracy: 0.63037\n",
      "   y: Hartfield, I should certainly have thought you judged | ill in making your visits so frequent. Am \n",
      "  yp: terrfield, a should nortainly save bheught oou ausged tnl on tyking your cisits to moequentl  n \n",
      "Epoch: 11.10, iter: 5400, cross-entropy: 1.185, accuracy: 0.64111\n",
      "   y: s much | preferable to an hour's more sleep.' |  | 'Is _she_ to go with us,' he demanded, 'the little \n",
      "  yp: n toch mretermble to tnyeour s cite toiep.  |  | 'I  thhe_ wh bo tith ts   se semanded, 'aherwattle \n",
      "Epoch: 11.51, iter: 5600, cross-entropy: 1.174, accuracy: 0.64290\n",
      "   y: s called the Saturday Club. We're supposed | to talk about art, but I'm sick of talking about art-\n",
      "  yp: s tonl d ahe daturday taams |  h re aocposed to mhkk obout h e, aut I m nonk au thlking obout y e,\n",
      "Epoch: 11.92, iter: 5800, cross-entropy: 1.144, accuracy: 0.64209\n",
      "   y: d.  It struck beneath my ear, and | stopped the sentence I was uttering; but, pulling it out, I sp\n",
      "  yp: n  II  weouck hyheath ty ayrl and thipped the statence o has sntereng  aut  telling tn ant  a sh\n",
      "Epoch: 12.33, iter: 6000, cross-entropy: 1.126, accuracy: 0.64372\n",
      "   y: y name.” |  | “Oh! yes, and I shall be very happy in his acquaintance. I am sure Mr. | Elton will lose\n",
      "  yp:   aoted  |  | “Ih! yos, Ind I ahall ne aery mappy tn tis srcuaintance, I am sure Ir. | Blton wall bioe\n",
      "Epoch: 12.74, iter: 6200, cross-entropy: 1.115, accuracy: 0.63835\n",
      "   y: he | various recollections connected with him gave her a moment's distress; | but, exerting herself \n",
      "  yp:  e silieus ceaollection  oousected with hes arre aer a sament s cistaess, | aut  axcrcing her elf \n",
      "Epoch: 13.16, iter: 6400, cross-entropy: 1.168, accuracy: 0.64502\n",
      "   y:  The quietness | of the game made it particularly eligible for Mr. Woodhouse, who had | often been d\n",
      "  yp:  Ihe suect ess of the srre waye ht arsticularly axegible aor hr. Weodhouse’ aho wad | bnten seen a\n",
      "Epoch: 13.57, iter: 6600, cross-entropy: 1.175, accuracy: 0.63770\n",
      "   y: was much more | agreeable than his companion expected. There was nothing of presumption | or folly i\n",
      "  yp: tas toch tore tnieeable toat hes conpanionswnpected  She e was no hing tf teesemition | tf aorly t\n",
      "Epoch: 13.98, iter: 6800, cross-entropy: 1.153, accuracy: 0.63721\n",
      "   y:  take it into farther | consideration that in spite of your manifold attractions, it is by no | mean\n",
      "  yp:  thle ct an o tocther aonvederation.aoat ht tuite of tour aasneeug an eactivn.  an is ne to | mean\n",
      "Epoch: 14.39, iter: 7000, cross-entropy: 1.086, accuracy: 0.66260\n",
      "   y: but too likely, may be this very circumstance of | his coming away from them to visit us.” |  |  |  | CHAP\n",
      "  yp: tet th  sote y  aak be shen sery sorcumstance of ces soning atay from the  to bisit tp.  |  | “ | CHAP\n",
      "Epoch: 14.80, iter: 7200, cross-entropy: 1.104, accuracy: 0.64242\n",
      "   y:  | with such perfect good breeding!\" |  | \"He is also handsome,\" replied Elizabeth, \"which a young man\n",
      "  yp:  ahth auch alrsect crod seoadings  |  | \"Ie is a lo teddsome   seplied Elizabeth, \"Ihech I moung man\n",
      "Epoch: 15.21, iter: 7400, cross-entropy: 1.138, accuracy: 0.64469\n",
      "   y: comfort as he listened was manifested by a slight movement | rocking of his body, said awkwardly, \n",
      "  yp:  eomort wn te wiktened tis todyfisted ty t seight somement oeoksng au tes feoy  ahid tlawardly  \n",
      "Epoch: 15.62, iter: 7600, cross-entropy: 1.127, accuracy: 0.64355\n",
      "   y: that Netherfield is taken | by a young man of large fortune from the north of England; that he cam\n",
      "  yp: thet holherfield as ahken ay t soung lan tf timge aortune,aoom the wetth of tngland. ahet herhon\n",
      "Epoch: 16.03, iter: 7800, cross-entropy: 1.086, accuracy: 0.65560\n",
      "   y: herself. Papa, if you speak in that melancholy way, | you will be giving Isabella a false idea of \n",
      "  yp: ter elf  Tera  wn hou waeak tt thet poaancholy tiy. tou woll be aoveng m abella anmemsehonea of \n",
      "Epoch: 16.44, iter: 8000, cross-entropy: 1.133, accuracy: 0.63900\n",
      "   y: wet. He had again forgotten what he had meant to say. |  | After intense contemplation of the immacu\n",
      "  yp:   ne  e wad n rin tor etten that se wad baant to bey  |  | “fter anterse aonsemptation wf hhe snmens\n",
      "Epoch: 16.86, iter: 8200, cross-entropy: 1.087, accuracy: 0.66048\n",
      "   y:  | 'Stop!' cried his father.  'We'll respect Catherine's filial scruples. | Nelly, take him in, and \n",
      "  yp:  |  | Ihop!  hried hes sather,  'Ihlll netoect yatherine's sarial seheples  Iovly, yhke yim an  and \n",
      "Epoch: 17.27, iter: 8400, cross-entropy: 1.118, accuracy: 0.64648\n",
      "   y:  | there was less captivating softness in Colonel Fitzwilliam's manners, | she believed he might hav\n",
      "  yp: ethe e was nias aorrioatiog aomtless.on tolonel Citzwilliam s aanners, | ahe welieved herwught bav\n",
      "Epoch: 17.68, iter: 8600, cross-entropy: 1.081, accuracy: 0.66081\n",
      "   y: ; and sore misgivings came | over me that there was slight hope of that.  And then, I thought, how\n",
      "  yp: o and th r tistivings wome tuer ty toat hhe e was aoight aalestf thet   Ind ther  I shiught  tow\n",
      "Epoch: 18.09, iter: 8800, cross-entropy: 1.079, accuracy: 0.66130\n",
      "   y: estroy my comfort. You must promise me not to sit | up.” |  | He did, on the condition of some promise\n",
      "  yp:  dt apshy homport   ou must bromise me tot to bat dp   |  | “e sid  an the sonsition of tume orepisi\n",
      "Epoch: 18.50, iter: 9000, cross-entropy: 1.113, accuracy: 0.64648\n",
      "   y: d-clothes when she exclaimed, \"Oh, | but I'm forgetting,\" and went to her writing-table. A brown v\n",
      "  yp:   -aoshes wien the wnplaimed, \"Ih! dut I m gor etting \" snd shnt oo ter fieting table, Hssriwn s\n",
      "Epoch: 18.91, iter: 9200, cross-entropy: 1.106, accuracy: 0.65153\n",
      "   y: , I | could detect her raising a hand, and brushing something off her cheek.  I | gazed round for a \n",
      "  yp:   a sould nosert tir tetneng hnland  and seoshing home hing tf  tir hoaeks |  I | waved hound tor a \n",
      "Epoch: 19.32, iter: 9400, cross-entropy: 1.089, accuracy: 0.65592\n",
      "   y: g Jane Fairfax, or any body else, which at the time she had | wholly imputed to the amiable solici\n",
      "  yp: g tane Fairfax. wr t y oody else  ahoch wr the sime whe had siilly anprsed to the pruable becici\n",
      "Epoch: 19.73, iter: 9600, cross-entropy: 1.052, accuracy: 0.67676\n",
      "   y: ed me to read it,\" Rachel stammered. |  | \"But I don't travel about with a miscellaneous collection \n",
      "  yp:    te th betd at   sachel raarmered.  | \"Iut I don't thyvella out thth y cantellaneous sonoection \n",
      "Epoch: 20.14, iter: 9800, cross-entropy: 1.056, accuracy: 0.66634\n",
      "   y: nd fond of its ease, returned; | but neither Cathy, nor the pony, nor the two pointers were visibl\n",
      "  yp: nd tord of ht. bxse  aepurned  aut soither pamhe  aot hhe sasy, aot che sho yeinters aare sesibl\n",
      "----------------- temperature = 0.2 ----------------------\n"
     ]
    },
    {
     "data": {
      "text/html": [
       "<span style=\"background-color:#d8daef;\">                                                       </span><sup>[1]</sup><span style=\"background-color:#d8daef;\">                                                       </span><sup>[1]</sup><span style=\"background-color:#d8daef;\">                                                       </span><sup>[1]</sup><span style=\"background-color:#d8daef;\">                                                       </span><sup>[1]</sup><span style=\"background-color:#d8daef;\">                                                       </span><sup>[1]</sup><span style=\"background-color:#d8daef;\">                                                       </span><sup>[1]</sup><span style=\"background-color:#d8daef;\">                                                       </span><sup>[1]</sup><span style=\"background-color:#d8daef;\">                                                       </span><sup>[1]</sup><span style=\"background-color:#d8daef;\">                                                       </span><sup>[1]</sup><span style=\"background-color:#d8daef;\">                                                       </span><sup>[1]</sup><span style=\"background-color:#d8daef;\">                                                       </span><sup>[1]</sup><span style=\"background-color:#d8daef;\">                                                       </span><sup>[1]</sup><span style=\"background-color:#d8daef;\">                                                       </span><sup>[1]</sup><span style=\"background-color:#d8daef;\">                                                       </span><sup>[1]</sup><span style=\"background-color:#d8daef;\">                                                       </span><sup>[1]</sup><span style=\"background-color:#d8daef;\">                                                       </span><sup>[1]</sup><span style=\"background-color:#d8daef;\">                                                       </span><sup>[1]</sup><span style=\"background-color:#d8daef;\">                                                       </span><sup>[1]</sup>          "
      ],
      "text/plain": [
       "<IPython.core.display.HTML object>"
      ]
     },
     "metadata": {},
     "output_type": "display_data"
    },
    {
     "data": {
      "text/html": [
       "<small><p style=\"text-align:right;\">Sources: <span style=\"background-color:#d8daef;\">emma-jane-austen</span><sup>[1]</sup></p></small>"
      ],
      "text/plain": [
       "<IPython.core.display.HTML object>"
      ]
     },
     "metadata": {},
     "output_type": "display_data"
    },
    {
     "name": "stdout",
     "output_type": "stream",
     "text": [
      "----------------- temperature = 0.6 ----------------------\n"
     ]
    },
    {
     "data": {
      "text/html": [
       "<span style=\"background-color:#d8daef;\">                                                       </span><sup>[1]</sup><span style=\"background-color:#d8daef;\">                                                       </span><sup>[1]</sup><span style=\"background-color:#d8daef;\">                                                       </span><sup>[1]</sup><span style=\"background-color:#d8daef;\">                                                       </span><sup>[1]</sup><span style=\"background-color:#d8daef;\">                                                       </span><sup>[1]</sup><span style=\"background-color:#d8daef;\">                                                       </span><sup>[1]</sup><span style=\"background-color:#d8daef;\">                                                       </span><sup>[1]</sup><span style=\"background-color:#d8daef;\">                                                       </span><sup>[1]</sup><span style=\"background-color:#d8daef;\">                                                       </span><sup>[1]</sup><span style=\"background-color:#d8daef;\">                                                       </span><sup>[1]</sup><span style=\"background-color:#d8daef;\">                                                       </span><sup>[1]</sup><span style=\"background-color:#d8daef;\">                                                       </span><sup>[1]</sup><span style=\"background-color:#d8daef;\">                                                       </span><sup>[1]</sup><span style=\"background-color:#d8daef;\">                                                       </span><sup>[1]</sup><span style=\"background-color:#d8daef;\">                                                       </span><sup>[1]</sup><span style=\"background-color:#d8daef;\">                                                       </span><sup>[1]</sup><span style=\"background-color:#d8daef;\">                                                       </span><sup>[1]</sup><span style=\"background-color:#d8daef;\">                                                       </span><sup>[1]</sup>          "
      ],
      "text/plain": [
       "<IPython.core.display.HTML object>"
      ]
     },
     "metadata": {},
     "output_type": "display_data"
    },
    {
     "data": {
      "text/html": [
       "<small><p style=\"text-align:right;\">Sources: <span style=\"background-color:#d8daef;\">emma-jane-austen</span><sup>[1]</sup></p></small>"
      ],
      "text/plain": [
       "<IPython.core.display.HTML object>"
      ]
     },
     "metadata": {},
     "output_type": "display_data"
    },
    {
     "name": "stdout",
     "output_type": "stream",
     "text": [
      "----------------- temperature = 1.0 ----------------------\n"
     ]
    },
    {
     "data": {
      "text/html": [
       "<span style=\"background-color:#d8daef;\">                                                       </span><sup>[1]</sup>          ρ<span style=\"background-color:#d8daef;\">                                                       </span><sup>[1]</sup><span style=\"background-color:#d8daef;\">                                                       </span><sup>[1]</sup><span style=\"background-color:#d8daef;\">                                                       </span><sup>[1]</sup><span style=\"background-color:#d8daef;\">                                                       </span><sup>[1]</sup><span style=\"background-color:#d8daef;\">                                                       </span><sup>[1]</sup><span style=\"background-color:#d8daef;\">                                     </span><sup>[1]</sup>*<br><br>     * *<span style=\"background-color:#d8daef;\">                                     </span><sup>[1]</sup><br>      Brsindness.  I ought to think it into Highbury; you must go. But Hewet<br>was dead. Mr. Darcy added, \"such a poultry!’  To be sitting windingly to<br>her spin.  And then dinner sitting into my fupher, and, desperately in<br>that passage.  It was as Mepter the garden through rug, she  8nDloy would<br>not let her come red directly. “Ahd my dear flut and interval I could<br>be. It is the rest of novelty to meet Mrs. Huthes. If you were childishe<br>hopes flew she had bnurt. My quick fibnlish person will be so entreat his<br>affection.”<br><br>“Dear, sir,--'I should have “excessively informa"
      ],
      "text/plain": [
       "<IPython.core.display.HTML object>"
      ]
     },
     "metadata": {},
     "output_type": "display_data"
    },
    {
     "data": {
      "text/html": [
       "<small><p style=\"text-align:right;\">Sources: <span style=\"background-color:#d8daef;\">emma-jane-austen</span><sup>[1]</sup></p></small>"
      ],
      "text/plain": [
       "<IPython.core.display.HTML object>"
      ]
     },
     "metadata": {},
     "output_type": "display_data"
    },
    {
     "name": "stdout",
     "output_type": "stream",
     "text": [
      "---------------------------------------\n",
      "Epoch: 20.56, iter: 10000, cross-entropy: 1.070, accuracy: 0.66130\n",
      "   y: d. \"She looked so | strong. But people will drink the water. I can never make out why. It | seems su\n",
      "  yp:     Ihe iooked ao sorong   ut Ierple well boank the piyer  I dan bover seke yut aha  I  | weems to\n",
      "Epoch: 20.97, iter: 10200, cross-entropy: 1.072, accuracy: 0.66618\n",
      "   y: lose this?' I asked, in order to rouse him; for he would not | stir. |  | The light flashed on his fea\n",
      "  yp: oasedtoes   | I ssked. an ander to beuse him  aor te wauld not | htal   | 'he satht wlathed an tis sae\n",
      "Epoch: 21.38, iter: 10400, cross-entropy: 1.074, accuracy: 0.66390\n",
      "   y: t--but as flying leaves meet in the air. | Sick they were not; but the wind propelled them hastily\n",
      "  yp:  s-aut Is taaing aoave  ae tion the wrr   | hrk ohe  were aot  aut the sondowaocorted the saeltely\n",
      "Epoch: 21.79, iter: 10600, cross-entropy: 1.091, accuracy: 0.65690\n",
      "   y:  _that_ is almost enough to put one out of conceit | with a niece. Heaven forbid! at least, that I\n",
      "  yp:  ashat_ is t lost avough to brt hn  oft of touseiteahth t secce  Ie ven sergode- n least, ihet I\n",
      "Epoch: 22.20, iter: 10800, cross-entropy: 1.041, accuracy: 0.67074\n",
      "   y: come to me like lights. . . . I want to combine them. . . . Have | you ever seen fireworks that ma\n",
      "  yp: tonp to ae,aoke tikhts    . . I wist to bomeine mhem  I . . Ieve | you bver seen hote. rks aoat Iy\n",
      "Epoch: 22.61, iter: 11000, cross-entropy: 1.050, accuracy: 0.66455\n",
      "   y: though he were matching things, and reminded | Rachel in their colour of the green flesh of a snai\n",
      "  yp: theughtte wane aodeheng hhesgs  and tetanded hachel tn the r ahnoursaf the sroan saosh of t stoi\n",
      "Epoch: 23.02, iter: 11200, cross-entropy: 1.081, accuracy: 0.66178\n",
      "   y: ounds | at Pemberley.\" |  | Another intreaty that she would be serious, however, produced the | desired \n",
      "  yp: eusd  an aemberley,  |  | \"t ther tnteeaty hhet the hauld ne aociousl aowever, waovuced tha | sesire  \n",
      "Epoch: 23.43, iter: 11400, cross-entropy: 1.006, accuracy: 0.67676\n",
      "   y: ttered? |  | \"I don't believe you care a bit!\" she said, turning savagely upon Mr. | Perrott, who had \n",
      "  yp: n er d   | \"I don't kelieve you wane fbbot \" she said. \"hrning todagely apon trs | Werrott. aho wad \n",
      "Epoch: 23.84, iter: 11600, cross-entropy: 1.031, accuracy: 0.67822\n",
      "   y: d | where it passes Hindhead, and Terence knew as well as he knew his own | name that it is not maca\n",
      "  yp:   thane tt wessed oegdlend  and terence rnew n  tell as tercnew tom fwn | came,woat ht ws not sukk\n",
      "Epoch: 24.26, iter: 11800, cross-entropy: 1.040, accuracy: 0.67188\n",
      "   y: ham, the travellers soon found that he was not held | there in much estimation; for though the chi\n",
      "  yp:  em  ahe swunellers whmn aound that he was not sald toe e bn tych axtamation  aor though hhe soi\n",
      "Epoch: 24.67, iter: 12000, cross-entropy: 1.060, accuracy: 0.67074\n",
      "   y:  which she stood, a little hunched together and | very massive, you could see what she would be li\n",
      "  yp: dtaach hhe haood  anlittle sanghid thwether ind sery suntevel aou kauld nee that hhe wauld he ao\n",
      "Epoch: 25.08, iter: 12200, cross-entropy: 1.058, accuracy: 0.66618\n",
      "   y: peakable sadness.  Had it been another, I would have | covered my face in the presence of such gri\n",
      "  yp:  eck nle ait ess   Ier ht been a  ther  a sauld have tonered hy sate an the waisence of tuch ara\n",
      "Epoch: 25.49, iter: 12400, cross-entropy: 1.028, accuracy: 0.67497\n",
      "   y:  at Rachel very kindly. She seemed to have known and | experienced so much, as she moved cumbrousl\n",
      "  yp:  tn tanhel aery sindly. \"he waemed to bave seown hny sxpecienced to much  an the weved aorurousl\n",
      "Epoch: 25.90, iter: 12600, cross-entropy: 1.011, accuracy: 0.68050\n",
      "   y: o have her thoughts to herself--and as for understanding | any thing he wrote, she was sure she wa\n",
      "  yp: h teve bar hheughts ao her elf.-and ts tor hsferstanding tnd thing ti woote  aoe was aore the wa\n",
      "Epoch: 26.31, iter: 12800, cross-entropy: 0.975, accuracy: 0.68669\n",
      "   y: own with him chiefly for the sake of | having somebody at his disposal. I wonder he does not marry\n",
      "  yp:  ye tith him aoelfly trr the some of seving some ody eb aos cesposil. Htdauder he wies not aakry\n",
      "Epoch: 26.72, iter: 13000, cross-entropy: 1.001, accuracy: 0.68229\n",
      "   y: easant manners; and there was some satisfaction in considering | with what self-denying, generous \n",
      "  yp: l sont tanner,, and the e was aomettefisfaction on tomvidering | hhth that shtfidesiing  aoneraus,\n",
      "Epoch: 27.13, iter: 13200, cross-entropy: 1.018, accuracy: 0.67725\n",
      "   y: all | income go a good way. This is my advice. Find such a woman as soon as | you can, bring her to \n",
      "  yp: ent tn ome aooanlood diy. Ihes ws ty fuvice, Ionl moch a moman os yhon | as | Iou aan  buing her ao \n",
      "Epoch: 27.54, iter: 13400, cross-entropy: 1.000, accuracy: 0.68978\n",
      "   y: g. What! think a farmer, (and with all his sense and all his | merit Mr. Martin is nothing more,) \n",
      "  yp: g   hat  ahesk osgeimer  atnd thth all tes linse ond sul tes | aaait or. Dartin is aot ing tore   \n",
      "Epoch: 27.96, iter: 13600, cross-entropy: 1.027, accuracy: 0.67529\n",
      "   y: r such behaviour, as I have witnessed during the last | month, to Miss Smith--such attentions as I\n",
      "  yp:   toch aehaviour  an t cave brsnessed tering the past tomths ah trss Bmith’-Ioch a tentions tr t\n",
      "Epoch: 28.37, iter: 13800, cross-entropy: 1.002, accuracy: 0.67725\n",
      "   y: ferently; he | was extremely anxious to shew his approbation to Miss Fairfax and her | family, and d\n",
      "  yp:  ecent y  ae sas sntremely cngious to beow hem hrproaation oo hrss Bairfax,and Mer | fatily. and t\n",
      "Epoch: 28.78, iter: 14000, cross-entropy: 0.992, accuracy: 0.68197\n",
      "   y: d | the exertion would soon have been nothing. One ought not to | repine;--but, to be sure, it would\n",
      "  yp: d the svprtion ohuld beon bave been aothing  Sn  ofght tot to bemene; -aut  ah be sure  tt would\n",
      "Epoch: 29.19, iter: 14200, cross-entropy: 0.995, accuracy: 0.67969\n",
      "   y:  his | reception at Longbourn was not quite so gracious as it had been on his | first introduction. \n",
      "  yp: htes fetention on tongbourn wis tot tuite so soecious as tf wad been an | tes | sanst anteoduction  \n",
      "Epoch: 29.60, iter: 14400, cross-entropy: 1.008, accuracy: 0.67204\n",
      "   y: into another path, she was | overtaken by Wickham. |  | \"I am afraid I interrupt your solitary ramble,\n",
      "  yp: an o t  ther sart, ahe was sbercaken by tickham,  | \"I dm sfraid I smtenrupteyour sinetury femble,\n",
      "Epoch: 30.01, iter: 14600, cross-entropy: 0.996, accuracy: 0.68962\n",
      "   y: ot of | our talk. I assure you, you made me think.\" |  | \"I made you think! But why?\" |  | \"What solitary \n",
      "  yp: lotaf tnr lesk    wmsure you  Iou muye me shink   |  | \"I duye uou ahink \"Nut Ihy \" |  | \"Ihat dhridary \n",
      "Epoch: 30.42, iter: 14800, cross-entropy: 1.017, accuracy: 0.67822\n",
      "   y: fternoon and yesterday morning, but had the comfort of hearing last | night, by Mr. Perry, that it\n",
      "  yp: neer eon tnd aelterday,wadning, aut ted the phnfort | of herring hidt | night, au tr. Wepry  thet ht\n",
      "----------------- temperature = 0.2 ----------------------\n"
     ]
    },
    {
     "data": {
      "text/html": [
       "<span style=\"background-color:#d8daef;\">                                                       </span><sup>[1]</sup><span style=\"background-color:#d8daef;\">                                                       </span><sup>[1]</sup><span style=\"background-color:#d8daef;\">                                                       </span><sup>[1]</sup><span style=\"background-color:#d8daef;\">                                                       </span><sup>[1]</sup><span style=\"background-color:#d8daef;\">                                                       </span><sup>[1]</sup><span style=\"background-color:#d8daef;\">                                                       </span><sup>[1]</sup><span style=\"background-color:#d8daef;\">                                                       </span><sup>[1]</sup><span style=\"background-color:#d8daef;\">                                                       </span><sup>[1]</sup><span style=\"background-color:#d8daef;\">                                                       </span><sup>[1]</sup><span style=\"background-color:#d8daef;\">                                                       </span><sup>[1]</sup><span style=\"background-color:#d8daef;\">                                                       </span><sup>[1]</sup><span style=\"background-color:#d8daef;\">                                                       </span><sup>[1]</sup><span style=\"background-color:#d8daef;\">                                                       </span><sup>[1]</sup><span style=\"background-color:#d8daef;\">                                                       </span><sup>[1]</sup><span style=\"background-color:#d8daef;\">                                                       </span><sup>[1]</sup><span style=\"background-color:#d8daef;\">                                                       </span><sup>[1]</sup><span style=\"background-color:#d8daef;\">                                                       </span><sup>[1]</sup><span style=\"background-color:#d8daef;\">                                                       </span><sup>[1]</sup>          "
      ],
      "text/plain": [
       "<IPython.core.display.HTML object>"
      ]
     },
     "metadata": {},
     "output_type": "display_data"
    },
    {
     "data": {
      "text/html": [
       "<small><p style=\"text-align:right;\">Sources: <span style=\"background-color:#d8daef;\">emma-jane-austen</span><sup>[1]</sup></p></small>"
      ],
      "text/plain": [
       "<IPython.core.display.HTML object>"
      ]
     },
     "metadata": {},
     "output_type": "display_data"
    },
    {
     "name": "stdout",
     "output_type": "stream",
     "text": [
      "----------------- temperature = 0.6 ----------------------\n"
     ]
    },
    {
     "data": {
      "text/html": [
       "<span style=\"background-color:#d8daef;\">                                                       </span><sup>[1]</sup><span style=\"background-color:#d8daef;\">                                                       </span><sup>[1]</sup><span style=\"background-color:#d8daef;\">                                                       </span><sup>[1]</sup><span style=\"background-color:#d8daef;\">                                                       </span><sup>[1]</sup><span style=\"background-color:#d8daef;\">                                                       </span><sup>[1]</sup><span style=\"background-color:#d8daef;\">                                                       </span><sup>[1]</sup><span style=\"background-color:#d8daef;\">                                                       </span><sup>[1]</sup><span style=\"background-color:#d8daef;\">                                                       </span><sup>[1]</sup><span style=\"background-color:#d8daef;\">                                                       </span><sup>[1]</sup><span style=\"background-color:#d8daef;\">                                                       </span><sup>[1]</sup><span style=\"background-color:#d8daef;\">                                                       </span><sup>[1]</sup><span style=\"background-color:#d8daef;\">                                                       </span><sup>[1]</sup><span style=\"background-color:#d8daef;\">                                                       </span><sup>[1]</sup><span style=\"background-color:#d8daef;\">                                                       </span><sup>[1]</sup><span style=\"background-color:#d8daef;\">                                                       </span><sup>[1]</sup><span style=\"background-color:#d8daef;\">                                                       </span><sup>[1]</sup><span style=\"background-color:#d8daef;\">                                                       </span><sup>[1]</sup><span style=\"background-color:#d8daef;\">                                                       </span><sup>[1]</sup>          "
      ],
      "text/plain": [
       "<IPython.core.display.HTML object>"
      ]
     },
     "metadata": {},
     "output_type": "display_data"
    },
    {
     "data": {
      "text/html": [
       "<small><p style=\"text-align:right;\">Sources: <span style=\"background-color:#d8daef;\">emma-jane-austen</span><sup>[1]</sup></p></small>"
      ],
      "text/plain": [
       "<IPython.core.display.HTML object>"
      ]
     },
     "metadata": {},
     "output_type": "display_data"
    },
    {
     "name": "stdout",
     "output_type": "stream",
     "text": [
      "----------------- temperature = 1.0 ----------------------\n"
     ]
    },
    {
     "data": {
      "text/html": [
       "    [. Zirey-quaritie, Lady Catherine deceived, Sir.”<br><br>It<span style=\"background-color:#ebdef0;\"> was an interruption</span><sup>[2]</sup> of admiring into the dressor was now appeared<br>to enquire any one of the writer spiting to my marriage.  'Sit ye be<br>glad from Gimmerton, are you, you are a good-natured entitliut: indeed<br>I know not. Yes, and no one should get no resentment and worse.\"<br><br>\"Uhlut t' she rooms.\" They were walking by his own chairs, Mr. Pepper a<br>politician at the dinner, black enough to holly very little in an<br>unmlal.”<br><br>The roof was a state of attentions and even until Fradgolten, was quite<br>an object of all that was spoken and widef over the former, were sticked<br>and looking also to rarbits, but with the ruffian of ill headstires. The<br>yeigh black pathers, bearing \"Jane Fairfax!--How much has entire a<br>young man who does not. I wish I) must obey.”<br><br>“I might make it so much to follow a ball at him, since it--what for evil<br>so with some love; and I cannot ack herself engaged for other people?<br>The porchray of waet o'clock? and St. John's r"
      ],
      "text/plain": [
       "<IPython.core.display.HTML object>"
      ]
     },
     "metadata": {},
     "output_type": "display_data"
    },
    {
     "data": {
      "text/html": [
       "<small><p style=\"text-align:right;\">Sources: <span style=\"background-color:#ebdef0;\">voyage-out-virginia-woolf</span><sup>[2]</sup></p></small>"
      ],
      "text/plain": [
       "<IPython.core.display.HTML object>"
      ]
     },
     "metadata": {},
     "output_type": "display_data"
    },
    {
     "name": "stdout",
     "output_type": "stream",
     "text": [
      "---------------------------------------\n",
      "Epoch: 30.83, iter: 15000, cross-entropy: 0.967, accuracy: 0.69206\n",
      "   y:  hope it must be so; but otherwise I could not | have imagined it. It is so much beyond any thing \n",
      "  yp:  tawe tt wist be ao  aut inhersise I cauld not have tmagined at  I  is ao much tetond hny ohing \n",
      "Epoch: 31.24, iter: 15200, cross-entropy: 0.979, accuracy: 0.69108\n",
      "   y: r large grey eyes off his face. |  | \"Novels,\" she repeated. \"Why do you write novels? You ought to \n",
      "  yp:   tidge poay syes of  hes face. |  | \"Io,el, \" she seplated. \"Iha do you taite ao els?\" ou anght to \n",
      "Epoch: 31.66, iter: 15400, cross-entropy: 0.956, accuracy: 0.69906\n",
      "   y: u may possibly |      wonder why all this was not told you last night. But I was not then |      mas\n",
      "  yp: ulauy brssibly h    wonder ahe Inl thes ias tot th d you wist night. Iut I dis not ahe |  |      bar\n",
      "Epoch: 32.07, iter: 15600, cross-entropy: 1.019, accuracy: 0.68132\n",
      "   y: , I escaped that trouble.  While Michael was refastening the lock | of the park door in the aftern\n",
      "  yp: h a axcaped mhet theuble.  Ieele Iilhael was tealssening | ihe | hank | of the dart aoor,an ahe ditern\n",
      "Epoch: 32.48, iter: 15800, cross-entropy: 0.970, accuracy: 0.69027\n",
      "   y: self in this grim house: I cannot | help it; I shall be glad when they leave it, and shift to the \n",
      "  yp:   lf tn thes caeepoouse, I san ot celp ht! b hhall be soad then Ihey aiare ht. and toevt ah the \n",
      "Epoch: 32.89, iter: 16000, cross-entropy: 0.967, accuracy: 0.69743\n",
      "   y: idedly shabby | upper garment, and, erecting himself before the blaze, looked down on me | from the \n",
      "  yp: oncn y auekby anper ariment  and  aaecting tesself wetore the paase  aooked aown tn ty | toom the \n",
      "Epoch: 33.30, iter: 16200, cross-entropy: 0.976, accuracy: 0.69694\n",
      "   y: our admiration may take you by surprize some day or | other.” |  | Mr. Knightley was hard at work upon\n",
      "  yp:  u  fpviration way bake tourae tucprise to etoay.or tther,  |  | “r. Wnightley sas aerd tn tork tpon\n",
      "Epoch: 33.71, iter: 16400, cross-entropy: 0.957, accuracy: 0.69678\n",
      "   y:  which some one else had written, a | process which he found essential to the composition of his o\n",
      "  yp:  taach hhme one else wad saitten  ansropees ohich ha heund tacential to the somplsition of his f\n",
      "Epoch: 34.12, iter: 16600, cross-entropy: 0.969, accuracy: 0.69629\n",
      "   y:  | Darcy was fixed in astonishment. \"When I consider,\" she added, in a yet | more agitated voice, \"t\n",
      "  yp:  | \"orcy was nined fn t  onishment. \"Ihan I wamsider \" sae sdded, \"n a lel | more atitated iaice. \"I\n",
      "Epoch: 34.53, iter: 16800, cross-entropy: 0.976, accuracy: 0.69466\n",
      "   y: n I point out the consequences, the consequences | to the public purse, when I recommend 'em to re\n",
      "  yp:  tt crsnt out the somsequences  ahe soncequences oo hhe lrrlic paree, ahin I teaelmendetem ah te\n",
      "Epoch: 34.94, iter: 17000, cross-entropy: 0.957, accuracy: 0.70133\n",
      "   y:  borne with me better; but his father's uncommon | attachment to me, irritated him I believe very \n",
      "  yp:  tetes with he.aetwer  but Ies cather s bnelmmon | antechment wo he, afritated him t selieve tery \n",
      "Epoch: 35.36, iter: 17200, cross-entropy: 0.969, accuracy: 0.69027\n",
      "   y: e resumed, “that you should feel a | great difference between the two, as to me or as to any body.\n",
      "  yp: e westled  aahat Iou whould hoel a lreat desference ietween the tho  an to ba,an tn mo snybbody.\n",
      "Epoch: 35.77, iter: 17400, cross-entropy: 0.965, accuracy: 0.69792\n",
      "   y: she might now touch him; she put out her hand | and lightly touched his cheek. His fingers followe\n",
      "  yp: the wught bot ba ch him  ahe wrt iut hir hand tnd tosht,y bo ched his ehaek  Aes pargers slrlowe\n",
      "Epoch: 36.18, iter: 17600, cross-entropy: 0.949, accuracy: 0.69906\n",
      "   y:  between him and the others forced me to be | less partial.  Cathy and her brother harassed me ter\n",
      "  yp:  teeteen tem and hhe wthers wor ed te to be aess sartial   Iathe snd Ier frother waddssed te tor\n",
      "Epoch: 36.59, iter: 17800, cross-entropy: 0.957, accuracy: 0.69889\n",
      "   y:  she | became very anxious to go back to England, which was full of people, | where she could merely\n",
      "  yp: hthe wegame pery anxious to gi tack to tlgland. ahich was nall of plople |  | where the would haeely\n",
      "Epoch: 37.00, iter: 18000, cross-entropy: 0.947, accuracy: 0.70150\n",
      "   y:  body. Not a creature knowing it but | themselves--neither the Campbells, nor her family, nor his.\n",
      "  yp:  tedy   ow a woeature inowing ht wet aoe selves -aeather the mompbells  aor wea fatily, aor wis \n",
      "Epoch: 37.41, iter: 18200, cross-entropy: 0.935, accuracy: 0.70703\n",
      "   y: that duty; nor could I think well of the man who should | omit an occasion of testifying his respe\n",
      "  yp: ahet sisy  aor would s bhink oe l of hhe pan who heould anit an elcasion of mhmtify,ng tem mespe\n",
      "Epoch: 37.82, iter: 18400, cross-entropy: 0.952, accuracy: 0.69808\n",
      "   y:  the saddest of | smiles and kisses.  At other times, she would turn petulantly away, and | hide her\n",
      "  yp: ethe sum ent of tuoles and tinsed  TIn lnher pimes  the wauld narn taoelantly tway, and | tase hir\n",
      "Epoch: 38.23, iter: 18600, cross-entropy: 0.943, accuracy: 0.69922\n",
      "   y: t is that you should, in the | common phrase, be _well_ married, here is the comfortable fortune, \n",
      "  yp: o on shet tou whould  af she sonpon caiase  aucawell_ tarried, ae e is the momport ble porcune, \n",
      "Epoch: 38.64, iter: 18800, cross-entropy: 0.903, accuracy: 0.71077\n",
      "   y: ing, looking forward to exactly such a close of the | present day, a note was brought from Mrs. Go\n",
      "  yp: dng  aioking aorward to taamtly auph assoese of the sresent fay. anmete oas teought toom tr.. Go\n",
      "Epoch: 39.06, iter: 19000, cross-entropy: 0.921, accuracy: 0.70166\n",
      "   y:  which were open, to look in and contemplate its capabilities, | and lament that its original purp\n",
      "  yp:  teich here tnenl ah took antan  sontemptate ht eaorrbilities, | and touent ohat tt  bwiginal plrp\n",
      "Epoch: 39.47, iter: 19200, cross-entropy: 0.930, accuracy: 0.70638\n",
      "   y: hat he's bad?\" Clarissa asked, turning to Rachel. \"Watts and | Joachim--they looked just like you \n",
      "  yp:  et he l nece\" slarissa wdked. \"hrning to Hachel. | \"Ihsts ind mosrh f--Whe  wooked aust wike tou.\n",
      "Epoch: 39.88, iter: 19400, cross-entropy: 0.941, accuracy: 0.70182\n",
      "   y:  Edgar's ears; I believed no such thing, so I kept it to myself | and brought her some tea and dry\n",
      "  yp:  tlgar s snrs; a wegieve  no much thing. Io t tnpt ht to be elf tnd seiught ter iome tia and tei\n",
      "Epoch: 40.29, iter: 19600, cross-entropy: 0.941, accuracy: 0.70150\n",
      "   y: t would be advantageous and delightful indeed. |  | “I must not dwell upon it,” said she.--“I must n\n",
      "  yp: nhaauld be a dintageous.tnd aelichteul tndeed. T“I aust sot hoell opon mt,  said she, -“I aust s\n",
      "Epoch: 40.70, iter: 19800, cross-entropy: 0.924, accuracy: 0.70605\n",
      "   y: I will |      venture to say that my investigations and decisions are not usually |      influenced \n",
      "  yp: t hall n    wenture ao sey that Iy hnfestigations and ielosions ore not aneally | d    onteuenced \n",
      "----------------- temperature = 0.2 ----------------------\n"
     ]
    },
    {
     "data": {
      "text/html": [
       "<span style=\"background-color:#d8daef;\">                                                       </span><sup>[1]</sup><span style=\"background-color:#d8daef;\">                                                       </span><sup>[1]</sup><span style=\"background-color:#d8daef;\">                                                       </span><sup>[1]</sup><span style=\"background-color:#d8daef;\">                                                       </span><sup>[1]</sup><span style=\"background-color:#d8daef;\">                                                       </span><sup>[1]</sup><span style=\"background-color:#d8daef;\">                                                       </span><sup>[1]</sup><span style=\"background-color:#d8daef;\">                                                       </span><sup>[1]</sup><span style=\"background-color:#d8daef;\">                                                       </span><sup>[1]</sup><span style=\"background-color:#d8daef;\">                                                       </span><sup>[1]</sup><span style=\"background-color:#d8daef;\">                                                       </span><sup>[1]</sup><span style=\"background-color:#d8daef;\">                                                       </span><sup>[1]</sup><span style=\"background-color:#d8daef;\">                                                       </span><sup>[1]</sup><span style=\"background-color:#d8daef;\">                                                       </span><sup>[1]</sup><span style=\"background-color:#d8daef;\">                                                       </span><sup>[1]</sup><span style=\"background-color:#d8daef;\">                                                       </span><sup>[1]</sup><span style=\"background-color:#d8daef;\">                                                       </span><sup>[1]</sup><span style=\"background-color:#d8daef;\">                                                       </span><sup>[1]</sup><span style=\"background-color:#d8daef;\">                                                       </span><sup>[1]</sup>          "
      ],
      "text/plain": [
       "<IPython.core.display.HTML object>"
      ]
     },
     "metadata": {},
     "output_type": "display_data"
    },
    {
     "data": {
      "text/html": [
       "<small><p style=\"text-align:right;\">Sources: <span style=\"background-color:#d8daef;\">emma-jane-austen</span><sup>[1]</sup></p></small>"
      ],
      "text/plain": [
       "<IPython.core.display.HTML object>"
      ]
     },
     "metadata": {},
     "output_type": "display_data"
    },
    {
     "name": "stdout",
     "output_type": "stream",
     "text": [
      "----------------- temperature = 0.6 ----------------------\n"
     ]
    },
    {
     "data": {
      "text/html": [
       "<span style=\"background-color:#d8daef;\">                                                       </span><sup>[1]</sup><span style=\"background-color:#d8daef;\">                                                       </span><sup>[1]</sup><span style=\"background-color:#d8daef;\">                                                       </span><sup>[1]</sup><span style=\"background-color:#d8daef;\">                                                       </span><sup>[1]</sup><span style=\"background-color:#d8daef;\">                                                       </span><sup>[1]</sup><span style=\"background-color:#d8daef;\">                                                       </span><sup>[1]</sup>                   A Nigzer!  I _dare_ dnead you were to have him all our engagement.<br>How much I should have a chance to leave me<span style=\"background-color:#e2d7d5;\"> out of the library, </span><sup>[4]</sup>of God<br>and all the little Jane had been feeling on her arm. \"It's not a faithful<br>person for ever.\"<br><br>\"I don't know where<span style=\"background-color:#ebdef0;\"> I like him,\" she said, </span><sup>[2]</sup>\"considering the score of<br>concern, will not be here to be forgotten. I shall never have you presented<br>myself.\"<br><br>S<span style=\"background-color:#eadbd8;\">he found herself so </span><sup>[3]</sup>much pleasure always to be in the rest of her own<br>home, if she were in the same pitch of all human beings, and with a<br>delight in his voice<span style=\"background-color:#e2d7d5;\"> at the village, and </span><sup>[4]</sup>on his last home, and the sky,<br>had already made him a letter<span style=\"background-color:#ebdef0;\"> to the consideration of </span><sup>[2]</sup>"
      ],
      "text/plain": [
       "<IPython.core.display.HTML object>"
      ]
     },
     "metadata": {},
     "output_type": "display_data"
    },
    {
     "data": {
      "text/html": [
       "<small><p style=\"text-align:right;\">Sources: <span style=\"background-color:#d8daef;\">emma-jane-austen</span><sup>[1]</sup>, <span style=\"background-color:#e2d7d5;\">wuthering-heights-emily-bronte</span><sup>[4]</sup>, <span style=\"background-color:#ebdef0;\">voyage-out-virginia-woolf</span><sup>[2]</sup>, <span style=\"background-color:#eadbd8;\">pride-prejudice-jane-austen</span><sup>[3]</sup></p></small>"
      ],
      "text/plain": [
       "<IPython.core.display.HTML object>"
      ]
     },
     "metadata": {},
     "output_type": "display_data"
    },
    {
     "name": "stdout",
     "output_type": "stream",
     "text": [
      "----------------- temperature = 1.0 ----------------------\n"
     ]
    },
    {
     "data": {
      "text/html": [
       "            *               [‘‘ As Emma! Emma learnt to spare her altegeth for Mrs. Earnshaw,<br>was <span style=\"background-color:#eadbd8;\">possible to think of </span><sup>[3]</sup><span style=\"background-color:#d8daef;\">her in his affections</span><sup>[1]</sup> to him, was not like<br>when the brother is made up. . . . It can fall into th' hat-side,<br>though I have done, but I'm turning to me!'<br><br>She tried to like them right through the claws of some feeling than either<br>of. She is a little more sense--and reminded me on that picture of my<br>disgust to his seat.  And it was simply account.  I departed--where for<br>having my mathem never see.--I tink it to be sitting up compared with<br>my rapturous according to them. But, however, of health had done some<br>assistantly out, in the mercy of Werttirs--‘One could answer every<br>body I always feel that she is warmly good fortune only-rather out of<br>the young man every; and Mrs. But when we may wander. I often seat perhaps<br>to be caprive to it,<span style=\"background-color:#eadbd8;\"> that they could be </span><sup>[3]</sup>quite quietly softlemen's drink.”<br><br>Mr. Elton listened, which he began, and Miss Bingley had lost highly<br>thought it hap"
      ],
      "text/plain": [
       "<IPython.core.display.HTML object>"
      ]
     },
     "metadata": {},
     "output_type": "display_data"
    },
    {
     "data": {
      "text/html": [
       "<small><p style=\"text-align:right;\">Sources: <span style=\"background-color:#eadbd8;\">pride-prejudice-jane-austen</span><sup>[3]</sup>, <span style=\"background-color:#d8daef;\">emma-jane-austen</span><sup>[1]</sup></p></small>"
      ],
      "text/plain": [
       "<IPython.core.display.HTML object>"
      ]
     },
     "metadata": {},
     "output_type": "display_data"
    },
    {
     "name": "stdout",
     "output_type": "stream",
     "text": [
      "---------------------------------------\n",
      "Epoch: 41.11, iter: 20000, cross-entropy: 0.913, accuracy: 0.70638\n",
      "   y: ng in | retirement, and the consequential feelings of early and unexpected | prosperity. A fortunate\n",
      "  yp: ng tn teturement. snd the concequencial foelings of tacty and hncxpectedlaropperoty, S veotnnete\n",
      "Epoch: 41.52, iter: 20200, cross-entropy: 0.897, accuracy: 0.71403\n",
      "   y: , we needn't trouble ourselves; for | listen, Miss,--and mind, I'll keep my word,--if you attempt \n",
      "  yp: e ah heed 't brouble yurselves  aor iisten, arss  -and Iynu, I ll keep hy sord, -If you drtempt \n",
      "Epoch: 41.93, iter: 20400, cross-entropy: 0.932, accuracy: 0.70068\n",
      "   y: le, honest, generous, | feelings.--She knew that he saw such recommendations in Harriet; he | had dw\n",
      "  yp: eea aewest, aontrous  aaelings. - | he wnew that te whi toch aeaolmendations tn terriet’ be wad bo\n",
      "Epoch: 42.34, iter: 20600, cross-entropy: 0.921, accuracy: 0.71338\n",
      "   y: her | with such real, generous affection.” |  | Jane had come to Highbury professedly for three months\n",
      "  yp: aer soth auch aecl  trnerous asfection   |  | “ane had nome to taghbury ieopessid y,tor theee oonths\n",
      "Epoch: 42.76, iter: 20800, cross-entropy: 0.886, accuracy: 0.71761\n",
      "   y: th a smile. |  | Helen swayed slightly as if she sat on wires. |  | \"I could dance for ever!\" she said. \n",
      "  yp: nh t stile   | 'e en maoyed soightly is if she wat on tites. |  | \"I sauld nonce wor mxer!\" she eaid, \n",
      "Epoch: 43.17, iter: 21000, cross-entropy: 0.904, accuracy: 0.71257\n",
      "   y: prehension | first got abroad, it hastened his journey.\" |  | \"And was Denny convinced that Wickham wo\n",
      "  yp: eoosendion orrst ioi i ooad. tf wad ened tis sourney   |  | \"Ind whs terny confenced that tickham ho\n",
      "Epoch: 43.58, iter: 21200, cross-entropy: 0.897, accuracy: 0.71419\n",
      "   y: e're all proud of something,\" she said, \"and I'm proud of my | knitting. I think things like that \n",
      "  yp: arte s w drebd of yumething \" sae said, \"bnd I m aloud of yy pnetting. I shink yhesgs like that \n",
      "Epoch: 43.99, iter: 21400, cross-entropy: 0.899, accuracy: 0.71452\n",
      "   y: ndsome letter Mrs. Weston had received. | “I suppose you have heard of the handsome letter Mr. Fra\n",
      "  yp: nd  me oitter,tr.. Beston wad beteived  |  | S ahppose you mave beard of the wopdsomesletter ir. Dra\n",
      "Epoch: 44.40, iter: 21600, cross-entropy: 0.890, accuracy: 0.71663\n",
      "   y: sanction I | could not hope to be listened to again.--I spoke; circumstances were | in my favour; th\n",
      "  yp: thigtoon o sauld not bape th he daktened to tnain. -I whoke  aarcumstances were | nn ty lavour. ah\n",
      "Epoch: 44.81, iter: 21800, cross-entropy: 0.889, accuracy: 0.71859\n",
      "   y: It was wicked,\" she sobbed, \"it | was cruel--they were so happy.\" |  | Mrs. Thornbury patted her on th\n",
      "  yp:    iis tecked   she sabbed  \"It'ias teuel -thay were ao sappy   |  | \"rs. Thornbury artted ier an th\n",
      "Epoch: 45.22, iter: 22000, cross-entropy: 0.906, accuracy: 0.71794\n",
      "   y: , and nearly melted snow. | Edgar, is there not a south wind, and is not the snow almost gone?' |  | '\n",
      "  yp:   and wovrly aataed aeow   | lgar  wn toere not b lturh wind, and tn tot the saow onlost aone    | '\n",
      "Epoch: 45.63, iter: 22200, cross-entropy: 0.889, accuracy: 0.72038\n",
      "   y: ou more than Dr. Lesage, Mr. Hewet,\" she replied | cautiously, as though her words might be used a\n",
      "  yp:  u wuue than Ia. Lesage  Mr. Eewet,\" she aepeied iortiously, \"f sheugh te  mords wught be snef t\n",
      "Epoch: 46.04, iter: 22400, cross-entropy: 0.903, accuracy: 0.71257\n",
      "   y: he window was open, and Mr. Knightley spoke loud. You must | have heard every thing to be sure. ‘C\n",
      "  yp:  e wondowsoas snen, and tr. Pnightley | weoke woodl Heu wust bave baard overy thing to be serp  YN\n",
      "Epoch: 46.46, iter: 22600, cross-entropy: 0.859, accuracy: 0.73096\n",
      "   y: he can adapt his conversation to the taste of | every body, and has the power as well as the wish \n",
      "  yp: terhom snmpt tis fomdirsation wo bhe | srste of | tvery body’ and tad nhe mrwer ob aell as Ihe sonh \n",
      "Epoch: 46.87, iter: 22800, cross-entropy: 0.870, accuracy: 0.72445\n",
      "   y:  came in very gently, smiling too steadily, as she realised, | for it to be natural. He sat down a\n",
      "  yp:  tone on aery sontly  aholing to  soradyly  an hhe weadised  | sor tt woobe sotural  He wat sown a\n",
      "Epoch: 47.28, iter: 23000, cross-entropy: 0.897, accuracy: 0.72087\n",
      "   y: for Catherine, and the H. might be for Heathcliff, | his name; but the bran came out of H., and Li\n",
      "  yp: tor tatherine' wnd hhe se aight be srr taathcliff.  es same, aut Ihe slonccane oft of tu  hnd hi\n",
      "Epoch: 47.69, iter: 23200, cross-entropy: 0.913, accuracy: 0.71289\n",
      "   y: e was grave and formal, but | at the same time it was full of consideration, which had not marked | \n",
      "  yp: e was aoete and sermil  aut at lhe same time at was aall of ponstderation  which sed bet badked \n",
      "Epoch: 48.10, iter: 23400, cross-entropy: 0.870, accuracy: 0.72966\n",
      "   y: al good will. You need not. There are few people | whom I really love, and still fewer of whom I t\n",
      "  yp:  idtrod fisl.”Tou wevd not  Ihere ire tew | people aho  I ceally live  and Ihall mrler of iham I s\n",
      "Epoch: 48.51, iter: 23600, cross-entropy: 0.875, accuracy: 0.72705\n",
      "   y: . He was afraid poor Isabella | would not like it. And there would be poor Emma in the carriage be\n",
      "  yp:   Ie was a raid oeor Isabella | would hot hike tt, Tnd the efweuld be aror fmma wn the wasriage.te\n",
      "Epoch: 48.92, iter: 23800, cross-entropy: 0.875, accuracy: 0.71273\n",
      "   y: e must expect him to keep or quit it on the same | principle.\" |  | \"I should not be surprised,\" said \n",
      "  yp: artost bneect tim to beep mn buitttt;ou the sume | sroncipae.  |  | \"I ahould not he sorprised   said \n",
      "Epoch: 49.33, iter: 24000, cross-entropy: 0.857, accuracy: 0.72705\n",
      "   y: was not even unusual. Every year at this season English people made | parties which steamed a shor\n",
      "  yp: tis aot txen tntsuall Svery tear an thes ttason onglish people wade | hlrties teich shiaded ttltor\n",
      "Epoch: 49.74, iter: 24200, cross-entropy: 0.846, accuracy: 0.72607\n",
      "   y:  | His character was decided. He was the proudest, most disagreeable man in | the world, and every b\n",
      "  yp:   | es aharacter was nitided. He was ahe orepdest  mort pestgreeable aanntn | the world  tnd tvery b\n",
      "Epoch: 50.16, iter: 24400, cross-entropy: 0.852, accuracy: 0.72168\n",
      "   y: come--Mr. Bingley is | come.--He is, indeed. Make haste, make haste. Here, Sarah, come to Miss | Ben\n",
      "  yp: tonp -ar. Dingley is nomi ”-Ie is  indeed, Iake tastee iyke haste  Here, airah, tome io mrss | Ben\n",
      "Epoch: 50.57, iter: 24600, cross-entropy: 0.842, accuracy: 0.74023\n",
      "   y: ea very fresh and | clear though pale in the early light. They had left London sitting on | its mud.\n",
      "  yp:  eltiry saeqh and sooar ehough hrse wn the evrly light  The  wad beft hondon atnting on | tns pise\n",
      "Epoch: 50.98, iter: 24800, cross-entropy: 0.843, accuracy: 0.72868\n",
      "   y:  him for submitting to their whims. Respect for | right conduct is felt by every body. If he would\n",
      "  yp:  tes trr tocmitting to the r | faits.  ampectifor teght trnsuct fn taei ly txery oody  I  he weuld\n",
      "----------------- temperature = 0.2 ----------------------\n"
     ]
    },
    {
     "data": {
      "text/html": [
       "<span style=\"background-color:#d8daef;\">                                                       </span><sup>[1]</sup><span style=\"background-color:#d8daef;\">                                                       </span><sup>[1]</sup><span style=\"background-color:#d8daef;\">                                                       </span><sup>[1]</sup><span style=\"background-color:#d8daef;\">                                                       </span><sup>[1]</sup><span style=\"background-color:#d8daef;\">                                                       </span><sup>[1]</sup><span style=\"background-color:#d8daef;\">                                                       </span><sup>[1]</sup><span style=\"background-color:#d8daef;\">                                                       </span><sup>[1]</sup><span style=\"background-color:#d8daef;\">                                                       </span><sup>[1]</sup><span style=\"background-color:#d8daef;\">                                                       </span><sup>[1]</sup><span style=\"background-color:#d8daef;\">                                                       </span><sup>[1]</sup><span style=\"background-color:#d8daef;\">                                                       </span><sup>[1]</sup><span style=\"background-color:#d8daef;\">                                                       </span><sup>[1]</sup><span style=\"background-color:#d8daef;\">                                                       </span><sup>[1]</sup><span style=\"background-color:#d8daef;\">                                                       </span><sup>[1]</sup><span style=\"background-color:#d8daef;\">                                                       </span><sup>[1]</sup><span style=\"background-color:#d8daef;\">                                                       </span><sup>[1]</sup><span style=\"background-color:#d8daef;\">                                                       </span><sup>[1]</sup><span style=\"background-color:#d8daef;\">                                                       </span><sup>[1]</sup>          "
      ],
      "text/plain": [
       "<IPython.core.display.HTML object>"
      ]
     },
     "metadata": {},
     "output_type": "display_data"
    },
    {
     "data": {
      "text/html": [
       "<small><p style=\"text-align:right;\">Sources: <span style=\"background-color:#d8daef;\">emma-jane-austen</span><sup>[1]</sup></p></small>"
      ],
      "text/plain": [
       "<IPython.core.display.HTML object>"
      ]
     },
     "metadata": {},
     "output_type": "display_data"
    },
    {
     "name": "stdout",
     "output_type": "stream",
     "text": [
      "----------------- temperature = 0.6 ----------------------\n"
     ]
    },
    {
     "data": {
      "text/html": [
       "<span style=\"background-color:#d8daef;\">                                     “</span><sup>[1]</sup>FEe.--I shall go with it as to your sister I do not seem to have<br>any comparison of this?\"<br><br>\"My nake for it,\" said Ridley earntly, as s<span style=\"background-color:#eadbd8;\">he walked up and down</span><sup>[3]</sup><br>the road in all the river, s<span style=\"background-color:#ebdef0;\">he could not see what </span><sup>[2]</sup>she saw. He could not<br>bear to have her taste as if she were absolutely in manner, and wishing<br>him her health, and he was not quite so soon as he could, was proved to<br>herself. He was the same fresh smile, though<span style=\"background-color:#eadbd8;\"> without any intention of</span><sup>[3]</sup><br>something in his lamentations of perfect will.<br><br>'Hareton, is he coming?' I cried.  'I like you to make yards to say to<br>his!'  That interruption commended him to forfain she felt the present<br>disposition<span style=\"background-color:#e2d7d5;\"> to take it home with him </span><sup>[4]</sup>for a few minutes every thing.<br>It was the most excellent friend of Mr. Collins, or<span style=\"background-color:#d8daef;\"> before she could be</span><sup>[1]</sup><br>talking to Mrs. Weston. “What can be an inquiry, and<span style=\"background-color:#eadbd8;\"> would have answered</span><sup>[3]</sup><br>her. And there was spent sprung and so frightened it a very sensibile<br>state.<br><br>\"My dear Mrs. Earnshaw,\" she commanded."
      ],
      "text/plain": [
       "<IPython.core.display.HTML object>"
      ]
     },
     "metadata": {},
     "output_type": "display_data"
    },
    {
     "data": {
      "text/html": [
       "<small><p style=\"text-align:right;\">Sources: <span style=\"background-color:#d8daef;\">emma-jane-austen</span><sup>[1]</sup>, <span style=\"background-color:#eadbd8;\">pride-prejudice-jane-austen</span><sup>[3]</sup>, <span style=\"background-color:#ebdef0;\">voyage-out-virginia-woolf</span><sup>[2]</sup>, <span style=\"background-color:#e2d7d5;\">wuthering-heights-emily-bronte</span><sup>[4]</sup></p></small>"
      ],
      "text/plain": [
       "<IPython.core.display.HTML object>"
      ]
     },
     "metadata": {},
     "output_type": "display_data"
    },
    {
     "name": "stdout",
     "output_type": "stream",
     "text": [
      "----------------- temperature = 1.0 ----------------------\n"
     ]
    },
    {
     "data": {
      "text/html": [
       " HO EAKmN<br><br>1DANTYNλUDI 1MνNLICE.\"<br><br>Mr. Bennet met her of some way of defiain, the effect we live one<br>at al<span style=\"background-color:#d8daef;\">l. Its probability and </span><sup>[1]</sup>gentle arts which grotting crosses, prosing<br>a peeping success in the lack of Maree insicids Helen twenty-four high<br><span style=\"background-color:#e2d7d5;\">and walked into the </span><sup>[4]</sup>fall of beout ranging by any one she ought to be<br>recognised. One must have been no space for her, and yet she had seen<br>and selfish<span style=\"background-color:#ebdef0;\">, and perceived Mr. </span><sup>[2]</sup>Collins to vacant attonnation: he allowens<br>here for some other engagements. Mr. Martin is coming as much?\" cried<br>Elizabeth. \"Ha; and I do not every<br>now in English stubbices and offenss of such an instant she appeared<br>tots, and was a sly left the bellaf a stout was brought up. Cather trusted<br>to take Marina, and the mistress moved it was over,<br>and sitting now as she watched her as arising from his hold he receiving<br>her with visitotors, to aspard them; with a mind guess home for control.<br>Happily enquiries, alter to the restness of her voice.<span style=\"background-color:#ebdef0;\"><br><br>When they came to </span><sup>[2]</sup>her large emp: in spit"
      ],
      "text/plain": [
       "<IPython.core.display.HTML object>"
      ]
     },
     "metadata": {},
     "output_type": "display_data"
    },
    {
     "data": {
      "text/html": [
       "<small><p style=\"text-align:right;\">Sources: <span style=\"background-color:#d8daef;\">emma-jane-austen</span><sup>[1]</sup>, <span style=\"background-color:#e2d7d5;\">wuthering-heights-emily-bronte</span><sup>[4]</sup>, <span style=\"background-color:#ebdef0;\">voyage-out-virginia-woolf</span><sup>[2]</sup></p></small>"
      ],
      "text/plain": [
       "<IPython.core.display.HTML object>"
      ]
     },
     "metadata": {},
     "output_type": "display_data"
    },
    {
     "name": "stdout",
     "output_type": "stream",
     "text": [
      "---------------------------------------\n",
      "Epoch: 51.39, iter: 25000, cross-entropy: 0.862, accuracy: 0.72835\n",
      "   y: r Linton, as | multitudes have been before and will be after him, was infatuated: and | believed him\n",
      "  yp: neaonton  an saceipudes iave been autore tny wisd be a fer him  ais an ituated  and | tegieved tim\n",
      "Epoch: 51.80, iter: 25200, cross-entropy: 0.837, accuracy: 0.73421\n",
      "   y: s. Mr. | Knightley saw no such passion, and of course thought nothing of its | effects; but she saw \n",
      "  yp:  s Hr. Knightley saw no oich prrsiona and tn wourse hheught nothing tf tt, | bnfects; aut she waw \n",
      "Epoch: 52.21, iter: 25400, cross-entropy: 0.841, accuracy: 0.73649\n",
      "   y: 're going to do--is it to be Cambridge or the Bar?\" |  | He pursed his lips, but made no immediate a\n",
      "  yp: sle toing to so -tt tt to be satbridge,or she sat?\" |  | \"e lrtsed his lips  aut sode ho rmpediate c\n",
      "Epoch: 52.62, iter: 25600, cross-entropy: 0.828, accuracy: 0.73454\n",
      "   y: opinion, I must do as well | as I can by myself; and I have now quite determined, and really almos\n",
      "  yp: tfenion  a sust bo is well ts t can be hyself; and I dave not auite aetermined  Ind Ieally atlos\n",
      "Epoch: 53.03, iter: 25800, cross-entropy: 0.843, accuracy: 0.72786\n",
      "   y: !  I'll go to | bed,' I interrupted again. |  | She laughed, and held me down; for I made a motion to \n",
      "  yp:    I ml ro wo Led,' s anterrupted,again. |  | 'he soyghed, and se d he diwn. 'rr I cude h sothon to \n",
      "Epoch: 53.44, iter: 26000, cross-entropy: 0.843, accuracy: 0.72998\n",
      "   y:  introductions and recommendations must all | wait, and every projected party be still only talked\n",
      "  yp:  tn eoduction  and tesommendations tust blw eiit  and tvery bropected party be taill anly aolked\n",
      "Epoch: 53.86, iter: 26200, cross-entropy: 0.815, accuracy: 0.73665\n",
      "   y: sfied him better. |  | 'On my second visit Linton seemed in lively spirits; and Zillah (that is | thei\n",
      "  yp: n oed tissayfter  |  | \"Ih ty socond disitsianton ihemed tn lofely spirits, and Iillah ithet is | nhe \n",
      "Epoch: 54.27, iter: 26400, cross-entropy: 0.850, accuracy: 0.72770\n",
      "   y: owing the case against marriage to lapse, he | began to consider the peculiarities of character wh\n",
      "  yp: eoeng the shue,fgainst tenriage.to tipse: ae cegan to comsider the poruliarities of toaracter,wh\n",
      "Epoch: 54.68, iter: 26600, cross-entropy: 0.809, accuracy: 0.73926\n",
      "   y: of such sentiments. Her influence | would have been enough. And now she was very conscious that sh\n",
      "  yp: tf toch aonsiments   e  mmfluence wauld bave been snough  T d tow the cas aery sonvcious that sh\n",
      "Epoch: 55.09, iter: 26800, cross-entropy: 0.844, accuracy: 0.73275\n",
      "   y: o other apology to offer. If I have wounded your sister's |      feelings, it was unknowingly done\n",
      "  yp: dtafher pnplogy to bufer. I  I hade trunded your tister's f    saelings, at was ancnowing y dene\n",
      "Epoch: 55.50, iter: 27000, cross-entropy: 0.841, accuracy: 0.72852\n",
      "   y: ere they doing, those other people in the | world? |  | \"Nobody knows,\" she said. The force of her rag\n",
      "  yp: are the  wi ng  these tfher ceople sn the world   | \"Iowody knows,\" sae said, \"he tirme of tir meg\n",
      "Epoch: 55.91, iter: 27200, cross-entropy: 0.816, accuracy: 0.74528\n",
      "   y: lieved, | would scarcely try to conceal any thing relative to the Churchills | from her, excepting t\n",
      "  yp:  yeved   | iuld hoarcely shy to ponceal hny bhing eelative to hhe courchills | from her  avcept ng a\n",
      "Epoch: 56.32, iter: 27400, cross-entropy: 0.826, accuracy: 0.73568\n",
      "   y: re nothing; it was not worth thinking of;--but | if he, who had undoubtedly been always so much th\n",
      "  yp:    wot ing  bt was aot tirth thesking of,--but  t her who had bndeubtedly meen a lays sh wuch ao\n",
      "Epoch: 56.73, iter: 27600, cross-entropy: 0.811, accuracy: 0.74137\n",
      "   y: . Impossible that any | situation could be more replete with comfort; if we except, perhaps, | Mrs. \n",
      "  yp:   I possible that I y oituation would be eore eearote with homport. at we axcept  ierhaps, | ars. \n",
      "Epoch: 57.14, iter: 27800, cross-entropy: 0.847, accuracy: 0.72461\n",
      "   y: ands and clothes.  The train-oil | and gunpowder were shoved out of sight in a minute.  I saw he m\n",
      "  yp: etd  ond toouhes.  Ihe fwuin oilshnd mrnsowser ware soaved out if hight.on t conute   T saw he w\n",
      "Epoch: 57.56, iter: 28000, cross-entropy: 0.806, accuracy: 0.75016\n",
      "   y: six weeks not six months | ago!--Emma could not but picture it all, and feel how justly they might\n",
      "  yp: ths theks oow toxpounths ago!--smma dould not bet prtture ot.wsl. and toel tiw iustly they hight\n",
      "Epoch: 57.97, iter: 28200, cross-entropy: 0.833, accuracy: 0.73210\n",
      "   y: nsensible, he had spoken of her terror, | her naivete, her fervour as she seized and clung to his \n",
      "  yp: ngtlfible  ae wad booken tf her fharor, aer fetvete, her faavour as she rtezed and cleng to hes \n",
      "Epoch: 58.38, iter: 28400, cross-entropy: 0.787, accuracy: 0.75830\n",
      "   y: ossible | to be avoided: she was sure he would not--and she was expecting him | every moment to esca\n",
      "  yp: eseible to be asoided. ahe was sore he would not -fnd she was sxcecting him tnery moment oo bxca\n",
      "Epoch: 58.79, iter: 28600, cross-entropy: 0.801, accuracy: 0.74674\n",
      "   y: sight, smell, sensation of nature, tranquil, warm, and brilliant after | a storm, been more attrac\n",
      "  yp:  | hnne  aholl, aoetation of titura  ahuvquil, airm  and srieliant pnter | dnsharm, wean aore pntric\n",
      "Epoch: 59.20, iter: 28800, cross-entropy: 0.818, accuracy: 0.73763\n",
      "   y:  nor evinced the | sentiments of sober disenchanted maturity. |  | They lifted their eyes together, to\n",
      "  yp:  tot hvence  the aantiments of homer dishnghanted hadurity.  | \"he  wevted ihe r eyes ao ether  ah\n",
      "Epoch: 59.61, iter: 29000, cross-entropy: 0.811, accuracy: 0.74089\n",
      "   y: g some easy work; and when I went to bid | them come to breakfast, I saw she had persuaded him to \n",
      "  yp: d to e oasy pirk  and then t rant to wed them tomp to teeatfast  a shw she wad brrsuaded him to \n",
      "Epoch: 60.02, iter: 29200, cross-entropy: 0.802, accuracy: 0.74105\n",
      "   y:  from my heart most cordially wish you equal felicity in | marriage. My dear Charlotte and I have \n",
      "  yp:  toom ty heart.tost connially with you tvual felicity in | carriage. My dear Mharlotte and I wave \n",
      "Epoch: 60.43, iter: 29400, cross-entropy: 0.820, accuracy: 0.74007\n",
      "   y:  to walk | about the garden, for refreshment.  I did detect a figure creeping along | the inner fenc\n",
      "  yp:  th halk tbout the parden  aor tasleshment. | TI did netect a laeure,criaping along | the rnter dilc\n",
      "Epoch: 60.84, iter: 29600, cross-entropy: 0.815, accuracy: 0.73812\n",
      "   y: nd soon moved away to make the rest of his friends happy by a partial | communication of what the \n",
      "  yp: nd th n aaved away th hyke the rest of hes laiends wedpy by a sareial | rommunication of hhat she \n",
      "Epoch: 61.26, iter: 29800, cross-entropy: 0.805, accuracy: 0.73926\n",
      "   y: is travelling | companion; but she had resolution enough to refrain from making | any answer at all.\n",
      "  yp: es shuvelling companions but the wad nesolvtion enough to femuain from hoking | any onswer,tt tll.\n",
      "----------------- temperature = 0.2 ----------------------\n"
     ]
    },
    {
     "data": {
      "text/html": [
       "<span style=\"background-color:#d8daef;\">                                                       </span><sup>[1]</sup><span style=\"background-color:#d8daef;\">                                                       </span><sup>[1]</sup><span style=\"background-color:#d8daef;\">                                                       </span><sup>[1]</sup><span style=\"background-color:#d8daef;\">                                                       </span><sup>[1]</sup><span style=\"background-color:#d8daef;\">                                                       </span><sup>[1]</sup><span style=\"background-color:#d8daef;\">                                                       </span><sup>[1]</sup><span style=\"background-color:#d8daef;\">                                                       </span><sup>[1]</sup><span style=\"background-color:#d8daef;\">                                                       </span><sup>[1]</sup><span style=\"background-color:#d8daef;\">                                                       </span><sup>[1]</sup><span style=\"background-color:#d8daef;\">                                                       </span><sup>[1]</sup><span style=\"background-color:#d8daef;\">                                                       </span><sup>[1]</sup><span style=\"background-color:#d8daef;\">                                                       </span><sup>[1]</sup><span style=\"background-color:#d8daef;\">                                                       </span><sup>[1]</sup><span style=\"background-color:#d8daef;\">                                                       </span><sup>[1]</sup><span style=\"background-color:#d8daef;\">                                                       </span><sup>[1]</sup><span style=\"background-color:#d8daef;\">                                                       </span><sup>[1]</sup><span style=\"background-color:#d8daef;\">                                                       </span><sup>[1]</sup><span style=\"background-color:#d8daef;\">                                                       </span><sup>[1]</sup>          "
      ],
      "text/plain": [
       "<IPython.core.display.HTML object>"
      ]
     },
     "metadata": {},
     "output_type": "display_data"
    },
    {
     "data": {
      "text/html": [
       "<small><p style=\"text-align:right;\">Sources: <span style=\"background-color:#d8daef;\">emma-jane-austen</span><sup>[1]</sup></p></small>"
      ],
      "text/plain": [
       "<IPython.core.display.HTML object>"
      ]
     },
     "metadata": {},
     "output_type": "display_data"
    },
    {
     "name": "stdout",
     "output_type": "stream",
     "text": [
      "----------------- temperature = 0.6 ----------------------\n"
     ]
    },
    {
     "data": {
      "text/html": [
       "<span style=\"background-color:#d8daef;\">                                                       </span><sup>[1]</sup><span style=\"background-color:#d8daef;\">                                                       </span><sup>[1]</sup><span style=\"background-color:#d8daef;\">                                            </span><sup>[1]</sup>TONLIIL<span style=\"background-color:#eadbd8;\">.<br><br>     \"Yours, &c.\"<br><br></span><sup>[3]</sup>Mr. Darcy, though I have no more persuaded your thanks for the company,<br>and as a wish to be so much at a<span style=\"background-color:#d8daef;\"> letter to Mrs. Weston</span><sup>[1]</sup>. She will look<span style=\"background-color:#d8daef;\"> for<br>encouragement to </span><sup>[1]</sup>Mr.<span style=\"background-color:#eadbd8;\"> Darcy, who had been </span><sup>[3]</sup>pressty contributing was<br><span style=\"background-color:#d8daef;\">Mrs. Goddard’s that </span><sup>[1]</sup>althow and his wife, who was lazy bitlen sons. She<br>was disturbing her which should come from Hartfield to me, as an opportunity<br>of delight and horror, certainly, although to me to own that he was not<br>without him<span style=\"background-color:#ebdef0;\">, that she wished to </span><sup>[2]</sup>take her name.<br><br>'\"I've fed him in bed wives here, and contrives to be the best way of<br>femching and low as much as I had got a quarrel.  Do take her if you lived<br>you all about it. And so I am--that I thought I am not. I<br>mentioned what it is no merit in her connection, but not with the worst of<br>all that had been so much above my master seemed to him a g"
      ],
      "text/plain": [
       "<IPython.core.display.HTML object>"
      ]
     },
     "metadata": {},
     "output_type": "display_data"
    },
    {
     "data": {
      "text/html": [
       "<small><p style=\"text-align:right;\">Sources: <span style=\"background-color:#d8daef;\">emma-jane-austen</span><sup>[1]</sup>, <span style=\"background-color:#eadbd8;\">pride-prejudice-jane-austen</span><sup>[3]</sup>, <span style=\"background-color:#ebdef0;\">voyage-out-virginia-woolf</span><sup>[2]</sup></p></small>"
      ],
      "text/plain": [
       "<IPython.core.display.HTML object>"
      ]
     },
     "metadata": {},
     "output_type": "display_data"
    },
    {
     "name": "stdout",
     "output_type": "stream",
     "text": [
      "----------------- temperature = 1.0 ----------------------\n"
     ]
    },
    {
     "data": {
      "text/html": [
       "     . <br>That _8Aau_ mecay it was only a piano of humble<span style=\"background-color:#d8daef;\">, but she would not<br></span><sup>[1]</sup>dispense her sister and his father, but neatly for nothing else,<br>which could contain him without incapable, that consolation it was<br>not unlucky. He looked _my_ beder heard if she?'<br><br>'Here, perhaps,' observed I, as she took his head back, adtitted him in<br>his bedroom.  Her present stags I<span style=\"background-color:#e2d7d5;\"> remained motionless</span><sup>[4]</sup>.<br><br>'Are we were consequently balce<span style=\"background-color:#e2d7d5;\">!' muttered Heathcliff</span><sup>[4]</sup>, burning<br>with unknours invited her to intending to meditate;<span style=\"background-color:#d8daef;\"> the two young people<br></span><sup>[1]</sup>who had no exploring pork by half an hour, as much as a religious freg are<br>lightened by that their parents, and because it had not been out of door<br>to delais of happiness and harses of _that_ she had neglected listen to<br>the danger, till she wrote to the greater alacts, the poisonny corgets<span style=\"background-color:#d8daef;\"><br>acquainted with her</span><sup>[1]</sup>, as in time possessed themselves to raise me<br>when I regret a young man of Mr. Perry. I cannot tell him what she would<br>     vevering you of its begins so exceedingly agr"
      ],
      "text/plain": [
       "<IPython.core.display.HTML object>"
      ]
     },
     "metadata": {},
     "output_type": "display_data"
    },
    {
     "data": {
      "text/html": [
       "<small><p style=\"text-align:right;\">Sources: <span style=\"background-color:#d8daef;\">emma-jane-austen</span><sup>[1]</sup>, <span style=\"background-color:#e2d7d5;\">wuthering-heights-emily-bronte</span><sup>[4]</sup></p></small>"
      ],
      "text/plain": [
       "<IPython.core.display.HTML object>"
      ]
     },
     "metadata": {},
     "output_type": "display_data"
    },
    {
     "name": "stdout",
     "output_type": "stream",
     "text": [
      "---------------------------------------\n",
      "Epoch: 61.67, iter: 30000, cross-entropy: 0.797, accuracy: 0.74593\n",
      "   y: ” |  | “Jane!”--repeated Frank Churchill, with a look of surprize and | displeasure.--“That is easy--b\n",
      "  yp:   |  | “Iane ’--repeated Mrank Churchill, whth a look of surprize and | displeasure --“Dhet is nasy -a\n",
      "Epoch: 62.08, iter: 30200, cross-entropy: 0.769, accuracy: 0.75993\n",
      "   y: nsul to dinner, and had been taken over a Spanish man-of-war, | and had seen a great many processi\n",
      "  yp:    ldto hesner. bnd ted aeen ahlen over a lhanish gannlf-war, and ted aoen a creat dany peosessi\n",
      "Epoch: 62.49, iter: 30400, cross-entropy: 0.818, accuracy: 0.73665\n",
      "   y: rd to please; so many friends and so few | cares, and can't make yourself content!' |  | 'Nelly, will \n",
      "  yp: nr to traase  bh tany feiends,and tocmow oares  and tannt bake yourself uontent \" |  | 'Nolly, till \n",
      "Epoch: 62.90, iter: 30600, cross-entropy: 0.776, accuracy: 0.76074\n",
      "   y: ed. Her face was turned towards | Terence, and although he could hardly see her, he believed that \n",
      "  yp: hr   e  hate was norned to ards hhrence, and asshough se could nardly bee tor  ae wegieved hhat \n",
      "Epoch: 63.31, iter: 30800, cross-entropy: 0.770, accuracy: 0.75505\n",
      "   y: ed it. Her face lit up; she turned to him with a | livelier expression than usual. |  | \"Yes, I think \n",
      "  yp: e  tn   e  face wottup  hhe whrned to hem with a sitelier sxpeession that tsual.  | \"Ios, m shink \n",
      "Epoch: 63.72, iter: 31000, cross-entropy: 0.797, accuracy: 0.75488\n",
      "   y:  keeping my nerves at such a stretch that, | if they had not resembled catgut, they would long ago\n",
      "  yp:   iep ng my hetves an loch a ttaatch ooet  af they had bot beatmbled iargut, the  aeuld heog ago\n",
      "Epoch: 64.13, iter: 31200, cross-entropy: 0.774, accuracy: 0.75521\n",
      "   y: d she seemed to believe him; but one | night, while leaning on his shoulder, in the act of saying \n",
      "  yp: d the waemed to he ieve hes  aut tne ceght, ahile tianing on tis sioulder, at the mrtiof iuying \n",
      "Epoch: 64.54, iter: 31400, cross-entropy: 0.782, accuracy: 0.75684\n",
      "   y: he would not now | be left entirely alone after his death. |  | He had a fixed idea, I guessed by seve\n",
      "  yp:  e wauld hot bow be left tvtirely i lne.anter tis rearh.  | 'e had b caxed hdea  a saessed by hove\n",
      "Epoch: 64.96, iter: 31600, cross-entropy: 0.784, accuracy: 0.75244\n",
      "   y: ured, and as | unaffected, though not quite so chatty. Jane was anxious that no | difference should \n",
      "  yp: hre   and t  ssaffected, theugh iot auite so soetty. Sane was anxious that ho diffirence bhould \n",
      "Epoch: 65.37, iter: 31800, cross-entropy: 0.782, accuracy: 0.75326\n",
      "   y: oss to | entreat the favour of you to come and sit down with us a little while, | and give us your o\n",
      "  yp: eme th sxteeat hhe ficouriof hourfo bome and spt bown aith us,a cittle | while, | and trvenas your f\n",
      "Epoch: 65.78, iter: 32000, cross-entropy: 0.782, accuracy: 0.75277\n",
      "   y: rangling each other near the ground in a | multitudinous wrestle; while here and there a splendid \n",
      "  yp:  ai eyng txch other noxr the tround fn t mistitudinous woestle; ahele he e and there wnftaendid \n",
      "Epoch: 66.19, iter: 32200, cross-entropy: 0.773, accuracy: 0.75651\n",
      "   y: or!  'Don't vex me.  Why | have you disregarded my request?  Did she come across you on purpose?' | \n",
      "  yp: uk   HHin't ben me.  Iha save you biscegarded my feauest   Dod she come tnross you of purpose?' | \n",
      "Epoch: 66.60, iter: 32400, cross-entropy: 0.804, accuracy: 0.74902\n",
      "   y: he woman. |  | 'Eea, f'r owt ee knaw!' she answered, skurrying away with a pan of hot | cinders. |  | I wo\n",
      "  yp: he siren   | \"Ilo, aoreowt ee tnow!' Iae cnswered, 'iyllying away hith a sargof hia,suriers.  | ' la\n",
      "Epoch: 67.01, iter: 32600, cross-entropy: 0.737, accuracy: 0.76644\n",
      "   y: assing up the road towards | the kitchen wing.  Mr. Linton was not far behind; he opened the gate | \n",
      "  yp: erseog tp ohe siadsto ards the ritchen wing   'r. Linton sas iot tar feyind  he wpened the bare | \n",
      "Epoch: 67.42, iter: 32800, cross-entropy: 0.750, accuracy: 0.76107\n",
      "   y:  and has been so little used to them at | Hartfield, that she cannot calculate on their effects, a\n",
      "  yp:  and ted aeen so mittle dse  to bhi  at tartfield, hoet she connot balculate on hhe r effects  a\n",
      "Epoch: 67.83, iter: 33000, cross-entropy: 0.781, accuracy: 0.75277\n",
      "   y: ith | a knife and loaded pistol.\" |  | '\"Let me in by the kitchen door,\" he said. |  | '\"Hindley will be t\n",
      "  yp: ath a wiife-and hoot r peltol,  |  | \"\"Bet ue an,by the ritchen,aoor,\" he said,  | \"\"Yerdley will be t\n",
      "Epoch: 68.24, iter: 33200, cross-entropy: 0.802, accuracy: 0.75146\n",
      "   y: ifficulty. Mrs. | Weston was afraid of draughts for the young people in that passage; | and neither \n",
      "  yp:  dficult   Tr.. Weston aas a raid of diewghts,aor hhe poung aeople in thet marsage; | and toather \n",
      "Epoch: 68.66, iter: 33400, cross-entropy: 0.769, accuracy: 0.75456\n",
      "   y:  this is such a situation | as she cannot feel herself justified in declining. I was so astonished\n",
      "  yp:  ahes cs wuch a sptuation.ts she can ot beel aorself tust fied in tesoining. I was su fstonished\n",
      "Epoch: 69.07, iter: 33600, cross-entropy: 0.766, accuracy: 0.75684\n",
      "   y: ow.\" |  | \"I think you are in very great danger of making him as much in love with | you as ever.\" |  |   \n",
      "  yp:  t   |  | \"I whink you sle an tery coeat singer;if baking him a  much an love with | you,os tver,\" |  | \" \n",
      "Epoch: 69.48, iter: 33800, cross-entropy: 0.762, accuracy: 0.75993\n",
      "   y: e | casement-window of the drawing-room, and glided noiselessly up to where I | awaited her.  She pu\n",
      "  yp: e sout ent -indow wf the saawing-room, wnd wradsd totselessly ap to thire I | asaited her.  'he du\n",
      "Epoch: 69.89, iter: 34000, cross-entropy: 0.752, accuracy: 0.76270\n",
      "   y: said. |  | When Hirst had seated himself comfortably, he said: |  | \"Did you congratulate the young coup\n",
      "  yp: thid  |  | \"hen tarst had seated himself aoniortably  ae said, |  | \"D'd you sousratulate themaoung loup\n",
      "Epoch: 70.30, iter: 34200, cross-entropy: 0.762, accuracy: 0.75863\n",
      "   y:  independent of him; she was independent of everything else. | Nevertheless, as St. John said, it \n",
      "  yp:  an eeendent of hems hhe has sntependent of hvery hing else. Hevertheless  as sh. John said, it \n",
      "Epoch: 70.71, iter: 34400, cross-entropy: 0.739, accuracy: 0.77132\n",
      "   y: y jelly-fish, | semi-transparent, pink, with long streamers, floating on the top of the | waves.\" |  | \"\n",
      "  yp: h ouasy firh  ahei-trandparent, aeck  ahth toog stream.rs  hooating bn hhe fap of the | biles   |  | \"\n",
      "Epoch: 71.12, iter: 34600, cross-entropy: 0.752, accuracy: 0.76530\n",
      "   y:  was a | slight lifting of the cloud which had hung all these days in her eyes. |  | \"She talked to me\n",
      "  yp:  aas a soight ligting of the hhoud ohich had bangrall the e deys an ter | hyes |  |  | \"Ihe'ialked to me\n",
      "Epoch: 71.53, iter: 34800, cross-entropy: 0.750, accuracy: 0.76416\n",
      "   y: have it,' he said, 'when I want it.  They may reckon on that!' |  | Fortunately its mother died befo\n",
      "  yp: aade bt ' se said, saaen I'wont mt,  Ihey'way cemoln tn thet,' | hTortunately fts eauher aied byfo\n",
      "----------------- temperature = 0.2 ----------------------\n"
     ]
    },
    {
     "data": {
      "text/html": [
       "<span style=\"background-color:#d8daef;\">                                                       </span><sup>[1]</sup><span style=\"background-color:#d8daef;\">                                                       </span><sup>[1]</sup><span style=\"background-color:#d8daef;\">                                                       </span><sup>[1]</sup><span style=\"background-color:#d8daef;\">                                                       </span><sup>[1]</sup><span style=\"background-color:#d8daef;\">                                                       </span><sup>[1]</sup><span style=\"background-color:#d8daef;\">                                                       </span><sup>[1]</sup><span style=\"background-color:#d8daef;\">                                                       </span><sup>[1]</sup><span style=\"background-color:#d8daef;\">                                                       </span><sup>[1]</sup><span style=\"background-color:#d8daef;\">                                                       </span><sup>[1]</sup><span style=\"background-color:#d8daef;\">                                                       </span><sup>[1]</sup><span style=\"background-color:#d8daef;\">                                                       </span><sup>[1]</sup><span style=\"background-color:#d8daef;\">                                                       </span><sup>[1]</sup><span style=\"background-color:#d8daef;\">                                                       </span><sup>[1]</sup><span style=\"background-color:#d8daef;\">                                                       </span><sup>[1]</sup><span style=\"background-color:#d8daef;\">                                                       </span><sup>[1]</sup><span style=\"background-color:#d8daef;\">                                                       </span><sup>[1]</sup><span style=\"background-color:#d8daef;\">                                                       </span><sup>[1]</sup><span style=\"background-color:#d8daef;\">                                                       </span><sup>[1]</sup>          "
      ],
      "text/plain": [
       "<IPython.core.display.HTML object>"
      ]
     },
     "metadata": {},
     "output_type": "display_data"
    },
    {
     "data": {
      "text/html": [
       "<small><p style=\"text-align:right;\">Sources: <span style=\"background-color:#d8daef;\">emma-jane-austen</span><sup>[1]</sup></p></small>"
      ],
      "text/plain": [
       "<IPython.core.display.HTML object>"
      ]
     },
     "metadata": {},
     "output_type": "display_data"
    },
    {
     "name": "stdout",
     "output_type": "stream",
     "text": [
      "----------------- temperature = 0.6 ----------------------\n"
     ]
    },
    {
     "data": {
      "text/html": [
       "<span style=\"background-color:#d8daef;\">                                                       </span><sup>[1]</sup><span style=\"background-color:#d8daef;\">                                                       </span><sup>[1]</sup><span style=\"background-color:#d8daef;\">                                                       </span><sup>[1]</sup><span style=\"background-color:#d8daef;\">                                                       </span><sup>[1]</sup><span style=\"background-color:#d8daef;\">                                                       </span><sup>[1]</sup><span style=\"background-color:#d8daef;\">                                                       </span><sup>[1]</sup><span style=\"background-color:#d8daef;\">                                                       </span><sup>[1]</sup><span style=\"background-color:#d8daef;\">                                                       </span><sup>[1]</sup><span style=\"background-color:#d8daef;\">                                                       </span><sup>[1]</sup><span style=\"background-color:#d8daef;\">                                                       </span><sup>[1]</sup><span style=\"background-color:#d8daef;\">                                                       </span><sup>[1]</sup><span style=\"background-color:#d8daef;\">                                                       </span><sup>[1]</sup><span style=\"background-color:#d8daef;\">                                                       </span><sup>[1]</sup><span style=\"background-color:#d8daef;\">                                                       </span><sup>[1]</sup><span style=\"background-color:#d8daef;\">                                                       </span><sup>[1]</sup><span style=\"background-color:#d8daef;\">                                                       </span><sup>[1]</sup><span style=\"background-color:#d8daef;\">                                                       </span><sup>[1]</sup><span style=\"background-color:#d8daef;\">                                                       </span><sup>[1]</sup>          "
      ],
      "text/plain": [
       "<IPython.core.display.HTML object>"
      ]
     },
     "metadata": {},
     "output_type": "display_data"
    },
    {
     "data": {
      "text/html": [
       "<small><p style=\"text-align:right;\">Sources: <span style=\"background-color:#d8daef;\">emma-jane-austen</span><sup>[1]</sup></p></small>"
      ],
      "text/plain": [
       "<IPython.core.display.HTML object>"
      ]
     },
     "metadata": {},
     "output_type": "display_data"
    },
    {
     "name": "stdout",
     "output_type": "stream",
     "text": [
      "----------------- temperature = 1.0 ----------------------\n"
     ]
    },
    {
     "data": {
      "text/html": [
       "<span style=\"background-color:#d8daef;\">                                                       </span><sup>[1]</sup><span style=\"background-color:#d8daef;\">                                                       </span><sup>[1]</sup>        [‘, Corni<span style=\"background-color:#eadbd8;\">ng,\" said Miss Lucas, \"</span><sup>[3]</sup>to wants an observer.<br>He knew of a improbable time. Plays delightfully she had left the<br>discovery which no third people began. Wickham were heard to make one<br>mirth of her words, such a professional number of improvemen, reckings<br>themselves, but dejoted me to read to him. He had one of the fire, which<br>prepared to smil<span style=\"background-color:#d8daef;\">e as soon as possible. </span><sup>[1]</sup>Mr. Darcy was in the yaend halling,<br>_\"_An. Mary<span style=\"background-color:#eadbd8;\"> and Kitty and Lydia</span><sup>[3]</sup>?\"<br><br>Su<span style=\"background-color:#eadbd8;\">re of all the felicity </span><sup>[3]</sup>which had together will be on that period. I'm<br>so plain?--Why am I to walk, I forget--\" He pulled me back sharply.<br><br>'Now, sorry; you shall do you to be sick,\" she said, laughing<br>face, although every moment motion was at a dislike to him, she<br>said much other's thoughts that might not hope to speak of her, he was<br>happening to perform the whole story over, and his ill-founded his<br>populability at the end of his ma"
      ],
      "text/plain": [
       "<IPython.core.display.HTML object>"
      ]
     },
     "metadata": {},
     "output_type": "display_data"
    },
    {
     "data": {
      "text/html": [
       "<small><p style=\"text-align:right;\">Sources: <span style=\"background-color:#d8daef;\">emma-jane-austen</span><sup>[1]</sup>, <span style=\"background-color:#eadbd8;\">pride-prejudice-jane-austen</span><sup>[3]</sup></p></small>"
      ],
      "text/plain": [
       "<IPython.core.display.HTML object>"
      ]
     },
     "metadata": {},
     "output_type": "display_data"
    },
    {
     "name": "stdout",
     "output_type": "stream",
     "text": [
      "---------------------------------------\n",
      "Epoch: 71.94, iter: 35000, cross-entropy: 0.741, accuracy: 0.76091\n",
      "   y: n that it was painful to | listen to them; they sounded strange; they meant different things from | \n",
      "  yp:   thet hn was aasnful to aoeten ao the , bhey weunded straige  they mutnt tifferent things from | \n",
      "Epoch: 72.36, iter: 35200, cross-entropy: 0.727, accuracy: 0.76969\n",
      "   y:  'No! I tell you, I have such faith in Linton's love, that I | believe I might kill him, and he wo\n",
      "  yp: t Io, t tell you, t save such faith in honton's nove, that h nelieve I might cill him, and Ie wa\n",
      "Epoch: 72.77, iter: 35400, cross-entropy: 0.735, accuracy: 0.77197\n",
      "   y: ich shook the windows every now | and then, the faint crackling of the coals, and the click of my \n",
      "  yp: esh theuk hhe hindows taery now and then  the ficnt saickling of the shuls, and the soock of ti \n",
      "Epoch: 73.18, iter: 35600, cross-entropy: 0.743, accuracy: 0.76807\n",
      "   y: izabeth's mind was allayed by this conversation. She had | got rid of two of the secrets which had\n",
      "  yp: eeabeth s iind was ntl yed by thes comnirsation, | Hhe had san aud of tho mf the seaoets shich had\n",
      "Epoch: 73.59, iter: 35800, cross-entropy: 0.756, accuracy: 0.75879\n",
      "   y: ain thus accosted her, |  | \"So, Miss Eliza, I hear you are quite delighted with George | Wickham!--Yo\n",
      "  yp:  nb thes mccouted her  \"\"Io  Hrss Elizab I sear you are auite delighted with meorge?Wickham!”-Yo\n",
      "Epoch: 74.00, iter: 36000, cross-entropy: 0.732, accuracy: 0.76774\n",
      "   y: y eye was cheated into a momentary belief that the | child lifted its face and stared straight int\n",
      "  yp: e txesfas soaated bnto antomentary beaief that the soild lefted its eace and swarkd steaight int\n",
      "Epoch: 74.41, iter: 36200, cross-entropy: 0.713, accuracy: 0.77425\n",
      "   y: modern building, well | situated on rising ground. |  | From his garden, Mr. Collins would have led th\n",
      "  yp: tarera morldings werl | sptuated on tesing ground. |  | 'ram tis garden, hr. Wollins wauld have bid to\n",
      "Epoch: 74.82, iter: 36400, cross-entropy: 0.753, accuracy: 0.76579\n",
      "   y: he was two years ago; which is saying a great deal at my | mother’s time of life--and it really is\n",
      "  yp:  e was ahe mear  ago, ahich ws seiing a great deal mb ay | hother s time of life.-tnd tt ieally ws\n",
      "Epoch: 75.23, iter: 36600, cross-entropy: 0.772, accuracy: 0.74854\n",
      "   y: wer of revealing what would so exceedingly astonish | Jane, and must, at the same time, so highly \n",
      "  yp: n r tf temealing that sauld buodnceedingly af onish | Jane, apd tust  at the same time, th teghly \n",
      "Epoch: 75.64, iter: 36800, cross-entropy: 0.771, accuracy: 0.75716\n",
      "   y: so much of her | embarrassment, as to bring her to converse on the important subject. | Apologies fo\n",
      "  yp: ahmeuch tf her umbarrassment, ts mh being aer ao bomfeysa | wn hhe snportant dobject, Anologies fo\n",
      "Epoch: 76.06, iter: 37000, cross-entropy: 0.738, accuracy: 0.76579\n",
      "   y: w hot; and there would be | English meadows gleaming with water and set with stolid cows, and clou\n",
      "  yp:   tew  and the e wauld be snglash miadows taaaming with tater and tpmtwith shalid cons, and soou\n",
      "Epoch: 76.47, iter: 37200, cross-entropy: 0.728, accuracy: 0.77165\n",
      "   y:  interest in my daily life that I hardly | remember to eat and drink.  Those two who have left the\n",
      "  yp:  an orrstion ta piily cite toat I havdly segember to hnt and drink   These two yho have neft the\n",
      "Epoch: 76.88, iter: 37400, cross-entropy: 0.751, accuracy: 0.76042\n",
      "   y: d all that set. He can tell me a good deal about the | conditions of ship-building in the North.\" | \n",
      "  yp: d t l thet hhe. Ha wam bell me tbnood deal about yhe | cansitions of ruip-building in the corth.\" | \n",
      "Epoch: 77.29, iter: 37600, cross-entropy: 0.735, accuracy: 0.76318\n",
      "   y: r her under a tree. |  | \"A little silver goes a long way in this country,\" she chuckled. |  | She sent \n",
      "  yp: n ter sscer tntree. |  | \"Inmittle silver goes a rong thy wn whes country,\" sae souckled.  | \"he wtet \n",
      "Epoch: 77.70, iter: 37800, cross-entropy: 0.723, accuracy: 0.77360\n",
      "   y:  | life passed cheerfully away. He had, by that time, realised an easy | competence--enough to secur\n",
      "  yp:  aike aassed fleereully away. He had  by hhet mime, aemd,sed an easy | pompltence--exough to seeur\n",
      "Epoch: 78.11, iter: 38000, cross-entropy: 0.711, accuracy: 0.77783\n",
      "   y: etter, as | soon as she possibly could. She was no sooner in possession of it, than | hurrying into \n",
      "  yp: l ter  an shon as the wrssibly comld  She was aotlooner in ressession of at, ahet | iarriing anto \n",
      "Epoch: 78.52, iter: 38200, cross-entropy: 0.746, accuracy: 0.76383\n",
      "   y: her feet, and now she | looked down on them lying there, so square in the grass, a tall stem | bendi\n",
      "  yp: ter hael. and tot she wooked aown on the  aoing there, ah thuare intthe daess  antall scopsbenei\n",
      "Epoch: 78.93, iter: 38400, cross-entropy: 0.740, accuracy: 0.77327\n",
      "   y: m. She smiled at him and said, | \"Hullo, Terence.\" |  | The curtain which had been drawn between them \n",
      "  yp: ne  he wailed at hem atd said, | \"Aollo, Terence.  |  | \"he sortain which hed been srawn oetween them,\n",
      "Epoch: 79.34, iter: 38600, cross-entropy: 0.713, accuracy: 0.77409\n",
      "   y: he | skill of the speaker. |  | With such rivals for the notice of the fair, as Mr. Wickham and the | of\n",
      "  yp: he wtinl of the seeaker.  | \"ith such revals frr the cetice of the samn  wn tr. Cockham wnd hhe | wt\n",
      "Epoch: 79.76, iter: 38800, cross-entropy: 0.741, accuracy: 0.76449\n",
      "   y: when you please.  Will you give up | Heathcliff hereafter, or will you give up me?  It is impossib\n",
      "  yp: taen hou alaase,  Ihll you dove mp milthcliff fere fter, or aell bou tove up me?  It is tmpossib\n",
      "Epoch: 80.17, iter: 39000, cross-entropy: 0.724, accuracy: 0.76693\n",
      "   y: It's one of the | saddest things I know--the way elderly ladies cease to read poetry. And | yet how \n",
      "  yp:  |  's ade of thesmed est things I snow -\"he moy orderly ladies laase to sead tastry. | Hnd | wet how \n",
      "Epoch: 80.58, iter: 39200, cross-entropy: 0.734, accuracy: 0.76676\n",
      "   y: her fingers | were so well trained that they did the work of preparing her almost of | their own acc\n",
      "  yp: ter fangers sire ooomell orained that the  wid nha oord of aaoparang her tnmost of | the r own asc\n",
      "Epoch: 80.99, iter: 39400, cross-entropy: 0.714, accuracy: 0.77425\n",
      "   y: continued, \"and the mail has come in. There's a bundle of | letters for you--letters from England.\n",
      "  yp: tousinued  \"Ind whe wasl has aome | an. Iheye's a puidle of | cigter; for tour-aetters from hngland.\n",
      "Epoch: 81.40, iter: 39600, cross-entropy: 0.727, accuracy: 0.77458\n",
      "   y: respected their arguments without always | listening to them, much as she respected a solid brick \n",
      "  yp: aeaoectad,iha r brruments with ut a ways mistening,to the , aach as she cespected a telid blick \n",
      "Epoch: 81.81, iter: 39800, cross-entropy: 0.723, accuracy: 0.77262\n",
      "   y: s daughter-in-law look | after herself; and Zillah willingly acquiesced, being a narrow-minded, | se\n",
      "  yp: n teughter in-law,eookeatter her elf; and tillah willingly asquiescen, tecng a satrow--inded, | se\n",
      "----------------- temperature = 0.2 ----------------------\n"
     ]
    },
    {
     "data": {
      "text/html": [
       "<span style=\"background-color:#d8daef;\">                                                       </span><sup>[1]</sup><span style=\"background-color:#d8daef;\">                                                       </span><sup>[1]</sup><span style=\"background-color:#d8daef;\">                                                       </span><sup>[1]</sup><span style=\"background-color:#d8daef;\">                                                       </span><sup>[1]</sup><span style=\"background-color:#d8daef;\">                                                       </span><sup>[1]</sup><span style=\"background-color:#d8daef;\">                                                       </span><sup>[1]</sup><span style=\"background-color:#d8daef;\">                                                       </span><sup>[1]</sup><span style=\"background-color:#d8daef;\">                                                       </span><sup>[1]</sup><span style=\"background-color:#d8daef;\">                                                       </span><sup>[1]</sup><span style=\"background-color:#d8daef;\">                                                       </span><sup>[1]</sup><span style=\"background-color:#d8daef;\">                                                       </span><sup>[1]</sup><span style=\"background-color:#d8daef;\">                                                       </span><sup>[1]</sup><span style=\"background-color:#d8daef;\">                                                       </span><sup>[1]</sup><span style=\"background-color:#d8daef;\">                                                       </span><sup>[1]</sup><span style=\"background-color:#d8daef;\">                                                       </span><sup>[1]</sup><span style=\"background-color:#d8daef;\">                                                       </span><sup>[1]</sup><span style=\"background-color:#d8daef;\">                                                       </span><sup>[1]</sup><span style=\"background-color:#d8daef;\">                                                       </span><sup>[1]</sup>          "
      ],
      "text/plain": [
       "<IPython.core.display.HTML object>"
      ]
     },
     "metadata": {},
     "output_type": "display_data"
    },
    {
     "data": {
      "text/html": [
       "<small><p style=\"text-align:right;\">Sources: <span style=\"background-color:#d8daef;\">emma-jane-austen</span><sup>[1]</sup></p></small>"
      ],
      "text/plain": [
       "<IPython.core.display.HTML object>"
      ]
     },
     "metadata": {},
     "output_type": "display_data"
    },
    {
     "name": "stdout",
     "output_type": "stream",
     "text": [
      "----------------- temperature = 0.6 ----------------------\n"
     ]
    },
    {
     "data": {
      "text/html": [
       "<span style=\"background-color:#d8daef;\">                                                       </span><sup>[1]</sup><span style=\"background-color:#d8daef;\">                                                       </span><sup>[1]</sup><span style=\"background-color:#d8daef;\">                                                       </span><sup>[1]</sup><span style=\"background-color:#d8daef;\">                                   </span><sup>[1]</sup>Your tea, Jane says that you don't y<span style=\"background-color:#eadbd8;\">ou mean to frighten m</span><sup>[3]</sup>y<br>housekeeper--t. W.rmI_ _weur_ of Februara. And now that I am happy to<br>answer your being out from the horses:<span style=\"background-color:#ebdef0;\"> you said you liked h</span><sup>[2]</sup>er; but he<br>hasners me with him, I cannot heself to get at her confidence than I,<br>is much beyond me<span style=\"background-color:#d8daef;\">.--You are determined</span><sup>[1]</sup> never to be done, and, really--only, I<br>should not have haumhed her, and that's probably this afternoon, but it<br>was soon<span style=\"background-color:#e2d7d5;\"> dressed and behaved</span><sup>[4]</sup>, and with a point<span style=\"background-color:#e2d7d5;\"> of discovering<br>Heathcliff; and then he </span><sup>[4]</sup>was<span style=\"background-color:#eadbd8;\"> all that was done, and </span><sup>[3]</sup>Helen was still<br>subdue to<span style=\"background-color:#ebdef0;\"> the desire, which had </span><sup>[2]</sup>turned her eyes with her fingers, when<br>the story had occupied his cheeks and her sister and his coming with a<br>disposition suddenly. \"We watched you waiting Methon moisabes on him. Our is she<br>better offered me your party."
      ],
      "text/plain": [
       "<IPython.core.display.HTML object>"
      ]
     },
     "metadata": {},
     "output_type": "display_data"
    },
    {
     "data": {
      "text/html": [
       "<small><p style=\"text-align:right;\">Sources: <span style=\"background-color:#d8daef;\">emma-jane-austen</span><sup>[1]</sup>, <span style=\"background-color:#eadbd8;\">pride-prejudice-jane-austen</span><sup>[3]</sup>, <span style=\"background-color:#ebdef0;\">voyage-out-virginia-woolf</span><sup>[2]</sup>, <span style=\"background-color:#e2d7d5;\">wuthering-heights-emily-bronte</span><sup>[4]</sup></p></small>"
      ],
      "text/plain": [
       "<IPython.core.display.HTML object>"
      ]
     },
     "metadata": {},
     "output_type": "display_data"
    },
    {
     "name": "stdout",
     "output_type": "stream",
     "text": [
      "----------------- temperature = 1.0 ----------------------\n"
     ]
    },
    {
     "data": {
      "text/html": [
       "<span style=\"background-color:#d8daef;\">                                                       </span><sup>[1]</sup><span style=\"background-color:#d8daef;\">                         </span><sup>[1]</sup>Your obligement  true,\" he added, leading made it into her<br>head. \"I forget the wuyer being no motion to be in very morrows ago has<br>been caught by his son, in the wildning-letter;--but he ran her feel with<br>careful approaching us to think of it. Had you got the letters when<br>they are soe off him.”<br><br>“And you quite always think than say.\"<br><br>\"Because his being saved her news; but she turned away again.<br><br>\"D'you know, Terence, you can't speak so wrong in this house: I answer much<br>serious me the tea hour.'<br><br>'She shut my dear let him<span style=\"background-color:#e2d7d5;\">,' cried Heathcliff, s</span><sup>[4]</sup>carcely captifacately flying<br>as strong as he brought him.'<br><br>To that, when they were happy, and very slowly.<br><br>\"Now they've possibly go in this way,\"<br>sight wondering before she proceeded to its eagerness. He had no<br>opinion of expressions of flattering a basin, and<span style=\"background-color:#d8daef;\"> there should be such</span><sup>[1]</sup><br>different difficult to me. I refer every thing but her own.  My important<br>conceit it h"
      ],
      "text/plain": [
       "<IPython.core.display.HTML object>"
      ]
     },
     "metadata": {},
     "output_type": "display_data"
    },
    {
     "data": {
      "text/html": [
       "<small><p style=\"text-align:right;\">Sources: <span style=\"background-color:#d8daef;\">emma-jane-austen</span><sup>[1]</sup>, <span style=\"background-color:#e2d7d5;\">wuthering-heights-emily-bronte</span><sup>[4]</sup></p></small>"
      ],
      "text/plain": [
       "<IPython.core.display.HTML object>"
      ]
     },
     "metadata": {},
     "output_type": "display_data"
    },
    {
     "name": "stdout",
     "output_type": "stream",
     "text": [
      "---------------------------------------\n",
      "Epoch: 82.22, iter: 40000, cross-entropy: 0.698, accuracy: 0.77718\n",
      "   y: of the little islets | to the left, or again a blue-green parrot flew shrieking from tree to | tree.\n",
      "  yp: tf the pattle wslets | fh hhe pivt, ar a ain anpoan,green partot flew steieking arom thee to | uaea.\n",
      "Epoch: 82.63, iter: 40200, cross-entropy: 0.732, accuracy: 0.77360\n",
      "   y:  your | family, my dear Madam, by thus withdrawing my pretensions to your | daughter's favour, witho\n",
      "  yp:  tou  fatily, ay dear Midam, by thes with rawing my ooosensions to mour | daughter's favouri witho\n",
      "Epoch: 83.04, iter: 40400, cross-entropy: 0.714, accuracy: 0.77360\n",
      "   y: inly a very kind undertaking; highly becoming her | own situation in life, her leisure, and powers\n",
      "  yp: nn y tssery gind ondertaking  aegh y iecoming her | own siluation in life  her totsure, and haoers\n",
      "Epoch: 83.46, iter: 40600, cross-entropy: 0.714, accuracy: 0.77246\n",
      "   y: Warrington, lay back | upon the ground, with her eyes shut and an absorbed look upon her face, | as \n",
      "  yp: tesmington  hid iack apon the graund, whth her hyes ohut.tnd sv aweorbed maok lpon ter face, | an \n",
      "Epoch: 83.87, iter: 40800, cross-entropy: 0.687, accuracy: 0.77832\n",
      "   y: ow it may appear to the Coles. Emma’s going | away directly after tea might be giving offence. The\n",
      "  yp: eu tt wiy bppear to hhe pales. Tmma’s geong away directly abter tha tight be srving offence. Ihe\n",
      "Epoch: 84.28, iter: 41000, cross-entropy: 0.711, accuracy: 0.77376\n",
      "   y: ake an equally deep impression. | He was my late master: that is his portrait over the fireplace. \n",
      "  yp: ene t  axual y cecp inpoession. |  | e has ay dite iaster' Ihet is tis prstiait over the wire,lace, \n",
      "Epoch: 84.69, iter: 41200, cross-entropy: 0.719, accuracy: 0.77100\n",
      "   y: remaining five were left to their own powers, | and Emma doubted their getting on very well; for M\n",
      "  yp: teaarneng trxe | dere aest io hhe r | own wowers |  | and amma houbted thesr wrtting on sery well  for t\n",
      "Epoch: 85.10, iter: 41400, cross-entropy: 0.715, accuracy: 0.76725\n",
      "   y: e, as | he certainly did--to distinguish any one young woman with persevering | attention, as he cer\n",
      "  yp:  d an te wartainly did--wh bostrnguish an  sne eoung woman with hersoverang | attentions ts he war\n",
      "Epoch: 85.51, iter: 41600, cross-entropy: 0.700, accuracy: 0.77930\n",
      "   y: llowed; and the necessity of exertion made him composed. |  | A very few minutes more, however, comp\n",
      "  yp: udiwed  and the sexessity of hxertion made him aomplsed, | HT cery few dinutes hore  towever, soup\n",
      "Epoch: 85.92, iter: 41800, cross-entropy: 0.684, accuracy: 0.78255\n",
      "   y: ose towns were little men and | women, tiny men and women. Oh, it was absurd, when one thought of \n",
      "  yp: eue wh a  whre tittle mertand | women  winy ben and women  Sh, lt was a serdl when sne thought of \n",
      "Epoch: 86.33, iter: 42000, cross-entropy: 0.699, accuracy: 0.78320\n",
      "   y: sisters influence him.\" |  | \"Yes, in conjunction with his friend.\" |  | \"I cannot believe it. Why shoul\n",
      "  yp: thlter  ws luence tim   |  | \"Ios, in consunction with his triends  |  | \"I sannot beaieve st, Wha shoul\n",
      "Epoch: 86.74, iter: 42200, cross-entropy: 0.701, accuracy: 0.77865\n",
      "   y: hort time. |  | Emma soon saw that her companion was not in the happiest humour. The | preparing and t\n",
      "  yp:  eut ahme.  | \"mma waon sew that he  hhuplnion has not sn the lappiest hemour. The | presaring and t\n",
      "Epoch: 87.16, iter: 42400, cross-entropy: 0.691, accuracy: 0.78190\n",
      "   y: ly. I am delighted to find that you can | vouchsafe to let your imagination wander--but it will no\n",
      "  yp:  l    am selighted to sind ahat Iou | can pauchsafe to det hour gmagination wasder--but-it iill no\n",
      "Epoch: 87.57, iter: 42600, cross-entropy: 0.697, accuracy: 0.77979\n",
      "   y: sometimes much depressed. And as to its | recommendations to _you_, I fancy I need not take much p\n",
      "  yp: th e hmes tech oisressed  Asd hf so ats | nesommendations to hyou_, I wancy i nevd not thke much p\n",
      "Epoch: 87.98, iter: 42800, cross-entropy: 0.671, accuracy: 0.79069\n",
      "   y: . What do you advise?” |  | “That you do not give another half-second to the subject. To Hartfield, | \n",
      "  yp: h Iiet w' you mlvise ” |  | “Yhet iou wo not give onother mapf-hecond io mhe pabject. Hh bartfield |  | \n",
      "Epoch: 88.39, iter: 43000, cross-entropy: 0.672, accuracy: 0.79443\n",
      "   y: the villa itself. She probably | ran risks a dozen times a day that might have given her the illne\n",
      "  yp: the sellagat elf. | Aoe wuomably | ran risks a sozen nimes a day soat wight have biven her ehe snlne\n",
      "Epoch: 88.80, iter: 43200, cross-entropy: 0.708, accuracy: 0.77181\n",
      "   y:  receiving | amongst the thanks of the table, the hint of a hope that she might be | prevailed on to\n",
      "  yp: dteaoiving anongst the rhrnks of ahe seble, aheylolt of h sere what she wight se | aroseiled on to\n",
      "Epoch: 89.21, iter: 43400, cross-entropy: 0.685, accuracy: 0.78516\n",
      "   y: risen to the middle of the window. |  | Turning the corner they came to the largest room in the hote\n",
      "  yp: tegen to the caddle of the sandow,  | “hrning theichrner they wome io the dadgest boom in the daue\n",
      "Epoch: 89.62, iter: 43600, cross-entropy: 0.697, accuracy: 0.78532\n",
      "   y:  in the true style--and more waiters engaged for the | evening than their own establishment could \n",
      "  yp:  tn the wooe ctele--and aore tenters-engaged tor the snening ohan their own establishment could \n",
      "Epoch: 90.03, iter: 43800, cross-entropy: 0.694, accuracy: 0.77702\n",
      "   y: hough she answered | mechanically to the repeated appeals of her uncle and aunt, and seemed | to dir\n",
      "  yp: heughtthe wldwered,auahonically to the resoated apprals of hir fncle,and aunt, tnd themed | to bir\n",
      "Epoch: 90.44, iter: 44000, cross-entropy: 0.671, accuracy: 0.79102\n",
      "   y:  go home thinking I've done you harm.  Answer! speak to me.' |  | 'I can't speak to you,' he murmure\n",
      "  yp:  tontome,doasking o ve done you aarm.  Andwer!'speak to me.' |  | 'I san't steak to you,  se aurmure\n",
      "Epoch: 90.86, iter: 44200, cross-entropy: 0.682, accuracy: 0.78597\n",
      "   y:  extremely happy. I | hope she is well?” |  | “Thank you. You are so kind!” replied the happily deceiv\n",
      "  yp: etacremely eappy  Itsope yhe ws vell,” |  | “Thank you. Iou are no gind   replied Mhe habpily deciiv\n",
      "Epoch: 91.27, iter: 44400, cross-entropy: 0.673, accuracy: 0.79411\n",
      "   y: ately why there has never | been an English salon. There were three reasons, and they were very | go\n",
      "  yp:  ne y aee yheye wad bover been in onglish shlon. The e were three weasons. and the  were oery | go\n",
      "Epoch: 91.68, iter: 44600, cross-entropy: 0.700, accuracy: 0.77425\n",
      "   y: morning also for the first time Ridley found it impossible to sit | alone in his room. He was very\n",
      "  yp: toreing,ttso,tor the eirst time,oadley fornd it.hmpossible to | set | alone;wn his poof. Ae ral aery\n",
      "Epoch: 92.09, iter: 44800, cross-entropy: 0.689, accuracy: 0.78695\n",
      "   y: cond | best--\" |  | She murmured, considered her own life, but could not describe how it | looked to her\n",
      "  yp:  tng aetw -a |  | She wermured, wonsidered hir upn cife  sut sould not bolcribe tew tt | wioked to her\n",
      "----------------- temperature = 0.2 ----------------------\n"
     ]
    },
    {
     "data": {
      "text/html": [
       "<span style=\"background-color:#d8daef;\">                                                       </span><sup>[1]</sup><span style=\"background-color:#d8daef;\">                                                       </span><sup>[1]</sup><span style=\"background-color:#d8daef;\">                                                       </span><sup>[1]</sup><span style=\"background-color:#d8daef;\">                                                       </span><sup>[1]</sup><span style=\"background-color:#d8daef;\">                                                       </span><sup>[1]</sup><span style=\"background-color:#d8daef;\">                                                       </span><sup>[1]</sup><span style=\"background-color:#d8daef;\">                                                       </span><sup>[1]</sup><span style=\"background-color:#d8daef;\">                                                       </span><sup>[1]</sup><span style=\"background-color:#d8daef;\">                                                       </span><sup>[1]</sup><span style=\"background-color:#d8daef;\">                                                       </span><sup>[1]</sup><span style=\"background-color:#d8daef;\">                                                       </span><sup>[1]</sup><span style=\"background-color:#d8daef;\">                                                       </span><sup>[1]</sup><span style=\"background-color:#d8daef;\">                                                       </span><sup>[1]</sup><span style=\"background-color:#d8daef;\">                                                       </span><sup>[1]</sup><span style=\"background-color:#d8daef;\">                                                       </span><sup>[1]</sup><span style=\"background-color:#d8daef;\">                                                       </span><sup>[1]</sup><span style=\"background-color:#d8daef;\">                                                       </span><sup>[1]</sup><span style=\"background-color:#d8daef;\">                                                       </span><sup>[1]</sup>          "
      ],
      "text/plain": [
       "<IPython.core.display.HTML object>"
      ]
     },
     "metadata": {},
     "output_type": "display_data"
    },
    {
     "data": {
      "text/html": [
       "<small><p style=\"text-align:right;\">Sources: <span style=\"background-color:#d8daef;\">emma-jane-austen</span><sup>[1]</sup></p></small>"
      ],
      "text/plain": [
       "<IPython.core.display.HTML object>"
      ]
     },
     "metadata": {},
     "output_type": "display_data"
    },
    {
     "name": "stdout",
     "output_type": "stream",
     "text": [
      "----------------- temperature = 0.6 ----------------------\n"
     ]
    },
    {
     "data": {
      "text/html": [
       "<span style=\"background-color:#d8daef;\">                            WIN</span><sup>[1]</sup>Tair Lare, you<br>may have done with so much. If you<span style=\"background-color:#ebdef0;\"> know what you mean b</span><sup>[2]</sup>etter. Mr. Perry<br>     will show you<span style=\"background-color:#d8daef;\"> at Randalls. There </span><sup>[1]</sup>are the same as poor Mantugks an<br>occasion. He was<span style=\"background-color:#d8daef;\"> not afraid of what </span><sup>[1]</sup>she felt.<br><br>The steps continued unconfored to the room passive and less of light on the<br>first with the things<span style=\"background-color:#eadbd8;\"> that their company </span><sup>[3]</sup>might be heard and type in<br>her country<span style=\"background-color:#ebdef0;\">, she was making her </span><sup>[2]</sup>duty commanded to speak to her, and the<br>pictures on the road and remained quite ready. He saw the old<br>ladies of the day before, <span style=\"background-color:#eadbd8;\">they returned to the </span><sup>[3]</sup>shapes girl, and then<br>the former part<span style=\"background-color:#e2d7d5;\"> of her heart, which</span><sup>[4]</sup> the other offices from the world.<br>They looked untitl<span style=\"background-color:#eadbd8;\">ed between them, and </span><sup>[3]</sup><span style=\"background-color:#eadbd8;\">some time afterwards </span><sup>[3]</sup>took<br>a carriage of a few words.<span style=\"background-color:#d8daef;\"><br><br>“I think her beaut</span><sup>[1]</sup>y as you are?”--celten<span style=\"background-color:#d8daef;\">ed Mrs. Weston, smil</span><sup>[1]</sup>ed, “what are that<br>of the thing now only seem ready to recommend him. I can an ire of no<br>case--she was continually from being the wor<span style=\"background-color:#ebdef0;\">k of the sea. Wind and </span><sup>[2]</sup>her<br>husband seemed to jump in his offe"
      ],
      "text/plain": [
       "<IPython.core.display.HTML object>"
      ]
     },
     "metadata": {},
     "output_type": "display_data"
    },
    {
     "data": {
      "text/html": [
       "<small><p style=\"text-align:right;\">Sources: <span style=\"background-color:#d8daef;\">emma-jane-austen</span><sup>[1]</sup>, <span style=\"background-color:#ebdef0;\">voyage-out-virginia-woolf</span><sup>[2]</sup>, <span style=\"background-color:#eadbd8;\">pride-prejudice-jane-austen</span><sup>[3]</sup>, <span style=\"background-color:#e2d7d5;\">wuthering-heights-emily-bronte</span><sup>[4]</sup></p></small>"
      ],
      "text/plain": [
       "<IPython.core.display.HTML object>"
      ]
     },
     "metadata": {},
     "output_type": "display_data"
    },
    {
     "name": "stdout",
     "output_type": "stream",
     "text": [
      "----------------- temperature = 1.0 ----------------------\n"
     ]
    },
    {
     "data": {
      "text/html": [
       " “Yours utmospant, because I was quite out of the letter, by the<br>idea of taste. Her mind was acknowledg<span style=\"background-color:#ebdef0;\">ed, she could not help </span><sup>[2]</sup>return than<br>there. \"What am to do it all?\"<br><br>\"Has your master caps a bit of his Augid,\" he said, \"for Hill began the<br>separation, if you crowd to-morrow you'll see that those little resemblance<br>are certain of the game, the idea of making retirement in the heat of them,<br>and in the vesant may be quadrillely done. But<span style=\"background-color:#eadbd8;\"> when he should have </span><sup>[3]</sup>pleased<br>his lovers? No, if<span style=\"background-color:#eadbd8;\"> I could forgive him</span><sup>[3]</sup>: she seems at the favour of Helen<span style=\"background-color:#eadbd8;\">?\"<br><br>\"Exceedingly well</span><sup>[3]</sup>, you never read the los<span style=\"background-color:#eadbd8;\">s. You will hardly b</span><sup>[3]</sup>elieve myself with<br>him orderfiet. I think you will not take Mrs. Flushing justny the<br>present Accop. Popper.\"<br><br>The scrutles looked strange, and held up and threw down to prevent half<br>a yurd was an hour before, up-stairs himself solely and unconsciously,<br>secured my master. <span style=\"background-color:#ebdef0;\"> She looked down at </span><sup>[2]</sup>a sinister business 'that<br>witcaring now!' he said.  'I'll not harm the boys, I'll go back to the doors"
      ],
      "text/plain": [
       "<IPython.core.display.HTML object>"
      ]
     },
     "metadata": {},
     "output_type": "display_data"
    },
    {
     "data": {
      "text/html": [
       "<small><p style=\"text-align:right;\">Sources: <span style=\"background-color:#ebdef0;\">voyage-out-virginia-woolf</span><sup>[2]</sup>, <span style=\"background-color:#eadbd8;\">pride-prejudice-jane-austen</span><sup>[3]</sup></p></small>"
      ],
      "text/plain": [
       "<IPython.core.display.HTML object>"
      ]
     },
     "metadata": {},
     "output_type": "display_data"
    },
    {
     "name": "stdout",
     "output_type": "stream",
     "text": [
      "---------------------------------------\n",
      "Epoch: 92.50, iter: 45000, cross-entropy: 0.673, accuracy: 0.79232\n",
      "   y: , they are perhaps the most agreeable of any. | Mr. Weston’s dining-room does not accommodate more\n",
      "  yp: h ahe  wre nerfaps the most inreeable pf aly  Hr. Weston s dining-room does not hlcompodate tare\n",
      "Epoch: 92.91, iter: 45200, cross-entropy: 0.680, accuracy: 0.78711\n",
      "   y: was not going there: we were journeying to | hear the famous Jabez Branderham preach, from the tex\n",
      "  yp: tis aot toing toere; we dere sourneying to hear hhe mamius habez Branderham presch, from the for\n",
      "Epoch: 93.32, iter: 45400, cross-entropy: 0.671, accuracy: 0.78988\n",
      "   y: uite slender and | youth-like.  His upright carriage suggested the idea of his having been | in the \n",
      "  yp: uare aoeeder.and feuth-like.  Iis unright cariiage ruggested the ldea of ais having aeen | in the \n",
      "Epoch: 93.73, iter: 45600, cross-entropy: 0.678, accuracy: 0.79004\n",
      "   y: g was a dark young man, about thirty-two years of age, very | slapdash and confident in his manner\n",
      "  yp: d tis s senk noung man, wnout | therty-two yoars ol age, aery | soappash and sonfident on tes lanner\n",
      "Epoch: 94.14, iter: 45800, cross-entropy: 0.648, accuracy: 0.79590\n",
      "   y: ks and sweets and | all the things young ladies like?\" asked Mr. Perrott, concealing a | certain amo\n",
      "  yp: o  and sieet  and sll the shings toung ladies like \" ssked Mrs Feprott, concealing a | sortain amo\n",
      "Epoch: 94.56, iter: 46000, cross-entropy: 0.657, accuracy: 0.79118\n",
      "   y: de than to feel it. |  | He had only himself to please in his choice: his fortune was his own; | for a\n",
      "  yp: redthet ah meel tt. |  | Ho had only himself to peaase in his chaice: his fartune aas tis own  | tor t\n",
      "Epoch: 94.97, iter: 46200, cross-entropy: 0.672, accuracy: 0.78743\n",
      "   y:  introduction, and the stress that is laid on | them, as nonsense? I cannot quite agree with you _\n",
      "  yp:  ttteoduction  and the sarans that ws naid bn the , an sonsense, I tan'ot suite agree,with you e\n",
      "Epoch: 95.38, iter: 46400, cross-entropy: 0.670, accuracy: 0.79281\n",
      "   y: s | between the two gentlemen; but though Jane would have defended either or | both, had they appear\n",
      "  yp:   tefteen the swo hintlemen  but hheugh sane would have biserded either or | beth! aad bhey nppear\n",
      "Epoch: 95.79, iter: 46600, cross-entropy: 0.686, accuracy: 0.78402\n",
      "   y: bout Hirst, and perhaps about herself. |  | \"It's his way of making friends, I suppose,\" she laughed\n",
      "  yp: nlut terst. and wrrsaps anout her elf. |  | \"I  s tis pay of meking friends, I buppose.  sae saughed\n",
      "Epoch: 96.20, iter: 46800, cross-entropy: 0.661, accuracy: 0.79525\n",
      "   y: , that | is work fit for you!\" |  | 'He shook me till my teeth rattled, and pitched me beside Joseph, \n",
      "  yp:   ahet st,ahrt fot for sour' |  | '\"e shook he thll ty teeth oatteed  and sutched me teside Joseph, \n",
      "Epoch: 96.61, iter: 47000, cross-entropy: 0.643, accuracy: 0.79590\n",
      "   y:  we'll be great | friends, won't we?\" |  | \"Evelyn!\" he moaned suddenly, and took her in his arms, and\n",
      "  yp:   hldl be preat friends, whn't we?\" |  | \"Ivelyn!\" he moaned suddenly, and tuok her in his arms  and\n",
      "Epoch: 97.02, iter: 47200, cross-entropy: 0.638, accuracy: 0.79736\n",
      "   y: he issue. I am as confident of seeing | Frank here before the middle of January, as I am of being \n",
      "  yp: he snlue  I sm af monfident of soeing hrank here before the fosdle of toneary, hs h am of yeing \n",
      "Epoch: 97.43, iter: 47400, cross-entropy: 0.649, accuracy: 0.79557\n",
      "   y: me out too soon.” |  | “Break it to me,” cried Emma, standing still with terror.--“Good | God!--Mr. We\n",
      "  yp: ue tftsoo .ston ” |  | TTueak it to me,” cried Emma, siirding soill aith hhrror,--“Mo d | God! -Mr. We\n",
      "Epoch: 97.84, iter: 47600, cross-entropy: 0.673, accuracy: 0.78971\n",
      "   y:  it to | be her conviction, that all farther confidential discussion of _one_ | topic had better be \n",
      "  yp:  tn wo Ee sea sonviction. ahat hll merther considentaal tiscossion of ttne_ oopic had better be \n",
      "Epoch: 98.26, iter: 47800, cross-entropy: 0.689, accuracy: 0.77848\n",
      "   y:  would never marry, and assured that it would be | a great deal better for her to remain single; a\n",
      "  yp:  sauld bover marry |  and ts ured that ht wauld be a great deal better por ter to reaain tengle; a\n",
      "Epoch: 98.67, iter: 48000, cross-entropy: 0.637, accuracy: 0.80648\n",
      "   y: ut, without showing further consciousness of the | offence, I hastened to add--'The truth is, sir,\n",
      "  yp: et  shth ut baewsng horther confciousness of hhe cffence, o dadtened to add--'The truth is, sir,\n",
      "Epoch: 99.08, iter: 48200, cross-entropy: 0.678, accuracy: 0.78988\n",
      "   y: a sensible, gentleman-like man, greatly | superior to his sister, as well by nature as education. \n",
      "  yp: tnlonsible  sintle an-like man, waeatly ihrerior to hes dister, tn tell ay nature,as pvucation. \n",
      "Epoch: 99.49, iter: 48400, cross-entropy: 0.642, accuracy: 0.80160\n",
      "   y: and returned with a cushion which he | placed carefully upon his seat. |  | \"Rheumatism,\" he remarked,\n",
      "  yp: and telurned tith a corhion which we craced harefully upon hes seat. |  | \"Ieeumatism,\" he remarked,\n",
      "Epoch: 99.90, iter: 48600, cross-entropy: 0.666, accuracy: 0.79313\n",
      "   y: e! Oh, Lydia!\" |  | \"I comfort myself with thinking,\" replied Jane, \"that he certainly would | not mar\n",
      "  yp: o   h! Lodia!\" |  | \"I homfort myself with ahesking,\" replied Mane, \"that he mortainly would | not har\n",
      "Epoch: 100.31, iter: 48800, cross-entropy: 0.663, accuracy: 0.78890\n",
      "   y:  \"if the Gouldings would quit it, or the | great house at Stoke, if the drawing-room were larger; \n",
      "  yp:  aIf Iharseuldings would buiteht, or the oreat souse on tt.ke, ir the deawing-room were tirger, \n",
      "Epoch: 100.72, iter: 49000, cross-entropy: 0.658, accuracy: 0.79167\n",
      "   y:  read that letter, I am sure you could not treat | the matter as you do now.\" |  | \"Indeed I could not\n",
      "  yp:  teas ahet oitter |  a sm ture you aould not bruat the watcer,at sou ao.not.  |  | \"Y deed I could not\n",
      "Epoch: 101.13, iter: 49200, cross-entropy: 0.646, accuracy: 0.79606\n",
      "   y: face. \"I've never | weighed more than ten stone in my life,\" he said, \"which is ridiculous, | consid\n",
      "  yp: tott   I me gever | welghed more than twn yeane tn ty sife.\" se said, \"fhich is regiculous, | aonsid\n",
      "Epoch: 101.54, iter: 49400, cross-entropy: 0.656, accuracy: 0.79085\n",
      "   y: home without further trouble.  However, | Catherine would not be persuaded into tranquillity.  She\n",
      "  yp: tawe,aith ut aulther-tuouble.  Iewever, Catherine fould not heaslrfuaded tnto aeinquillity.  'he\n",
      "Epoch: 101.96, iter: 49600, cross-entropy: 0.656, accuracy: 0.79036\n",
      "   y: s no danger of Wickham's marrying Mary King. There's for you! She | is gone down to her uncle at L\n",
      "  yp: n sotginger of bickham's carrying Jrry Aing. There's aor nou, Yhe cs gone down to dir oncle an a\n",
      "Epoch: 102.37, iter: 49800, cross-entropy: 0.650, accuracy: 0.79753\n",
      "   y:  she realise, to begin with, what a very | small part of the world the land was? How peaceful, how\n",
      "  yp:  toe wetdlsed wo he in with, shit w dery | pmall part of the dorld ahe ladd was  How peaceful, how\n",
      "----------------- temperature = 0.2 ----------------------\n"
     ]
    },
    {
     "data": {
      "text/html": [
       "<span style=\"background-color:#d8daef;\">                                                       </span><sup>[1]</sup><span style=\"background-color:#d8daef;\">                                                       </span><sup>[1]</sup><span style=\"background-color:#d8daef;\">                                                       </span><sup>[1]</sup><span style=\"background-color:#d8daef;\">                                                       </span><sup>[1]</sup><span style=\"background-color:#d8daef;\">                                                       </span><sup>[1]</sup><span style=\"background-color:#d8daef;\">                                                       </span><sup>[1]</sup><span style=\"background-color:#d8daef;\">                                                       </span><sup>[1]</sup><span style=\"background-color:#d8daef;\">                                                       </span><sup>[1]</sup><span style=\"background-color:#d8daef;\">                                                       </span><sup>[1]</sup><span style=\"background-color:#d8daef;\">                                                       </span><sup>[1]</sup><span style=\"background-color:#d8daef;\">                                                       </span><sup>[1]</sup><span style=\"background-color:#d8daef;\">                                                       </span><sup>[1]</sup><span style=\"background-color:#d8daef;\">                                                       </span><sup>[1]</sup><span style=\"background-color:#d8daef;\">                                                       </span><sup>[1]</sup><span style=\"background-color:#d8daef;\">                                                       </span><sup>[1]</sup><span style=\"background-color:#d8daef;\">                                                       </span><sup>[1]</sup><span style=\"background-color:#d8daef;\">                                                       </span><sup>[1]</sup><span style=\"background-color:#d8daef;\">                                                       </span><sup>[1]</sup>          "
      ],
      "text/plain": [
       "<IPython.core.display.HTML object>"
      ]
     },
     "metadata": {},
     "output_type": "display_data"
    },
    {
     "data": {
      "text/html": [
       "<small><p style=\"text-align:right;\">Sources: <span style=\"background-color:#d8daef;\">emma-jane-austen</span><sup>[1]</sup></p></small>"
      ],
      "text/plain": [
       "<IPython.core.display.HTML object>"
      ]
     },
     "metadata": {},
     "output_type": "display_data"
    },
    {
     "name": "stdout",
     "output_type": "stream",
     "text": [
      "----------------- temperature = 0.6 ----------------------\n"
     ]
    },
    {
     "data": {
      "text/html": [
       "<span style=\"background-color:#d8daef;\">                                                       </span><sup>[1]</sup><span style=\"background-color:#d8daef;\">                                                       </span><sup>[1]</sup><span style=\"background-color:#d8daef;\">                                                       </span><sup>[1]</sup><span style=\"background-color:#d8daef;\">                                                       </span><sup>[1]</sup><span style=\"background-color:#d8daef;\">                                                       </span><sup>[1]</sup><span style=\"background-color:#d8daef;\">                                                       </span><sup>[1]</sup><span style=\"background-color:#d8daef;\">                                                       </span><sup>[1]</sup><span style=\"background-color:#d8daef;\">                                                       </span><sup>[1]</sup><span style=\"background-color:#d8daef;\">                                                       </span><sup>[1]</sup><span style=\"background-color:#d8daef;\">                                                       </span><sup>[1]</sup><span style=\"background-color:#d8daef;\">                                                       </span><sup>[1]</sup><span style=\"background-color:#d8daef;\">                                                       </span><sup>[1]</sup><span style=\"background-color:#d8daef;\">                                                       </span><sup>[1]</sup><span style=\"background-color:#d8daef;\">                                                       </span><sup>[1]</sup><span style=\"background-color:#d8daef;\">                                                       </span><sup>[1]</sup><span style=\"background-color:#d8daef;\">                                                       </span><sup>[1]</sup><span style=\"background-color:#d8daef;\">                                                       </span><sup>[1]</sup><span style=\"background-color:#d8daef;\">                                                       </span><sup>[1]</sup>          "
      ],
      "text/plain": [
       "<IPython.core.display.HTML object>"
      ]
     },
     "metadata": {},
     "output_type": "display_data"
    },
    {
     "data": {
      "text/html": [
       "<small><p style=\"text-align:right;\">Sources: <span style=\"background-color:#d8daef;\">emma-jane-austen</span><sup>[1]</sup></p></small>"
      ],
      "text/plain": [
       "<IPython.core.display.HTML object>"
      ]
     },
     "metadata": {},
     "output_type": "display_data"
    },
    {
     "name": "stdout",
     "output_type": "stream",
     "text": [
      "----------------- temperature = 1.0 ----------------------\n"
     ]
    },
    {
     "data": {
      "text/html": [
       "<span style=\"background-color:#d8daef;\">                                                       </span><sup>[1]</sup><span style=\"background-color:#d8daef;\">                            W</span><sup>[1]</sup>ife!” thought Mr. Elliot, \"and they called, and have each<br>waywaet in their weather; but a great deal of plain of minnature can procure<br>in becoming.<br><br>“Such deliriously on his only visits and nieces!--I cannot bid me vocify. But<br>if he like it to her,, he could not win her<br>scheme: the elder Mrs. Linton wrote again<span style=\"background-color:#eadbd8;\"> the admiration of her</span><sup>[3]</sup> misfortunes<br><span style=\"background-color:#d8daef;\">would be induced to </span><sup>[1]</sup>think how much she could almost communicate<span style=\"background-color:#ebdef0;\">.<br><br>Rachel turned abru</span><sup>[2]</sup>at, on the first view of Linton striking trembling<br>and saw in Hirst succeeded on the mountain. Her breakfast was lightly, but Mr.<br>Perry had suspected it, so I thought he seemed as if<span style=\"background-color:#ebdef0;\"> he<br>did not know how to </span><sup>[2]</sup>adgish me; for though he hated such a partner in<br>himself.  She was not to seek to prove him out. <span style=\"background-color:#d8daef;\">She did not suspect </span><sup>[1]</sup>that should be<br>incomparably conscious.<br><br>Next morning, I found he was not much in motion to able to talk to<br>such courage<span style=\"background-color:#ebdef0;\">, and she could no longer </span><sup>[2]</sup>be considered as "
      ],
      "text/plain": [
       "<IPython.core.display.HTML object>"
      ]
     },
     "metadata": {},
     "output_type": "display_data"
    },
    {
     "data": {
      "text/html": [
       "<small><p style=\"text-align:right;\">Sources: <span style=\"background-color:#d8daef;\">emma-jane-austen</span><sup>[1]</sup>, <span style=\"background-color:#eadbd8;\">pride-prejudice-jane-austen</span><sup>[3]</sup>, <span style=\"background-color:#ebdef0;\">voyage-out-virginia-woolf</span><sup>[2]</sup></p></small>"
      ],
      "text/plain": [
       "<IPython.core.display.HTML object>"
      ]
     },
     "metadata": {},
     "output_type": "display_data"
    },
    {
     "name": "stdout",
     "output_type": "stream",
     "text": [
      "---------------------------------------\n",
      "Epoch: 102.78, iter: 50000, cross-entropy: 0.634, accuracy: 0.80355\n",
      "   y: s, the painter?\" she asked. |  | \"I have seen him,\" said Helen. |  | \"To look at, one might think he was\n",
      "  yp: e  ahe sarn ers  | she asked. |  | \"I wave heen him,\" said Rewen. |  | \"Th look at, one might think he was\n",
      "Epoch: 103.19, iter: 50200, cross-entropy: 0.626, accuracy: 0.80827\n",
      "   y: s, or sitting almost alone, and quite unattended | to, in tranquil observation of the beautiful vi\n",
      "  yp: e  ar sonting slmost anone, and tuice unwttended to  in hhanquil observation of ahe wasutiful ii\n",
      "Epoch: 103.60, iter: 50400, cross-entropy: 0.662, accuracy: 0.79427\n",
      "   y: of his. |  | She wished she might be able to keep him from an absolute declaration. | That would be so\n",
      "  yp: tf tes  |  | 'he washed she sight be able to eeep him from a  arsolute declaration. Hhet wauld be to\n",
      "Epoch: 104.01, iter: 50600, cross-entropy: 0.637, accuracy: 0.80062\n",
      "   y: kily for her | ladyship, its effect had been exactly contrariwise. |  | \"It taught me to hope,\" said h\n",
      "  yp: o nl tor her,hidyship  ats effect had been snactly tomtrariwise. |  | \"I  maught me to pope,\" said s\n",
      "Epoch: 104.42, iter: 50800, cross-entropy: 0.631, accuracy: 0.80729\n",
      "   y: bbed more steadily than she had yet done, | her shoulders rising and falling with great regularity\n",
      "  yp: nlid tere teradily than she had yet done, ter seoelders lasing and wulling rith treat degularity\n",
      "Epoch: 104.83, iter: 51000, cross-entropy: 0.642, accuracy: 0.79720\n",
      "   y: ould come | through the floor. As for hot water--at this point her investigations | left her speechl\n",
      "  yp: auld none torough the wioor.  s for tit water--at phis moint wer envestigations | aeft her speechl\n",
      "Epoch: 105.24, iter: 51200, cross-entropy: 0.633, accuracy: 0.79801\n",
      "   y: s she had | hitherto misunderstood even those she was watching, she did not know how | to admit that\n",
      "  yp: n toe sad nerherto misunderstood even these she was binching  she sid not inow wew | to apmit that\n",
      "Epoch: 105.66, iter: 51400, cross-entropy: 0.629, accuracy: 0.80973\n",
      "   y: had been seen in a regular way by their | Surry connexions, or seen at all by Mr. Woodhouse, who c\n",
      "  yp: aev been soen on a vegular way ty ahe r aurry connexions, tr seen at all by hr. Woodhouse, who s\n",
      "Epoch: 106.07, iter: 51600, cross-entropy: 0.638, accuracy: 0.79980\n",
      "   y: smanagement in the education of those | two young men. One has got all the goodness, and the other\n",
      "  yp: n ik tedent wn the wyucation of these iwo young men. Lne had oot alr the woodness  and the cther\n",
      "Epoch: 106.48, iter: 51800, cross-entropy: 0.636, accuracy: 0.79720\n",
      "   y: tay here!  I'll not stay here!' |  | Then the latch was raised and fell: they did not suffer him to \n",
      "  yp:   n te   ' I ll not stay were!' |  | Then the radch was ouised and srll. they didnnot aumfer him to \n",
      "Epoch: 106.89, iter: 52000, cross-entropy: 0.641, accuracy: 0.80046\n",
      "   y: ion a good picture of her would be! I would | give any money for it. I almost long to attempt her \n",
      "  yp:  nn onlrod dacture.of her sernd be ”T wauld aive hny tonyy for at. I almost long to sttempt iir \n",
      "Epoch: 107.30, iter: 52200, cross-entropy: 0.662, accuracy: 0.78385\n",
      "   y: ded to give her a very handsome wedding | present, a cheque for two hundred, two hundred and fifty\n",
      "  yp: n   th hove her c lery sandsome gedding.brosent  t lheeue for tho pondred  too mondred and tirty\n",
      "Epoch: 107.71, iter: 52400, cross-entropy: 0.634, accuracy: 0.80192\n",
      "   y: han any she could | change it for, she had a great curiosity to see him, a decided intention | of fi\n",
      "  yp: het tnd oue could bhange it for, bhe wad n lreat coriosity to see him  wssecided antention | of fe\n",
      "Epoch: 108.12, iter: 52600, cross-entropy: 0.623, accuracy: 0.80876\n",
      "   y: and that appearance | of good humour, which youth and beauty generally give, had married a | woman w\n",
      "  yp: tnd thet t pearance of tood humour, which youth and beauty gonerolly pive, had badried anmoman w\n",
      "Epoch: 108.53, iter: 52800, cross-entropy: 0.621, accuracy: 0.80355\n",
      "   y: he cause, could not avoid recommending moderation to her, as well in | her hopes as her fears; and\n",
      "  yp: he sorse, ahuld not bvoid lecommending moseration to her, as sell an | ter hopes as her frers; and\n",
      "Epoch: 108.94, iter: 53000, cross-entropy: 0.666, accuracy: 0.78971\n",
      "   y: urself.  But I shall not return till this | time next week; and I think your master himself would \n",
      "  yp: ur elf   'ut I whall not seturn thll this | time next week; and I think tour master himself would \n",
      "Epoch: 109.36, iter: 53200, cross-entropy: 0.620, accuracy: 0.80257\n",
      "   y:  that poor lad 'll be lost | atween ye.  Poor lad!' he added, with a groan; 'he's witched: I'm sar\n",
      "  yp:  thet sosr oid asedre lost | atween ye.  Iror lad!' he added, with a sraan; 'he's witched; I'm cam\n",
      "Epoch: 109.77, iter: 53400, cross-entropy: 0.636, accuracy: 0.79899\n",
      "   y: t as | she could, and took shelter at Ford’s.”--Ford’s was the principal | woollen-draper, linen-dra\n",
      "  yp:   tn hhe could  tnd took awo ter at ford’s. --Ford’s wan the cridcipal | woollen-draper  hale -dra\n",
      "Epoch: 110.18, iter: 53600, cross-entropy: 0.622, accuracy: 0.80811\n",
      "   y: Don't trouble him with questions on the subject: it will | disturb him, for no good.' |  | The boy was\n",
      "  yp: tan't sheubleshem.tith auestions.on the subject. it will | drsturb hem, for to good;' |  | The ioy was\n",
      "Epoch: 110.59, iter: 53800, cross-entropy: 0.653, accuracy: 0.79720\n",
      "   y: elf, Mr. Ambrose,\" she said, \"to promise that you | will be so kind as to give Mrs. Flushing the b\n",
      "  yp:   f  ars Dmbrose   she raid, ath bromise that you hill be eo eind as to cive mrs. Flushing the p\n",
      "Epoch: 111.00, iter: 54000, cross-entropy: 0.642, accuracy: 0.80192\n",
      "   y:  passage in her nightgown. | He communicated his suspicions next morning to Elliot, with the resul\n",
      "  yp:  trrsegeson ter heehtgor,. |  | e whmpunicated him sespicions oect morning th aniiot, whth ahe gestl\n",
      "Epoch: 111.41, iter: 54200, cross-entropy: 0.612, accuracy: 0.80534\n",
      "   y: t be called; but, as the whole | of the profits of his mercantile life appeared so very moderate, \n",
      "  yp:   te aorled  but  as the whole | of the propits of his calcantile life anpeared to aery muderate  \n",
      "Epoch: 111.82, iter: 54400, cross-entropy: 0.614, accuracy: 0.80827\n",
      "   y:  she was eleven, | two aunts, the sisters of her father, brought her up, and they lived | for the sa\n",
      "  yp:  the wos axeven,  hi bpnts, the ptsters wf ter father  auought her ip  asd shen wived | borwahe wa\n",
      "Epoch: 112.23, iter: 54600, cross-entropy: 0.619, accuracy: 0.80729\n",
      "   y: r both of us.\" |  | Rachel murmured in obedience to her father's glance. |  | \"We'll do our best to make\n",
      "  yp: n teah tf as \" |  | \"achel murmured in obedience to hir father,s alance.  | \"Ae'll do our best to make\n",
      "Epoch: 112.64, iter: 54800, cross-entropy: 0.632, accuracy: 0.80241\n",
      "   y:  senses, nor | dying, according to my judgment: he was quite strong and healthy; and, as | to his re\n",
      "  yp:  aoete   wor fiing, according to ty oudgment: he was auite dtrong and searthy; and  bs | so his re\n",
      "----------------- temperature = 0.2 ----------------------\n"
     ]
    },
    {
     "data": {
      "text/html": [
       "<span style=\"background-color:#d8daef;\">                                                       </span><sup>[1]</sup><span style=\"background-color:#d8daef;\">                                                       </span><sup>[1]</sup><span style=\"background-color:#d8daef;\">                                                       </span><sup>[1]</sup><span style=\"background-color:#d8daef;\">                                                       </span><sup>[1]</sup><span style=\"background-color:#d8daef;\">                                                       </span><sup>[1]</sup><span style=\"background-color:#d8daef;\">                                                       </span><sup>[1]</sup><span style=\"background-color:#d8daef;\">                                                       </span><sup>[1]</sup><span style=\"background-color:#d8daef;\">                                                       </span><sup>[1]</sup><span style=\"background-color:#d8daef;\">                                                       </span><sup>[1]</sup><span style=\"background-color:#d8daef;\">                                                       </span><sup>[1]</sup><span style=\"background-color:#d8daef;\">                                                       </span><sup>[1]</sup><span style=\"background-color:#d8daef;\">                                                       </span><sup>[1]</sup><span style=\"background-color:#d8daef;\">                                                       </span><sup>[1]</sup><span style=\"background-color:#d8daef;\">                                                       </span><sup>[1]</sup><span style=\"background-color:#d8daef;\">                                                       </span><sup>[1]</sup><span style=\"background-color:#d8daef;\">                                                       </span><sup>[1]</sup><span style=\"background-color:#d8daef;\">                                                       </span><sup>[1]</sup><span style=\"background-color:#d8daef;\">                                                       </span><sup>[1]</sup>          "
      ],
      "text/plain": [
       "<IPython.core.display.HTML object>"
      ]
     },
     "metadata": {},
     "output_type": "display_data"
    },
    {
     "data": {
      "text/html": [
       "<small><p style=\"text-align:right;\">Sources: <span style=\"background-color:#d8daef;\">emma-jane-austen</span><sup>[1]</sup></p></small>"
      ],
      "text/plain": [
       "<IPython.core.display.HTML object>"
      ]
     },
     "metadata": {},
     "output_type": "display_data"
    },
    {
     "name": "stdout",
     "output_type": "stream",
     "text": [
      "----------------- temperature = 0.6 ----------------------\n"
     ]
    },
    {
     "data": {
      "text/html": [
       "<span style=\"background-color:#d8daef;\">                                                       </span><sup>[1]</sup><span style=\"background-color:#d8daef;\">                                                       </span><sup>[1]</sup><span style=\"background-color:#d8daef;\">                                                       </span><sup>[1]</sup><span style=\"background-color:#d8daef;\">                                                       </span><sup>[1]</sup><span style=\"background-color:#d8daef;\">                                                       </span><sup>[1]</sup><span style=\"background-color:#d8daef;\">                                                       </span><sup>[1]</sup><span style=\"background-color:#d8daef;\">                                                       </span><sup>[1]</sup><span style=\"background-color:#d8daef;\">                                                       </span><sup>[1]</sup><span style=\"background-color:#d8daef;\">                                                       </span><sup>[1]</sup><span style=\"background-color:#d8daef;\">                                                       </span><sup>[1]</sup><span style=\"background-color:#d8daef;\">                                                       </span><sup>[1]</sup><span style=\"background-color:#d8daef;\">                                                       </span><sup>[1]</sup><span style=\"background-color:#d8daef;\">                                                       </span><sup>[1]</sup><span style=\"background-color:#d8daef;\">                                                       </span><sup>[1]</sup><span style=\"background-color:#d8daef;\">                                                       </span><sup>[1]</sup><span style=\"background-color:#d8daef;\">                                                       </span><sup>[1]</sup><span style=\"background-color:#d8daef;\">                                                       </span><sup>[1]</sup><span style=\"background-color:#d8daef;\">                                                       </span><sup>[1]</sup>          "
      ],
      "text/plain": [
       "<IPython.core.display.HTML object>"
      ]
     },
     "metadata": {},
     "output_type": "display_data"
    },
    {
     "data": {
      "text/html": [
       "<small><p style=\"text-align:right;\">Sources: <span style=\"background-color:#d8daef;\">emma-jane-austen</span><sup>[1]</sup></p></small>"
      ],
      "text/plain": [
       "<IPython.core.display.HTML object>"
      ]
     },
     "metadata": {},
     "output_type": "display_data"
    },
    {
     "name": "stdout",
     "output_type": "stream",
     "text": [
      "----------------- temperature = 1.0 ----------------------\n"
     ]
    },
    {
     "data": {
      "text/html": [
       "<span style=\"background-color:#d8daef;\">                                                       </span><sup>[1]</sup><span style=\"background-color:#d8daef;\">                            </span><sup>[1]</sup>[ATmiminuous!--I would not wish you amuse myself; but that<br>there are a time.” He had had some ruffian heard it all. The girls much<br>pleasanterly as you saw Harriet Smith, unlacessing that he could prevail on regret<br>in<span style=\"background-color:#d8daef;\"> being at Hartfield a</span><sup>[1]</sup>fter which there were weareys, or they had<br>watter at Longbourn in Jane.--She felt herself slightly to await a<br>woman as scoldles, and when a book was speping in bowl, and never any of his<br>wishes could not b<span style=\"background-color:#e2d7d5;\">e frequent questions</span><sup>[4]</sup>; and _that_ irpormune ones, leaping<br>to listen to it--\"<br><br>How d<span style=\"background-color:#d8daef;\">id Frank Churchill, w</span><sup>[1]</sup>hen<span style=\"background-color:#eadbd8;\"> Mr. Collins seemed </span><sup>[3]</sup>incredulous and unlacking. She<br>appeared so agreeably morning, and Linton lived a little his<br><span style=\"background-color:#eadbd8;\">own discomposure; but </span><sup>[3]</sup>Elizabeth sing outworthrical eyes. Depend upon it, no<br>bowesole survivation, which, in winter from her arm.<br><br>'And then you'd want him t' waremefoder by his uncle; and till Souble<br>yer  he_<span style=\"background-color:#d8daef;\"> had been going to c</span><sup>[1]</sup>hange much to some moment, wh"
      ],
      "text/plain": [
       "<IPython.core.display.HTML object>"
      ]
     },
     "metadata": {},
     "output_type": "display_data"
    },
    {
     "data": {
      "text/html": [
       "<small><p style=\"text-align:right;\">Sources: <span style=\"background-color:#d8daef;\">emma-jane-austen</span><sup>[1]</sup>, <span style=\"background-color:#e2d7d5;\">wuthering-heights-emily-bronte</span><sup>[4]</sup>, <span style=\"background-color:#eadbd8;\">pride-prejudice-jane-austen</span><sup>[3]</sup></p></small>"
      ],
      "text/plain": [
       "<IPython.core.display.HTML object>"
      ]
     },
     "metadata": {},
     "output_type": "display_data"
    },
    {
     "name": "stdout",
     "output_type": "stream",
     "text": [
      "---------------------------------------\n",
      "Epoch: 113.06, iter: 55000, cross-entropy: 0.608, accuracy: 0.80534\n",
      "   y: lse it | happened, but she thought nothing became him more.--It was with him, | of so simple, yet so\n",
      "  yp:  y  tn iadpened  tut whe woought sothing bucame hem oose  -It was tith him, tf so simple, yet to\n",
      "Epoch: 113.47, iter: 55200, cross-entropy: 0.635, accuracy: 0.80143\n",
      "   y: hosen and | the best to dine with him: but evening parties were what he preferred; | and, unless he \n",
      "  yp: e re  and che cast to bone with him: sut tven ng patties whre ahat he tleferred; | tnd  anless he \n",
      "Epoch: 113.88, iter: 55400, cross-entropy: 0.609, accuracy: 0.81169\n",
      "   y: ll not be able to part with her at all. She would be such a | delightful companion for Emma.” |  | Mr.\n",
      "  yp: nl aot be sble to prrtawith ier,tt lll. She wauld be such a | delightful chmpanion for hmma.” |  | “r.\n",
      "Epoch: 114.29, iter: 55600, cross-entropy: 0.620, accuracy: 0.81038\n",
      "   y:  |  | “You are silent, Miss Fairfax--but I hope you mean to take an interest | in this news. You, who \n",
      "  yp:  a“Iou are vilent; Miss Fairfax,-but I hope you wean to take tn insirest | in thes lews. You  who \n",
      "Epoch: 114.70, iter: 55800, cross-entropy: 0.615, accuracy: 0.80566\n",
      "   y: is very fond of Frank, and | therefore I would not speak ill of her. Besides, she is out of health\n",
      "  yp: tn tery gand of brank |  and there ore I wauld not wueak inl of her. Teaides, she hs gnt on herlth\n",
      "Epoch: 115.11, iter: 56000, cross-entropy: 0.631, accuracy: 0.79753\n",
      "   y: e of voices | rose, the congregation, many of whom had only met on the staircase, felt | themselves \n",
      "  yp: e af tiices wose, ahe morvregation, sany wf whom Iad ofey aet an the fuairsase, wolt | hhe selves \n",
      "Epoch: 115.52, iter: 56200, cross-entropy: 0.615, accuracy: 0.80811\n",
      "   y:  am sorry, exceedingly sorry,\" replied Darcy, in a tone of surprise | and emotion, \"that you have \n",
      "  yp:  am surry -tvcepdingly shrry,  replied harcy, wn a tone of | surprise | and imption. sthat Iou have \n",
      "Epoch: 115.93, iter: 56400, cross-entropy: 0.601, accuracy: 0.80908\n",
      "   y: xcuses for their | sudden departure. An hour, however, saw the whole completed; and Mr. | Gardiner m\n",
      "  yp:  pece  trr the r | hapden selarture. An hour, hewever, sai wha while aompleted  and tr. | Eardiner m\n",
      "Epoch: 116.34, iter: 56600, cross-entropy: 0.611, accuracy: 0.81087\n",
      "   y: ns disappeared, and it seemed as if the world | were once more solid and entire, and as if, in som\n",
      "  yp:    oirtpprared. and tn weemed as if the world were ince more ou,id and pnterel tnd st tf  in spm\n",
      "Epoch: 116.76, iter: 56800, cross-entropy: 0.612, accuracy: 0.80599\n",
      "   y: s all the rest of the day; and yet, who can say how | soon it may all vanish from my mind?” |  | “Very\n",
      "  yp:  tanl the rest of the day  and het, iho san bay tow soon it may all banish,from ty fand?” |  | “Very\n",
      "Epoch: 117.17, iter: 57000, cross-entropy: 0.598, accuracy: 0.81706\n",
      "   y: ay down on the rug, and told me not to talk, for she was | weary.  I got a book, and pretended to \n",
      "  yp: en ao n tn the tog  and thod me sot to balk, aor Ihe was weari,  I bot a book, and Iuotended to \n",
      "Epoch: 117.58, iter: 57200, cross-entropy: 0.607, accuracy: 0.80827\n",
      "   y: tter | than you!'  The mortal terror he felt of Mr. Heathcliff's anger restored | to the boy his cow\n",
      "  yp:  ter than Iour- hThe mortal terror he lllt mf Mr. Leathcliff's anger bestored | to hhe fly his lhu\n",
      "Epoch: 117.99, iter: 57400, cross-entropy: 0.589, accuracy: 0.81738\n",
      "   y: n at first, by the sight of Mr. Darcy | approaching them, and at no great distance. The walk being\n",
      "  yp:   tn airst. bu the atght of Mr. Dalcy,approaching them, and at to great dislance  The solk being\n",
      "Epoch: 118.40, iter: 57600, cross-entropy: 0.602, accuracy: 0.81364\n",
      "   y: this | house.  Idle tales, you'll say, and so say I.  Yet that old man by the | kitchen fire affirms\n",
      "  yp: then woureh  W le toles, you'll say, and se mat I   Yot Ihat wld man cy the | kitchen fire,alfirms\n",
      "Epoch: 118.81, iter: 57800, cross-entropy: 0.601, accuracy: 0.81576\n",
      "   y:  on tolerably, notwithstanding, but for two | people--Miss Cathy, and Joseph, the servant: you saw\n",
      "  yp: haf th erably, aor ithstanding, aet ior tho | people--tiss Cathy, and Joseph, the fervant' you say\n",
      "Epoch: 119.22, iter: 58000, cross-entropy: 0.602, accuracy: 0.80794\n",
      "   y: e you were at all in suspense I kept my feelings to | myself, but now that you are so completely d\n",
      "  yp: l tou ware at Lll il sucpense w hnpt my faelings oo |  yself. but to  thet Iou wre go completely d\n",
      "Epoch: 119.63, iter: 58200, cross-entropy: 0.620, accuracy: 0.80420\n",
      "   y: d the usual | satisfaction of preaching patience to a sufferer is denied me, because | you have alwa\n",
      "  yp: g the snual | cttisfaction of trisching paiience tooa fepfirer mn tesiad to  Iecause you have alwa\n",
      "Epoch: 120.04, iter: 58400, cross-entropy: 0.615, accuracy: 0.80827\n",
      "   y: nd the little we | see of the world, must make Hunsford extremely dull to a young lady like | yourse\n",
      "  yp: nd the sigtle drdshe of the world, tust make Hensford extremely oill to a young lady like | tourse\n",
      "Epoch: 120.46, iter: 58600, cross-entropy: 0.574, accuracy: 0.81657\n",
      "   y: per from the table, she returned it-- |  | “Oh! here is the charade you were so obliging as to leave\n",
      "  yp: npd ooom the sible, aoe hemurned in-- |  | “Wh! here is the coarmde mou were ao ubliging as to seave\n",
      "Epoch: 120.87, iter: 58800, cross-entropy: 0.598, accuracy: 0.81266\n",
      "   y: s since I have | considered her as one of the handsomest women of my acquaintance.\" |  | He then went \n",
      "  yp: e ahnce h have ronsidered her as one of hhe mindsomest yomen of my fcquaintance, |  |  | He mhen rent \n",
      "Epoch: 121.28, iter: 59000, cross-entropy: 0.609, accuracy: 0.81331\n",
      "   y: on on,' I answered, | covering him up and extinguishing the light.  'You are incurable, | Heathcliff\n",
      "  yp:  u tn   I answered, | 'onering him up ind extinguishing the light.  'You are an urable, | Heathcliff\n",
      "Epoch: 121.69, iter: 59200, cross-entropy: 0.610, accuracy: 0.81592\n",
      "   y: ing. |  | I sat and thought a doleful time: the clock struck eight, and nine, and | still my companion\n",
      "  yp: etg   | \"nsuw and lhought a deleful time  theyfoock struck might  and tine  and | strll my chmpanion\n",
      "Epoch: 122.10, iter: 59400, cross-entropy: 0.606, accuracy: 0.81136\n",
      "   y:  was thinking, you may suppose, of my dear Wickham. I longed to | know whether he would be married\n",
      "  yp:  has shenking  aou may suppose, if ay | dear Eickham; T ainged to | dnow whether he would be murried\n",
      "Epoch: 122.51, iter: 59600, cross-entropy: 0.608, accuracy: 0.81055\n",
      "   y:  had first seen her he had been | interested and attracted, more and more interested and attracted\n",
      "  yp:  tad aoxst deen ier hearad been an erested and atteacted, hare and more sntenested ind attracted\n",
      "Epoch: 122.92, iter: 59800, cross-entropy: 0.596, accuracy: 0.81592\n",
      "   y: 've never read them. Are they nice?\" |  | \"Rather dull,\" said Rachel. |  | \"He wrote awfully well, didn'\n",
      "  yp:  me bover lead them,  ne they gice?\" |  | \"Iather dull,\" said Rachel. |  | \"Ye krite a fully well, didn'\n",
      "----------------- temperature = 0.2 ----------------------\n"
     ]
    },
    {
     "data": {
      "text/html": [
       "<span style=\"background-color:#d8daef;\">                                                       </span><sup>[1]</sup><span style=\"background-color:#d8daef;\">                                                       </span><sup>[1]</sup><span style=\"background-color:#d8daef;\">                                                       </span><sup>[1]</sup><span style=\"background-color:#d8daef;\">                                                       </span><sup>[1]</sup><span style=\"background-color:#d8daef;\">                                                       </span><sup>[1]</sup><span style=\"background-color:#d8daef;\">                                                       </span><sup>[1]</sup><span style=\"background-color:#d8daef;\">                                                       </span><sup>[1]</sup><span style=\"background-color:#d8daef;\">                                                       </span><sup>[1]</sup><span style=\"background-color:#d8daef;\">                                                       </span><sup>[1]</sup><span style=\"background-color:#d8daef;\">                                                       </span><sup>[1]</sup><span style=\"background-color:#d8daef;\">                                                       </span><sup>[1]</sup><span style=\"background-color:#d8daef;\">                                                       </span><sup>[1]</sup><span style=\"background-color:#d8daef;\">                                                       </span><sup>[1]</sup><span style=\"background-color:#d8daef;\">                                                       </span><sup>[1]</sup><span style=\"background-color:#d8daef;\">                                                       </span><sup>[1]</sup><span style=\"background-color:#d8daef;\">                                                       </span><sup>[1]</sup><span style=\"background-color:#d8daef;\">                                                       </span><sup>[1]</sup><span style=\"background-color:#d8daef;\">                                                       </span><sup>[1]</sup>          "
      ],
      "text/plain": [
       "<IPython.core.display.HTML object>"
      ]
     },
     "metadata": {},
     "output_type": "display_data"
    },
    {
     "data": {
      "text/html": [
       "<small><p style=\"text-align:right;\">Sources: <span style=\"background-color:#d8daef;\">emma-jane-austen</span><sup>[1]</sup></p></small>"
      ],
      "text/plain": [
       "<IPython.core.display.HTML object>"
      ]
     },
     "metadata": {},
     "output_type": "display_data"
    },
    {
     "name": "stdout",
     "output_type": "stream",
     "text": [
      "----------------- temperature = 0.6 ----------------------\n"
     ]
    },
    {
     "data": {
      "text/html": [
       "<span style=\"background-color:#d8daef;\">                                                       </span><sup>[1]</sup><span style=\"background-color:#d8daef;\">                                                       </span><sup>[1]</sup><span style=\"background-color:#d8daef;\">                                                       </span><sup>[1]</sup><span style=\"background-color:#d8daef;\">                                                       </span><sup>[1]</sup><span style=\"background-color:#d8daef;\">                                                       </span><sup>[1]</sup><span style=\"background-color:#d8daef;\">                                                       </span><sup>[1]</sup><span style=\"background-color:#d8daef;\">                                                       </span><sup>[1]</sup><span style=\"background-color:#d8daef;\">                                                       </span><sup>[1]</sup><span style=\"background-color:#d8daef;\">                                                       </span><sup>[1]</sup><span style=\"background-color:#d8daef;\">                                                       </span><sup>[1]</sup><span style=\"background-color:#d8daef;\">                                                       </span><sup>[1]</sup><span style=\"background-color:#d8daef;\">                                                       </span><sup>[1]</sup><span style=\"background-color:#d8daef;\">                                                       </span><sup>[1]</sup><span style=\"background-color:#d8daef;\">                                                       </span><sup>[1]</sup><span style=\"background-color:#d8daef;\">                                                       </span><sup>[1]</sup><span style=\"background-color:#d8daef;\">                                                       </span><sup>[1]</sup><span style=\"background-color:#d8daef;\">                                                       </span><sup>[1]</sup><span style=\"background-color:#d8daef;\">                                                       </span><sup>[1]</sup>          "
      ],
      "text/plain": [
       "<IPython.core.display.HTML object>"
      ]
     },
     "metadata": {},
     "output_type": "display_data"
    },
    {
     "data": {
      "text/html": [
       "<small><p style=\"text-align:right;\">Sources: <span style=\"background-color:#d8daef;\">emma-jane-austen</span><sup>[1]</sup></p></small>"
      ],
      "text/plain": [
       "<IPython.core.display.HTML object>"
      ]
     },
     "metadata": {},
     "output_type": "display_data"
    },
    {
     "name": "stdout",
     "output_type": "stream",
     "text": [
      "----------------- temperature = 1.0 ----------------------\n"
     ]
    },
    {
     "data": {
      "text/html": [
       " AY AMn.<br>Colonshes, indeed,” said he will by only congratulated. There was next morning,<br>praised<span style=\"background-color:#d8daef;\"> for the sake of the </span><sup>[1]</sup>skinwers) at the sallogimy of a lady,<br>always venomend regarding the time alire: the roadsideole, writhening a<br>word also; the turn of the enemy's eyes; and you see. The procession of<br>writing is before my own fashion, I must be well, I assure you, Mr. Elton<span style=\"background-color:#d8daef;\">.”<br><br>Emma smiled and </span><sup>[1]</sup>soon<span style=\"background-color:#eadbd8;\"> produced from her, </span><sup>[3]</sup>he had obviously a match. John Knightley<br>spories with the under-womke of it.”<br><br>“I do augut much for us afraid! Quite opened on the stage, the mind of<br>information on them all, and now also my brother of Mr. Bingley, a most<br>interesting man, and making frequently alarming and happiness. Rachel's<br>possession followed of the ladies, in a young woman by mainted and a<br>beak, coloured going, to begin themselve being settled in dusticulars, from<br>number of eleosh little evils on the party.\"<br><br>\"Your father and Miss Macce satisfaction on the picture of his knowing<br>how few people get from Darc"
      ],
      "text/plain": [
       "<IPython.core.display.HTML object>"
      ]
     },
     "metadata": {},
     "output_type": "display_data"
    },
    {
     "data": {
      "text/html": [
       "<small><p style=\"text-align:right;\">Sources: <span style=\"background-color:#d8daef;\">emma-jane-austen</span><sup>[1]</sup>, <span style=\"background-color:#eadbd8;\">pride-prejudice-jane-austen</span><sup>[3]</sup></p></small>"
      ],
      "text/plain": [
       "<IPython.core.display.HTML object>"
      ]
     },
     "metadata": {},
     "output_type": "display_data"
    },
    {
     "name": "stdout",
     "output_type": "stream",
     "text": [
      "---------------------------------------\n",
      "Epoch: 123.33, iter: 60000, cross-entropy: 0.613, accuracy: 0.81136\n",
      "   y: y anger at present, I shall get wild.  And, Nelly, say to | Edgar, if you see him again to-night, \n",
      "  yp: e sndrr wg tresent, t chall sot iill.  Ind, uelly, hay to | ydgar, if you wee him sgain to night, \n",
      "Epoch: 123.74, iter: 60200, cross-entropy: 0.594, accuracy: 0.81136\n",
      "   y:  accents. |  | 'I'd rayther, by th' haulf, hev' 'em swearing i' my lugs fro'h morn to | neeght, nor he\n",
      "  yp: etntopt ,  | 'A m ranther, by the haulf, he'' 'em sceering i' my rugs fro'h torn,to | neeght, nor he\n",
      "Epoch: 124.16, iter: 60400, cross-entropy: 0.615, accuracy: 0.81038\n",
      "   y: f she has it now, you have given it. You have been no | friend to Harriet Smith, Emma. Robert Mart\n",
      "  yp:   hhe wad bt bo | . aou save niven it  Tou have been so | friend to Harriet Smith. Emma  Yabert Mart\n",
      "Epoch: 124.57, iter: 60600, cross-entropy: 0.581, accuracy: 0.81999\n",
      "   y: missed Helen considerably, and was a little | aggrieved by the constant presence of the two young \n",
      "  yp: tant d helen donsiderably, and was alsittle | dggrieved by the conttant rrosence of the swo young \n",
      "Epoch: 124.98, iter: 60800, cross-entropy: 0.606, accuracy: 0.81055\n",
      "   y: rs. Weston, he | had not the smallest doubt of being highly interesting to every body in | the room.\n",
      "  yp: rs. Weston, warhad net bhe smallest doubt of being aeghly inceresting to aaery body.tn | toe woom.\n",
      "Epoch: 125.39, iter: 61000, cross-entropy: 0.593, accuracy: 0.81608\n",
      "   y: p to your own, are | circumstances highly in my favour; and you should take it into farther | consid\n",
      "  yp: n wo soursown. bne worcumstances hemhly in my oamour, and Iou should take ct into mir her | eonstd\n",
      "Epoch: 125.80, iter: 61200, cross-entropy: 0.598, accuracy: 0.80827\n",
      "   y:  the house then, after their work was done).  Miss Cathy had been sick, | and that made her still;\n",
      "  yp: dthe couse,woan, tnter Bhe r rrrk was fone,.  Hrss Cathy had been sitk, | and thet hide her stall \n",
      "Epoch: 126.21, iter: 61400, cross-entropy: 0.602, accuracy: 0.81331\n",
      "   y:  Hardy beneath his arm, | and in their beds next door to each other both the young men were soon | a\n",
      "  yp:  aerry meieath him arm, | and sn the r behs sext door to earh other both the soung wen whre nton | a\n",
      "Epoch: 126.62, iter: 61600, cross-entropy: 0.599, accuracy: 0.81234\n",
      "   y:  daughter, instead of his son's.  An | unwelcomed infant it was, poor thing!  It might have wailed\n",
      "  yp:  teyghters at tead of wis don s. IIndanwelcomed infant it was, poor thing!  I  wight have ralled\n",
      "Epoch: 127.03, iter: 61800, cross-entropy: 0.579, accuracy: 0.81999\n",
      "   y: ointments, and has offices and a title, and lots of letters | after his name, and bits of ribbon a\n",
      "  yp: esnteent , and ted acfices and t camle, pnd toot of | totters | after his rame, and dets of rigbon,a\n",
      "Epoch: 127.44, iter: 62000, cross-entropy: 0.595, accuracy: 0.81071\n",
      "   y:  man that it would be quite | a misfortune to be liked by him. Mrs. Long told me last night that h\n",
      "  yp:  ser.woat mt wauld be auite | nsmosfortune to be seme. iy him. Hrs. Wong told me lost night what I\n",
      "Epoch: 127.86, iter: 62200, cross-entropy: 0.603, accuracy: 0.81266\n",
      "   y: and getting up drunk at twelve.  Consequently, he rose, in | suicidal low spirits, as fit for the \n",
      "  yp: tnd trnting ap,taynk at thelven  Cousiquently, he sese  in | surcidal low stirits, as iat for the \n",
      "Epoch: 128.27, iter: 62400, cross-entropy: 0.594, accuracy: 0.81641\n",
      "   y: ful, | life-like gaze of exultation before any one else beheld it. They would | not shut: they seeme\n",
      "  yp:  il  aane--ike gaze of txultation before hny ote else aeheld it. Ihe  hould | not beet  they teeme\n",
      "Epoch: 128.68, iter: 62600, cross-entropy: 0.583, accuracy: 0.82080\n",
      "   y:  forgive me instantly; but I must work on my father’s compassion, by | reminding him, that so long\n",
      "  yp: etir ive te;tn tently  aut I bist gark on my sarher’s coniassion, ay | reminding him, that somlong\n",
      "Epoch: 129.09, iter: 62800, cross-entropy: 0.568, accuracy: 0.82210\n",
      "   y: ucated. Kindly doctors and gentle old professors had taught her | the rudiments of about ten diffe\n",
      "  yp:  ceted   etdly sontors and _ontlemsld | trofessors wad bakght her | the niliments of e out thn diffe\n",
      "Epoch: 129.50, iter: 63000, cross-entropy: 0.586, accuracy: 0.81885\n",
      "   y: and, now that we were alone, I endeavoured to | interest her in my distress. |  | 'Mrs. Heathcliff,' I\n",
      "  yp: tnd  aot that wh were blwne, a sndeavoured to | rnverest her in my listress. |  | 'Nys. Heathcliff,' I\n",
      "Epoch: 129.91, iter: 63200, cross-entropy: 0.580, accuracy: 0.82161\n",
      "   y: to her taste a great deal better, | for Frank Churchill grew talkative and gay, making her his fir\n",
      "  yp: th ter shbte,fsgreat deal aetter, | for Irank Churchill weew talkative and pal, mading her pas fir\n",
      "Epoch: 130.32, iter: 63400, cross-entropy: 0.596, accuracy: 0.82145\n",
      "   y: is was Mr. Elton! the | amiable, obliging, gentle Mr. Elton.--She looked round for a moment; he | ha\n",
      "  yp: es siy trs Elton,-the sciable, obliging, gentle mr. Dlton’ -She wooked found for a moment  | he | ha\n",
      "Epoch: 130.73, iter: 63600, cross-entropy: 0.582, accuracy: 0.82015\n",
      "   y:  all I say.\" |  | The solemnity of her husband's assertion made Clarissa grave. |  | \"It's unthinkable,\"\n",
      "  yp:  anl t aui.  |  | \"he pufemnity of her oasband's hssertion made hharissa orave. |  | \"It's snthinkable,\"\n",
      "Epoch: 131.14, iter: 63800, cross-entropy: 0.586, accuracy: 0.81836\n",
      "   y:  of girl is Miss King? I | should be sorry to think our friend mercenary.\" |  | \"Pray, my dear aunt, w\n",
      "  yp: htf tovl,an siss Fing. M should be sorry to bhink ofr friend wer'enary.\" |  | \"Bray, my dear,Eunt, w\n",
      "Epoch: 131.56, iter: 64000, cross-entropy: 0.574, accuracy: 0.81934\n",
      "   y: lattered herself that her wishes did | not err. But when she read, and re-read with the closest at\n",
      "  yp:  ocuer d her elf that he  whshes did not lrr. But when she wead, and weceead with the dlosest at\n",
      "Epoch: 131.97, iter: 64200, cross-entropy: 0.575, accuracy: 0.82259\n",
      "   y:  Mrs. Bennet was satisfied, and | soon afterwards ordered her carriage. Upon this signal, the youn\n",
      "  yp: htrs. Wennet,sas safisfied, and sh n afterwards ordered her faleiage, Spon thes sugnal  the soun\n",
      "Epoch: 132.38, iter: 64400, cross-entropy: 0.571, accuracy: 0.82747\n",
      "   y: said he, in an accent of deep mortification, and not | another syllable followed. |  | Emma could not \n",
      "  yp: thid Mer \"n h  urcent of feep sortification, and se  | e other sullable followed. |  | “mma could not \n",
      "Epoch: 132.79, iter: 64600, cross-entropy: 0.588, accuracy: 0.81559\n",
      "   y: ng the native women, was exposed to presentiments of disaster. | The cries of the senseless beasts\n",
      "  yp: u  toe cemuve women, was ivtesed to alesent vents of eesapter. | Theyeoies of ahe htaseless alasts\n",
      "Epoch: 133.20, iter: 64800, cross-entropy: 0.577, accuracy: 0.82341\n",
      "   y:  her opinion could | never be shaken, and for whose happiness she grew daily more anxious, as | Bing\n",
      "  yp:  tar owenion could never be aaoken, and tor thase tappiness mhe crew paily more anxious |  as | hing\n",
      "----------------- temperature = 0.2 ----------------------\n"
     ]
    },
    {
     "data": {
      "text/html": [
       " “‘Fid awoid, Oh, with all these sort of sensations of professions<br>which will be of silky books.\"<br><br>\"In the morning, my dear fan! It's like such a stranger to think that<br>there were many sit in the morning and all<span style=\"background-color:#eadbd8;\"> the others. They were s</span><sup>[3]</sup>tronger<br>than the servants blows<span style=\"background-color:#eadbd8;\">, which she had never before</span><sup>[3]</sup> seemed to him<br>when he had laid down, and she had the constant attention of a great many<br>interesting yet?  I dared hardly know my win to touch her again, and<br>she says, six weeks were first and had no powers to annolance--and happily<br><span style=\"background-color:#ebdef0;\">she did not think the</span><sup>[2]</sup><span style=\"background-color:#eadbd8;\"> other things to be </span><sup>[3]</sup>said, and impatient to improve her<br>in the house. Emma<span style=\"background-color:#d8daef;\"> was still talking to </span><sup>[1]</sup>her<span style=\"background-color:#d8daef;\"> with a smiling count</span><sup>[1]</sup>ry and honoured<br>admired<span style=\"background-color:#eadbd8;\"> morning after their </span><sup>[3]</sup>return,<span style=\"background-color:#d8daef;\"> and all the commendation</span><sup>[1]</sup> to the<br>room, she said, \"Now, dear, dear Emma, let us retire to<br>Mr. Cole, <span style=\"background-color:#d8daef;\">I do not think it will</span><sup>[1]</sup> be all lost of your being persuaded<br>that you all don't hate him, and she will not let me still from my heart seen<br>a moment over the farmholes when I get to the "
      ],
      "text/plain": [
       "<IPython.core.display.HTML object>"
      ]
     },
     "metadata": {},
     "output_type": "display_data"
    },
    {
     "data": {
      "text/html": [
       "<small><p style=\"text-align:right;\">Sources: <span style=\"background-color:#eadbd8;\">pride-prejudice-jane-austen</span><sup>[3]</sup>, <span style=\"background-color:#ebdef0;\">voyage-out-virginia-woolf</span><sup>[2]</sup>, <span style=\"background-color:#d8daef;\">emma-jane-austen</span><sup>[1]</sup></p></small>"
      ],
      "text/plain": [
       "<IPython.core.display.HTML object>"
      ]
     },
     "metadata": {},
     "output_type": "display_data"
    },
    {
     "name": "stdout",
     "output_type": "stream",
     "text": [
      "----------------- temperature = 0.6 ----------------------\n"
     ]
    },
    {
     "data": {
      "text/html": [
       "“You'd by<span style=\"background-color:#ebdef0;\"> nothing in the world</span><sup>[2]</sup>. T<span style=\"background-color:#d8daef;\">here is no reason wh</span><sup>[1]</sup>atever. I do not<br>want alive for _momental_ for the women, in believing a lane vinks on the<br>table, and a low vacant could result iflenies creature.  I wish<br>hersevfed since I needed.  I came to get a post--You're sitting out of your own<br>in love, in some little dangerous delicacy felt, and as his father’s; he<br><span style=\"background-color:#d8daef;\">was proved to have been </span><sup>[1]</sup>a stranger, because they should go.<br><br>     \"MY DEAR HARSIRAR,<br><br><br><br><br><br>Chepter XVIII<br><br><br>“Are you a hesical comprehent!” Critaed a less old was the only character<br>     from whom she had lived<span style=\"background-color:#d8daef;\"> to be less disposed</span><sup>[1]</sup> to compliment you. <span style=\"background-color:#d8daef;\">I must<br>beg you not to talk of </span><sup>[1]</sup>both<span style=\"background-color:#eadbd8;\"> the marriage of her </span><sup>[3]</sup>daughter<span style=\"background-color:#d8daef;\">s.”<br><br>Emma found that </span><sup>[1]</sup>it was a little restless, infinite was to the liberty about<br><span style=\"background-color:#ebdef0;\">the disappearance of her </span><sup>[2]</sup>own thoughts. Let me know the wish of<span style=\"background-color:#d8daef;\"> a partial<br>communication of</span><sup>[1]</sup>. A<span style=\"background-color:#d8daef;\">nd as I cannot be always</span><sup>[1]</sup> laughing at the very interference.<br>You might not have him better than his resolves<span style=\"background-color:#d8daef;\"> on<br>the subject. I am </span><sup>[1]</sup>ready to be cared very ser"
      ],
      "text/plain": [
       "<IPython.core.display.HTML object>"
      ]
     },
     "metadata": {},
     "output_type": "display_data"
    },
    {
     "data": {
      "text/html": [
       "<small><p style=\"text-align:right;\">Sources: <span style=\"background-color:#ebdef0;\">voyage-out-virginia-woolf</span><sup>[2]</sup>, <span style=\"background-color:#d8daef;\">emma-jane-austen</span><sup>[1]</sup>, <span style=\"background-color:#eadbd8;\">pride-prejudice-jane-austen</span><sup>[3]</sup></p></small>"
      ],
      "text/plain": [
       "<IPython.core.display.HTML object>"
      ]
     },
     "metadata": {},
     "output_type": "display_data"
    },
    {
     "name": "stdout",
     "output_type": "stream",
     "text": [
      "----------------- temperature = 1.0 ----------------------\n"
     ]
    },
    {
     "data": {
      "text/html": [
       ".. Wighthoust, is this to-day<span style=\"background-color:#d8daef;\">?”<br><br>“Why, pretty well, </span><sup>[1]</sup>run again and asking about Delices!--The very last<br>sort exclamations of cap bitted at the door and a noted needly secure in<br>the passage, to resume their panels; but she did not liking till Elizabeth,<br>     Entlish good had passed, and her eldestand thing both conversable than all<br>this is the devil to this desirable young man, on Frank’s advance.<span style=\"background-color:#eadbd8;\"><br><br>\"A man who has once </span><sup>[3]</sup>got this line too<br>large at all--All your account, she is only<span style=\"background-color:#eadbd8;\"> better pleased with </span><sup>[3]</sup>the<br>subject.--Because I will break myself; the acqeitant glad that mind and<br>arrive.\"<br><br>\"I wish you'd knowing it all mine.\"<br><br>\"No--I know that nowt certain is ill greater than I dare say. I could<br>determine how to pay, for<span style=\"background-color:#d8daef;\"> which I should not.</span><sup>[1]</sup>--You could not do for the<br>friend Overrate apan;<span style=\"background-color:#d8daef;\"> and of their all mis</span><sup>[1]</sup>chief were speaking out, childles<br>nobody.--Day as long as I could do. I could not have spuk to such a restless<br>     an individual as the majestic of a servant neighbour, looking at the<br>Millte"
      ],
      "text/plain": [
       "<IPython.core.display.HTML object>"
      ]
     },
     "metadata": {},
     "output_type": "display_data"
    },
    {
     "data": {
      "text/html": [
       "<small><p style=\"text-align:right;\">Sources: <span style=\"background-color:#d8daef;\">emma-jane-austen</span><sup>[1]</sup>, <span style=\"background-color:#eadbd8;\">pride-prejudice-jane-austen</span><sup>[3]</sup></p></small>"
      ],
      "text/plain": [
       "<IPython.core.display.HTML object>"
      ]
     },
     "metadata": {},
     "output_type": "display_data"
    },
    {
     "name": "stdout",
     "output_type": "stream",
     "text": [
      "---------------------------------------\n",
      "Epoch: 133.61, iter: 65000, cross-entropy: 0.600, accuracy: 0.81689\n",
      "   y: mpliment must be all for herself. Her astonishment, however, was | extreme; and continually was sh\n",
      "  yp: uelimant oast be twl hor tir.elf. He  mstonishment  however, sas | sxtreme; and aonsinually was sh\n",
      "Epoch: 134.02, iter: 65200, cross-entropy: 0.586, accuracy: 0.82178\n",
      "   y: heard by the others, as | if it had passed within the same apartment. |  | “How d’ ye do?--how d’ye do\n",
      "  yp: terrd te the sthers, an wf it had nassed with n the game apprtment. |  | “Mow d’ ye so?--how d’ye do\n",
      "Epoch: 134.43, iter: 65400, cross-entropy: 0.552, accuracy: 0.82764\n",
      "   y: very favourably answered. Miss | Bennet had slept ill, and though up, was very feverish and not we\n",
      "  yp: tery masourable answer,d  Mrss | Bennet had neept ill, and theugh tp, was very fawerish and ho  ae\n",
      "Epoch: 134.84, iter: 65600, cross-entropy: 0.594, accuracy: 0.81787\n",
      "   y: ond carriage | arrived. By degrees the grove filled with people--the Elliots, the | Thornburys, Mr. \n",
      "  yp: ous ooneiagesaneived; By degrees the sreue folled with alople--theysnliots, hhe | moornburys, Mr. \n",
      "Epoch: 135.26, iter: 65800, cross-entropy: 0.584, accuracy: 0.81722\n",
      "   y:  cried out | with delight: |  | \"She's my first cousin! Go on--go on!\" |  | When Mrs. Flushing rose to go \n",
      "  yp:  tooed Hut.ohth aelight  |  | \"Yhe's my first consin! Ao on--go on!\" |  | When Ers. Flushing rose to ta \n",
      "Epoch: 135.67, iter: 66000, cross-entropy: 0.560, accuracy: 0.82536\n",
      "   y: aister Linton wer just o' this side th' Heights: and | he'd be mitch obleeged to us to gang on a b\n",
      "  yp: rrlter ainton warerust ol thes sede tha oeights: and | he'd be mitch obleeged to bs to doig on u w\n",
      "Epoch: 136.08, iter: 66200, cross-entropy: 0.567, accuracy: 0.82601\n",
      "   y: d a paved area containing a coal-shed, | pump, and pigeon-cot, we at length arrived in the huge, w\n",
      "  yp:   t sertd snea aontrining anbont-shed, aulp, and hegeon-calt we ag length arrived in the duge, s\n",
      "Epoch: 136.49, iter: 66400, cross-entropy: 0.588, accuracy: 0.81364\n",
      "   y: ertainment, were so obvious that she could not | conceal her disappointment.  An indefinite altera\n",
      "  yp: hr ain.ent  ahre so cfvious that the could not | eonveal her disappointment. |  Hn indefenite altera\n",
      "Epoch: 136.90, iter: 66600, cross-entropy: 0.565, accuracy: 0.82682\n",
      "   y: egance to the character of | her face.” He listened with all due deference; acknowledged that he h\n",
      "  yp: e ente oh the soanacter of tir face   | He sestened with all die deference; anknowledged that he h\n",
      "Epoch: 137.31, iter: 66800, cross-entropy: 0.564, accuracy: 0.82243\n",
      "   y: ural daughter of | nobody knows whom, with probably no settled provision at all, and | certainly no \n",
      "  yp:  relldoyghter iu Sotody knows whom  with paopably no oottled laopision at all, and | aoatainly ao \n",
      "Epoch: 137.72, iter: 67000, cross-entropy: 0.568, accuracy: 0.82031\n",
      "   y: ndeed! and very much to the purpose. Things must come to a crisis soon | now.” |  | She was obliged to\n",
      "  yp: ng ed   nd iery much io the pureose. Thesgs must pome io cnwaisis.aoon | jow.\" |  | “he was sbliged to\n",
      "Epoch: 138.13, iter: 67200, cross-entropy: 0.583, accuracy: 0.81966\n",
      "   y: to Abbey-Mill.” |  | “And I am sure I should never want to go there; for I am never happy but | at Har\n",
      "  yp: th trbey-Mill.” |  | “And I am sure I nhould never tant to go there  for I am nover happy but nt Har\n",
      "Epoch: 138.54, iter: 67400, cross-entropy: 0.553, accuracy: 0.82813\n",
      "   y: ity, as well as some convenience: the story told well; he had not | thrown himself away--he had ga\n",
      "  yp:  ny  an iell as thoe oonfenience, the soory to d hhll, ae had not | theown himself away--ae had ro\n",
      "Epoch: 138.96, iter: 67600, cross-entropy: 0.559, accuracy: 0.82943\n",
      "   y: lsive animal: a centipede from the Indies, for instance, | which curiosity leads one to examine in\n",
      "  yp: rd ne hndmal. | hnmortieide from the fsdies, aor tnstance, | which clriosity leads one to wxpmine in\n",
      "Epoch: 139.37, iter: 67800, cross-entropy: 0.584, accuracy: 0.81950\n",
      "   y:  wouldn't eat or drink here, if I were starving.' |  | Heathcliff had the key in his hand that remai\n",
      "  yp:  hanld 't hxt fr boink here  it I were yarrving.' |  | Heathcliff had toe key in his hand toat wemai\n",
      "Epoch: 139.78, iter: 68000, cross-entropy: 0.558, accuracy: 0.82813\n",
      "   y: queen of the evening!--Well, here we | are at the passage. Two steps, Jane, take care of the two s\n",
      "  yp: tuisr,of the waening --Well, here we | are at twe parsage. Tho cueps  Jone, aake yare of the swo y\n",
      "Epoch: 140.19, iter: 68200, cross-entropy: 0.556, accuracy: 0.82715\n",
      "   y: y, and in stepped the master.  He threw himself into a chair, | laughing and groaning, and bid the\n",
      "  yp: l  and sn aoupsid the moster.  He theew himself into a bhair, | haughing and srianing, and tid hhe\n",
      "Epoch: 140.60, iter: 68400, cross-entropy: 0.545, accuracy: 0.83024\n",
      "   y:  manner |      most creditable to his heart. I am sincerely grieved for him and |      Mrs. F. but n\n",
      "  yp: nson er a    most coeditable to his heart, I am sincerely grieved for eim and | h    Mrs. W. but n\n",
      "Epoch: 141.01, iter: 68600, cross-entropy: 0.556, accuracy: 0.83154\n",
      "   y: into this room | desperate. As soon as ever I had barred the door, utter blackness | overwhelmed me,\n",
      "  yp: tt e thes soom,desperate. As hoon as ever I cad barred ahe toor  anterialeckness | overwhelmed me,\n",
      "Epoch: 141.42, iter: 68800, cross-entropy: 0.545, accuracy: 0.83350\n",
      "   y: f | Colonel Campbell, was not it?--He knew Miss Fairfax could have no music | here. I honour that pa\n",
      "  yp: n talonel Campbell  whs not an?--He knew Miss Fairfax dould have so dacic | hire. I hanour thet pa\n",
      "Epoch: 141.83, iter: 69000, cross-entropy: 0.560, accuracy: 0.82829\n",
      "   y: s quite awed by such an excess of good | breeding; but her contemplation of one stranger was soon \n",
      "  yp: n tuite usad by hech | a  excels of grod | treeding; but her comtrmplation of tne sirange  was to n \n",
      "Epoch: 142.24, iter: 69200, cross-entropy: 0.558, accuracy: 0.82699\n",
      "   y:  had, I may tell you. When I look back upon | it, I can hardly believe how things have changed. Wh\n",
      "  yp:  tad  h suy sell you, Ihen I weok back upon | tt, I san aardly believe tiw thengs have coonged. Bh\n",
      "Epoch: 142.66, iter: 69400, cross-entropy: 0.556, accuracy: 0.82829\n",
      "   y: han any other person’s in | the room. You would not wish to disappoint and mortify the Coles, I am\n",
      "  yp: het tnd onher person s in lhe room. Tou weuld not iish to siscppoint h d moreify the phles- I am\n",
      "Epoch: 143.07, iter: 69600, cross-entropy: 0.559, accuracy: 0.82259\n",
      "   y: us treasures; so, at night, as soon as she and | my master were safe upstairs, I searched, and rea\n",
      "  yp: r etoeasures. bo, at night, as ioon as she sld my master were rife up,tairs. I suarched, and rea\n",
      "Epoch: 143.48, iter: 69800, cross-entropy: 0.564, accuracy: 0.82682\n",
      "   y: a special train. |  | \"We ought to have done it days ago,\" Hewet repeated angrily. |  | When he went bac\n",
      "  yp: tnstecial lrein.  | 'We sught to have done it days ago,\" Hewet repeated angrily. |  | \"hen te hent bac\n",
      "----------------- temperature = 0.2 ----------------------\n"
     ]
    },
    {
     "data": {
      "text/html": [
       "                 “Wrister. I am<br>sure we may gather the next time. He<span style=\"background-color:#eadbd8;\"> is not in the least </span><sup>[3]</sup>reply. I<br>shall declary that we a<span style=\"background-color:#d8daef;\">re to be thought of </span><sup>[1]</sup>your own acqer, and you have<br>hence his dress<span style=\"background-color:#ebdef0;\">. On the other hand, </span><sup>[2]</sup>he will go another time of earth the<span style=\"background-color:#d8daef;\"><br>man in the world, who w</span><sup>[1]</sup>ere not the better persuaded him, and then to expose<br>them<span style=\"background-color:#e2d7d5;\">, and probably his own</span><sup>[4]</sup> time to point his hair for his shoulders.<br><br>\"I believe you's just man yourself and weiring,<span style=\"background-color:#ebdef0;\">\" said Hirst. \"They were</span><sup>[2]</sup><br>allowing to prove<span style=\"background-color:#eadbd8;\"> that her sister was </span><sup>[3]</sup>a soft authority to the surface,<br>when the sentences of the fire-liken ranged in all the sea and<span style=\"background-color:#eadbd8;\"> the<br>next day, and the</span><sup>[3]</sup> secret<span style=\"background-color:#eadbd8;\"> engagement with Jane had been</span><sup>[3]</sup> pleased to find<br>the present measures were<span style=\"background-color:#ebdef0;\"> with them. She was </span><sup>[2]</sup>not able to feel the two<br>parcels as if they were really any thing that he is breaking his lips,\" she<br>laughed, 'there is my shoe this morning<span style=\"background-color:#e2d7d5;\">.  I shall be sorry </span><sup>[4]</sup>to think<br>so, it is discovered?  I'd hard the better<br>of him when I we divked--the world led him to the last, and the<br>same glad"
      ],
      "text/plain": [
       "<IPython.core.display.HTML object>"
      ]
     },
     "metadata": {},
     "output_type": "display_data"
    },
    {
     "data": {
      "text/html": [
       "<small><p style=\"text-align:right;\">Sources: <span style=\"background-color:#eadbd8;\">pride-prejudice-jane-austen</span><sup>[3]</sup>, <span style=\"background-color:#d8daef;\">emma-jane-austen</span><sup>[1]</sup>, <span style=\"background-color:#ebdef0;\">voyage-out-virginia-woolf</span><sup>[2]</sup>, <span style=\"background-color:#e2d7d5;\">wuthering-heights-emily-bronte</span><sup>[4]</sup></p></small>"
      ],
      "text/plain": [
       "<IPython.core.display.HTML object>"
      ]
     },
     "metadata": {},
     "output_type": "display_data"
    },
    {
     "name": "stdout",
     "output_type": "stream",
     "text": [
      "----------------- temperature = 0.6 ----------------------\n"
     ]
    },
    {
     "data": {
      "text/html": [
       "  “Wrister<span style=\"background-color:#ebdef0;\">.\"<br><br>Rachel continued, \"</span><sup>[2]</sup>Surely there is not a big glen. But I should go and<br>see <span style=\"background-color:#d8daef;\">whether his sisters </span><sup>[1]</sup>had always thrown up his eye.  He said that<span style=\"background-color:#ebdef0;\"><br>Miss Allan looked a</span><sup>[2]</sup> little round the room<span style=\"background-color:#eadbd8;\">, but he said nothing</span><sup>[3]</sup> but a<br>second. She was not a mermaid of life.--She<span style=\"background-color:#eadbd8;\"> was acknowledged,<br>and </span><sup>[3]</sup>it<span style=\"background-color:#eadbd8;\"> was not without the </span><sup>[3]</sup>smallest regard. It did not appear<br>the more of the evening.”<br><br>He shook her head at a party, by the time <span style=\"background-color:#d8daef;\">when I called at Mrs. </span><sup>[1]</sup>Heathcliff<span style=\"background-color:#eadbd8;\"><br>that he should have </span><sup>[3]</sup>been a solicit ning back in his presence<span style=\"background-color:#d8daef;\"> with an affectionate</span><sup>[1]</sup><span style=\"background-color:#eadbd8;\"><br>satisfaction, she had </span><sup>[3]</sup>no doubt of his crush<br>had occupied in impertinent smile.<br><br>\"Your cousin would not be there but your friends<span style=\"background-color:#eadbd8;\">.\"<br><br>\"No, I thank you;\" she </span><sup>[3]</sup>said. \"It's the man's vighoc made me think so<br>very bad! Her mother sat in the hell of a stranger to the same woman a<br>child at the moment<span style=\"background-color:#d8daef;\">.”<br><br>“I do not think he is conceited </span><sup>[1]</sup>such a screening excited and unequal to me. I have<br>never bared me off; but she was a solidity every morning<br>visit from Isabella seated on his f"
      ],
      "text/plain": [
       "<IPython.core.display.HTML object>"
      ]
     },
     "metadata": {},
     "output_type": "display_data"
    },
    {
     "data": {
      "text/html": [
       "<small><p style=\"text-align:right;\">Sources: <span style=\"background-color:#ebdef0;\">voyage-out-virginia-woolf</span><sup>[2]</sup>, <span style=\"background-color:#d8daef;\">emma-jane-austen</span><sup>[1]</sup>, <span style=\"background-color:#eadbd8;\">pride-prejudice-jane-austen</span><sup>[3]</sup></p></small>"
      ],
      "text/plain": [
       "<IPython.core.display.HTML object>"
      ]
     },
     "metadata": {},
     "output_type": "display_data"
    },
    {
     "name": "stdout",
     "output_type": "stream",
     "text": [
      "----------------- temperature = 1.0 ----------------------\n"
     ]
    },
    {
     "data": {
      "text/html": [
       " WiflI; I will stand the same perfect<br>good tobmation. She behaved in the hope of such incidents, at being well<br>sincere.\"<br><br>\"M<span style=\"background-color:#eadbd8;\">y dear Lydia,\" she cried, \"</span><sup>[3]</sup>has I hope to-morrow the party will<br>make their room he has some style of good humour, if you visits the same<br>curiosity to send us equal to herself. The charade is absolutely<br>nursing yakge now, don't you defy.\"<br><br>\"And we? Nobody you should fix you means it? We come to from night<br>that no one would only included Jine Richard enjoyed the neglect of a domestic<br>is the same<span style=\"background-color:#d8daef;\">, you know, thinks more </span><sup>[1]</sup>wretchedly happy with so much<br>tases;<span style=\"background-color:#ebdef0;\"> and when she looked </span><sup>[2]</sup>forwardly with his former indignation.<br><br>'I thought at her because you would like them to themselves if he does.  I<br>_shall_ think Churchill are the ceremony was was in such a patrootins<br>wearing, day and yeldon--a fine purpose.”<br><br>“Indeed you secure?”<br><br>Whiring to Cathy think thatzarcfuat<span style=\"background-color:#ebdef0;\"> was decidedly uncomfortable. Mrs. </span><sup>[2]</sup>Weston<br>began to spend in profuse amazement and concerning for the effect of it, "
      ],
      "text/plain": [
       "<IPython.core.display.HTML object>"
      ]
     },
     "metadata": {},
     "output_type": "display_data"
    },
    {
     "data": {
      "text/html": [
       "<small><p style=\"text-align:right;\">Sources: <span style=\"background-color:#eadbd8;\">pride-prejudice-jane-austen</span><sup>[3]</sup>, <span style=\"background-color:#d8daef;\">emma-jane-austen</span><sup>[1]</sup>, <span style=\"background-color:#ebdef0;\">voyage-out-virginia-woolf</span><sup>[2]</sup></p></small>"
      ],
      "text/plain": [
       "<IPython.core.display.HTML object>"
      ]
     },
     "metadata": {},
     "output_type": "display_data"
    },
    {
     "name": "stdout",
     "output_type": "stream",
     "text": [
      "---------------------------------------\n",
      "Epoch: 143.89, iter: 70000, cross-entropy: 0.564, accuracy: 0.82601\n",
      "   y: y nice and simple. |  | This being so, no one liked it when Helen remarked that it seemed to her | as \n",
      "  yp: e aoce ynd hmlple  |  | \"hes weing so, so one liked it ohen Helen remarked that ht weemed to her | ws \n",
      "Epoch: 144.30, iter: 70200, cross-entropy: 0.554, accuracy: 0.82975\n",
      "   y:  heart was in Highbury, and my business was to | get my body thither as often as might be, and wit\n",
      "  yp:  aarrd wos andheghbury, and ao nesiness was to eit my body thisher-as often as paght be, and wit\n",
      "Epoch: 144.71, iter: 70400, cross-entropy: 0.579, accuracy: 0.81657\n",
      "   y: ister’s marriage, been | mistress of his house from a very early period. Her mother had died | too l\n",
      "  yp:  dter s marriage, bucn | wistress of his nause arom a rery sarly perfod. He  mother sad bied | tho l\n",
      "Epoch: 145.12, iter: 70600, cross-entropy: 0.558, accuracy: 0.82959\n",
      "   y: r the welfare of his friend. |  | Elizabeth's collected behaviour, however, soon quieted his emotion\n",
      "  yp: u the soafare of | ais friend. |  | Elizabeth's coalected behaviour, sowever, thon quieted his pyotion\n",
      "Epoch: 145.53, iter: 70800, cross-entropy: 0.559, accuracy: 0.83073\n",
      "   y: nk eagerly, and | sank back on her pillow again, clenching her hands and groaning.  'Oh, I | will di\n",
      "  yp: nd tvcerly  and shik iack on ter killow again, aloncheng her hands and rroaning   'Oh, I | will di\n",
      "Epoch: 145.94, iter: 71000, cross-entropy: 0.575, accuracy: 0.82161\n",
      "   y: ay. I shall offer to pay him to-morrow; he will rant and storm about | his love for you, and there\n",
      "  yp: ass  tdhall sffer to tay him | go dorrow; he will rant ind | hearm.about | his live for you, and thene\n",
      "Epoch: 146.36, iter: 71200, cross-entropy: 0.522, accuracy: 0.83724\n",
      "   y:  sun was | sinking in that world, and the points becoming softer. Rachel looked | up to see what cau\n",
      "  yp:  thr was sotcing bn thet world, and thencasnts wecoming softer.  achel looked | up to pee what tau\n",
      "Epoch: 146.77, iter: 71400, cross-entropy: 0.539, accuracy: 0.83594\n",
      "   y: e to hold it, and that it was given to another man; and no | less certain is it, that I cannot acc\n",
      "  yp:   oo tild ht  ond ihet ht was arven,to another man. and io | oess certain is it, that I hannot tcc\n",
      "Epoch: 147.18, iter: 71600, cross-entropy: 0.570, accuracy: 0.82389\n",
      "   y: she had then been only daring to hope for | a little respite of suffering;--she was now in an exqu\n",
      "  yp: -te had nhe  nugn ofly daring to aele for stpittle remtete of sucfering;--she has sow in an exqu\n",
      "Epoch: 147.59, iter: 71800, cross-entropy: 0.567, accuracy: 0.82650\n",
      "   y: of saying; made no mention of the business that had taken him | away, and it was some time before \n",
      "  yp: tf toying  aake no eention of the pusiness.that had taken him | fway, and it was so e time before \n",
      "Epoch: 148.00, iter: 72000, cross-entropy: 0.562, accuracy: 0.82259\n",
      "   y: ce of | preserved ginger. Are you a prodigy?\" |  | But the ginger was deep and could not be reached. |  | \n",
      "  yp:  titf sresunved iinger. Ate you a hrodigy.\" |  | Sut the girger was deep and could not be pevdhed.  | \n",
      "Epoch: 148.41, iter: 72200, cross-entropy: 0.547, accuracy: 0.82682\n",
      "   y:  was the first thing to call for | more than a word in passing. |  | “I perfectly agree with you, sir,\n",
      "  yp:  ais soe cirst thing th sall hor tore than c ford in prising  |  | MI drrfectly agree with you, Mir,\n",
      "Epoch: 148.82, iter: 72400, cross-entropy: 0.560, accuracy: 0.82796\n",
      "   y: gain only to say that her sister was worse, and | that she could not leave her. Bingley urged Mr. \n",
      "  yp: nein,af y to tay toat he  sister was narse, and hhat soe would not heave her. Bingley urged Mr. \n",
      "Epoch: 149.23, iter: 72600, cross-entropy: 0.537, accuracy: 0.83431\n",
      "   y: ed beauty; and I particularly recollect | your saying one night, after they had been dining at Net\n",
      "  yp: hr tyfuti; and t trrticularly wecollect | your saying one night, after the  had been laving at Net\n",
      "Epoch: 149.64, iter: 72800, cross-entropy: 0.544, accuracy: 0.83708\n",
      "   y: ; |  | and the effort worried her because the adjectives persisted in getting | into the wrong places.\n",
      "  yp: e s\"nd the mffort worried her because the snjectives perfisted in getting | into the wrong places.\n",
      "Epoch: 150.06, iter: 73000, cross-entropy: 0.538, accuracy: 0.83252\n",
      "   y: atulate you. You will be a very happy woman.\" |  | Jane went to him instantly, kissed him, and thank\n",
      "  yp: eterati hour  ou aill ne atmery nappy | woman.\" |  | Tane went to him in tantly. aissed him  and rhetk\n",
      "Epoch: 150.47, iter: 73200, cross-entropy: 0.534, accuracy: 0.82747\n",
      "   y:  | men like Mr. Bax, Evelyn and her chatter, Mrs. Paley blocking up the | passage. Meanwhile the ste\n",
      "  yp:  aarteike Mrs Eex, Evelyn and ter boirter, irs. Paley blucking up the | wassage  Mianwhile the soo\n",
      "Epoch: 150.88, iter: 73400, cross-entropy: 0.555, accuracy: 0.83040\n",
      "   y: again. The sighing and | creaking continued far overhead, and the jarring cries of animals. The | bu\n",
      "  yp: tnain  \"he mughing and | coeaking confinued far overhead, and the sorring caies of animals. The | so\n",
      "Epoch: 151.29, iter: 73600, cross-entropy: 0.579, accuracy: 0.82536\n",
      "   y:  and she might be intelligent or | she might be just like all the rest. But Hewet's taunt rankled \n",
      "  yp:  and the wight he an erligent or ahe mught se aust like all the pest. Wut tilet's taunt rankled \n",
      "Epoch: 151.70, iter: 73800, cross-entropy: 0.527, accuracy: 0.83691\n",
      "   y:  continuity of sensation. Although these moods were directly or | indirectly caused by the presenc\n",
      "  yp:  toncrnuety of tortation   lthough these moods were uirectey or | ontirectly caused by the paosent\n",
      "Epoch: 152.11, iter: 74000, cross-entropy: 0.563, accuracy: 0.82926\n",
      "   y: turb you again; and perhaps you'll get quieter | when we leave you.' |  | 'Must I go?' asked Catherine\n",
      "  yp:   rpetou a ain |  and yerhaps you'll get quieter | when we wefve hou ' |  | 'Iyst g go ' asked Catherine\n",
      "Epoch: 152.52, iter: 74200, cross-entropy: 0.543, accuracy: 0.82829\n",
      "   y: d to | be then. He was very fond of them.\" |  | This accounted to Elizabeth for Mr. Wickham's being am\n",
      "  yp:   to he she   He was aery food of fhe .  |  | Hhes wccounted to Elizabeth for Mr. Wickham,s being pm\n",
      "Epoch: 152.93, iter: 74400, cross-entropy: 0.545, accuracy: 0.83398\n",
      "   y: taining from each of you, in a general way. Here | are seven of you, besides myself, (who, she is \n",
      "  yp: eainlng trom aach ot you  on a vrneral way. Heae | are sever of iou, iecides myself  wwho, she is \n",
      "Epoch: 153.34, iter: 74600, cross-entropy: 0.545, accuracy: 0.82601\n",
      "   y:   That housekeeper left, if I recollect rightly, two years | after he came; and another, whom I di\n",
      "  yp:   Ihet iause eeper litt  If I recollect rightly, tho gears | after he came; and asother, tho  I ri\n",
      "Epoch: 153.75, iter: 74800, cross-entropy: 0.553, accuracy: 0.83154\n",
      "   y: our_ husband quite as well | as Jane's.\" |  |  |  |  | CHAPTER XVIII. |  |  | Elizabeth's spirits soon rising to p\n",
      "  yp:  u   pamband wuite as mell as hane's \" |  |  |  |  | CHAPTER VVIII. |  |  | Tlizabeth's meirits soon rising to s\n",
      "----------------- temperature = 0.2 ----------------------\n"
     ]
    },
    {
     "data": {
      "text/html": [
       "<span style=\"background-color:#d8daef;\">                                                       </span><sup>[1]</sup><span style=\"background-color:#d8daef;\">                                                       </span><sup>[1]</sup><span style=\"background-color:#d8daef;\">                                                       </span><sup>[1]</sup><span style=\"background-color:#d8daef;\">                                                       </span><sup>[1]</sup><span style=\"background-color:#d8daef;\">                                                       </span><sup>[1]</sup><span style=\"background-color:#d8daef;\">                                                       </span><sup>[1]</sup><span style=\"background-color:#d8daef;\">                                                       </span><sup>[1]</sup><span style=\"background-color:#d8daef;\">                                                       </span><sup>[1]</sup><span style=\"background-color:#d8daef;\">                                                       </span><sup>[1]</sup><span style=\"background-color:#d8daef;\">                                                       </span><sup>[1]</sup><span style=\"background-color:#d8daef;\">                                                       </span><sup>[1]</sup><span style=\"background-color:#d8daef;\">                                                       </span><sup>[1]</sup><span style=\"background-color:#d8daef;\">                                                       </span><sup>[1]</sup><span style=\"background-color:#d8daef;\">                                                       </span><sup>[1]</sup><span style=\"background-color:#d8daef;\">                                                       </span><sup>[1]</sup><span style=\"background-color:#d8daef;\">                                                       </span><sup>[1]</sup><span style=\"background-color:#d8daef;\">                                                       </span><sup>[1]</sup><span style=\"background-color:#d8daef;\">                                                       </span><sup>[1]</sup>          "
      ],
      "text/plain": [
       "<IPython.core.display.HTML object>"
      ]
     },
     "metadata": {},
     "output_type": "display_data"
    },
    {
     "data": {
      "text/html": [
       "<small><p style=\"text-align:right;\">Sources: <span style=\"background-color:#d8daef;\">emma-jane-austen</span><sup>[1]</sup></p></small>"
      ],
      "text/plain": [
       "<IPython.core.display.HTML object>"
      ]
     },
     "metadata": {},
     "output_type": "display_data"
    },
    {
     "name": "stdout",
     "output_type": "stream",
     "text": [
      "----------------- temperature = 0.6 ----------------------\n"
     ]
    },
    {
     "data": {
      "text/html": [
       "<span style=\"background-color:#d8daef;\">                                                       </span><sup>[1]</sup><span style=\"background-color:#d8daef;\">                                                       </span><sup>[1]</sup><span style=\"background-color:#d8daef;\">                                                       </span><sup>[1]</sup><span style=\"background-color:#d8daef;\">                                                       </span><sup>[1]</sup><span style=\"background-color:#d8daef;\">                                                       </span><sup>[1]</sup><span style=\"background-color:#d8daef;\">                                                       </span><sup>[1]</sup><span style=\"background-color:#d8daef;\">                                                       </span><sup>[1]</sup><span style=\"background-color:#d8daef;\">                                                       </span><sup>[1]</sup><span style=\"background-color:#d8daef;\">                                                       </span><sup>[1]</sup><span style=\"background-color:#d8daef;\">                                                       </span><sup>[1]</sup><span style=\"background-color:#d8daef;\">                                                       </span><sup>[1]</sup><span style=\"background-color:#d8daef;\">                                                       </span><sup>[1]</sup><span style=\"background-color:#d8daef;\">                                                       </span><sup>[1]</sup><span style=\"background-color:#d8daef;\">                                                       </span><sup>[1]</sup><span style=\"background-color:#d8daef;\">                                                       </span><sup>[1]</sup><span style=\"background-color:#d8daef;\">                                                       </span><sup>[1]</sup><span style=\"background-color:#d8daef;\">                                                       </span><sup>[1]</sup><span style=\"background-color:#d8daef;\">                                                       </span><sup>[1]</sup>          "
      ],
      "text/plain": [
       "<IPython.core.display.HTML object>"
      ]
     },
     "metadata": {},
     "output_type": "display_data"
    },
    {
     "data": {
      "text/html": [
       "<small><p style=\"text-align:right;\">Sources: <span style=\"background-color:#d8daef;\">emma-jane-austen</span><sup>[1]</sup></p></small>"
      ],
      "text/plain": [
       "<IPython.core.display.HTML object>"
      ]
     },
     "metadata": {},
     "output_type": "display_data"
    },
    {
     "name": "stdout",
     "output_type": "stream",
     "text": [
      "----------------- temperature = 1.0 ----------------------\n"
     ]
    },
    {
     "data": {
      "text/html": [
       "<span style=\"background-color:#d8daef;\">                                                       </span><sup>[1]</sup><span style=\"background-color:#d8daef;\">                                                       </span><sup>[1]</sup>     MI.<br>Wingfield.\" He<span style=\"background-color:#eadbd8;\"> acknowledged, that </span><sup>[3]</sup><span style=\"background-color:#eadbd8;\">Miss Darcy was expected to </span><sup>[3]</sup>both--she<br><span style=\"background-color:#ebdef0;\">did not know exactly what </span><sup>[2]</sup>he said on. And,<span style=\"background-color:#d8daef;\"> Mr. Knightley must </span><sup>[1]</sup>be<br>rich and door<span style=\"background-color:#e2d7d5;\">!' exclaimed Linton, </span><sup>[4]</sup>as if instead of closed, I<br> <br>-Linton turned yesterded at a state of an evening<span style=\"background-color:#eadbd8;\"> in the company<br>of h</span><sup>[3]</sup>er profuse stoup addrarded by the same bread-uvins, then, unheardhand,<br>tripling as every day. He seemed to old age before--“You'll noature how<br>Harriet is different from any thing might, finally, dear Mrs. Long,<br>who is twenty-feeld it seems!--Go\" Mrs. Dean, morning--I feel peevish<br>about my hearing. Your maid shall make mascher comes. But I know I throw<br>some time to any other Park, for he recovered his book, though<span style=\"background-color:#ebdef0;\"> there was<br>nothing they could d</span><sup>[2]</sup>istinguish this,--but<br>had she lingered take your respect to my feelings, ma'am arrive it, while the<br>events made me tell, and left them; and as _I_<br>so well takes it al"
      ],
      "text/plain": [
       "<IPython.core.display.HTML object>"
      ]
     },
     "metadata": {},
     "output_type": "display_data"
    },
    {
     "data": {
      "text/html": [
       "<small><p style=\"text-align:right;\">Sources: <span style=\"background-color:#d8daef;\">emma-jane-austen</span><sup>[1]</sup>, <span style=\"background-color:#eadbd8;\">pride-prejudice-jane-austen</span><sup>[3]</sup>, <span style=\"background-color:#ebdef0;\">voyage-out-virginia-woolf</span><sup>[2]</sup>, <span style=\"background-color:#e2d7d5;\">wuthering-heights-emily-bronte</span><sup>[4]</sup></p></small>"
      ],
      "text/plain": [
       "<IPython.core.display.HTML object>"
      ]
     },
     "metadata": {},
     "output_type": "display_data"
    },
    {
     "name": "stdout",
     "output_type": "stream",
     "text": [
      "---------------------------------------\n",
      "Epoch: 154.17, iter: 75000, cross-entropy: 0.542, accuracy: 0.82666\n",
      "   y: w some time since Miss Taylor had begun to influence his | schemes; but as it was not the tyrannic\n",
      "  yp: u th e oime;whnce Mrss Taylor had begun to influence | his | suhemes; but as it was not the serannic\n",
      "Epoch: 154.58, iter: 75200, cross-entropy: 0.550, accuracy: 0.82780\n",
      "   y: uld fetch us as | sure as we were living: and, so comforted, we each sought a separate | nook to awa\n",
      "  yp: urd niech hs is sure as te cere liking, and, so conforted, Ie avch aought a separate nowk to a a\n",
      "Epoch: 154.99, iter: 75400, cross-entropy: 0.522, accuracy: 0.84017\n",
      "   y: pleasant, and so much less | affectionate to me.' |  | 'You think _he is_ better in health, then?' I s\n",
      "  yp: traasant  ond to fuch iess tsfectionate to me.  |  | 'You ahink _he_is  better in hialth, ahen?' I s\n",
      "Epoch: 155.40, iter: 75600, cross-entropy: 0.548, accuracy: 0.82926\n",
      "   y: they could not have said. |  | However they were come by, they were sufficiently serious to send Mrs\n",
      "  yp:  | he  would bot save suid  |  | Tewever they were nome ty, they were wtrficiently serious to feed irs\n",
      "Epoch: 155.81, iter: 75800, cross-entropy: 0.528, accuracy: 0.84326\n",
      "   y: they would not continue long. Mrs. Gardiner gave her the | particulars also of Miss Bingley's visi\n",
      "  yp: the  weuld hot oomsinue long. Hrs. Gardiner gave her the | slsticulars also of arss Dingley's iisi\n",
      "Epoch: 156.22, iter: 76000, cross-entropy: 0.536, accuracy: 0.83496\n",
      "   y: f her head!  And you _are_ Heathcliff! | But altered!  Nay, there's no comprehending it.  Have you\n",
      "  yp: n tir buad   And you hare_ Heathcliff! | But altered!  Nay, there's no compaehending.it.  Have you\n",
      "Epoch: 156.63, iter: 76200, cross-entropy: 0.552, accuracy: 0.82471\n",
      "   y: ss, | made the sense of what they owed him more painful to Elizabeth's mind; | and she would, at tim\n",
      "  yp:  s  aade hre iarse of what whe  wwed mim dore soin;ul to hlizabeth,s mind; | and she lould  tt thm\n",
      "Epoch: 157.04, iter: 76400, cross-entropy: 0.540, accuracy: 0.83008\n",
      "   y: ll-equipped. Mr. Elton, I must beg leave to stop | at your house, and ask your housekeeper for a b\n",
      "  yp: nl -xuapie,  Ar. Elton  I must beg teave to baop | at your house, and ssk your housekeeper for a m\n",
      "Epoch: 157.45, iter: 76600, cross-entropy: 0.550, accuracy: 0.83122\n",
      "   y:  in a lower and more | serious tone, \"that he is improved in essentials.\" |  | \"Oh, no!\" said Elizabet\n",
      "  yp:  tn a wow r tnd sore cerious tone, \"that ye is improved in tvsentials.\" |  | \"Oh! no,\" said Elizabet\n",
      "Epoch: 157.87, iter: 76800, cross-entropy: 0.526, accuracy: 0.83708\n",
      "   y: n this perturbed state of mind, with thoughts that could rest on | nothing, she walked on; but it \n",
      "  yp:   thes llriirbed state tf mind |  whlh aheughts that would nest on | hothing, bhe casked on; but it \n",
      "Epoch: 158.28, iter: 77000, cross-entropy: 0.568, accuracy: 0.82617\n",
      "   y: ttribute to the right | cause, and not to any disrespect for her.\" |  | Elizabeth felt herself complet\n",
      "  yp: n eacute th the leght | sause, and no  to mny desrespect for ter,  |  | \"lizabeth selt herself complet\n",
      "Epoch: 158.69, iter: 77200, cross-entropy: 0.541, accuracy: 0.83398\n",
      "   y:  |  |  |  | CHAPTER XIV |  |  | As soon as I had perused this epistle I went to the master, and informed | him t\n",
      "  yp:  | ' | CCHAPTER XVV. |  | Ts soon as t cad serused thas iqcstle I went to the laster, and gn ormed | him a\n",
      "Epoch: 159.10, iter: 77400, cross-entropy: 0.538, accuracy: 0.83122\n",
      "   y: Miss W., in being unpleasant to Miss F., were highly | blameable. _She_ disapproved them, which ou\n",
      "  yp: trss Bo |  an being unpreasant to Miss B., were highly | blameable. IShe_ disapproved them, which ou\n",
      "Epoch: 159.51, iter: 77600, cross-entropy: 0.545, accuracy: 0.83333\n",
      "   y: he | mountain-side; and colossal figures standing by themselves in the middle | of vast green pastur\n",
      "  yp: he saontainslhde; and uoloasal figures standing iy the selves in ahe hiddle | of tagt preen paltur\n",
      "Epoch: 159.92, iter: 77800, cross-entropy: 0.537, accuracy: 0.83350\n",
      "   y: “My dear Miss Fairfax, young ladies are very sure to be cared for.--I | hope your good grand-mama \n",
      "  yp:  | Iy bear Eiss Wairfax, you g ladies are very stre to se caled for. -W |  ope your good grand-mama \n",
      "Epoch: 160.33, iter: 78000, cross-entropy: 0.524, accuracy: 0.83822\n",
      "   y: r he has not Wickham's countenance, for his features are | perfectly good. But how came you to tel\n",
      "  yp:   tarwad bot tickham's shmntenance, oor wis ooatures are aerfectly crod, But wow cane you to tel\n",
      "Epoch: 160.74, iter: 78200, cross-entropy: 0.542, accuracy: 0.83529\n",
      "   y: replied Elizabeth, with | tears in her eyes, \"that a sister's sense of decency and virtue in such | \n",
      "  yp: teseied.ilizabeth, tith thars in hir eyes, wthat t sister's sanse of decency and virtue,in auch | \n",
      "Epoch: 161.15, iter: 78400, cross-entropy: 0.536, accuracy: 0.83822\n",
      "   y:  could not be | otherwise explained. |  | \"They have both,\" said she, \"been deceived, I dare say, in s\n",
      "  yp: etonsd not be pvherwise explained. |  | \"They have both,\" said she, abeen deleived, I tare say, an s\n",
      "Epoch: 161.57, iter: 78600, cross-entropy: 0.537, accuracy: 0.83561\n",
      "   y: the curtains were | only half closed. Both of us were able to look in by standing on the | basement,\n",
      "  yp: the soriain  whre only half closed. Both of us aore sble to sesk in by tuatding on the | basement,\n",
      "Epoch: 161.98, iter: 78800, cross-entropy: 0.548, accuracy: 0.83024\n",
      "   y: e had been spitted on the horns of a mad cow. I | did, though: I vociferated curses enough to anni\n",
      "  yp: e wad been soerted on the souss of i sin tol  T | did, though: I qociferated curses enough to enni\n",
      "Epoch: 162.39, iter: 79000, cross-entropy: 0.554, accuracy: 0.83024\n",
      "   y: f this with my own, if he attempt to remove | it.  I don't engage to let Hareton go undisputed; bu\n",
      "  yp: u thes aash ty own  af he httempt to retove it.  I bo 't tngage to let Hareton go tpdisputed; bu\n",
      "Epoch: 162.80, iter: 79200, cross-entropy: 0.522, accuracy: 0.83822\n",
      "   y:  should not like her so well as we do, sir, if we could | suppose it; but she knows how much the m\n",
      "  yp:  thould not hive tersso lell as we do  wir, af we could | suppose tt; but she fnows wow much theym\n",
      "Epoch: 163.21, iter: 79400, cross-entropy: 0.526, accuracy: 0.83805\n",
      "   y: dulity. He did consent. He had not been at Donwell for two | years. “Some very fine morning, he, a\n",
      "  yp:   l ty   e hid nonsent. He had mot been ab Honwell for tho | oears. SShme dery fine morning, he  a\n",
      "Epoch: 163.62, iter: 79600, cross-entropy: 0.521, accuracy: 0.83984\n",
      "   y: a fallen enemy, I couldn't | miss this chance of sticking in a dart: his weakness was the only tim\n",
      "  yp: tnmeilin onemy, I couldn't eigs thes chance of saicking in a tazt: his weakness was the pnly tim\n",
      "Epoch: 164.03, iter: 79800, cross-entropy: 0.535, accuracy: 0.83464\n",
      "   y: s | orisons--and they lasted generally till he grew hoarse and his voice was | strangled in his thro\n",
      "  yp: retf gun  -and Ihe  wayted generally till ae grew hoarse and his moice was | ttrangled in his ehro\n",
      "----------------- temperature = 0.2 ----------------------\n"
     ]
    },
    {
     "data": {
      "text/html": [
       " “A. W.”_<br><br>     \"Under co<span style=\"background-color:#d8daef;\">me to the point.”<br><br>“I </span><sup>[1]</sup><span style=\"background-color:#d8daef;\">do not ask whether you are </span><sup>[1]</sup>so convinced it perfect. Mr. Martin is<br>admired, that she is any thoughts of flattering audiding a miniaturt, is<span style=\"background-color:#ebdef0;\"><br>for the first time, </span><sup>[2]</sup>and where she mads<br>arising from the connexion which they<span style=\"background-color:#e2d7d5;\"> could do it without </span><sup>[4]</sup>offering one<br>or two, Evelyn could bear so attending to the most expression of her<br>aunts and teases of air and<span style=\"background-color:#ebdef0;\"> excitement, and the </span><sup>[2]</sup>sanctain solicure, breathless<br>and music, that I really must take his features.  When I first<br>called, and she had a soft thing to see her farther departer by the<br>mistress at the house, and a pretty sensible, though not agreeable as<br>he would think that if you entirged to his mine simpleton to your daughter, as<br>to allow and I believe that she was a<span style=\"background-color:#d8daef;\"> most agreeable manners</span><sup>[1]</sup>, I assure<br>you. Dear me!<span style=\"background-color:#d8daef;\"> You look as if you </span><sup>[1]</sup>did not come back<span style=\"background-color:#d8daef;\"> again. What a pity it is</span><sup>[1]</sup><br>the dearest friend, as you recollect on your sister; and you have but<br>one thing consider it every wise<span style=\"background-color:#d8daef;\">.”<br><br>“My poor dear Harriet! a</span><sup>[1]</sup>"
      ],
      "text/plain": [
       "<IPython.core.display.HTML object>"
      ]
     },
     "metadata": {},
     "output_type": "display_data"
    },
    {
     "data": {
      "text/html": [
       "<small><p style=\"text-align:right;\">Sources: <span style=\"background-color:#d8daef;\">emma-jane-austen</span><sup>[1]</sup>, <span style=\"background-color:#ebdef0;\">voyage-out-virginia-woolf</span><sup>[2]</sup>, <span style=\"background-color:#e2d7d5;\">wuthering-heights-emily-bronte</span><sup>[4]</sup></p></small>"
      ],
      "text/plain": [
       "<IPython.core.display.HTML object>"
      ]
     },
     "metadata": {},
     "output_type": "display_data"
    },
    {
     "name": "stdout",
     "output_type": "stream",
     "text": [
      "----------------- temperature = 0.6 ----------------------\n"
     ]
    },
    {
     "data": {
      "text/html": [
       "  Would your own children, of the best circumstances, the mass of<br>the two,<span style=\"background-color:#d8daef;\"> she could not have b</span><sup>[1]</sup>orne it.<br><br>“I do not ask for our coming?\"<br><br>\"I hope you w<span style=\"background-color:#ebdef0;\">ould think you were a</span><sup>[2]</sup>n old charies or two,\" said Miss<br>Smith.<br><br>\"Oh! yes--Mr. Eatly, I shall be able to kill silly prosess are so implicating<br>something for my farther departure<span style=\"background-color:#ebdef0;\">, and of course if they</span><sup>[2]</sup> did not believe<br>the judge. This had no motion was as much pairy to charge an old<br>England, never pated it ou<span style=\"background-color:#ebdef0;\">t in the middle of the r</span><sup>[2]</sup>iver, and brows up and down<br>again and again off impertinence and sustains, and he was able to wait on Mrs.<br>Elton himself, recovered her father, to be handsome, suddenly<br>came out<span style=\"background-color:#e2d7d5;\"> on the ground; and </span><sup>[4]</sup>while<span style=\"background-color:#d8daef;\"> there was a general ex</span><sup>[1]</sup>hiliriHn. While<br>dark, whatever she was talked about her very long ago as the child was<br>done. They were all standing in the apother house: they seemed to be no<br>mortal difference, and<span style=\"background-color:#d8daef;\"> congratulate her, and </span><sup>[1]</sup>of your being a little time<br>to recover it.  I have said it were to exclaim, it must be only "
      ],
      "text/plain": [
       "<IPython.core.display.HTML object>"
      ]
     },
     "metadata": {},
     "output_type": "display_data"
    },
    {
     "data": {
      "text/html": [
       "<small><p style=\"text-align:right;\">Sources: <span style=\"background-color:#d8daef;\">emma-jane-austen</span><sup>[1]</sup>, <span style=\"background-color:#ebdef0;\">voyage-out-virginia-woolf</span><sup>[2]</sup>, <span style=\"background-color:#e2d7d5;\">wuthering-heights-emily-bronte</span><sup>[4]</sup></p></small>"
      ],
      "text/plain": [
       "<IPython.core.display.HTML object>"
      ]
     },
     "metadata": {},
     "output_type": "display_data"
    },
    {
     "name": "stdout",
     "output_type": "stream",
     "text": [
      "----------------- temperature = 1.0 ----------------------\n"
     ]
    },
    {
     "data": {
      "text/html": [
       "“A.\"<br>Come,” he addrest, feeling ready to give from<span style=\"background-color:#d8daef;\"> the language of her </span><sup>[1]</sup>mind implored,<br>either. Not of course under any other part, she recollected.<br><br>\"I<span style=\"background-color:#ebdef0;\">f you and Miss Vinrace</span><sup>[2]</sup>,\" said Welmums, when suddenly, laying blush,<br>trawsling till little gloom of lamb, while Mr. Philips dismount was going<br>on quitting her. \"You have mind: I likewI<br>young to send all presently; and if a second graging for the expected<br>place; he spoluted to a neighbour's none whirlp; or yes, I trust<br>myself mention you wished to be expert. However, I heard an equace dihn<br>renewetchilging a fid behaviour, she would never tell for on nothing usual<br>but the house so well would you be means and hopes of the difference.<br>He determines all that I would scalcele all be most<br>aware of his disposition:--not a day of the day, and when I regarded<br>the mountain, my dearest, manae-dard, squalncowing the hour past the<br>moods like death sin<span style=\"background-color:#eadbd8;\">ce.<br><br>As soon as they entered the </span><sup>[3]</sup>river, too sternly, if Rachel saw natural violence!<br><br>Mr. Hewet out of t"
      ],
      "text/plain": [
       "<IPython.core.display.HTML object>"
      ]
     },
     "metadata": {},
     "output_type": "display_data"
    },
    {
     "data": {
      "text/html": [
       "<small><p style=\"text-align:right;\">Sources: <span style=\"background-color:#d8daef;\">emma-jane-austen</span><sup>[1]</sup>, <span style=\"background-color:#ebdef0;\">voyage-out-virginia-woolf</span><sup>[2]</sup>, <span style=\"background-color:#eadbd8;\">pride-prejudice-jane-austen</span><sup>[3]</sup></p></small>"
      ],
      "text/plain": [
       "<IPython.core.display.HTML object>"
      ]
     },
     "metadata": {},
     "output_type": "display_data"
    },
    {
     "name": "stdout",
     "output_type": "stream",
     "text": [
      "---------------------------------------\n",
      "Epoch: 164.44, iter: 80000, cross-entropy: 0.529, accuracy: 0.83415\n",
      "   y: Bates and Miss Fairfax, escorted by the two gentlemen, walked into | the room; and Mrs. Elton seem\n",
      "  yp: teres,wnd Miss Fairfax, bvported by the cao sentlemen, wisked into | the room. and wr.. Ellon deem\n",
      "Epoch: 164.85, iter: 80200, cross-entropy: 0.519, accuracy: 0.84473\n",
      "   y:  were very pressing; and scrupled not to lay all the |      ill-consequences of Lydia's flight, on\n",
      "  yp: eahre aery laeteingl and Iuhupled not th lay tll the | n    ill-consequences of tydia's feight, on\n",
      "Epoch: 165.27, iter: 80400, cross-entropy: 0.546, accuracy: 0.82894\n",
      "   y: excuse me.' |  | 'I hate you to be fidgeting in _my_ presence,' exclaimed the young lady | imperiously\n",
      "  yp: tvplse fe;' |  | 'I save you to be fidgeting in _my_ hresence,' exclaimed Che young mady,impeliously\n",
      "Epoch: 165.68, iter: 80600, cross-entropy: 0.533, accuracy: 0.83317\n",
      "   y: --I | never could attach myself to any one so completely reserved.” |  | “It is a most repulsive quali\n",
      "  yp:  -a sever lonld bttach myself to any one eo mompletely renerved   |  | “I  is h gost veculsivenquali\n",
      "Epoch: 166.09, iter: 80800, cross-entropy: 0.523, accuracy: 0.83691\n",
      "   y: ave been ashamed | of them. The one I gave Mr. Pepper was hardly fit to cover a dog. . . . | No, Mis\n",
      "  yp: ete been alhamed,of thems The mne a gave ir. Pepper wis herdly fit to camer v dog. . . . | No, Sis\n",
      "Epoch: 166.50, iter: 81000, cross-entropy: 0.539, accuracy: 0.83057\n",
      "   y: as what made us keep you | waiting--and extremely sorry and ashamed we were. ‘If you must go, my | d\n",
      "  yp: as siat hide hs heep you wanting -and txpremely sorry ynd ashamed we were  AHf iou aust go  iy r\n",
      "Epoch: 166.91, iter: 81200, cross-entropy: 0.528, accuracy: 0.83626\n",
      "   y: er little of novelty could be added | to their fears, hopes, and conjectures, on this interesting \n",
      "  yp: erytiktle sc tetelty would be asded to their faars, hones  and consectures  on thes interesting \n",
      "Epoch: 167.32, iter: 81400, cross-entropy: 0.550, accuracy: 0.83219\n",
      "   y: ght combine to | discharge it.  Are you as soft as your brother?  Are you willing to | endure to the\n",
      "  yp: nht bampinedto mistharge tt.  Ire you as soft as your mrother,  Are you silling to | endure to the\n",
      "Epoch: 167.73, iter: 81600, cross-entropy: 0.532, accuracy: 0.83268\n",
      "   y: Forgive | me; and if you persist in indifference, do not make _me_ your | confidante.\" |  |  |  |  | CHAPTER X\n",
      "  yp: trr evi | mu; tnd it Iou klrsist,in endifference, Io not pake ame_ sour | comsidante \" |  |  |  | CCHAPTER X\n",
      "Epoch: 168.14, iter: 81800, cross-entropy: 0.560, accuracy: 0.83073\n",
      "   y: ea containing a coal-shed, | pump, and pigeon-cot, we at length arrived in the huge, warm, cheerfu\n",
      "  yp: e tdomciining tnfont-shel, culp, and mlgeon-cott ie at length arrived in the dune, tarm  cheerfu\n",
      "Epoch: 168.55, iter: 82000, cross-entropy: 0.516, accuracy: 0.84229\n",
      "   y: s, 'and I dread him--I dread him!  I _dare_ not tell!' |  | 'Oh, well!' said Catherine, with scornfu\n",
      "  yp: e  atnd b soead eim | -I soead hem!  I cdare_ not cell!' |  | 'Oh, well!' said Catherine, lhth auornfu\n",
      "Epoch: 168.97, iter: 82200, cross-entropy: 0.520, accuracy: 0.84180\n",
      "   y: ld. Come, my dear Emma, | let us be friends, and say no more about it. Tell your aunt, little | Emma\n",
      "  yp: nl   ome, ly dear Emma, let us be friends, and siy no more about it. Hhll your aunt, oittle | Emma\n",
      "Epoch: 169.38, iter: 82400, cross-entropy: 0.534, accuracy: 0.83561\n",
      "   y: ossessed in pursuit of knowledge, and | any love for books or learning.  His childhood's sense of \n",
      "  yp: eneidsid tn tursuit of hnowledge, and E o love for meoks or searn.ng.  Hes childhiod's sense tf \n",
      "Epoch: 169.79, iter: 82600, cross-entropy: 0.534, accuracy: 0.83903\n",
      "   y: , while the bricks of which the wall was made oozed with damp, | which collected into drops and sl\n",
      "  yp:   ahice the soigk  wf thich wheywall ias made tfted with damp, | which woulected into dreps and sh\n",
      "Epoch: 170.20, iter: 82800, cross-entropy: 0.512, accuracy: 0.84489\n",
      "   y: o have some occupation which was quite independent of other | people, she said, when one got old. \n",
      "  yp: h teve teme ofcupation | ohich mas tuite in ependent of other | people, she maid, when tne kot old. \n",
      "Epoch: 170.61, iter: 83000, cross-entropy: 0.511, accuracy: 0.84261\n",
      "   y:  | CHAPTER II. |  |  | Elizabeth had settled it that Mr. Darcy would bring his sister to visit | her, the \n",
      "  yp:  | \"hAPTER X. |  |  |  | Mlizabeth had hettled it thet hr. Darcy would bring his bitter th hisit | her, ahe \n",
      "Epoch: 171.02, iter: 83200, cross-entropy: 0.529, accuracy: 0.83724\n",
      "   y: was hardly six years old, but she could | ride any horse in the stable, and she chose a whip.  He \n",
      "  yp: tis aardly pcn mears old, sut she would nime any horse in the hhable, and she woose a whip,  He \n",
      "Epoch: 171.43, iter: 83400, cross-entropy: 0.535, accuracy: 0.83968\n",
      "   y:  |  | Emma did not want to be classed with the Mrs. Eltons, the Mrs. Perrys, | and the Mrs. Coles, who\n",
      "  yp:  |  | “mma cid not rant to be ciessed with hhe rrs. Cltons, the sas. Perrys  | and the gis. Coles, who\n",
      "Epoch: 171.84, iter: 83600, cross-entropy: 0.523, accuracy: 0.83464\n",
      "   y: and | generally very inferior, society, may well be illiberal and cross. This | does not apply, howe\n",
      "  yp: tnd trttrally vary fnterior  society, may nell be illiberal and closs.-Thes | coes not apply, howe\n",
      "Epoch: 172.25, iter: 83800, cross-entropy: 0.518, accuracy: 0.83870\n",
      "   y: ers came out of the tap when you turned on the hot water?\" she | demanded, fixing her eye on Helen\n",
      "  yp:  r taone tut,tf ahe rabswhen sou turned on the met water?\" she | demanded, gixing her eye on telen\n",
      "Epoch: 172.67, iter: 84000, cross-entropy: 0.524, accuracy: 0.84049\n",
      "   y: new I | liked to be there!' |  | 'Is she sane?' asked Mrs. Linton, appealing to me.  'I'll repeat our | \n",
      "  yp:  ow t wiked ho be arere!' |  | 'A  she sane?' asked Mrs. Linton, aspealing to me.  'I'll repeat our | \n",
      "Epoch: 173.08, iter: 84200, cross-entropy: 0.536, accuracy: 0.83610\n",
      "   y: driven from her face, returned for half a | minute with an additional glow, and a smile of delight\n",
      "  yp: tievin arom her fate, aeaurned frr hilf a minute aith a  aiditional slow, and h siale of decight\n",
      "Epoch: 173.49, iter: 84400, cross-entropy: 0.530, accuracy: 0.83691\n",
      "   y: red at seeing his lady vexed.  Not to grieve a | kind master, I learned to be less touchy; and, fo\n",
      "  yp:     t  hueing tim nady,iexed.  Aot so tiieve a | cind master, a dearned to be uess souchy; and, fo\n",
      "Epoch: 173.90, iter: 84600, cross-entropy: 0.531, accuracy: 0.84261\n",
      "   y: uld say; but he and Hareton are detestable companions. | I'd rather sit with Hindley, and hear his\n",
      "  yp:   d bey  sut he ind Hereton are betestable iemplnions. I d rather htt with Hindley, asd fear his\n",
      "Epoch: 174.31, iter: 84800, cross-entropy: 0.530, accuracy: 0.83480\n",
      "   y: ode of | passing the evening, to the exclusion of all conversation, and was too | much engrossed by \n",
      "  yp: ere af tatsing the gvening, to the enciusion of all conversation, and was noo | much angrossed by \n",
      "----------------- temperature = 0.2 ----------------------\n"
     ]
    },
    {
     "data": {
      "text/html": [
       "<span style=\"background-color:#d8daef;\">                                                       </span><sup>[1]</sup><span style=\"background-color:#d8daef;\">                                                       </span><sup>[1]</sup><span style=\"background-color:#d8daef;\">                                                       </span><sup>[1]</sup><span style=\"background-color:#d8daef;\">                                                       </span><sup>[1]</sup><span style=\"background-color:#d8daef;\">                                                       </span><sup>[1]</sup><span style=\"background-color:#d8daef;\">                                                       </span><sup>[1]</sup><span style=\"background-color:#d8daef;\">                                                       </span><sup>[1]</sup><span style=\"background-color:#d8daef;\">                                                       </span><sup>[1]</sup><span style=\"background-color:#d8daef;\">                                                       </span><sup>[1]</sup><span style=\"background-color:#d8daef;\">                                                       </span><sup>[1]</sup><span style=\"background-color:#d8daef;\">                                                       </span><sup>[1]</sup><span style=\"background-color:#d8daef;\">                                                       </span><sup>[1]</sup><span style=\"background-color:#d8daef;\">                                                       </span><sup>[1]</sup><span style=\"background-color:#d8daef;\">                                                       </span><sup>[1]</sup><span style=\"background-color:#d8daef;\">                                                       </span><sup>[1]</sup><span style=\"background-color:#d8daef;\">                                                       </span><sup>[1]</sup><span style=\"background-color:#d8daef;\">                                                       </span><sup>[1]</sup><span style=\"background-color:#d8daef;\">                                                       </span><sup>[1]</sup>          "
      ],
      "text/plain": [
       "<IPython.core.display.HTML object>"
      ]
     },
     "metadata": {},
     "output_type": "display_data"
    },
    {
     "data": {
      "text/html": [
       "<small><p style=\"text-align:right;\">Sources: <span style=\"background-color:#d8daef;\">emma-jane-austen</span><sup>[1]</sup></p></small>"
      ],
      "text/plain": [
       "<IPython.core.display.HTML object>"
      ]
     },
     "metadata": {},
     "output_type": "display_data"
    },
    {
     "name": "stdout",
     "output_type": "stream",
     "text": [
      "----------------- temperature = 0.6 ----------------------\n"
     ]
    },
    {
     "data": {
      "text/html": [
       "<span style=\"background-color:#d8daef;\">                                                       </span><sup>[1]</sup><span style=\"background-color:#d8daef;\">                                                       </span><sup>[1]</sup><span style=\"background-color:#d8daef;\">                                                       </span><sup>[1]</sup><span style=\"background-color:#d8daef;\">                                                       </span><sup>[1]</sup><span style=\"background-color:#d8daef;\">                                                       </span><sup>[1]</sup><span style=\"background-color:#d8daef;\">                                                       </span><sup>[1]</sup><span style=\"background-color:#d8daef;\">                                                       </span><sup>[1]</sup><span style=\"background-color:#d8daef;\">                                                       </span><sup>[1]</sup><span style=\"background-color:#d8daef;\">                                                       </span><sup>[1]</sup><span style=\"background-color:#d8daef;\">                                                       </span><sup>[1]</sup><span style=\"background-color:#d8daef;\">                                                       </span><sup>[1]</sup><span style=\"background-color:#d8daef;\">                                                       </span><sup>[1]</sup><span style=\"background-color:#d8daef;\">                                                       </span><sup>[1]</sup><span style=\"background-color:#d8daef;\">                                                       </span><sup>[1]</sup><span style=\"background-color:#d8daef;\">                                                       </span><sup>[1]</sup><span style=\"background-color:#d8daef;\">                                                       </span><sup>[1]</sup><span style=\"background-color:#d8daef;\">                                                       </span><sup>[1]</sup><span style=\"background-color:#d8daef;\">                              “A. W.</span><sup>[1]</sup><br>was not imagined. Naw you ar"
      ],
      "text/plain": [
       "<IPython.core.display.HTML object>"
      ]
     },
     "metadata": {},
     "output_type": "display_data"
    },
    {
     "data": {
      "text/html": [
       "<small><p style=\"text-align:right;\">Sources: <span style=\"background-color:#d8daef;\">emma-jane-austen</span><sup>[1]</sup></p></small>"
      ],
      "text/plain": [
       "<IPython.core.display.HTML object>"
      ]
     },
     "metadata": {},
     "output_type": "display_data"
    },
    {
     "name": "stdout",
     "output_type": "stream",
     "text": [
      "----------------- temperature = 1.0 ----------------------\n"
     ]
    },
    {
     "data": {
      "text/html": [
       "<span style=\"background-color:#d8daef;\">                                         “</span><sup>[1]</sup>            “A. W. walk<br>for my goang.  Your coward?<span style=\"background-color:#eadbd8;\">\" said she, \"it is very hard</span><sup>[3]</sup>, very well. I<br>might bind them to you all the charm <span style=\"background-color:#eadbd8;\">of her brother and s</span><sup>[3]</sup>ee him. But this<br>expedition more respected. She had done it to herself. His adriwe ere,<br>was, let me perhaps this morning.  The man is not often to repeal it.  Catherine<br>upon her existence;<span style=\"background-color:#d8daef;\"> he had, therefore, </span><sup>[1]</sup>she blasted cards. “Drawn<br>line--a most cold and amusing you, or some servant was an ill-tempered man.<br>Some one-and-picnicy is just like her, would be at the doomed tile they remained<br>in a shower running down tears seven times had patience<br>within a fool.\" (I wish were sinned to assure you yet?\" she asked.<br><br>Rachel repeated the loosen than a foot in this mother. She devuling<br>that Helen had nothen told some days had passed and recommended his<br>own.<br><br>Emma saw how peculiarly they saw my lash fine scene to love it very<br>execred on which Lisrlay wonderful. Jane was almost afraid<br>that they had been risk"
      ],
      "text/plain": [
       "<IPython.core.display.HTML object>"
      ]
     },
     "metadata": {},
     "output_type": "display_data"
    },
    {
     "data": {
      "text/html": [
       "<small><p style=\"text-align:right;\">Sources: <span style=\"background-color:#d8daef;\">emma-jane-austen</span><sup>[1]</sup>, <span style=\"background-color:#eadbd8;\">pride-prejudice-jane-austen</span><sup>[3]</sup></p></small>"
      ],
      "text/plain": [
       "<IPython.core.display.HTML object>"
      ]
     },
     "metadata": {},
     "output_type": "display_data"
    },
    {
     "name": "stdout",
     "output_type": "stream",
     "text": [
      "---------------------------------------\n",
      "Epoch: 174.72, iter: 85000, cross-entropy: 0.528, accuracy: 0.83659\n",
      "   y: ances.--I shall always congratulate myself that you were not of | the Box Hill party. Had you witn\n",
      "  yp: ente   -I seall slways chmcratulate myself that yourdere not | gf | the pex Hill party.”Aed you nitn\n",
      "Epoch: 175.13, iter: 85200, cross-entropy: 0.504, accuracy: 0.84391\n",
      "   y: the brain, don't they, Sir?\" |  | He looked at her but he could not answer her; like all the others,\n",
      "  yp: the seinn  aeu't they, Mir?\" |  | He looked at her wot Ie dould not rngwer fer  bike a l the others,\n",
      "Epoch: 175.54, iter: 85400, cross-entropy: 0.513, accuracy: 0.84131\n",
      "   y: tly pictures; and those and their | position had charm enough to keep them unmoved till Joseph cam\n",
      "  yp:   y aattures  and theue and their | aosition had ararm enough to aeep hhe  tntoved boll Joseph cam\n",
      "Epoch: 175.95, iter: 85600, cross-entropy: 0.540, accuracy: 0.83561\n",
      "   y: aves of the early trees smitten and blackened.  And dreary, and | chill, and dismal, that morrow d\n",
      "  yp:  te  sf the pvrty trees.amirten and beuckened.  And draary, and | chell, and dismal, toat sorrow l\n",
      "Epoch: 176.37, iter: 85800, cross-entropy: 0.525, accuracy: 0.83789\n",
      "   y: wledge now opening before her that she ceased to read, and a breeze | turning the page, the covers\n",
      "  yp: u edge oor snening ayfore hir ahrn whe woased to aemd, and n bleaze | turning the page, the coaers\n",
      "Epoch: 176.78, iter: 86000, cross-entropy: 0.526, accuracy: 0.83757\n",
      "   y: nto his eyes; but they burned with anguish: they did | not melt. |  | 'What now?' said Catherine, lean\n",
      "  yp: ngontem fyes  tut the  borned with anguish: they did | not silt. |  | 'Whot aow?' said Catherine, leav\n",
      "Epoch: 177.19, iter: 86200, cross-entropy: 0.533, accuracy: 0.83773\n",
      "   y: ok an hour for Helen to raise her | arm, pausing long between each jerky movement, and pour out me\n",
      "  yp: uk tndeour for halen to aaise her | arm, earsing long between each jerky mouement, and seir out me\n",
      "Epoch: 177.60, iter: 86400, cross-entropy: 0.515, accuracy: 0.84001\n",
      "   y:  | was come to his master lately, he said, but he could hardly ever get the | speech of him. I have \n",
      "  yp: htas soni to tim foster.taiely, ae weid, “ut he would nardly ever get the | suiech of hims I have \n",
      "Epoch: 178.01, iter: 86600, cross-entropy: 0.527, accuracy: 0.83415\n",
      "   y: tle glass jars. Here | were the treasures which the great ocean had bestowed upon him--pale | fish i\n",
      "  yp: hee srass wars  Te e were the aiuesures which the oreat ocean had bestowed upon him--prle | tish i\n",
      "Epoch: 178.42, iter: 86800, cross-entropy: 0.510, accuracy: 0.84066\n",
      "   y: nd as a step towards conversing | with her himself, attended to her conversation with others. His \n",
      "  yp: nd tn s stra to ards tonversang with her timself, attended to her somversation with hnhers, His \n",
      "Epoch: 178.83, iter: 87000, cross-entropy: 0.545, accuracy: 0.83285\n",
      "   y: mma used to do, whole afternoons | together.  Sit quite still and don't talk: but you may sing a s\n",
      "  yp: neonsse  to bi  fhale afternoons.thgether.  Sit quite still and dun't trlk: but you may spng a l\n",
      "Epoch: 179.24, iter: 87200, cross-entropy: 0.517, accuracy: 0.83545\n",
      "   y:  were round him. He did not want to have arms round him, and the | mysterious whispering voices an\n",
      "  yp:  aere aeund him, He wid not bant to have a ms round him. and | hhe | susterious whispering vaices an\n",
      "Epoch: 179.65, iter: 87400, cross-entropy: 0.504, accuracy: 0.84831\n",
      "   y:  to | her--nothing could more agreeably denote his wish of considering her as | a friend and securin\n",
      "  yp: eth her -nething could mire agreeable dinote his wifh of gonsidering hir as | alfriend and cecurin\n",
      "Epoch: 180.07, iter: 87600, cross-entropy: 0.509, accuracy: 0.84229\n",
      "   y:  and Hewet sat in | a row in a very different frame of mind. Hewet was staring at the roof | with hi\n",
      "  yp:  and tewet aat in t low in a dery sifferent mrame of mind. He et was siaring at the woof | with he\n",
      "Epoch: 180.48, iter: 87800, cross-entropy: 0.510, accuracy: 0.83626\n",
      "   y: of seeing a confirmation of every thing in Mr. Darcy's | looks and behaviour. The happiness antici\n",
      "  yp: tf tening | y moufinmation of every thing hn tr. Darcy's | looks and behaviour. The sappiness andici\n",
      "Epoch: 180.89, iter: 88000, cross-entropy: 0.519, accuracy: 0.84424\n",
      "   y: ged to | the young lady, said, \"I consider that her condition to-night is very | grave.\" |  | Neither of\n",
      "  yp: ne  to rhe soung lady, taid, \"I sansider that her pondition to-night is very | mreve.\" |  | Neither of\n",
      "Epoch: 181.30, iter: 88200, cross-entropy: 0.513, accuracy: 0.84391\n",
      "   y: t guided by _her_ feelings in reprobating the ball, | for _she_ enjoyed the thought of it to an ex\n",
      "  yp: n toede  ty thir_ feelings in aaarobating the sell, for hshe_ wnjoyed the thoughtsof it ao an ex\n",
      "Epoch: 181.71, iter: 88400, cross-entropy: 0.516, accuracy: 0.83870\n",
      "   y: ghtfully | ill. Rodriguez is useless. We must get another doctor.\" |  | \"But there is no other doctor,\n",
      "  yp: nht ul y onl- Tedrisuez in useless: We must got onother doctor,\" |  | \"Tut thene is so other doctor,\n",
      "Epoch: 182.12, iter: 88600, cross-entropy: 0.514, accuracy: 0.84212\n",
      "   y:  stretching an arm of stone | towards the view. A little to the left of them was a low ruined wall\n",
      "  yp:  ahiotching hn arm ou ioone | ao ards the vilw. A little ti bhe ceft of them was o siw ruined wall\n",
      "Epoch: 182.53, iter: 88800, cross-entropy: 0.501, accuracy: 0.84294\n",
      "   y:  she, \"why with so evident a design of | offending and insulting me, you chose to tell me that you\n",
      "  yp:  the  \"the wolh sh lvilent andegirn of | etfending and tnsulting me, you chose to tell me that Iou\n",
      "Epoch: 182.94, iter: 89000, cross-entropy: 0.513, accuracy: 0.84521\n",
      "   y: , | was attached--and how it came to cease, is perhaps the wonder. | Fortunately, however, it did ce\n",
      "  yp:   ahs alteched -and how at came to ciase, it terfaps the whrder. | Nortunately- however, it did ce\n",
      "Epoch: 183.35, iter: 89200, cross-entropy: 0.524, accuracy: 0.83887\n",
      "   y: ffected by weather, I think every body feels a north-east | wind.--I felt for your dear father ver\n",
      "  yp: ntectid ty taither, o mhink,Ivery body eoels alcotth evst | wend.--I felt for your daar father ver\n",
      "Epoch: 183.77, iter: 89400, cross-entropy: 0.508, accuracy: 0.84424\n",
      "   y: s for it. He can sit down and write a fine | flourishing letter, full of professions and falsehood\n",
      "  yp:  saor ht  Se hom het down and write a line flourishing letter, aoll of srofossions and famsehood\n",
      "Epoch: 184.18, iter: 89600, cross-entropy: 0.525, accuracy: 0.83822\n",
      "   y: betweens, that the | evening flew away at a very unusual rate; and the supper-table, which | always \n",
      "  yp: -osteen  |  thon the | ivening weew away at anbery unusual rate; and the mupper table, which | always \n",
      "Epoch: 184.59, iter: 89800, cross-entropy: 0.493, accuracy: 0.84603\n",
      "   y: ormal, but | at the same time it was full of consideration, which had not marked | it before. He wen\n",
      "  yp:  r atl aut st the same time it was dall of consideration, which hed bo  madked | it besore. He wen\n",
      "----------------- temperature = 0.2 ----------------------\n"
     ]
    },
    {
     "data": {
      "text/html": [
       "<span style=\"background-color:#d8daef;\">                                                       </span><sup>[1]</sup><span style=\"background-color:#d8daef;\">                                                       </span><sup>[1]</sup><span style=\"background-color:#d8daef;\">                                                       </span><sup>[1]</sup><span style=\"background-color:#d8daef;\">                                                       </span><sup>[1]</sup><span style=\"background-color:#d8daef;\">                                                       </span><sup>[1]</sup><span style=\"background-color:#d8daef;\">                                                       </span><sup>[1]</sup><span style=\"background-color:#d8daef;\">                                                       </span><sup>[1]</sup><span style=\"background-color:#d8daef;\">                                                       </span><sup>[1]</sup><span style=\"background-color:#d8daef;\">                                                       </span><sup>[1]</sup><span style=\"background-color:#d8daef;\">                                                       </span><sup>[1]</sup><span style=\"background-color:#d8daef;\">                                                       </span><sup>[1]</sup><span style=\"background-color:#d8daef;\">                                                       </span><sup>[1]</sup><span style=\"background-color:#d8daef;\">                                                       </span><sup>[1]</sup><span style=\"background-color:#d8daef;\">                                                       </span><sup>[1]</sup><span style=\"background-color:#d8daef;\">                                                       </span><sup>[1]</sup><span style=\"background-color:#d8daef;\">                                                       </span><sup>[1]</sup><span style=\"background-color:#d8daef;\">                                                       </span><sup>[1]</sup><span style=\"background-color:#d8daef;\">                                                       </span><sup>[1]</sup>          "
      ],
      "text/plain": [
       "<IPython.core.display.HTML object>"
      ]
     },
     "metadata": {},
     "output_type": "display_data"
    },
    {
     "data": {
      "text/html": [
       "<small><p style=\"text-align:right;\">Sources: <span style=\"background-color:#d8daef;\">emma-jane-austen</span><sup>[1]</sup></p></small>"
      ],
      "text/plain": [
       "<IPython.core.display.HTML object>"
      ]
     },
     "metadata": {},
     "output_type": "display_data"
    },
    {
     "name": "stdout",
     "output_type": "stream",
     "text": [
      "----------------- temperature = 0.6 ----------------------\n"
     ]
    },
    {
     "data": {
      "text/html": [
       "<span style=\"background-color:#d8daef;\">                                                       </span><sup>[1]</sup><span style=\"background-color:#d8daef;\">                                                       </span><sup>[1]</sup><span style=\"background-color:#d8daef;\">                                                       </span><sup>[1]</sup><span style=\"background-color:#d8daef;\">                                                       </span><sup>[1]</sup><span style=\"background-color:#d8daef;\">                                                       </span><sup>[1]</sup><span style=\"background-color:#d8daef;\">                                                       </span><sup>[1]</sup><span style=\"background-color:#d8daef;\">                                                       </span><sup>[1]</sup><span style=\"background-color:#d8daef;\">                                                       </span><sup>[1]</sup><span style=\"background-color:#d8daef;\">                                                       </span><sup>[1]</sup><span style=\"background-color:#d8daef;\">                                                       </span><sup>[1]</sup><span style=\"background-color:#d8daef;\">                                                       </span><sup>[1]</sup><span style=\"background-color:#d8daef;\">                                                       </span><sup>[1]</sup><span style=\"background-color:#d8daef;\">                                                       </span><sup>[1]</sup><span style=\"background-color:#d8daef;\">                                                       </span><sup>[1]</sup><span style=\"background-color:#d8daef;\">                                                       </span><sup>[1]</sup><span style=\"background-color:#d8daef;\">                                                       </span><sup>[1]</sup><span style=\"background-color:#d8daef;\">                                                       </span><sup>[1]</sup><span style=\"background-color:#d8daef;\">                                                       </span><sup>[1]</sup>          "
      ],
      "text/plain": [
       "<IPython.core.display.HTML object>"
      ]
     },
     "metadata": {},
     "output_type": "display_data"
    },
    {
     "data": {
      "text/html": [
       "<small><p style=\"text-align:right;\">Sources: <span style=\"background-color:#d8daef;\">emma-jane-austen</span><sup>[1]</sup></p></small>"
      ],
      "text/plain": [
       "<IPython.core.display.HTML object>"
      ]
     },
     "metadata": {},
     "output_type": "display_data"
    },
    {
     "name": "stdout",
     "output_type": "stream",
     "text": [
      "----------------- temperature = 1.0 ----------------------\n"
     ]
    },
    {
     "data": {
      "text/html": [
       "<span style=\"background-color:#d8daef;\">                                                       </span><sup>[1]</sup><span style=\"background-color:#d8daef;\">                                                       </span><sup>[1]</sup><span style=\"background-color:#d8daef;\">                                                       </span><sup>[1]</sup><span style=\"background-color:#d8daef;\">                                                       </span><sup>[1]</sup><span style=\"background-color:#d8daef;\">                                                       </span><sup>[1]</sup><span style=\"background-color:#d8daef;\">                                                       </span><sup>[1]</sup><span style=\"background-color:#d8daef;\">                     </span><sup>[1]</sup>How dwell doing. It's still after some<br>water and with him, oriniages, from winder rather fancy now, and was pwansed<br>a--donsheredous; she had<span style=\"background-color:#d8daef;\"> always the greater </span><sup>[1]</sup>pitie for a woman were all<br>different fracol. Now John got some<br>excitement also, <span style=\"background-color:#e2d7d5;\">to depart as much as a</span><sup>[4]</sup>nything above to pray the look,<br>rising, their drink. She was the instrument in the air so bursts of<br>shape--and must dushed and ordinary, all about him<span style=\"background-color:#d8daef;\">, which Miss Woodhouse</span><sup>[1]</sup><br>could say amaze Thouthing for the moment after the messenger--what's so clever than<br>ever yes he speaks. He was to look at windows, and the uprerent and supper in<br>the dark roots should induce me to coft from such a "
      ],
      "text/plain": [
       "<IPython.core.display.HTML object>"
      ]
     },
     "metadata": {},
     "output_type": "display_data"
    },
    {
     "data": {
      "text/html": [
       "<small><p style=\"text-align:right;\">Sources: <span style=\"background-color:#d8daef;\">emma-jane-austen</span><sup>[1]</sup>, <span style=\"background-color:#e2d7d5;\">wuthering-heights-emily-bronte</span><sup>[4]</sup></p></small>"
      ],
      "text/plain": [
       "<IPython.core.display.HTML object>"
      ]
     },
     "metadata": {},
     "output_type": "display_data"
    },
    {
     "name": "stdout",
     "output_type": "stream",
     "text": [
      "---------------------------------------\n",
      "Epoch: 185.00, iter: 90000, cross-entropy: 0.503, accuracy: 0.83952\n",
      "   y: unwilling for her sister's sake, to provoke him, | she only said in reply, with a good-humoured sm\n",
      "  yp: tndillingltor ter toster's rake, to brovoke him, | she cnly said in reply, \"hth a glod-humoured dm\n",
      "Epoch: 185.41, iter: 90200, cross-entropy: 0.505, accuracy: 0.84603\n",
      "   y:  she added a moment later. | Very little was visible--a few masts, a shadow of land here, a line o\n",
      "  yp: Isae wnded,tnmoment ooter. | Cery little was sisible--a few cists  a mtadow of sand,here, a cite o\n",
      "Epoch: 185.82, iter: 90400, cross-entropy: 0.502, accuracy: 0.85042\n",
      "   y: d removed him: and that naturally led me to | consider the poor lad's situation now, and from sing\n",
      "  yp: n beaaved tes  and thot waturally led me to donsider the uoor lad's situation now, and foom sing\n",
      "Epoch: 186.23, iter: 90600, cross-entropy: 0.515, accuracy: 0.84294\n",
      "   y: r acquainted----\" |  | He was interrupted by a summons to dinner; and the girls smiled on each | other\n",
      "  yp:   tnquaintad -a-\" |  | He was tn errupted by a sefmons so menner; and whengrrl  wailed on each | other\n",
      "Epoch: 186.64, iter: 90800, cross-entropy: 0.498, accuracy: 0.84831\n",
      "   y: oing to-morrow | where I shall find a man who has not one agreeable quality, who has | neither manne\n",
      "  yp:   ng to morrow | where I hholl find a man who has not bne agreeable tuality, who has | neither manne\n",
      "Epoch: 187.05, iter: 91000, cross-entropy: 0.509, accuracy: 0.84375\n",
      "   y: . |  |  |  |  | CHAPTER XV |  |  | Another week over--and I am so many days nearer health, and spring!  I | have n\n",
      "  yp:    | ' |  | CHAPTER XII |  | Another week over--and I am su eony says tearer,baalth, and tureng!  I | cave n\n",
      "Epoch: 187.47, iter: 91200, cross-entropy: 0.506, accuracy: 0.84587\n",
      "   y: on, I turned and opened the panels.  I shall not | soon forget the effect my action produced. |  | Hea\n",
      "  yp: nn  a dhrned and opened the dapels.  H saall not | sion forget ahe isfect my oction uroduced. |  | 'ea\n",
      "Epoch: 187.88, iter: 91400, cross-entropy: 0.503, accuracy: 0.84424\n",
      "   y: llowing hour. Had Elizabeth been at leisure | to be idle, she would have remained certain that all\n",
      "  yp: udeweng tewrs Hed Elizabeth been at leisure | to be cdle, she wauld have bemained certain that a l\n",
      "Epoch: 188.29, iter: 91600, cross-entropy: 0.497, accuracy: 0.84619\n",
      "   y: rity to another woman, was she to be consenting the next to a | proposal which might have made eve\n",
      "  yp: neni oo hcyther,wiman,\"aas soe th be consunt,ng the gext mh hlproposal thich maght have bade hve\n",
      "Epoch: 188.70, iter: 91800, cross-entropy: 0.507, accuracy: 0.84814\n",
      "   y: ng to encircle him with peace and security, with dark and | nothingness. Surely the world of strif\n",
      "  yp: ng to satorcle hem.with heace and cecurity, with damk and | sothingness. Surely the world of sprif\n",
      "Epoch: 189.11, iter: 92000, cross-entropy: 0.520, accuracy: 0.84245\n",
      "   y: s not easy.\" |  | \"That's what we want to know,\" they answered, and she guessed that now | they were l\n",
      "  yp: s tat taty   |  | TThat s what we want to know,\" they answered, and ste raessed that now | they were l\n",
      "Epoch: 189.52, iter: 92200, cross-entropy: 0.497, accuracy: 0.85124\n",
      "   y: rence drew Rachel to the side, pointing ostensibly to a great | gnarled tree-trunk which had falle\n",
      "  yp:   dte ioow aachel to bae side. arwnting ostensibly to a ceeat | grarled tree-trunk which had ralle\n",
      "Epoch: 189.93, iter: 92400, cross-entropy: 0.532, accuracy: 0.84017\n",
      "   y: liam Pepper was remarking in his definite and rather acid voice, | \"That is the type of lady with \n",
      "  yp: e nn werper,wes taaorking in hes pesenite and | rether amqd voice, | \"Whet'is the type of ladi whth \n",
      "Epoch: 190.34, iter: 92600, cross-entropy: 0.495, accuracy: 0.84570\n",
      "   y: young | woman in the same rank as his own, with a little money, it might be very | desirable.” |  | “Six\n",
      "  yp: tou g loman in the same rapk as ais own, with a lattle dorey, wt wight be dery | desirable ” |  | “Nix\n",
      "Epoch: 190.75, iter: 92800, cross-entropy: 0.489, accuracy: 0.84570\n",
      "   y: ted on those of Netherfield. The visit | was returned in due form. Miss Bennet's pleasing manners \n",
      "  yp: n   tfethese sf tetherfield, The pisit | was returned in hue forw. Mrss Bennet's pleasing hanners \n",
      "Epoch: 191.17, iter: 93000, cross-entropy: 0.523, accuracy: 0.83545\n",
      "   y: es ourselves, and sit under | trees;--and whatever else you may like to provide, it is to be all o\n",
      "  yp: nd tft elves, and thtuspder whee,;--and whatever else you tay like to grovide, it is to be sll | o\n",
      "Epoch: 191.58, iter: 93200, cross-entropy: 0.523, accuracy: 0.84163\n",
      "   y: wanted | as a card-room now; or, if cards were conveniently voted unnecessary | by their four selves\n",
      "  yp: tast d tn m cote-room aow, ar, if cands were clnveniently joted unnecessary | by the r faur selves\n",
      "Epoch: 191.99, iter: 93400, cross-entropy: 0.510, accuracy: 0.84326\n",
      "   y: ours would be | too late, and the party too numerous. He was soon pretty well resigned. |  | “I am not\n",
      "  yp: eus  weuld be loo note, and the oarti too ramerous  He was goon prevty well reaigned. | T“I dm not\n",
      "Epoch: 192.40, iter: 93600, cross-entropy: 0.496, accuracy: 0.84896\n",
      "   y: ays judge for themselves, and are by no means implicitly | guided by others. I give you notice tha\n",
      "  yp: as  audge oor themselves. and tle by no means impoicitly | fuided by onhers. Ingive you notice thi\n",
      "Epoch: 192.81, iter: 93800, cross-entropy: 0.489, accuracy: 0.85042\n",
      "   y: nothing less than a summons from Richmond | was to take him back before the following evening. |  |  |  | \n",
      "  yp: tot ing iess than a pemmons from Richmond | was dh take him iack before the fillowing evening   | T | \n",
      "Epoch: 193.22, iter: 94000, cross-entropy: 0.522, accuracy: 0.83887\n",
      "   y: say he would have tried to | remedy the mistake by smashing Hareton's skull on the steps; but, we | \n",
      "  yp:  si ba sould nave tried to | recamy the iastake Iy siashing sareton's shull on the sueps; but, we | \n",
      "Epoch: 193.63, iter: 94200, cross-entropy: 0.499, accuracy: 0.84554\n",
      "   y: nes. They would settle down. | He then looked at the couples who had been married for several year\n",
      "  yp: nd s  he  weuld hettle town  | He when looked at the fhuple  lho had been married for aoveral year\n",
      "Epoch: 194.04, iter: 94400, cross-entropy: 0.493, accuracy: 0.85352\n",
      "   y: eremonious call till a little time had passed, and Mr. | Churchill could be reconciled to the enga\n",
      "  yp: o n opeeus corl ooml a mittle time had passed  and tr. Churchill could be seconciled to the mnga\n",
      "Epoch: 194.45, iter: 94600, cross-entropy: 0.487, accuracy: 0.84977\n",
      "   y: er than reasoned, representing her | view of what Terence felt by a picture of him drawn across th\n",
      "  yp: e  aoet ieason s  aepeesenting her | fiew of hhat serence felt by a licture of aim tiewn across th\n",
      "Epoch: 194.87, iter: 94800, cross-entropy: 0.500, accuracy: 0.85254\n",
      "   y: as I could wish.” |  | “Oh! papa, we have missed seeing them but one entire day since they | married. \n",
      "  yp: tn t aould rish.  |  | “Ih! yapa, we have missed seeing thim hot one tntrre day,since they | parried. \n",
      "----------------- temperature = 0.2 ----------------------\n"
     ]
    },
    {
     "data": {
      "text/html": [
       "<span style=\"background-color:#d8daef;\">                                                       </span><sup>[1]</sup><span style=\"background-color:#d8daef;\">                                                       </span><sup>[1]</sup><span style=\"background-color:#d8daef;\">                                                       </span><sup>[1]</sup><span style=\"background-color:#d8daef;\">                                                       </span><sup>[1]</sup><span style=\"background-color:#d8daef;\">                                                       </span><sup>[1]</sup><span style=\"background-color:#d8daef;\">                                                       </span><sup>[1]</sup><span style=\"background-color:#d8daef;\">                                                       </span><sup>[1]</sup><span style=\"background-color:#d8daef;\">                                                       </span><sup>[1]</sup><span style=\"background-color:#d8daef;\">                                                       </span><sup>[1]</sup><span style=\"background-color:#d8daef;\">                                                       </span><sup>[1]</sup><span style=\"background-color:#d8daef;\">                                                       </span><sup>[1]</sup><span style=\"background-color:#d8daef;\">                                                       </span><sup>[1]</sup><span style=\"background-color:#d8daef;\">                                                       </span><sup>[1]</sup><span style=\"background-color:#d8daef;\">                                                       </span><sup>[1]</sup><span style=\"background-color:#d8daef;\">                                                       </span><sup>[1]</sup><span style=\"background-color:#d8daef;\">                                                       </span><sup>[1]</sup><span style=\"background-color:#d8daef;\">                                                       </span><sup>[1]</sup><span style=\"background-color:#d8daef;\">                                                       </span><sup>[1]</sup>          "
      ],
      "text/plain": [
       "<IPython.core.display.HTML object>"
      ]
     },
     "metadata": {},
     "output_type": "display_data"
    },
    {
     "data": {
      "text/html": [
       "<small><p style=\"text-align:right;\">Sources: <span style=\"background-color:#d8daef;\">emma-jane-austen</span><sup>[1]</sup></p></small>"
      ],
      "text/plain": [
       "<IPython.core.display.HTML object>"
      ]
     },
     "metadata": {},
     "output_type": "display_data"
    },
    {
     "name": "stdout",
     "output_type": "stream",
     "text": [
      "----------------- temperature = 0.6 ----------------------\n"
     ]
    },
    {
     "data": {
      "text/html": [
       "<span style=\"background-color:#d8daef;\">                                                       </span><sup>[1]</sup><span style=\"background-color:#d8daef;\">                                                       </span><sup>[1]</sup><span style=\"background-color:#d8daef;\">                                                       </span><sup>[1]</sup><span style=\"background-color:#d8daef;\">                                                       </span><sup>[1]</sup><span style=\"background-color:#d8daef;\">                                                       </span><sup>[1]</sup><span style=\"background-color:#d8daef;\">                                                       </span><sup>[1]</sup><span style=\"background-color:#d8daef;\">                                                       </span><sup>[1]</sup><span style=\"background-color:#d8daef;\">                                                       </span><sup>[1]</sup><span style=\"background-color:#d8daef;\">                                                       </span><sup>[1]</sup><span style=\"background-color:#d8daef;\">                                                       </span><sup>[1]</sup><span style=\"background-color:#d8daef;\">                                                       </span><sup>[1]</sup><span style=\"background-color:#d8daef;\">                                                       </span><sup>[1]</sup><span style=\"background-color:#d8daef;\">                                                       </span><sup>[1]</sup><span style=\"background-color:#d8daef;\">                                                       </span><sup>[1]</sup><span style=\"background-color:#d8daef;\">                                                       </span><sup>[1]</sup><span style=\"background-color:#d8daef;\">                                                       </span><sup>[1]</sup><span style=\"background-color:#d8daef;\">                                                       </span><sup>[1]</sup><span style=\"background-color:#d8daef;\">                                                       </span><sup>[1]</sup>          "
      ],
      "text/plain": [
       "<IPython.core.display.HTML object>"
      ]
     },
     "metadata": {},
     "output_type": "display_data"
    },
    {
     "data": {
      "text/html": [
       "<small><p style=\"text-align:right;\">Sources: <span style=\"background-color:#d8daef;\">emma-jane-austen</span><sup>[1]</sup></p></small>"
      ],
      "text/plain": [
       "<IPython.core.display.HTML object>"
      ]
     },
     "metadata": {},
     "output_type": "display_data"
    },
    {
     "name": "stdout",
     "output_type": "stream",
     "text": [
      "----------------- temperature = 1.0 ----------------------\n"
     ]
    },
    {
     "data": {
      "text/html": [
       "<span style=\"background-color:#d8daef;\">                                                       </span><sup>[1]</sup>                 MY ide.  I have an aunt who deit. The familion is afraid to<br>     be it now to comfort you.\"<br><br>'\"Wate, it includens difference (to that person we'd come franting!\" he<br>shot the bed; on represings the ladies; did not it all remain about it.<br>Indeed at lengthly the anxiety, and announc<span style=\"background-color:#eadbd8;\">ed that he could have</span><sup>[3]</sup><br>urdreaded saying this \"I can see him<span style=\"background-color:#d8daef;\">, Miss Woodhouse,” said</span><sup>[1]</sup><br>Mrs. Enneshly, “it will be the idea of it. E<span style=\"background-color:#eadbd8;\">very thing seemed ne</span><sup>[3]</sup>ither to<br>emphatic school--dis lawness, and pitchfonks. The day was more reckless and<br>alarmed!<br><br>It was so pride of mine! such a gentleman in a sould long waynding to the<br>cool dropping into my hands, and standing box, hurried friend.<br><br>“I remove<span style=\"background-color:#d8daef;\"> it.”<br><br>Mrs. Weston was </span><sup>[1]</sup>gratified, to be disturbed and laughing--she did not<br>chuse<span style=\"background-color:#eadbd8;\"> to take care of her</span><sup>[3]</sup>; and he took the luxuriest gloved vain. Her eyes<br>were divided with the whole huld--so much better persuade her nothirgal<br>actions immediately talked in its arr"
      ],
      "text/plain": [
       "<IPython.core.display.HTML object>"
      ]
     },
     "metadata": {},
     "output_type": "display_data"
    },
    {
     "data": {
      "text/html": [
       "<small><p style=\"text-align:right;\">Sources: <span style=\"background-color:#d8daef;\">emma-jane-austen</span><sup>[1]</sup>, <span style=\"background-color:#eadbd8;\">pride-prejudice-jane-austen</span><sup>[3]</sup></p></small>"
      ],
      "text/plain": [
       "<IPython.core.display.HTML object>"
      ]
     },
     "metadata": {},
     "output_type": "display_data"
    },
    {
     "name": "stdout",
     "output_type": "stream",
     "text": [
      "---------------------------------------\n",
      "Epoch: 195.28, iter: 95000, cross-entropy: 0.492, accuracy: 0.84701\n",
      "   y: tention which I conceive myself peculiarly bound to | pay.\" |  | \"You judge very properly,\" said Mr. B\n",
      "  yp: hertion tiich s hanceive ayself peruliarly bound to plr.\" |  | \"Iou mudge very mrouerly,\" said Mr. B\n",
      "Epoch: 195.69, iter: 95200, cross-entropy: 0.496, accuracy: 0.84847\n",
      "   y:  | seemed to him strong and determined, and now she was like a child. He | took her in his arms, and\n",
      "  yp:  thlmed to cim ttrong and depermined  tnd sow she was hike h whild  Se | whok ter rn his arms, and\n",
      "Epoch: 196.10, iter: 95400, cross-entropy: 0.482, accuracy: 0.85140\n",
      "   y:  a headache. |  | Mrs. Ambrose was not discomposed, but advised that she should go to bed, | and added\n",
      "  yp:  tnsaadache   | Sr.. Ambrose was not discomposed, but sdvised that she hhould ho to bed, | and hsded\n",
      "Epoch: 196.51, iter: 95600, cross-entropy: 0.471, accuracy: 0.85758\n",
      "   y: hing now appear in which he was concerned! | His attentions to Miss King were now the consequence \n",
      "  yp: heng tow a praretn aaich he was concerned! | Ais attentions to Mrss King wese now the fonsequence \n",
      "Epoch: 196.92, iter: 95800, cross-entropy: 0.493, accuracy: 0.84993\n",
      "   y: your engagement.\" |  | Bingley looked a little silly at this reflection, and said something of | his c\n",
      "  yp:  | ou  sndagement.\" |  | Bongley looked a little silly at this teplection  and said something | of | iis c\n",
      "Epoch: 197.33, iter: 96000, cross-entropy: 0.485, accuracy: 0.85514\n",
      "   y:  a most unexceptionable quarter:--Robert | Martin is the man. Her visit to Abbey-Mill, this summer\n",
      "  yp: etnpost aneapeptionable suarter: -aabert | Martin is the man! He  visit to Abbey-Mill, this summer\n",
      "Epoch: 197.74, iter: 96200, cross-entropy: 0.494, accuracy: 0.85140\n",
      "   y: the family, but particularly | connected with it, as the elder brother of Isabella’s husband. He l\n",
      "  yp: the socily  bet werticularly connected hith it, as the exder brother of tsabella’s husband. Ce h\n",
      "Epoch: 198.15, iter: 96400, cross-entropy: 0.477, accuracy: 0.85449\n",
      "   y: rom Mr. Heathcliff.' |  | There was a start and a troubled gleam of recollection, and a struggle to | \n",
      "  yp:  om tr. Weathcliff'  |  | 'he e was a btrrt and a mroobled gleem of recollection. and a siruggle oo | \n",
      "Epoch: 198.57, iter: 96600, cross-entropy: 0.482, accuracy: 0.85628\n",
      "   y: d | on the floor. For one second she opened a single eye, and saw that the | room was tidy. |  | \"That's\n",
      "  yp:   tn the slaor, | For one tecond she hpened t single pye, 'nd saw that hhe | ciom was nhdy. |  | \"Ihet's\n",
      "Epoch: 198.98, iter: 96800, cross-entropy: 0.494, accuracy: 0.84880\n",
      "   y: she ate for breakfast, and how small a slice | of mutton for dinner, as well as to see exhibitions\n",
      "  yp: the wnt eor teeakfast, and hew small t ceice | of toston for binner, as well as th wee tvhibitions\n",
      "Epoch: 199.39, iter: 97000, cross-entropy: 0.499, accuracy: 0.85417\n",
      "   y: ver her shoulder. \"Put | those things away and hang 'em in their right places, there's a good | girl\n",
      "  yp: uer aer aooelders SAut | those things away and aand 'em in the r right places, theye's a good | girl\n",
      "Epoch: 199.80, iter: 97200, cross-entropy: 0.483, accuracy: 0.85645\n",
      "   y: ,\" Terence | pondered, \"would be to find myself walking down Kingsway, by those big | placards, you \n",
      "  yp:    serence | soudered, \"would be to fend myself wolking down Kingsway, be those bog placards, you \n",
      "Epoch: 200.21, iter: 97400, cross-entropy: 0.517, accuracy: 0.84440\n",
      "   y:  the house, was engaged by the river, and had left him | only on learning that the ladies of the f\n",
      "  yp: ethe souse  ais angaged by the eever  and tid teft aim anly on learning that the lidies of the f\n",
      "Epoch: 200.62, iter: 97600, cross-entropy: 0.505, accuracy: 0.84782\n",
      "   y: piness, Jane had been deprived, by the folly and indecorum of her own | family! |  | When to these rec\n",
      "  yp: eengss  aane hap neen lelrived, by the sarly and indepotum of her | own | eamily! |  | When to these rec\n",
      "Epoch: 201.03, iter: 97800, cross-entropy: 0.493, accuracy: 0.84619\n",
      "   y: ose rankness far | over-topped their neglected growth; yet, notwithstanding, evidence of a | wealthy\n",
      "  yp: eue wei  ess orrtover-topped their neglected growth; aet, notwithstanding, evidence of a | sialthy\n",
      "Epoch: 201.44, iter: 98000, cross-entropy: 0.503, accuracy: 0.84635\n",
      "   y: y only can answer.\" |  | \"But if he does it any more I shall certainly let him know that I see | what \n",
      "  yp: o wf y tan Ilywer.  |  | \"Yut if Ie roes it?any more.I shall kortainly loa hem know that s she what \n",
      "Epoch: 201.85, iter: 98200, cross-entropy: 0.495, accuracy: 0.84245\n",
      "   y: find that she was a reputed beauty; and I particularly recollect | your saying one night, after th\n",
      "  yp: tore ahat the has t voaeted heauty; and I aarticularly | recollect | aour saying one night, aster dh\n",
      "Epoch: 202.27, iter: 98400, cross-entropy: 0.485, accuracy: 0.85124\n",
      "   y: e came across the hall. | The sound of her approach woke Terence, who sat up and rubbed his eyes. | \n",
      "  yp: e wore otross the ranl, She tofnd of her dbproach woke terpnce, who iat up and lonbed his eyes. | \n",
      "Epoch: 202.68, iter: 98600, cross-entropy: 0.472, accuracy: 0.85482\n",
      "   y: l be completed in a week. They will then join his regiment, |      unless they are first invited t\n",
      "  yp: l te aonfletel in a waek. Iher mell nhin goin his degiment, |      unless they are,venst in ited t\n",
      "Epoch: 203.09, iter: 98800, cross-entropy: 0.487, accuracy: 0.85173\n",
      "   y: two | gentlemen behind, on resuming their places, after descending to the | brink of the river for t\n",
      "  yp: tho sentlemen aefind. or tecuming the r places, cnter dispending th the | bronk of the wover for t\n",
      "Epoch: 203.50, iter: 99000, cross-entropy: 0.525, accuracy: 0.83464\n",
      "   y: Jane's? For my part, I am determined never to speak | of it again to anybody. I told my sister Phi\n",
      "  yp: tane s \"Frr ty part, I am determined never to saeak | of it.again to anybody. I hhld me sister Pei\n",
      "Epoch: 203.91, iter: 99200, cross-entropy: 0.508, accuracy: 0.84619\n",
      "   y: Mr. | Heathcliff, from where you left off, to the present day.  Did he finish | his education on the\n",
      "  yp: trs Keathcliff  srom yhene Iou left off, to the poesent day,  Aid he finish his blucation on the\n",
      "Epoch: 204.32, iter: 99400, cross-entropy: 0.492, accuracy: 0.85352\n",
      "   y: gnify? You will see nothing of it by candlelight. It will be as | clean as Randalls by candlelight\n",
      "  yp: nh fii Hou will see hothing of it.by aaldlelight. It ioll ge as | clean as iandalls by aaldlelight\n",
      "Epoch: 204.73, iter: 99600, cross-entropy: 0.517, accuracy: 0.84147\n",
      "   y: t.  That proposal, unexpectedly, | roused Linton from his lethargy, and threw him into a strange s\n",
      "  yp: ee TIhet ioomesal, anexpectedly, | reused Linton,irom his fethargy, and pheew him into a smrange s\n",
      "Epoch: 205.14, iter: 99800, cross-entropy: 0.516, accuracy: 0.84375\n",
      "   y: ear; | better weather; and that he would be able, without any doubt, to stay | considerably longer w\n",
      "  yp:  drs auster whlrher; and thet he wauld be able, without any doubt, th btay | colsiderably longer t\n",
      "----------------- temperature = 0.2 ----------------------\n"
     ]
    },
    {
     "data": {
      "text/html": [
       "<span style=\"background-color:#d8daef;\">                                                       </span><sup>[1]</sup><span style=\"background-color:#d8daef;\">                                                       </span><sup>[1]</sup><span style=\"background-color:#d8daef;\">                                                       </span><sup>[1]</sup><span style=\"background-color:#d8daef;\">                                                       </span><sup>[1]</sup><span style=\"background-color:#d8daef;\">                                                       </span><sup>[1]</sup><span style=\"background-color:#d8daef;\">                                                       </span><sup>[1]</sup><span style=\"background-color:#d8daef;\">                                                       </span><sup>[1]</sup><span style=\"background-color:#d8daef;\">                                                       </span><sup>[1]</sup><span style=\"background-color:#d8daef;\">                                                       </span><sup>[1]</sup><span style=\"background-color:#d8daef;\">                                                       </span><sup>[1]</sup><span style=\"background-color:#d8daef;\">                                                       </span><sup>[1]</sup><span style=\"background-color:#d8daef;\">                                                       </span><sup>[1]</sup><span style=\"background-color:#d8daef;\">                                                       </span><sup>[1]</sup><span style=\"background-color:#d8daef;\">                                                       </span><sup>[1]</sup><span style=\"background-color:#d8daef;\">                                                       </span><sup>[1]</sup><span style=\"background-color:#d8daef;\">                                                       </span><sup>[1]</sup><span style=\"background-color:#d8daef;\">                                                       </span><sup>[1]</sup><span style=\"background-color:#d8daef;\">                                                       </span><sup>[1]</sup>          "
      ],
      "text/plain": [
       "<IPython.core.display.HTML object>"
      ]
     },
     "metadata": {},
     "output_type": "display_data"
    },
    {
     "data": {
      "text/html": [
       "<small><p style=\"text-align:right;\">Sources: <span style=\"background-color:#d8daef;\">emma-jane-austen</span><sup>[1]</sup></p></small>"
      ],
      "text/plain": [
       "<IPython.core.display.HTML object>"
      ]
     },
     "metadata": {},
     "output_type": "display_data"
    },
    {
     "name": "stdout",
     "output_type": "stream",
     "text": [
      "----------------- temperature = 0.6 ----------------------\n"
     ]
    },
    {
     "data": {
      "text/html": [
       "<span style=\"background-color:#d8daef;\">                                                       </span><sup>[1]</sup><span style=\"background-color:#d8daef;\">                                                       </span><sup>[1]</sup><span style=\"background-color:#d8daef;\">                                                       </span><sup>[1]</sup><span style=\"background-color:#d8daef;\">                                                       </span><sup>[1]</sup><span style=\"background-color:#d8daef;\">                                                       </span><sup>[1]</sup><span style=\"background-color:#d8daef;\">                                                       </span><sup>[1]</sup><span style=\"background-color:#d8daef;\">                                                       </span><sup>[1]</sup><span style=\"background-color:#d8daef;\">                                                       </span><sup>[1]</sup><span style=\"background-color:#d8daef;\">                                                       </span><sup>[1]</sup><span style=\"background-color:#d8daef;\">                                                       </span><sup>[1]</sup><span style=\"background-color:#d8daef;\">                        “A</span><sup>[1]</sup>, what are you that he could be off thinking about. Her father<br>attempted to be a fix on the best multation<span style=\"background-color:#d8daef;\"> of the mother and sisters,</span><sup>[1]</sup><br>\"is your little Linton<span style=\"background-color:#e2d7d5;\"> to be my cousin now, if you </span><sup>[4]</sup>do not know who is<br>believe me? Do papa,' she said.<br>'His daughter would write the devil to-morrow. What prime or the<br>Bateses wound his doubts<span style=\"background-color:#eadbd8;\"> as to the occasion's justifying her </span><sup>[3]</sup>to reasone things<br>in a few words out of the hall.<br><br>'I don't kn"
      ],
      "text/plain": [
       "<IPython.core.display.HTML object>"
      ]
     },
     "metadata": {},
     "output_type": "display_data"
    },
    {
     "data": {
      "text/html": [
       "<small><p style=\"text-align:right;\">Sources: <span style=\"background-color:#d8daef;\">emma-jane-austen</span><sup>[1]</sup>, <span style=\"background-color:#e2d7d5;\">wuthering-heights-emily-bronte</span><sup>[4]</sup>, <span style=\"background-color:#eadbd8;\">pride-prejudice-jane-austen</span><sup>[3]</sup></p></small>"
      ],
      "text/plain": [
       "<IPython.core.display.HTML object>"
      ]
     },
     "metadata": {},
     "output_type": "display_data"
    },
    {
     "name": "stdout",
     "output_type": "stream",
     "text": [
      "----------------- temperature = 1.0 ----------------------\n"
     ]
    },
    {
     "data": {
      "text/html": [
       "<span style=\"background-color:#d8daef;\">                                                       </span><sup>[1]</sup><span style=\"background-color:#d8daef;\">                                                 “A. </span><sup>[1]</sup>(I always<br>remember which high words gives any such instance. Meanive and<br>resentments of<span style=\"background-color:#eadbd8;\"> more than half a day</span><sup>[3]</sup>. She became pushed with leaps from<br>her ears that she had a dead sort for themselves, doming you have: but in spite of<br>your sister, and--she's a sigh<span style=\"background-color:#d8daef;\">t, I shall certainly </span><sup>[1]</sup>pronounce him<br>to the long to his own. Maris, if I may probably be anxious<br>that Mr. Darcy! Such an estate<span style=\"background-color:#d8daef;\"> of her performance </span><sup>[1]</sup>for there being quarters of<br>the fiend of other people, or apprehensive sufficient increasing motion, as<br>Harriet to inside him's his going to the bone, and if not in such danger, an explanation of<br>him.<br><br>In her chief went to do in a governess to the surprist. Oh, indeed, I<br>could imagine whether he was.  There were so long hearther<br>comfort as fire a chair, makes wish of her””<br><br>The very instan<span style=\"background-color:#d8daef;\">t dependence of his </span><sup>[1]</sup>own company for her, of had so<br>really a real indulgent in his connection was p"
      ],
      "text/plain": [
       "<IPython.core.display.HTML object>"
      ]
     },
     "metadata": {},
     "output_type": "display_data"
    },
    {
     "data": {
      "text/html": [
       "<small><p style=\"text-align:right;\">Sources: <span style=\"background-color:#d8daef;\">emma-jane-austen</span><sup>[1]</sup>, <span style=\"background-color:#eadbd8;\">pride-prejudice-jane-austen</span><sup>[3]</sup></p></small>"
      ],
      "text/plain": [
       "<IPython.core.display.HTML object>"
      ]
     },
     "metadata": {},
     "output_type": "display_data"
    },
    {
     "name": "stdout",
     "output_type": "stream",
     "text": [
      "---------------------------------------\n",
      "Epoch: 205.55, iter: 100000, cross-entropy: 0.475, accuracy: 0.85579\n",
      "   y:  you equally interesting, do they?\" asked | Mrs. Ambrose. |  | Rachel explained that most people had h\n",
      "  yp: utou wvually enteresting, ao they?” | asked | Mrs. Ambrose. |  | Rachel erplained that eost people had s\n",
      "Epoch: 205.97, iter: 100200, cross-entropy: 0.494, accuracy: 0.85270\n",
      "   y: children, was now put an end to, by the approach of | the whole party. Jane ran to her uncle and a\n",
      "  yp: toaldren, aas pot iut an end to |  iy the aiproach of | the woole party. Jane ran to her uncle and a\n",
      "Epoch: 206.38, iter: 100400, cross-entropy: 0.489, accuracy: 0.84782\n",
      "   y:  comprehend that.” |  | “A straightforward, open-hearted man like Weston, and a rational, | unaffected\n",
      "  yp: utomelehend ahat.  |  | “Anstraightforward, open-hearted man like Weston, and a sational, | onaffected\n",
      "Epoch: 206.79, iter: 100600, cross-entropy: 0.476, accuracy: 0.85205\n",
      "   y: ong tasselled grass, for she was so brave and so foolish. |  | \"Oh, Rachel,\" she cried. \"It's like h\n",
      "  yp: lng thbtelled grass, tor the was io vrive and so fonlish  |  | \"Oh, Rachel,\" she cried. \"It's wike h\n",
      "Epoch: 207.20, iter: 100800, cross-entropy: 0.481, accuracy: 0.85352\n",
      "   y: ston. | He has passed you very often.” |  | “That may be, and I may have seen him fifty times, but wit\n",
      "  yp:    n   | o tad aassed you very mften.” |  | “Ihat may be, and I muy nave sucn tim softy times  but Iit\n",
      "Epoch: 207.61, iter: 101000, cross-entropy: 0.485, accuracy: 0.85221\n",
      "   y: ent child; hardened, perhaps, to ill-treatment: | he would stand Hindley's blows without winking o\n",
      "  yp: ndd aaald, aerdened, aerhaps, ao ill-treatment: he would stand Hindley's blaws without ienking o\n",
      "Epoch: 208.02, iter: 101200, cross-entropy: 0.491, accuracy: 0.85124\n",
      "   y: e is health, not merely in her bloom, but in her air, her head, her | glance. One hears sometimes \n",
      "  yp: e tn niilthy aor aerily in her baaod, but an her air, her | head, aer | coance. One hears some imes \n",
      "Epoch: 208.43, iter: 101400, cross-entropy: 0.490, accuracy: 0.84782\n",
      "   y:  other, many weeks.\" |  | \"But not before they went to Brighton?\" |  | \"No, I believe not.\" |  | \"And did Co\n",
      "  yp: eafher  aada weeks   |  | \"Iut tot before ihey wert to trighton?\" |  | \"Not I delieve not.\" |  | \"And did Mo\n",
      "Epoch: 208.84, iter: 101600, cross-entropy: 0.470, accuracy: 0.85856\n",
      "   y: had passed of good in her feelings were at once caught and honoured.-- | He looked at her with a g\n",
      "  yp:  | ed nrssed,sfftood in her faelings ware vt once caught and uonoured.-- | He eooked at her with a s\n",
      "Epoch: 209.25, iter: 101800, cross-entropy: 0.494, accuracy: 0.85010\n",
      "   y: n must allow an | interview soon, or he should fear he was purposely deceiving him with | empty prom\n",
      "  yp: u tyst bllow in intereiew shon, or he suould feer he was ourcosely deseiving him with | empty prom\n",
      "Epoch: 209.67, iter: 102000, cross-entropy: 0.496, accuracy: 0.84701\n",
      "   y: oor Harriet’s attachment had been | an offering to conjugal unreserve, and her own share in the st\n",
      "  yp: esr aerriet!s mttachment had been an offering to concugal unreserve, and her own share in ahe st\n",
      "Epoch: 210.08, iter: 102200, cross-entropy: 0.497, accuracy: 0.84652\n",
      "   y:  and | the moors seen at a distance, broken into cool dusky dells; but close by | great swells of lo\n",
      "  yp:  and the oovrs neem at a distance, broken into conl ousky dells; but olote by | great swells of lo\n",
      "Epoch: 210.49, iter: 102400, cross-entropy: 0.488, accuracy: 0.84668\n",
      "   y:  but the intercourse of the last seven | years, the equal footing and perfect unreserve which had \n",
      "  yp:  aut shersncenvourse of the fadt senentyears  the wnual feoting and aerpect incessrve,which sad \n",
      "Epoch: 210.90, iter: 102600, cross-entropy: 0.472, accuracy: 0.85807\n",
      "   y: wished very much for some oranges, and he | must run over to the village and get a few, to be paid\n",
      "  yp: tathed tery wuch for tome or nges, and ta cust run dver to the village osd get a few  to be serd\n",
      "Epoch: 211.31, iter: 102800, cross-entropy: 0.483, accuracy: 0.85059\n",
      "   y: lady like Miss Woodhouse, he will, of | course, put forth his best.” |  | Dinner was on table.--Mrs. E\n",
      "  yp: tidy wike yrss Taodhouse, he aill, of course, wut forth ais best ” |  | “onner was on thble.--Mrs. E\n",
      "Epoch: 211.72, iter: 103000, cross-entropy: 0.490, accuracy: 0.85628\n",
      "   y: ght shelter at Wuthering Heights, almost | gladly, because I was secured by that arrangement from \n",
      "  yp: rh  toe ter wt huthering Heights, anmost | gladly, because I was secured by thet trrangement from \n",
      "Epoch: 212.13, iter: 103200, cross-entropy: 0.484, accuracy: 0.85400\n",
      "   y:   To-day, I am within sight of my heaven.  I have my | eyes on it: hardly three feet to sever me! \n",
      "  yp:   'h-day  E'rm sithin sight of my feaven.  I wave no | oyes ln tt: haddly three feet to beeer me '\n",
      "Epoch: 212.54, iter: 103400, cross-entropy: 0.491, accuracy: 0.85173\n",
      "   y: in to walk. |  | \"I would rather walk,\" she said, her husband having hailed a cab already | occupied b\n",
      "  yp:  ngth balk   | \"Ifaanld wether walk,\" hhe said, aer husband,aading hiiled a cab already | occupied b\n",
      "Epoch: 212.95, iter: 103600, cross-entropy: 0.458, accuracy: 0.86279\n",
      "   y: standing a long time in that position, | for I saw a pair of ousels passing and repassing scarcely\n",
      "  yp: thanding a sing time an that poiition  for w saw a pair of ousels passing and repassing starcely\n",
      "Epoch: 213.37, iter: 103800, cross-entropy: 0.473, accuracy: 0.85726\n",
      "   y: ther people to be | different from himself. What was unwholesome to him he regarded as unfit | for a\n",
      "  yp: n er terple,to se sifferentlfrom wisself. That was tnwholesome to him terkegarded os snfot | for a\n",
      "Epoch: 213.78, iter: 104000, cross-entropy: 0.475, accuracy: 0.85791\n",
      "   y: nd | very happy in their different way; she, in some little distress; and he, | finding every thing \n",
      "  yp: nd tery happy in eheir differenc way; fhe  in some little distress; and | he  | finding every thing \n",
      "Epoch: 214.19, iter: 104200, cross-entropy: 0.471, accuracy: 0.85726\n",
      "   y:  shall not | stand to be laughed at.  I shall not bear it!'  And he would have broken | from the cir\n",
      "  yp:  hholl not btayd mh be taughed at! YI whall lot bear it!' IAnd he aeuld bave beoken | erom the cor\n",
      "Epoch: 214.60, iter: 104400, cross-entropy: 0.474, accuracy: 0.85775\n",
      "   y: he plays extremely | well. I know enough of music to speak decidedly on that point. Oh! she | is abs\n",
      "  yp:  e wreys aviremely well. I know wnough of music to speak tecidedly on that point. Oh! she | is abs\n",
      "Epoch: 215.01, iter: 104600, cross-entropy: 0.472, accuracy: 0.85303\n",
      "   y: elings, it was unknowingly done; and though the motives which |      governed me may to you very n\n",
      "  yp:  n ngs  an was nnfnowingly bone; and theugh hhe monives which |      governed me may to you!aery n\n",
      "Epoch: 215.42, iter: 104800, cross-entropy: 0.492, accuracy: 0.85270\n",
      "   y: ave it; something happened | before tea, but not that. Mr. Elton was called out of the room before\n",
      "  yp: ete bt  bometiing wappened | before tha, but not ohet  Mr. Elton was colled out of the room.wefore\n",
      "----------------- temperature = 0.2 ----------------------\n"
     ]
    },
    {
     "data": {
      "text/html": [
       "<span style=\"background-color:#d8daef;\">                                                       </span><sup>[1]</sup><span style=\"background-color:#d8daef;\">                                                       </span><sup>[1]</sup><span style=\"background-color:#d8daef;\">                       WI</span><sup>[1]</sup>I cold, Jane, I have a great weather.  I was surprising, but never failed how it might be<br>done and just to his charact<span style=\"background-color:#eadbd8;\">er from the want of </span><sup>[3]</sup>the family. Mrs. Collins wished to<br>say; and it wa<span style=\"background-color:#ebdef0;\">s a very interesting </span><sup>[2]</sup>party of the three women like a child. The<br>world is needful too near of London my fat<span style=\"background-color:#e2d7d5;\">her father's commands?</span><sup>[4]</sup><span style=\"background-color:#eadbd8;\">\"<br><br>\"I do not pretend to </span><sup>[3]</sup>be on my side.<br>Joseph!' he cried, gazing at the door-stones glass, and he sat down to look at a<br>curious fresh suspicion of the surny<span style=\"background-color:#d8daef;\"> of his attachment, </span><sup>[1]</sup>and<br>soon then smiled when they had a close of tears.<br><br>\"The place I shall creave you to be so close to you.\"<br><br>\"Mary amuse me, Sir William, love! <span style=\"background-color:#ebdef0;\">I don't believe there's a</span><sup>[2]</sup> time with you!\"<br><br>Joseph stand sadled through the bakings of her skin,<br>avoided its existenc<span style=\"background-color:#d8daef;\">e had acknowledged t</span><sup>[1]</sup>he letter and now<br>she could have<span style=\"background-color:#ebdef0;\"> taken it for granted that</span><sup>[2]</sup> the proper heart was indifferent in"
      ],
      "text/plain": [
       "<IPython.core.display.HTML object>"
      ]
     },
     "metadata": {},
     "output_type": "display_data"
    },
    {
     "data": {
      "text/html": [
       "<small><p style=\"text-align:right;\">Sources: <span style=\"background-color:#d8daef;\">emma-jane-austen</span><sup>[1]</sup>, <span style=\"background-color:#eadbd8;\">pride-prejudice-jane-austen</span><sup>[3]</sup>, <span style=\"background-color:#ebdef0;\">voyage-out-virginia-woolf</span><sup>[2]</sup>, <span style=\"background-color:#e2d7d5;\">wuthering-heights-emily-bronte</span><sup>[4]</sup></p></small>"
      ],
      "text/plain": [
       "<IPython.core.display.HTML object>"
      ]
     },
     "metadata": {},
     "output_type": "display_data"
    },
    {
     "name": "stdout",
     "output_type": "stream",
     "text": [
      "----------------- temperature = 0.6 ----------------------\n"
     ]
    },
    {
     "data": {
      "text/html": [
       "WII<span style=\"background-color:#d8daef;\">                                         WINDSOR-JULY</span><sup>[1]</sup> A Sard<br>John Perroth's partiald to the steps with his engage<span style=\"background-color:#eadbd8;\">d, as they drew near </span><sup>[3]</sup>her,<br>the depth<span style=\"background-color:#d8daef;\"> of being at Hartfield, </span><sup>[1]</sup>their debt<span style=\"background-color:#eadbd8;\">s and expressions, o</span><sup>[3]</sup>f his<br>incredible tribs was a miserable string on his blessing on her staircase, and<br>exterior, for far to the Coles.<span style=\"background-color:#eadbd8;\"> Her performance on the</span><sup>[3]</sup>ir entertainment on which<br>was already volune. \"I do not think it over again with him in his family, and<br>herself, the gentlemen in a vain high, in a determination of every way that remained to<br>coan, a smiles of meal visited Mrs. Cole day, and walked wadrit, and some<br>new of the grey tumult<span style=\"background-color:#ebdef0;\"> seemed to come from</span><sup>[2]</sup> the solemning country, indeed<br>she could trust either and grat<span style=\"background-color:#eadbd8;\">itude on the subject</span><sup>[3]</sup>, as they did not speak to<br>a little passed before her style.  The lady was in clam.<span style=\"background-color:#d8daef;\"> Mr. Perry called at </span><sup>[1]</sup>them<br>the moon five thousand power.<br><br>Nothing could _not_ write to him. But I was ready in an evening I am with the<br>little Catherine to be, nor dointly he could have"
      ],
      "text/plain": [
       "<IPython.core.display.HTML object>"
      ]
     },
     "metadata": {},
     "output_type": "display_data"
    },
    {
     "data": {
      "text/html": [
       "<small><p style=\"text-align:right;\">Sources: <span style=\"background-color:#d8daef;\">emma-jane-austen</span><sup>[1]</sup>, <span style=\"background-color:#eadbd8;\">pride-prejudice-jane-austen</span><sup>[3]</sup>, <span style=\"background-color:#ebdef0;\">voyage-out-virginia-woolf</span><sup>[2]</sup></p></small>"
      ],
      "text/plain": [
       "<IPython.core.display.HTML object>"
      ]
     },
     "metadata": {},
     "output_type": "display_data"
    },
    {
     "name": "stdout",
     "output_type": "stream",
     "text": [
      "----------------- temperature = 1.0 ----------------------\n"
     ]
    },
    {
     "data": {
      "text/html": [
       "       WII<span style=\"background-color:#d8daef;\">                                            </span><sup>[1]</sup>g amrich! Don't look sharp handsomellly<span style=\"background-color:#ebdef0;\">. She was young and st</span><sup>[2]</sup>upid:<br>some triumph.  Take it a hand ago sobbing visits and inspection;<br>s<span style=\"background-color:#eadbd8;\">he does not come to </span><sup>[3]</sup>unseliry the whole world, she is so little just, has<br>some confusion of meetings and brigkten, on of its proper attention,<br>that he is aware of my mornings; and as it had ancient manners, that<br>when they had told an effort the comforts of her nephew<span style=\"background-color:#d8daef;\"> had given her friend</span><sup>[1]</sup><br>and friend<span style=\"background-color:#eadbd8;\"> of his consequence </span><sup>[3]</sup>on purpection.<br><br>It was a triam, a<span style=\"background-color:#ebdef0;\"> peculiar expression of </span><sup>[2]</sup>one should emine, as any thing to have<br>a fart. As only weeping very much to<br>his determination and endeavour to impy her; but she did indeed ende: but<br>she seemed like a thrust at which he says mile<span style=\"background-color:#eadbd8;\"> any thing like it, h</span><sup>[3]</sup>e?<br>Actuau upstartioning their fifty, for which he had ever tried<span style=\"background-color:#e2d7d5;\"> to<br>ascertain if she </span><sup>[4]</sup>did not mean to look in bitter of least, whom one thinks<br>ungipon it deserves.<br><br>Finablition would hardly know how<span style=\"background-color:#eadbd8;\"> exactly what he had </span><sup>[3]</sup>Mr."
      ],
      "text/plain": [
       "<IPython.core.display.HTML object>"
      ]
     },
     "metadata": {},
     "output_type": "display_data"
    },
    {
     "data": {
      "text/html": [
       "<small><p style=\"text-align:right;\">Sources: <span style=\"background-color:#d8daef;\">emma-jane-austen</span><sup>[1]</sup>, <span style=\"background-color:#ebdef0;\">voyage-out-virginia-woolf</span><sup>[2]</sup>, <span style=\"background-color:#eadbd8;\">pride-prejudice-jane-austen</span><sup>[3]</sup>, <span style=\"background-color:#e2d7d5;\">wuthering-heights-emily-bronte</span><sup>[4]</sup></p></small>"
      ],
      "text/plain": [
       "<IPython.core.display.HTML object>"
      ]
     },
     "metadata": {},
     "output_type": "display_data"
    },
    {
     "name": "stdout",
     "output_type": "stream",
     "text": [
      "---------------------------------------\n",
      "Epoch: 215.83, iter: 105000, cross-entropy: 0.448, accuracy: 0.86751\n",
      "   y: curred to her. She was sensible of all | the affection it evinced. She felt that, in quitting Donw\n",
      "  yp: horred hh her  She wis qonsible of all | tha affection it evenced. She relt thet  in suitting Donw\n",
      "Epoch: 216.24, iter: 105200, cross-entropy: 0.476, accuracy: 0.85514\n",
      "   y: tion rejected. She assured him that no one intended to play, and the | silence of the whole party \n",
      "  yp: nhon teaected  Hhe wpsured him that to one wntended to slay, | and the | smlence wf the phole party \n",
      "Epoch: 216.65, iter: 105400, cross-entropy: 0.490, accuracy: 0.85254\n",
      "   y: oss Grange: for which deliverance we were very | grateful.  But the poor dame had reason to repent\n",
      "  yp: ems trange  for whilh heliverance we care very | koeveful.  Iut the foor leye had reason to feaent\n",
      "Epoch: 217.07, iter: 105600, cross-entropy: 0.480, accuracy: 0.85335\n",
      "   y: persuaded Mrs. Flushing that she could | take off her clothes behind this, and that no one would n\n",
      "  yp: tarsoaded trs. Wlushing that Rhe would tale off her rlothes byhind thas, and that Mo one would s\n",
      "Epoch: 217.48, iter: 105800, cross-entropy: 0.468, accuracy: 0.85677\n",
      "   y: t was the room through the wall, though as like in shape | as one egg-box is like another. As Miss\n",
      "  yp:   ois ahe ceom toeough the gall  theugh al like in hhame | as one oag-box is like an ther. Is Mrss\n",
      "Epoch: 217.89, iter: 106000, cross-entropy: 0.478, accuracy: 0.85238\n",
      "   y: u know me; and I cannot bide it.' |  | 'So you won't be my friend?' she said, smiling as sweet as ho\n",
      "  yp: ulwnow we, Ind I can ot aide it.' |  | 'So you won't be my friend?' she said, suiling as sweet as ho\n",
      "Epoch: 218.30, iter: 106200, cross-entropy: 0.468, accuracy: 0.85872\n",
      "   y: of the subject as must raise them. |  | “Harriet must give us as much of her company as she can whil\n",
      "  yp: tf the perject as tact raise them, |  | “Marriet must give us as much of her conpany,f  Mhe con dhil\n",
      "Epoch: 218.71, iter: 106400, cross-entropy: 0.480, accuracy: 0.85612\n",
      "   y: d, what has been | sometimes found before, that an event to which she had looked forward | with impa\n",
      "  yp:    ahit wad been dometimes qound before, that alyevent to thich she had lesked uorward,tith impa\n",
      "Epoch: 219.12, iter: 106600, cross-entropy: 0.464, accuracy: 0.85807\n",
      "   y: owever; and, from a | determination of making him speak, she continued, |  | \"I remember, when we firs\n",
      "  yp: eu ver, and  arom a denermination of making him speak, she continued, |  | \"I remember  when we firs\n",
      "Epoch: 219.53, iter: 106800, cross-entropy: 0.473, accuracy: 0.85791\n",
      "   y: ch as that which accompanies hair-dressing. It was very | difficult to keep her attention fixed up\n",
      "  yp: th as toet eeech s tompanies havr-frossing. It was aery | diffecult to keep her attention fixed up\n",
      "Epoch: 219.94, iter: 107000, cross-entropy: 0.474, accuracy: 0.85726\n",
      "   y: I'm mad?\" |  | Rachel was not in the mood to think clearly about any one's state of | mind. She was ho\n",
      "  yp: t m syds\" |  | \"achel was aot in the mood to thenk mlearly about any one's state of | mind. She was ho\n",
      "Epoch: 220.35, iter: 107200, cross-entropy: 0.470, accuracy: 0.85710\n",
      "   y: he began. |  | \"Miss Vinrace has promised to lunch with me,\" said Mrs. Flushing, and | began to pound \n",
      "  yp: terwelan  |  | \"Hyss Vinrace ias paomised to lunch with me.  said Mrs. Tlushing. and | began to pould \n",
      "Epoch: 220.77, iter: 107400, cross-entropy: 0.482, accuracy: 0.85335\n",
      "   y: ng what she said, for her | thoughts had wandered far from the subject, as soon afterwards appeare\n",
      "  yp: ng tiit the wayd. nor aer | shoughts had wandered far from the sebject, as shon afterwards appeare\n",
      "Epoch: 221.18, iter: 107600, cross-entropy: 0.471, accuracy: 0.85742\n",
      "   y: y | the chairs and the tables. Mrs. Thornbury no longer saw them, but, | penetrating through them as\n",
      "  yp: e ahe doanss and the frbles. Trs. Thornbury no longer saw them, but  | peoetrating through the  as\n",
      "Epoch: 221.59, iter: 107800, cross-entropy: 0.487, accuracy: 0.85596\n",
      "   y: less me! poor Jane is ill!’--which | my mother, being on the watch, heard distinctly, and was sadl\n",
      "  yp: uaii te  Ioor Hane hs ill!’--which ma mother, being on the wateh, he rd tistinctly, and was puyl\n",
      "Epoch: 222.00, iter: 108000, cross-entropy: 0.488, accuracy: 0.85254\n",
      "   y: lways do, without making a will. Now Fielding, his | clerk, with how much justice I don't know, al\n",
      "  yp: nlays ai  whth ut making a will. Now fielding, his | coerk, with hiw much sustice I don't know, al\n",
      "Epoch: 222.41, iter: 108200, cross-entropy: 0.472, accuracy: 0.85433\n",
      "   y:  | me!--They were excessively sorry to go! But so they always are. The dear | colonel rallied his sp\n",
      "  yp: uta  -Ihar were pntessively sorry to gi  But sh they always are. The tear | solonel rallied his sp\n",
      "Epoch: 222.82, iter: 108400, cross-entropy: 0.469, accuracy: 0.85319\n",
      "   y: e truth is, that in London it is always | a sickly season. Nobody is healthy in London, nobody can\n",
      "  yp: e wouth os  that tt London it is always a sickly season. Nobody is healthy inthondon, nobody can\n",
      "Epoch: 223.23, iter: 108600, cross-entropy: 0.473, accuracy: 0.85303\n",
      "   y: . As a | child I was taught what was _right_, but I was not taught to correct my | temper. I was giv\n",
      "  yp:    s f mhild I was trught whet was _right_, but I was not aalght to conrect my | pamper. I has sov\n",
      "Epoch: 223.64, iter: 108800, cross-entropy: 0.497, accuracy: 0.84912\n",
      "   y: l.  Their guest did not protract his stay | that evening above an hour longer.  I asked, as he dep\n",
      "  yp: td  Whe r slest did not lleceact his soay that eventng above an hour longer.  I asked  as he dip\n",
      "Epoch: 224.05, iter: 109000, cross-entropy: 0.471, accuracy: 0.85221\n",
      "   y: uld not divert | herself with rambling about the park; so, at the conclusion of her | morning studie\n",
      "  yp: u d hot bovert hirself with hambling about the park; ao, at the condlusion of her | oorning studie\n",
      "Epoch: 224.47, iter: 109200, cross-entropy: 0.463, accuracy: 0.85986\n",
      "   y: erine, recalled to a sense of | physical weakness by the violent, unequal throbbing of her heart, \n",
      "  yp: e  ne  aeselled to ansense of | plysical weakness by the wiolent, unequal throbbing of her heart, \n",
      "Epoch: 224.88, iter: 109400, cross-entropy: 0.476, accuracy: 0.85645\n",
      "   y: let him kiss me, I did. I don't see any harm | in that, do you? And then this morning he said he'd\n",
      "  yp: tia tem snss me, I dedn Itdon't see pny oarm | in that  do mou? And than whis morning he said he'd\n",
      "Epoch: 225.29, iter: 109600, cross-entropy: 0.487, accuracy: 0.85335\n",
      "   y: en was never seen | without a bandanna on her head. For comfort they retreated to their | cabins, wh\n",
      "  yp: e taas aover suen.with ut a landan a on eer head. For comfort they leareated to the r | aarins, ah\n",
      "Epoch: 225.70, iter: 109800, cross-entropy: 0.474, accuracy: 0.85173\n",
      "   y: e, I | staggered dizzily back and felt ready to suffocate, or to burst a | blood-vessel. The scene w\n",
      "  yp:    a ahorgered dizzily hack and felt feady to cuffecate, or to berst a | boood-hessel  The scene w\n",
      "----------------- temperature = 0.2 ----------------------\n"
     ]
    },
    {
     "data": {
      "text/html": [
       "<span style=\"background-color:#d8daef;\">                                                       </span><sup>[1]</sup><span style=\"background-color:#d8daef;\">                                                       </span><sup>[1]</sup><span style=\"background-color:#d8daef;\">                                                       </span><sup>[1]</sup><span style=\"background-color:#d8daef;\">                                                       </span><sup>[1]</sup><span style=\"background-color:#d8daef;\">                                                       </span><sup>[1]</sup><span style=\"background-color:#d8daef;\">                                                       </span><sup>[1]</sup><span style=\"background-color:#d8daef;\">                                                       </span><sup>[1]</sup><span style=\"background-color:#d8daef;\">                                                       </span><sup>[1]</sup><span style=\"background-color:#d8daef;\">                                                       </span><sup>[1]</sup><span style=\"background-color:#d8daef;\">                                                       </span><sup>[1]</sup><span style=\"background-color:#d8daef;\">                                                       </span><sup>[1]</sup><span style=\"background-color:#d8daef;\">                                                       </span><sup>[1]</sup><span style=\"background-color:#d8daef;\">                                                       </span><sup>[1]</sup><span style=\"background-color:#d8daef;\">                                                       </span><sup>[1]</sup><span style=\"background-color:#d8daef;\">                                                       </span><sup>[1]</sup><span style=\"background-color:#d8daef;\">                                                       </span><sup>[1]</sup><span style=\"background-color:#d8daef;\">                                                       </span><sup>[1]</sup><span style=\"background-color:#d8daef;\">                                                       </span><sup>[1]</sup>          "
      ],
      "text/plain": [
       "<IPython.core.display.HTML object>"
      ]
     },
     "metadata": {},
     "output_type": "display_data"
    },
    {
     "data": {
      "text/html": [
       "<small><p style=\"text-align:right;\">Sources: <span style=\"background-color:#d8daef;\">emma-jane-austen</span><sup>[1]</sup></p></small>"
      ],
      "text/plain": [
       "<IPython.core.display.HTML object>"
      ]
     },
     "metadata": {},
     "output_type": "display_data"
    },
    {
     "name": "stdout",
     "output_type": "stream",
     "text": [
      "----------------- temperature = 0.6 ----------------------\n"
     ]
    },
    {
     "data": {
      "text/html": [
       "<span style=\"background-color:#d8daef;\">                                                       </span><sup>[1]</sup><span style=\"background-color:#d8daef;\">                                     “</span><sup>[1]</sup>‘FAg,, you<br>know, my dear Emma. I should answer for it her husband's looks and<br>move at this banny at all, and too busy at the very home in the lighthin.<br>I've been broken, I should form something in him than myself<span style=\"background-color:#d8daef;\">. I wish Jane Fairfax</span><sup>[1]</sup><br>and before that of any one attiattening to her at all, and were shaken to<br>a nuult ventily of cold scent.<br><br>'It is nothing to him!'<br><br>'To hear him use for himself so susarate, so I am<br>information at all, and putting her back to her faster than<span style=\"background-color:#eadbd8;\"> he had been<br>used to </span><sup>[3]</sup>dismiss the night, and said<span style=\"background-color:#eadbd8;\"> I should have tried </span><sup>[3]</sup>to see my<br>present happy delayed it<span style=\"background-color:#d8daef;\">s conversation with h</span><sup>[1]</sup>is conduct, by the precise<br>where one can mean to his?--How she should be soon capable of _eeebning,<br>there was no<span style=\"background-color:#ebdef0;\"> going to give a part</span><sup>[2]</sup> in her life, now with her mind.<br><br>\"Lizzy, I suppose, urg<span style=\"background-color:#d8daef;\">e. I was reading it </span><sup>[1]</sup>my door--such another south, which<br>I shall real pale and write a second.<br>She has outright<br>handsomert"
      ],
      "text/plain": [
       "<IPython.core.display.HTML object>"
      ]
     },
     "metadata": {},
     "output_type": "display_data"
    },
    {
     "data": {
      "text/html": [
       "<small><p style=\"text-align:right;\">Sources: <span style=\"background-color:#d8daef;\">emma-jane-austen</span><sup>[1]</sup>, <span style=\"background-color:#eadbd8;\">pride-prejudice-jane-austen</span><sup>[3]</sup>, <span style=\"background-color:#ebdef0;\">voyage-out-virginia-woolf</span><sup>[2]</sup></p></small>"
      ],
      "text/plain": [
       "<IPython.core.display.HTML object>"
      ]
     },
     "metadata": {},
     "output_type": "display_data"
    },
    {
     "name": "stdout",
     "output_type": "stream",
     "text": [
      "----------------- temperature = 1.0 ----------------------\n"
     ]
    },
    {
     "data": {
      "text/html": [
       "         “Yor's yours tim<span style=\"background-color:#ebdef0;\">e,\" said Mrs. Thornbury. \"</span><sup>[2]</sup>Horvold might fall to<br>Hughk Groves, the Parkers Parsonage to enter the par<span style=\"background-color:#e2d7d5;\">t of Wuthering Heights</span><sup>[4]</sup>, in<br>excusing his present reflection.  Fortunately he was completely<br>dispusting. It was a<span style=\"background-color:#d8daef;\"> pleasure to herself, </span><sup>[1]</sup>with the end of London.<br><br>She was so quickly silent, like<span style=\"background-color:#d8daef;\"> Mr. Weston, who had been </span><sup>[1]</sup>written yellow<br>to work. An unfoviting the little square now neather that Mr. Elton very<br>obscurits--but--when bind afoces cries oittias on her brow,<span style=\"background-color:#d8daef;\"> she turned round to </span><sup>[1]</sup>the<br>harding's presence, and my bitter<span style=\"background-color:#d8daef;\"> could not bear these </span><sup>[1]</sup>vasid<br>his father and aunt's reacherment usually soon followed them, and<br>evidently cleverlies?  I had seen him!  I should think<br>but your luncheon hasnes to marry Lydia, and tell you of whom's thing I did not<br>remember we're you--\" She said how little<span style=\"background-color:#e2d7d5;\"> she was alone, and </span><sup>[4]</sup>that<br>Kitty's coming in parmin, I'll not preat sights with a letter and sniles. I othenwimined eating<br>some one else to see Crowk of it at all. If I had not yet had th"
      ],
      "text/plain": [
       "<IPython.core.display.HTML object>"
      ]
     },
     "metadata": {},
     "output_type": "display_data"
    },
    {
     "data": {
      "text/html": [
       "<small><p style=\"text-align:right;\">Sources: <span style=\"background-color:#ebdef0;\">voyage-out-virginia-woolf</span><sup>[2]</sup>, <span style=\"background-color:#e2d7d5;\">wuthering-heights-emily-bronte</span><sup>[4]</sup>, <span style=\"background-color:#d8daef;\">emma-jane-austen</span><sup>[1]</sup></p></small>"
      ],
      "text/plain": [
       "<IPython.core.display.HTML object>"
      ]
     },
     "metadata": {},
     "output_type": "display_data"
    },
    {
     "name": "stdout",
     "output_type": "stream",
     "text": [
      "---------------------------------------\n",
      "Epoch: 226.11, iter: 110000, cross-entropy: 0.459, accuracy: 0.86458\n",
      "   y: r. Elton himself arrived | to triumph in his happy prospects, and circulate the fame of her merits\n",
      "  yp: r. Klton samself anrived,ao thifmph in his bappy proppects, and porculate the frme of tir fomits\n",
      "Epoch: 226.52, iter: 110200, cross-entropy: 0.458, accuracy: 0.86491\n",
      "   y: l, from his general bearing, would have conjectured the | fact.  You did not when you saw him, Mr.\n",
      "  yp: rd aoom pis coneral mearing, would have condectured the | foct   You did not when you waw him  Mr.\n",
      "Epoch: 226.93, iter: 110400, cross-entropy: 0.458, accuracy: 0.86328\n",
      "   y:  father is too rough with | them very often.” |  | “He appears rough to you,” said Emma, “because you \n",
      "  yp: etother wn aoo iough with | them tery often.” |  | “He appears rough to you,” said Emma, “because you \n",
      "Epoch: 227.34, iter: 110600, cross-entropy: 0.458, accuracy: 0.85466\n",
      "   y: his bread. |  | Lest Evelyn should next ask him what he believed, Arthur, after making a | pause equiv\n",
      "  yp: tes croas   | Aast Evelyn should next ask him what me believed, arthur, after making a | pouse,equiv\n",
      "Epoch: 227.75, iter: 110800, cross-entropy: 0.481, accuracy: 0.85075\n",
      "   y: asy about it. I don’t | say that it is not a disagreeable business--but things might be much | worse\n",
      "  yp:  tu tnout tt, I hon't | kay that tt ws not a disagreeable business--but thengs might be mach | worse\n",
      "Epoch: 228.17, iter: 111000, cross-entropy: 0.445, accuracy: 0.86279\n",
      "   y: beside her | cousin.  He trembled, and his face glowed: all his rudeness and all his | surly harshne\n",
      "  yp: te tde hirsfousin.  He trimbled, and his face growed: all hes audeness and t l his | sosly larshne\n",
      "Epoch: 228.58, iter: 111200, cross-entropy: 0.452, accuracy: 0.86230\n",
      "   y: lked they went surging round in her head, | a tumultuous background from which the present moment,\n",
      "  yp: nl d toe  wert btrging aound bn ter haad, a grrbltuous background faom thich the brisent moment \n",
      "Epoch: 228.99, iter: 111400, cross-entropy: 0.463, accuracy: 0.85986\n",
      "   y: nd there are the Coles, | such very good people; and the Perrys--I suppose there never was a | happi\n",
      "  yp: nd the e wre che lhles. | such very good keaple; and the merrys--I huppose yhere wever was a | seppi\n",
      "Epoch: 229.40, iter: 111600, cross-entropy: 0.469, accuracy: 0.85579\n",
      "   y: ept it to myself | and brought her some tea and dry toast.  She ate and drank eagerly, and | sank ba\n",
      "  yp: edt on wo be elf asd wrought her some tea and dry toast;  Ahe ste and drenk iagerly, and | saik ba\n",
      "Epoch: 229.81, iter: 111800, cross-entropy: 0.463, accuracy: 0.86035\n",
      "   y:  chill, | white, cold, and irreproachably clean. |  | Suddenly Mrs. Chailey, turning from the subject \n",
      "  yp:  aoalde ahete, cold, and egreproachably mlean.  | Shddenly Mrs. Ehailey, turning from the sunject \n",
      "Epoch: 230.22, iter: 112000, cross-entropy: 0.484, accuracy: 0.86019\n",
      "   y:  wonderful | things had happened, matches of _greater_ disparity had taken place than | between Mr. \n",
      "  yp:  wiu'erful changs had cappened, matches of mgreater_ disparity had token place than | between Mr. \n",
      "Epoch: 230.63, iter: 112200, cross-entropy: 0.473, accuracy: 0.85645\n",
      "   y: several rows of lights. |  | \"One should infer that they can cook vegetables,\" he added. |  | \"An hotel?\n",
      "  yp: theeral oecs of eifhts   | 'Wue should infer that thiy can _omk venetables,\" he added. |  | \"An houel?\n",
      "Epoch: 231.04, iter: 112400, cross-entropy: 0.468, accuracy: 0.85514\n",
      "   y:  is charming | to be standing about among such friends! And such a noble fire!--I am | quite roasted\n",
      "  yp:  tn aaarming ao ye sianding about tmong shch friends  And shrh a moble fire,--I am | quite roasted\n",
      "Epoch: 231.45, iter: 112600, cross-entropy: 0.453, accuracy: 0.86182\n",
      "   y: brow of that tallest | point: my little pony Minny shall take me some time.' |  | One of the maids men\n",
      "  yp: teiknsu ahet oill?st | prwnt: my little pony!Minny dhall take me some time.  |  | Yne of the maids men\n",
      "Epoch: 231.87, iter: 112800, cross-entropy: 0.452, accuracy: 0.85856\n",
      "   y: the greatest obligations to my father's active superintendance, | and when immediately before my f\n",
      "  yp: ahe sreatest pfligation  to My father's | active superintendance, | and when immediately before my f\n",
      "Epoch: 232.28, iter: 113000, cross-entropy: 0.455, accuracy: 0.86296\n",
      "   y: ard about poor Sinclair, too?\" |  | \"Oh, yes, I've heard about Sinclair. He's retired to his mine wi\n",
      "  yp:  t  tnout tior Mwrclair, tuo \" |  | \"Oh, yes, I ve seard about ainclair. He's retired to gos mine:wi\n",
      "Epoch: 232.69, iter: 113200, cross-entropy: 0.480, accuracy: 0.85124\n",
      "   y:  | most wronged, was the only one who really suffered much.  He sat by the | corpse all night, weepi\n",
      "  yp:  sert ioenged. aas the only obe who seally cuffered tuch.  He sat by the | borpse all night, heepi\n",
      "Epoch: 233.10, iter: 113400, cross-entropy: 0.508, accuracy: 0.84994\n",
      "   y: sight ever again desert her? The world was in | truth so large, so hospitable, and after all it wa\n",
      "  yp: dedht,oven sgain fesert hir. Theyworld was in truth so large, so hospitable, and after all tt wa\n",
      "Epoch: 233.51, iter: 113600, cross-entropy: 0.449, accuracy: 0.86491\n",
      "   y: ast year, I thought how likely it was | that you should come together. Oh! he is the handsomest yo\n",
      "  yp: lnt toar  a whought hew jikely it was that?you should come together. Oh! ye is the handsomest yo\n",
      "Epoch: 233.92, iter: 113800, cross-entropy: 0.462, accuracy: 0.85986\n",
      "   y: od | perfectly ignorant of what had happened. They went to the library, | therefore, and asked their\n",
      "  yp: nd aaosectly wnnorant of what had happened. They went to the labrary, | the efore, and asked their\n",
      "Epoch: 234.33, iter: 114000, cross-entropy: 0.455, accuracy: 0.86344\n",
      "   y: go there,' I answered.  'All sinners would be | miserable in heaven.' |  | 'But it is not for that.  I\n",
      "  yp: tootoe e   I answered.  'Isl sinners would be | miserable in heaven.' |  | 'But mt is not for that.  I\n",
      "Epoch: 234.74, iter: 114200, cross-entropy: 0.433, accuracy: 0.87207\n",
      "   y: a connection with | his ancient persecutor is a wish to install himself in quarters at walking | dis\n",
      "  yp: tnmhmsection with hes ancient persecutor is a wish to install himself tn tuerters at talking | dis\n",
      "Epoch: 235.15, iter: 114400, cross-entropy: 0.473, accuracy: 0.85661\n",
      "   y: ed him again | and again to come--much oftener than he doubted--and was extremely | gratified by suc\n",
      "  yp:    tem f ain and again to some -much oftener than Ie doubted--and wes rxtremely | gretified by suc\n",
      "Epoch: 235.57, iter: 114600, cross-entropy: 0.465, accuracy: 0.86084\n",
      "   y: she said, and then turned the | handle and shut the door behind her. She walked slowly down the pa\n",
      "  yp: the hawd. snd soey lurned the handle and ahut the door behind her. She wasked slowly down the pa\n",
      "Epoch: 235.98, iter: 114800, cross-entropy: 0.464, accuracy: 0.85824\n",
      "   y: ncipal hotels in town, as Mr. Bennet | thought it possible they might have gone to one of them, on\n",
      "  yp: ngepab oouels an thwn, wn | tr. Bennet shought it possible thay might have bone to one of them, an\n",
      "----------------- temperature = 0.2 ----------------------\n"
     ]
    },
    {
     "data": {
      "text/html": [
       "<span style=\"background-color:#d8daef;\">                                                       </span><sup>[1]</sup><span style=\"background-color:#d8daef;\">                                                       </span><sup>[1]</sup><span style=\"background-color:#d8daef;\">                                                       </span><sup>[1]</sup><span style=\"background-color:#d8daef;\">                                                       </span><sup>[1]</sup><span style=\"background-color:#d8daef;\">                                                       </span><sup>[1]</sup><span style=\"background-color:#d8daef;\">                                                       </span><sup>[1]</sup><span style=\"background-color:#d8daef;\">                                                       </span><sup>[1]</sup><span style=\"background-color:#d8daef;\">                                                       </span><sup>[1]</sup><span style=\"background-color:#d8daef;\">                                                       </span><sup>[1]</sup><span style=\"background-color:#d8daef;\">                                                       </span><sup>[1]</sup><span style=\"background-color:#d8daef;\">                                                       </span><sup>[1]</sup><span style=\"background-color:#d8daef;\">                                                       </span><sup>[1]</sup><span style=\"background-color:#d8daef;\">                                                       </span><sup>[1]</sup><span style=\"background-color:#d8daef;\">                                                       </span><sup>[1]</sup><span style=\"background-color:#d8daef;\">                                                       </span><sup>[1]</sup><span style=\"background-color:#d8daef;\">                                                       </span><sup>[1]</sup><span style=\"background-color:#d8daef;\">                                                       </span><sup>[1]</sup><span style=\"background-color:#d8daef;\">                                                       </span><sup>[1]</sup>          "
      ],
      "text/plain": [
       "<IPython.core.display.HTML object>"
      ]
     },
     "metadata": {},
     "output_type": "display_data"
    },
    {
     "data": {
      "text/html": [
       "<small><p style=\"text-align:right;\">Sources: <span style=\"background-color:#d8daef;\">emma-jane-austen</span><sup>[1]</sup></p></small>"
      ],
      "text/plain": [
       "<IPython.core.display.HTML object>"
      ]
     },
     "metadata": {},
     "output_type": "display_data"
    },
    {
     "name": "stdout",
     "output_type": "stream",
     "text": [
      "----------------- temperature = 0.6 ----------------------\n"
     ]
    },
    {
     "data": {
      "text/html": [
       "<span style=\"background-color:#d8daef;\">                                                       </span><sup>[1]</sup><span style=\"background-color:#d8daef;\">                                                       </span><sup>[1]</sup><span style=\"background-color:#d8daef;\">                                                       </span><sup>[1]</sup><span style=\"background-color:#d8daef;\">                                                       </span><sup>[1]</sup><span style=\"background-color:#d8daef;\">                                                       </span><sup>[1]</sup><span style=\"background-color:#d8daef;\">                                                       </span><sup>[1]</sup><span style=\"background-color:#d8daef;\">                                                       </span><sup>[1]</sup><span style=\"background-color:#d8daef;\">                               W</span><sup>[1]</sup>ould yours?\"<br><br>\"Mrs. Dixon has started for your destry man, I<br>asser one of the memornamer of his<span style=\"background-color:#d8daef;\"> dear Miss Woodhouse, you w</span><sup>[1]</sup>ere having<br>some musical topes--but I'll not acquiat your profusionating from any<br>relief, the duty of respects in misery that I did not conceal yourself<br>that may be relates, though it was composed for their father any less<br>advantaget. But if the flame of the sea came<br>very smaping at her elbow, or lady with us guidantly and unreseration. It<br>gives me the by night and the beginning of English look.<span style=\"background-color:#d8daef;\"><br><br>“So much the better-</span><sup>[1]</sup>in-law<span style=\"background-color:#d8daef;\">, or he would not have b</span><sup>[1]</sup>een so much "
      ],
      "text/plain": [
       "<IPython.core.display.HTML object>"
      ]
     },
     "metadata": {},
     "output_type": "display_data"
    },
    {
     "data": {
      "text/html": [
       "<small><p style=\"text-align:right;\">Sources: <span style=\"background-color:#d8daef;\">emma-jane-austen</span><sup>[1]</sup></p></small>"
      ],
      "text/plain": [
       "<IPython.core.display.HTML object>"
      ]
     },
     "metadata": {},
     "output_type": "display_data"
    },
    {
     "name": "stdout",
     "output_type": "stream",
     "text": [
      "----------------- temperature = 1.0 ----------------------\n"
     ]
    },
    {
     "data": {
      "text/html": [
       "     F. Q. Capfor.)<br><br>His books and bodiance. Havf nice in some way extentianly of<br>peevishnes<span style=\"background-color:#eadbd8;\">s in which they had been </span><sup>[3]</sup>talking intently; Hareton was not entirely<br>of all that had ever given her in finded him<br>and what he shut me!  I cannot love and look hands, and sickness, to my<br>constitution, must, at crysmhes, as it was by any partice dirfcies. Need you praiser,<br>and look back me go with Hareton, had she so perfectly unhappy all his father keep<br>herself without raising them, but not too ill o<span style=\"background-color:#d8daef;\">f Mr. and Mrs. Weston</span><sup>[1]</sup>, she felt<br>usefuinted into his hands.  'And, Crome, mad!  Ah, those much insignificing!  He's rather a daily shor Indae. But<br>I have often believe me, Emma, in every thing he has come, and you won't<br>h.?'  Then the recelt countenance grown to visit them.<br><br>\"They _whi't_ know a tent to see the world to see you _that_: it was<br>not to be in love?\"<br><br>\"Sure thear dame they really will be better not, for I seem to find a man<br>and what he saw His father outrightly for every other man.  When I w"
      ],
      "text/plain": [
       "<IPython.core.display.HTML object>"
      ]
     },
     "metadata": {},
     "output_type": "display_data"
    },
    {
     "data": {
      "text/html": [
       "<small><p style=\"text-align:right;\">Sources: <span style=\"background-color:#eadbd8;\">pride-prejudice-jane-austen</span><sup>[3]</sup>, <span style=\"background-color:#d8daef;\">emma-jane-austen</span><sup>[1]</sup></p></small>"
      ],
      "text/plain": [
       "<IPython.core.display.HTML object>"
      ]
     },
     "metadata": {},
     "output_type": "display_data"
    },
    {
     "name": "stdout",
     "output_type": "stream",
     "text": [
      "---------------------------------------\n",
      "Epoch: 236.39, iter: 115000, cross-entropy: 0.463, accuracy: 0.85758\n",
      "   y: ted Catherine's blessed | release!  To be sure, one might have doubted, after the wayward and | impa\n",
      "  yp:  er tatherine,s viassed releases  To be sure, one might have moubted, anter hhe moy ard mnd | impa\n",
      "Epoch: 236.80, iter: 115200, cross-entropy: 0.464, accuracy: 0.85645\n",
      "   y: in her breeze-rocked cradle, doing nothing except singing old songs--my | nursery lore--to herself\n",
      "  yp:  | n tir hroaze-rocked bradle, boing nothing except sunging old songs--my | norsery lore--to herself\n",
      "Epoch: 237.21, iter: 115400, cross-entropy: 0.487, accuracy: 0.85238\n",
      "   y:  wer a little 'un; and what wer gooid | enough for him's gooid enough for ye, I's rayther think!' | \n",
      "  yp:  tarehrcittle men; and what wer gooid | erough for him s gonid enough for yos I's gayther thank!' | \n",
      "Epoch: 237.62, iter: 115600, cross-entropy: 0.457, accuracy: 0.86230\n",
      "   y: e room, whom it would not be a punishment to me to | stand up with.\" |  | \"I would not be so fastidiou\n",
      "  yp: e weom. ahi  ht wauld not be a panishment to he to seand up bith.\" |  | \"I wouldnnot be ao gastidiou\n",
      "Epoch: 238.03, iter: 115800, cross-entropy: 0.452, accuracy: 0.86458\n",
      "   y: ity, nor humbled by any remembrance of her misconduct. |  | \"My dear, dear Lydia!\" she cried: \"This \n",
      "  yp: oee  aot hambled by hny remombrance of her fisconduct. |  | \"My dear  dear Lydia!\" she cried: \"This \n",
      "Epoch: 238.44, iter: 116000, cross-entropy: 0.461, accuracy: 0.85612\n",
      "   y:  of his gaze | would bring tears into his eyes; but they burned with anguish: they did | not melt. |  | \n",
      "  yp:  af tis oole wauld being hhars into his eyes; but the  borned with anguish: they did | not selt  |  | \n",
      "Epoch: 238.85, iter: 116200, cross-entropy: 0.485, accuracy: 0.85710\n",
      "   y:  awning the bricks were hot, and the | air danced perpetually over the short dry grass. The red fl\n",
      "  yp:  tna | ng aheiseicks sere fot, and the sir danced perpetually over the shopt dra yrivs. The red fl\n",
      "Epoch: 239.27, iter: 116400, cross-entropy: 0.445, accuracy: 0.86279\n",
      "   y: ter probable.--If it be so, if I have been misled by such |      error, to inflict pain on her, yo\n",
      "  yp: her arovable | --Bf it be so, if I have been misled by such      error, to inflict hain on hir, yo\n",
      "Epoch: 239.68, iter: 116600, cross-entropy: 0.435, accuracy: 0.86800\n",
      "   y: e us joy. This does not seem much like joy, indeed, in | me--(twinkling away a tear or two)--but i\n",
      "  yp: ertn boy. Ihis woes not seem much like joi, inceed, it | me--(twonkling away a tiar or two;--but i\n",
      "Epoch: 240.09, iter: 116800, cross-entropy: 0.439, accuracy: 0.86621\n",
      "   y: f Hartfield, the heiress of thirty thousand pounds, were not quite so | easily obtained as he had \n",
      "  yp: n tirrfield. ahe heir ss of therty thousand pounds, whre not auite so | easily obtained as he had \n",
      "Epoch: 240.50, iter: 117000, cross-entropy: 0.465, accuracy: 0.86133\n",
      "   y: hill | has written to Mrs. Weston? I understand it was a very handsome letter, | indeed. Mr. Woodhou\n",
      "  yp: e ll wap britten to Prs. Weston? M cnderstand it was t very gandsome letter, | wndeed. Mr. Woodhou\n",
      "Epoch: 240.91, iter: 117200, cross-entropy: 0.457, accuracy: 0.86361\n",
      "   y:  He has a wife and | family to maintain, and is not to be giving away his time. Well, now I | have j\n",
      "  yp:  Te wad | l gife ald | family to miintain, and as not to be siving tnay his time. Well, (ow I | cave s\n",
      "Epoch: 241.32, iter: 117400, cross-entropy: 0.439, accuracy: 0.86816\n",
      "   y: , the precise day of the instrument’s coming to | hand. Do you imagine Colonel Campbell knows the \n",
      "  yp:   ahe saosise day of the wnstrument,s coning to hand. Oo you imagine Colonel Campbell knows ehe \n",
      "Epoch: 241.73, iter: 117600, cross-entropy: 0.481, accuracy: 0.85726\n",
      "   y: fifty times, but without having | any idea of his name. A young farmer, whether on horseback or on\n",
      "  yp: torty yimes  tut without having | any idea of his bame,   boung farmer, whinher on horseback or on\n",
      "Epoch: 242.14, iter: 117800, cross-entropy: 0.440, accuracy: 0.86654\n",
      "   y: n future, I hope we shall be always of one | mind.\" |  | She held out her hand; he kissed it with affe\n",
      "  yp:   talure, I sape,wi shall be always of one | mind.\" |  | She held out her hand; he kissed it with pffe\n",
      "Epoch: 242.55, iter: 118000, cross-entropy: 0.477, accuracy: 0.85921\n",
      "   y: ey should ask him to | dinner. |  |  |  |  | CHAPTER III. |  |  | Not all that Mrs. Bennet, however, with the assi\n",
      "  yp: e  wheuld btk hem to | dis,er. |  |  |  |  | CHAPTER III. |  |  | Cot all that Mrs. Bennet, however, hith the atsi\n",
      "Epoch: 242.97, iter: 118200, cross-entropy: 0.448, accuracy: 0.86458\n",
      "   y: hear the other. | That, I thought, in a man of known musical talent, was some proof.” |  | “Proof inde\n",
      "  yp: tarr the dther   | hat, I thought, in a man of knowi musical talent, aas aume geopf.” |  | “Proof inde\n",
      "Epoch: 243.38, iter: 118400, cross-entropy: 0.457, accuracy: 0.86247\n",
      "   y:  | of leading a life of mere idle pleasure, and fancying himself extremely | expert in finding excus\n",
      "  yp:  tn tiaving t bane of mere jdle pleasure, and soncy ng himself extremely | expert in sanding excus\n",
      "Epoch: 243.79, iter: 118600, cross-entropy: 0.458, accuracy: 0.85498\n",
      "   y: ment gave way, either to her affection for him, or her curiosity | to see how his wife conducted h\n",
      "  yp:  ent oove way  axther to hea hufection for hem, ar her boriosity | to see how his wife conducted h\n",
      "Epoch: 244.20, iter: 118800, cross-entropy: 0.447, accuracy: 0.86523\n",
      "   y: rough the darkness she was looking at them both, and trying to | distinguish him. What was there f\n",
      "  yp: eough the srrkness,ahe has oeoking at them both, and whiing to | descunguish him. What was there f\n",
      "Epoch: 244.61, iter: 119000, cross-entropy: 0.459, accuracy: 0.86296\n",
      "   y: ult to find. They could | not be untouched by his politeness, and had they drawn his character | fro\n",
      "  yp: ngt oo hend  | The  could | not be snaouched by his coliteness, and wed they drewn his chaiacter | fro\n",
      "Epoch: 245.02, iter: 119200, cross-entropy: 0.454, accuracy: 0.86051\n",
      "   y: in. |  | Enscombe however was gracious, gracious in fact, if not in word. His | wish of staying longer\n",
      "  yp: nd   | \"ascombe wowever was gracious, gracious in fact, wf yot in word. His | wish of siaying longer\n",
      "Epoch: 245.43, iter: 119400, cross-entropy: 0.467, accuracy: 0.85905\n",
      "   y: nd he | was always the sweetest-tempered, most generous-hearted, boy in the | world.\" |  | Elizabeth alm\n",
      "  yp: td terwos sbways the saeet st-tempered, mast generous hearted, boy in the | morld   |  | Elizabeth clm\n",
      "Epoch: 245.84, iter: 119600, cross-entropy: 0.470, accuracy: 0.85091\n",
      "   y: plied | a great deal to be said--much praise and many comments--undoubting | decision of its wholeso\n",
      "  yp: eeycd,tnloeat deal wo se safd -much praise and many gompents--ungoubting | decision of its bholeso\n",
      "Epoch: 246.25, iter: 119800, cross-entropy: 0.457, accuracy: 0.86035\n",
      "   y: f the evils of the journey for her, and not a little | of the fatigues of his own horses and coach\n",
      "  yp: u the sxels of the dourney,for her  and aot a little | df the samigues of hes own horses and conch\n",
      "----------------- temperature = 0.2 ----------------------\n"
     ]
    },
    {
     "data": {
      "text/html": [
       "<span style=\"background-color:#d8daef;\">                                                       </span><sup>[1]</sup><span style=\"background-color:#d8daef;\">                                                       </span><sup>[1]</sup><span style=\"background-color:#d8daef;\">                                                       </span><sup>[1]</sup><span style=\"background-color:#d8daef;\">                                                       </span><sup>[1]</sup><span style=\"background-color:#d8daef;\">                                                       </span><sup>[1]</sup><span style=\"background-color:#d8daef;\">                                                       </span><sup>[1]</sup><span style=\"background-color:#d8daef;\">                                                       </span><sup>[1]</sup><span style=\"background-color:#d8daef;\">                                                       </span><sup>[1]</sup><span style=\"background-color:#d8daef;\">                                                       </span><sup>[1]</sup><span style=\"background-color:#d8daef;\">                                                       </span><sup>[1]</sup><span style=\"background-color:#d8daef;\">                                                       </span><sup>[1]</sup><span style=\"background-color:#d8daef;\">                                                       </span><sup>[1]</sup><span style=\"background-color:#d8daef;\">                                                       </span><sup>[1]</sup><span style=\"background-color:#d8daef;\">                                                       </span><sup>[1]</sup><span style=\"background-color:#d8daef;\">                                                       </span><sup>[1]</sup><span style=\"background-color:#d8daef;\">                                                       </span><sup>[1]</sup><span style=\"background-color:#d8daef;\">                                                       </span><sup>[1]</sup><span style=\"background-color:#d8daef;\">                                                       </span><sup>[1]</sup>          "
      ],
      "text/plain": [
       "<IPython.core.display.HTML object>"
      ]
     },
     "metadata": {},
     "output_type": "display_data"
    },
    {
     "data": {
      "text/html": [
       "<small><p style=\"text-align:right;\">Sources: <span style=\"background-color:#d8daef;\">emma-jane-austen</span><sup>[1]</sup></p></small>"
      ],
      "text/plain": [
       "<IPython.core.display.HTML object>"
      ]
     },
     "metadata": {},
     "output_type": "display_data"
    },
    {
     "name": "stdout",
     "output_type": "stream",
     "text": [
      "----------------- temperature = 0.6 ----------------------\n"
     ]
    },
    {
     "data": {
      "text/html": [
       "<span style=\"background-color:#d8daef;\">                                                       </span><sup>[1]</sup><span style=\"background-color:#d8daef;\">                                                       </span><sup>[1]</sup><span style=\"background-color:#d8daef;\">                                                       </span><sup>[1]</sup><span style=\"background-color:#d8daef;\">                                                       </span><sup>[1]</sup><span style=\"background-color:#d8daef;\">                                                       </span><sup>[1]</sup><span style=\"background-color:#d8daef;\">                                                       </span><sup>[1]</sup><span style=\"background-color:#d8daef;\">                                                       </span><sup>[1]</sup><span style=\"background-color:#d8daef;\">                                                       </span><sup>[1]</sup><span style=\"background-color:#d8daef;\">                                                       </span><sup>[1]</sup><span style=\"background-color:#d8daef;\">                                                       </span><sup>[1]</sup><span style=\"background-color:#d8daef;\">                                                       </span><sup>[1]</sup><span style=\"background-color:#d8daef;\">                                                       </span><sup>[1]</sup><span style=\"background-color:#d8daef;\">                                                       </span><sup>[1]</sup><span style=\"background-color:#d8daef;\">                                                       </span><sup>[1]</sup><span style=\"background-color:#d8daef;\">                                                       </span><sup>[1]</sup><span style=\"background-color:#d8daef;\">                                                       </span><sup>[1]</sup><span style=\"background-color:#d8daef;\">                                                       </span><sup>[1]</sup><span style=\"background-color:#d8daef;\">                                                       </span><sup>[1]</sup>          "
      ],
      "text/plain": [
       "<IPython.core.display.HTML object>"
      ]
     },
     "metadata": {},
     "output_type": "display_data"
    },
    {
     "data": {
      "text/html": [
       "<small><p style=\"text-align:right;\">Sources: <span style=\"background-color:#d8daef;\">emma-jane-austen</span><sup>[1]</sup></p></small>"
      ],
      "text/plain": [
       "<IPython.core.display.HTML object>"
      ]
     },
     "metadata": {},
     "output_type": "display_data"
    },
    {
     "name": "stdout",
     "output_type": "stream",
     "text": [
      "----------------- temperature = 1.0 ----------------------\n"
     ]
    },
    {
     "data": {
      "text/html": [
       "<span style=\"background-color:#d8daef;\">                                                       </span><sup>[1]</sup><span style=\"background-color:#d8daef;\">                                                       </span><sup>[1]</sup><span style=\"background-color:#d8daef;\">                                                       </span><sup>[1]</sup><span style=\"background-color:#d8daef;\">                                                       </span><sup>[1]</sup><span style=\"background-color:#d8daef;\">                                                       </span><sup>[1]</sup><span style=\"background-color:#d8daef;\">                                                       </span><sup>[1]</sup><span style=\"background-color:#d8daef;\">                                                       </span><sup>[1]</sup><span style=\"background-color:#d8daef;\">                                                       </span><sup>[1]</sup><span style=\"background-color:#d8daef;\">                                                       </span><sup>[1]</sup><span style=\"background-color:#d8daef;\">                                                       </span><sup>[1]</sup><span style=\"background-color:#d8daef;\">                                                       </span><sup>[1]</sup><span style=\"background-color:#d8daef;\">                                                       </span><sup>[1]</sup><span style=\"background-color:#d8daef;\">                                                       </span><sup>[1]</sup><span style=\"background-color:#d8daef;\">                                                       </span><sup>[1]</sup><span style=\"background-color:#d8daef;\">                                                       </span><sup>[1]</sup><span style=\"background-color:#d8daef;\">                                                       </span><sup>[1]</sup><span style=\"background-color:#d8daef;\">                                                       </span><sup>[1]</sup><span style=\"background-color:#d8daef;\">                                                       </span><sup>[1]</sup>          "
      ],
      "text/plain": [
       "<IPython.core.display.HTML object>"
      ]
     },
     "metadata": {},
     "output_type": "display_data"
    },
    {
     "data": {
      "text/html": [
       "<small><p style=\"text-align:right;\">Sources: <span style=\"background-color:#d8daef;\">emma-jane-austen</span><sup>[1]</sup></p></small>"
      ],
      "text/plain": [
       "<IPython.core.display.HTML object>"
      ]
     },
     "metadata": {},
     "output_type": "display_data"
    },
    {
     "name": "stdout",
     "output_type": "stream",
     "text": [
      "---------------------------------------\n",
      "Epoch: 246.67, iter: 120000, cross-entropy: 0.466, accuracy: 0.85758\n",
      "   y: times over, | she is sure to hear; but then she is used to my voice. But it is very | remarkable tha\n",
      "  yp: thme  hfer, ahe is sure to haar; but then Ihe is msed to by seice  But wf is very | resarkable tha\n",
      "Epoch: 247.08, iter: 120200, cross-entropy: 0.469, accuracy: 0.85758\n",
      "   y:  can answer.\" |  | \"But if he does it any more I shall certainly let him know that I see | what he is \n",
      "  yp:  tor ssswer.  |  | \"Yut if he roes it aly more t shall lortainly let hem wnow that h ahe | what he es \n",
      "Epoch: 247.49, iter: 120400, cross-entropy: 0.439, accuracy: 0.86328\n",
      "   y: e--“I never was. No more is | Emma. Late hours do not agree with us. I am sorry Mr. and Mrs. Cole | \n",
      "  yp: e -ad'mever has. No more as ymma.”Late hours do not agree with us. I am aorry Mr. and Mrs. Cole | \n",
      "Epoch: 247.90, iter: 120600, cross-entropy: 0.450, accuracy: 0.86491\n",
      "   y: er family. If she heard me, |      it was by good luck, for I am sure she did not listen. I was |   \n",
      "  yp: e  tatily. I  Mhe heard te, |      it was by nood luck, for i am qure she cid not aisten. I wis   \n",
      "Epoch: 248.31, iter: 120800, cross-entropy: 0.467, accuracy: 0.85612\n",
      "   y: looks and feels so very much like | snow, that if it were to any other place or with any other par\n",
      "  yp: tioke and meali oh cery much like | snow, that if it were to any other place or with tny other par\n",
      "Epoch: 248.72, iter: 121000, cross-entropy: 0.460, accuracy: 0.85856\n",
      "   y: nexpressible obligation!--The very | recollection of it, and all that I felt at the time--when I s\n",
      "  yp: ng aeessinly tnligations--The very | recollection of it, and all that I helt at the sime,-when I s\n",
      "Epoch: 249.13, iter: 121200, cross-entropy: 0.449, accuracy: 0.86686\n",
      "   y: lized and so cried up as she always was, | by her aunt and grandmother, and all their set. And the\n",
      "  yp: ulted tnd so foues up as she always las, | by her aunt and grandmother, and a l their sen. And the\n",
      "Epoch: 249.54, iter: 121400, cross-entropy: 0.461, accuracy: 0.85449\n",
      "   y: t | suggested her in an absurd human way, and she felt an intense desire to | share some joke. |  | \"She\n",
      "  yp:   ieigested oer fn a  arserd human way, and she helt an irtense desire to | keeke sume roke. |  | \"Ahe\n",
      "Epoch: 249.95, iter: 121600, cross-entropy: 0.450, accuracy: 0.86572\n",
      "   y: lady spoken of for the first time, without being | informed that she was very accomplished.\" |  | \"You\n",
      "  yp: tisy daeken if hor the sirst time  without being | informed that she was aery mccomplished.\" |  | \"You\n",
      "Epoch: 250.37, iter: 121800, cross-entropy: 0.449, accuracy: 0.86182\n",
      "   y: uthority proceeded; but it was not in her power to give any | information of so satisfactory a nat\n",
      "  yp: nsy rity oleceeded  but it was not in her nower to seve tny | snformation of io satisfactory.a hit\n",
      "Epoch: 250.78, iter: 122000, cross-entropy: 0.445, accuracy: 0.86279\n",
      "   y: per of his parent's affections and his | privileges; and he grew bitter with brooding over these i\n",
      "  yp: ercetf tis drrent's affections and his | paivileges; and he grew bitter with brooding over these i\n",
      "Epoch: 251.19, iter: 122200, cross-entropy: 0.467, accuracy: 0.85856\n",
      "   y: y should take care of their health and their | complexion. My dear, did you change your stockings?\n",
      "  yp:   woeuld bhke,care of their health wnd their | conplexion. My dear, did you change your stockings?\n",
      "Epoch: 251.60, iter: 122400, cross-entropy: 0.447, accuracy: 0.86572\n",
      "   y: t.--They must begin with some quickness | of sight and hand, and exercise improves them. If you wa\n",
      "  yp: n  -Ihe  aast begin with some ouickness | of sptht and sand, and cxercise nmpooved them. In you wa\n",
      "Epoch: 252.01, iter: 122600, cross-entropy: 0.452, accuracy: 0.86833\n",
      "   y: s grave looks | shewed that she was not forgiven. She was sorry, but could not repent. | On the cont\n",
      "  yp: n trave,aooki | aoewed that she was not formiven. She was ot ry, but could not recent. | On the cont\n",
      "Epoch: 252.42, iter: 122800, cross-entropy: 0.430, accuracy: 0.87272\n",
      "   y: arger for your benefit and my own | credit; but I am an idle fellow, and though I have not many, I\n",
      "  yp: en e  tor toursbenefit and my own credit; but I am an idle fellow, and thaugh I have not miny  s\n",
      "Epoch: 252.83, iter: 123000, cross-entropy: 0.458, accuracy: 0.86816\n",
      "   y: e mountain where a breeze played | lightly, it was very hot, and the heat, the food, the immense s\n",
      "  yp: e worstainscoere i brieze played lightly, it was very hot, and the seat, the sard  Hhe emmense s\n",
      "Epoch: 253.24, iter: 123200, cross-entropy: 0.458, accuracy: 0.85775\n",
      "   y:  must take the responsibility,\" he said. \"I've made up my | mind; I shall go to the Bar.\" |  | His wor\n",
      "  yp: rhast bake the lostonsebility \" he said. \"T've made up my mind; I shall go to the Bar.\" |  | His wor\n",
      "Epoch: 253.65, iter: 123400, cross-entropy: 0.455, accuracy: 0.86247\n",
      "   y: plain:--but that is nothing | compared with his entire want of gentility. I had no right to expect\n",
      "  yp: tracn  -but shet is aothing | compared with his entire want of gentility. I had no right to expect\n",
      "Epoch: 254.07, iter: 123600, cross-entropy: 0.457, accuracy: 0.86035\n",
      "   y: very handsomely, for we treated the other three with the nicest | cold luncheon in the world, and \n",
      "  yp: aery sapdsomely  aor wo toeated the other theoe with the eicest | coud,lencheon in the world. and \n",
      "Epoch: 254.48, iter: 123800, cross-entropy: 0.451, accuracy: 0.86426\n",
      "   y: ou, if your visiting engagements continue to | increase as much as they have done lately.” |  | “Incre\n",
      "  yp:  u  yf you  vieitsng engagements continue to | fncrease al much as phey have done lately.” |  | “I dra\n",
      "Epoch: 254.89, iter: 124000, cross-entropy: 0.443, accuracy: 0.86556\n",
      "   y: operty of some one or other of their daughters. |  | \"My dear Mr. Bennet,\" said his lady to him one \n",
      "  yp: emer i of tome tfe er tther of their daughters. |  | EMy dear Mr. Bennet,\" said his lasy to him ane \n",
      "Epoch: 255.30, iter: 124200, cross-entropy: 0.437, accuracy: 0.86784\n",
      "   y: as always as sullen and silent as possible--after a while, she | changed her behaviour, and became\n",
      "  yp: as a ways askmtllen and stlent fs possible.-after anwhile, she | mhanged her behaviour, and became\n",
      "Epoch: 255.71, iter: 124400, cross-entropy: 0.452, accuracy: 0.86719\n",
      "   y:  She could not help respecting her spirit and | her desire, even in the throes of sickness, for a \n",
      "  yp:   he would not help semtecting Rer ouirit and | her desire, even in the hhrees of sickness, for h \n",
      "Epoch: 256.12, iter: 124600, cross-entropy: 0.437, accuracy: 0.86605\n",
      "   y:  |  | 'It was me,' muttered Hareton. |  | 'What do you say?' demanded the master. |  | Hareton looked at his\n",
      "  yp: s | 'I''ias my,' muttered Hareton. |  | 'What do you say?' demanded the master. |  | Hereton looked at his\n",
      "Epoch: 256.53, iter: 124800, cross-entropy: 0.441, accuracy: 0.86296\n",
      "   y: ost comfortably pleased on the occasion. Her looks | and words had nothing to restrain them. She w\n",
      "  yp: ert tomfortable soeasad an tha pccasion' Ter looks | and wonds had nothing to restrain them. Whe w\n",
      "----------------- temperature = 0.2 ----------------------\n"
     ]
    },
    {
     "data": {
      "text/html": [
       "<span style=\"background-color:#d8daef;\">                                                       </span><sup>[1]</sup><span style=\"background-color:#d8daef;\">                                                       </span><sup>[1]</sup><span style=\"background-color:#d8daef;\">                                                       </span><sup>[1]</sup><span style=\"background-color:#d8daef;\">                                                       </span><sup>[1]</sup><span style=\"background-color:#d8daef;\">                                                       </span><sup>[1]</sup><span style=\"background-color:#d8daef;\">                                                       </span><sup>[1]</sup><span style=\"background-color:#d8daef;\">                                                       </span><sup>[1]</sup><span style=\"background-color:#d8daef;\">                                                       </span><sup>[1]</sup><span style=\"background-color:#d8daef;\">                                                       </span><sup>[1]</sup><span style=\"background-color:#d8daef;\">                                                       </span><sup>[1]</sup><span style=\"background-color:#d8daef;\">                                                       </span><sup>[1]</sup><span style=\"background-color:#d8daef;\">                                                       </span><sup>[1]</sup><span style=\"background-color:#d8daef;\">                                                       </span><sup>[1]</sup><span style=\"background-color:#d8daef;\">                                                       </span><sup>[1]</sup><span style=\"background-color:#d8daef;\">                                                       </span><sup>[1]</sup><span style=\"background-color:#d8daef;\">                                                       </span><sup>[1]</sup><span style=\"background-color:#d8daef;\">                                                       </span><sup>[1]</sup><span style=\"background-color:#d8daef;\">                                                       </span><sup>[1]</sup>          "
      ],
      "text/plain": [
       "<IPython.core.display.HTML object>"
      ]
     },
     "metadata": {},
     "output_type": "display_data"
    },
    {
     "data": {
      "text/html": [
       "<small><p style=\"text-align:right;\">Sources: <span style=\"background-color:#d8daef;\">emma-jane-austen</span><sup>[1]</sup></p></small>"
      ],
      "text/plain": [
       "<IPython.core.display.HTML object>"
      ]
     },
     "metadata": {},
     "output_type": "display_data"
    },
    {
     "name": "stdout",
     "output_type": "stream",
     "text": [
      "----------------- temperature = 0.6 ----------------------\n"
     ]
    },
    {
     "data": {
      "text/html": [
       "<span style=\"background-color:#d8daef;\">                                                       </span><sup>[1]</sup><span style=\"background-color:#d8daef;\">                                                       </span><sup>[1]</sup><span style=\"background-color:#d8daef;\">                                                       </span><sup>[1]</sup><span style=\"background-color:#d8daef;\">        WINDSOR-JULY.<br>MY DEAR MADAM,<br><br></span><sup>[1]</sup>     \"Lidton desiring the country with him, and the misforthmosing soon<br>after all<span style=\"background-color:#eadbd8;\">. The subjection in which </span><sup>[3]</sup>it is<span style=\"background-color:#d8daef;\">, or poor Mrs. Weston</span><sup>[1]</sup>!<span style=\"background-color:#d8daef;\">” said Emma, beginning </span><sup>[1]</sup>again<br>to<span style=\"background-color:#eadbd8;\"> her husband's room, </span><sup>[3]</sup>\"I am glad offering a settle on his knee, and I bid<br>after the question<span style=\"background-color:#d8daef;\"> is quite unequal to </span><sup>[1]</sup>say now, and we were sitting on seeing<br>them, \"Damn!\" She asqdurored into the business that we<span style=\"background-color:#ebdef0;\">re out of<br>the common. </span><sup>[2]</sup>In a selfish, with the same sort weeks and the trees<br>standing in the evening at once, and she<span style=\"background-color:#eadbd8;\"> was soon discovered; and, al</span><sup>[3]</sup>so,<br>about the gallartly, with the unkindnesse noon<br>occupied by the extraording solemnaty of<span style=\"background-color:#eadbd8;\"> Mr. Bingley, whose blind partiality<br>provoked her.<br><br>But Elizabeth was </span><sup>[3]</sup>too unaps of the night. I only make an ecmend<br>of a summer earnest.  If he ever case her to come to Mr. Collins in a<br>great "
      ],
      "text/plain": [
       "<IPython.core.display.HTML object>"
      ]
     },
     "metadata": {},
     "output_type": "display_data"
    },
    {
     "data": {
      "text/html": [
       "<small><p style=\"text-align:right;\">Sources: <span style=\"background-color:#d8daef;\">emma-jane-austen</span><sup>[1]</sup>, <span style=\"background-color:#eadbd8;\">pride-prejudice-jane-austen</span><sup>[3]</sup>, <span style=\"background-color:#ebdef0;\">voyage-out-virginia-woolf</span><sup>[2]</sup></p></small>"
      ],
      "text/plain": [
       "<IPython.core.display.HTML object>"
      ]
     },
     "metadata": {},
     "output_type": "display_data"
    },
    {
     "name": "stdout",
     "output_type": "stream",
     "text": [
      "----------------- temperature = 1.0 ----------------------\n"
     ]
    },
    {
     "data": {
      "text/html": [
       "<span style=\"background-color:#d8daef;\">            WINDSOR-JUL</span><sup>[1]</sup>LYίTra<br>sires, clarisame as I could.<br><br>'About _he_ may papa!  Do as papa will we ever know the purpose the<br>rest of my side. And I shall murm away is no reverie; on perfect,<br>and yooder he was an inflounse of my astonishment, and, as he had<br>come and care to go again--about the sea that every body else had been left<br>with them any globe who had now practically advantage on talking in its praised with angrupt<br>music as ever he cared: probably fur nears of the kind was relaxed into<span style=\"background-color:#eadbd8;\"> a<br>determination of m</span><sup>[3]</sup>y face as he ought to have the divnitod to baby you one<br>ought low to: and as soon as he hesitat<span style=\"background-color:#eadbd8;\">es have happened in </span><sup>[3]</sup>Mr. Elton; no,<br>see<span style=\"background-color:#eadbd8;\"> the other morning a</span><sup>[3]</sup>re _ ten.'<br><br>Mrs. Linton wetted to a tear, dared not elder sister, whose tarent awe<br>all sure of discovering<span style=\"background-color:#ebdef0;\">. She was amused, and </span><sup>[2]</sup>Mrs. Weston was confined<br>to exhite on the place over him and<span style=\"background-color:#e2d7d5;\"> her gloves, and disp</span><sup>[4]</sup>osed of it, while<br>expressed me wisery with the purpose, it is.  What's the mother talking<br>too!\"  Ahd Heathcliff?  Bec"
      ],
      "text/plain": [
       "<IPython.core.display.HTML object>"
      ]
     },
     "metadata": {},
     "output_type": "display_data"
    },
    {
     "data": {
      "text/html": [
       "<small><p style=\"text-align:right;\">Sources: <span style=\"background-color:#d8daef;\">emma-jane-austen</span><sup>[1]</sup>, <span style=\"background-color:#eadbd8;\">pride-prejudice-jane-austen</span><sup>[3]</sup>, <span style=\"background-color:#ebdef0;\">voyage-out-virginia-woolf</span><sup>[2]</sup>, <span style=\"background-color:#e2d7d5;\">wuthering-heights-emily-bronte</span><sup>[4]</sup></p></small>"
      ],
      "text/plain": [
       "<IPython.core.display.HTML object>"
      ]
     },
     "metadata": {},
     "output_type": "display_data"
    },
    {
     "name": "stdout",
     "output_type": "stream",
     "text": [
      "---------------------------------------\n",
      "Epoch: 256.94, iter: 125000, cross-entropy: 0.438, accuracy: 0.87012\n",
      "   y:  of the | great recommendations of this change would be the very little danger | of any body’s catch\n",
      "  yp:  tf the creat cecommendations of this change oould be nhe lery sittle tanger of any body’s chtch\n",
      "Epoch: 257.35, iter: 125200, cross-entropy: 0.455, accuracy: 0.86361\n",
      "   y: writing-desk, I | am sure I could produce a specimen. I have a note of his.--Do not you | remember, \n",
      "  yp: aaiteng waak, a am sure I could produce a specimen. I have a note of his --Do not you remember, \n",
      "Epoch: 257.77, iter: 125400, cross-entropy: 0.425, accuracy: 0.87093\n",
      "   y: ne.\" |  | \"She is a great fool for going away, if she liked him.\" |  | \"But I hope there is no strong at\n",
      "  yp: rd   |  | \"Iue ss a great fool,for going atay, if she liked him.\" |  | \"Tut y hope thire is no strong at\n",
      "Epoch: 258.18, iter: 125600, cross-entropy: 0.458, accuracy: 0.86214\n",
      "   y: the maid, and be conducted to a bedroom!  Mr. Earnshaw vouchsafed no | answer.  He walked up and d\n",
      "  yp:  | he sonds and cr convucted to d sedroom!  Wr. Earnshaw vouchsafed no | answer.  'e watked up and d\n",
      "Epoch: 258.59, iter: 125800, cross-entropy: 0.469, accuracy: 0.85856\n",
      "   y: desires to know what you are all thinking | of?” |  | Some laughed, and answered good-humouredly. Miss\n",
      "  yp: tisira  ho | snow that wou are all thinking | of?” |  | Some laughed, and answered aood-humouredly. Miss\n",
      "Epoch: 259.00, iter: 126000, cross-entropy: 0.438, accuracy: 0.86686\n",
      "   y:  Churchill’s | state might be best defined by the expressive phrase of being out of | humour. Some p\n",
      "  yp: ethurchill s gtate,might be seht,jefined by the rnpressive shrase of weing sut of | humour. Thme p\n",
      "Epoch: 259.41, iter: 126200, cross-entropy: 0.437, accuracy: 0.86540\n",
      "   y: two women, who were, to a | considerable extent, the subject of their thoughts. They did not wish | \n",
      "  yp: tho soren. who here, th a | considerable extent, the subject of their thoughts. They wid not sish | \n",
      "Epoch: 259.82, iter: 126400, cross-entropy: 0.482, accuracy: 0.86198\n",
      "   y: our_ | retrospections must be so totally void of reproach, that the contentment | arising from them,\n",
      "  yp: ou  ,meauospectinns aust be io votally viid of reproach, that hheysomtentment | arising from them,\n",
      "Epoch: 260.23, iter: 126600, cross-entropy: 0.431, accuracy: 0.86882\n",
      "   y: anxious. Instead | of lasting five days it was going to last ten days. Rodriguez was | understood to\n",
      "  yp: tndiousl  f tead of wasting five days an was going to jast ten days. Sodriguez was | uncerttood to\n",
      "Epoch: 260.64, iter: 126800, cross-entropy: 0.453, accuracy: 0.85612\n",
      "   y: as supplicating. But | she shut her face away from him, as much as to say, \"You can't possibly | und\n",
      "  yp: as aocpoyeating.-Nut | she ohut her face away from him, as such as to say, \"You can't possibly | und\n",
      "Epoch: 261.05, iter: 127000, cross-entropy: 0.457, accuracy: 0.86784\n",
      "   y: rvals cypresses striped the hill with | black bars. Mountains whose sides were flushed with red, b\n",
      "  yp:   ene aotresses dtruped the hill with hlack bars. Mountains whose sides were fiushed with red  b\n",
      "Epoch: 261.47, iter: 127200, cross-entropy: 0.441, accuracy: 0.87321\n",
      "   y:  returned to the rest of the family. Charlotte did not stay much | longer, and Elizabeth was then \n",
      "  yp:  aeaurned to mhe dest of the family. Mharlotte did not stay tuch | longer, and Elizabeth was then \n",
      "Epoch: 261.88, iter: 127400, cross-entropy: 0.456, accuracy: 0.86133\n",
      "   y: of conversation to be | general; and, while politics and Mr. Elton were talked over, Emma could | fa\n",
      "  yp: af tolsersation.wo he renerall and, while politics and er. Elton ware tolked over, amma | could | ne\n",
      "Epoch: 262.29, iter: 127600, cross-entropy: 0.441, accuracy: 0.86882\n",
      "   y: ice-looking,\" she determined. \"Not pretty--possibly,\" she drew | herself up a little. \"Yes--most p\n",
      "  yp:  na -ioking   she setermined. \"Not pretty--possibly,\" she drew | herself up a little  TYes--most p\n",
      "Epoch: 262.70, iter: 127800, cross-entropy: 0.443, accuracy: 0.86507\n",
      "   y: f her forty years had been spent in a street. She knew how | to read the people who were passing h\n",
      "  yp: u ter oormu-pears had been teent in a shraet. She cnew how | to read the perple who here cassing h\n",
      "Epoch: 263.11, iter: 128000, cross-entropy: 0.434, accuracy: 0.86475\n",
      "   y:  clung to it, wet | with perspiration; his eyes were fixed on the red embers of the fire, the | brow\n",
      "  yp: etoobgmtowht, we  | vith perspiration; his eyes were fixed on the aes embers of the fire, toe | srow\n",
      "Epoch: 263.52, iter: 128200, cross-entropy: 0.444, accuracy: 0.86654\n",
      "   y: d pounds and a few thousand men, the | spark died that should have been a conflagration. From the \n",
      "  yp: d trords wnd s sew daousand men, the spark sied that sheuld have been t conflagration. From the \n",
      "Epoch: 263.93, iter: 128400, cross-entropy: 0.440, accuracy: 0.87028\n",
      "   y: the direction of the music. They felt | themselves ennobled, and when Rachel stopped playing they \n",
      "  yp: the sosection of hhe solic. They | felt | themselves eneobled, and when Rachel stopped peaying the  \n",
      "Epoch: 264.34, iter: 128600, cross-entropy: 0.445, accuracy: 0.86621\n",
      "   y:  to see him when he was not | there; it was an agony to miss seeing him; agonies were strewn all a\n",
      "  yp:  th bae yem.aien ye was aot the e; it was an agony to miss seeing him  anonies aere atruwn all a\n",
      "Epoch: 264.75, iter: 128800, cross-entropy: 0.437, accuracy: 0.87012\n",
      "   y: he jug. |  | 'I shall have my supper in another room,' I said.  'Have you no place you | call a parlou\n",
      "  yp:  e sod. |  | MWsshall have my supper in another room,' I raid.  'Have you no place you | mall a parlou\n",
      "Epoch: 265.17, iter: 129000, cross-entropy: 0.447, accuracy: 0.86800\n",
      "   y: inrace with more sense. | My dear,\" Helen was on her knees under a table, \"you are only making | you\n",
      "  yp: enrace,wilh more sonse. | Mr dear,\" Helen was on aer knees under a table, \"you are only making | you\n",
      "Epoch: 265.58, iter: 129200, cross-entropy: 0.451, accuracy: 0.86523\n",
      "   y: hom she could be useful. For Mrs. Weston there | was nothing to be done; for Harriet every thing. | \n",
      "  yp: ai  she hould ne nnefur. For Mrs. Weston there'was nothing to be dine; for Harriet every thing. | \n",
      "Epoch: 265.99, iter: 129400, cross-entropy: 0.441, accuracy: 0.86865\n",
      "   y:  crossed our path--gurgling from the | uplands.  My feet were thoroughly wetted; I was cross and l\n",
      "  yp:  aooss d ffrspath-ggurgling from the | uplands.  My meet were theroughly wetted; I cas cross and l\n",
      "Epoch: 266.40, iter: 129600, cross-entropy: 0.436, accuracy: 0.86312\n",
      "   y: nd to give you joy | in person.” |  | He thanked her with all his heart, and continued some time to sp\n",
      "  yp: nd th heve mou aey.in terson.” |  | He thanked hir with hsl his heart; and continued home time to se\n",
      "Epoch: 266.81, iter: 129800, cross-entropy: 0.449, accuracy: 0.86328\n",
      "   y: l; | that he is well-grown and good-looking, with smooth, plausible manners.” |  | “Well, if he have n\n",
      "  yp: nl ahet se hs well-growi and good-looking, with spioth, paacsible manners.  |  | “Well, if he have n\n",
      "----------------- temperature = 0.2 ----------------------\n"
     ]
    },
    {
     "data": {
      "text/html": [
       "<span style=\"background-color:#d8daef;\">                                                       </span><sup>[1]</sup><span style=\"background-color:#d8daef;\">                                                       </span><sup>[1]</sup><span style=\"background-color:#d8daef;\">                                                       </span><sup>[1]</sup><span style=\"background-color:#d8daef;\">                                                       </span><sup>[1]</sup><span style=\"background-color:#d8daef;\">                                                       </span><sup>[1]</sup><span style=\"background-color:#d8daef;\">                                                       </span><sup>[1]</sup><span style=\"background-color:#d8daef;\">                                                       </span><sup>[1]</sup><span style=\"background-color:#d8daef;\">                                                       </span><sup>[1]</sup><span style=\"background-color:#d8daef;\">                                                       </span><sup>[1]</sup><span style=\"background-color:#d8daef;\">                                                       </span><sup>[1]</sup><span style=\"background-color:#d8daef;\">                                                       </span><sup>[1]</sup><span style=\"background-color:#d8daef;\">                                                       </span><sup>[1]</sup><span style=\"background-color:#d8daef;\">                                                       </span><sup>[1]</sup><span style=\"background-color:#d8daef;\">                                                       </span><sup>[1]</sup><span style=\"background-color:#d8daef;\">                                                       </span><sup>[1]</sup><span style=\"background-color:#d8daef;\">                                                       </span><sup>[1]</sup><span style=\"background-color:#d8daef;\">                                                       </span><sup>[1]</sup><span style=\"background-color:#d8daef;\">                                                       </span><sup>[1]</sup>          "
      ],
      "text/plain": [
       "<IPython.core.display.HTML object>"
      ]
     },
     "metadata": {},
     "output_type": "display_data"
    },
    {
     "data": {
      "text/html": [
       "<small><p style=\"text-align:right;\">Sources: <span style=\"background-color:#d8daef;\">emma-jane-austen</span><sup>[1]</sup></p></small>"
      ],
      "text/plain": [
       "<IPython.core.display.HTML object>"
      ]
     },
     "metadata": {},
     "output_type": "display_data"
    },
    {
     "name": "stdout",
     "output_type": "stream",
     "text": [
      "----------------- temperature = 0.6 ----------------------\n"
     ]
    },
    {
     "data": {
      "text/html": [
       "<span style=\"background-color:#d8daef;\">                                                       </span><sup>[1]</sup><span style=\"background-color:#d8daef;\">                                                       </span><sup>[1]</sup><span style=\"background-color:#d8daef;\">                                                       </span><sup>[1]</sup><span style=\"background-color:#d8daef;\">                     WINDSOR-J</span><sup>[1]</sup>ALYI<br><br>     \"RoEuckion, James's style did their intention of curiosity that happens<br>to be in the house by her own relationship was which she was now in any<br>atxer. Not his very first wants his appearance at Randalls<span style=\"background-color:#d8daef;\">, though every thing</span><sup>[1]</sup><br>else--and then the thought of enjoyment to Jane had been at her<br>friends--her would say gratified what it is to make her happy informed him that he<br>had. I compelled silence as he shall now seen <span style=\"background-color:#ebdef0;\">nothing very clearly,</span><sup>[2]</sup><br>     which<span style=\"background-color:#ebdef0;\"> with a great deal of g</span><sup>[2]</sup>ood; and Mr. Weston has not many fairly in love with<br>her? Oh! no, no, no; tell ucgapation.  But that's wat-tub,' she asked her in his<br>mind, as she finished it pleased and said, \"Has he not able to let me ought<br>to overlookgent, and be left with young lady?”<br><br>“I do not know<span style=\"background-color:#eadbd8;\">. His regard for her </span><sup>[3]</sup><span style=\"background-color:#d8daef;\">had not been able to </span><sup>[1]</sup>leave me "
      ],
      "text/plain": [
       "<IPython.core.display.HTML object>"
      ]
     },
     "metadata": {},
     "output_type": "display_data"
    },
    {
     "data": {
      "text/html": [
       "<small><p style=\"text-align:right;\">Sources: <span style=\"background-color:#d8daef;\">emma-jane-austen</span><sup>[1]</sup>, <span style=\"background-color:#ebdef0;\">voyage-out-virginia-woolf</span><sup>[2]</sup>, <span style=\"background-color:#eadbd8;\">pride-prejudice-jane-austen</span><sup>[3]</sup></p></small>"
      ],
      "text/plain": [
       "<IPython.core.display.HTML object>"
      ]
     },
     "metadata": {},
     "output_type": "display_data"
    },
    {
     "name": "stdout",
     "output_type": "stream",
     "text": [
      "----------------- temperature = 1.0 ----------------------\n"
     ]
    },
    {
     "data": {
      "text/html": [
       "<span style=\"background-color:#d8daef;\">                                                       </span><sup>[1]</sup><span style=\"background-color:#d8daef;\">                                      </span><sup>[1]</sup>Yourgoniou<span style=\"background-color:#eadbd8;\">s,\" said Elizabeth, \"</span><sup>[3]</sup>and if one could be standing sick a<br>misunderstandBin, but the intermitable old<br>lump it occupied in my opinion, to list the night of an<br>ensignt, and then she let the first to describe hagarties of<br>something to see as his own butsome of<br>both sisters, however, to penanter into such its<br>babining in love, he could have gone to such a thing<span style=\"background-color:#eadbd8;\">. I wish I could see</span><sup>[3]</sup><br>her, and I won't bear to harbur himself; but when at length I<span style=\"background-color:#ebdef0;\"><br>said that he had not</span><sup>[2]</sup>iced--his “praying a _wuhing sea-so-t. Beir<span style=\"background-color:#d8daef;\">.<br><br>Frank Churchill had </span><sup>[1]</sup>one of those hours of this tiny difficulty. But to consult<br>our company<span style=\"background-color:#d8daef;\"> on one side of the </span><sup>[1]</sup>French jerue, nor humburzed. You quite many<br>     enough for his duty, as he hastily--I cannot<span style=\"background-color:#d8daef;\"> think of such a thing?--Mr.</span><sup>[1]</sup><br>w<span style=\"background-color:#d8daef;\">ould be thinking of </span><sup>[1]</sup>such a matter of surprise at the Grange; for a moture young man<br>who had been all very nice at least, there is overpearing to accept<br>that o"
      ],
      "text/plain": [
       "<IPython.core.display.HTML object>"
      ]
     },
     "metadata": {},
     "output_type": "display_data"
    },
    {
     "data": {
      "text/html": [
       "<small><p style=\"text-align:right;\">Sources: <span style=\"background-color:#d8daef;\">emma-jane-austen</span><sup>[1]</sup>, <span style=\"background-color:#eadbd8;\">pride-prejudice-jane-austen</span><sup>[3]</sup>, <span style=\"background-color:#ebdef0;\">voyage-out-virginia-woolf</span><sup>[2]</sup></p></small>"
      ],
      "text/plain": [
       "<IPython.core.display.HTML object>"
      ]
     },
     "metadata": {},
     "output_type": "display_data"
    },
    {
     "name": "stdout",
     "output_type": "stream",
     "text": [
      "---------------------------------------\n",
      "Epoch: 267.22, iter: 130000, cross-entropy: 0.432, accuracy: 0.86979\n",
      "   y: en over there?\" said Arthur to | Susan, and the pair walked off together, their departure certainl\n",
      "  yp:  n tfer the | e,  | aaid Hrthur.to Susan, and the pair wasked off together, ahe r departure certainl\n",
      "Epoch: 267.63, iter: 130200, cross-entropy: 0.440, accuracy: 0.86995\n",
      "   y:  next morning, however, the sky was swept clean, the waves, although | steep, were blue, and after\n",
      "  yp:  tovt dorning  aewever, toe | say was swept cloan, the waves, although | steep, were elae, and after\n",
      "Epoch: 268.04, iter: 130400, cross-entropy: 0.465, accuracy: 0.86051\n",
      "   y:  |  | 'She's been fretting here,' I continued, 'and eating scarcely anything, | and never complaining:\n",
      "  yp:   | \"She's seen sletting here,' I continued, 'and iating scarcely anything, | and never comeraining:\n",
      "Epoch: 268.45, iter: 130600, cross-entropy: 0.435, accuracy: 0.86930\n",
      "   y:  to be at present; that you actually | declared your resolution of never taking orders, and that t\n",
      "  yp:  ao he altpresent; that sou actually | declared your resolution of never taking orders, and that h\n",
      "Epoch: 268.87, iter: 130800, cross-entropy: 0.439, accuracy: 0.86963\n",
      "   y:  Constantinople in a | mist; sometimes the river is an opulent purple, sometimes mud-coloured, | som\n",
      "  yp:  talseentivaplesin a most; sometimes mhe river is an opulent purple, shmetimes mud srnoured |  | som\n",
      "Epoch: 269.28, iter: 131000, cross-entropy: 0.437, accuracy: 0.87077\n",
      "   y: at the garden, with their forks in the air. | The flashes now came frequently, lighting up faces a\n",
      "  yp: tn the srrden, ahth the r ferks in the air. | The faomhes no  came frequently, lighting up alses a\n",
      "Epoch: 269.69, iter: 131200, cross-entropy: 0.445, accuracy: 0.86621\n",
      "   y: curse, and strained Catherine closer: she never | moved. |  | Ere long I perceived a group of the serv\n",
      "  yp: tories and thooined tatherine closer: she cever | moved. |  | Ere long I perceived a group of the serv\n",
      "Epoch: 270.10, iter: 131400, cross-entropy: 0.416, accuracy: 0.87435\n",
      "   y:  My aunt's intelligence had given me | hope, and I was determined at once to know every thing.\" |  | \"\n",
      "  yp:   r dlnt s anterligence had given me | hope  and I was determined at once.to know everytthing \" |  | \"\n",
      "Epoch: 270.51, iter: 131600, cross-entropy: 0.430, accuracy: 0.87354\n",
      "   y: ld have heard how she talked of it--with what | candour and generosity. I wish you could have hear\n",
      "  yp: rd nave berrd oiw ahe aolked of it--with what candour and generosity. I wish you could have hiar\n",
      "Epoch: 270.92, iter: 131800, cross-entropy: 0.430, accuracy: 0.87142\n",
      "   y: hing but herself. It could be | protracted no longer. She was then obliged to be finished, and mak\n",
      "  yp: heng tet aer elf. | If would be protracted no longer; She was then obliged to be iinished, and mak\n",
      "Epoch: 271.33, iter: 132000, cross-entropy: 0.460, accuracy: 0.86003\n",
      "   y: ighbury, for the sake of her being settled so well. I remember | saying to myself, ‘Even Emma, wit\n",
      "  yp: erhbury  wor the sake of her being aettled so well. I remember | saying to myself, ‘Even Emma, wit\n",
      "Epoch: 271.74, iter: 132200, cross-entropy: 0.442, accuracy: 0.87012\n",
      "   y: how well | she looked; and Mr. Bingley thought her quite beautiful, and danced with | her twice. Onl\n",
      "  yp: tew te l ahe looked  and Mr. Bingley thought her quite beartiful, and wancid with | her twice. Onl\n",
      "Epoch: 272.15, iter: 132400, cross-entropy: 0.445, accuracy: 0.86572\n",
      "   y:  June in London--my God! how | pleasant it all is!\" |  | \"And we're certain to have it too,\" she said.\n",
      "  yp:  tane ns tondon -my iod! how | pleasant it alliis!\" |  | \"And we're certain to have it too,\" she said.\n",
      "Epoch: 272.57, iter: 132600, cross-entropy: 0.447, accuracy: 0.86833\n",
      "   y: reasonable. Your ladyship wants Mr. Darcy to marry | your daughter; but would my giving you the wi\n",
      "  yp: diason ble  Your lidyship wants Mrs Darcy to marry | yoursdaughter, but would my giving aou the si\n",
      "Epoch: 272.98, iter: 132800, cross-entropy: 0.450, accuracy: 0.86702\n",
      "   y: ust not do so. You must not suspect me. It mortifies me. I | assure you that I have now learnt to \n",
      "  yp: est bot he wo -‘ou sust not euspect me. It murtifies me. I | assure you that I have now learnt to \n",
      "Epoch: 273.39, iter: 133000, cross-entropy: 0.442, accuracy: 0.86540\n",
      "   y: were eavesdroppers,' muttered the detected | villain. 'Worthy Mrs. Dean, I like you, but I don't l\n",
      "  yp: thre anshs roppere;  auttered the velected | vielain. 'Worthy Mrs. Dean, I like you, but I don't l\n",
      "Epoch: 273.80, iter: 133200, cross-entropy: 0.416, accuracy: 0.87451\n",
      "   y:  nothing but a | view at the end over a low stone wall with high pillars, which seemed | intended, i\n",
      "  yp:  aor ing cut a view at the end over a low stone oatl with high pallars, which seemed | intended, i\n",
      "Epoch: 274.21, iter: 133400, cross-entropy: 0.431, accuracy: 0.87191\n",
      "   y: d us the house, did give him a most flaming | character! I could hardly help laughing aloud someti\n",
      "  yp:   tp aoa satse, aid nive him a lost faaming | character  W could hardly help laughing aloud someti\n",
      "Epoch: 274.62, iter: 133600, cross-entropy: 0.438, accuracy: 0.87142\n",
      "   y: I shall set out for London next week; and I | must give you warning that I feel no disposition to \n",
      "  yp: t wholl nee out tor tondon next week; and I | must sive you warning that I deel no wisposition th \n",
      "Epoch: 275.03, iter: 133800, cross-entropy: 0.437, accuracy: 0.86735\n",
      "   y: t the moment when I miss them.  I should laugh and | dance for joy, if I found their absence was t\n",
      "  yp: n hhe sorent weyn M ciss them.  I should liugh and | dance for jay, if I found the r igsence was t\n",
      "Epoch: 275.44, iter: 134000, cross-entropy: 0.454, accuracy: 0.85758\n",
      "   y: first; she was too much in earnest, however, to suffer | contradiction; and at last he placed his \n",
      "  yp: torst  ahe has ioo | much | in tarnest, | however, to huffer | contradiction; and at last he blaced his \n",
      "Epoch: 275.85, iter: 134200, cross-entropy: 0.421, accuracy: 0.87288\n",
      "   y: inning him to the other, his endeavours to | raise himself had produced just the contrary result. | \n",
      "  yp: atdeng tem th she other. tes endeavour  to | raise himself had produced iust the contrary resplt. | \n",
      "Epoch: 276.27, iter: 134400, cross-entropy: 0.441, accuracy: 0.86914\n",
      "   y:  Crown; you come from the meeting at the Crown.” |  | “No, no, that’s to-morrow; and I particularly \n",
      "  yp:  waown; aou wome from the maeting it the Crown.” |  | “No, no, that’s to--orrow; and I particularly \n",
      "Epoch: 276.68, iter: 134600, cross-entropy: 0.431, accuracy: 0.86768\n",
      "   y: to the Grange Park, and | try mine.' |  | Linton did not appear to remember what she talked of and he \n",
      "  yp: th bhe prange;oark, fnd tha fyne.' |  | 'inton did not appear to remember what she talked of and se \n",
      "Epoch: 277.09, iter: 134800, cross-entropy: 0.446, accuracy: 0.86361\n",
      "   y: ulder he lifted the ladies. \"What Hewet fails to | understand,\" he remarked, \"is that we must brea\n",
      "  yp: nld r aa wested the lities. \"What hewet fails to | understand,\" he remarked, \"is that we must brea\n",
      "----------------- temperature = 0.2 ----------------------\n"
     ]
    },
    {
     "data": {
      "text/html": [
       "<span style=\"background-color:#d8daef;\">                                                       </span><sup>[1]</sup><span style=\"background-color:#d8daef;\">                                                       </span><sup>[1]</sup><span style=\"background-color:#d8daef;\">                                                       </span><sup>[1]</sup><span style=\"background-color:#d8daef;\">                                                       </span><sup>[1]</sup><span style=\"background-color:#d8daef;\">                                                       </span><sup>[1]</sup><span style=\"background-color:#d8daef;\">                                                       </span><sup>[1]</sup><span style=\"background-color:#d8daef;\">                                                       </span><sup>[1]</sup><span style=\"background-color:#d8daef;\">                                                       </span><sup>[1]</sup><span style=\"background-color:#d8daef;\">                                                       </span><sup>[1]</sup><span style=\"background-color:#d8daef;\">                                                       </span><sup>[1]</sup><span style=\"background-color:#d8daef;\">                                                       </span><sup>[1]</sup><span style=\"background-color:#d8daef;\">                                                       </span><sup>[1]</sup><span style=\"background-color:#d8daef;\">                                                       </span><sup>[1]</sup><span style=\"background-color:#d8daef;\">                                                       </span><sup>[1]</sup><span style=\"background-color:#d8daef;\">                                                       </span><sup>[1]</sup><span style=\"background-color:#d8daef;\">                                                       </span><sup>[1]</sup><span style=\"background-color:#d8daef;\">                                                       </span><sup>[1]</sup><span style=\"background-color:#d8daef;\">                                                       </span><sup>[1]</sup>          "
      ],
      "text/plain": [
       "<IPython.core.display.HTML object>"
      ]
     },
     "metadata": {},
     "output_type": "display_data"
    },
    {
     "data": {
      "text/html": [
       "<small><p style=\"text-align:right;\">Sources: <span style=\"background-color:#d8daef;\">emma-jane-austen</span><sup>[1]</sup></p></small>"
      ],
      "text/plain": [
       "<IPython.core.display.HTML object>"
      ]
     },
     "metadata": {},
     "output_type": "display_data"
    },
    {
     "name": "stdout",
     "output_type": "stream",
     "text": [
      "----------------- temperature = 0.6 ----------------------\n"
     ]
    },
    {
     "data": {
      "text/html": [
       "<span style=\"background-color:#d8daef;\">                                                       </span><sup>[1]</sup><span style=\"background-color:#d8daef;\">                                                       </span><sup>[1]</sup><span style=\"background-color:#d8daef;\">                                                       </span><sup>[1]</sup><span style=\"background-color:#d8daef;\">                                         WINDS</span><sup>[1]</sup>SLJYJ- Sifxing the contrary, he<span style=\"background-color:#d8daef;\"> ought to have been a </span><sup>[1]</sup>curtsey,<br>some to his way. <span style=\"background-color:#ebdef0;\"> I don't like to see any</span><sup>[2]</sup> yet, close so<br>duling so strong a serious brother farther stream, and he told me to<br>complete the inmer-long volume she made her sister and<span style=\"background-color:#eadbd8;\"> exceedingly shocked </span><sup>[3]</sup>me without<br>inclination; for ever heart a hasty bonnet in the room--the difficulty<br>of provoking his own plan.  How<span style=\"background-color:#e2d7d5;\"> struck me that his </span><sup>[4]</sup>visit rides so lightly,<br>but papa comes, a better nature which often ever write against him.<br>They shout an hour for the same tim<span style=\"background-color:#eadbd8;\">e very pleasing women</span><sup>[3]</sup>--and could hardly<br>adves, if not<span style=\"background-color:#eadbd8;\"> with Mrs. Bennet before breakfast, </span><sup>[3]</sup>the<br>sea which sounded confurtaacome<span style=\"background-color:#eadbd8;\"> particularly to her</span><sup>[3]</sup>self, and watched the<br>lips and the sky, after a pause, on horseback. So miserable and animals to<br>long to see her in confusi"
      ],
      "text/plain": [
       "<IPython.core.display.HTML object>"
      ]
     },
     "metadata": {},
     "output_type": "display_data"
    },
    {
     "data": {
      "text/html": [
       "<small><p style=\"text-align:right;\">Sources: <span style=\"background-color:#d8daef;\">emma-jane-austen</span><sup>[1]</sup>, <span style=\"background-color:#ebdef0;\">voyage-out-virginia-woolf</span><sup>[2]</sup>, <span style=\"background-color:#eadbd8;\">pride-prejudice-jane-austen</span><sup>[3]</sup>, <span style=\"background-color:#e2d7d5;\">wuthering-heights-emily-bronte</span><sup>[4]</sup></p></small>"
      ],
      "text/plain": [
       "<IPython.core.display.HTML object>"
      ]
     },
     "metadata": {},
     "output_type": "display_data"
    },
    {
     "name": "stdout",
     "output_type": "stream",
     "text": [
      "----------------- temperature = 1.0 ----------------------\n"
     ]
    },
    {
     "data": {
      "text/html": [
       "<span style=\"background-color:#d8daef;\">                     WINDS</span><sup>[1]</sup>ACORSALLIET.<br><br><br><br>CHAPTER XI<br><br><br>The natural digzed, shook habinder o<span style=\"background-color:#eadbd8;\">n Hertfordshire before he </span><sup>[3]</sup>has<br>promised to you in myself.\"<br><br>The river, the Manth was the one hand, leapt out. The varietias<br>of<span style=\"background-color:#eadbd8;\"> Mr. and Mrs. Collins </span><sup>[3]</sup>was whisper to him with an additation to the<br>strangest girls--and it out, now when you did in the power of feeling of<br>snow.”--She<span style=\"background-color:#d8daef;\"> could not forgive h</span><sup>[1]</sup>imself to hear the profound gagarity.<br><br>Harriet, Heathcliff of his own, if he were beyond exabele ancient,<br>and he had just passed undoubted, that Colonel F., Mr. Darcy! But<br>we dnevel absent--but what a different thing is always as my father.--Nay,<br>when I am back, to high, and there have<span style=\"background-color:#d8daef;\"> nothing to be done </span><sup>[1]</sup>in knowing nothing but<br>more; perhaps, indeed, where they are not far from<br>worshippies, sir--minded as if in a tree, with eyes the lane stream by side.<br><br>'Sure--' <br>-     Lominged at her brother and size, and she was not construing low<br>in purposing his company, and showed her back to Rosings, and the exercise"
      ],
      "text/plain": [
       "<IPython.core.display.HTML object>"
      ]
     },
     "metadata": {},
     "output_type": "display_data"
    },
    {
     "data": {
      "text/html": [
       "<small><p style=\"text-align:right;\">Sources: <span style=\"background-color:#d8daef;\">emma-jane-austen</span><sup>[1]</sup>, <span style=\"background-color:#eadbd8;\">pride-prejudice-jane-austen</span><sup>[3]</sup></p></small>"
      ],
      "text/plain": [
       "<IPython.core.display.HTML object>"
      ]
     },
     "metadata": {},
     "output_type": "display_data"
    },
    {
     "name": "stdout",
     "output_type": "stream",
     "text": [
      "---------------------------------------\n",
      "Epoch: 277.50, iter: 135000, cross-entropy: 0.428, accuracy: 0.87386\n",
      "   y:  were indebted for their present good understanding | to the efforts of his aunt, who _did_ call o\n",
      "  yp:  aire an ibted.for eheir present vood understanding | to the enforts of his aunt, who cdid_ call o\n",
      "Epoch: 277.91, iter: 135200, cross-entropy: 0.442, accuracy: 0.86735\n",
      "   y: st as he | was sliding into one of the long feasts of meditation about them both, | he checked himse\n",
      "  yp: re bs Ie was toiging into one of the long selsts of teditation anout the  both, | he loacked himse\n",
      "Epoch: 278.32, iter: 135400, cross-entropy: 0.438, accuracy: 0.87354\n",
      "   y: he stairs at half-past ten, that she examined so closely | and wanted so vehemently to smash to at\n",
      "  yp:  e caabrs.wn dilf-past twn, that she wxamined so dlosely | and wanted so vehemently to dmish to at\n",
      "Epoch: 278.73, iter: 135600, cross-entropy: 0.442, accuracy: 0.86930\n",
      "   y: n never know | when things are dirty or not;” and the gentlemen perhaps thought each to | himself, “\n",
      "  yp:  ttover tnownwhan thengs are dirty or not;” and the gentlemen prrhaps thought each to | himself, “\n",
      "Epoch: 279.14, iter: 135800, cross-entropy: 0.441, accuracy: 0.86621\n",
      "   y: La Baronne d’Almane on La Comtesse d’Ostalis, in Madame | de Genlis’ Adelaide and Theodore, and we\n",
      "  yp: tidsirsn e qyn'mane on tarsomtesse seOntalis, is Mrdame | ae Brnlis’ Adelaide and Theodore, and te\n",
      "Epoch: 279.55, iter: 136000, cross-entropy: 0.433, accuracy: 0.87484\n",
      "   y: , and that | I am never mentioned to her.  To whom should she mention me if I am a | forbidden topic\n",
      "  yp:   and thet t cm never mentioned to her-  Fo whom sheuld she cention me if I am a | forbidden topic\n",
      "Epoch: 279.97, iter: 136200, cross-entropy: 0.441, accuracy: 0.86654\n",
      "   y:  Mr. Bingley | and his sister pressed them to stay longer, she could spare them very | well.--Agains\n",
      "  yp:  tr. Eingley'tnd his distersmressed them to seay longer, she could npere them very | well.--Again \n",
      "Epoch: 280.38, iter: 136400, cross-entropy: 0.435, accuracy: 0.87435\n",
      "   y: might offer some advice that would make you | happier.' |  | 'What is that?' he asked.  'Give it.' |  | 'Y\n",
      "  yp: teght bffer su e snvice that Mould make tou happier.' |  | 'What is that?' he asked.  'Give it ' |  | 'Y\n",
      "Epoch: 280.79, iter: 136600, cross-entropy: 0.453, accuracy: 0.86296\n",
      "   y: o believe it without proof.” |  | “How odd you are! What has Mr. Frank Churchill done, to make you s\n",
      "  yp:   te ieve tt tathout proof.” |  | “How sdd you are! What has Mr. Frank Churchill tone, th make yeu s\n",
      "Epoch: 281.20, iter: 136800, cross-entropy: 0.416, accuracy: 0.87126\n",
      "   y:  folly to be disturbed by it. Of | course, he must be sorry to lose her--they must be all sorry. A\n",
      "  yp:  aorly ah de descurbed by tt. Of | course, he aust be sorry to lose her--they most be sllosorry. A\n",
      "Epoch: 281.61, iter: 137000, cross-entropy: 0.433, accuracy: 0.86882\n",
      "   y: s conduct, without an intimate | knowledge of their situation. Nobody, who has not been in the int\n",
      "  yp: s ponduct  whth ut anyintimate cnowledge of their situation. Tobody, who has not been in the wnt\n",
      "Epoch: 282.02, iter: 137200, cross-entropy: 0.436, accuracy: 0.86702\n",
      "   y: you both tremendously happy?\" |  | But the attention of the group was diverted to Mrs. Elliot, who w\n",
      "  yp: tou teth toumendously banpy?\" |  | But the gttention of the haaup,was doverted to Mrs. Elliot, who w\n",
      "Epoch: 282.43, iter: 137400, cross-entropy: 0.435, accuracy: 0.87174\n",
      "   y: . The | housekeeper declared she knew nothing of my being expected.--Very | extraordinary!--And nobo\n",
      "  yp:    he wousekeeper declared she wnew tothing of my being ixpected --Pery | pxaraordinary!--Tnd nobo\n",
      "Epoch: 282.84, iter: 137600, cross-entropy: 0.440, accuracy: 0.87028\n",
      "   y: h always marks the | transition from the imaginary world to the real world. |  | \"What I want to know,\n",
      "  yp: e anlays gakrs ahe srunsition from the wmaginary iorld.th hhempels world.  | \"What c want to know,\n",
      "Epoch: 283.25, iter: 137800, cross-entropy: 0.418, accuracy: 0.87354\n",
      "   y: ten a great many letters, and had | obtained Willoughby's consent. She had dwelt so often upon Mr.\n",
      "  yp: her ansreat dany setters. and had | obsained Willoughby's conftnt. She had awelt so often upon hr.\n",
      "Epoch: 283.67, iter: 138000, cross-entropy: 0.425, accuracy: 0.87223\n",
      "   y: ill you gain by walking?\" |  | \"You'll be hot and disagreeable by tea-time, we shall be cool and | swe\n",
      "  yp: atl bou hiin ty yalking \" |  | \"Iou'll be hot and disagreeable bu tea time, we shall be caol and | swe\n",
      "Epoch: 284.08, iter: 138200, cross-entropy: 0.431, accuracy: 0.86947\n",
      "   y: .” |  | “Excuse me,” said Jane earnestly, “I cannot by any means consent to such | an arrangement, so \n",
      "  yp:    |  | “Axause me,” said Jane earnestly, “t hannot by any means wonsent to such | an arrangement, so \n",
      "Epoch: 284.49, iter: 138400, cross-entropy: 0.424, accuracy: 0.87370\n",
      "   y: all the | natural grace of sweetness of temper and artlessness in herself. I have | done very little\n",
      "  yp: tnl the tetural drave of sueetness of temper and prtlessness in herself. I hove | done very little\n",
      "Epoch: 284.90, iter: 138600, cross-entropy: 0.435, accuracy: 0.87142\n",
      "   y: ppearance, or | rather approving of it, standing a little way back from the glass and | looking at h\n",
      "  yp: npearence  ar cather approving uf it, ttanding atlittle way back from the gaass and | wooking at h\n",
      "Epoch: 285.31, iter: 138800, cross-entropy: 0.439, accuracy: 0.86816\n",
      "   y: which were left uncurtained by Helen's orders. | Darkness fell as sharply as a knife in this clima\n",
      "  yp: taich sa e seft ancurtained by Halen's orders. | Barkness fell as sherply as a wnife in thes clima\n",
      "Epoch: 285.72, iter: 139000, cross-entropy: 0.456, accuracy: 0.86410\n",
      "   y: to the | court or garden the moment I began; and, as a last resource, cried, and | said she was tire\n",
      "  yp:    the ponrt-tf rarden rhe marent I cegan; and  as a last reseurce, cried, and | said she wos tire\n",
      "Epoch: 286.13, iter: 139200, cross-entropy: 0.424, accuracy: 0.87061\n",
      "   y: 'll call him,' I replied.  'He's in the barn, I've no doubt.' |  | I went and called, but got no ans\n",
      "  yp:  ll botl hem   I aeplied. |  'Te's in the barn, I'me no doubt.' |  | I dent and called  Iut Hot no ans\n",
      "Epoch: 286.54, iter: 139400, cross-entropy: 0.441, accuracy: 0.86572\n",
      "   y: e to answer, before they were joined by Kitty, | who came to tell the same news, and no sooner had\n",
      "  yp: e to t  wer  nucore they cene aoined by Mitty, | who came to tell the same sews, and towsooner had\n",
      "Epoch: 286.95, iter: 139600, cross-entropy: 0.436, accuracy: 0.86751\n",
      "   y: you quite sure, Ma'am?--is not there a little mistake?\" said | Jane.--\"I certainly saw Mr. Darcy s\n",
      "  yp: tou auite mure  Mrdam?--is not the e a little mistake?\" said | Jane.--“I hertainly saw Mr. Darcy h\n",
      "Epoch: 287.37, iter: 139800, cross-entropy: 0.435, accuracy: 0.87077\n",
      "   y: h men you must run risks. Personally,\" she continued, | breaking into a smile, \"I think it's worth\n",
      "  yp:  eto  aou kust hun sisks. Personally,\" sae continued, | sreaking into a cmale, \"I think it's worth\n",
      "----------------- temperature = 0.2 ----------------------\n"
     ]
    },
    {
     "data": {
      "text/html": [
       "<span style=\"background-color:#d8daef;\">                                                       </span><sup>[1]</sup><span style=\"background-color:#d8daef;\">                                                       </span><sup>[1]</sup><span style=\"background-color:#d8daef;\">                                                       </span><sup>[1]</sup><span style=\"background-color:#d8daef;\">                                                       </span><sup>[1]</sup><span style=\"background-color:#d8daef;\">                                                       </span><sup>[1]</sup><span style=\"background-color:#d8daef;\">                                                       </span><sup>[1]</sup><span style=\"background-color:#d8daef;\">                                                       </span><sup>[1]</sup><span style=\"background-color:#d8daef;\">                                                       </span><sup>[1]</sup><span style=\"background-color:#d8daef;\">                                                       </span><sup>[1]</sup><span style=\"background-color:#d8daef;\">                                                       </span><sup>[1]</sup><span style=\"background-color:#d8daef;\">                                                       </span><sup>[1]</sup><span style=\"background-color:#d8daef;\">                                                       </span><sup>[1]</sup><span style=\"background-color:#d8daef;\">                                                       </span><sup>[1]</sup><span style=\"background-color:#d8daef;\">                                                       </span><sup>[1]</sup><span style=\"background-color:#d8daef;\">                                                       </span><sup>[1]</sup><span style=\"background-color:#d8daef;\">                                                       </span><sup>[1]</sup><span style=\"background-color:#d8daef;\">                                                       </span><sup>[1]</sup><span style=\"background-color:#d8daef;\">                                                       </span><sup>[1]</sup>          "
      ],
      "text/plain": [
       "<IPython.core.display.HTML object>"
      ]
     },
     "metadata": {},
     "output_type": "display_data"
    },
    {
     "data": {
      "text/html": [
       "<small><p style=\"text-align:right;\">Sources: <span style=\"background-color:#d8daef;\">emma-jane-austen</span><sup>[1]</sup></p></small>"
      ],
      "text/plain": [
       "<IPython.core.display.HTML object>"
      ]
     },
     "metadata": {},
     "output_type": "display_data"
    },
    {
     "name": "stdout",
     "output_type": "stream",
     "text": [
      "----------------- temperature = 0.6 ----------------------\n"
     ]
    },
    {
     "data": {
      "text/html": [
       "<span style=\"background-color:#d8daef;\">                                                       </span><sup>[1]</sup><span style=\"background-color:#d8daef;\">                                                       </span><sup>[1]</sup><span style=\"background-color:#d8daef;\">                               “</span><sup>[1]</sup>‘ A, AmeDyoun’.”<br><br>“Yes, simple and gentle Forsteres. We must not be<span style=\"background-color:#d8daef;\"> happy. I congratulate you,</span><sup>[1]</sup><br>does allow me to answer me.<span style=\"background-color:#eadbd8;\">\"<br><br>\"No, my dear; I think not</span><sup>[3]</sup><span style=\"background-color:#eadbd8;\"> in the same profession</span><sup>[3]</sup>. His coming in every thing<br>never come by a black pride<span style=\"background-color:#ebdef0;\"> of the gentlemen.<br><br></span><sup>[2]</sup>However she got them; they had a heart of the summer. As for a moment how<br>little to show of Mr. Darcy. It was not untamed by the interior clina has<br>observed her to do in<span style=\"background-color:#ebdef0;\"> different people in the</span><sup>[2]</sup> world; for on the subject<br>I would always tell<span style=\"background-color:#ebdef0;\"> the approach of the other</span><sup>[2]</sup> parason, or a few words of<span style=\"background-color:#eadbd8;\"> his<br>countenance! such an openness and g</span><sup>[3]</sup>ood spirits. Mr. Weston is deserved<br>not all wild, and make a match on the same day--and in a more<span style=\"background-color:#e2d7d5;\"> reflection from<br>her</span><sup>[4]</sup>self. There was certain at the food<span style=\"background-color:#d8daef;\"> as soon as he could </span><sup>[1]</sup>have no more than<br>she had injured a foolish stit<span style=\"background-color:#e2d7d5;\"> at the Heights, and </span><sup>[4]</sup>the ship getting the better.<br>He gave"
      ],
      "text/plain": [
       "<IPython.core.display.HTML object>"
      ]
     },
     "metadata": {},
     "output_type": "display_data"
    },
    {
     "data": {
      "text/html": [
       "<small><p style=\"text-align:right;\">Sources: <span style=\"background-color:#d8daef;\">emma-jane-austen</span><sup>[1]</sup>, <span style=\"background-color:#eadbd8;\">pride-prejudice-jane-austen</span><sup>[3]</sup>, <span style=\"background-color:#ebdef0;\">voyage-out-virginia-woolf</span><sup>[2]</sup>, <span style=\"background-color:#e2d7d5;\">wuthering-heights-emily-bronte</span><sup>[4]</sup></p></small>"
      ],
      "text/plain": [
       "<IPython.core.display.HTML object>"
      ]
     },
     "metadata": {},
     "output_type": "display_data"
    },
    {
     "name": "stdout",
     "output_type": "stream",
     "text": [
      "----------------- temperature = 1.0 ----------------------\n"
     ]
    },
    {
     "data": {
      "text/html": [
       "     “ . You say, my dear sir<span style=\"background-color:#d8daef;\">.”<br><br>“Yes,” said he, smiling. “</span><sup>[1]</sup>But, without any alarm; <span style=\"background-color:#e2d7d5;\">I thought I was lying<br></span><sup>[4]</sup>about him and amusement; that corfidence in this danger,--the<br>only proof of the nephew: it had always seen him.  He was an interesting<br>silver pause, and the tennis covering babies of a child about the flick<br>of the hall, \"and let Catherine to-night--I must stop for<br>some one to talk to her; and so on poor Isabella whose<br>creatures in England walking about it<span style=\"background-color:#e2d7d5;\">, and then we might have be</span><sup>[4]</sup>guoled there,<br>with the declaring that an errand rejection is gathing. I can hardly<br>exect and make it smart.'<br><br>You'll be prepare on my live months;<span style=\"background-color:#eadbd8;\"> you are determined to </span><sup>[3]</sup>be thrust<br>to Misses has. You must not come with me. And I have valuts<br>covered with the unexhebland direction: and Jane became a note of<br>them, Hirst were evidently disposed of forming a drawbacy in<br>England; and inquired what would receive<span style=\"background-color:#ebdef0;\">d the impression of </span><sup>[2]</sup>never<br>made them so close to them; only a few remarks on the head. Will you know her r"
      ],
      "text/plain": [
       "<IPython.core.display.HTML object>"
      ]
     },
     "metadata": {},
     "output_type": "display_data"
    },
    {
     "data": {
      "text/html": [
       "<small><p style=\"text-align:right;\">Sources: <span style=\"background-color:#d8daef;\">emma-jane-austen</span><sup>[1]</sup>, <span style=\"background-color:#e2d7d5;\">wuthering-heights-emily-bronte</span><sup>[4]</sup>, <span style=\"background-color:#eadbd8;\">pride-prejudice-jane-austen</span><sup>[3]</sup>, <span style=\"background-color:#ebdef0;\">voyage-out-virginia-woolf</span><sup>[2]</sup></p></small>"
      ],
      "text/plain": [
       "<IPython.core.display.HTML object>"
      ]
     },
     "metadata": {},
     "output_type": "display_data"
    },
    {
     "name": "stdout",
     "output_type": "stream",
     "text": [
      "---------------------------------------\n",
      "Epoch: 287.78, iter: 140000, cross-entropy: 0.421, accuracy: 0.87646\n",
      "   y: ocked the | other day--for Mr. Knightley called one morning, and Jane was eating | these apples, and\n",
      "  yp: euaer aoe pther dan--aor sr. Wnightley called one morning, and Mane was eating | these apples, and\n",
      "Epoch: 288.19, iter: 140200, cross-entropy: 0.420, accuracy: 0.87484\n",
      "   y: e under their skins, illustrating this by the | resemblance of the games which little Spanish boys\n",
      "  yp: e tpder the r | biins, inlustrating thes by the | resemblance of the pames which hittle mhanish boys\n",
      "Epoch: 288.60, iter: 140400, cross-entropy: 0.425, accuracy: 0.87256\n",
      "   y:  whether she were dead or alive, but as your friend. If she | has fancied otherwise, her own wishe\n",
      "  yp:  tiinher Ihe here aead,or a | ive. but as your friend! Yf she | hes fancied otherwise, he  own hishe\n",
      "Epoch: 289.01, iter: 140600, cross-entropy: 0.418, accuracy: 0.87240\n",
      "   y: 'Damned--thou saucy witch!' he replied. |  | 'There, Miss Cathy! you see you have got into pretty co\n",
      "  yp:  | Aemn!d,-thau aaucy watch!' he replied.  | 'There, Mrss Cathy? you see you have rot into tresty ch\n",
      "Epoch: 289.42, iter: 140800, cross-entropy: 0.427, accuracy: 0.87451\n",
      "   y: \" |  | \"In Picadilly? They are prostituted,\" said Helen. |  | \"It _is_ terrifying--it _is_ disgusting,\" \n",
      "  yp:    | \"P dtictdilly? They are prostituted,\" said Relen. |  | \"It sis_ terrifying--it _is_ disgustingl\" \n",
      "Epoch: 289.83, iter: 141000, cross-entropy: 0.412, accuracy: 0.87760\n",
      "   y: on of her brother's being partial to Miss Darcy she paid no | credit. That he was really fond of J\n",
      "  yp: nn of hir seother s being pastial to tiss Darcy.soe | paid | no | credit. That he was neally fond of l\n",
      "Epoch: 290.24, iter: 141200, cross-entropy: 0.429, accuracy: 0.87240\n",
      "   y: not make due allowance for the | influence of a strong passion at war with all interested motives.\n",
      "  yp: tot tere yel tll wance for tha | dnfluence of J strang pession at Rar with tll interested motives.\n",
      "Epoch: 290.65, iter: 141400, cross-entropy: 0.423, accuracy: 0.86898\n",
      "   y: naries in town, had a fortune of twenty thousand pounds, were in the | habit of spending more than\n",
      "  yp: ngryts tn thwn, wad bcvertune of twenty thousand pounds, were in the | habit of spending more than\n",
      "Epoch: 291.07, iter: 141600, cross-entropy: 0.437, accuracy: 0.86621\n",
      "   y: r uncle, when they were young.  That was yesterday--I said they | were mine, too; and tried to get\n",
      "  yp:   tndle  ehin they were bourg.  That sas testerdiy -I suid they | were hone, to ; and tried ho get\n",
      "Epoch: 291.48, iter: 141800, cross-entropy: 0.412, accuracy: 0.87598\n",
      "   y: at she were better. | She answered him with cold civility. He sat down for a few moments, and | then\n",
      "  yp: et the ware oytter  She wnswered him aith cold civility. He stt down for a mew moments, and | the \n",
      "Epoch: 291.89, iter: 142000, cross-entropy: 0.418, accuracy: 0.87777\n",
      "   y: hing. Not that James ever | complains; but it is right to spare our horses when we can. If I could\n",
      "  yp:  eng  Tot that Ianes ever complains;-but nt is right to shere fur berses then we can. It I could\n",
      "Epoch: 292.30, iter: 142200, cross-entropy: 0.442, accuracy: 0.86686\n",
      "   y: month which Mrs. Churchill | is ordered, or has ordered herself, to spend in some warmer place tha\n",
      "  yp: terthsahich Irs. Ahurchill ws frdered, or has ordered her elf, to spead tn some warm r plece tha\n",
      "Epoch: 292.71, iter: 142400, cross-entropy: 0.423, accuracy: 0.87337\n",
      "   y: rather than have your | disagreeable voice in my ear!\" said my lady. |  | 'Hareton muttered she might \n",
      "  yp: teiher than tele your disagreeable voice in my eyr!\" said Hy lady. |  | 'Hareton muttered she might \n",
      "Epoch: 293.12, iter: 142600, cross-entropy: 0.417, accuracy: 0.87435\n",
      "   y: ht have borne with me better; but his father's uncommon | attachment to me, irritated him I believ\n",
      "  yp:  t aeve berne iith me.catter; aut his father's uncommon | cttachment to me, irritated him I believ\n",
      "Epoch: 293.53, iter: 142800, cross-entropy: 0.414, accuracy: 0.87891\n",
      "   y: Weston had, of course, | formed a very favourable idea of the young man; and such a pleasing | atten\n",
      "  yp: teston wad  of aourse, tor ed a very favourable idea of the young man; and buch a poeasing | atten\n",
      "Epoch: 293.94, iter: 143000, cross-entropy: 0.434, accuracy: 0.86816\n",
      "   y: Churchill so long talked of, so high in interest, was actually | before her--he was presented to h\n",
      "  yp: taarchill ahmaosg ahlked of, to tigh in anterest, ais | abtually | before her--he was iresentld to h\n",
      "Epoch: 294.35, iter: 143200, cross-entropy: 0.446, accuracy: 0.86605\n",
      "   y: rself alone.  I want to ask you two | questions: the first is,--How did you contrive to preserve t\n",
      "  yp: t elf,tnlne   Y want to ask you two questions: the first is  -How did iou contrive to peeserve t\n",
      "Epoch: 294.77, iter: 143400, cross-entropy: 0.441, accuracy: 0.86800\n",
      "   y: if only for the sake of the flowering trees which grew wild quite near | the house, and the amazin\n",
      "  yp:  | n tney hor ahe sake of the siowering trees ahich grew wild wuite naar | the bouse, and the gmazin\n",
      "Epoch: 295.18, iter: 143600, cross-entropy: 0.428, accuracy: 0.87061\n",
      "   y: le period of my | life, I had a notion of the kind: it haunted me on my return to the | neighbourhoo\n",
      "  yp: ee trrsod wf wy | life, I had a notion of the kind: it haunted me on my return to the | neighbourhoo\n",
      "Epoch: 295.59, iter: 143800, cross-entropy: 0.411, accuracy: 0.87777\n",
      "   y:  power of--of Mr. Wickham. They are gone off together | from Brighton. _You_ know him too well to \n",
      "  yp:  taser of -or Mr. | Wickham. They are gone dff together | from Brighton. _You_ know him too well to \n",
      "Epoch: 296.00, iter: 144000, cross-entropy: 0.407, accuracy: 0.87777\n",
      "   y:  starve or simply laugh at them. | When have you ever encouraged a living artist? Or bought his be\n",
      "  yp:  torntedar tilply hiugh at them.  | hen tave you ever encouraged a yifing artist? Or buught him be\n",
      "Epoch: 296.41, iter: 144200, cross-entropy: 0.399, accuracy: 0.87630\n",
      "   y: the matter as you do now.\" |  | \"Indeed I could not. I was uncomfortable enough. I was very | uncomfor\n",
      "  yp:  | he satcer ss tou ro.now.\" |  | \"Indeed I hould not. I was vnconfortable enough. I was very | unwomfor\n",
      "Epoch: 296.82, iter: 144400, cross-entropy: 0.446, accuracy: 0.86621\n",
      "   y:  doubt his affection. Miss Bingley I am sure cannot. She is | not such a simpleton. Could she have\n",
      "  yp:  tenbt tes fffection   iss Bingley I mm sure sannot. Dhe is | not soch a simpleton. Could she have\n",
      "Epoch: 297.23, iter: 144600, cross-entropy: 0.421, accuracy: 0.87858\n",
      "   y:  | frightens her--she heard papa coming, and she broke the hinges and | divided the case, and gave m\n",
      "  yp:  tooehteneswar.-she heard papa coming, and she heoke the aanges and | divided the sose, and gave m\n",
      "Epoch: 297.64, iter: 144800, cross-entropy: 0.430, accuracy: 0.87256\n",
      "   y: y fun in it. Lord! | how I should like to be married before any of you; and then I would | chaperon \n",
      "  yp:   tot!on tt.”Sord! how I should like to be married before any of you; and then I would | nhaperon \n",
      "----------------- temperature = 0.2 ----------------------\n"
     ]
    },
    {
     "data": {
      "text/html": [
       "<span style=\"background-color:#d8daef;\">                                                       </span><sup>[1]</sup><span style=\"background-color:#d8daef;\">                                                       </span><sup>[1]</sup><span style=\"background-color:#d8daef;\">                                                       </span><sup>[1]</sup><span style=\"background-color:#d8daef;\">                                                       </span><sup>[1]</sup><span style=\"background-color:#d8daef;\">                                                       </span><sup>[1]</sup>     Wouls badn, and I think she had<span style=\"background-color:#d8daef;\"> the consequence of </span><sup>[1]</sup>all the<br>finest good form. Her ear groan on Miss Bates garrer to let it rai<span style=\"background-color:#d8daef;\">n;<br>but no sooner did I come to the men</span><sup>[1]</sup> who want to go to me!<span style=\"background-color:#ebdef0;\">\" she<br>continued, \"wh</span><sup>[2]</sup>y <span style=\"background-color:#d8daef;\">is Miss Fairfax going?</span><sup>[1]</sup>\"<br><br>\"I shall think some years ago,<span style=\"background-color:#eadbd8;\"> she will not have him</span><sup>[3]</sup>,<span style=\"background-color:#ebdef0;\">\" she exclaimed,<br>drawing Willoughby </span><sup>[2]</sup>for a short time.<span style=\"background-color:#ebdef0;\"><br><br>\"And what did the co</span><sup>[2]</sup>mmon figures in the nature of all that required to<br>make any removal.\"<br><br>\"Yes, very happy.\"<br><br>S<span style=\"background-color:#ebdef0;\">he was struck by the </span><sup>[2]</sup>bed in the vicality of a well-bred man--and, in short,<br>where they would set my chance of her, and stoop, don't you?  Why did I get<br>on white clothes when<span style=\"background-color:#ebdef0;\"> they were so different, </span><sup>[2]</sup>and she had the most that,<br>had mosted that her head in sening to plant"
      ],
      "text/plain": [
       "<IPython.core.display.HTML object>"
      ]
     },
     "metadata": {},
     "output_type": "display_data"
    },
    {
     "data": {
      "text/html": [
       "<small><p style=\"text-align:right;\">Sources: <span style=\"background-color:#d8daef;\">emma-jane-austen</span><sup>[1]</sup>, <span style=\"background-color:#ebdef0;\">voyage-out-virginia-woolf</span><sup>[2]</sup>, <span style=\"background-color:#eadbd8;\">pride-prejudice-jane-austen</span><sup>[3]</sup></p></small>"
      ],
      "text/plain": [
       "<IPython.core.display.HTML object>"
      ]
     },
     "metadata": {},
     "output_type": "display_data"
    },
    {
     "name": "stdout",
     "output_type": "stream",
     "text": [
      "----------------- temperature = 0.6 ----------------------\n"
     ]
    },
    {
     "data": {
      "text/html": [
       "          Wouls blueding up one'<span style=\"background-color:#d8daef;\">s mother and sisters, </span><sup>[1]</sup>I should call it all so little<br>of _our_ cas<span style=\"background-color:#d8daef;\">e as soon as possible. </span><sup>[1]</sup>We willed us do anything to that young<br>people.'<br><span style=\"background-color:#d8daef;\"><br>She was quite convinced of </span><sup>[1]</sup>his<span style=\"background-color:#e2d7d5;\"> more than you would </span><sup>[4]</sup>be overrather. We<br>will be that there? Oh!<span style=\"background-color:#d8daef;\"> Mrs. Weston, there is a </span><sup>[1]</sup>larch of us, you tell<br>what you felt, no mind to accept the<span style=\"background-color:#d8daef;\"> intercourse with him.</span><sup>[1]</sup> Miss Bennet<br>was plaked.<br><br>\"But how must I do? S. was it would be making her well by<br>no means she was not quiet. Nothing could be cruelly too good. Well, he may<br>take certain and good smiles of funetal, or grandmama ax all, and it might<br>no<span style=\"background-color:#e2d7d5;\">t have forgotten the c</span><sup>[4]</sup>arriage, before he had to sa<span style=\"background-color:#eadbd8;\">y, on the contrary, </span><sup>[3]</sup>when the<br>figures proposed to them.<br><br>\"If I would rather lost one of the meal<span style=\"background-color:#ebdef0;\">s,\" he remarked. \"No</span><sup>[2]</sup>t _your_ choice,<br><br>     Yourselves inflicting me with creating and gest-reach,” he exclaimed<br>assembreted, “but I must<span style=\"background-color:#d8daef;\"> not have said such a thing to </span><sup>[1]</sup>marry!--You are justly complacently when the present hallans would<br>altogether; he had"
      ],
      "text/plain": [
       "<IPython.core.display.HTML object>"
      ]
     },
     "metadata": {},
     "output_type": "display_data"
    },
    {
     "data": {
      "text/html": [
       "<small><p style=\"text-align:right;\">Sources: <span style=\"background-color:#d8daef;\">emma-jane-austen</span><sup>[1]</sup>, <span style=\"background-color:#e2d7d5;\">wuthering-heights-emily-bronte</span><sup>[4]</sup>, <span style=\"background-color:#eadbd8;\">pride-prejudice-jane-austen</span><sup>[3]</sup>, <span style=\"background-color:#ebdef0;\">voyage-out-virginia-woolf</span><sup>[2]</sup></p></small>"
      ],
      "text/plain": [
       "<IPython.core.display.HTML object>"
      ]
     },
     "metadata": {},
     "output_type": "display_data"
    },
    {
     "name": "stdout",
     "output_type": "stream",
     "text": [
      "----------------- temperature = 1.0 ----------------------\n"
     ]
    },
    {
     "data": {
      "text/html": [
       "Wouls near Heathcliff's house, God by the fire, and<br>demanded my companion, and communicated, and could just mention--may know how attricultary<br>kindly<span style=\"background-color:#eadbd8;\"> feeling towards her</span><sup>[3]</sup>.--That was quite the affection for the prospect of<br>declining. His carriage had so much disple<span style=\"background-color:#eadbd8;\">, as the most generous of</span><sup>[3]</sup><br>her possessed state birds, before they kiss<br>me that his under-end, his sleesn birth, where the whole of the women were<br>now made<span style=\"background-color:#d8daef;\"> of it at the moment</span><sup>[1]</sup>; and she really was always rather occurred<br>to talk to them, any oice shore<span style=\"background-color:#eadbd8;\">.\"<br><br>\"I am sure I shall b</span><sup>[3]</sup>e created. She is my silence!--That every thing so<br>explain it, and to promuse a violent discussion for<br>pleasure, and died, as she was then bestowed of a<br>general sentence towerd and blesh<span style=\"background-color:#e2d7d5;\">ed, and looked into th</span><sup>[4]</sup>ose who write<span style=\"background-color:#e2d7d5;\"> to make him hateful</span><sup>[4]</sup>.”<br><br>He had done as slowing to the ship that the spry opan yomkeuw<br>vehbwoot?<br><br>'\"Joseph offer,' she certainly resumed; he drank him<br>delightfully evident<span style=\"background-color:#ebdef0;\"> that he would say that he </span><sup>[2]</sup>speaksed was painful to each<br>other? They should"
      ],
      "text/plain": [
       "<IPython.core.display.HTML object>"
      ]
     },
     "metadata": {},
     "output_type": "display_data"
    },
    {
     "data": {
      "text/html": [
       "<small><p style=\"text-align:right;\">Sources: <span style=\"background-color:#eadbd8;\">pride-prejudice-jane-austen</span><sup>[3]</sup>, <span style=\"background-color:#d8daef;\">emma-jane-austen</span><sup>[1]</sup>, <span style=\"background-color:#e2d7d5;\">wuthering-heights-emily-bronte</span><sup>[4]</sup>, <span style=\"background-color:#ebdef0;\">voyage-out-virginia-woolf</span><sup>[2]</sup></p></small>"
      ],
      "text/plain": [
       "<IPython.core.display.HTML object>"
      ]
     },
     "metadata": {},
     "output_type": "display_data"
    },
    {
     "name": "stdout",
     "output_type": "stream",
     "text": [
      "---------------------------------------\n",
      "Epoch: 298.05, iter: 145000, cross-entropy: 0.404, accuracy: 0.88151\n",
      "   y: . As she adjusted the soft brown fur about her neck a | fresh topic struck her. |  | \"I own,\" she said\n",
      "  yp: e Dn toe wpjurted the sout brown rur about her neck atfresh dopic struck her. |  | \"I own,\" she said\n",
      "Epoch: 298.47, iter: 145200, cross-entropy: 0.428, accuracy: 0.87126\n",
      "   y: aving screwed up his courage, exclaimed | abruptly--'Nelly, make me decent, I'm going to be good.'\n",
      "  yp: eteng toaueed up his cousage, exclaimed | abruptly--'Nelly, make me decent, I'm going to be foid.'\n",
      "Epoch: 298.88, iter: 145400, cross-entropy: 0.445, accuracy: 0.87077\n",
      "   y: out, and receiving a few, very few hints. She had all the | natural grace of sweetness of temper a\n",
      "  yp: tft  wnd seaeiveng a few  very few hints. She wad | alw the | setural grace of speetness of temper a\n",
      "Epoch: 299.29, iter: 145600, cross-entropy: 0.431, accuracy: 0.87223\n",
      "   y:  clearly following her thoughts | intently. Her education left her abundant time for thinking. Her\n",
      "  yp:  toevr y aorloweng her thoughts.antently. Her enucateon left her wnundant time for thenking  Her\n",
      "Epoch: 299.70, iter: 145800, cross-entropy: 0.424, accuracy: 0.87337\n",
      "   y:  lift a slate off either roof | has vanished!  My old enemies have not beaten me; now would be the\n",
      "  yp: uteke instive aff either roof | has nanished!  My pld enemies Iave not beaten me; now would be the\n",
      "Epoch: 300.11, iter: 146000, cross-entropy: 0.424, accuracy: 0.87126\n",
      "   y: the still more interesting one of Bingley's being | withheld from seeing Jane, she felt a solicitu\n",
      "  yp: the shorl sove dnteresting tne of tingley's being | wilhheld foom seeing Jane  she felt ansoricitu\n",
      "Epoch: 300.52, iter: 146200, cross-entropy: 0.427, accuracy: 0.86947\n",
      "   y: lls,' cried Heathcliff's stern voice from the kitchen entrance.  'As to | staying here, I don't ke\n",
      "  yp: nl    Iried siathcliff,s dtern voice:from the gitchen entrance.  'As to | stry ng here, I don't ke\n",
      "Epoch: 300.93, iter: 146400, cross-entropy: 0.424, accuracy: 0.87581\n",
      "   y: looking forwards; behind | it was another with which it immediately communicated; the door between\n",
      "  yp: tiokeng aor ard , behind | mt was another with which it smmediately compunicated  the door between\n",
      "Epoch: 301.34, iter: 146600, cross-entropy: 0.425, accuracy: 0.87093\n",
      "   y: t, she | may like to have her own way.\" |  | As she spoke, she observed him looking at her earnestly, \n",
      "  yp: n  ahe miy hike to have tir own way.\" |  | As hhe spoke, she bbserved him iioking at her earlestly. \n",
      "Epoch: 301.75, iter: 146800, cross-entropy: 0.426, accuracy: 0.87158\n",
      "   y: hem instantly on that head, she eagerly communicated the | cause of their summons, reading the two\n",
      "  yp: he  tn tantly tc thet pead, she wagerly communicated the | cause of their summons, reading the two\n",
      "Epoch: 302.17, iter: 147000, cross-entropy: 0.453, accuracy: 0.86344\n",
      "   y: d up to his that she had something | private to communicate. They went a few paces and Rachel saw \n",
      "  yp:   tpoah tis lhat she wad somehhing paovate to communicate. They went a faw paces and aachel saw \n",
      "Epoch: 302.58, iter: 147200, cross-entropy: 0.413, accuracy: 0.87630\n",
      "   y: essed, “Ah! | there is no end of the sad consequences of your going to South End. It | does not bear\n",
      "  yp: e t d  ats! mhare is no end of the bod consequences of your boing to South End. It | does not bear\n",
      "Epoch: 302.99, iter: 147400, cross-entropy: 0.413, accuracy: 0.87744\n",
      "   y:  bring only the freshness of a two | years’ absence. |  | Emma was sorry;--to have to pay civilities t\n",
      "  yp:  teong hnly aoa suush e s of a vae | years’ absence. |  | Emma was norry;--to have tolpay civilities t\n",
      "Epoch: 303.40, iter: 147600, cross-entropy: 0.418, accuracy: 0.87484\n",
      "   y: nter?  If you be, I'm certain one thing is not | stronger--your regard for me: speak,--are you?' |  | \n",
      "  yp: ngore  A' iou be, I'm certain one ihing is not | spronger--your regard for me: sheak,--are you?' |  | \n",
      "Epoch: 303.81, iter: 147800, cross-entropy: 0.423, accuracy: 0.87370\n",
      "   y: ander Pope | to-morrow.\" |  | \"Pope!\" snorted Mr. Elliot. \"Who reads Pope, I should like to know? | And \n",
      "  yp: tlt d tepp,toomorrow.  |  | \"Iope!\" saorted Mr. Elliot. \"Whamreads Pope, I saould like to know?'And \n",
      "Epoch: 304.22, iter: 148000, cross-entropy: 0.415, accuracy: 0.87679\n",
      "   y: elightful; he had told Harriet that | he had seen them go by, and had purposely followed them; oth\n",
      "  yp:  rightful  ae sad ao d Harriet that | te had seen them go by, and sed nrrposely fallowed them, oth\n",
      "Epoch: 304.63, iter: 148200, cross-entropy: 0.438, accuracy: 0.86670\n",
      "   y: ince you neither write nor call.' |  | I closed the door, and rolled a stone to assist the loosened \n",
      "  yp:  ngertou wevther write nor call ' |  | I closed the door, and relled a stone to avsist ahe loose ed \n",
      "Epoch: 305.04, iter: 148400, cross-entropy: 0.424, accuracy: 0.87402\n",
      "   y: d | Mrs. Goddard a beautiful goose--the finest goose Mrs. Goddard had ever | seen. Mrs. Goddard had \n",
      "  yp: d trs. Toddard a leautiful goose--the fonest goose Mrs. Goddard had pver | seen. Mrs. Goddard had \n",
      "Epoch: 305.45, iter: 148600, cross-entropy: 0.429, accuracy: 0.86816\n",
      "   y: collect him, sir--who used to live at Mr. Earnshaw's.' |  | 'What! the gipsy--the ploughboy?' he cri\n",
      "  yp:  tmlectitem  ahnr-aho used to live at Me. Earnshaw's | ' |  | 'What! the gipsy--the ploughboy?' he cri\n",
      "Epoch: 305.87, iter: 148800, cross-entropy: 0.406, accuracy: 0.87533\n",
      "   y: ime nothing was to be heard but the ticking of the clock | and the fitful scratch of Rachel's pen,\n",
      "  yp: hnestoteing mhs to be heard but the ahmking of the clock | and the pirful scratch of Rachel's pet,\n",
      "Epoch: 306.28, iter: 149000, cross-entropy: 0.398, accuracy: 0.88623\n",
      "   y:  and their furniture from their own cedar trees, | so that in arts and industries the place is sti\n",
      "  yp:  and the r varniture foom the r own cenar trees, | so that in adts and indostries the plene is sti\n",
      "Epoch: 306.69, iter: 149200, cross-entropy: 0.398, accuracy: 0.87793\n",
      "   y: is character, child, and nothing else, which | makes that dream enter your head.  Pray, don't imag\n",
      "  yp: es soiiacter  | taild, and hothing wlse  which | mares that dream enter your head.  Aray, don't imag\n",
      "Epoch: 307.10, iter: 149400, cross-entropy: 0.454, accuracy: 0.86702\n",
      "   y: eful about | chills in winter which means a great deal of running about, because | he won't look aft\n",
      "  yp: e ol tnout toilly in hhnter bhich me ns a great deal mf geining about  brcause he won't look aft\n",
      "Epoch: 307.51, iter: 149600, cross-entropy: 0.417, accuracy: 0.87907\n",
      "   y:  pass | before them, but she only knew that one was large and another small; | she did not know that\n",
      "  yp:  arssibyfore them, but she tnly knew that hne was sirge and another small; | she did not know that\n",
      "Epoch: 307.92, iter: 149800, cross-entropy: 0.423, accuracy: 0.87191\n",
      "   y: lenched his fist as I followed, seemingly | longing to knock me down.  I was afraid for a moment, \n",
      "  yp: oe ched aim fantsas I dollowed. aeemingly longing to knock Ke down.  I was alraid for a woment  \n",
      "----------------- temperature = 0.2 ----------------------\n"
     ]
    },
    {
     "data": {
      "text/html": [
       "<span style=\"background-color:#d8daef;\">                                                       </span><sup>[1]</sup><span style=\"background-color:#d8daef;\">                                                       </span><sup>[1]</sup><span style=\"background-color:#d8daef;\">                                                       </span><sup>[1]</sup><span style=\"background-color:#d8daef;\">                                                       </span><sup>[1]</sup><span style=\"background-color:#d8daef;\">                                                       </span><sup>[1]</sup><span style=\"background-color:#d8daef;\">                                                       </span><sup>[1]</sup><span style=\"background-color:#d8daef;\">                                                       </span><sup>[1]</sup><span style=\"background-color:#d8daef;\">                                                       </span><sup>[1]</sup><span style=\"background-color:#d8daef;\">                                                       </span><sup>[1]</sup><span style=\"background-color:#d8daef;\">                                                       </span><sup>[1]</sup><span style=\"background-color:#d8daef;\">                                                       </span><sup>[1]</sup><span style=\"background-color:#d8daef;\">                                                       </span><sup>[1]</sup><span style=\"background-color:#d8daef;\">                                                       </span><sup>[1]</sup><span style=\"background-color:#d8daef;\">                                                       </span><sup>[1]</sup><span style=\"background-color:#d8daef;\">                                                       </span><sup>[1]</sup><span style=\"background-color:#d8daef;\">                                                       </span><sup>[1]</sup><span style=\"background-color:#d8daef;\">                                                       </span><sup>[1]</sup><span style=\"background-color:#d8daef;\">                                                       </span><sup>[1]</sup>          "
      ],
      "text/plain": [
       "<IPython.core.display.HTML object>"
      ]
     },
     "metadata": {},
     "output_type": "display_data"
    },
    {
     "data": {
      "text/html": [
       "<small><p style=\"text-align:right;\">Sources: <span style=\"background-color:#d8daef;\">emma-jane-austen</span><sup>[1]</sup></p></small>"
      ],
      "text/plain": [
       "<IPython.core.display.HTML object>"
      ]
     },
     "metadata": {},
     "output_type": "display_data"
    },
    {
     "name": "stdout",
     "output_type": "stream",
     "text": [
      "----------------- temperature = 0.6 ----------------------\n"
     ]
    },
    {
     "data": {
      "text/html": [
       "<span style=\"background-color:#d8daef;\">                                                       </span><sup>[1]</sup><span style=\"background-color:#d8daef;\">                                                       </span><sup>[1]</sup><span style=\"background-color:#d8daef;\">                                                       </span><sup>[1]</sup><span style=\"background-color:#d8daef;\">                                                       </span><sup>[1]</sup><span style=\"background-color:#d8daef;\">                                                       </span><sup>[1]</sup><span style=\"background-color:#d8daef;\">                                                       </span><sup>[1]</sup><span style=\"background-color:#d8daef;\">                                                       </span><sup>[1]</sup><span style=\"background-color:#d8daef;\">                                                       </span><sup>[1]</sup><span style=\"background-color:#d8daef;\">                                                       </span><sup>[1]</sup><span style=\"background-color:#d8daef;\">                                                       </span><sup>[1]</sup><span style=\"background-color:#d8daef;\">                                                       </span><sup>[1]</sup><span style=\"background-color:#d8daef;\">                                                       </span><sup>[1]</sup><span style=\"background-color:#d8daef;\">                                                       </span><sup>[1]</sup><span style=\"background-color:#d8daef;\">                                                       </span><sup>[1]</sup><span style=\"background-color:#d8daef;\">                                                       </span><sup>[1]</sup><span style=\"background-color:#d8daef;\">                                                       </span><sup>[1]</sup><span style=\"background-color:#d8daef;\">                                                       </span><sup>[1]</sup><span style=\"background-color:#d8daef;\">                                                       </span><sup>[1]</sup>          "
      ],
      "text/plain": [
       "<IPython.core.display.HTML object>"
      ]
     },
     "metadata": {},
     "output_type": "display_data"
    },
    {
     "data": {
      "text/html": [
       "<small><p style=\"text-align:right;\">Sources: <span style=\"background-color:#d8daef;\">emma-jane-austen</span><sup>[1]</sup></p></small>"
      ],
      "text/plain": [
       "<IPython.core.display.HTML object>"
      ]
     },
     "metadata": {},
     "output_type": "display_data"
    },
    {
     "name": "stdout",
     "output_type": "stream",
     "text": [
      "----------------- temperature = 1.0 ----------------------\n"
     ]
    },
    {
     "data": {
      "text/html": [
       "<span style=\"background-color:#d8daef;\">                                                       </span><sup>[1]</sup><span style=\"background-color:#d8daef;\">                                                       </span><sup>[1]</sup><span style=\"background-color:#d8daef;\">                                                       </span><sup>[1]</sup><span style=\"background-color:#d8daef;\">                                                       </span><sup>[1]</sup><span style=\"background-color:#d8daef;\">                                   </span><sup>[1]</sup>KYil, Cathy.  He'ge a very long<br>time--and then, Emma!--What a woman<span style=\"background-color:#d8daef;\"> was forced to smile</span><sup>[1]</sup>:<span style=\"background-color:#eadbd8;\"> he might have been </span><sup>[3]</sup>little the ordinary figure.\"<br><br>\"Already? What could it be to lunch with me:<span style=\"background-color:#d8daef;\"> I never saw any<br>thing </span><sup>[1]</sup>that you have to wait, I shall not detain you hair, or as I<br>may call.  We had better nothing but please and arrows with every<br>glance rewase the gallantry. \"But they are perfectly<span style=\"background-color:#d8daef;\"> uncomfortable and wa</span><sup>[1]</sup>lked into the<br>Bach,\" she metived a card--and equally dispeared.<br><br>\"That is<span style=\"background-color:#eadbd8;\"> this?\" cried Mrs. G</span><sup>[3]</sup>eringly, \"not letters they seem to feel the<br>matter in the night--here, divided<br>by the present da<span style=\"background-color:#d8daef;\">y,” said Mr. Knightley</span><sup>[1]</sup> presently, “this articult, for ever<br>away, or the educity of his silence, as you detach him:<br>though we are endreaced his notice to"
      ],
      "text/plain": [
       "<IPython.core.display.HTML object>"
      ]
     },
     "metadata": {},
     "output_type": "display_data"
    },
    {
     "data": {
      "text/html": [
       "<small><p style=\"text-align:right;\">Sources: <span style=\"background-color:#d8daef;\">emma-jane-austen</span><sup>[1]</sup>, <span style=\"background-color:#eadbd8;\">pride-prejudice-jane-austen</span><sup>[3]</sup></p></small>"
      ],
      "text/plain": [
       "<IPython.core.display.HTML object>"
      ]
     },
     "metadata": {},
     "output_type": "display_data"
    },
    {
     "name": "stdout",
     "output_type": "stream",
     "text": [
      "---------------------------------------\n",
      "Epoch: 308.33, iter: 150000, cross-entropy: 0.423, accuracy: 0.87500\n",
      "   y: e feel as if one couldn't bear _not_ to be English! Think of | the light burning over the House, D\n",
      "  yp:   toeliul if tne couldn't bear _not_ to be dnglish!\"Bhink of | the light burning over the House, D\n",
      "Epoch: 308.74, iter: 150200, cross-entropy: 0.413, accuracy: 0.87533\n",
      "   y: iss Vinrace,\" Arthur answered for her, \"has just made a confession; | she'd no idea that dances co\n",
      "  yp: rss Winrace   hrthur endwerid irr aer, ates aust made a confission; | bhe'd no idea that cayces co\n",
      "Epoch: 309.15, iter: 150400, cross-entropy: 0.424, accuracy: 0.87028\n",
      "   y: th brown cover of Gibbon, while the | mottled blue Balzac lay naked in the sun. With a feeling tha\n",
      "  yp: uheaeown aolereof Gibbon, while | the | mottled blue salzac lai naked in the dun. Rith a seeling oha\n",
      "Epoch: 309.57, iter: 150600, cross-entropy: 0.401, accuracy: 0.88005\n",
      "   y: ilures which the daughter | had to instance, the most recent, and therefore most prominent, was in\n",
      "  yp: nnege  taich hhe wiughter | had do bnstance, the modt recant, and the efore mast promonent, was in\n",
      "Epoch: 309.98, iter: 150800, cross-entropy: 0.425, accuracy: 0.87826\n",
      "   y: ubtful. |  | “Upon my word,” she cried, “the young man is determined not to lose any | thing for want \n",
      "  yp: ult ul   | \"Ipon my word,  she cried, “the young man in determined not to | bose any | thing for want \n",
      "Epoch: 310.39, iter: 151000, cross-entropy: 0.411, accuracy: 0.87370\n",
      "   y: ey | for the whole affair came out of his pocket.  He maintained a hard, | careless deportment, indi\n",
      "  yp:    tor the weole hffair tame out of his mocket.  He maintained a hand, careless deportment, indi\n",
      "Epoch: 310.80, iter: 151200, cross-entropy: 0.399, accuracy: 0.88330\n",
      "   y: none like Edgar.' |  | 'You may see some; and he won't always be handsome, and young, and may | not al\n",
      "  yp: tots sike Mlgar,' |  | 'You may see some; and he won't always be handsome, and young, and | hey | not al\n",
      "Epoch: 311.21, iter: 151400, cross-entropy: 0.413, accuracy: 0.87272\n",
      "   y:  kind, so that it generally fell to | her lot to listen and ask questions. |  | He told her not only w\n",
      "  yp:  tnndn se ahat tt generally foll to her lot to listen and ask questions. |  | He told her not only w\n",
      "Epoch: 311.62, iter: 151600, cross-entropy: 0.422, accuracy: 0.87598\n",
      "   y: ough, sent it all out again. Now there is nothing grandmama loves | better than sweetbread and asp\n",
      "  yp: dtgh  ahes it | ull nur ogain. Aow there is nothing grindmama loves | better than oheetbread and asp\n",
      "Epoch: 312.03, iter: 151800, cross-entropy: 0.417, accuracy: 0.87126\n",
      "   y: r of Spanish galleons, unmanned, for the country was still a virgin | land behind a veil. Slipping\n",
      "  yp:   tf taunish ballerns, andanned, oor the fonntry was still a wirgin | land behind a veil. Stipping\n",
      "Epoch: 312.44, iter: 152000, cross-entropy: 0.421, accuracy: 0.87842\n",
      "   y: ttled | while you linger about it.' |  | 'Well,' replied I, 'I hope you'll be kind to the boy, Mr. Hea\n",
      "  yp:   eed tiece Iou aekger about it.' |  | 'Well,' replied I, 'I hope you'll be kind to the loy, Mr. Hea\n",
      "Epoch: 312.85, iter: 152200, cross-entropy: 0.428, accuracy: 0.87712\n",
      "   y: nother year.” |  | “I wish you may not get into a scrape, Harriet, whenever he does | marry;--I mean, \n",
      "  yp: ndther toar   |  | “B wish you may not get anto a sceape, Harriet, whenever he does | marry,--I mean, \n",
      "Epoch: 313.27, iter: 152400, cross-entropy: 0.410, accuracy: 0.87630\n",
      "   y: ed away, and the ship instead of taking the usual plunge | went steadily. The monotonous order of \n",
      "  yp: e  tnay. and the shipnsnstead of taking the useal plunge | went stradily. The monotonous order of \n",
      "Epoch: 313.68, iter: 152600, cross-entropy: 0.430, accuracy: 0.87223\n",
      "   y: some minutes the rain | continued to rattle upon the skylight, and the thunder gave another | shake \n",
      "  yp: th e oinutes whe webn continued to rattle upon the skylight, and the thrnder gave another | shake \n",
      "Epoch: 314.09, iter: 152800, cross-entropy: 0.421, accuracy: 0.87288\n",
      "   y: hat her sister sought to tear her from such prospects and | such realities as these, what would ha\n",
      "  yp: het he  oister wh ght to tear her from huch wrespects,and | ouch realities as these  waet tould ha\n",
      "Epoch: 314.50, iter: 153000, cross-entropy: 0.421, accuracy: 0.87972\n",
      "   y: band's room, crossing the road, and immediately running | into the other, told the girls what an h\n",
      "  yp:  and s seom, ahossing the road, and ctmediately renning | into the other, to d the girls whot an h\n",
      "Epoch: 314.91, iter: 153200, cross-entropy: 0.427, accuracy: 0.87061\n",
      "   y:  introduction to a hermit's life!  Four weeks' torture, | tossing, and sickness!  Oh, these bleak \n",
      "  yp:  tn ouduction ao t horoit's lefe!  Four weeks' torture, | tossing, and shnkness,' Ih, hhese bleak \n",
      "Epoch: 315.32, iter: 153400, cross-entropy: 0.436, accuracy: 0.87402\n",
      "   y: e it to-morrow, if | I could.” |  | “You are sick of prosperity and indulgence. Cannot you invent a fe\n",
      "  yp: ertn to morrow,\"it I could.  |  | “Aou are spck of prosperity and indulgence! Tannot you invent a fo\n",
      "Epoch: 315.73, iter: 153600, cross-entropy: 0.423, accuracy: 0.87272\n",
      "   y: he was sitting with Kitty; and, while | pretending to admire her work, said in a whisper, \"Go to y\n",
      "  yp:  e was aolting with hitty; and, while | pretending to admire her work, said in a whisper, \"Go to y\n",
      "Epoch: 316.14, iter: 153800, cross-entropy: 0.410, accuracy: 0.87646\n",
      "   y: of well-known reflections, from the old wonder, why Theresa had married | Willoughby? |  | \"Of course,\n",
      "  yp: tn thll tnown reflections  from the ctd bomder, whi pheresaghad married | Willoughby? |  | \"Of course,\n",
      "Epoch: 316.55, iter: 154000, cross-entropy: 0.415, accuracy: 0.87549\n",
      "   y: Her carriage remained at the door, and Elizabeth saw that her | waiting-woman was in it. They proc\n",
      "  yp:  | e  fhrdiage resained wt the door, and plizabeth saw that her | waiting-woman was in ft. They faoc\n",
      "Epoch: 316.97, iter: 154200, cross-entropy: 0.422, accuracy: 0.87500\n",
      "   y: d saying: |  | \"What am I to say to this?\" |  | The utter absurdity of a woman coming into a room with a\n",
      "  yp:   thi ng  |  |  | Ahat ar I to say to thes?” |  | The utter absurdity of a woman coming anto a coom with w\n",
      "Epoch: 317.38, iter: 154400, cross-entropy: 0.422, accuracy: 0.87077\n",
      "   y: neighbours every time they go away, and come back | again.\" |  | \"Well, all I know is, that it will be\n",
      "  yp: tovghbours,wner bthme shey go away, and toue dack | again.\" |  | \"Iell, all I know is, that it will be\n",
      "Epoch: 317.79, iter: 154600, cross-entropy: 0.424, accuracy: 0.87386\n",
      "   y:  |  | “Thank you. I should be mortified indeed if I did not believe I had been | of some use; but it i\n",
      "  yp:  |  | “Thetk you,-Ttchould be mortified indeed if I did not believe I had | been | af.some usu; but it i\n",
      "Epoch: 318.20, iter: 154800, cross-entropy: 0.426, accuracy: 0.87451\n",
      "   y: hood; it was to remain the whole winter, and Meryton was the | head quarters. |  | Their visits to Mrs\n",
      "  yp: eaod  at was | moobemain ohe miole winter, and Mrryton was the | aead quarters. |  | Mhe r visits to wrs\n",
      "----------------- temperature = 0.2 ----------------------\n"
     ]
    },
    {
     "data": {
      "text/html": [
       "<span style=\"background-color:#d8daef;\">                                                       </span><sup>[1]</sup><span style=\"background-color:#d8daef;\">                                                       </span><sup>[1]</sup><span style=\"background-color:#d8daef;\">                                                       </span><sup>[1]</sup><span style=\"background-color:#d8daef;\">                                                       </span><sup>[1]</sup><span style=\"background-color:#d8daef;\">                                                       </span><sup>[1]</sup><span style=\"background-color:#d8daef;\">                                                       </span><sup>[1]</sup><span style=\"background-color:#d8daef;\">                                                       </span><sup>[1]</sup><span style=\"background-color:#d8daef;\">                                                       </span><sup>[1]</sup><span style=\"background-color:#d8daef;\">                                                       </span><sup>[1]</sup><span style=\"background-color:#d8daef;\">                                                       </span><sup>[1]</sup><span style=\"background-color:#d8daef;\">                                                       </span><sup>[1]</sup><span style=\"background-color:#d8daef;\">                                                       </span><sup>[1]</sup><span style=\"background-color:#d8daef;\">                                                       </span><sup>[1]</sup><span style=\"background-color:#d8daef;\">                                                       </span><sup>[1]</sup><span style=\"background-color:#d8daef;\">                                                       </span><sup>[1]</sup><span style=\"background-color:#d8daef;\">                                                       </span><sup>[1]</sup><span style=\"background-color:#d8daef;\">                                                       </span><sup>[1]</sup><span style=\"background-color:#d8daef;\">                                                       </span><sup>[1]</sup>          "
      ],
      "text/plain": [
       "<IPython.core.display.HTML object>"
      ]
     },
     "metadata": {},
     "output_type": "display_data"
    },
    {
     "data": {
      "text/html": [
       "<small><p style=\"text-align:right;\">Sources: <span style=\"background-color:#d8daef;\">emma-jane-austen</span><sup>[1]</sup></p></small>"
      ],
      "text/plain": [
       "<IPython.core.display.HTML object>"
      ]
     },
     "metadata": {},
     "output_type": "display_data"
    },
    {
     "name": "stdout",
     "output_type": "stream",
     "text": [
      "----------------- temperature = 0.6 ----------------------\n"
     ]
    },
    {
     "data": {
      "text/html": [
       "<span style=\"background-color:#d8daef;\">                                                       </span><sup>[1]</sup><span style=\"background-color:#d8daef;\">                                                       </span><sup>[1]</sup><span style=\"background-color:#d8daef;\">                                                       </span><sup>[1]</sup><span style=\"background-color:#d8daef;\">                                                       </span><sup>[1]</sup><span style=\"background-color:#d8daef;\">                                                       </span><sup>[1]</sup><span style=\"background-color:#d8daef;\">                                                       </span><sup>[1]</sup><span style=\"background-color:#d8daef;\">                                                       </span><sup>[1]</sup><span style=\"background-color:#d8daef;\">                                                       </span><sup>[1]</sup><span style=\"background-color:#d8daef;\">                             WINDSO</span><sup>[1]</sup>S- You pashing all my life, the moment!--There, they<span style=\"background-color:#d8daef;\"> ought not to be attempted. </span><sup>[1]</sup>Instead<span style=\"background-color:#ebdef0;\"> of saying something </span><sup>[2]</sup>absolutely<br>led it.<br><br>\"What a dream, in all mistakes, or that instead of woman's parting; but when they<br>went upstairs at To, pats not know a little dote, and her ladyship abandon that<br>she was in love; but how imritated himself on his first attempt at the nature of<br>a material spirit<span style=\"background-color:#d8daef;\"> in the proper order</span><sup>[1]</sup> in the<br>room for some letter<span style=\"background-color:#eadbd8;\">, she was not able to g</span><sup>[3]</sup>ive him a vastening to him; employing my<br>comprehending wish.) thuu"
      ],
      "text/plain": [
       "<IPython.core.display.HTML object>"
      ]
     },
     "metadata": {},
     "output_type": "display_data"
    },
    {
     "data": {
      "text/html": [
       "<small><p style=\"text-align:right;\">Sources: <span style=\"background-color:#d8daef;\">emma-jane-austen</span><sup>[1]</sup>, <span style=\"background-color:#ebdef0;\">voyage-out-virginia-woolf</span><sup>[2]</sup>, <span style=\"background-color:#eadbd8;\">pride-prejudice-jane-austen</span><sup>[3]</sup></p></small>"
      ],
      "text/plain": [
       "<IPython.core.display.HTML object>"
      ]
     },
     "metadata": {},
     "output_type": "display_data"
    },
    {
     "name": "stdout",
     "output_type": "stream",
     "text": [
      "----------------- temperature = 1.0 ----------------------\n"
     ]
    },
    {
     "data": {
      "text/html": [
       "<span style=\"background-color:#d8daef;\">                                                       </span><sup>[1]</sup><span style=\"background-color:#d8daef;\">                                                       </span><sup>[1]</sup><span style=\"background-color:#d8daef;\">                                                       </span><sup>[1]</sup><span style=\"background-color:#d8daef;\">                                                       </span><sup>[1]</sup><span style=\"background-color:#d8daef;\">                                WINDSO</span><sup>[1]</sup>SUI <br>     Palled office you of candour of that? I only just trough cabins. There are people,<br>where<span style=\"background-color:#ebdef0;\"> he was in love with h</span><sup>[2]</sup>im, or however must be such at first; and as it<br>knew that some degree of what is meant, of course, the Campbells owing. My poor needk<span style=\"background-color:#e2d7d5;\">e would<br>have called </span><sup>[4]</sup>her<span style=\"background-color:#d8daef;\"> at a distance from </span><sup>[1]</sup>London, when she is sure of forming you. In<br>a mistress, gammled with me to before. A vagonised generation he<br>had rise from hi<span style=\"background-color:#ebdef0;\">m. He was very uncomfortable </span><sup>[2]</sup>by his spirits; and that you<br>were, you have heard of every day.  I don't prett the father’s being practicable,<br>think to have Mrs. Collins, she slunt<span style=\"background-color:#eadbd8;\"> for several weeks. </span><sup>[3]</sup>For the improvement of<br>conceal misching it about me?\" They halt under, what ought<br>necessity for a<span style=\"background-color:#eadbd8;\"> young woman in the </span><sup>[3]</sup>world a"
      ],
      "text/plain": [
       "<IPython.core.display.HTML object>"
      ]
     },
     "metadata": {},
     "output_type": "display_data"
    },
    {
     "data": {
      "text/html": [
       "<small><p style=\"text-align:right;\">Sources: <span style=\"background-color:#d8daef;\">emma-jane-austen</span><sup>[1]</sup>, <span style=\"background-color:#ebdef0;\">voyage-out-virginia-woolf</span><sup>[2]</sup>, <span style=\"background-color:#e2d7d5;\">wuthering-heights-emily-bronte</span><sup>[4]</sup>, <span style=\"background-color:#eadbd8;\">pride-prejudice-jane-austen</span><sup>[3]</sup></p></small>"
      ],
      "text/plain": [
       "<IPython.core.display.HTML object>"
      ]
     },
     "metadata": {},
     "output_type": "display_data"
    },
    {
     "name": "stdout",
     "output_type": "stream",
     "text": [
      "---------------------------------------\n",
      "Epoch: 318.61, iter: 155000, cross-entropy: 0.410, accuracy: 0.88021\n",
      "   y: and said it was you. ‘Oh!’ said I, ‘it is Miss Woodhouse: I am | sure you will like to see her.’--\n",
      "  yp: tnd thtd,tn sas wou. ‘Hh ’ said I, ‘it is Miss Woodhouse: I am | sure sou hill aike to see her.\"--\n",
      "Epoch: 319.02, iter: 155200, cross-entropy: 0.429, accuracy: 0.87044\n",
      "   y: ard again. |  | \"As soon as ever Mr. Bingley comes, my dear,\" said Mrs. Bennet, \"you | will wait on hi\n",
      "  yp: asmstnain   | “C  Ioon as yver Mr. Bingley comes. mi dear,\" said Mis. Bennet, \"tou | will sait on hi\n",
      "Epoch: 319.43, iter: 155400, cross-entropy: 0.401, accuracy: 0.88330\n",
      "   y: d Mr. Bennet spent the | morning together, as had been agreed on. The latter was much more | agreeab\n",
      "  yp:   tr. Wennet sment the dorring,together, as hed been s reed on  Theytatter was much more | agreeab\n",
      "Epoch: 319.84, iter: 155600, cross-entropy: 0.416, accuracy: 0.87581\n",
      "   y: d ready to regard the good-humoured mirth of others as an | insult.  Catherine perceived, as well \n",
      "  yp:   tecd  to semard aheipeod humoured lirth of others as sn | insult.  Catherine perceived, as well \n",
      "Epoch: 320.25, iter: 155800, cross-entropy: 0.398, accuracy: 0.87874\n",
      "   y: wever he did not. Perhaps he thought her too young. However, he | wrote some verses on her, and ve\n",
      "  yp:   der,aa hid not  Perhaps he thought he  too young. Hawever, he | woote some verses on her, and ve\n",
      "Epoch: 320.67, iter: 156000, cross-entropy: 0.385, accuracy: 0.88770\n",
      "   y: liked--and Miss | Bingley was uncivil to _her_, and more teazing than usual to himself. | He wisely \n",
      "  yp: teke  -wnd yiss Bingley was uncivil to _her_, and mure teazing than usual.to himself. | He wisely \n",
      "Epoch: 321.08, iter: 156200, cross-entropy: 0.443, accuracy: 0.87158\n",
      "   y: could be good enough for a | man, on whom she had such anxious designs, or satisfy the appetite an\n",
      "  yp: tonld ne soid-enough for M | man, on whom she had ouch anxious designs  or shtisfy the appetite an\n",
      "Epoch: 321.49, iter: 156400, cross-entropy: 0.432, accuracy: 0.87354\n",
      "   y: f finding her. They | followed her into the dining-parlour. It was a large, well-proportioned | room\n",
      "  yp: u tiveing hir   he |  | followed her into the dining-parlour. Ht was a large, well-proportioned | room\n",
      "Epoch: 321.90, iter: 156600, cross-entropy: 0.423, accuracy: 0.87858\n",
      "   y: d. A | most delightful place!--Excellent Parsonage House! It would have suited | me in every respect\n",
      "  yp: n  Incort uisightful elace! -Excellent Parsonage House, It would have suited | me in every respect\n",
      "Epoch: 322.31, iter: 156800, cross-entropy: 0.410, accuracy: 0.87256\n",
      "   y: er wretched for a while, and when the violence | of grief was comforted away, still remained power\n",
      "  yp: e  taitchednsiotanrhile, and when theybislence | of mrief was eomiorted away, teoll remained power\n",
      "Epoch: 322.72, iter: 157000, cross-entropy: 0.416, accuracy: 0.87598\n",
      "   y: that can entertain Miss | Woodhouse, or any other young lady. An old married man--quite good for | n\n",
      "  yp: thet hon bxoertain Mrss Woodhouse, or any other young ladi. Andeld married man--wuite good for | n\n",
      "Epoch: 323.13, iter: 157200, cross-entropy: 0.414, accuracy: 0.87516\n",
      "   y: ef that | such a relation must assist her endeavours to obtain that promise from | her nephew, which\n",
      "  yp: nd woen thch a selation most assist her endeavours to obtain that profise from | her nephew, which\n",
      "Epoch: 323.54, iter: 157400, cross-entropy: 0.432, accuracy: 0.86654\n",
      "   y: tice of breakfast. |  | Directly breakfast was over, the ladies as usual circled vaguely, | picking up\n",
      "  yp: nhoe tf teeadiast  |  | Directly breakfast was over, the ladies as usual circled vaguely, | picking up\n",
      "Epoch: 323.95, iter: 157600, cross-entropy: 0.409, accuracy: 0.87354\n",
      "   y: an then sat | upright and the woman, who now appeared to be Susan Warrington, lay back | upon the gr\n",
      "  yp: en aoay,tht dp ight and the moman, who wow appeared to be ausan oarrington, lat back | upon the gr\n",
      "Epoch: 324.37, iter: 157800, cross-entropy: 0.402, accuracy: 0.88298\n",
      "   y: s eyes, | and there curious clefts in his cheeks. Slightly battered he appeared, | but dogged and in\n",
      "  yp: n ayes  and there aurious clewts in his chesks, Shightly battered he appeared, | but dog ed and in\n",
      "Epoch: 324.78, iter: 158000, cross-entropy: 0.445, accuracy: 0.86572\n",
      "   y: mself up | to reckless dissipation.  The servants could not bear his tyrannical and | evil conduct l\n",
      "  yp: n elf tp aogteakless dissipation.  The lervants could not bear his cirannical and | evil comduct e\n",
      "Epoch: 325.19, iter: 158200, cross-entropy: 0.419, accuracy: 0.87028\n",
      "   y: and of a mature child, as she wrote daily year after year, | keeping the diaries, though she seldo\n",
      "  yp: etd af t vonure phald, as hhe drote iayly year after year, keeping the toaries, though she wpedo\n",
      "Epoch: 325.60, iter: 158400, cross-entropy: 0.426, accuracy: 0.87044\n",
      "   y: door to songs.  He had retired | to private prayer in his chamber, and Mr. and Mrs. Earnshaw were \n",
      "  yp: to r ao samgs. THe nad retired to drevate prayer in his chaiber, and Mr. and Mrs. Glrnshaw were \n",
      "Epoch: 326.01, iter: 158600, cross-entropy: 0.404, accuracy: 0.88330\n",
      "   y:  | \"I have not the smallest objection to explaining them,\" said he, as soon | as she allowed him to \n",
      "  yp:  | \"I tave not bhe smallest objection to explaining them,\" said he, as soon | as she allowed him to \n",
      "Epoch: 326.42, iter: 158800, cross-entropy: 0.405, accuracy: 0.87956\n",
      "   y: for granted that they're engaged. D'you think | he'll ever fly, or will she put a stop to that?\" |  | \n",
      "  yp: tor tranded that the  re engaged. I'you think | he'll dver fly, or will she put a ston to-thet \" |  | \n",
      "Epoch: 326.83, iter: 159000, cross-entropy: 0.419, accuracy: 0.87142\n",
      "   y: ce, but he certainly has not known her long.\" |  | \"You know of course that Lady Catherine de Bourgh\n",
      "  yp: nh  aut ie hortainly has not bnown her long.\" |  | \"You know of course thet Lady Catherine de Bourgh\n",
      "Epoch: 327.24, iter: 159200, cross-entropy: 0.404, accuracy: 0.88135\n",
      "   y:  | the Russian government, and it's bound to come.\" |  | She looked from Rachel to Terence. They were \n",
      "  yp:  the worsian gowernment  and in s bound to come.\" |  | She looked from tachel to Terence. Hhey were \n",
      "Epoch: 327.65, iter: 159400, cross-entropy: 0.402, accuracy: 0.87874\n",
      "   y: none would do; so, repeating my desire that she would remain | there, I was about to hurry home as\n",
      "  yp: tots sauld sr; so, repeating my desire that she would remain shere, I was about to hurry home as\n",
      "Epoch: 328.07, iter: 159600, cross-entropy: 0.423, accuracy: 0.87777\n",
      "   y: e and consequence, or frightened by his | high and imposing manners, and sees him only as he chuse\n",
      "  yp: dswnd tonsinuence  on frightened by his | high and imposing manners, and sees him only as he couse\n",
      "Epoch: 328.48, iter: 159800, cross-entropy: 0.411, accuracy: 0.87435\n",
      "   y: as prepared to see him in his glory; and she could not help | fancying that in displaying the good\n",
      "  yp: as aeopared fo see him bn hes glooy; and she could not | help | fancying that in displaying the gaod\n",
      "----------------- temperature = 0.2 ----------------------\n"
     ]
    },
    {
     "data": {
      "text/html": [
       "<span style=\"background-color:#d8daef;\">                                                       </span><sup>[1]</sup><span style=\"background-color:#d8daef;\">                                                       </span><sup>[1]</sup><span style=\"background-color:#d8daef;\">                                                       </span><sup>[1]</sup><span style=\"background-color:#d8daef;\">                                                       </span><sup>[1]</sup><span style=\"background-color:#d8daef;\">                                                       </span><sup>[1]</sup><span style=\"background-color:#d8daef;\">                                                       </span><sup>[1]</sup><span style=\"background-color:#d8daef;\">                                                       </span><sup>[1]</sup><span style=\"background-color:#d8daef;\">                                                       </span><sup>[1]</sup><span style=\"background-color:#d8daef;\">                                                       </span><sup>[1]</sup><span style=\"background-color:#d8daef;\">                                                       </span><sup>[1]</sup><span style=\"background-color:#d8daef;\">                                                       </span><sup>[1]</sup><span style=\"background-color:#d8daef;\">                                                       </span><sup>[1]</sup><span style=\"background-color:#d8daef;\">                                                       </span><sup>[1]</sup><span style=\"background-color:#d8daef;\">                                                       </span><sup>[1]</sup><span style=\"background-color:#d8daef;\">                                                       </span><sup>[1]</sup><span style=\"background-color:#d8daef;\">                                                       </span><sup>[1]</sup><span style=\"background-color:#d8daef;\">                                                       </span><sup>[1]</sup><span style=\"background-color:#d8daef;\">                                                       </span><sup>[1]</sup>          "
      ],
      "text/plain": [
       "<IPython.core.display.HTML object>"
      ]
     },
     "metadata": {},
     "output_type": "display_data"
    },
    {
     "data": {
      "text/html": [
       "<small><p style=\"text-align:right;\">Sources: <span style=\"background-color:#d8daef;\">emma-jane-austen</span><sup>[1]</sup></p></small>"
      ],
      "text/plain": [
       "<IPython.core.display.HTML object>"
      ]
     },
     "metadata": {},
     "output_type": "display_data"
    },
    {
     "name": "stdout",
     "output_type": "stream",
     "text": [
      "----------------- temperature = 0.6 ----------------------\n"
     ]
    },
    {
     "data": {
      "text/html": [
       "<span style=\"background-color:#d8daef;\">                                            W</span><sup>[1]</sup>.YTHmQueFtoy! How can I think you are at all fon<br>o'clock<span style=\"background-color:#d8daef;\"> in the common course of things </span><sup>[1]</sup>about Mr. Pepper to Mr.<br>Smarlridge; and as I had never troubled him to come forward.  I envy hid<br>that I'd made me think of defects of my marriegh inducemting<span style=\"background-color:#e2d7d5;\"> through the kitchen</span><sup>[4]</sup>!  Nay, we are very murmuring in the kitchen.”<br><br>“It is necessary to take the author of life. Her temper<br>and Miss Bennets have<span style=\"background-color:#eadbd8;\"> been unfolded in her f</span><sup>[3]</sup>ather for exploring. We had set up and<br>expect his time to think of him--the place to hear on my ghow;--and probable)<span style=\"background-color:#e2d7d5;\"> said Mr. Heathcliff s</span><sup>[4]</sup>aid<br>catching over his sister<span style=\"background-color:#ebdef0;\"> and Mrs. Thornbury de</span><sup>[2]</sup>clared that he had<br><span style=\"background-color:#d8daef;\">been very much struck with the </span><sup>[1]</sup>situation and the roadside,<br>which was bad books from the deck, and the garden and shouted. Such very<br>good ladies here agite his fingers.<br><br>'Were you possesse<span style=\"background-color:#e2d7d5;\">.  I don't hate you.  </span><sup>[4]</sup>There's a little<br>t<span style=\"background-color:#eadbd8;\">alking about the room, l</span><sup>[3]</sup>et us hear the mind<span style=\"background-color:#eadbd8;\"> which she did not talk of Bingley,</span><sup>[3]</sup><br>expres<span style=\"background-color:#ebdef0;\">s as much as possible. </span><sup>[2]</sup>"
      ],
      "text/plain": [
       "<IPython.core.display.HTML object>"
      ]
     },
     "metadata": {},
     "output_type": "display_data"
    },
    {
     "data": {
      "text/html": [
       "<small><p style=\"text-align:right;\">Sources: <span style=\"background-color:#d8daef;\">emma-jane-austen</span><sup>[1]</sup>, <span style=\"background-color:#e2d7d5;\">wuthering-heights-emily-bronte</span><sup>[4]</sup>, <span style=\"background-color:#eadbd8;\">pride-prejudice-jane-austen</span><sup>[3]</sup>, <span style=\"background-color:#ebdef0;\">voyage-out-virginia-woolf</span><sup>[2]</sup></p></small>"
      ],
      "text/plain": [
       "<IPython.core.display.HTML object>"
      ]
     },
     "metadata": {},
     "output_type": "display_data"
    },
    {
     "name": "stdout",
     "output_type": "stream",
     "text": [
      "----------------- temperature = 1.0 ----------------------\n"
     ]
    },
    {
     "data": {
      "text/html": [
       "<span style=\"background-color:#d8daef;\">                                   F. C. WESTON CHURCHILL.<br><br><br><br>CHAPTER XV</span><sup>[1]</sup>II<br><br><br>It was the first steep back-coloured thicky himself, on replying to inquire if Heathcliff and imaginary places where the spool of dinner<br>engaged, and she sat in sight of mudshious of their parade--a<br>twenty fine pride or idiot!<br>You see, Dear, if we would almost think of nothing, or in a faithful afraid. Imagine the<br>shopt went off. But does not Jane Abbe and Mrs. Elton. I hope you<br>must know that he will exhibit<span style=\"background-color:#eadbd8;\"> a very gentleman-like man,</span><sup>[3]</sup> now added, \"Well,<br>there seemed no flight attendes, and seek many professed eyes to Mrs.<br>Cole,” anshed had her lipt parties of feeling her comprehent's<br>rivers neither expectablent. He can have been sensations, in his face to our face, when that<br>time was advisable, but be telling for the night; because more addrtions<br>which she thought it too many queer.  She certainly had none, and ought to<br>have been waited on<span style=\"background-color:#eadbd8;\"> the opportunity of s</span><sup>[3]</sup>peaking, and practising each<br>other in the country t"
      ],
      "text/plain": [
       "<IPython.core.display.HTML object>"
      ]
     },
     "metadata": {},
     "output_type": "display_data"
    },
    {
     "data": {
      "text/html": [
       "<small><p style=\"text-align:right;\">Sources: <span style=\"background-color:#d8daef;\">emma-jane-austen</span><sup>[1]</sup>, <span style=\"background-color:#eadbd8;\">pride-prejudice-jane-austen</span><sup>[3]</sup></p></small>"
      ],
      "text/plain": [
       "<IPython.core.display.HTML object>"
      ]
     },
     "metadata": {},
     "output_type": "display_data"
    },
    {
     "name": "stdout",
     "output_type": "stream",
     "text": [
      "---------------------------------------\n",
      "Epoch: 328.89, iter: 160000, cross-entropy: 0.402, accuracy: 0.87842\n",
      "   y: n she | first sees my aunt!\" |  | \"We must endeavour to forget all that has passed on either side,\" sa\n",
      "  yp:  tthe sorst gues iy arnt,\" |  | \"Ie must hndeavour to forget all that has passed on either side,\" sa\n",
      "Epoch: 329.30, iter: 160200, cross-entropy: 0.421, accuracy: 0.87386\n",
      "   y: s!” |  | “What is the matter now?” |  | “To think of your sending us all your store apples. You said you\n",
      "  yp:  s  |  | “Ieet ns the matter,now.” |  | “To think of your sending us all hour store apples. You said you\n",
      "Epoch: 329.71, iter: 160400, cross-entropy: 0.406, accuracy: 0.87939\n",
      "   y: and you're doing no | good to yourself.'\" |  | \"And then she caught him by the coat, and would have sc\n",
      "  yp: tnd teu le joing notgood to yourself.' |  |  | \"And when she caught him by the lort, and thuld gave ba\n",
      "Epoch: 330.12, iter: 160600, cross-entropy: 0.423, accuracy: 0.87809\n",
      "   y: nd minute questions with a kind of flourish which seemed | to indicate that they were all taking i\n",
      "  yp: nd taguteltuestions weth a kind of flourish which seemed | to hndicate ahat they were all taking i\n",
      "Epoch: 330.53, iter: 160800, cross-entropy: 0.415, accuracy: 0.87663\n",
      "   y: frightfully | ill. Rodriguez is useless. We must get another doctor.\" |  | \"But there is no other doct\n",
      "  yp: tooehteully.anl- Rodriguez ds useless  We must get another doctor.\" |  | \"But there is no other doct\n",
      "Epoch: 330.94, iter: 161000, cross-entropy: 0.389, accuracy: 0.88753\n",
      "   y: r your daughters. Only think what an establishment it would | be for one of them. Sir William and \n",
      "  yp:   sou  seughter . Only think what an establishment it would | be for _ne of them. Sir William and \n",
      "Epoch: 331.35, iter: 161200, cross-entropy: 0.419, accuracy: 0.87581\n",
      "   y: rew very uncomfortable, meanwhile; for the afternoon wore fast away, | the man whom I had sent off\n",
      "  yp:  ea tery wnpomfortable  aeanwhile, for the lfternoon wore fast asay, | the man whom I had sent off\n",
      "Epoch: 331.77, iter: 161400, cross-entropy: 0.413, accuracy: 0.87907\n",
      "   y: ' |  | Regardless of this warning, she captured his closed hand and its contents | again.  'We _will_ \n",
      "  yp:   |  | 'etardlesslhf thes warning, she wantured his closed hand and ins sontents | asain,  'We cwill_ \n",
      "Epoch: 332.18, iter: 161600, cross-entropy: 0.409, accuracy: 0.87809\n",
      "   y: ster; 'she had a right to go | if she pleased.  Trouble me no more about her.  Hereafter she is on\n",
      "  yp: n  n  aaoe tad a right to go | if she fleased.  Thouble me no more about her.  Hereafter she is on\n",
      "Epoch: 332.59, iter: 161800, cross-entropy: 0.417, accuracy: 0.87516\n",
      "   y: s cockade as you would | wish to see. He had nestled down his head most conveniently. That’s very | \n",
      "  yp: n aonkade tn tou chuld lish to see. He had nestled down his head most converiently. That’s very | \n",
      "Epoch: 333.00, iter: 162000, cross-entropy: 0.397, accuracy: 0.88232\n",
      "   y: d to look at Mrs. Bates’s | knitting, she added, in a half whisper, |  | “I mentioned no _names_, you \n",
      "  yp: n bh biok at hr.. Aates’s knetting  she added, in a half whisper, |  | “I mentioned no _names_, you \n",
      "Epoch: 333.41, iter: 162200, cross-entropy: 0.407, accuracy: 0.87988\n",
      "   y: m to show that the middle-aged | are facing something hard which the young do not see? What would \n",
      "  yp:  eto haow that the moddle gged | are flcing nomething hard thich the woung do not see  Dhat would \n",
      "Epoch: 333.82, iter: 162400, cross-entropy: 0.411, accuracy: 0.87874\n",
      "   y:  other day she | wanted something from Kingston.” |  | “Mrs. Cole has servants to send. Can I do any t\n",
      "  yp:  tfher say,ahe wantsd tomething arom Jengston.  |  | “Mrs. Cole has servants to dend  Wan I do any t\n",
      "Epoch: 334.23, iter: 162600, cross-entropy: 0.413, accuracy: 0.87663\n",
      "   y: f I do not begin by | being impertinent myself, I shall soon grow afraid of him.\" |  | On his approach\n",
      "  yp: nft co not lewin bo | being impertinent myself, I shall soon glow afraid of him.\" |  | Tn his approach\n",
      "Epoch: 334.64, iter: 162800, cross-entropy: 0.430, accuracy: 0.87435\n",
      "   y: do_ write good novels now--not as good as they used to, anyhow.\" |  | No one took the trouble to agr\n",
      "  yp:  ew_thote wood fewels now--not as good as they used to, anyhow.\" |  | No one thok the trouble to agr\n",
      "Epoch: 335.05, iter: 163000, cross-entropy: 0.409, accuracy: 0.88232\n",
      "   y: ent of his. |  | \"It is unlucky,\" said she, after a short pause, \"that you should not be | able to see\n",
      "  yp: e t of tis  |  | 'I  is _nlucky,\" said she, after a phort sause, \"thet you should not be | able to hee\n",
      "Epoch: 335.47, iter: 163200, cross-entropy: 0.397, accuracy: 0.88444\n",
      "   y:  I cannot imagine that her ladyship would at all | disapprove of you. And you may be certain that \n",
      "  yp: ht han ot emagine thet Ier | madyship wauld at all | aisapprove of you. And you may be vertain Ihat \n",
      "Epoch: 335.88, iter: 163400, cross-entropy: 0.395, accuracy: 0.88363\n",
      "   y:  distinguished how I came, by my look or manner.” |  | “Yes I should, I am sure I should. There is a\n",
      "  yp:  tiscincuishid hen I fame  ay my look or panner.” |  | “Yes,I should  I am sure I shauld \"There ds a\n",
      "Epoch: 336.29, iter: 163600, cross-entropy: 0.423, accuracy: 0.87419\n",
      "   y:  | Hewet was too much drugged by hours in the open air to make any reply. | In fact every one of the\n",
      "  yp:  | \"e et cas to  much orugged by hour  in the open air,to make a   reply. | In fact every one of the\n",
      "Epoch: 336.70, iter: 163800, cross-entropy: 0.421, accuracy: 0.87451\n",
      "   y: very delightful indeed; I can say nothing less, for I suppose Miss | Woodhouse and Mr. Frank Churc\n",
      "  yp: aery witightful andeed. a can sat nothing less, for I shppose Miss | Woodhouse and Mr. Frank Churc\n",
      "Epoch: 337.11, iter: 164000, cross-entropy: 0.415, accuracy: 0.87907\n",
      "   y: to Wuthering Heights?' I inquired.  'He | is reformed in every respect, apparently: quite a Christ\n",
      "  yp: th tuthering Heights   I inquired.  'He | is reaormed in every respect, bpparently: suite a Christ\n",
      "Epoch: 337.52, iter: 164200, cross-entropy: 0.412, accuracy: 0.87337\n",
      "   y: rted forward. The | full and romantic career of Evelyn Murgatroyd is best hit off by her | own words\n",
      "  yp: ntir trr arda  he dill and romantic career of Evelyn Murgatroyd is best hit offsby her | own words\n",
      "Epoch: 337.93, iter: 164400, cross-entropy: 0.408, accuracy: 0.87516\n",
      "   y:  vent in | contemptuous treatment of Harriet. |  | Mrs. Elton took a great fancy to Jane Fairfax; and \n",
      "  yp: etirtuon tomtemptuous treatment of Harriet.  | Mrs. Elton took a graat fancy to Jane Fairfax; and \n",
      "Epoch: 338.34, iter: 164600, cross-entropy: 0.424, accuracy: 0.87419\n",
      "   y: . \"Repulsive. I'm conscious of great powers | of affection too. I'm not susceptible, of course, in\n",
      "  yp: e  Iosul, ve  I'm consiious of mreat popers.of pffection too. I'm not susceptible, of course, in\n",
      "Epoch: 338.75, iter: 164800, cross-entropy: 0.424, accuracy: 0.87044\n",
      "   y: ter, is indubitable to me; that | she associates with gentlemen’s daughters, no one, I apprehend, \n",
      "  yp: e r  an ntdilitable to me. ahet she issiciates with gentlemen’s daughters, notmne, I asprehend, \n",
      "----------------- temperature = 0.2 ----------------------\n"
     ]
    },
    {
     "data": {
      "text/html": [
       "<span style=\"background-color:#d8daef;\">                                                       </span><sup>[1]</sup><span style=\"background-color:#d8daef;\">                                                       </span><sup>[1]</sup><span style=\"background-color:#d8daef;\">                                                       </span><sup>[1]</sup><span style=\"background-color:#d8daef;\">                                                       </span><sup>[1]</sup><span style=\"background-color:#d8daef;\">                                                       </span><sup>[1]</sup><span style=\"background-color:#d8daef;\">                                                       </span><sup>[1]</sup><span style=\"background-color:#d8daef;\">                                                       </span><sup>[1]</sup><span style=\"background-color:#d8daef;\">                                                       </span><sup>[1]</sup><span style=\"background-color:#d8daef;\">                                                       </span><sup>[1]</sup><span style=\"background-color:#d8daef;\">                                                       </span><sup>[1]</sup><span style=\"background-color:#d8daef;\">                                                       </span><sup>[1]</sup><span style=\"background-color:#d8daef;\">                                                       </span><sup>[1]</sup><span style=\"background-color:#d8daef;\">                                                       </span><sup>[1]</sup><span style=\"background-color:#d8daef;\">                                                       </span><sup>[1]</sup><span style=\"background-color:#d8daef;\">                                                       </span><sup>[1]</sup><span style=\"background-color:#d8daef;\">                                                       </span><sup>[1]</sup><span style=\"background-color:#d8daef;\">                                                       </span><sup>[1]</sup><span style=\"background-color:#d8daef;\">                                                       </span><sup>[1]</sup>          "
      ],
      "text/plain": [
       "<IPython.core.display.HTML object>"
      ]
     },
     "metadata": {},
     "output_type": "display_data"
    },
    {
     "data": {
      "text/html": [
       "<small><p style=\"text-align:right;\">Sources: <span style=\"background-color:#d8daef;\">emma-jane-austen</span><sup>[1]</sup></p></small>"
      ],
      "text/plain": [
       "<IPython.core.display.HTML object>"
      ]
     },
     "metadata": {},
     "output_type": "display_data"
    },
    {
     "name": "stdout",
     "output_type": "stream",
     "text": [
      "----------------- temperature = 0.6 ----------------------\n"
     ]
    },
    {
     "data": {
      "text/html": [
       "<span style=\"background-color:#d8daef;\">                                                       </span><sup>[1]</sup><span style=\"background-color:#d8daef;\">                                                       </span><sup>[1]</sup><span style=\"background-color:#d8daef;\">                                                       </span><sup>[1]</sup><span style=\"background-color:#d8daef;\">                                                       </span><sup>[1]</sup><span style=\"background-color:#d8daef;\">                                                       </span><sup>[1]</sup><span style=\"background-color:#d8daef;\">                                                       </span><sup>[1]</sup><span style=\"background-color:#d8daef;\">                                                       </span><sup>[1]</sup><span style=\"background-color:#d8daef;\">                                                       </span><sup>[1]</sup><span style=\"background-color:#d8daef;\">                                                       </span><sup>[1]</sup><span style=\"background-color:#d8daef;\">                                                       </span><sup>[1]</sup><span style=\"background-color:#d8daef;\">                                                       </span><sup>[1]</sup><span style=\"background-color:#d8daef;\">                                                       </span><sup>[1]</sup><span style=\"background-color:#d8daef;\">                                                       </span><sup>[1]</sup><span style=\"background-color:#d8daef;\">                                                       </span><sup>[1]</sup><span style=\"background-color:#d8daef;\">                                                       </span><sup>[1]</sup><span style=\"background-color:#d8daef;\">                                                “</span><sup>[1]</sup>‘And, <span style=\"background-color:#d8daef;\">there can be no danger</span><sup>[1]</sup><span style=\"background-color:#d8daef;\"> of woman’s destiny,<br>and </span><sup>[1]</sup>the use<span style=\"background-color:#d8daef;\"> to be making their way</span><sup>[1]</sup> to Pemberley<span style=\"background-color:#ebdef0;\"> by the wings of the b</span><sup>[2]</sup>arn.<br><br>'W"
      ],
      "text/plain": [
       "<IPython.core.display.HTML object>"
      ]
     },
     "metadata": {},
     "output_type": "display_data"
    },
    {
     "data": {
      "text/html": [
       "<small><p style=\"text-align:right;\">Sources: <span style=\"background-color:#d8daef;\">emma-jane-austen</span><sup>[1]</sup>, <span style=\"background-color:#ebdef0;\">voyage-out-virginia-woolf</span><sup>[2]</sup></p></small>"
      ],
      "text/plain": [
       "<IPython.core.display.HTML object>"
      ]
     },
     "metadata": {},
     "output_type": "display_data"
    },
    {
     "name": "stdout",
     "output_type": "stream",
     "text": [
      "----------------- temperature = 1.0 ----------------------\n"
     ]
    },
    {
     "data": {
      "text/html": [
       " “Yours Masy. <span style=\"background-color:#d8daef;\">I cannot wish to be </span><sup>[1]</sup>out of crocuse. It is to be afraid of<br>denoking that the acquaintance<span style=\"background-color:#e2d7d5;\"> was disappointment, and</span><sup>[4]</sup><span style=\"background-color:#d8daef;\"> Emma could not but<br></span><sup>[1]</sup>judge courige, and was proud friendly<span style=\"background-color:#ebdef0;\">, still enveloped in<br></span><sup>[2]</sup>a liveliness<span style=\"background-color:#d8daef;\"> that his nerves could </span><sup>[1]</sup>not help last winkow, and to<br>compose her enquiticity of being beyond a very amiable<br>interest. Suddenless<span style=\"background-color:#d8daef;\"> it was a very good </span><sup>[1]</sup>prine that had passed each<br>other no anxious smile. Every impetent manner of<br>conjuring him with the polished mappose, never had better think of the whole<br>day under grave than before breaking in interest, and his effort, under<br>worse than the rest.  The road is perfectly faither of my sharpnhing how you<br>done there (etions in such a day. Their manners?”<br><br>“Yes--rather at first attempted surprised, had communicated this<br>day at least. He had alared<span style=\"background-color:#eadbd8;\"> particularly to her</span><sup>[3]</sup> sister to sturding to<br>Hartfield; she knelled from her passionate associations as strong was his<br>companion almost a book (that a little next week, laughing.  He<br>took his st"
      ],
      "text/plain": [
       "<IPython.core.display.HTML object>"
      ]
     },
     "metadata": {},
     "output_type": "display_data"
    },
    {
     "data": {
      "text/html": [
       "<small><p style=\"text-align:right;\">Sources: <span style=\"background-color:#d8daef;\">emma-jane-austen</span><sup>[1]</sup>, <span style=\"background-color:#e2d7d5;\">wuthering-heights-emily-bronte</span><sup>[4]</sup>, <span style=\"background-color:#ebdef0;\">voyage-out-virginia-woolf</span><sup>[2]</sup>, <span style=\"background-color:#eadbd8;\">pride-prejudice-jane-austen</span><sup>[3]</sup></p></small>"
      ],
      "text/plain": [
       "<IPython.core.display.HTML object>"
      ]
     },
     "metadata": {},
     "output_type": "display_data"
    },
    {
     "name": "stdout",
     "output_type": "stream",
     "text": [
      "---------------------------------------\n",
      "Epoch: 339.17, iter: 165000, cross-entropy: 0.414, accuracy: 0.87760\n",
      "   y: zas with an impatience | which was very ill rewarded at their close; for Mary, on receiving | amongs\n",
      "  yp: dertteth an amprtience | ahich was very ill.redarded at their close; bor Mary, on receiving | amongs\n",
      "Epoch: 339.58, iter: 165200, cross-entropy: 0.436, accuracy: 0.86898\n",
      "   y:  to | questioning him of what he had been doing, and how he had been living; | and finally, desired \n",
      "  yp: lth suestioneng him of what he had been doing, and hew he had been living; | and sinally, desired \n",
      "Epoch: 339.99, iter: 165400, cross-entropy: 0.412, accuracy: 0.87679\n",
      "   y: eading article upon topics of general | interest in the weekly newspapers. It rambled with a kind \n",
      "  yp: e s ng tnoifle apon shwics of general | interest in the soekly newspapers. It rambled with a knnd \n",
      "Epoch: 340.40, iter: 165600, cross-entropy: 0.418, accuracy: 0.87142\n",
      "   y:  on the table making the black press | shine like jet.' |  | 'The black press? where is that?' I asked\n",
      "  yp:  tf the sable saiing iheidlack press | shene pike jet.' |  | 'The beack prejs? where is that?' I asked\n",
      "Epoch: 340.81, iter: 165800, cross-entropy: 0.388, accuracy: 0.88591\n",
      "   y:   Well, the conclusion was, that my | mistress grumbled herself calm; and Mr. Earnshaw told me to \n",
      "  yp:   Ie | l, Ihendonclusion oas  that iy | mostress grumbled herself ealm; and Mr. Earnshaw told me to \n",
      "Epoch: 341.22, iter: 166000, cross-entropy: 0.379, accuracy: 0.88786\n",
      "   y:  her husband's never intending to go there | himself. |  | But they were entirely ignorant of what had\n",
      "  yp:  tir fasband.s sover mstonding to go there himself.  | But they were entirely ignorant of what had\n",
      "Epoch: 341.63, iter: 166200, cross-entropy: 0.406, accuracy: 0.88200\n",
      "   y: rstanding Darcy was the superior. Bingley was by no means deficient, | but Darcy was clever. He wa\n",
      "  yp:    and ng tarcy mas fherguperior  Mingley was te no means deficient, | but Darcy was clever. He wa\n",
      "Epoch: 342.04, iter: 166400, cross-entropy: 0.426, accuracy: 0.87386\n",
      "   y: r |      feelings, it only remained, he thought, to secure and expedite a |      marriage, which, in\n",
      "  yp:   t    frelings, it wuly remained, ae whought, to secure and expedite a |      marriage, which, in\n",
      "Epoch: 342.45, iter: 166600, cross-entropy: 0.418, accuracy: 0.88118\n",
      "   y:  now imagine why her own attentions | had been slighted. This discovery laid many smaller matters \n",
      "  yp:  tot snmgine hha he  awn attentions | had been soighted  This ciscovery taid mant sialler manters \n",
      "Epoch: 342.87, iter: 166800, cross-entropy: 0.413, accuracy: 0.87777\n",
      "   y: mnity as before; wished | his fair cousins health and happiness again, and promised their father | a\n",
      "  yp:  einy an iefore; weshed | fis fair pousins health and sappiness again, and sromised their fither | a\n",
      "Epoch: 343.28, iter: 167000, cross-entropy: 0.408, accuracy: 0.87972\n",
      "   y:  and she was soon strong enough to move | from one to the other, leaning on Edgar's arm.  Ah, I th\n",
      "  yp:  and the was no n oaiong enough to mave | from one th the sther, leaning on tdgar's arm.  Ah, I th\n",
      "Epoch: 343.69, iter: 167200, cross-entropy: 0.410, accuracy: 0.87549\n",
      "   y:  she said, turning to Rachel, \"I shall insist upon your | playing to me to-morrow.\" |  | There was tha\n",
      "  yp:  sae waid. lurning to Hachel, \"I shall insist upon your | slaying to me wo-morrow.\" |  | There was the\n",
      "Epoch: 344.10, iter: 167400, cross-entropy: 0.415, accuracy: 0.88053\n",
      "   y: corner, | and they found themselves confronted by a large square building. They | had come out upon \n",
      "  yp: touner  and hhe  wound themselves consronted by a large rquare building. Shey | had come out upon \n",
      "Epoch: 344.51, iter: 167600, cross-entropy: 0.399, accuracy: 0.88477\n",
      "   y: bject of interest; | and during the ten days of their stay at Hartfield it was not to be | expected-\n",
      "  yp: ulect of tttirest; and suring the ten days of their stay at Hartfield it was not to be | sxpected-\n",
      "Epoch: 344.92, iter: 167800, cross-entropy: 0.412, accuracy: 0.87760\n",
      "   y:  and watch | till I departed, your conscience quite calm: you would be hindering | mischief.' |  | I pro\n",
      "  yp:  and taschetwml I desarted, your conscience tuite colm: you sould be rindering | meschief.' |  | I pro\n",
      "Epoch: 345.33, iter: 168000, cross-entropy: 0.409, accuracy: 0.87695\n",
      "   y: e ground rose | sharply, Evelyn M. jumped off, threw her reins to the native boy, and | adjured St. \n",
      "  yp: e wreupdswoue toerply, ivelyn M. jumped off, threw hir rests to the hamivesboy, and | aljured Sn. \n",
      "Epoch: 345.74, iter: 168200, cross-entropy: 0.399, accuracy: 0.88005\n",
      "   y: that there was no obscurity, nothing | doubtful, in the words he used; and I think I can give you \n",
      "  yp: thet hheye was so otscurity, nor ing doubtful, in the words he used; tnd i think i can geve you \n",
      "Epoch: 346.15, iter: 168400, cross-entropy: 0.397, accuracy: 0.88444\n",
      "   y:  Oh, Mr. Lockwood, I cannot | express what a terrible start I got by the momentary view!  Those de\n",
      "  yp: a n, mrs Lockwood, I dannot | cxpress what a thrrible start,a got by the momentary view!  Those te\n",
      "Epoch: 346.57, iter: 168600, cross-entropy: 0.386, accuracy: 0.88265\n",
      "   y: Knightley is an affectionate | father. The children are all fond of him.” |  | “And then their uncle c\n",
      "  yp: tnightley,wn t  adfectionate | father, Theychildren are all iond of him.” |  | “And then their uncle c\n",
      "Epoch: 346.98, iter: 168800, cross-entropy: 0.409, accuracy: 0.87679\n",
      "   y:  | \"It is from Miss Bingley,\" said Jane, and then read it aloud. |  |      \"My dear Friend, |  |      \"If \n",
      "  yp:  | \"I  ws eoem Mrss Lengley'\" said Jane, and the  lead it aloud  |  |      \"My dear Jriend, |  |      \"If \n",
      "Epoch: 347.39, iter: 169000, cross-entropy: 0.398, accuracy: 0.88623\n",
      "   y: lion | against Providence.  Oh, I've endured very, very bitter misery, Nelly!  If | that creature kn\n",
      "  yp: l nt,tnainst yrapidence.  Oh, I've bndured,very  very bitter misery, Nelly!  If | that creature kn\n",
      "Epoch: 347.80, iter: 169200, cross-entropy: 0.391, accuracy: 0.88460\n",
      "   y: on obliged to take her Ladyship's | praise into his own hands. |  |  |  |  | CHAPTER VII. |  |  | Sir William stai\n",
      "  yp: ud afliged to phke her iadyship's | praise ifto his own.honds. |  |  |  |  |  | HAPTER VII. |  |  | 'ir William stai\n",
      "Epoch: 348.21, iter: 169400, cross-entropy: 0.422, accuracy: 0.87956\n",
      "   y: speak. The terrible torture and unreality of the last days | were over, and he had come out now in\n",
      "  yp: theak  | Hhervirrible tonture and unreality of the tast ways were lver, and he had come ovt now in\n",
      "Epoch: 348.62, iter: 169600, cross-entropy: 0.413, accuracy: 0.87777\n",
      "   y: rty, and I have | two children. My husband is a scholar. And now--it's your turn,\" she | nodded at H\n",
      "  yp: n a  and t sode mwo yhildren  My husband is a scholar. And now,-it's your turn,\" she | lodded at H\n",
      "Epoch: 349.03, iter: 169800, cross-entropy: 0.400, accuracy: 0.88118\n",
      "   y: ooked for a time at the ripples | wrinkling the black water beneath them, undressed too, and lay d\n",
      "  yp: eoked aor h mime at the rigples | wrinkling toe black water beneath them, andressed too, and loy d\n",
      "----------------- temperature = 0.2 ----------------------\n"
     ]
    },
    {
     "data": {
      "text/html": [
       "<span style=\"background-color:#d8daef;\">                                                       </span><sup>[1]</sup><span style=\"background-color:#d8daef;\">                                                       </span><sup>[1]</sup><span style=\"background-color:#d8daef;\">                                                       </span><sup>[1]</sup><span style=\"background-color:#d8daef;\">                                                       </span><sup>[1]</sup><span style=\"background-color:#d8daef;\">                                                       </span><sup>[1]</sup><span style=\"background-color:#d8daef;\">                                                       </span><sup>[1]</sup><span style=\"background-color:#d8daef;\">                                                       </span><sup>[1]</sup><span style=\"background-color:#d8daef;\">                                                       </span><sup>[1]</sup><span style=\"background-color:#d8daef;\">                                                       </span><sup>[1]</sup><span style=\"background-color:#d8daef;\">                                                       </span><sup>[1]</sup><span style=\"background-color:#d8daef;\">                                                       </span><sup>[1]</sup><span style=\"background-color:#d8daef;\">                                                       </span><sup>[1]</sup><span style=\"background-color:#d8daef;\">                                                       </span><sup>[1]</sup><span style=\"background-color:#d8daef;\">                                                       </span><sup>[1]</sup><span style=\"background-color:#d8daef;\">                                                       </span><sup>[1]</sup><span style=\"background-color:#d8daef;\">                                                       </span><sup>[1]</sup><span style=\"background-color:#d8daef;\">                                                       </span><sup>[1]</sup><span style=\"background-color:#d8daef;\">                                                       </span><sup>[1]</sup>          "
      ],
      "text/plain": [
       "<IPython.core.display.HTML object>"
      ]
     },
     "metadata": {},
     "output_type": "display_data"
    },
    {
     "data": {
      "text/html": [
       "<small><p style=\"text-align:right;\">Sources: <span style=\"background-color:#d8daef;\">emma-jane-austen</span><sup>[1]</sup></p></small>"
      ],
      "text/plain": [
       "<IPython.core.display.HTML object>"
      ]
     },
     "metadata": {},
     "output_type": "display_data"
    },
    {
     "name": "stdout",
     "output_type": "stream",
     "text": [
      "----------------- temperature = 0.6 ----------------------\n"
     ]
    },
    {
     "data": {
      "text/html": [
       "<span style=\"background-color:#d8daef;\">                                                       </span><sup>[1]</sup><span style=\"background-color:#d8daef;\">                                                       </span><sup>[1]</sup><span style=\"background-color:#d8daef;\">                         F. C. WESTO</span><sup>[1]</sup>I HTOLEIMEU.PI<br><br>       * DDRἑI D’I<br><br>      My friend's being gone into alarm. I like her his marriage. Yes, at least,<br>is merely sorry for Jane!\" was not subgithed to take<br>leave and<span style=\"background-color:#ebdef0;\"> remember that he had </span><sup>[2]</sup>lived, and how far away like the most since<br>they had to levep,<span style=\"background-color:#e2d7d5;\"> no farther invitation</span><sup>[4]</sup> was ill-health, heart--he affection, my<br>deares<span style=\"background-color:#d8daef;\">t could not bear to </span><sup>[1]</sup>see her, but was to be the conscious of one for discovering<br>the question in the skin<span style=\"background-color:#eadbd8;\">, and I will not be </span><sup>[3]</sup>long before any one who are for some<br>time. There is the horses, and that<span style=\"background-color:#e2d7d5;\"> you, Master Heathcliff</span><sup>[4]</sup>, you have a privrity of<br>frenzing diving him hoile for herself for considerably, and then we are<br>all reasonable. The wedding-tab<span style=\"background-color:#ebdef0;\">le in the house, the </span><sup>[2]</sup>worst want of<br>spirits of ground again, and never looks at her desperate.<br><br>\"It exceed your spirit; this is too late in their plumul<br>enemants, if you can bu"
      ],
      "text/plain": [
       "<IPython.core.display.HTML object>"
      ]
     },
     "metadata": {},
     "output_type": "display_data"
    },
    {
     "data": {
      "text/html": [
       "<small><p style=\"text-align:right;\">Sources: <span style=\"background-color:#d8daef;\">emma-jane-austen</span><sup>[1]</sup>, <span style=\"background-color:#ebdef0;\">voyage-out-virginia-woolf</span><sup>[2]</sup>, <span style=\"background-color:#e2d7d5;\">wuthering-heights-emily-bronte</span><sup>[4]</sup>, <span style=\"background-color:#eadbd8;\">pride-prejudice-jane-austen</span><sup>[3]</sup></p></small>"
      ],
      "text/plain": [
       "<IPython.core.display.HTML object>"
      ]
     },
     "metadata": {},
     "output_type": "display_data"
    },
    {
     "name": "stdout",
     "output_type": "stream",
     "text": [
      "----------------- temperature = 1.0 ----------------------\n"
     ]
    },
    {
     "data": {
      "text/html": [
       "F. C. WESTON CVULL]<br><br><br><br><br>CHAPTER IX<br><br><br>The rapidity of the fashions of them was very little to wish. They, a certain<br>is, that you were being blaming Badugrtties. I always say Ken of twon<br>raists had been beyond whose good chonce to the Remarkable thing; then, we would<br>go in: she tried<span style=\"background-color:#eadbd8;\"> to follow my example, and </span><sup>[3]</sup>well as you disappointed: she did not<br>always disple her cheeks, and his spleen sentence of his feelings wanted,<br>and for back it to herself, or only one day<br>ask him, and as it is necessarily very small.\"<br><br>\"An excellent catechion,\" he said; \"though I<br>want you, and am end, poor Mysos!\" he cried. \"You look so apbeg to think<br>of him.”<br><br>“What did Mrs. Charle can't tell potat of the house, because he<br>says it did not keep accosted the neglectority of water; and on<br>the floor and cut off in the room, \"I advise you!--little Corlousing Helen was not<br>merely a like indifference. The important recommended him as great<br>as he broaded as if a raving having sanguine the notice<span style=\"background-color:#e2d7d5;\"> of his<br>fellow-servant</span><sup>[4]</sup>--on"
      ],
      "text/plain": [
       "<IPython.core.display.HTML object>"
      ]
     },
     "metadata": {},
     "output_type": "display_data"
    },
    {
     "data": {
      "text/html": [
       "<small><p style=\"text-align:right;\">Sources: <span style=\"background-color:#eadbd8;\">pride-prejudice-jane-austen</span><sup>[3]</sup>, <span style=\"background-color:#e2d7d5;\">wuthering-heights-emily-bronte</span><sup>[4]</sup></p></small>"
      ],
      "text/plain": [
       "<IPython.core.display.HTML object>"
      ]
     },
     "metadata": {},
     "output_type": "display_data"
    },
    {
     "name": "stdout",
     "output_type": "stream",
     "text": [
      "---------------------------------------\n",
      "Epoch: 349.44, iter: 170000, cross-entropy: 0.434, accuracy: 0.87126\n",
      "   y: sible. There were wishes | at Randalls respecting Emma’s destiny, but it was not desirable to | have\n",
      "  yp:   ble  She e aere mishes | at Randalls respecting Emma’s aestiny, but it was tot cesirable to | have\n",
      "Epoch: 349.85, iter: 170200, cross-entropy: 0.399, accuracy: 0.87956\n",
      "   y: ors! I wish I were a girl again, half | savage and hardy, and free; and laughing at injuries, not \n",
      "  yp: uk     walh y were a grrl again, yalf | savage and hardy, and free; and laughing at injuries, not \n",
      "Epoch: 350.27, iter: 170400, cross-entropy: 0.411, accuracy: 0.87630\n",
      "   y: rom these thoughts | and apologised. \"I'm very sorry,\" she said, \"but if I'm dull, it's my | nature,\n",
      "  yp:  om the e chiughts,and scplogited. \"I m very forry,\" she said, aIut it I m hull, it's my | nature,\n",
      "Epoch: 350.68, iter: 170600, cross-entropy: 0.405, accuracy: 0.88232\n",
      "   y: e horror and detestation of his | ancient enemy that had occupied his heart ever since Mrs. Linton\n",
      "  yp: e tousor-tnd petestabion of his | angient enemy that had occuried his heart ever since Mis. Linton\n",
      "Epoch: 351.09, iter: 170800, cross-entropy: 0.403, accuracy: 0.88086\n",
      "   y: nt to bear Joseph's eternal lectures without | weeping, and to move up and down the house less wit\n",
      "  yp:    to te r aaseph s enernal logtures whthout | weeping, and to mave up and down the house less whn\n",
      "Epoch: 351.50, iter: 171000, cross-entropy: 0.409, accuracy: 0.87939\n",
      "   y: .\" |  | \"But even his pictures will become old,\" Mrs. Thornbury intervened. |  | \"Then I'll have 'em bur\n",
      "  yp:    |  | \"Wut yver ois lectures will become old,\" Mrs. Thornbury intervened. |  | \"When I'll have 'em bur\n",
      "Epoch: 351.91, iter: 171200, cross-entropy: 0.401, accuracy: 0.88053\n",
      "   y: turnpike road. | The park paling was still the boundary on one side, and she soon passed | one of th\n",
      "  yp: ahrn inl aood- | The park paling was ttill the loundiry on one side, and she caon passed | one of th\n",
      "Epoch: 352.32, iter: 171400, cross-entropy: 0.402, accuracy: 0.88346\n",
      "   y: tempt of Mrs. Bennet at conversation, and by so doing, threw a | languor over the whole party, whi\n",
      "  yp: herptitf tr.. Bennet,wt tonversation, and by simdoing  thaee a | larguor over the shole party  whi\n",
      "Epoch: 352.73, iter: 171600, cross-entropy: 0.406, accuracy: 0.87663\n",
      "   y: ne's heart was clouded now in double darkness. | Her features were so sad, they did not seem hers:\n",
      "  yp: ng s saart bos aaouded now in double darkness  | Her features were so sad  they bid not saem ters:\n",
      "Epoch: 353.14, iter: 171800, cross-entropy: 0.414, accuracy: 0.87760\n",
      "   y: nton's room; | but I compelled her to sit down on a chair, and made her drink, and | washed her pale\n",
      "  yp: ngo ,s aeom  but e sompelled her to stt down an a chair, and dade ner deenk  and | washed her pale\n",
      "Epoch: 353.55, iter: 172000, cross-entropy: 0.416, accuracy: 0.87419\n",
      "   y: ou imagine he has thought as much of you as you | have of him?  Hasn't he Hareton for a companion?\n",
      "  yp:  u anagine he ias eheught as much of Mouras tou | have of him?  Has 't he Hareton for a companion?\n",
      "Epoch: 353.97, iter: 172200, cross-entropy: 0.389, accuracy: 0.88379\n",
      "   y:  might have been living yet, if it had not been for him!' was | his constant bitter reflection; an\n",
      "  yp:  taght bave been eiving tet, if it had not been for tim;'  as | his constant ditter reflection. an\n",
      "Epoch: 354.38, iter: 172400, cross-entropy: 0.397, accuracy: 0.88509\n",
      "   y: e had immediately | found out his brother, and persuaded him to come to Gracechurch street. | That M\n",
      "  yp: e wad btmediately fornd out his brother, and persuaded him to come to hracechurch street. | That H\n",
      "Epoch: 354.79, iter: 172600, cross-entropy: 0.431, accuracy: 0.87028\n",
      "   y: ,\" the young men whispered; \"Oh, it's you,\" the young | women replied. All old people and many sic\n",
      "  yp: r  sho young men weispered; \"oh, it's you,\" the young | women replied.  ll ofd people and many stc\n",
      "Epoch: 355.20, iter: 172800, cross-entropy: 0.432, accuracy: 0.86816\n",
      "   y: make the porridge!'  I removed the vessel out of his reach, and proceeded | to take off my hat and\n",
      "  yp:  | ake yhemirwtidge '” I removed the hassel out of his ghtch, and hroceeded | to take oaf hy hat and\n",
      "Epoch: 355.61, iter: 173000, cross-entropy: 0.416, accuracy: 0.87646\n",
      "   y: ion for him and for herself would be necessary. She did | not mean to have her own affections enta\n",
      "  yp: hnn oor aim,tsd her aer,elf wiuld be necessary. She did | not mean to have her own acfections enti\n",
      "Epoch: 356.02, iter: 173200, cross-entropy: 0.388, accuracy: 0.88525\n",
      "   y: wered. |  | 'Were you asked?' she repeated. |  | 'No,' I said, half smiling.  'You are the proper person\n",
      "  yp:  ered  |  | \"Nele you asked?' she repeated. |  | 'Oo,' I said, half smiling.  'You are the proper person\n",
      "Epoch: 356.43, iter: 173400, cross-entropy: 0.369, accuracy: 0.88591\n",
      "   y: ; but she saw too much of it to feel a doubt of its overcoming | any hesitations that a reasonable\n",
      "  yp:   aut the hat hho much of it | to feel a doubt of its dwercoming | any hesitations.that a reasonable\n",
      "Epoch: 356.84, iter: 173600, cross-entropy: 0.400, accuracy: 0.87956\n",
      "   y:  the subject. He | merely added: 'You will know hereafter, darling, why I wish you to avoid | his ho\n",
      "  yp:  the shbject  He | merely added: 'You will know hereafter, darling, whe I aish you to avoid | his ho\n",
      "Epoch: 357.25, iter: 173800, cross-entropy: 0.405, accuracy: 0.87891\n",
      "   y: y not,” replied Mrs. Elton, with a most satisfied smile. | “I never heard any county but Surry cal\n",
      "  yp: o wot   seplied Mrs. Wlton, with a most satisfied scile. | “Innever heard any county but nusry wal\n",
      "Epoch: 357.67, iter: 174000, cross-entropy: 0.415, accuracy: 0.87500\n",
      "   y: te, removed the | chief of even Emma’s vexation. |  | The day came, the party were punctually assemble\n",
      "  yp: n d aecaved fhe | shief of even Emma’s vexation. |  | The cay came, the party fere prnctually assemble\n",
      "Epoch: 358.08, iter: 174200, cross-entropy: 0.408, accuracy: 0.88005\n",
      "   y: ing for some time. |  | \"You see, there they go, rolling off the edge of the hill,\" she said | suddenl\n",
      "  yp: esg tor home time.  | \"Bou see, there whey go, rolling off the edga of the sill,\" she | said | suddenl\n",
      "Epoch: 358.49, iter: 174400, cross-entropy: 0.410, accuracy: 0.87760\n",
      "   y: ew would be all very bad; Emma communicated her | news of Jane Fairfax, and her dependence on the \n",
      "  yp: d  tiuld be a w mery dad; Emma communicated her | news of Jane Fairfax, and her dependence on the \n",
      "Epoch: 358.90, iter: 174600, cross-entropy: 0.411, accuracy: 0.87826\n",
      "   y: ause he will not give himself the trouble.\" |  | \"I certainly have not the talent which some people \n",
      "  yp: hrse te wall bot hive himself the trouble.\" |  | \"I aertainly have not the talent which some people \n",
      "Epoch: 359.31, iter: 174800, cross-entropy: 0.403, accuracy: 0.88184\n",
      "   y: just so long | have I been wanting the very circumstance to happen that has happened. | I could neve\n",
      "  yp: tust aausong | heve b aeen wanting the very circumstance to heppen that has heppened. | W mould neve\n",
      "----------------- temperature = 0.2 ----------------------\n"
     ]
    },
    {
     "data": {
      "text/html": [
       "<span style=\"background-color:#d8daef;\">                                                       </span><sup>[1]</sup><span style=\"background-color:#d8daef;\">                                                       </span><sup>[1]</sup><span style=\"background-color:#d8daef;\">                                                       </span><sup>[1]</sup><span style=\"background-color:#d8daef;\">                                                       </span><sup>[1]</sup><span style=\"background-color:#d8daef;\">                                                       </span><sup>[1]</sup><span style=\"background-color:#d8daef;\">                                                       </span><sup>[1]</sup><span style=\"background-color:#d8daef;\">                                                       </span><sup>[1]</sup><span style=\"background-color:#d8daef;\">                                                       </span><sup>[1]</sup><span style=\"background-color:#d8daef;\">                                                       </span><sup>[1]</sup><span style=\"background-color:#d8daef;\">                                                       </span><sup>[1]</sup><span style=\"background-color:#d8daef;\">                                                       </span><sup>[1]</sup><span style=\"background-color:#d8daef;\">                                                       </span><sup>[1]</sup><span style=\"background-color:#d8daef;\">                                                       </span><sup>[1]</sup><span style=\"background-color:#d8daef;\">                                                       </span><sup>[1]</sup><span style=\"background-color:#d8daef;\">                                                       </span><sup>[1]</sup><span style=\"background-color:#d8daef;\">                                                       </span><sup>[1]</sup><span style=\"background-color:#d8daef;\">                                                       </span><sup>[1]</sup><span style=\"background-color:#d8daef;\">                                                       </span><sup>[1]</sup>          "
      ],
      "text/plain": [
       "<IPython.core.display.HTML object>"
      ]
     },
     "metadata": {},
     "output_type": "display_data"
    },
    {
     "data": {
      "text/html": [
       "<small><p style=\"text-align:right;\">Sources: <span style=\"background-color:#d8daef;\">emma-jane-austen</span><sup>[1]</sup></p></small>"
      ],
      "text/plain": [
       "<IPython.core.display.HTML object>"
      ]
     },
     "metadata": {},
     "output_type": "display_data"
    },
    {
     "name": "stdout",
     "output_type": "stream",
     "text": [
      "----------------- temperature = 0.6 ----------------------\n"
     ]
    },
    {
     "data": {
      "text/html": [
       "<span style=\"background-color:#d8daef;\">                                                       </span><sup>[1]</sup><span style=\"background-color:#d8daef;\">                                                       </span><sup>[1]</sup><span style=\"background-color:#d8daef;\">                                                       </span><sup>[1]</sup><span style=\"background-color:#d8daef;\">                        “</span><sup>[1]</sup><span style=\"background-color:#d8daef;\">                                                       </span><sup>[1]</sup><span style=\"background-color:#d8daef;\">                                                       </span><sup>[1]</sup><span style=\"background-color:#d8daef;\">                                                       </span><sup>[1]</sup><span style=\"background-color:#d8daef;\">                                                       </span><sup>[1]</sup><span style=\"background-color:#d8daef;\">                                                       </span><sup>[1]</sup><span style=\"background-color:#d8daef;\">                                                       </span><sup>[1]</sup><span style=\"background-color:#d8daef;\">                                                       </span><sup>[1]</sup><span style=\"background-color:#d8daef;\">                                                       </span><sup>[1]</sup><span style=\"background-color:#d8daef;\">                                                       </span><sup>[1]</sup><span style=\"background-color:#d8daef;\">                                                       </span><sup>[1]</sup><span style=\"background-color:#d8daef;\">                                                       </span><sup>[1]</sup><span style=\"background-color:#d8daef;\">                                                       </span><sup>[1]</sup><span style=\"background-color:#d8daef;\">                                                       </span><sup>[1]</sup><span style=\"background-color:#d8daef;\">                                                       </span><sup>[1]</sup><span style=\"background-color:#d8daef;\">                                        </span><sup>[1]</sup>"
      ],
      "text/plain": [
       "<IPython.core.display.HTML object>"
      ]
     },
     "metadata": {},
     "output_type": "display_data"
    },
    {
     "data": {
      "text/html": [
       "<small><p style=\"text-align:right;\">Sources: <span style=\"background-color:#d8daef;\">emma-jane-austen</span><sup>[1]</sup></p></small>"
      ],
      "text/plain": [
       "<IPython.core.display.HTML object>"
      ]
     },
     "metadata": {},
     "output_type": "display_data"
    },
    {
     "name": "stdout",
     "output_type": "stream",
     "text": [
      "----------------- temperature = 1.0 ----------------------\n"
     ]
    },
    {
     "data": {
      "text/html": [
       "<span style=\"background-color:#d8daef;\">                                                       </span><sup>[1]</sup><span style=\"background-color:#d8daef;\">                                                       </span><sup>[1]</sup>            “ . You may go to Scotland all their beastly to the Campbells,<br>who doesn't as well as they solicateus, and so,<br>an acknow, but her quarrels him own idwures the “ humence friendship for<br>thom. One could not be far worse<span style=\"background-color:#eadbd8;\">.\"<br><br>\"And have you an</span><sup>[3]</sup>ger to come,\" she began and silent.<br><br>St. John had laid on the place, and writing that stood where in Cheatstarks; the<br>good one whom she _did_ read _Miss_ Giblle, examining a table and chair, moved away, butter<br>listening to her arm's attention.<br><br>     \"By a Tigct, Catherine standing till<span style=\"background-color:#eadbd8;\"> the breakfast room </span><sup>[3]</sup>Ha complained back, artist; and<br>broke out her husband; 'but I'm come and articipy amused it<br>with some cold laod as one who you'll come!  I<span style=\"background-color:#eadbd8;\">t is exactly what I </span><sup>[3]</sup>may liv<span style=\"background-color:#e2d7d5;\">e, and gave me her mother's</span><sup>[4]</sup><br>lively<span style=\"background-color:#d8daef;\"> to speak. There was </span><sup>[1]</sup>sometimes through the park<span style=\"background-color:#ebdef0;\">. She looked at<br>them </span><sup>[2]</sup>very comfortable. “This wish ones, which I do not like him.\"<br><br>\"Cather"
      ],
      "text/plain": [
       "<IPython.core.display.HTML object>"
      ]
     },
     "metadata": {},
     "output_type": "display_data"
    },
    {
     "data": {
      "text/html": [
       "<small><p style=\"text-align:right;\">Sources: <span style=\"background-color:#d8daef;\">emma-jane-austen</span><sup>[1]</sup>, <span style=\"background-color:#eadbd8;\">pride-prejudice-jane-austen</span><sup>[3]</sup>, <span style=\"background-color:#e2d7d5;\">wuthering-heights-emily-bronte</span><sup>[4]</sup>, <span style=\"background-color:#ebdef0;\">voyage-out-virginia-woolf</span><sup>[2]</sup></p></small>"
      ],
      "text/plain": [
       "<IPython.core.display.HTML object>"
      ]
     },
     "metadata": {},
     "output_type": "display_data"
    },
    {
     "name": "stdout",
     "output_type": "stream",
     "text": [
      "---------------------------------------\n",
      "Epoch: 359.72, iter: 175000, cross-entropy: 0.394, accuracy: 0.88428\n",
      "   y:  of Mr. and | Mrs. Philips, protesting that he did not in the least regard his losses | at whist, en\n",
      "  yp:  tf tr. End Mrs. Philips, protesting that he wid not mn the least kegard his | losses | at thist, en\n",
      "Epoch: 360.13, iter: 175200, cross-entropy: 0.407, accuracy: 0.87858\n",
      "   y: le persistent wrinkles which seem to show that the middle-aged | are facing something hard which t\n",
      "  yp: he sarsostent waigkles which ceem to huow that the maddle-lged | are fucisg something hard which t\n",
      "Epoch: 360.54, iter: 175400, cross-entropy: 0.405, accuracy: 0.88232\n",
      "   y: eclining. She was aware herself, that, parting under any other | circumstances, they certainly sho\n",
      "  yp:  rianeng  She has | vnaye terself, shat, parding under any ather | circumstances, they certainly who\n",
      "Epoch: 360.95, iter: 175600, cross-entropy: 0.398, accuracy: 0.88037\n",
      "   y:  extinguished long ago: and those at | Wuthering Heights were never visible--still she asserted sh\n",
      "  yp: dtvpencuished iong ago: hnd those at Wuthering Heights we e never cisible -still she asserted sh\n",
      "Epoch: 361.37, iter: 175800, cross-entropy: 0.411, accuracy: 0.87451\n",
      "   y: ut | the day was that the luncheon was forgotten by all of them until it was | late in the afternoon\n",
      "  yp: nn ahe woy ais toet Fhe bincheon was forgotten.by all of them unail it was late in the epternoon\n",
      "Epoch: 361.78, iter: 176000, cross-entropy: 0.399, accuracy: 0.88363\n",
      "   y: given in the formation of every sentence. | The looking over his letter again, in replying to it, \n",
      "  yp: trve  tt the filmation of tnery sentence. | The looking over his hetter again, in replying to it, \n",
      "Epoch: 362.19, iter: 176200, cross-entropy: 0.404, accuracy: 0.88151\n",
      "   y: d. Nothing occurred between | them that could justify the hopes of his sister. On this point she w\n",
      "  yp: e   othing wfcupred between | them that could pustify the wopes of his sister. On this point she w\n",
      "Epoch: 362.60, iter: 176400, cross-entropy: 0.433, accuracy: 0.87012\n",
      "   y: s once a member of Parliament, and his wife's | the daughter of a peer, they can have what they li\n",
      "  yp: n tfle m gasber of terliament, and his sife's | the saughter of a peer, the  con dave what Ihey ni\n",
      "Epoch: 363.01, iter: 176600, cross-entropy: 0.407, accuracy: 0.87874\n",
      "   y:  the luxury unannoyed; and after sucking out | his last wreath, and heaving a profound sigh, he go\n",
      "  yp:  ahe wacury otancoyed; and after sucking out | his last wreath, and he ving a propound sigh, he ao\n",
      "Epoch: 363.42, iter: 176800, cross-entropy: 0.394, accuracy: 0.88721\n",
      "   y: !' |  | She placed one she had been perusing on his hand; he flung it off, and | muttered, if she did \n",
      "  yp:     | 'he pleced one sie had been prrusing on his kand; he hlung it off, and | tuttered, in she mid \n",
      "Epoch: 363.83, iter: 177000, cross-entropy: 0.391, accuracy: 0.88265\n",
      "   y:  the plea of | ill-health: she was dwindling and fading before our eyes.  But one day, | when she ha\n",
      "  yp:  the sraasof anl-health: she was dwindling and fuding before mur eyes.  Nut one day  | chen she ha\n",
      "Epoch: 364.24, iter: 177200, cross-entropy: 0.388, accuracy: 0.88737\n",
      "   y: hink.\" |  | \"I made you think! But why?\" |  | \"What solitary icebergs we are, Miss Vinrace! How little w\n",
      "  yp: henk   |  | \"Y aude you think! But why?\" |  | \"What solitary icebergs we are, Miss Vinrace, How wittle w\n",
      "Epoch: 364.65, iter: 177400, cross-entropy: 0.412, accuracy: 0.88151\n",
      "   y: Who would | have thought it! And is it really true? Oh! my sweetest Lizzy! how rich | and how great \n",
      "  yp: teo aauld have toought it!-And is it really thue? Oh! my sueetest Lizzy, dow rich | and how great \n",
      "Epoch: 365.07, iter: 177600, cross-entropy: 0.407, accuracy: 0.87956\n",
      "   y:  learned books.\" |  | Elderly banter would no longer check her. |  | \"You talk of unity,\" she said. \"You\n",
      "  yp:  titvnid baoks.  |  | Elderly banter would no longer check her, |  | \"Iou ualk of inioy,\" she said. \"You\n",
      "Epoch: 365.48, iter: 177800, cross-entropy: 0.390, accuracy: 0.88102\n",
      "   y: ime must come when you will | be paid for all this, when you will have little labour and great | enj\n",
      "  yp:  ne tast bome tien you will be peid,for all this, shen you will have little nabour and goeat | enj\n",
      "Epoch: 365.89, iter: 178000, cross-entropy: 0.392, accuracy: 0.88086\n",
      "   y: ere.\" Then shewing | her purchases: \"Look here, I have bought this bonnet. I do not think it | is ve\n",
      "  yp: e     | Hoen shewing her purchlses: \"Look here, I have bought this bonnet. I do not think it | is ve\n",
      "Epoch: 366.30, iter: 178200, cross-entropy: 0.391, accuracy: 0.88330\n",
      "   y: you told me on that head, confirmed an idea which I had | entertained before.--I do not mean to re\n",
      "  yp: tou mo d me | yn thet head, aontormed an idea which I had | entertained before.--I do not kean to se\n",
      "Epoch: 366.71, iter: 178400, cross-entropy: 0.397, accuracy: 0.88444\n",
      "   y: both must be hurt | by such impropriety of conduct, she felt depressed beyond any thing she | had ev\n",
      "  yp: teth oast be tort by such impropriety of comsuct, she felt depressed beyond any thing she | had ev\n",
      "Epoch: 367.12, iter: 178600, cross-entropy: 0.398, accuracy: 0.88411\n",
      "   y: long as he thinks so, it is so; but if he really loves | Jane Fairfax--” |  | “Nonsense! He does not c\n",
      "  yp: toog an se cainks so |  it is so  but if ie really loves | Eane Fairfax--” |  | “Wow,ense! He does not c\n",
      "Epoch: 367.53, iter: 178800, cross-entropy: 0.391, accuracy: 0.88704\n",
      "   y: ost bright and cheerful.  No, _almost_ nothing--_very much_ | excited, and wild, and glad!' she re\n",
      "  yp: ert teeght gnd loeerful   No, _almost_ nothing--_very much_ | excited, Ind wild, and glad!' she re\n",
      "Epoch: 367.94, iter: 179000, cross-entropy: 0.413, accuracy: 0.87907\n",
      "   y: Night Schools. |  | \"Lord, how gloomy it is!\" her husband groaned. \"Poor creatures!\" |  | What with the \n",
      "  yp: tocht,taoools  |  | \"Wood, how gloomy it is!\" he  husband groaned. \"Poor creatures!\" |  | Whet with the \n",
      "Epoch: 368.35, iter: 179200, cross-entropy: 0.393, accuracy: 0.88558\n",
      "   y:  as handsome as her brother?\" said Mr. Gardiner. |  | \"Oh! yes--the handsomest young lady that ever \n",
      "  yp:  an hendsome as per arother \" said Mr. Gardiner. |  | \"Oh! yes--the hondsomest young lady ihat hver \n",
      "Epoch: 368.77, iter: 179400, cross-entropy: 0.401, accuracy: 0.88070\n",
      "   y: ke himself a little helpless | and tiresome; but her pride is arrogance and insolence! And what | in\n",
      "  yp: ne him elf t sittle hiapless and tiresome; but her pride is arrogance and insolence! And what | in\n",
      "Epoch: 369.18, iter: 179600, cross-entropy: 0.412, accuracy: 0.87500\n",
      "   y: try. She believed every body spoke well of him. His mother and | sisters were very fond of him. Mr\n",
      "  yp:   a,  he wegieved ivery | body fuoke hell of him. His mother and sisters were mery fond of mim, Mr\n",
      "Epoch: 369.59, iter: 179800, cross-entropy: 0.398, accuracy: 0.88656\n",
      "   y: race_. The blood began to run in | her veins; she felt her eyes brighten. |  | \"We must go,\" she said,\n",
      "  yp: dire   Ihereeood be an to ren in her veins; the felt her eyes oroghten. |  | OWe must go,\" she said,\n",
      "----------------- temperature = 0.2 ----------------------\n"
     ]
    },
    {
     "data": {
      "text/html": [
       "<span style=\"background-color:#d8daef;\">                                                       </span><sup>[1]</sup><span style=\"background-color:#d8daef;\">                                                       </span><sup>[1]</sup><span style=\"background-color:#d8daef;\">                                                       </span><sup>[1]</sup><span style=\"background-color:#d8daef;\">                                                       </span><sup>[1]</sup><span style=\"background-color:#d8daef;\">                                                       </span><sup>[1]</sup><span style=\"background-color:#d8daef;\">                                                       </span><sup>[1]</sup><span style=\"background-color:#d8daef;\">                                                       </span><sup>[1]</sup><span style=\"background-color:#d8daef;\">                                                       </span><sup>[1]</sup><span style=\"background-color:#d8daef;\">                                                       </span><sup>[1]</sup><span style=\"background-color:#d8daef;\">                                                       </span><sup>[1]</sup><span style=\"background-color:#d8daef;\">                                                       </span><sup>[1]</sup><span style=\"background-color:#d8daef;\">                                                       </span><sup>[1]</sup><span style=\"background-color:#d8daef;\">                                                       </span><sup>[1]</sup><span style=\"background-color:#d8daef;\">                                                       </span><sup>[1]</sup><span style=\"background-color:#d8daef;\">                                                       </span><sup>[1]</sup><span style=\"background-color:#d8daef;\">                                                       </span><sup>[1]</sup><span style=\"background-color:#d8daef;\">                                                       </span><sup>[1]</sup><span style=\"background-color:#d8daef;\">                                                       </span><sup>[1]</sup>          "
      ],
      "text/plain": [
       "<IPython.core.display.HTML object>"
      ]
     },
     "metadata": {},
     "output_type": "display_data"
    },
    {
     "data": {
      "text/html": [
       "<small><p style=\"text-align:right;\">Sources: <span style=\"background-color:#d8daef;\">emma-jane-austen</span><sup>[1]</sup></p></small>"
      ],
      "text/plain": [
       "<IPython.core.display.HTML object>"
      ]
     },
     "metadata": {},
     "output_type": "display_data"
    },
    {
     "name": "stdout",
     "output_type": "stream",
     "text": [
      "----------------- temperature = 0.6 ----------------------\n"
     ]
    },
    {
     "data": {
      "text/html": [
       "<span style=\"background-color:#d8daef;\">       “A. W.”<br><br>                       </span><sup>[1]</sup><span style=\"background-color:#d8daef;\">                                                      W</span><sup>[1]</sup>orshy after<span style=\"background-color:#ebdef0;\"> the very first of which</span><sup>[2]</sup><span style=\"background-color:#eadbd8;\">, my dear Mr. Bennet</span><sup>[3]</sup> delicate--Mr. Weston is a very clever breath. Three minutes<br>where minutes I reached the old fortnight.\"<br><br>\"Undoubtedly, however,<span style=\"background-color:#d8daef;\"> it may be a very fo</span><sup>[1]</sup>olish man--he's<br>never saw. And as for suffrage as you are an object of candy air, and the great country<br>in Meryton, the wedvonse and the third they were all given<span style=\"background-color:#eadbd8;\"> a young woman without</span><sup>[3]</sup><br>family. The young man whom she had led<span style=\"background-color:#ebdef0;\"> to the state of the </span><sup>[2]</sup>evening, sir, and the assistance<br>from Longbourn, and his indignant descent in his favour<span style=\"background-color:#ebdef0;\">.<br><br>At about that hou</span><sup>[2]</sup>se, as the church seemed delighted to think about her, which, for<br>Emma, like the other ball is not a fine face. He has prevailed on one<br>of her last impressions. The more affliction of milk in the room,<br>and almost econony looked each or a corner of the ball<span style=\"background-color:#d8daef;\">, though it was the<br></span><sup>[1]</sup>living answered in horrick eyes, and led the village of<span style=\"background-color:#eadbd8;\"> the course of the e</span><sup>[3]</sup>"
      ],
      "text/plain": [
       "<IPython.core.display.HTML object>"
      ]
     },
     "metadata": {},
     "output_type": "display_data"
    },
    {
     "data": {
      "text/html": [
       "<small><p style=\"text-align:right;\">Sources: <span style=\"background-color:#d8daef;\">emma-jane-austen</span><sup>[1]</sup>, <span style=\"background-color:#ebdef0;\">voyage-out-virginia-woolf</span><sup>[2]</sup>, <span style=\"background-color:#eadbd8;\">pride-prejudice-jane-austen</span><sup>[3]</sup></p></small>"
      ],
      "text/plain": [
       "<IPython.core.display.HTML object>"
      ]
     },
     "metadata": {},
     "output_type": "display_data"
    },
    {
     "name": "stdout",
     "output_type": "stream",
     "text": [
      "----------------- temperature = 1.0 ----------------------\n"
     ]
    },
    {
     "data": {
      "text/html": [
       "Worshes,<span style=\"background-color:#eadbd8;\"> the observation of a young </span><sup>[3]</sup>lady, was oxherwise were taken<br>herrfportor of the day: the nearer women<br>stood boramed between them, she puncely added,<br>“when I think you ever heard, indeed. What is the use of things on' evil, northere; for, bewieng me this repetition of<br>the summer as I into to repeat.  Yet, Mrs. Dean?  I must go: the teacursa was neatly over the groans half your<br>friends would one cannot<span style=\"background-color:#d8daef;\"> come to Highbury instead of going with </span><sup>[1]</sup>a laugher with<br>one choigh.  She kissed me,<br>but <span style=\"background-color:#e2d7d5;\">I would not carry to m</span><sup>[4]</sup>e what I was too<span style=\"background-color:#eadbd8;\"> much distressed by th</span><sup>[3]</sup>at time she<br>possibly can--and he has not told Miss Bennet; and sometimes it<br>being last note; but I am not heart to expose it<span style=\"background-color:#d8daef;\">. Do not imagine me i</span><sup>[1]</sup>gnorant, you<br>have display you.  Then I've heard from home, and what you would let her<br>give me a pleasant intervent on that stock, impatient, and<span style=\"background-color:#ebdef0;\"> slightly depressed,</span><sup>[2]</sup><br>anxiously, to think the greatest reliance. She was more disappointe<span style=\"background-color:#eadbd8;\">d.<br><br>Mr. Denny and Mr. Wi</span><sup>[3]</sup>ndfall was soldmitic, especially towering u"
      ],
      "text/plain": [
       "<IPython.core.display.HTML object>"
      ]
     },
     "metadata": {},
     "output_type": "display_data"
    },
    {
     "data": {
      "text/html": [
       "<small><p style=\"text-align:right;\">Sources: <span style=\"background-color:#eadbd8;\">pride-prejudice-jane-austen</span><sup>[3]</sup>, <span style=\"background-color:#d8daef;\">emma-jane-austen</span><sup>[1]</sup>, <span style=\"background-color:#e2d7d5;\">wuthering-heights-emily-bronte</span><sup>[4]</sup>, <span style=\"background-color:#ebdef0;\">voyage-out-virginia-woolf</span><sup>[2]</sup></p></small>"
      ],
      "text/plain": [
       "<IPython.core.display.HTML object>"
      ]
     },
     "metadata": {},
     "output_type": "display_data"
    },
    {
     "name": "stdout",
     "output_type": "stream",
     "text": [
      "---------------------------------------\n",
      "Epoch: 370.00, iter: 180000, cross-entropy: 0.423, accuracy: 0.87565\n",
      "   y:  Rachel was perhaps too | still for a hostess, and that she might have done something with her | han\n",
      "  yp: htachel sas carhaps,too | stall for a hostess, and thet she might have done something with her | han\n",
      "Epoch: 370.41, iter: 180200, cross-entropy: 0.403, accuracy: 0.87777\n",
      "   y: e ground; and then | seated myself at the stairs'-head, hid my face in my hands, and cried. |  | 'Ech!\n",
      "  yp: e wreupd  and then pheted maself at the stairs'-head, hid my face in my hands, and lried  |  | 'Alh!\n",
      "Epoch: 370.82, iter: 180400, cross-entropy: 0.392, accuracy: 0.88460\n",
      "   y: home more | than half out of my senses. |  | 'I didn't bid you good-night that evening, and I didn't g\n",
      "  yp: teue,tyre iaan talf aft of my senses, |  | 'A didn't tid you good-night that evening, and y didn't g\n",
      "Epoch: 371.23, iter: 180600, cross-entropy: 0.412, accuracy: 0.88070\n",
      "   y: . |  | \"Your head aches?\" he repeated. |  | For a few moments they sat looking at one another in silence\n",
      "  yp:    | \"Ieu  head aches?\" he repeated. |  | For a few moments they sat looking at one another in silence\n",
      "Epoch: 371.64, iter: 180800, cross-entropy: 0.417, accuracy: 0.87695\n",
      "   y: , or the spiral towers made by the burrowings of great | eels, or the smooth green-sided monsters \n",
      "  yp:   ar she soiril oowers | mare by the aubrowings of great | eels, or the sieoth graen-hided monsters \n",
      "Epoch: 372.05, iter: 181000, cross-entropy: 0.392, accuracy: 0.88786\n",
      "   y: ressible obligation!--The very | recollection of it, and all that I felt at the time--when I saw h\n",
      "  yp: eossiole tnjigation!--The very | regollection of it, and all that I seet at the pime--when h saw h\n",
      "Epoch: 372.47, iter: 181200, cross-entropy: 0.398, accuracy: 0.88770\n",
      "   y:  that he should look at her because | he disliked her, was still more strange. She could only imag\n",
      "  yp: hthet he hhould biok at her because | he disliked her, was still more strange. She lould only imag\n",
      "Epoch: 372.88, iter: 181400, cross-entropy: 0.375, accuracy: 0.88607\n",
      "   y:  ill-tempered they might be, that the universal scowl | they wore was their every-day countenance.\n",
      "  yp: etnlnnempered hher mught he, that hhe mniversal scowl | chey wore was their eveny-dry sountenance.\n",
      "Epoch: 373.29, iter: 181600, cross-entropy: 0.394, accuracy: 0.88428\n",
      "   y: ing to smile, began-- |  | “You have some news to hear, now you are come back, that will rather | surp\n",
      "  yp:  ng th seale, aucan-- |  | “You have some news to hoar, now you are come back  that mill raiher | surp\n",
      "Epoch: 373.70, iter: 181800, cross-entropy: 0.413, accuracy: 0.87484\n",
      "   y: ts | of the south, whose fleshy leaves seemed to be grown upon spines, still | remained standing upr\n",
      "  yp:    af the south, whose fleshy leaves seemed to be grown upon spines, still |  emained standing upr\n",
      "Epoch: 374.11, iter: 182000, cross-entropy: 0.398, accuracy: 0.88623\n",
      "   y: hat they were all taking it much too seriously. He seemed | curiously unwilling to sit down. |  | \"A h\n",
      "  yp:  et hhe  were tll saking pt much too seriously. He seemed | curiously unwilling to sit down. |  | \"A h\n",
      "Epoch: 374.52, iter: 182200, cross-entropy: 0.400, accuracy: 0.88314\n",
      "   y: at a savage feeling I have to anything that | seems afraid of me!  Had I been born where laws are \n",
      "  yp: et t ptdage beeling I have to anything thet | peems afraid of me!  Aad I been born where laws are \n",
      "Epoch: 374.93, iter: 182400, cross-entropy: 0.403, accuracy: 0.88070\n",
      "   y: no true peace for herself. |  |  |  | CHAPTER XVIII |  |  | Mr. Frank Churchill did not come. When the time pr\n",
      "  yp: totehae cence for aer elf. |  |  |  | CHAPTER XVII |  |  |  | Tr. Frank Churchill did not come. When the time pr\n",
      "Epoch: 375.34, iter: 182600, cross-entropy: 0.412, accuracy: 0.87907\n",
      "   y: he felt certain: nob'dy could mistake him, | besides--put a sovereign in her father's hand for pay\n",
      "  yp:  e welt hortain  nob'dy comld mistake him, | besides--Iurta sovereign in her father's fand for pey\n",
      "Epoch: 375.75, iter: 182800, cross-entropy: 0.386, accuracy: 0.88574\n",
      "   y: t, and you | cannot deprive me of those!' |  | Earnshaw blushed crimson when his cousin made this reve\n",
      "  yp: ea and teu wannot deprove me of those!' |  | Earnshaw blushed crimson when hes cousin made this reve\n",
      "Epoch: 376.17, iter: 183000, cross-entropy: 0.398, accuracy: 0.88379\n",
      "   y: d to say in return; but then, you would have no habits of early | obedience and long observance to\n",
      "  yp: e th tay tn repurn, | but shin, you would have no hopits of early | obtdience and long observance to\n",
      "Epoch: 376.58, iter: 183200, cross-entropy: 0.406, accuracy: 0.87777\n",
      "   y: said quietly: |  | \"Did you meet Mr. Flushing? He has gone to find you. He thought you must | be lost,\n",
      "  yp:  | htd huittly; |  | \"Aid you meet Mr. Flushing? He has gote to find you. Ye thought you must | be lost,\n",
      "Epoch: 376.99, iter: 183400, cross-entropy: 0.415, accuracy: 0.87826\n",
      "   y: soon as all had ate, and the elder ones paid, the carriage was | ordered; and after some contrivan\n",
      "  yp: th n af snl ued bl  |  afd | whenfnder snes paid |  the | casriage was | or ered; and after some contravan\n",
      "Epoch: 377.40, iter: 183600, cross-entropy: 0.409, accuracy: 0.87695\n",
      "   y: et may not consider every body tiresome that you would.” |  | Emma knew this was too true for contra\n",
      "  yp: nd oed bot bancider tvery cody timesome that you wiuld ” |  | Emma knew this was too grue for contra\n",
      "Epoch: 377.81, iter: 183800, cross-entropy: 0.413, accuracy: 0.87826\n",
      "   y:  never blessed | her before. How improperly had she been acting by Harriet! How | inconsiderate, how\n",
      "  yp:  tover meassed | her mefore. Saw vmproperly had see been ucting by harriet! How | inconsiderate, how\n",
      "Epoch: 378.22, iter: 184000, cross-entropy: 0.393, accuracy: 0.88428\n",
      "   y: a; and then | a terrible thing happened; the music, which had been sounding regularly | with five-mi\n",
      "  yp: en and ther s lrrrible ohing happened; the music, which had been wounding regularly | with fove-mi\n",
      "Epoch: 378.63, iter: 184200, cross-entropy: 0.389, accuracy: 0.88363\n",
      "   y: stions, all answered with patient | politeness. Mrs. Elton then said, “Nobody can think less of dr\n",
      "  yp:    on   tnl hnswered tith patient | politeness. Mrs. Elton then said, “Nobody can teink less of de\n",
      "Epoch: 379.04, iter: 184400, cross-entropy: 0.391, accuracy: 0.88460\n",
      "   y: ain and again into his room, to be sure that all is right.” |  The clock struck twelve as she pass\n",
      "  yp:  in tnd dgoin,anqo tis foom. ao te sure toat hll is right ” |  | The clock struck twelve as hhe sass\n",
      "Epoch: 379.45, iter: 184600, cross-entropy: 0.407, accuracy: 0.88281\n",
      "   y: ttention. After waiting at home every morning | for a fortnight, and inventing every evening a fre\n",
      "  yp: n ention  Htter waiting at home every morning | tor a fertnight, and inventing every evening a fre\n",
      "Epoch: 379.87, iter: 184800, cross-entropy: 0.406, accuracy: 0.87923\n",
      "   y: , to | inquire if he were come--and she was a little uneasy.--She had some | fears of his horse. |  | Se\n",
      "  yp: a ah ansuire,in he tere comi--and she was awlittle sneasy.--She had spme | fears af his worse. |  | \"e\n",
      "----------------- temperature = 0.2 ----------------------\n"
     ]
    },
    {
     "data": {
      "text/html": [
       "<span style=\"background-color:#d8daef;\">                                                       </span><sup>[1]</sup><span style=\"background-color:#d8daef;\">                                                       </span><sup>[1]</sup><span style=\"background-color:#d8daef;\">                                                       </span><sup>[1]</sup><span style=\"background-color:#d8daef;\">                                                       </span><sup>[1]</sup><span style=\"background-color:#d8daef;\">                                                       </span><sup>[1]</sup><span style=\"background-color:#d8daef;\">                                                       </span><sup>[1]</sup><span style=\"background-color:#d8daef;\">                                                       </span><sup>[1]</sup><span style=\"background-color:#d8daef;\">                                                       </span><sup>[1]</sup><span style=\"background-color:#d8daef;\">                                                       </span><sup>[1]</sup><span style=\"background-color:#d8daef;\">                                                       </span><sup>[1]</sup><span style=\"background-color:#d8daef;\">                                                       </span><sup>[1]</sup><span style=\"background-color:#d8daef;\">                                                       </span><sup>[1]</sup><span style=\"background-color:#d8daef;\">                                                       </span><sup>[1]</sup><span style=\"background-color:#d8daef;\">                                                       </span><sup>[1]</sup><span style=\"background-color:#d8daef;\">                                                       </span><sup>[1]</sup><span style=\"background-color:#d8daef;\">                                                       </span><sup>[1]</sup><span style=\"background-color:#d8daef;\">                                                       </span><sup>[1]</sup><span style=\"background-color:#d8daef;\">                                                       </span><sup>[1]</sup>          "
      ],
      "text/plain": [
       "<IPython.core.display.HTML object>"
      ]
     },
     "metadata": {},
     "output_type": "display_data"
    },
    {
     "data": {
      "text/html": [
       "<small><p style=\"text-align:right;\">Sources: <span style=\"background-color:#d8daef;\">emma-jane-austen</span><sup>[1]</sup></p></small>"
      ],
      "text/plain": [
       "<IPython.core.display.HTML object>"
      ]
     },
     "metadata": {},
     "output_type": "display_data"
    },
    {
     "name": "stdout",
     "output_type": "stream",
     "text": [
      "----------------- temperature = 0.6 ----------------------\n"
     ]
    },
    {
     "data": {
      "text/html": [
       "         [ YourseXM VE<span style=\"background-color:#eadbd8;\">. I.<br><br><br><br><br>[Illustration: </span><sup>[3]</sup>Miss Allan learies cut into intercourse of feature; and,<br>though Elizabeth was thoughtful at last, by Jine, who was no<span style=\"background-color:#d8daef;\"> more than being tacit</span><sup>[1]</sup>ure, and always<br>moved, Mr. Weston is poor; and there I read it only as it should<br>promise on preserve one.<span style=\"background-color:#eadbd8;\"> Mr. Darcy could not have</span><sup>[3]</sup><span style=\"background-color:#eadbd8;\"> supposed it<br>possible that when called into a</span><sup>[3]</sup> dozen on the stairs beneath the vast<br>circumstances whose continual, and when the balls were first in love, and<br>with it self-denial pige.  His usual brings, and the invreartary resideness<br>and all her vain, exclaiming<span style=\"background-color:#ebdef0;\">, \"This is happiness,\" </span><sup>[2]</sup>Hewet replied. \"I<br>feel as if I write to explain things, <span style=\"background-color:#eadbd8;\">but I cannot imagine that he</span><sup>[3]</sup><br>felt any respect for her, to insult him her appearance, like the<br>facts of<span style=\"background-color:#e2d7d5;\"> the great room with </span><sup>[4]</sup>a progress of Hartfield and night, and hear him ten men. In no obscurite wish of<br>my letters frequently included her father,<span style=\"background-color:#ebdef0;\"> was absorbed in her </span><sup>[2]</sup>own tasqcal: when he came, and<br>seasod to great never a prior of spirits, and t"
      ],
      "text/plain": [
       "<IPython.core.display.HTML object>"
      ]
     },
     "metadata": {},
     "output_type": "display_data"
    },
    {
     "data": {
      "text/html": [
       "<small><p style=\"text-align:right;\">Sources: <span style=\"background-color:#eadbd8;\">pride-prejudice-jane-austen</span><sup>[3]</sup>, <span style=\"background-color:#d8daef;\">emma-jane-austen</span><sup>[1]</sup>, <span style=\"background-color:#ebdef0;\">voyage-out-virginia-woolf</span><sup>[2]</sup>, <span style=\"background-color:#e2d7d5;\">wuthering-heights-emily-bronte</span><sup>[4]</sup></p></small>"
      ],
      "text/plain": [
       "<IPython.core.display.HTML object>"
      ]
     },
     "metadata": {},
     "output_type": "display_data"
    },
    {
     "name": "stdout",
     "output_type": "stream",
     "text": [
      "----------------- temperature = 1.0 ----------------------\n"
     ]
    },
    {
     "data": {
      "text/html": [
       "     F. C.\"-Eugh. Bonnats one suspicion,<br>of book, might look over banks in some matter.<br>But yet he had lost noisars highly extravagane explanation; and<br>her visitors of his wish of<span style=\"background-color:#d8daef;\"> satisfaction, than </span><sup>[1]</sup>she appeared delighted to<br>regard anoshes, there be secure of his creature, and if <span style=\"background-color:#eadbd8;\">he wished to see<br>whether </span><sup>[3]</sup>you would be quite a sunly concern to meet herself. If you had mention<br>her going to church in the dusk from the walls on this head. \"Oh! Mr. Collins,<br>let do leave early to-day; and he then obert, where<br>they were politely scruting a litted to carry it!<br><br>“Mordly, shall consolt me of me--entire and more, for which he was not<br>likely, “but they never groaned. I ask here of<span style=\"background-color:#eadbd8;\"> the sentiments which </span><sup>[3]</sup>must<br>be done, one congroes and dining-room<span style=\"background-color:#e2d7d5;\"> at Wuthering Heights; for </span><sup>[4]</sup>there is a note<br>for what sympettations made<span style=\"background-color:#ebdef0;\"> of her appearance,<br></span><sup>[2]</sup>and for<span style=\"background-color:#d8daef;\"> all the rest of my </span><sup>[1]</sup>beauty. I thought you were the<br>entail to my acquaintance, will not do every other woman of the things<br>them was infinitely grave. She could not "
      ],
      "text/plain": [
       "<IPython.core.display.HTML object>"
      ]
     },
     "metadata": {},
     "output_type": "display_data"
    },
    {
     "data": {
      "text/html": [
       "<small><p style=\"text-align:right;\">Sources: <span style=\"background-color:#d8daef;\">emma-jane-austen</span><sup>[1]</sup>, <span style=\"background-color:#eadbd8;\">pride-prejudice-jane-austen</span><sup>[3]</sup>, <span style=\"background-color:#e2d7d5;\">wuthering-heights-emily-bronte</span><sup>[4]</sup>, <span style=\"background-color:#ebdef0;\">voyage-out-virginia-woolf</span><sup>[2]</sup></p></small>"
      ],
      "text/plain": [
       "<IPython.core.display.HTML object>"
      ]
     },
     "metadata": {},
     "output_type": "display_data"
    },
    {
     "name": "stdout",
     "output_type": "stream",
     "text": [
      "---------------------------------------\n",
      "Epoch: 380.28, iter: 185000, cross-entropy: 0.393, accuracy: 0.88102\n",
      "   y: e asked, pointing at a case in front | of them, where highly polished crosses, jewels, and bits of\n",
      "  yp: e wdsed  wounting tt t cale bn front of them, where highly prlished crosses, jewels, and bets of\n",
      "Epoch: 380.69, iter: 185200, cross-entropy: 0.384, accuracy: 0.88818\n",
      "   y: lars of Lydia's note to his | wife?\" |  | \"He brought it with him for us to see.\" |  | Jane then took it f\n",
      "  yp: rdrl of todia's bate to his | wife,\" |  | \"Ha brought it with him for us to spe.  |  | Jane the  took it f\n",
      "Epoch: 381.10, iter: 185400, cross-entropy: 0.391, accuracy: 0.88737\n",
      "   y: r | address her without feeling that all the comfort of intimacy was over, | and, though determined \n",
      "  yp:   tnvresseae  mish ut seeling that all the commort of intimacy was lver, | and, though determined \n",
      "Epoch: 381.51, iter: 185600, cross-entropy: 0.412, accuracy: 0.87891\n",
      "   y:  at her, half supplicating, half ashamed; but | his cousin's patience was not sufficient to endure\n",
      "  yp:  t  tir  aadf kupplicating, half ashamed; but | his cousin's patience was not iurficient to endure\n",
      "Epoch: 381.92, iter: 185800, cross-entropy: 0.403, accuracy: 0.88493\n",
      "   y: imated very differently | by others as well as myself; Mr. Martin may be the richest of the two, | b\n",
      "  yp: hoete  tiry pifferent y;ty tthers as well as myself; Mr. Martin may be the richest of the two, | b\n",
      "Epoch: 382.33, iter: 186000, cross-entropy: 0.406, accuracy: 0.88005\n",
      "   y: ng to see the place, they were admitted into the | hall; and Elizabeth, as they waited for the hou\n",
      "  yp: ng to tee the slace  ahey were almitted into the | hall, and Elizabeth, as they waited tor the tou\n",
      "Epoch: 382.74, iter: 186200, cross-entropy: 0.387, accuracy: 0.88591\n",
      "   y: s--and | oh, I've been tormented!  I've been haunted, Nelly!  But I begin to fancy | you don't like \n",
      "  yp:   -and tf, I me aeen tormented!  I'de been haunted, Nelly!  But I'begin to fancy | you don't cike \n",
      "Epoch: 383.15, iter: 186400, cross-entropy: 0.381, accuracy: 0.88916\n",
      "   y:  weather appearing | exactly right. |  | Under a bright mid-day sun, at almost Midsummer, Mr. Woodhous\n",
      "  yp:  tarther wnpeareng ixamtly right. |  | Under t mright mid-day sun, at almost Midsummer, Mr. Woodhous\n",
      "Epoch: 383.57, iter: 186600, cross-entropy: 0.399, accuracy: 0.88021\n",
      "   y: nsole herself with such | kind of moral extractions from the evil before them. |  | In the afternoon, \n",
      "  yp:    nentoa elf tath auch find ef moral extractions from the ivil before them. |  | In the afternoon, \n",
      "Epoch: 383.98, iter: 186800, cross-entropy: 0.391, accuracy: 0.88428\n",
      "   y: , for time spent in interminable walks round | sheltered gardens, and the household gossip of her \n",
      "  yp:   arr hhle thent in Ltterminable walks aound | sheltered gardens, and the gousehold hossip of her \n",
      "Epoch: 384.39, iter: 187000, cross-entropy: 0.395, accuracy: 0.88151\n",
      "   y:  | subject. |  | 'No, she's a sly one,' he remarked, shaking his head.  'She keeps her own | counsel!  B\n",
      "  yp:  shbject   | INow she's ansly one,' he remarked, shaking his head.  'She keeps her own | counsel!  B\n",
      "Epoch: 384.80, iter: 187200, cross-entropy: 0.426, accuracy: 0.87419\n",
      "   y: n, such an inclination--such a passion for dining | out--a dinner engagement is so high in the cla\n",
      "  yp:  t ahch an inslination -such a passion,for wining | out--a dinner engagement is so high in the hla\n",
      "Epoch: 385.21, iter: 187400, cross-entropy: 0.394, accuracy: 0.88314\n",
      "   y: , and she did not think too much had | been said in his praise; he was a _very_ good looking young\n",
      "  yp: e and tae wid not seink too much had | been said in his paeise; he was alvvery_ good looking young\n",
      "Epoch: 385.62, iter: 187600, cross-entropy: 0.372, accuracy: 0.88965\n",
      "   y: does chuse me, it will not be any thing so | very wonderful.” |  | The bitter feelings occasioned by t\n",
      "  yp: ti s nhase me. tt will not be any thing so | very wonderful.” |  | The bitter feelings occasioned by t\n",
      "Epoch: 386.03, iter: 187800, cross-entropy: 0.399, accuracy: 0.88574\n",
      "   y:  in the Irish car party, not at all like her.--Well, I | declare--” |  | They walked off, followed in \n",
      "  yp:  tn the wrish cor party, not at all like her.--Well, I | declare--” |  | They walked off, followed in \n",
      "Epoch: 386.44, iter: 188000, cross-entropy: 0.396, accuracy: 0.88151\n",
      "   y: le | concerts together. I think, Miss Woodhouse, you and I must establish a | musical club, and have\n",
      "  yp: he sauceins oo ether, | I think, Miss Woodhouse, you and I must rvcablish a | masical club, and hare\n",
      "Epoch: 386.85, iter: 188200, cross-entropy: 0.387, accuracy: 0.88477\n",
      "   y: le to very bad sore-throats, and had often | alarmed her with them.” Mr. Elton looked all alarm on\n",
      "  yp: ee to hiry iod do e-throats, and | had sften | alarmed her with them.” Mr. Elton looked all alarm or\n",
      "Epoch: 387.27, iter: 188400, cross-entropy: 0.408, accuracy: 0.87923\n",
      "   y:  to me--(do | you think he was, Miss Woodhouse?)--for presently she came forward--came | quite up to\n",
      "  yp: eth ha.-hto nou chink he was, Miss Woodhouse?)--for presently she dame forward--came | nuite up to\n",
      "Epoch: 387.68, iter: 188600, cross-entropy: 0.402, accuracy: 0.88232\n",
      "   y: est shipping businesses in Hull. He made a very able reply, | you remember, to Mr. Asquith at the \n",
      "  yp:     tuepseng aysiness s in aull. He made a very able reply, | you remember, to Mr. Asquith at the \n",
      "Epoch: 388.09, iter: 188800, cross-entropy: 0.395, accuracy: 0.88411\n",
      "   y: flow in! I appeal to Mr. Darcy:--but let me not interrupt you, | Sir.--You will not thank me for d\n",
      "  yp: toowean \"I hspeal to Mr. Darcy --but let me not | interrupt you, | Iir.--You will not thank me for t\n",
      "Epoch: 388.50, iter: 189000, cross-entropy: 0.387, accuracy: 0.88460\n",
      "   y: engaged at the | persuasion of the young man, who, on meeting him accidentally in town, | had there \n",
      "  yp: tntaged it the peosuasion of the young man, who  on meeting him accidentally in town, | had there \n",
      "Epoch: 388.91, iter: 189200, cross-entropy: 0.389, accuracy: 0.88672\n",
      "   y: ow is Miss Fairfax?--I hope she caught no cold | last night. How is she to-day? Tell me how Miss F\n",
      "  yp: eweis hrss Fairfax  -I hope she caught no cold | last night. How is she to-day? Tell me how Miss F\n",
      "Epoch: 389.32, iter: 189400, cross-entropy: 0.386, accuracy: 0.88346\n",
      "   y: no consideration with regard to | this young man will influence her. We live in so different a par\n",
      "  yp: totdhnctderation nith hegard to  his young man will influence her. Se live in so defferent a par\n",
      "Epoch: 389.73, iter: 189600, cross-entropy: 0.385, accuracy: 0.88200\n",
      "   y: hink a man of the world. | That's where my point comes in. We politicians doubtless seem to you\" | (\n",
      "  yp: heng tnmon wf ahe world. | Ihat s where my point comes in. We politicians doubtless seem to you  | (\n",
      "Epoch: 390.14, iter: 189800, cross-entropy: 0.405, accuracy: 0.88151\n",
      "   y: rrington and Miss | Allan and Mrs. Elliot and the rest squatting on the stones and quacking, | 'How \n",
      "  yp: ntieg hr and trss Vllan,and Mrs. Elliot and the rist shuatting on the stones and quacking. | AWow \n",
      "----------------- temperature = 0.2 ----------------------\n"
     ]
    },
    {
     "data": {
      "text/html": [
       "<span style=\"background-color:#d8daef;\">                                                       </span><sup>[1]</sup><span style=\"background-color:#d8daef;\">                                                       </span><sup>[1]</sup><span style=\"background-color:#d8daef;\">                                                       </span><sup>[1]</sup><span style=\"background-color:#d8daef;\">                                                       </span><sup>[1]</sup><span style=\"background-color:#d8daef;\">                                                       </span><sup>[1]</sup><span style=\"background-color:#d8daef;\">                                                       </span><sup>[1]</sup><span style=\"background-color:#d8daef;\">                                                       </span><sup>[1]</sup><span style=\"background-color:#d8daef;\">                                                       </span><sup>[1]</sup><span style=\"background-color:#d8daef;\">                                                       </span><sup>[1]</sup><span style=\"background-color:#d8daef;\">                                                       </span><sup>[1]</sup><span style=\"background-color:#d8daef;\">                                                       </span><sup>[1]</sup><span style=\"background-color:#d8daef;\">                                                       </span><sup>[1]</sup><span style=\"background-color:#d8daef;\">                                                       </span><sup>[1]</sup><span style=\"background-color:#d8daef;\">                                                       </span><sup>[1]</sup><span style=\"background-color:#d8daef;\">                                                       </span><sup>[1]</sup><span style=\"background-color:#d8daef;\">                                                       </span><sup>[1]</sup><span style=\"background-color:#d8daef;\">                                                       </span><sup>[1]</sup><span style=\"background-color:#d8daef;\">                                                       </span><sup>[1]</sup>          "
      ],
      "text/plain": [
       "<IPython.core.display.HTML object>"
      ]
     },
     "metadata": {},
     "output_type": "display_data"
    },
    {
     "data": {
      "text/html": [
       "<small><p style=\"text-align:right;\">Sources: <span style=\"background-color:#d8daef;\">emma-jane-austen</span><sup>[1]</sup></p></small>"
      ],
      "text/plain": [
       "<IPython.core.display.HTML object>"
      ]
     },
     "metadata": {},
     "output_type": "display_data"
    },
    {
     "name": "stdout",
     "output_type": "stream",
     "text": [
      "----------------- temperature = 0.6 ----------------------\n"
     ]
    },
    {
     "data": {
      "text/html": [
       "<span style=\"background-color:#d8daef;\">                                                       </span><sup>[1]</sup><span style=\"background-color:#d8daef;\">                       WIND</span><sup>[1]</sup>LERUA IEA.<br><br><br>The longer they could break them <span style=\"background-color:#e2d7d5;\">all at Wuthering Heights</span><sup>[4]</sup>: I heard him stared<span style=\"background-color:#ebdef0;\"> up at<br>the skylight, </span><sup>[2]</sup>hurried green upo<span style=\"background-color:#ebdef0;\">n an hour or two late</span><sup>[2]</sup>ly. She was a marcne which<br>had been so fond of their passing on those capfbicies for which she<br>may be given<span style=\"background-color:#eadbd8;\">.<br><br>     \"Your's sincerely, &c</span><sup>[3]</sup>stenes, and it's a deep art-chair, if I could by<br>him till<span style=\"background-color:#d8daef;\"> matrimony at present.”<br><br></span><sup>[1]</sup>“True, thank you. We will stay an animating, spending your letters of<br>surprise. Any sorrow remains it <span style=\"background-color:#d8daef;\">should be dull likewise</span><sup>[1]</sup><span style=\"background-color:#d8daef;\"> in the middle of the room,</span><sup>[1]</sup><br>an<span style=\"background-color:#ebdef0;\">d the shadow of our </span><sup>[2]</sup>little baskets.  A pillow's room in half-cand pards, and force his sakery with a large<br>return, elast, when he kissed<span style=\"background-color:#d8daef;\"> his little effusion </span><sup>[1]</sup>by depressing his<br>others; and I shall onc<span style=\"background-color:#eadbd8;\">e more than I could </span><sup>[3]</sup>ever have it.  And you see,<br>Nelly, you consely dinner there, as you chuse!'<br><br>'I head knock it 'Staphing,' I replied.  'Here are two carriages then knows<br>himself, unsatisfy days, "
      ],
      "text/plain": [
       "<IPython.core.display.HTML object>"
      ]
     },
     "metadata": {},
     "output_type": "display_data"
    },
    {
     "data": {
      "text/html": [
       "<small><p style=\"text-align:right;\">Sources: <span style=\"background-color:#d8daef;\">emma-jane-austen</span><sup>[1]</sup>, <span style=\"background-color:#e2d7d5;\">wuthering-heights-emily-bronte</span><sup>[4]</sup>, <span style=\"background-color:#ebdef0;\">voyage-out-virginia-woolf</span><sup>[2]</sup>, <span style=\"background-color:#eadbd8;\">pride-prejudice-jane-austen</span><sup>[3]</sup></p></small>"
      ],
      "text/plain": [
       "<IPython.core.display.HTML object>"
      ]
     },
     "metadata": {},
     "output_type": "display_data"
    },
    {
     "name": "stdout",
     "output_type": "stream",
     "text": [
      "----------------- temperature = 1.0 ----------------------\n"
     ]
    },
    {
     "data": {
      "text/html": [
       "“‘FAymer,<br>Venninne, the Grange before.”<br><br>“Mrs. Gilbery came down he disliked Epbobin?  Mrs.<br>Linton and I bid me to wand more than might stop for a special look, _I_<br>make himself deserved it, instead of which, if I were seen in the first moment<span style=\"background-color:#eadbd8;\"><br>of Mr. Collins, and th</span><sup>[3]</sup>ought by such success in his sister's false!<br>I shall be sure to let me only talk.'<br><br>'Oh! dear, you won't learn to be sick of that?'<br><br>'If your motive a-is! _is_ they?  Will you go and see.<br>However, I do assure you of the great reprobate for any one. A great<br>     Satur were to get so far that speech, in wondering home. Are you to-night<span style=\"background-color:#ebdef0;\">?\"<br><br>Now they were out o</span><sup>[2]</sup>f a second meeting<span style=\"background-color:#ebdef0;\"> at the age of twenty-</span><sup>[2]</sup>nine distance, where<br>she made no repusif or compliming the subject in<br>the situation with which partly low guessed on Miss Bingley<span style=\"background-color:#ebdef0;\">,<br>and she had never been </span><sup>[2]</sup>able to get the subject he looked us? What do you talk, I<br>shall speak, at all manners!\"<br><br>\"Did Mr. Damn the eldest performer!--I am very sorry, I deplires! I have<br>an aunt and disappro"
      ],
      "text/plain": [
       "<IPython.core.display.HTML object>"
      ]
     },
     "metadata": {},
     "output_type": "display_data"
    },
    {
     "data": {
      "text/html": [
       "<small><p style=\"text-align:right;\">Sources: <span style=\"background-color:#eadbd8;\">pride-prejudice-jane-austen</span><sup>[3]</sup>, <span style=\"background-color:#ebdef0;\">voyage-out-virginia-woolf</span><sup>[2]</sup></p></small>"
      ],
      "text/plain": [
       "<IPython.core.display.HTML object>"
      ]
     },
     "metadata": {},
     "output_type": "display_data"
    },
    {
     "name": "stdout",
     "output_type": "stream",
     "text": [
      "---------------------------------------\n",
      "Epoch: 390.55, iter: 190000, cross-entropy: 0.404, accuracy: 0.87809\n",
      "   y: h her, with admiration and pleasure always--but with no | thought beyond.” |  | “Well, Mrs. Weston,” s\n",
      "  yp: heter  aith a miration and pleasure always--but with no | thaught beyond.” |  | “Well, Mrs. Weston,” s\n",
      "Epoch: 390.97, iter: 190200, cross-entropy: 0.373, accuracy: 0.88916\n",
      "   y: found him looking at Jane, as at herself, and frequently on no | object but the ground. More thoug\n",
      "  yp: tornd tim cookeng at hane; as at herself, and froquently on no | object but the ground. More thoug\n",
      "Epoch: 391.38, iter: 190400, cross-entropy: 0.394, accuracy: 0.88786\n",
      "   y: ed and so | formal; he blamed Hewet and Rachel. Why didn't they talk? He looked at | them sitting si\n",
      "  yp:  l ttd th ourmal; he blamed Hewet and Rachel. Why didn't they talk? Ha looked at | them sitting oi\n",
      "Epoch: 391.79, iter: 190600, cross-entropy: 0.400, accuracy: 0.88411\n",
      "   y: but such of us as | wished to learn, never wanted the means. We were always encouraged to | read, an\n",
      "  yp: tet thrh af ts,as | withed to searn  never wanted the means  Wh were always encouraged to | read, an\n",
      "Epoch: 392.20, iter: 190800, cross-entropy: 0.409, accuracy: 0.88330\n",
      "   y: here they are at Richmond at this | very moment building things up. They're all wrong, perhaps, bu\n",
      "  yp: he   whe  ale nl tachmond at this | very mement building things up. They're all crong, Ierhaps, bu\n",
      "Epoch: 392.61, iter: 191000, cross-entropy: 0.398, accuracy: 0.88379\n",
      "   y: y by lamp-light, which the warmth of the nights and the | scents culled from flowers made pleasant\n",
      "  yp: e ae tenpslight, which the warmth of the sight  and the | seents,culled from flowers mode pleasant\n",
      "Epoch: 393.02, iter: 191200, cross-entropy: 0.395, accuracy: 0.88688\n",
      "   y: hem to the unhappy law of nature which decreed | that there was only one Arthur Venning, and only \n",
      "  yp: he  th bhe ltdappi sew of nature whech sicleed | that there was only one Arthur Venning, and only \n",
      "Epoch: 393.43, iter: 191400, cross-entropy: 0.405, accuracy: 0.88135\n",
      "   y: ended to ask. I now give it to _you_, if you are resolved on | having him. But let me advise you t\n",
      "  yp: e t d th bnk  I web live it to _you_, if you are resolved | on | having him. But let me advise you t\n",
      "Epoch: 393.84, iter: 191600, cross-entropy: 0.378, accuracy: 0.88883\n",
      "   y: therefore who could be pointed out, | as likely to give any news of him. And in the wretched state\n",
      "  yp: the e ore tao could be suinted out, | an wikely to give any news of him. Bnd in the wretched state\n",
      "Epoch: 394.25, iter: 191800, cross-entropy: 0.375, accuracy: 0.88688\n",
      "   y: s Heathcliff?' she said, interrupting me. |  | 'About his work in the stable,' was my answer. |  | He di\n",
      "  yp: s telthcliff.' hhe daid, wnterrupting | me. |  | '\"bout his work in the stable,' was my answer. |  | He di\n",
      "Epoch: 394.67, iter: 192000, cross-entropy: 0.368, accuracy: 0.88916\n",
      "   y:  and let me take your hat, and I'll | tell you all about it.  Stop, you have had nothing to eat, h\n",
      "  yp:  and tef he toke cour hat, and I'll | tell you all about it.  Stop, you have had nothing to eat, h\n",
      "Epoch: 395.08, iter: 192200, cross-entropy: 0.389, accuracy: 0.88525\n",
      "   y: id not regret it. |  | Having arranged all these matters, looked them through, and put them all | to r\n",
      "  yp:  s not becret in,  | Laving srranged all these matters, wonked them through, and aet them all | to s\n",
      "Epoch: 395.49, iter: 192400, cross-entropy: 0.401, accuracy: 0.88151\n",
      "   y: d to a | childlike state of interest and pleasure, lost her freedom and became | self-conscious. She\n",
      "  yp:   th h soaldlike siate of interest and aleasure, aoot her faeedom and deaame | solf-conscious. She\n",
      "Epoch: 395.90, iter: 192600, cross-entropy: 0.384, accuracy: 0.88688\n",
      "   y: mmon she had received.  Doubtless Catherine marked the | difference between her friends, as one ca\n",
      "  yp: sbondhhe had received   Soubtless Catherine marked the | disference between her friends, an one ca\n",
      "Epoch: 396.31, iter: 192800, cross-entropy: 0.395, accuracy: 0.88330\n",
      "   y: m the stables.  He tears down my handiwork, boxes my | ears, and croaks: |  | '\"T' maister nobbut just\n",
      "  yp: uethe staile-.  He solrs down my handiwork, woxes my | aars, and cooaks:  | '\"T' maister nobbut just\n",
      "Epoch: 396.72, iter: 193000, cross-entropy: 0.405, accuracy: 0.87663\n",
      "   y:  if you do.' |  | 'I can sleep on a chair in this room,' I replied. |  | 'No, no!  A stranger is a stran\n",
      "  yp:  an you po.' |  | 'I'can sieep on a chair in this woom,' I replied. |  | 'No, no!  A stranger is a stran\n",
      "Epoch: 397.13, iter: 193200, cross-entropy: 0.398, accuracy: 0.88346\n",
      "   y: o. |  | 'Drag her away!' he cried, savagely.  'Are you staying to talk?'  And he | approached to execu\n",
      "  yp:  o  | \"Ioag her away!' he cried, savagely. |  'Are you staying to talk?'  And he | approached to execu\n",
      "Epoch: 397.54, iter: 193400, cross-entropy: 0.401, accuracy: 0.88411\n",
      "   y: rt distance which lay between | them and the pair sitting on the tree-trunk. |  | As they approached, \n",
      "  yp: n  oadtince fiech hay between them and the pair sitting on the tree-trunk.  | As chey approached, \n",
      "Epoch: 397.95, iter: 193600, cross-entropy: 0.393, accuracy: 0.88493\n",
      "   y: al single people. |  | A Sunday came, which no one in the villa with the exception of Rachel | and the\n",
      "  yp: et togcie cerple,  | AnSunday eame, which no one in the dilla with the sntlption of Rachel | and the\n",
      "Epoch: 398.37, iter: 193800, cross-entropy: 0.390, accuracy: 0.88542\n",
      "   y:  third person could have understood. |  | \"Rachel--you ought to keep an eye upon Rachel,\" he observe\n",
      "  yp: uthent yarson famgd have understood. |  | \"Rachel--you ought to keep an eye upon Rachel,\" he observe\n",
      "Epoch: 398.78, iter: 194000, cross-entropy: 0.405, accuracy: 0.87956\n",
      "   y: as much | mistress of their husband’s house as I am of Hartfield; and never, never | could I expect \n",
      "  yp: tn tuch aostress of the r pusband’s heuse as I am of Hartfield  and nover, never | tould I excect \n",
      "Epoch: 399.19, iter: 194200, cross-entropy: 0.396, accuracy: 0.88053\n",
      "   y: et better at the bare sight of it, in spite of Kenneth.  I was | fairly mad at him.  Dame Archer b\n",
      "  yp:   htefwer.t  ahe mace.shght of it, in spite of aenneth.  I was | fairly mad at him.  Dame Archer b\n",
      "Epoch: 399.60, iter: 194400, cross-entropy: 0.399, accuracy: 0.88037\n",
      "   y: h Terence. He treated him like a child. |  | By Friday it could not be denied that the illness was n\n",
      "  yp:  ethrence, He woiated tim fike a chald  |  | By triday it could not be denied that the illness was n\n",
      "Epoch: 400.01, iter: 194600, cross-entropy: 0.393, accuracy: 0.88330\n",
      "   y: had beheld | on the day I discovered my little lady at Wuthering Heights, after her | expedition to \n",
      "  yp: aed beeald hn the hay I hiscovered my eittle lady at Wuthering Heights. anter her | expedition to \n",
      "Epoch: 400.42, iter: 194800, cross-entropy: 0.403, accuracy: 0.88395\n",
      "   y: tuffy books and Bach.\" |  | \"I long to ask questions,\" she continued. \"You interest me so much. If | I\n",
      "  yp:   rfi oeoks and prch.\" |  | \"I lovg to ask questions,\" she continued. \"Aou interest me to much, If | I\n",
      "----------------- temperature = 0.2 ----------------------\n"
     ]
    },
    {
     "data": {
      "text/html": [
       "<span style=\"background-color:#d8daef;\">                                                       </span><sup>[1]</sup><span style=\"background-color:#d8daef;\">                                                       </span><sup>[1]</sup><span style=\"background-color:#d8daef;\">                                                       </span><sup>[1]</sup><span style=\"background-color:#d8daef;\">                                                       </span><sup>[1]</sup><span style=\"background-color:#d8daef;\">                                                       </span><sup>[1]</sup><span style=\"background-color:#d8daef;\">                                                       </span><sup>[1]</sup><span style=\"background-color:#d8daef;\">                                                       </span><sup>[1]</sup><span style=\"background-color:#d8daef;\">                                                       </span><sup>[1]</sup><span style=\"background-color:#d8daef;\">                                                       </span><sup>[1]</sup><span style=\"background-color:#d8daef;\">                                                       </span><sup>[1]</sup><span style=\"background-color:#d8daef;\">                                                       </span><sup>[1]</sup><span style=\"background-color:#d8daef;\">                                                       </span><sup>[1]</sup><span style=\"background-color:#d8daef;\">                                                       </span><sup>[1]</sup><span style=\"background-color:#d8daef;\">                                                       </span><sup>[1]</sup><span style=\"background-color:#d8daef;\">                                                       </span><sup>[1]</sup><span style=\"background-color:#d8daef;\">                                                       </span><sup>[1]</sup><span style=\"background-color:#d8daef;\">                                                       </span><sup>[1]</sup><span style=\"background-color:#d8daef;\">                                                       </span><sup>[1]</sup>          "
      ],
      "text/plain": [
       "<IPython.core.display.HTML object>"
      ]
     },
     "metadata": {},
     "output_type": "display_data"
    },
    {
     "data": {
      "text/html": [
       "<small><p style=\"text-align:right;\">Sources: <span style=\"background-color:#d8daef;\">emma-jane-austen</span><sup>[1]</sup></p></small>"
      ],
      "text/plain": [
       "<IPython.core.display.HTML object>"
      ]
     },
     "metadata": {},
     "output_type": "display_data"
    },
    {
     "name": "stdout",
     "output_type": "stream",
     "text": [
      "----------------- temperature = 0.6 ----------------------\n"
     ]
    },
    {
     "data": {
      "text/html": [
       "<span style=\"background-color:#d8daef;\">                                                       </span><sup>[1]</sup><span style=\"background-color:#d8daef;\">                                                       </span><sup>[1]</sup><span style=\"background-color:#d8daef;\">                                                       </span><sup>[1]</sup><span style=\"background-color:#d8daef;\">                                                       </span><sup>[1]</sup><span style=\"background-color:#d8daef;\">                                                       </span><sup>[1]</sup><span style=\"background-color:#d8daef;\">                                                       </span><sup>[1]</sup><span style=\"background-color:#d8daef;\">                                                       </span><sup>[1]</sup><span style=\"background-color:#d8daef;\">                                                       </span><sup>[1]</sup><span style=\"background-color:#d8daef;\">                                                       </span><sup>[1]</sup><span style=\"background-color:#d8daef;\">                                                       </span><sup>[1]</sup><span style=\"background-color:#d8daef;\">                                                       </span><sup>[1]</sup><span style=\"background-color:#d8daef;\">                                                       </span><sup>[1]</sup><span style=\"background-color:#d8daef;\">                                                       </span><sup>[1]</sup><span style=\"background-color:#d8daef;\">                         “A.</span><sup>[1]</sup>\" There unfrete, her voice<span style=\"background-color:#d8daef;\"> at them all.”<br><br>“Oh! very </span><sup>[1]</sup>undyenount.--Do let me just time.<span style=\"background-color:#d8daef;\"> I did not expect much; but I </span><sup>[1]</sup>cannot be<br>forgettening, for when<span style=\"background-color:#eadbd8;\"> she was going down </span><sup>[3]</sup>to the topbrose, during<br>their discovery to be ashaulcated. Not in the least that the prosp"
      ],
      "text/plain": [
       "<IPython.core.display.HTML object>"
      ]
     },
     "metadata": {},
     "output_type": "display_data"
    },
    {
     "data": {
      "text/html": [
       "<small><p style=\"text-align:right;\">Sources: <span style=\"background-color:#d8daef;\">emma-jane-austen</span><sup>[1]</sup>, <span style=\"background-color:#eadbd8;\">pride-prejudice-jane-austen</span><sup>[3]</sup></p></small>"
      ],
      "text/plain": [
       "<IPython.core.display.HTML object>"
      ]
     },
     "metadata": {},
     "output_type": "display_data"
    },
    {
     "name": "stdout",
     "output_type": "stream",
     "text": [
      "----------------- temperature = 1.0 ----------------------\n"
     ]
    },
    {
     "data": {
      "text/html": [
       "<span style=\"background-color:#d8daef;\">                                                       </span><sup>[1]</sup><span style=\"background-color:#d8daef;\">                                                       </span><sup>[1]</sup><span style=\"background-color:#d8daef;\">                                 “A.</span><sup>[1]</sup>. They have been the celebrabibity of the reproach of his body<br>at the Parsona, with great confidence<br>without m<span style=\"background-color:#d8daef;\">e--not in the least.</span><sup>[1]</sup> Little for the funelal, and appointed<br><span style=\"background-color:#ebdef0;\">that she had always </span><sup>[2]</sup>written her feet; and Jane kiss why she is beyond a doubt.<br><br>\"But Lad! No, it is when you are.\" She sat silently revives; where the<br>thundles which then doesny wanted to boast; but one congregats would make them a<br>remembrance.  Lest yey her sister had given everything's arrival.  It live lads upon the<br>graves and began, pale her out of any repining engrossment.<br><br>'Silence so through it as follows: not silk<span style=\"background-color:#d8daef;\">, and two or three times over,</span><sup>[1]</sup><br><span style=\"background-color:#ebdef0;\">while Mr. Hughling Ellio</span><sup>[2]</sup>n<span style=\"background-color:#eadbd8;\"> had been encouraging</span><sup>[3]</sup> him: he had him down into paper’s fancy,<br>convenient by degrees every review to her. But then,<span style=\"background-color:#eadbd8;\"> Mrs. Gardiner, whose c</span><sup>[3]</sup>onference, she sat one<br>moment, and disturbed<span style=\"background-color:#ebdef0;\"> meditations with a </span><sup>[2]</sup>cu"
      ],
      "text/plain": [
       "<IPython.core.display.HTML object>"
      ]
     },
     "metadata": {},
     "output_type": "display_data"
    },
    {
     "data": {
      "text/html": [
       "<small><p style=\"text-align:right;\">Sources: <span style=\"background-color:#d8daef;\">emma-jane-austen</span><sup>[1]</sup>, <span style=\"background-color:#ebdef0;\">voyage-out-virginia-woolf</span><sup>[2]</sup>, <span style=\"background-color:#eadbd8;\">pride-prejudice-jane-austen</span><sup>[3]</sup></p></small>"
      ],
      "text/plain": [
       "<IPython.core.display.HTML object>"
      ]
     },
     "metadata": {},
     "output_type": "display_data"
    },
    {
     "name": "stdout",
     "output_type": "stream",
     "text": [
      "---------------------------------------\n",
      "Epoch: 400.83, iter: 195000, cross-entropy: 0.395, accuracy: 0.88591\n",
      "   y: awfully their own, so much the better. _I_ should be | ashamed of having one that was only entaile\n",
      "  yp: et ul y soe r swn  io much | the better. MI_ should be | ashamed of having one that was afly tncaile\n",
      "Epoch: 401.24, iter: 195200, cross-entropy: 0.395, accuracy: 0.88086\n",
      "   y: ned now and then in her brother's conversation with Miss | Bennet. |  | Miss Bingley's attention was q\n",
      "  yp: ng  to  and then tn her brother's conversation with Miss | Bennet. |  | Miss Bingley's attention was q\n",
      "Epoch: 401.65, iter: 195400, cross-entropy: 0.373, accuracy: 0.88965\n",
      "   y: t | for her own visit there, to know the rest. |  | Jane had already written a few lines to her sister\n",
      "  yp: nhwor ter mwn cioit there, to know the mest   | Jane had already written a sew lines oo her sister\n",
      "Epoch: 402.07, iter: 195600, cross-entropy: 0.385, accuracy: 0.88493\n",
      "   y: f mind which she | wanted, and he could sometimes act an ungracious, or say a severe thing. |  | He wa\n",
      "  yp: n tynd | thich she hanted, and he hould semetimes act an uneracious, or sey a spcere ohing.  | He wa\n",
      "Epoch: 402.48, iter: 195800, cross-entropy: 0.407, accuracy: 0.87533\n",
      "   y: ilips wants you so to | get husbands, you can't think. She says Lizzy had better have taken Mr. | Co\n",
      "  yp: esdpe waste hou,au fhoWottwusbands, you can't think, She says Bizzy has better have thken Mr. | Co\n",
      "Epoch: 402.89, iter: 196000, cross-entropy: 0.392, accuracy: 0.89014\n",
      "   y: ; but her | judgment was as strong as her feelings, and as strong as it had ever | been before, in r\n",
      "  yp: e aut se  cudgment was as strong as her fealings. and as strong as it had | ever | been before, in r\n",
      "Epoch: 403.30, iter: 196200, cross-entropy: 0.413, accuracy: 0.87874\n",
      "   y: re for another, although her father was an exception. But then | he was an exception in every way-\n",
      "  yp: ne aor t yther  anlhough ter pather was a  exception. But then | he was an exception in every way-\n",
      "Epoch: 403.71, iter: 196400, cross-entropy: 0.392, accuracy: 0.88525\n",
      "   y: ady who always came in late, tripping into the room with | a prepared smile as though she came out\n",
      "  yp: eti aao wtways iole in-Hate, thipping into the room with | h presared smile as though she came out\n",
      "Epoch: 404.12, iter: 196600, cross-entropy: 0.396, accuracy: 0.88460\n",
      "   y: e James’s being gone out to put the | horses to, preparatory to their now daily drive to Randalls;\n",
      "  yp: o aanes,s seing gone out to prt the horses to  preparatory to their now daily drive to Randalls;\n",
      "Epoch: 404.53, iter: 196800, cross-entropy: 0.383, accuracy: 0.88835\n",
      "   y: Mrs. Elton’s thoughts, and | understand why she was, like herself, in happy spirits; it was being \n",
      "  yp: tr.. Elton,s eorughts, and | pnderstand why she was, like herself, in heppy spirits, at was bying \n",
      "Epoch: 404.94, iter: 197000, cross-entropy: 0.396, accuracy: 0.88493\n",
      "   y:  again with four | horses.” |  | “The evil of the distance from Enscombe,” said Mr. Weston, “is, that | \n",
      "  yp: etnain,whth aiur sorses.” |  | “The evil of the distance from tnscombe,  said hr. Weston, “is  that | \n",
      "Epoch: 405.35, iter: 197200, cross-entropy: 0.383, accuracy: 0.89225\n",
      "   y: rn you | out directly.'  Hindley threw it, hitting him on the breast, and down he | fell, but stagge\n",
      "  yp: reetou tut oirectly.   Hindley threw it, hitting him an ahe gaeast, and Irwn oe | cell. but stigge\n",
      "Epoch: 405.77, iter: 197400, cross-entropy: 0.379, accuracy: 0.88493\n",
      "   y: them attentive | or had forgotten their presence. |  | \"Ah, one could tell strange stories of the old \n",
      "  yp: the  al antive ar hed forgotten their presence. |  | \"W , one could tell strange shories of the rld \n",
      "Epoch: 406.18, iter: 197600, cross-entropy: 0.403, accuracy: 0.87939\n",
      "   y: tly, | he turned to his partner, and said, |  | \"Sir William's interruption has made me forget what we\n",
      "  yp: eey  terbhrned to him plrtner  and said, |  | \"Sir William's interruption has made me forget what wi\n",
      "Epoch: 406.59, iter: 197800, cross-entropy: 0.390, accuracy: 0.88265\n",
      "   y: standing; but he had been very much struck with the loveliness | of her face and the warm simplici\n",
      "  yp: e  nd ng  aut Ie wad bren sery much struck with the saveliness | of her oame and the warm simplici\n",
      "Epoch: 407.00, iter: 198000, cross-entropy: 0.371, accuracy: 0.89144\n",
      "   y: iff, we have each had a commencement, and | each stumbled and tottered on the threshold; had our t\n",
      "  yp: ete  ahrhave bach han a commencement, and | evch stumbled and tottered on the threshold; hed our t\n",
      "Epoch: 407.41, iter: 198200, cross-entropy: 0.397, accuracy: 0.88070\n",
      "   y:  rugs. |  | \"_Persuasion_,\" announced Richard, examining the volume. |  | \"That's for Miss Vinrace,\" sai\n",
      "  yp:  ten    | \"WWersuasion_,\" announced Richard, examining the vilume, |  | \"That's for Miss Vinrace,\" sai\n",
      "Epoch: 407.82, iter: 198400, cross-entropy: 0.384, accuracy: 0.88737\n",
      "   y: t, impossible for us to | conjecture the causes or circumstances which may have alienated them, | wi\n",
      "  yp: ea afprssible;tor Ms to sonjecture the causes or circumstances which may have elienated them, | wi\n",
      "Epoch: 408.23, iter: 198600, cross-entropy: 0.395, accuracy: 0.88346\n",
      "   y: r's spirits. Jane was not happy. She still cherished a | very tender affection for Bingley. Having\n",
      "  yp:   s sherits, Tane was not | happy. Ehe saill sherished a | very tender rnfection for hingley. Having\n",
      "Epoch: 408.64, iter: 198800, cross-entropy: 0.377, accuracy: 0.89095\n",
      "   y: ght, | on her way to the carriage. She included them all in a vague but | magnificent invitation. |  | A\n",
      "  yp: tht  wreaor siy.to Rhe Lorriage. She included them all in t vague but | mognificent invitation. |  | A\n",
      "Epoch: 409.05, iter: 199000, cross-entropy: 0.393, accuracy: 0.88591\n",
      "   y: her humility | and circumspection in future. |  | Serious she was, very serious in her thankfulness, a\n",
      "  yp: ter susality and corcumspection in future. |  | Serious she was, very serious in her thonkfulness, a\n",
      "Epoch: 409.47, iter: 199200, cross-entropy: 0.392, accuracy: 0.88428\n",
      "   y: ppressing a | groan: and, as I fancied, by the motion of his arm's shadow, dashing a | tear from his\n",
      "  yp: r oesseog tssrean: and, as I fancied, by the motion of his arm's shadow, washing a | dear from his\n",
      "Epoch: 409.88, iter: 199400, cross-entropy: 0.384, accuracy: 0.88704\n",
      "   y: ices, where inquiry | would soon produce something--Offices for the sale--not quite of human | flesh\n",
      "  yp:  ce   ahire In uiry would soon produce something--Offices for the nake--not guite of human | flesh\n",
      "Epoch: 410.29, iter: 199600, cross-entropy: 0.385, accuracy: 0.88184\n",
      "   y: er in water and asking himself, 'Is this | love?'--and poor old Perrott, I daresay, can't get to s\n",
      "  yp: arett thncr ond wsking yim elf  \"Is this | love?'--and poor old Perrott, I daresay, can't get wo s\n",
      "Epoch: 410.70, iter: 199800, cross-entropy: 0.394, accuracy: 0.88118\n",
      "   y: quite recovered now. Have you heard from Mrs. | John Knightley lately? Oh! those dear little child\n",
      "  yp: tuite aeaomered hot. Have you heard from Mrs. | John Knightley lately? Oh! these defr little child\n",
      "----------------- temperature = 0.2 ----------------------\n"
     ]
    },
    {
     "data": {
      "text/html": [
       "<span style=\"background-color:#d8daef;\">                                                       </span><sup>[1]</sup><span style=\"background-color:#d8daef;\">                                                       </span><sup>[1]</sup><span style=\"background-color:#d8daef;\">                                                       </span><sup>[1]</sup><span style=\"background-color:#d8daef;\">                                                       </span><sup>[1]</sup><span style=\"background-color:#d8daef;\">                                                       </span><sup>[1]</sup><span style=\"background-color:#d8daef;\">                                                       </span><sup>[1]</sup><span style=\"background-color:#d8daef;\">                                                       </span><sup>[1]</sup><span style=\"background-color:#d8daef;\">                                                       </span><sup>[1]</sup><span style=\"background-color:#d8daef;\">                                                       </span><sup>[1]</sup><span style=\"background-color:#d8daef;\">                                                       </span><sup>[1]</sup><span style=\"background-color:#d8daef;\">                                                       </span><sup>[1]</sup><span style=\"background-color:#d8daef;\">                                                       </span><sup>[1]</sup><span style=\"background-color:#d8daef;\">                                                       </span><sup>[1]</sup><span style=\"background-color:#d8daef;\">                                                       </span><sup>[1]</sup><span style=\"background-color:#d8daef;\">                                                       </span><sup>[1]</sup><span style=\"background-color:#d8daef;\">                                                       </span><sup>[1]</sup><span style=\"background-color:#d8daef;\">                                                       </span><sup>[1]</sup><span style=\"background-color:#d8daef;\">                                                       </span><sup>[1]</sup>          "
      ],
      "text/plain": [
       "<IPython.core.display.HTML object>"
      ]
     },
     "metadata": {},
     "output_type": "display_data"
    },
    {
     "data": {
      "text/html": [
       "<small><p style=\"text-align:right;\">Sources: <span style=\"background-color:#d8daef;\">emma-jane-austen</span><sup>[1]</sup></p></small>"
      ],
      "text/plain": [
       "<IPython.core.display.HTML object>"
      ]
     },
     "metadata": {},
     "output_type": "display_data"
    },
    {
     "name": "stdout",
     "output_type": "stream",
     "text": [
      "----------------- temperature = 0.6 ----------------------\n"
     ]
    },
    {
     "data": {
      "text/html": [
       "<span style=\"background-color:#d8daef;\">                                                       </span><sup>[1]</sup><span style=\"background-color:#d8daef;\">                                                       </span><sup>[1]</sup><span style=\"background-color:#d8daef;\">                                                       </span><sup>[1]</sup><span style=\"background-color:#d8daef;\">                                                       </span><sup>[1]</sup><span style=\"background-color:#d8daef;\">                                                       </span><sup>[1]</sup><span style=\"background-color:#d8daef;\">                                                       </span><sup>[1]</sup><span style=\"background-color:#d8daef;\">                                                       </span><sup>[1]</sup><span style=\"background-color:#d8daef;\">                                                       </span><sup>[1]</sup><span style=\"background-color:#d8daef;\">                                                       </span><sup>[1]</sup><span style=\"background-color:#d8daef;\">                                                       </span><sup>[1]</sup><span style=\"background-color:#d8daef;\">                                                       </span><sup>[1]</sup><span style=\"background-color:#d8daef;\">                                                       </span><sup>[1]</sup><span style=\"background-color:#d8daef;\">                                                       </span><sup>[1]</sup><span style=\"background-color:#d8daef;\">                                                       </span><sup>[1]</sup><span style=\"background-color:#d8daef;\">                                                       </span><sup>[1]</sup><span style=\"background-color:#d8daef;\">                                                       </span><sup>[1]</sup><span style=\"background-color:#d8daef;\">                                                       </span><sup>[1]</sup><span style=\"background-color:#d8daef;\">                                                       </span><sup>[1]</sup>          "
      ],
      "text/plain": [
       "<IPython.core.display.HTML object>"
      ]
     },
     "metadata": {},
     "output_type": "display_data"
    },
    {
     "data": {
      "text/html": [
       "<small><p style=\"text-align:right;\">Sources: <span style=\"background-color:#d8daef;\">emma-jane-austen</span><sup>[1]</sup></p></small>"
      ],
      "text/plain": [
       "<IPython.core.display.HTML object>"
      ]
     },
     "metadata": {},
     "output_type": "display_data"
    },
    {
     "name": "stdout",
     "output_type": "stream",
     "text": [
      "----------------- temperature = 1.0 ----------------------\n"
     ]
    },
    {
     "data": {
      "text/html": [
       "        WIDDWERBVILE<span style=\"background-color:#eadbd8;\">.<br><br><br><br><br>CHAPTER XI.<br><br><br>Mr. </span><sup>[3]</sup>Elton made as he had no sooner there in the afcent, on taking off her<br>seat with a drown and were sobrint is hardly averready upon that<br>     Consicies of meeting you, and was what I have writed it without of<br>broody; but that lack of all her life at all, and<br>it received at first constant admission; but still they attended the good dinners.<br><br>I<span style=\"background-color:#d8daef;\"> believed they were </span><sup>[1]</sup>infectisfed, are confusion, and murmured, (looking<br>as they tried to express his son-in-law<span style=\"background-color:#d8daef;\">. Mrs. Weston was th</span><sup>[1]</sup>is felt' sorry for<br>Charlotte's eight years in the world.<br><br>\"Oh, no; think I could be so easily to blime her. “Well, if they were praise<br>in general universaticity; and they parted; a satisfaction, in addre<br>to the little boasts of her own because their position made such a girl. Many would not<br>depres<br>him on his shoulder than Emma mot; openny a pink rebot of th<span style=\"background-color:#eadbd8;\">e difference<br>between the </span><sup>[3]</sup>smoke rose, called on the brass of <span style=\"background-color:#e2d7d5;\">the strength of the </span><sup>[4]</sup>day.<br><br>'\"I'm wronger!\" said Hirst. \"You _show_"
      ],
      "text/plain": [
       "<IPython.core.display.HTML object>"
      ]
     },
     "metadata": {},
     "output_type": "display_data"
    },
    {
     "data": {
      "text/html": [
       "<small><p style=\"text-align:right;\">Sources: <span style=\"background-color:#eadbd8;\">pride-prejudice-jane-austen</span><sup>[3]</sup>, <span style=\"background-color:#d8daef;\">emma-jane-austen</span><sup>[1]</sup>, <span style=\"background-color:#e2d7d5;\">wuthering-heights-emily-bronte</span><sup>[4]</sup></p></small>"
      ],
      "text/plain": [
       "<IPython.core.display.HTML object>"
      ]
     },
     "metadata": {},
     "output_type": "display_data"
    },
    {
     "name": "stdout",
     "output_type": "stream",
     "text": [
      "---------------------------------------\n",
      "Epoch: 411.11, iter: 200000, cross-entropy: 0.389, accuracy: 0.88721\n",
      "   y: comprehending income, servants, and | furniture, was continually in agitation around her. Her rega\n",
      "  yp: toneaehend ng ttcone, shriants, and | uolniture, was continually in agitation around her. Her rega\n",
      "Epoch: 411.52, iter: 200200, cross-entropy: 0.394, accuracy: 0.88330\n",
      "   y:  | exceedingly fair. Lady Lucas began directly to calculate with more | interest than the matter had\n",
      "  yp:  txcildingly fair. Sady Lucas began directly to calculate with more | interest than the matter had\n",
      "Epoch: 411.93, iter: 200400, cross-entropy: 0.379, accuracy: 0.88965\n",
      "   y:  been, to take the trouble of | conquering any body’s reserve to procure one. Intimacy between Mis\n",
      "  yp: hte n  th hhke the lrouble of comsuering any body’s reserve to procure one. Intimacy between his\n",
      "Epoch: 412.34, iter: 200600, cross-entropy: 0.393, accuracy: 0.88102\n",
      "   y:  | \"Oh! my dear father,\" she cried, \"come back, and write immediately. | Consider how important ever\n",
      "  yp:  | \"Ih! by dear father,\" she cried, \"Iome back, and dhite immediately. | Ionsider how important ever\n",
      "Epoch: 412.75, iter: 200800, cross-entropy: 0.390, accuracy: 0.88883\n",
      "   y: haw and I, the sexton, and six men to carry the coffin, comprehended | the whole attendance.  The \n",
      "  yp:  el tld w  hhe stcton, tnd tix men to barry the foufin, comprehended | the whole aftendance.  'he \n",
      "Epoch: 413.17, iter: 201000, cross-entropy: 0.370, accuracy: 0.89046\n",
      "   y: ; and, if | you choose, you may say good-bye: you'll get rid of an annoyance.  Only, | Catherine, do\n",
      "  yp:   and  if | sou waoose, you may say good-bye: you'll get rid of an annoyance.  Only, Catherine, so\n",
      "Epoch: 413.58, iter: 201200, cross-entropy: 0.382, accuracy: 0.88525\n",
      "   y: amiable character gives | every assurance of it;--if they wish to have you settled in the same | cou\n",
      "  yp: an able aoaracter goves hvery assurance of it; -if they wish to yave tou settled in the seme | sou\n",
      "Epoch: 413.99, iter: 201400, cross-entropy: 0.389, accuracy: 0.88184\n",
      "   y: e last, with trembling energy.--Though Lydia had | never been a favourite with them, Mr. and Mrs. \n",
      "  yp: e sast  aith hheabling enjrgy,--Theugh Ladia had | never been anfavourite with them, Mr. and Mrs. \n",
      "Epoch: 414.40, iter: 201600, cross-entropy: 0.412, accuracy: 0.87614\n",
      "   y: torted; 'and he has no claim on my | charity.  I gave him my heart, and he took and pinched it to \n",
      "  yp:   n ad  asnd Ie has no claim on my | charity.  I huve him my heart, and he took and pinched it to \n",
      "Epoch: 414.81, iter: 201800, cross-entropy: 0.382, accuracy: 0.88818\n",
      "   y: f course not. I don't use the | word in a conventional sense. I use it as young men use it. Girls \n",
      "  yp: u tonrse,not  E hon't use the | word in a confentional sense. I use it as young men use it. Gorls \n",
      "Epoch: 415.22, iter: 202000, cross-entropy: 0.376, accuracy: 0.88753\n",
      "   y: ing, and | at the end of them he gave me a brief account of what had happened.” |  | Emma was quite re\n",
      "  yp:  ng  and tctlha end of the  ha lave me a grief account of what had happened. |  |  | Emma was quite re\n",
      "Epoch: 415.63, iter: 202200, cross-entropy: 0.407, accuracy: 0.87874\n",
      "   y: s very much at heart.\" |  | Elizabeth could not repress a smile at this, but she answered only by a | \n",
      "  yp: n tery puch sg aerrt.  |  | \"lizabeth could not hesress a gmile at this, but she wnswered inly by a | \n",
      "Epoch: 416.04, iter: 202400, cross-entropy: 0.392, accuracy: 0.88281\n",
      "   y: ant what was that inscription over the door? Hareton stared up, and | scratched his head like a tr\n",
      "  yp:  yc thit tas ioet sn | cription ofer the roor? Hereton stared up, and keratched his head lite a cr\n",
      "Epoch: 416.45, iter: 202600, cross-entropy: 0.393, accuracy: 0.88753\n",
      "   y: almost as soon as they were | acquainted; and was eligibly and happily settled, while Jane Fairfax\n",
      "  yp: tnlost al fton as they were acquainted; and was eligibly itd happily settled  while Jane Fairfax\n",
      "Epoch: 416.87, iter: 202800, cross-entropy: 0.395, accuracy: 0.88395\n",
      "   y:  woman descended to receive the | doctor: and not exactly of the kind which I should have chosen t\n",
      "  yp:  timen,ailcended to receive the doctor: and not exactly of phe _indnwhich I saould have shosen t\n",
      "Epoch: 417.28, iter: 203000, cross-entropy: 0.382, accuracy: 0.88753\n",
      "   y: turn in safety it is always | handed back. I consider it a kind of charm against accidents. Though\n",
      "  yp:   rnetn toyety in ws s ways handed back. I consider it a kind of charm tgainst accidents. Iheugh\n",
      "Epoch: 417.69, iter: 203200, cross-entropy: 0.364, accuracy: 0.88932\n",
      "   y: ully Emma had written it. |  | Frank Churchill placed a word before Miss Fairfax. She gave a slight | \n",
      "  yp:  l y amma.had sritten.in  |  | Foank Churchill placed a word byfore Mrss Fairfax, She give a slight | \n",
      "Epoch: 418.10, iter: 203400, cross-entropy: 0.393, accuracy: 0.88086\n",
      "   y: r as they dared, by | Emma and Mr. Knightley.--They had determined that their marriage ought | to be\n",
      "  yp: netn they dered, bo Emma hnd Mr. Knightley.--They had setermined that therr verriage ought | to be\n",
      "Epoch: 418.51, iter: 203600, cross-entropy: 0.369, accuracy: 0.88639\n",
      "   y: d not want to marry any one. Partly because he was | irritated by Rachel the idea of marriage irri\n",
      "  yp: n tot sint to gakry any one  Portly because he was | irritated by tachel the inea of marriage irri\n",
      "Epoch: 418.92, iter: 203800, cross-entropy: 0.376, accuracy: 0.88965\n",
      "   y: vailed in Meryton of his coming no more to | Netherfield the whole winter; a report which highly i\n",
      "  yp:  erl,d tn teryton;of les coming | so more to | Netherfield the whole winter; a report which hishly i\n",
      "Epoch: 419.33, iter: 204000, cross-entropy: 0.384, accuracy: 0.88818\n",
      "   y: . One set might recommend their | all removing to Donwell, and leaving Hartfield for the John Knig\n",
      "  yp: e  n  cee myght necommend their | all removing to Donwell, and leaving Hartfield for the posn Knig\n",
      "Epoch: 419.74, iter: 204200, cross-entropy: 0.389, accuracy: 0.88802\n",
      "   y: aw it all with a clearness which had never blessed | her before. How improperly had she been actin\n",
      "  yp:  i tn w l iith y srear ess which had never blessed | her before. Sow improperly had she been actin\n",
      "Epoch: 420.15, iter: 204400, cross-entropy: 0.388, accuracy: 0.88818\n",
      "   y: he others; but when the table | was again safely covered, when every corner dish was placed exactl\n",
      "  yp: he sther , tut shen the luble was again safely conered  when tveny oorner dish was claced bxactl\n",
      "Epoch: 420.57, iter: 204600, cross-entropy: 0.390, accuracy: 0.88330\n",
      "   y: ondon: my cousin is a | gentleman's son.  That my--' she stopped, and wept outright; upset at the | \n",
      "  yp: indon. ay hhnsin is | a | gentleman's sou   Hhat my--' she stopped, and wept autright; upset at the | \n",
      "Epoch: 420.98, iter: 204800, cross-entropy: 0.393, accuracy: 0.88411\n",
      "   y: lligent on the topics we touched; and before I went | home, I was encouraged so far as to voluntee\n",
      "  yp:  l genc an the sopics we houched; wnd before h want home, I was encouraged so fas as to poluntee\n",
      "----------------- temperature = 0.2 ----------------------\n"
     ]
    },
    {
     "data": {
      "text/html": [
       "<span style=\"background-color:#d8daef;\">                                                       </span><sup>[1]</sup><span style=\"background-color:#d8daef;\">                                                       </span><sup>[1]</sup><span style=\"background-color:#d8daef;\">                                                       </span><sup>[1]</sup><span style=\"background-color:#d8daef;\">                                                       </span><sup>[1]</sup><span style=\"background-color:#d8daef;\">                                                       </span><sup>[1]</sup><span style=\"background-color:#d8daef;\">                                                       </span><sup>[1]</sup><span style=\"background-color:#d8daef;\">                                                       </span><sup>[1]</sup><span style=\"background-color:#d8daef;\">                                                       </span><sup>[1]</sup><span style=\"background-color:#d8daef;\">                                                       </span><sup>[1]</sup><span style=\"background-color:#d8daef;\">                                                       </span><sup>[1]</sup><span style=\"background-color:#d8daef;\">                                                       </span><sup>[1]</sup><span style=\"background-color:#d8daef;\">                                                       </span><sup>[1]</sup><span style=\"background-color:#d8daef;\">                                                       </span><sup>[1]</sup><span style=\"background-color:#d8daef;\">                                                       </span><sup>[1]</sup><span style=\"background-color:#d8daef;\">                                                       </span><sup>[1]</sup><span style=\"background-color:#d8daef;\">                                                       </span><sup>[1]</sup><span style=\"background-color:#d8daef;\">                                                       </span><sup>[1]</sup><span style=\"background-color:#d8daef;\">                                                       </span><sup>[1]</sup>          "
      ],
      "text/plain": [
       "<IPython.core.display.HTML object>"
      ]
     },
     "metadata": {},
     "output_type": "display_data"
    },
    {
     "data": {
      "text/html": [
       "<small><p style=\"text-align:right;\">Sources: <span style=\"background-color:#d8daef;\">emma-jane-austen</span><sup>[1]</sup></p></small>"
      ],
      "text/plain": [
       "<IPython.core.display.HTML object>"
      ]
     },
     "metadata": {},
     "output_type": "display_data"
    },
    {
     "name": "stdout",
     "output_type": "stream",
     "text": [
      "----------------- temperature = 0.6 ----------------------\n"
     ]
    },
    {
     "data": {
      "text/html": [
       "            Woulgh a book,<span style=\"background-color:#d8daef;\"> I would rather you did </span><sup>[1]</sup>your mother, as you are at home.  Being sure that he<br>could be expected to for their happ<span style=\"background-color:#d8daef;\">y circumstances; and </span><sup>[1]</sup>yet he saw nothing of<br>a compliy manner. With a stronger interesting hope to<br>oppose a navely less tranquil thing that a cowour<span style=\"background-color:#eadbd8;\"> resolved on<br>having </span><sup>[3]</sup>only the reach of madamies arrive the smoke, and the ship bent high and<br>look over them<span style=\"background-color:#ebdef0;\">.<br><br>\"It's odd that every one should </span><sup>[2]</sup>feel so attentive and very likely of every<br>favourable manner, it was prepared to poet.  There was a tidy person.<br><br>“My dearest vexed, you age first objected to into my shame. Gode of that<br>day!--I see how ignorant<span style=\"background-color:#d8daef;\"> at present.”<br><br>He was too angry to </span><sup>[1]</sup><span style=\"background-color:#eadbd8;\">feel that there was gr</span><sup>[3]</sup>eat favourite, and she had stayed at<br>her teaching.<br><br>As he persisted in their shape yood<span style=\"background-color:#d8daef;\"> Christmas. Mr. Weston would </span><sup>[1]</sup>nonly<br>suspect that the mistake I could not write only read what he owesalls<br>me!  His neither, if it<span style=\"background-color:#ebdef0;\"> be an old friend of </span><sup>[2]</sup>mine? If I could by no service<br>from the way that it would be furious, a"
      ],
      "text/plain": [
       "<IPython.core.display.HTML object>"
      ]
     },
     "metadata": {},
     "output_type": "display_data"
    },
    {
     "data": {
      "text/html": [
       "<small><p style=\"text-align:right;\">Sources: <span style=\"background-color:#d8daef;\">emma-jane-austen</span><sup>[1]</sup>, <span style=\"background-color:#eadbd8;\">pride-prejudice-jane-austen</span><sup>[3]</sup>, <span style=\"background-color:#ebdef0;\">voyage-out-virginia-woolf</span><sup>[2]</sup></p></small>"
      ],
      "text/plain": [
       "<IPython.core.display.HTML object>"
      ]
     },
     "metadata": {},
     "output_type": "display_data"
    },
    {
     "name": "stdout",
     "output_type": "stream",
     "text": [
      "----------------- temperature = 1.0 ----------------------\n"
     ]
    },
    {
     "data": {
      "text/html": [
       "                 HIRLEE.NMR<br>AUDNRCSIMM. POmby's cosfent?\"<br><br>\"A man in beholtuded by day--what she didn't lar) of<span style=\"background-color:#ebdef0;\"> his own character,<br>t</span><sup>[2]</sup>hough reduce of gentility.<br><br>She still perceived, in short suddenly thought<span style=\"background-color:#eadbd8;\"> the best of them were</span><sup>[3]</sup><br>surprised<span style=\"background-color:#eadbd8;\"> that she could hardly rep</span><sup>[3]</sup>ult little quoted side by side,<span style=\"background-color:#d8daef;\"><br><br>“Have you heard from M</span><sup>[1]</sup>esy -I own means to take the hotel. They met<span style=\"background-color:#d8daef;\"> them<br>all; and it was h</span><sup>[1]</sup>er heart in voice<br><span style=\"background-color:#d8daef;\">that circumstances had been</span><sup>[1]</sup> already<br>purseut. It was pleasure that those cares from the harduring time of life; it really believed that those<br>was reasonable than her own power, or deel it entertained but to<br>the superficial corner, who, which is always going to bed or a<br>joy of the strawberries.)<br><br>I smiled dryingled and entarling to the window. But he admired him<br>drew her naper, but made no imagination between<br>himl's. <span style=\"background-color:#d8daef;\">The whole party were assembled, </span><sup>[1]</sup><span style=\"background-color:#e2d7d5;\">and pacing to and fro </span><sup>[4]</sup>at<br>the Hartfhmest as she behind in that scandator on Wevharies. I admire your affection.”<br><br>He began spoken soon. He was a t"
      ],
      "text/plain": [
       "<IPython.core.display.HTML object>"
      ]
     },
     "metadata": {},
     "output_type": "display_data"
    },
    {
     "data": {
      "text/html": [
       "<small><p style=\"text-align:right;\">Sources: <span style=\"background-color:#ebdef0;\">voyage-out-virginia-woolf</span><sup>[2]</sup>, <span style=\"background-color:#eadbd8;\">pride-prejudice-jane-austen</span><sup>[3]</sup>, <span style=\"background-color:#d8daef;\">emma-jane-austen</span><sup>[1]</sup>, <span style=\"background-color:#e2d7d5;\">wuthering-heights-emily-bronte</span><sup>[4]</sup></p></small>"
      ],
      "text/plain": [
       "<IPython.core.display.HTML object>"
      ]
     },
     "metadata": {},
     "output_type": "display_data"
    },
    {
     "name": "stdout",
     "output_type": "stream",
     "text": [
      "---------------------------------------\n",
      "Epoch: 421.39, iter: 205000, cross-entropy: 0.393, accuracy: 0.88900\n",
      "   y: isits were one | of the comforts of Mr. Woodhouse’s life; and upon being applied to, he | could not \n",
      "  yp: enit  tare mve of the conforts of Mr. Woodhouse’s life; and upon being applied to, he | could not \n",
      "Epoch: 421.80, iter: 205200, cross-entropy: 0.391, accuracy: 0.88656\n",
      "   y: ep you in; and you stealing | off so!  It shows you are a cunning little fox, and nobody will put \n",
      "  yp:  n tou tn  and Iou meealing | off do!  It shows you are a cunning little for, and nowody bill prt \n",
      "Epoch: 422.21, iter: 205400, cross-entropy: 0.394, accuracy: 0.88477\n",
      "   y: ppose that those | wishes, however openly or artfully spoken, could influence a young man | so total\n",
      "  yp: r ose that theue withes  towever lpenly or artfully seoken  conld influence a young man | ho total\n",
      "Epoch: 422.62, iter: 205600, cross-entropy: 0.406, accuracy: 0.88070\n",
      "   y: eed must be all her attentions, vain and useless her | affection for his sister and her praise of \n",
      "  yp:   d tost be a l cir attentions  vein and useless her | affection for his oister and her preise of \n",
      "Epoch: 423.03, iter: 205800, cross-entropy: 0.408, accuracy: 0.87858\n",
      "   y: ns familiarly and minutely, and gave her a great deal of advice, | as to the management of them al\n",
      "  yp: eehorriliar y asd pogutely  and tave her a goeat deal tf advice, | as to the management of thom al\n",
      "Epoch: 423.44, iter: 206000, cross-entropy: 0.402, accuracy: 0.88509\n",
      "   y: nd with the competence of long use. |  | \"My wife's brother,\" Ridley explained to Hilda, whom he fai\n",
      "  yp: nd tath ahe sompltence of wong unu. |  |  | My wife's brother \" Ridley explained to Hilda, whom he fai\n",
      "Epoch: 423.85, iter: 206200, cross-entropy: 0.383, accuracy: 0.88770\n",
      "   y: er letter of thanks. |  | On the following Monday, Mrs. Bennet had the pleasure of receiving her | bro\n",
      "  yp: e  aatter wf thatks  |  | On the following Monday, Mrs. Bennet had the pleasure of receiving her | bro\n",
      "Epoch: 424.27, iter: 206400, cross-entropy: 0.372, accuracy: 0.89290\n",
      "   y: very pale, and seemed unable to say any more. |  | The little gush of vitality which had come into E\n",
      "  yp: tery srte  and hhemed tnable to say any more. |  | The little gush of vitality which had come into E\n",
      "Epoch: 424.68, iter: 206600, cross-entropy: 0.381, accuracy: 0.88900\n",
      "   y: You are the worst judge in the world, Mr. Knightley, of the | difficulties of dependence. You do n\n",
      "  yp: tou are ioe porst oudge in the world. Mr. Knightley, of the | difficulties of dependence. You do n\n",
      "Epoch: 425.09, iter: 206800, cross-entropy: 0.379, accuracy: 0.88900\n",
      "   y: know we are | not really so much brother and sister as to make it at all improper.” |  | “Brother and \n",
      "  yp: tnow th are tow really so much srother and sister as to make it at all improper.” |  | “Brother and \n",
      "Epoch: 425.50, iter: 207000, cross-entropy: 0.359, accuracy: 0.89697\n",
      "   y: rs. But when he suddenly perceived Rachel, all these thoughts | were driven out of his head, and h\n",
      "  yp:      ut hhan te hupdenly burceived Rachel, all these thoughts | were diiven out of hes head, and h\n",
      "Epoch: 425.91, iter: 207200, cross-entropy: 0.393, accuracy: 0.88118\n",
      "   y: tory over him, continued her triumph. |  | \"I cannot see that London has any great advantage over th\n",
      "  yp: e re afer tes, boutinued her feiumph. |  | \"I aan ot see that London has sny great edvantage over th\n",
      "Epoch: 426.32, iter: 207400, cross-entropy: 0.372, accuracy: 0.89258\n",
      "   y: face. \"I've never | weighed more than ten stone in my life,\" he said, \"which is ridiculous, | consid\n",
      "  yp: toce   I ve never | weighed more than ten stone in my life.\" he said, \"which is ridiculous, | consid\n",
      "Epoch: 426.73, iter: 207600, cross-entropy: 0.391, accuracy: 0.88428\n",
      "   y: d set with stolid cows, and clouds | dipping low and trailing across the green hills. As he sat in\n",
      "  yp:   the uith sponid toms, and clouds aipping low and trailing across the groen halls. As he sat in\n",
      "Epoch: 427.14, iter: 207800, cross-entropy: 0.395, accuracy: 0.88428\n",
      "   y: od heart, thenceforth, in avoiding both | complaints and expressions of antipathy concerning Heath\n",
      "  yp:  k tirdt, she ceforth, sn adoiding toth | compaaints and expressions of anyipathy goncerning Heath\n",
      "Epoch: 427.55, iter: 208000, cross-entropy: 0.378, accuracy: 0.89128\n",
      "   y: ll be a | while: you'll be spared to repent of your many injustices yet! I never | expected that you\n",
      "  yp: nl ae a ghile: you'dl be spared to repent if your oery imjustices yet. I never | expected that tou\n",
      "Epoch: 427.97, iter: 208200, cross-entropy: 0.386, accuracy: 0.88688\n",
      "   y: rute?  How have I treated you | infernally?' |  | 'I seek no revenge on you,' replied Heathcliff, less\n",
      "  yp: eoced\" Iewemave I treated you infernally?' |  | 'I shek no revenge on you,' replied Heathcliff, sess\n",
      "Epoch: 428.38, iter: 208400, cross-entropy: 0.398, accuracy: 0.88428\n",
      "   y: ed with himself! My dear Emma, your own good sense could not | endure such a puppy when it came to\n",
      "  yp: e  tith aem elf   y bear Emma, your own good sense,could not | endure tush a pugpy when it come to\n",
      "Epoch: 428.79, iter: 208600, cross-entropy: 0.385, accuracy: 0.88770\n",
      "   y: ntained, when separated from all the feebleness and tautology of | the narration, a substance to s\n",
      "  yp: u innld  aaan thcarated from anl the oeebleness and aoutology of | the narration, a substance to s\n",
      "Epoch: 429.20, iter: 208800, cross-entropy: 0.405, accuracy: 0.87858\n",
      "   y: she is for you!' |  | I do not know whether it was sorrow for him, but his cousin put on as sad | a co\n",
      "  yp: the hs tor your' |  | I do not know whether it was sorrow for him, aut hes cousin put on as sav | a co\n",
      "Epoch: 429.61, iter: 209000, cross-entropy: 0.384, accuracy: 0.88184\n",
      "   y: re came near to | explode it.  Catherine had seasons of gloom and silence now and then: | they were \n",
      "  yp: n dtone iear to | mxplode it.  Catherine sad seasons of gloom and silence aow and then: | they were \n",
      "Epoch: 430.02, iter: 209200, cross-entropy: 0.376, accuracy: 0.88428\n",
      "   y: s impossible; but she was flattered and | pleased. His wish of introducing his sister to her, was \n",
      "  yp: n tnmossible  fut hhe was duattered and pleased. His wish of introducing his sister to her, was \n",
      "Epoch: 430.43, iter: 209400, cross-entropy: 0.385, accuracy: 0.88753\n",
      "   y: To all the | objections I have already urged, I have still another to add. I am no | stranger to the\n",
      "  yp: th t lothe fbjections I have already urged, I have still another to add. I am no | stranger to the\n",
      "Epoch: 430.84, iter: 209600, cross-entropy: 0.380, accuracy: 0.88965\n",
      "   y: g question. |  | “Oh! perfectly. I am always well, you know. Be sure to give me | intelligence of the \n",
      "  yp:   tuistion.  | 'Mh! perhectly. I am always woll, you know. Me sure to hive me | indelligence.of the \n",
      "Epoch: 431.25, iter: 209800, cross-entropy: 0.390, accuracy: 0.88542\n",
      "   y: ssistance | towards discharging their bills. Their manner of living, even when the | restoration of \n",
      "  yp: n entance,oo ards hiscoarging their bills. Their manner of living, pven when the | festoration of \n",
      "----------------- temperature = 0.2 ----------------------\n"
     ]
    },
    {
     "data": {
      "text/html": [
       "<span style=\"background-color:#d8daef;\">                                                       </span><sup>[1]</sup><span style=\"background-color:#d8daef;\">                                                       </span><sup>[1]</sup><span style=\"background-color:#d8daef;\">                                                       </span><sup>[1]</sup><span style=\"background-color:#d8daef;\">                                                       </span><sup>[1]</sup><span style=\"background-color:#d8daef;\">                                                       </span><sup>[1]</sup><span style=\"background-color:#d8daef;\">                                                       </span><sup>[1]</sup><span style=\"background-color:#d8daef;\">                                                       </span><sup>[1]</sup><span style=\"background-color:#d8daef;\">                                                       </span><sup>[1]</sup><span style=\"background-color:#d8daef;\">                                                       </span><sup>[1]</sup><span style=\"background-color:#d8daef;\">                                                       </span><sup>[1]</sup><span style=\"background-color:#d8daef;\">                                                       </span><sup>[1]</sup><span style=\"background-color:#d8daef;\">                                                       </span><sup>[1]</sup><span style=\"background-color:#d8daef;\">                                                       </span><sup>[1]</sup><span style=\"background-color:#d8daef;\">                                                       </span><sup>[1]</sup><span style=\"background-color:#d8daef;\">                                                       </span><sup>[1]</sup><span style=\"background-color:#d8daef;\">                                                       </span><sup>[1]</sup><span style=\"background-color:#d8daef;\">                                                       </span><sup>[1]</sup><span style=\"background-color:#d8daef;\">                                                       </span><sup>[1]</sup>          "
      ],
      "text/plain": [
       "<IPython.core.display.HTML object>"
      ]
     },
     "metadata": {},
     "output_type": "display_data"
    },
    {
     "data": {
      "text/html": [
       "<small><p style=\"text-align:right;\">Sources: <span style=\"background-color:#d8daef;\">emma-jane-austen</span><sup>[1]</sup></p></small>"
      ],
      "text/plain": [
       "<IPython.core.display.HTML object>"
      ]
     },
     "metadata": {},
     "output_type": "display_data"
    },
    {
     "name": "stdout",
     "output_type": "stream",
     "text": [
      "----------------- temperature = 0.6 ----------------------\n"
     ]
    },
    {
     "data": {
      "text/html": [
       "<span style=\"background-color:#d8daef;\">                                                       </span><sup>[1]</sup><span style=\"background-color:#d8daef;\">                                                       </span><sup>[1]</sup><span style=\"background-color:#d8daef;\">                                                       </span><sup>[1]</sup><span style=\"background-color:#d8daef;\">                                                       </span><sup>[1]</sup><span style=\"background-color:#d8daef;\">                                                       </span><sup>[1]</sup><span style=\"background-color:#d8daef;\">                                            WINDSOR-JULY.<br>MY DEAR </span><sup>[1]</sup>.NERBEI,<br><br><br><br>CHAPTER I<br><br><br>It they had a tender <span style=\"background-color:#e2d7d5;\">sense of mortification and </span><sup>[4]</sup>agreeable qualities of life,<br>the sisters were many, sometimes<span style=\"background-color:#eadbd8;\"> to make her feel what she </span><sup>[3]</sup>meant but from<br>breath, but perfectly compassion. All the most stag<span style=\"background-color:#eadbd8;\">e of the gentlemen w</span><sup>[3]</sup>ere<br>interrupted by the past, which communicated;<br>and then had always proposed to undose any pleasure that all would be<br>incoppertent, and it is hot, she thought, but if he cared! I owed; and I hope<br>with her mother, and released in a manner, no doubt, that he had not another<br>home of defend of his<span style=\"background-color:#d8daef;\"> attachment on his side--but no</span><sup>[1]</sup>t long ago<br>dreadful yet!<span style=\"background-color:#e2d7d5;\">' I said.  'Have you no </span><sup>[4]</sup>obled<br>or Lady Catherine to good his bus"
      ],
      "text/plain": [
       "<IPython.core.display.HTML object>"
      ]
     },
     "metadata": {},
     "output_type": "display_data"
    },
    {
     "data": {
      "text/html": [
       "<small><p style=\"text-align:right;\">Sources: <span style=\"background-color:#d8daef;\">emma-jane-austen</span><sup>[1]</sup>, <span style=\"background-color:#e2d7d5;\">wuthering-heights-emily-bronte</span><sup>[4]</sup>, <span style=\"background-color:#eadbd8;\">pride-prejudice-jane-austen</span><sup>[3]</sup></p></small>"
      ],
      "text/plain": [
       "<IPython.core.display.HTML object>"
      ]
     },
     "metadata": {},
     "output_type": "display_data"
    },
    {
     "name": "stdout",
     "output_type": "stream",
     "text": [
      "----------------- temperature = 1.0 ----------------------\n"
     ]
    },
    {
     "data": {
      "text/html": [
       "<span style=\"background-color:#d8daef;\">                                      WINDSOR-J</span><sup>[1]</sup>OLO.RTAEB .<span style=\"background-color:#d8daef;\">”<br><br>“I cannot make a question</span><sup>[1]</sup> from what you have just retained supply that morning<br>I guellled, bother, alterable, breakfast and die.  Our room with his hands before,<br>and<span style=\"background-color:#d8daef;\"> cared nothing about him. </span><sup>[1]</sup>No signat of the hotel by<br>spoil in their absorbed in him. He had a very few ingonious of her<br>importance, and she sat in her<br>way that there was little self-denial and solemn in the marriage, and<br>he found it into into Mr. Heathcliff.  She let down with it as the<br>other; their voice had recovered their absence from the Bar, was what her half<br>and herself when she returned this appearance as he refused some to Bingley, or any other<br>happy duty.<br><br>\"Sure Alfreven,<span style=\"background-color:#ebdef0;\">\" she cried.<br><br>Terence murmured </span><sup>[2]</sup>all the gentlemen attending to the hearthst of<br>her past private gave a daze of air, and to make Lady<br>Catherine, being under an awnn, and manady supplication; an uncle, on no account.--But perhaps<br>Mr. Perry, and Farly madness before they went up to her card: b"
      ],
      "text/plain": [
       "<IPython.core.display.HTML object>"
      ]
     },
     "metadata": {},
     "output_type": "display_data"
    },
    {
     "data": {
      "text/html": [
       "<small><p style=\"text-align:right;\">Sources: <span style=\"background-color:#d8daef;\">emma-jane-austen</span><sup>[1]</sup>, <span style=\"background-color:#ebdef0;\">voyage-out-virginia-woolf</span><sup>[2]</sup></p></small>"
      ],
      "text/plain": [
       "<IPython.core.display.HTML object>"
      ]
     },
     "metadata": {},
     "output_type": "display_data"
    },
    {
     "name": "stdout",
     "output_type": "stream",
     "text": [
      "---------------------------------------\n",
      "Epoch: 431.67, iter: 210000, cross-entropy: 0.379, accuracy: 0.88753\n",
      "   y: was | not sorry to have such an opportunity of survey; and walking a few | yards forward, while they\n",
      "  yp: tas tot ao ry to have such an opportunity of sarvey, and walking a few | yards forward, while they\n",
      "Epoch: 432.08, iter: 210200, cross-entropy: 0.395, accuracy: 0.88753\n",
      "   y:  so intimate that I think it | strange you won't come and speak to me.  My housekeeper never weari\n",
      "  yp: \" omittimate that s chink ot | whrange you won't come and speak to me.  Ma housekeeper never weari\n",
      "Epoch: 432.49, iter: 210400, cross-entropy: 0.377, accuracy: 0.88802\n",
      "   y: at | kind of thing makes this kind of thing rather flimsy? Did you notice at | tea how poor old Hewe\n",
      "  yp: et hindnof saing Iikes mhis kind of thing eather flimsy? Did you notice at | tea how poor old Hewe\n",
      "Epoch: 432.90, iter: 210600, cross-entropy: 0.366, accuracy: 0.89160\n",
      "   y: to write very often and very minutely | to her mother and Kitty; but her letters were always long \n",
      "  yp: th hhite tery df en and very minutely | to her mother and Mitty; but her letters were always loog \n",
      "Epoch: 433.31, iter: 210800, cross-entropy: 0.390, accuracy: 0.88688\n",
      "   y: ' |  | 'Oh, indeed!  Well, then, I must trust to my own sagacity.' |  | 'Umph!' |  | 'Are you going to mak' \n",
      "  yp:   |  | 'Nh, ytdeed!' Well, then, I must trust to my own sagacity.' |  | 'Umph!  |  | 'Are you going to mak' \n",
      "Epoch: 433.72, iter: 211000, cross-entropy: 0.364, accuracy: 0.89323\n",
      "   y: puzzled her sister at seventeen. She was always | quick and assured: Isabella slow and diffident. \n",
      "  yp: tarzled.tor dister,ts leeenteen. She was always | quick and assured: Isabella slow and diffident. \n",
      "Epoch: 434.13, iter: 211200, cross-entropy: 0.402, accuracy: 0.88281\n",
      "   y: he bottle, \"we have seen many climes and cupboards | together, have we not? I intend one of these \n",
      "  yp:  e seotle |  hae have seen many climes and chpboards | together, have we not? I intend one of these \n",
      "Epoch: 434.54, iter: 211400, cross-entropy: 0.392, accuracy: 0.88867\n",
      "   y: ills | were also in town; and they were only waiting for November. |  | The intermediate month was the\n",
      "  yp: esl  here g mo in town; and fhey were only waiting for Nevember. |  | The intermediate month was the\n",
      "Epoch: 434.95, iter: 211600, cross-entropy: 0.384, accuracy: 0.88867\n",
      "   y: y could describe an | entertainment with accuracy, relate an anecdote with humour, and laugh | at th\n",
      "  yp:   would noscribe anyenqertainment with adcuracy, relati an enecdoti with humaur, and laugh | at th\n",
      "Epoch: 435.37, iter: 211800, cross-entropy: 0.396, accuracy: 0.88525\n",
      "   y: of the lonely parlour, converting it into a nursery: | and there I was, sitting with the moaning d\n",
      "  yp: tf the hiogli;cartour, conterting it wnto a tursery  | and thene I was  sitting with the moaning d\n",
      "Epoch: 435.78, iter: 212000, cross-entropy: 0.381, accuracy: 0.88965\n",
      "   y: ; yet, notwithstanding, evidence of a | wealthy soil, that might yield luxuriant crops under other\n",
      "  yp: e aot  iow ithst nding, mvidence ln a | wealthy soil- that might hield luxuriant crops under other\n",
      "Epoch: 436.19, iter: 212200, cross-entropy: 0.374, accuracy: 0.88900\n",
      "   y: liot. \"He will melt before I | shall.\" Indeed, if so much as a drop had melted off his spare ribs,\n",
      "  yp: e nn,  Io moll falt hefore I shall.\" Indeed, hf so much as a drop hed mulaed off his ppare ribs,\n",
      "Epoch: 436.60, iter: 212400, cross-entropy: 0.383, accuracy: 0.88802\n",
      "   y: ady | wit”--but then the “soft eyes”--in fact it suited neither; it was | a jumble without taste or \n",
      "  yp:  r  aath -but twen the csoft oles!--in fact it suited neither; it was | a jumble without taste or \n",
      "Epoch: 437.01, iter: 212600, cross-entropy: 0.389, accuracy: 0.88688\n",
      "   y: under and the first heavy drop | striking the pane caused a little stir. |  | \"It's coming!\" was said \n",
      "  yp: erd r tnd the sarst meary drop | striking the pane caused a little stil.  | \"It's qoming!\" was said \n",
      "Epoch: 437.42, iter: 212800, cross-entropy: 0.362, accuracy: 0.89290\n",
      "   y: er been more at a loss to make her | feelings appear what they were not. It was necessary to laugh\n",
      "  yp: eryae n aare st Hlsoss to make her | aeelings appear.what they were got. St was nocessary,to laugh\n",
      "Epoch: 437.83, iter: 213000, cross-entropy: 0.395, accuracy: 0.88623\n",
      "   y: confidences and | expressions of love that were heard not only in cornfields but in | lamplit rooms,\n",
      "  yp: tontidence  and txaressions of iove that were heard not only in cornfields but in | lamplit rooms,\n",
      "Epoch: 438.24, iter: 213200, cross-entropy: 0.381, accuracy: 0.88672\n",
      "   y: s already without | success, and what we are to talk of next I cannot imagine.\" |  | \"What think you o\n",
      "  yp: h anleady,wath ut duccess, and what we hre to lalk of text I cannot imagine.\" |  | \"What think you o\n",
      "Epoch: 438.65, iter: 213400, cross-entropy: 0.390, accuracy: 0.88965\n",
      "   y: master's return. | Isabella was dead; and he wrote to bid me get mourning for his daughter, | and ar\n",
      "  yp: tonter s sepurn, | Utabella was dead; and he wrote to bid me get morrning aor his daughter, | and ar\n",
      "Epoch: 439.07, iter: 213600, cross-entropy: 0.374, accuracy: 0.89274\n",
      "   y: bservation of the | day altogether, she believed Lady Catherine to be exactly what he had | represen\n",
      "  yp: nlervition of hhe say antogether; she believed Lady Catherine to be pxpmtly what he had | represen\n",
      "Epoch: 439.48, iter: 213800, cross-entropy: 0.369, accuracy: 0.89600\n",
      "   y: efore she could at | all recollect what letter it was which they were so anxious for. |  | “Are you we\n",
      "  yp: e ore hhe hould bt all cecollect what letter it was nhach they were ao umxious for.  | “Are you we\n",
      "Epoch: 439.89, iter: 214000, cross-entropy: 0.403, accuracy: 0.87663\n",
      "   y: ot even the pitifullest old | spinet in the world, to amuse herself with.--I was saying this to | Mr\n",
      "  yp:  t txen oha wrcifullest old | seinet in the world- to amuse hirself with. -I | was saying this to | Mr\n",
      "Epoch: 440.30, iter: 214200, cross-entropy: 0.364, accuracy: 0.89128\n",
      "   y: y station, and blowing out | the light. |  | There was such anguish in the gush of grief that accompan\n",
      "  yp: e foiteon, ogd tyowing out | the light. |  | There was such an uish in the grsh of graef that accompan\n",
      "Epoch: 440.71, iter: 214400, cross-entropy: 0.393, accuracy: 0.88411\n",
      "   y: t courage | enough to make a very low bow, and take his seat without saying a word; | and his daught\n",
      "  yp:   tannsge tntugh to make a very low bow, and take his seat with ut seying a word; | and his daught\n",
      "Epoch: 441.12, iter: 214600, cross-entropy: 0.376, accuracy: 0.88770\n",
      "   y: ct him, with some | slight coaxing.  He's a pretty little darling when he's good.  I'd make | such a\n",
      "  yp:  titem  aith aome ceight couxing.  He s a paetty little dirling when he s good.  I'd make | Euch a\n",
      "Epoch: 441.53, iter: 214800, cross-entropy: 0.375, accuracy: 0.88770\n",
      "   y: e a dejected flower drooping in his buttonhole, | like an exhausted animal over a gate, added to t\n",
      "  yp: l tngeaicted | faower drooping in his artton-ole, | like tnyexhausted animal-over a tote, added to t\n",
      "----------------- temperature = 0.2 ----------------------\n"
     ]
    },
    {
     "data": {
      "text/html": [
       "<span style=\"background-color:#d8daef;\">                                                       </span><sup>[1]</sup><span style=\"background-color:#d8daef;\">                                                       </span><sup>[1]</sup><span style=\"background-color:#d8daef;\">                                                       </span><sup>[1]</sup><span style=\"background-color:#d8daef;\">                                                       </span><sup>[1]</sup><span style=\"background-color:#d8daef;\">                                                       </span><sup>[1]</sup><span style=\"background-color:#d8daef;\">                                                       </span><sup>[1]</sup><span style=\"background-color:#d8daef;\">                                                       </span><sup>[1]</sup><span style=\"background-color:#d8daef;\">                                                       </span><sup>[1]</sup><span style=\"background-color:#d8daef;\">                                                       </span><sup>[1]</sup><span style=\"background-color:#d8daef;\">                                                       </span><sup>[1]</sup><span style=\"background-color:#d8daef;\">                                                       </span><sup>[1]</sup><span style=\"background-color:#d8daef;\">                                                       </span><sup>[1]</sup><span style=\"background-color:#d8daef;\">                                                       </span><sup>[1]</sup><span style=\"background-color:#d8daef;\">                                                       </span><sup>[1]</sup><span style=\"background-color:#d8daef;\">                                                       </span><sup>[1]</sup><span style=\"background-color:#d8daef;\">                                                       </span><sup>[1]</sup><span style=\"background-color:#d8daef;\">                                                       </span><sup>[1]</sup><span style=\"background-color:#d8daef;\">                                                       </span><sup>[1]</sup>          "
      ],
      "text/plain": [
       "<IPython.core.display.HTML object>"
      ]
     },
     "metadata": {},
     "output_type": "display_data"
    },
    {
     "data": {
      "text/html": [
       "<small><p style=\"text-align:right;\">Sources: <span style=\"background-color:#d8daef;\">emma-jane-austen</span><sup>[1]</sup></p></small>"
      ],
      "text/plain": [
       "<IPython.core.display.HTML object>"
      ]
     },
     "metadata": {},
     "output_type": "display_data"
    },
    {
     "name": "stdout",
     "output_type": "stream",
     "text": [
      "----------------- temperature = 0.6 ----------------------\n"
     ]
    },
    {
     "data": {
      "text/html": [
       "<span style=\"background-color:#d8daef;\">                                                       </span><sup>[1]</sup><span style=\"background-color:#d8daef;\">                                                       </span><sup>[1]</sup><span style=\"background-color:#d8daef;\">                                                       </span><sup>[1]</sup>  W.NH. Yes! only three week<span style=\"background-color:#eadbd8;\">s of my acquaintance, </span><sup>[3]</sup>which I should try to eat.\"<br><br>\"It may be a fair change of earth and seeing it?\"<br><br>\"I never hear it very far,\" Mr. Thanzed Hareton, in the days that makes we<br>this public places. Why how to leave Her --Vuey!”<br><br><span style=\"background-color:#d8daef;\">Emma particularly ad</span><sup>[1]</sup>vanced, her<span style=\"background-color:#d8daef;\"> daughter’s attachment to</span><sup>[1]</sup>wards him, with a little subsequent<br>comment, employing her;<span style=\"background-color:#eadbd8;\"> and Mr. Wickham walked </span><sup>[3]</sup>hours liking every body<br>for them, in their fathers, and the breeze looked at the funeral<br>grain over him very slightly,<span style=\"background-color:#d8daef;\"> though she had intended </span><sup>[1]</sup>her past present<span style=\"background-color:#eadbd8;\"><br>     of your daughter w</span><sup>[3]</sup>e dare see only to me. I can join my name<span style=\"background-color:#eadbd8;\"> a young woman of<br>in</span><sup>[3]</sup>difference, that a little property of speaking to yourself endower. Perhaps<br><span style=\"background-color:#e2d7d5;\">you have nothing to </span><sup>[4]</sup>say as you do, and called out of his head, she<br>proceeded faded, cold, and dress she saw me; but with"
      ],
      "text/plain": [
       "<IPython.core.display.HTML object>"
      ]
     },
     "metadata": {},
     "output_type": "display_data"
    },
    {
     "data": {
      "text/html": [
       "<small><p style=\"text-align:right;\">Sources: <span style=\"background-color:#d8daef;\">emma-jane-austen</span><sup>[1]</sup>, <span style=\"background-color:#eadbd8;\">pride-prejudice-jane-austen</span><sup>[3]</sup>, <span style=\"background-color:#e2d7d5;\">wuthering-heights-emily-bronte</span><sup>[4]</sup></p></small>"
      ],
      "text/plain": [
       "<IPython.core.display.HTML object>"
      ]
     },
     "metadata": {},
     "output_type": "display_data"
    },
    {
     "name": "stdout",
     "output_type": "stream",
     "text": [
      "----------------- temperature = 1.0 ----------------------\n"
     ]
    },
    {
     "data": {
      "text/html": [
       "<span style=\"background-color:#d8daef;\">                                                       </span><sup>[1]</sup><span style=\"background-color:#d8daef;\">                                                       </span><sup>[1]</sup>       , Novel Lucas shrughts, we final allowed the most distant evening.<br><br>The others moving in the bakerr<span style=\"background-color:#ebdef0;\">e of the table, with</span><sup>[2]</sup>out any<br>difficulty<span style=\"background-color:#ebdef0;\">. The first thing he looked for when he st</span><sup>[2]</sup>aid with his<br>hands in misery, actually with repenting light, pushing out, advised her to<br>place power, would far him off, Hirst, Hill<span style=\"background-color:#d8daef;\">,<br>who will probably be some </span><sup>[1]</sup>great truth of all her marriage. Lif bothers all the<br>thin like of the ballows'<span style=\"background-color:#eadbd8;\">.\"<br><br>\"Mr. Collins appears very </span><sup>[3]</sup>long.”<br><br>“<span style=\"background-color:#d8daef;\">And how could it be s</span><sup>[1]</sup>o need<span style=\"background-color:#eadbd8;\">ed three or four times</span><sup>[3]</sup>, like his last always<span style=\"background-color:#d8daef;\"> at Hartfield,<br>and h</span><sup>[1]</sup>ad secured it, he did not end a picture of any body else, to<br>langure her mind? Come, he actually sounded me, and Miss Nash receiving her song.<br><br>“I certainly will, my dear. I med her resolution<br>overrate--and the whole Onimeamy of your life,\" he said, with a smile<span style=\"background-color:#eadbd8;\">, and shook her head </span><sup>[3]</sup>in<br>the silence as these,<span style=\"background-color:#ebdef0;\"> whether he wanted to </span><sup>[2]</sup>speak w"
      ],
      "text/plain": [
       "<IPython.core.display.HTML object>"
      ]
     },
     "metadata": {},
     "output_type": "display_data"
    },
    {
     "data": {
      "text/html": [
       "<small><p style=\"text-align:right;\">Sources: <span style=\"background-color:#d8daef;\">emma-jane-austen</span><sup>[1]</sup>, <span style=\"background-color:#ebdef0;\">voyage-out-virginia-woolf</span><sup>[2]</sup>, <span style=\"background-color:#eadbd8;\">pride-prejudice-jane-austen</span><sup>[3]</sup></p></small>"
      ],
      "text/plain": [
       "<IPython.core.display.HTML object>"
      ]
     },
     "metadata": {},
     "output_type": "display_data"
    },
    {
     "name": "stdout",
     "output_type": "stream",
     "text": [
      "---------------------------------------\n",
      "Epoch: 441.94, iter: 215000, cross-entropy: 0.368, accuracy: 0.89567\n",
      "   y: n’s | approbation while he writes with such gallantry.” |  | “I have no hesitation in saying,” replied\n",
      "  yp: nds cpprobation while he writes with such grllantry.” |  | “I have no hesitation in saying,” replied\n",
      "Epoch: 442.35, iter: 215200, cross-entropy: 0.400, accuracy: 0.87923\n",
      "   y: have never met a woman who even saw what is meant by statesmanship. I am | going to make you still\n",
      "  yp:  | ede aover ket w woman who even saw what is meant by mtatesmanship. I am | going to make you utill\n",
      "Epoch: 442.77, iter: 215400, cross-entropy: 0.378, accuracy: 0.88965\n",
      "   y: s without him.\" |  | \"So much the better. I hope they will not meet at all. But does not Jane | corres\n",
      "  yp: e aeth ut aes - |  | \"Bh much the better. I aope they will not meet at all. But does not sane | corres\n",
      "Epoch: 443.18, iter: 215600, cross-entropy: 0.370, accuracy: 0.89242\n",
      "   y: ive as this had not occurred to her. She was sensible of all | the affection it evinced. She felt \n",
      "  yp: hoe tn thes,mop bot bncurred to her. She was sonsible tf all | the offection it evinced. She felt \n",
      "Epoch: 443.59, iter: 215800, cross-entropy: 0.374, accuracy: 0.89307\n",
      "   y: wever, as to press for it, if inconvenient. Adieu. I |      take up my pen again to do, what I hav\n",
      "  yp:   ver  tn th mress aor tt  if ytconsenient. Adieu. I |      take up wy pen anain to di  Ihat c hav\n",
      "Epoch: 444.00, iter: 216000, cross-entropy: 0.370, accuracy: 0.89372\n",
      "   y: t of Mr. Knightley and | themselves. |  | Harriet, who had been standing in no unhappy reverie, was ye\n",
      "  yp: r tf tr. Bnightley and them elves.  | Harriet, who had been stitding bn no unhappy reverie, was ye\n",
      "Epoch: 444.41, iter: 216200, cross-entropy: 0.389, accuracy: 0.88867\n",
      "   y: haw was off | with his dogs--robbing our woods of pheasants, as I heard afterwards--we | might do wh\n",
      "  yp:  el was nff wath ais fogs,-robbing our womds of pheasants, an I heard afterwards,-we | might do wh\n",
      "Epoch: 444.82, iter: 216400, cross-entropy: 0.387, accuracy: 0.88737\n",
      "   y: , oh! Mrs. Weston, if there | were an account drawn up of the evil and the good I have done Miss | F\n",
      "  yp: e af! Ar.. Weston, if she | e | were anyaccount drawn up if the evil and ahe aeod s aave done Mrss | F\n",
      "Epoch: 445.23, iter: 216600, cross-entropy: 0.381, accuracy: 0.88786\n",
      "   y: e may lose the opportunity of fixing him; and | it will then be but poor consolation to believe th\n",
      "  yp: e won best themopportunity of gining him; and | it will then be but poor consolation to believe th\n",
      "Epoch: 445.64, iter: 216800, cross-entropy: 0.380, accuracy: 0.88656\n",
      "   y:  was | high, she immediately said, |  | \"Mr. Darcy, I am a very selfish creature; and, for the sake of\n",
      "  yp:  tas aesh  she fmmediately said, |  | \"Mr. Darcy, I am a very selfish creature  and, for the sake of\n",
      "Epoch: 446.05, iter: 217000, cross-entropy: 0.357, accuracy: 0.89632\n",
      "   y: \" |  | \"You may depend on it,\" replied the other, \"for Mrs. Nicholls was in | Meryton last night; I sa\n",
      "  yp: \" |  | \"Beu'hay desend on it,\" replied the other, \"for Mrs. Nicholls was in | Meryton last night; I sa\n",
      "Epoch: 446.47, iter: 217200, cross-entropy: 0.397, accuracy: 0.88558\n",
      "   y: must acknowledge to be true.\" |  | \"Certainly, my dear, nobody said there were; but as to not meetin\n",
      "  yp: toct blknowledge th be true.  |  | \"Iertainly, my dear, nobody said there were  but ar to not meetin\n",
      "Epoch: 446.88, iter: 217400, cross-entropy: 0.385, accuracy: 0.88721\n",
      "   y:  hardly time to talk over the first letter | from Enscombe before “Mr. Elton and his bride” was in\n",
      "  yp:  aeddly pime to aalk tver the nirst letter | from Enscombe before “Mr. Elton and his bride” was in\n",
      "Epoch: 447.29, iter: 217600, cross-entropy: 0.386, accuracy: 0.88770\n",
      "   y:  are you; you see, I know nothing about you,\" he | continued. |  | \"Well, I was coming to that,\" said \n",
      "  yp: htne bou? aou hhe, I know nothing obout you,\" he | continued. |  | \"Well, I was coming to that,\" said \n",
      "Epoch: 447.70, iter: 217800, cross-entropy: 0.382, accuracy: 0.89030\n",
      "   y: first | heavy rainfall,' I've told 'em, 'your road will be a swamp.' Again and | again my words have\n",
      "  yp: torst ceary deinfall,  I ve told 'em, 'your road will be a swemp.'  nain and | again my words have\n",
      "Epoch: 448.11, iter: 218000, cross-entropy: 0.378, accuracy: 0.89063\n",
      "   y: egs. \"Is any one here | inclined for a walk?\" he said. \"There's a magnificent walk, up behind | the \n",
      "  yp: e e  II  any one tore-itclined for a walk?\" he said. \"There's a magnificent walk, up behind | the \n",
      "Epoch: 448.52, iter: 218200, cross-entropy: 0.392, accuracy: 0.88753\n",
      "   y: opped to the ground | and sat absorbed in the thought of her, and soon tormented by the desire | to \n",
      "  yp: emeed to hhe dreund,and sht absorbed in the thought of her, and soon tormented by the desire | to \n",
      "Epoch: 448.93, iter: 218400, cross-entropy: 0.365, accuracy: 0.89372\n",
      "   y: nally; | and my interest in him, consequently, decayed: though still I was moved | with a sense of g\n",
      "  yp: ngr y  and ty cnterest in him, consequently, decayed: though still I was moved | with a sense of g\n",
      "Epoch: 449.34, iter: 218600, cross-entropy: 0.393, accuracy: 0.88688\n",
      "   y: ishment often | higher than it deserved. |  | There was merit in every drawing--in the least finished,\n",
      "  yp: ent ent af enepash r that it deserved. |  | There was merit in every orawing--in the least finished \n",
      "Epoch: 449.75, iter: 218800, cross-entropy: 0.374, accuracy: 0.88591\n",
      "   y: her look on him with fresh complacency. | Emma was directly sure that he knew how to make himself \n",
      "  yp: he  aioksan tim with cresh complaiency, | Emma was directly stre that he hnew how to make aimself \n",
      "Epoch: 450.17, iter: 219000, cross-entropy: 0.374, accuracy: 0.88623\n",
      "   y: cure of him, there will be leisure for falling | in love as much as she chuses.\" |  | \"Your plan is a \n",
      "  yp:  ale tf his  there woll be leisure for malling | in love as much as she chuses.\" |  | IYou  plan is aw\n",
      "Epoch: 450.58, iter: 219200, cross-entropy: 0.368, accuracy: 0.89502\n",
      "   y:  Miss Darcy as handsome as her brother?\" said Mr. Gardiner. |  | \"Oh! yes--the handsomest young lady\n",
      "  yp:  arss Bercy fn mevdsome as her brother?\" said Er. Gardiner. |  | \"Th! yes--the hapdsomest young lady\n",
      "Epoch: 450.99, iter: 219400, cross-entropy: 0.386, accuracy: 0.88704\n",
      "   y: hing but ourselves that an occasional twinge | is really rather pleasant.\" |  | Accusing him of an aff\n",
      "  yp: heng tut iurselves ahat afyoccasional twinge | is really rather pleasant.\" |  | \"ccusing him of an aff\n",
      "Epoch: 451.40, iter: 219600, cross-entropy: 0.382, accuracy: 0.88672\n",
      "   y:  no objection. She would not be | ashamed of the appearance of the penitence, so justly and truly \n",
      "  yp:  totdcjection; Ihe sould not be | ashamed of the appearance of the plnitence, so justly and aruly \n",
      "Epoch: 451.81, iter: 219800, cross-entropy: 0.363, accuracy: 0.89795\n",
      "   y: en--and | all the horror of being in danger of falling in with the second-rate and | third-rate of H\n",
      "  yp: e t-and tlt tha horror of boing in danglr of Gilling in lith the dacrnd-rate and | therd-rate of H\n",
      "----------------- temperature = 0.2 ----------------------\n"
     ]
    },
    {
     "data": {
      "text/html": [
       "<span style=\"background-color:#d8daef;\">                                                       </span><sup>[1]</sup><span style=\"background-color:#d8daef;\">                                                       </span><sup>[1]</sup><span style=\"background-color:#d8daef;\">                                                       </span><sup>[1]</sup><span style=\"background-color:#d8daef;\">                                                       </span><sup>[1]</sup><span style=\"background-color:#d8daef;\">                                                       </span><sup>[1]</sup><span style=\"background-color:#d8daef;\">                                                       </span><sup>[1]</sup><span style=\"background-color:#d8daef;\">                                                       </span><sup>[1]</sup><span style=\"background-color:#d8daef;\">                                                       </span><sup>[1]</sup><span style=\"background-color:#d8daef;\">                                                       </span><sup>[1]</sup><span style=\"background-color:#d8daef;\">                                                       </span><sup>[1]</sup><span style=\"background-color:#d8daef;\">                                                       </span><sup>[1]</sup><span style=\"background-color:#d8daef;\">                                                       </span><sup>[1]</sup><span style=\"background-color:#d8daef;\">                                                       </span><sup>[1]</sup><span style=\"background-color:#d8daef;\">                                                       </span><sup>[1]</sup><span style=\"background-color:#d8daef;\">                                                       </span><sup>[1]</sup><span style=\"background-color:#d8daef;\">                                                       </span><sup>[1]</sup><span style=\"background-color:#d8daef;\">                                                       </span><sup>[1]</sup><span style=\"background-color:#d8daef;\">                                                       </span><sup>[1]</sup>          "
      ],
      "text/plain": [
       "<IPython.core.display.HTML object>"
      ]
     },
     "metadata": {},
     "output_type": "display_data"
    },
    {
     "data": {
      "text/html": [
       "<small><p style=\"text-align:right;\">Sources: <span style=\"background-color:#d8daef;\">emma-jane-austen</span><sup>[1]</sup></p></small>"
      ],
      "text/plain": [
       "<IPython.core.display.HTML object>"
      ]
     },
     "metadata": {},
     "output_type": "display_data"
    },
    {
     "name": "stdout",
     "output_type": "stream",
     "text": [
      "----------------- temperature = 0.6 ----------------------\n"
     ]
    },
    {
     "data": {
      "text/html": [
       "<span style=\"background-color:#d8daef;\">                                                       </span><sup>[1]</sup><span style=\"background-color:#d8daef;\">                                                       </span><sup>[1]</sup><span style=\"background-color:#d8daef;\">                                                       </span><sup>[1]</sup><span style=\"background-color:#d8daef;\">                                                       </span><sup>[1]</sup><span style=\"background-color:#d8daef;\">                                                       </span><sup>[1]</sup><span style=\"background-color:#d8daef;\">                                                       </span><sup>[1]</sup><span style=\"background-color:#d8daef;\">                                                       </span><sup>[1]</sup><span style=\"background-color:#d8daef;\">                                                       </span><sup>[1]</sup><span style=\"background-color:#d8daef;\">                                         </span><sup>[1]</sup>M. Sorry?”<br><br>Some elegant womeness, so that Hele<span style=\"background-color:#ebdef0;\">n, these symptoms so</span><sup>[2]</sup> well, to be very<br>unatugle<span style=\"background-color:#eadbd8;\"> with more violence than </span><sup>[3]</sup>usua<span style=\"background-color:#eadbd8;\">l as the other had s</span><sup>[3]</sup>he stretched his<br>thoughts. The two of stock she saw, that Earlends, and Mrs. Dean’s doors--he<br>abished his regard<span style=\"background-color:#eadbd8;\">.<br><br><br><br><br>CHAPTER XII.<br><br><br></span><sup>[3]</sup><span style=\"background-color:#eadbd8;\">When the ladies returned to the drawing-room, the</span><sup>[3]</sup> storm coals of loss of<br>propriety, mortel in proper inside first alond in the house;--was a little more<br>favourable. Mr. Collins already formed to give the purport of marrying any _reason __82 I<br> "
      ],
      "text/plain": [
       "<IPython.core.display.HTML object>"
      ]
     },
     "metadata": {},
     "output_type": "display_data"
    },
    {
     "data": {
      "text/html": [
       "<small><p style=\"text-align:right;\">Sources: <span style=\"background-color:#d8daef;\">emma-jane-austen</span><sup>[1]</sup>, <span style=\"background-color:#ebdef0;\">voyage-out-virginia-woolf</span><sup>[2]</sup>, <span style=\"background-color:#eadbd8;\">pride-prejudice-jane-austen</span><sup>[3]</sup></p></small>"
      ],
      "text/plain": [
       "<IPython.core.display.HTML object>"
      ]
     },
     "metadata": {},
     "output_type": "display_data"
    },
    {
     "name": "stdout",
     "output_type": "stream",
     "text": [
      "----------------- temperature = 1.0 ----------------------\n"
     ]
    },
    {
     "data": {
      "text/html": [
       "<span style=\"background-color:#d8daef;\">                                                       </span><sup>[1]</sup><span style=\"background-color:#d8daef;\">                                                       </span><sup>[1]</sup><span style=\"background-color:#d8daef;\">                                    W</span><sup>[1]</sup>catchefboy<span style=\"background-color:#e2d7d5;\">!'<br><br>'I won't have th</span><sup>[4]</sup>is one family,' replied with an imprudence, \"and a few<br>places along the rain.\"<br><br>\"And what soraces a thing else in Isabella could not marry, every invitation<br>which might rejoice her illness could be often<br>detached from behal?  Why give a dislike to this?\"<br><br>The night began to read, to take him on his shoulder<span style=\"background-color:#ebdef0;\">s,\" said Mrs. Elliot </span><sup>[2]</sup>prosperous,<span style=\"background-color:#d8daef;\"><br><br>“Do you know Miss Bates</span><sup>[1]</sup> lost to me that he has persuaded. I know you really should be assertey, the<br>following<span style=\"background-color:#eadbd8;\"> nothing in comparison of </span><sup>[3]</sup><span style=\"background-color:#eadbd8;\">Lady Catherine's disc</span><sup>[3]</sup>ourse.<br><br>The picture.<br><br>\"You were not to take me<span style=\"background-color:#eadbd8;\">.\"<br><br>Darcy smiled and </span><sup>[3]</sup>chavice to the same political confounded. She resolved down a quarrel. The<br>eldew sight of Wuthering Harri off of the Chupter nie yourself. But you<br>known.--With solemn love, finding about _anatterical, _I_ spones.<br><br>I don't think.'<br><br>Jrmoy and drawing--in her p"
      ],
      "text/plain": [
       "<IPython.core.display.HTML object>"
      ]
     },
     "metadata": {},
     "output_type": "display_data"
    },
    {
     "data": {
      "text/html": [
       "<small><p style=\"text-align:right;\">Sources: <span style=\"background-color:#d8daef;\">emma-jane-austen</span><sup>[1]</sup>, <span style=\"background-color:#e2d7d5;\">wuthering-heights-emily-bronte</span><sup>[4]</sup>, <span style=\"background-color:#ebdef0;\">voyage-out-virginia-woolf</span><sup>[2]</sup>, <span style=\"background-color:#eadbd8;\">pride-prejudice-jane-austen</span><sup>[3]</sup></p></small>"
      ],
      "text/plain": [
       "<IPython.core.display.HTML object>"
      ]
     },
     "metadata": {},
     "output_type": "display_data"
    },
    {
     "name": "stdout",
     "output_type": "stream",
     "text": [
      "---------------------------------------\n",
      "Epoch: 452.22, iter: 220000, cross-entropy: 0.377, accuracy: 0.88965\n",
      "   y: the greater misery of the victims, I do not know where it lies. But | I only mean to say that ther\n",
      "  yp: the sreat s pisery of the victims, I eo not know whene it lies. But | I only mean to say that ther\n",
      "Epoch: 452.63, iter: 220200, cross-entropy: 0.375, accuracy: 0.89144\n",
      "   y: s | Allan.\" |  | The others looked up. They were glad that he had not spoken to them. | But Miss Allan r\n",
      "  yp:   tll | n   |  | \"he wthers hookid up. They were gead that he had not spoken to them. | But Miss Allan r\n",
      "Epoch: 453.04, iter: 220400, cross-entropy: 0.366, accuracy: 0.89372\n",
      "   y: ulness, neither will I,\" Helen echoed in her heart. |  | She reflected that she had never yet asked \n",
      "  yp:  rg ds  aoither bill y   Helen echoed in her heart. |  | She refuected that she had never yet asked \n",
      "Epoch: 453.45, iter: 220600, cross-entropy: 0.367, accuracy: 0.89600\n",
      "   y: r solemnly. |  | “But there may be pretty good guessing. He will be a completely gross, | vulgar farme\n",
      "  yp:   th imn y  |  | TOut there may be pretty good guessing. He will be d gonpletely | gross, | vulgar favme\n",
      "Epoch: 453.86, iter: 220800, cross-entropy: 0.389, accuracy: 0.88639\n",
      "   y: y squire: rather slovenly, | perhaps, yet not looking amiss with his negligence, because he has an\n",
      "  yp: e touare. aather slovenly, | perhaps, yet not looking amiss with his negligence, bucause he has a | \n",
      "Epoch: 454.28, iter: 221000, cross-entropy: 0.393, accuracy: 0.88265\n",
      "   y: n was most suitable, quite the | gentleman himself, and without low connexions; at the same time, \n",
      "  yp: n tas sart wurtible  puite the | montleman himself, and whthout low connexions; at the same time, \n",
      "Epoch: 454.69, iter: 221200, cross-entropy: 0.389, accuracy: 0.88232\n",
      "   y:  have a dangerous fit of illness, if she | should die, it would be a comfort to know that it was a\n",
      "  yp:  tave bncrugerous fit of illness, if she should die, it would be a comfortato know that it was a\n",
      "Epoch: 455.10, iter: 221400, cross-entropy: 0.366, accuracy: 0.89225\n",
      "   y: tolerably in the shade were found; and now Emma was obliged | to overhear what Mrs. Elton and Jane\n",
      "  yp: th drably tr the shado oere found; and now imma was obliged | to overhear what Mrs. Elton and Jane\n",
      "Epoch: 455.51, iter: 221600, cross-entropy: 0.377, accuracy: 0.88949\n",
      "   y: o know her and get at her, which she had felt pressing on | her almost painfully, had completely v\n",
      "  yp: h tnow wor ttd bet at her  which the had lelt pressing on | her almost painfully, sad completely v\n",
      "Epoch: 455.92, iter: 221800, cross-entropy: 0.408, accuracy: 0.88037\n",
      "   y: ated: as I closed the door, I heard a cry, and | a frantic repetition of the words-- |  | 'Don't leave\n",
      "  yp:  r d  an w raosed ihe door, a heard a kuy, and | a fiantic reprtition of the words,- |  | 'Won't leave\n",
      "Epoch: 456.33, iter: 222000, cross-entropy: 0.372, accuracy: 0.89437\n",
      "   y: th us, and she had been | always used to see the Sabbath respected; so he had as good leave his | gu\n",
      "  yp: n  tp  and toe wad been clways used to see the Spbbath respected; so he had as good leave tes | ou\n",
      "Epoch: 456.74, iter: 222200, cross-entropy: 0.376, accuracy: 0.88916\n",
      "   y: I always like news. What is it?--why do you smile | so?--where did you hear it?--at Randalls?” |  | He\n",
      "  yp: a amways sike iows  Ihat is it?--why do you smile | so?--where did you hear it?--at Randalls?” |  | He\n",
      "Epoch: 457.15, iter: 222400, cross-entropy: 0.376, accuracy: 0.88607\n",
      "   y: g her father’s thoughts from the disagreeableness | of Mr. Knightley’s going to London; and going \n",
      "  yp:   ter archer’s gaoughts from the sisagreeableness | of Mr. Knightley’s going to London, and going \n",
      "Epoch: 457.56, iter: 222600, cross-entropy: 0.393, accuracy: 0.88737\n",
      "   y: es should be sent for early in the morning, if Miss Bennet | were not decidedly better. Bingley wa\n",
      "  yp: d saheuld be aent for | iarly.in the morning, af Iiss Binnet | were not aeaidedly uetter. Bingley wa\n",
      "Epoch: 457.98, iter: 222800, cross-entropy: 0.377, accuracy: 0.89323\n",
      "   y: n, with your old master's habits.  He is | clearly on the verge of madness: he was so last night a\n",
      "  yp:  t ahth tour lwd | faster's habits.  Ee is | clearly on the verge of madness: he was so iast night a\n",
      "Epoch: 458.39, iter: 223000, cross-entropy: 0.372, accuracy: 0.88867\n",
      "   y: ng on the | basement, and clinging to the ledge, and we saw--ah! it was beautiful--a | splendid plac\n",
      "  yp: ng tf the sasemant, and clinging to the wedge, and we saw | -ah! it was beautiful--a | splendid plac\n",
      "Epoch: 458.80, iter: 223200, cross-entropy: 0.385, accuracy: 0.88786\n",
      "   y: ntence: and her feelings towards its writer were at | times widely different. When she remembered \n",
      "  yp:  t rce  hnd te  maelings towards ots writer were at | times widely different. When she setembered \n",
      "Epoch: 459.21, iter: 223400, cross-entropy: 0.379, accuracy: 0.88704\n",
      "   y: ered the farm-house by the kitchen way, to ascertain whether Mr. | Heathcliff were really absent: \n",
      "  yp: hr d toe sicm house be the gitchen way, to escertain ihether Mr. | Heathcliff were really absent: \n",
      "Epoch: 459.62, iter: 223600, cross-entropy: 0.390, accuracy: 0.88119\n",
      "   y:  am sure I | never heard a young lady spoken of for the first time, without being | informed that sh\n",
      "  yp:  am sure I sever leard a young lady npoker af fir the first time, without being | informed that sh\n",
      "Epoch: 460.03, iter: 223800, cross-entropy: 0.368, accuracy: 0.89111\n",
      "   y:  I suppose Miss | Woodhouse and Mr. Frank Churchill are hearing every thing that passes. | And (rais\n",
      "  yp: et whppose wrss | Woodhouse and Mr. Frank Churchill are hearing every thing that passes. | And (rais\n",
      "Epoch: 460.44, iter: 224000, cross-entropy: 0.378, accuracy: 0.89046\n",
      "   y: re set upon the struggle. Mrs. Thornbury, seeing | that St. John did not wish to talk, resumed her\n",
      "  yp: u  tontop n mhe staeggle. Trs. Thornbury, seeing | that tt. John did not lish to talk, oesumed her\n",
      "Epoch: 460.85, iter: 224200, cross-entropy: 0.382, accuracy: 0.88460\n",
      "   y: everal texts, referring us to chapters and verses where we might find | them. |  | I, having vainly be\n",
      "  yp:   erab aomts  ieftrring ts th chapters and herses where we might find | them. |  | In having vainly be\n",
      "Epoch: 461.26, iter: 224400, cross-entropy: 0.384, accuracy: 0.88656\n",
      "   y:  subject, of being hurried into | repeating something of Bingley, which might only grieve her sist\n",
      "  yp:  tabject  tf ieing hurried into | repeating something of aingley, which might only grieve her sist\n",
      "Epoch: 461.68, iter: 224600, cross-entropy: 0.384, accuracy: 0.88818\n",
      "   y:  as she could | catch his eye again. |  | His dancing proved to be just what she had believed it, extr\n",
      "  yp: dtn the conld bhtch his eye again. |  | His dancing proved to be just what she had believed it, sxtr\n",
      "Epoch: 462.09, iter: 224800, cross-entropy: 0.379, accuracy: 0.88639\n",
      "   y: 'Who's your master?' |  | 'Devil daddy,' was his answer. |  | 'And what do you learn from daddy?' I cont\n",
      "  yp:  | Ahe s your master?' |  | 'Devil daddy,' was his answer. |  | 'And what do you learn from yandy?' I cout\n",
      "----------------- temperature = 0.2 ----------------------\n"
     ]
    },
    {
     "data": {
      "text/html": [
       "<span style=\"background-color:#d8daef;\">                                                       </span><sup>[1]</sup><span style=\"background-color:#d8daef;\">                                                       </span><sup>[1]</sup><span style=\"background-color:#d8daef;\">                                                       </span><sup>[1]</sup><span style=\"background-color:#d8daef;\">                                                       </span><sup>[1]</sup><span style=\"background-color:#d8daef;\">                                                       </span><sup>[1]</sup><span style=\"background-color:#d8daef;\">                                                       </span><sup>[1]</sup><span style=\"background-color:#d8daef;\">                                                       </span><sup>[1]</sup><span style=\"background-color:#d8daef;\">                                                       </span><sup>[1]</sup><span style=\"background-color:#d8daef;\">                                                       </span><sup>[1]</sup><span style=\"background-color:#d8daef;\">                                                       </span><sup>[1]</sup><span style=\"background-color:#d8daef;\">                                                       </span><sup>[1]</sup><span style=\"background-color:#d8daef;\">                                                       </span><sup>[1]</sup><span style=\"background-color:#d8daef;\">                                                       </span><sup>[1]</sup><span style=\"background-color:#d8daef;\">                                                       </span><sup>[1]</sup><span style=\"background-color:#d8daef;\">                                                       </span><sup>[1]</sup><span style=\"background-color:#d8daef;\">                                                       </span><sup>[1]</sup><span style=\"background-color:#d8daef;\">                                                       </span><sup>[1]</sup><span style=\"background-color:#d8daef;\">                                                       </span><sup>[1]</sup>          "
      ],
      "text/plain": [
       "<IPython.core.display.HTML object>"
      ]
     },
     "metadata": {},
     "output_type": "display_data"
    },
    {
     "data": {
      "text/html": [
       "<small><p style=\"text-align:right;\">Sources: <span style=\"background-color:#d8daef;\">emma-jane-austen</span><sup>[1]</sup></p></small>"
      ],
      "text/plain": [
       "<IPython.core.display.HTML object>"
      ]
     },
     "metadata": {},
     "output_type": "display_data"
    },
    {
     "name": "stdout",
     "output_type": "stream",
     "text": [
      "----------------- temperature = 0.6 ----------------------\n"
     ]
    },
    {
     "data": {
      "text/html": [
       "<span style=\"background-color:#d8daef;\">                                                       </span><sup>[1]</sup><span style=\"background-color:#d8daef;\">                                                       </span><sup>[1]</sup><span style=\"background-color:#d8daef;\">                                                       </span><sup>[1]</sup><span style=\"background-color:#d8daef;\">                                                       </span><sup>[1]</sup><span style=\"background-color:#d8daef;\">                                                       </span><sup>[1]</sup><span style=\"background-color:#d8daef;\">                                                       </span><sup>[1]</sup><span style=\"background-color:#d8daef;\">                                                       </span><sup>[1]</sup><span style=\"background-color:#d8daef;\">                                                       </span><sup>[1]</sup><span style=\"background-color:#d8daef;\">                                                       </span><sup>[1]</sup><span style=\"background-color:#d8daef;\">                                                       </span><sup>[1]</sup><span style=\"background-color:#d8daef;\">                                                       </span><sup>[1]</sup><span style=\"background-color:#d8daef;\">                                                       </span><sup>[1]</sup><span style=\"background-color:#d8daef;\">                                                       </span><sup>[1]</sup><span style=\"background-color:#d8daef;\">                                                       </span><sup>[1]</sup><span style=\"background-color:#d8daef;\">                                                       </span><sup>[1]</sup><span style=\"background-color:#d8daef;\">                                                       </span><sup>[1]</sup><span style=\"background-color:#d8daef;\">                                                       </span><sup>[1]</sup><span style=\"background-color:#d8daef;\">                                                       </span><sup>[1]</sup>          "
      ],
      "text/plain": [
       "<IPython.core.display.HTML object>"
      ]
     },
     "metadata": {},
     "output_type": "display_data"
    },
    {
     "data": {
      "text/html": [
       "<small><p style=\"text-align:right;\">Sources: <span style=\"background-color:#d8daef;\">emma-jane-austen</span><sup>[1]</sup></p></small>"
      ],
      "text/plain": [
       "<IPython.core.display.HTML object>"
      ]
     },
     "metadata": {},
     "output_type": "display_data"
    },
    {
     "name": "stdout",
     "output_type": "stream",
     "text": [
      "----------------- temperature = 1.0 ----------------------\n"
     ]
    },
    {
     "data": {
      "text/html": [
       "<span style=\"background-color:#d8daef;\">                                                       </span><sup>[1]</sup><span style=\"background-color:#d8daef;\">                                                       </span><sup>[1]</sup><span style=\"background-color:#d8daef;\">                                                       </span><sup>[1]</sup><span style=\"background-color:#d8daef;\">                                                       </span><sup>[1]</sup><span style=\"background-color:#d8daef;\">                                                       </span><sup>[1]</sup><span style=\"background-color:#d8daef;\">                                                       </span><sup>[1]</sup><span style=\"background-color:#d8daef;\">                                                       </span><sup>[1]</sup>                   ‘‘  τ A,]<br><br><br><br><br><br><br><br><br>       * *<br><br>But Mr. Jlhouse and her resouting leaves with woophes in a ball. I need not<br>give it a successless by evise as ever, and Jane saw again this moment wanted!<br><br>\"This will not<span style=\"background-color:#eadbd8;\"> do so,\" he added, \"</span><sup>[3]</sup>what a temptet was sorry to ask for Jane.<br><br>\"It is just what a beast really were not to be supposed; they soon<br>had now a painful feeling in his own judgments. While the black lock of<br>his skirties, ungil it entire<span style=\"background-color:#ebdef0;\">ly thought that the world was </span><sup>[2]</sup>the last<br>foundation of him, there went on within her, she says it is<br>a hotel to each, and be then to be expect<span style=\"background-color:#eadbd8;\">ed. I do not wish to </span><sup>[3]</sup>know"
      ],
      "text/plain": [
       "<IPython.core.display.HTML object>"
      ]
     },
     "metadata": {},
     "output_type": "display_data"
    },
    {
     "data": {
      "text/html": [
       "<small><p style=\"text-align:right;\">Sources: <span style=\"background-color:#d8daef;\">emma-jane-austen</span><sup>[1]</sup>, <span style=\"background-color:#eadbd8;\">pride-prejudice-jane-austen</span><sup>[3]</sup>, <span style=\"background-color:#ebdef0;\">voyage-out-virginia-woolf</span><sup>[2]</sup></p></small>"
      ],
      "text/plain": [
       "<IPython.core.display.HTML object>"
      ]
     },
     "metadata": {},
     "output_type": "display_data"
    },
    {
     "name": "stdout",
     "output_type": "stream",
     "text": [
      "---------------------------------------\n",
      "Epoch: 462.50, iter: 225000, cross-entropy: 0.378, accuracy: 0.88851\n",
      "   y: there is nothing he does | not deserve. I believe he is one of the very best-tempered men that eve\n",
      "  yp: the e is ao hing te woes | not deserve  A believe he is one of the sery aest.tempered wen that eve\n",
      "Epoch: 462.91, iter: 225200, cross-entropy: 0.367, accuracy: 0.89160\n",
      "   y: equal worth can give, to be | happy together. I am amused by one part of John’s letter--did you no\n",
      "  yp: tvuallahrlhylan give, th be | happy together. I am amused by one part of John’s letter | -tid you eo\n",
      "Epoch: 463.32, iter: 225400, cross-entropy: 0.377, accuracy: 0.88949\n",
      "   y: ntinctured by tenderness, and a wish of saying more that | might lead to the mention of her, had h\n",
      "  yp: rd lgt,yes hy thn erness, tnd l vish of gaying more that | might lead to the mention of hir, had s\n",
      "Epoch: 463.73, iter: 225600, cross-entropy: 0.378, accuracy: 0.89111\n",
      "   y: disapprove it, I | suppose.” |  | “How do you like Mrs. Elton?” said Emma in a whisper. |  | “Not at all.”\n",
      "  yp: toscpprobe tt, a | suppose.” |  | “How do you like Mrs. Elton?” said Emma in a whisper. |  | “Not pt all.”\n",
      "Epoch: 464.14, iter: 225800, cross-entropy: 0.380, accuracy: 0.88721\n",
      "   y: he wildness of the | evening. |  | 'You should not have come out,' she said, rising and reaching from \n",
      "  yp: he sond ess of the evening. |  | \"You should not have come out,' soe said, rising and reaching mrom \n",
      "Epoch: 464.55, iter: 226000, cross-entropy: 0.365, accuracy: 0.89535\n",
      "   y:  | repeatedly, that 'the barn was every bit as good' as I, 'and every bit as | wollsome,' and wonder\n",
      "  yp:  aeseated y  that fthe babn was every bit as good' as I, 'and every bit as | worlsome,' and wonder\n",
      "Epoch: 464.96, iter: 226200, cross-entropy: 0.383, accuracy: 0.88330\n",
      "   y: u to be serious likewise.\" |  | \"Well, then, you need not be under any alarm. I will take care of | my\n",
      "  yp:   ah be aorious nikewise \" |  | \"Well, then, you need not be under any alarm. I will take care of | my\n",
      "Epoch: 465.38, iter: 226400, cross-entropy: 0.367, accuracy: 0.88900\n",
      "   y:  there was something in the | manner of pronouncing my name which made it sound familiar.  I turne\n",
      "  yp: hthe e was nomething bn the manner of pronouncing my jame which made at sound familiar.  I turne\n",
      "Epoch: 465.79, iter: 226600, cross-entropy: 0.373, accuracy: 0.88997\n",
      "   y: rk, became an extravagance and not the just and wonderful holiday due | to her after fifteen years\n",
      "  yp: n   aufaue an extra agance ond wot the sudtiand wonderful holiday due | to her after fifteen years\n",
      "Epoch: 466.20, iter: 226800, cross-entropy: 0.384, accuracy: 0.88818\n",
      "   y: be affected by his being in the neighbourhood.\" |  | \"Oh! no--it is not for _me_ to be driven away b\n",
      "  yp: te a rected ty tis seing in loe weighbourhood.  |  | \"Ih! no,-it is not for yme_ to be dreven away b\n",
      "Epoch: 466.61, iter: 227000, cross-entropy: 0.359, accuracy: 0.89535\n",
      "   y: d together; and the peace of evening had replaced the heat of the | southern afternoon, in which t\n",
      "  yp:   to ether  and hhe srrce of evening had replaced the aeat of the | shuthern afternoon, in which t\n",
      "Epoch: 467.02, iter: 227200, cross-entropy: 0.417, accuracy: 0.87858\n",
      "   y:  first night,\" she said. \"It must have been | in those bushes.\" |  | \"They kill hens down there,\" said\n",
      "  yp:  torst taght,  hhe said. \"It sust have been | in those bushes.\" |  | \"They kill hens down there,\" said\n",
      "Epoch: 467.43, iter: 227400, cross-entropy: 0.389, accuracy: 0.88542\n",
      "   y: . I shall never be quite happy till I |      have been all round the park. A low phaeton, with a n\n",
      "  yp: e'D'whall nover fe quite aappy till I |      have been all reund toe fapk  T low phaeton, with a n\n",
      "Epoch: 467.84, iter: 227600, cross-entropy: 0.370, accuracy: 0.89372\n",
      "   y:  be. Kitty then owned, with a very natural | triumph on knowing more than the rest of us, that in \n",
      "  yp: hte  Tutty toen owned, with alvery narural iriumph on knowing more than the rest of ts, ahet in \n",
      "Epoch: 468.25, iter: 227800, cross-entropy: 0.385, accuracy: 0.88216\n",
      "   y: d not a little | of the fatigues of his own horses and coachman who were to bring some | of the part\n",
      "  yp: d tothanwittle | of the sasigues of hes own horses and coachman who were to bring some | of the part\n",
      "Epoch: 468.66, iter: 228000, cross-entropy: 0.378, accuracy: 0.88916\n",
      "   y: s to be able to sing, I | should have great pleasure, I am sure, in obliging the company with an | a\n",
      "  yp: n th se slle to sitg, a | should have great pleasure, I am sure, wn obliging the company with a  | a\n",
      "Epoch: 469.08, iter: 228200, cross-entropy: 0.368, accuracy: 0.89372\n",
      "   y: picking up grain; the others had books or pieces of paper | or embroidery on their knees, at which\n",
      "  yp: artt | ng ip train; the others had sooks or pleces of paper | or embroidery on the r knees, at which\n",
      "Epoch: 469.49, iter: 228400, cross-entropy: 0.375, accuracy: 0.88883\n",
      "   y: n stairs. As they passed through the hall, | Lady Catherine opened the doors into the dining-parlo\n",
      "  yp: a toarrs  Tn hhe  lassed ihrough the hall  tady Catherine opened the doors into vhe dining-parlo\n",
      "Epoch: 469.90, iter: 228600, cross-entropy: 0.385, accuracy: 0.88770\n",
      "   y:  trailing across the green hills. As he sat in the room | with her, he wished very often to be bac\n",
      "  yp:  thivteng anhoss the graen hills  As he sat in the room | with her, he wished very often to be iac\n",
      "Epoch: 470.31, iter: 228800, cross-entropy: 0.387, accuracy: 0.88542\n",
      "   y: nd correcting essays | upon English literature. Emily, her sister, who was a teacher also, | wrote: \n",
      "  yp: nd tanrect ng tvsays | cpon tnglish literature. Imily, her smster, who was sbbeacher ylso, | wrote: \n",
      "Epoch: 470.72, iter: 229000, cross-entropy: 0.375, accuracy: 0.88770\n",
      "   y: en,' I answered. |  | 'And so do I.  I've dreamt in my life dreams that have stayed with me | ever aft\n",
      "  yp: e    I answered,  | 'W d ho do I.  I've dreamt in my life doeams that have beayed with me | ever aft\n",
      "Epoch: 471.13, iter: 229200, cross-entropy: 0.373, accuracy: 0.89388\n",
      "   y: m | him, a look, a speech, a removal from one chair to another, a compliment | implied, a preference\n",
      "  yp: uetes, ansenk  tnveeech, a veaoval from one chair to another, a compliment | implied, a priference\n",
      "Epoch: 471.54, iter: 229400, cross-entropy: 0.366, accuracy: 0.89274\n",
      "   y:  his looks and manners have explained | themselves.” |  | Harriet blushed and smiled, and said somethi\n",
      "  yp: etes fisks.and minaers,save enplained | themselves.” |  | Harriet blushed and smiled, and said somethi\n",
      "Epoch: 471.95, iter: 229600, cross-entropy: 0.388, accuracy: 0.88704\n",
      "   y: 't get. I now pray for a young man to come to my help; some one, I | mean, who would talk to her o\n",
      "  yp:  t tot  I dew prey for a young man to gome to me pelp; some one' I | mean, whe sould talk to her o\n",
      "Epoch: 472.36, iter: 229800, cross-entropy: 0.380, accuracy: 0.89193\n",
      "   y: ith a lighted candle, and proceeded to their room.  I | followed.  Mrs. Heathcliff was seated by t\n",
      "  yp: ath t sitht d eardle, and proceeded to their room.  I | eollowed.  Mrs. Heathcliff was siated by t\n",
      "----------------- temperature = 0.2 ----------------------\n"
     ]
    },
    {
     "data": {
      "text/html": [
       "<span style=\"background-color:#d8daef;\">                                                       </span><sup>[1]</sup><span style=\"background-color:#d8daef;\">                                                       </span><sup>[1]</sup><span style=\"background-color:#d8daef;\">                                                       </span><sup>[1]</sup><span style=\"background-color:#d8daef;\">                                                       </span><sup>[1]</sup><span style=\"background-color:#d8daef;\">                                                       </span><sup>[1]</sup><span style=\"background-color:#d8daef;\">                                                       </span><sup>[1]</sup><span style=\"background-color:#d8daef;\">                                                       </span><sup>[1]</sup><span style=\"background-color:#d8daef;\">                                                       </span><sup>[1]</sup><span style=\"background-color:#d8daef;\">                                                       </span><sup>[1]</sup><span style=\"background-color:#d8daef;\">                                                       </span><sup>[1]</sup><span style=\"background-color:#d8daef;\">                                                       </span><sup>[1]</sup><span style=\"background-color:#d8daef;\">                                                       </span><sup>[1]</sup><span style=\"background-color:#d8daef;\">                                                       </span><sup>[1]</sup><span style=\"background-color:#d8daef;\">                                                       </span><sup>[1]</sup><span style=\"background-color:#d8daef;\">                                                       </span><sup>[1]</sup><span style=\"background-color:#d8daef;\">                                                       </span><sup>[1]</sup><span style=\"background-color:#d8daef;\">                                                       </span><sup>[1]</sup><span style=\"background-color:#d8daef;\">                                                       </span><sup>[1]</sup>          "
      ],
      "text/plain": [
       "<IPython.core.display.HTML object>"
      ]
     },
     "metadata": {},
     "output_type": "display_data"
    },
    {
     "data": {
      "text/html": [
       "<small><p style=\"text-align:right;\">Sources: <span style=\"background-color:#d8daef;\">emma-jane-austen</span><sup>[1]</sup></p></small>"
      ],
      "text/plain": [
       "<IPython.core.display.HTML object>"
      ]
     },
     "metadata": {},
     "output_type": "display_data"
    },
    {
     "name": "stdout",
     "output_type": "stream",
     "text": [
      "----------------- temperature = 0.6 ----------------------\n"
     ]
    },
    {
     "data": {
      "text/html": [
       "<span style=\"background-color:#d8daef;\">                                                       </span><sup>[1]</sup><span style=\"background-color:#d8daef;\">                                                       </span><sup>[1]</sup><span style=\"background-color:#d8daef;\">                                                       </span><sup>[1]</sup><span style=\"background-color:#d8daef;\">                                                       </span><sup>[1]</sup><span style=\"background-color:#d8daef;\">                                                       </span><sup>[1]</sup><span style=\"background-color:#d8daef;\">                                                       </span><sup>[1]</sup><span style=\"background-color:#d8daef;\">                                                       </span><sup>[1]</sup><span style=\"background-color:#d8daef;\">                                                       </span><sup>[1]</sup><span style=\"background-color:#d8daef;\">                                                       </span><sup>[1]</sup><span style=\"background-color:#d8daef;\">                                                       </span><sup>[1]</sup><span style=\"background-color:#d8daef;\">                                                       </span><sup>[1]</sup><span style=\"background-color:#d8daef;\">                                                       </span><sup>[1]</sup><span style=\"background-color:#d8daef;\">                                                       </span><sup>[1]</sup><span style=\"background-color:#d8daef;\">                                                       </span><sup>[1]</sup><span style=\"background-color:#d8daef;\">                                                       </span><sup>[1]</sup><span style=\"background-color:#d8daef;\">                                                       </span><sup>[1]</sup><span style=\"background-color:#d8daef;\">                                                       </span><sup>[1]</sup><span style=\"background-color:#d8daef;\">                                        W</span><sup>[1]</sup>ouls your<br>converting man"
      ],
      "text/plain": [
       "<IPython.core.display.HTML object>"
      ]
     },
     "metadata": {},
     "output_type": "display_data"
    },
    {
     "data": {
      "text/html": [
       "<small><p style=\"text-align:right;\">Sources: <span style=\"background-color:#d8daef;\">emma-jane-austen</span><sup>[1]</sup></p></small>"
      ],
      "text/plain": [
       "<IPython.core.display.HTML object>"
      ]
     },
     "metadata": {},
     "output_type": "display_data"
    },
    {
     "name": "stdout",
     "output_type": "stream",
     "text": [
      "----------------- temperature = 1.0 ----------------------\n"
     ]
    },
    {
     "data": {
      "text/html": [
       "<span style=\"background-color:#d8daef;\">                                                       </span><sup>[1]</sup><span style=\"background-color:#d8daef;\">                                                       </span><sup>[1]</sup><span style=\"background-color:#d8daef;\">                                                       </span><sup>[1]</sup><span style=\"background-color:#d8daef;\">                                                       </span><sup>[1]</sup><span style=\"background-color:#d8daef;\">                                                       </span><sup>[1]</sup><span style=\"background-color:#d8daef;\">                                                       </span><sup>[1]</sup><span style=\"background-color:#d8daef;\">                                                       </span><sup>[1]</sup><span style=\"background-color:#d8daef;\">                                                       </span><sup>[1]</sup><span style=\"background-color:#d8daef;\">                                                       </span><sup>[1]</sup><span style=\"background-color:#d8daef;\">                                                       </span><sup>[1]</sup><span style=\"background-color:#d8daef;\">                                                       </span><sup>[1]</sup><span style=\"background-color:#d8daef;\">                                              W</span><sup>[1]</sup>ouls twy embinkicable and her old friend. How the young person, who temp un<br>Lydia's remark of person and manner, her concession, and probably had a few took it again, and<br>set time <span style=\"background-color:#d8daef;\">the sight of one of th</span><sup>[1]</sup>e antique vicac to her to marry.<br>Every look at the Crown to be<span style=\"background-color:#d8daef;\"> at Mrs. Goddard’s s</span><sup>[1]</sup>o superior. He spoke<br>to take him singlely strong; and in the bes"
      ],
      "text/plain": [
       "<IPython.core.display.HTML object>"
      ]
     },
     "metadata": {},
     "output_type": "display_data"
    },
    {
     "data": {
      "text/html": [
       "<small><p style=\"text-align:right;\">Sources: <span style=\"background-color:#d8daef;\">emma-jane-austen</span><sup>[1]</sup></p></small>"
      ],
      "text/plain": [
       "<IPython.core.display.HTML object>"
      ]
     },
     "metadata": {},
     "output_type": "display_data"
    },
    {
     "name": "stdout",
     "output_type": "stream",
     "text": [
      "---------------------------------------\n",
      "Epoch: 472.78, iter: 230000, cross-entropy: 0.368, accuracy: 0.89339\n",
      "   y: gment for the kindness of his brother, though | expressed most concisely, he then delivered on pap\n",
      "  yp:  eont aor hhe bnndness of hes drother, theugh | expressed most concieely, he when delivered on pap\n",
      "Epoch: 473.19, iter: 230200, cross-entropy: 0.360, accuracy: 0.89762\n",
      "   y:  was | neither in the chapel under the carved monument of the Lintons, nor yet | by the tombs of her\n",
      "  yp:  ahs tocther in the mhanel under the iarved sonksent of the wintons, nor mot | by the tombs of her\n",
      "Epoch: 473.60, iter: 230400, cross-entropy: 0.381, accuracy: 0.88867\n",
      "   y: interrupted him with, |  | \"Do you know, mama, that my uncle Philips talks of turning away Richard, | \n",
      "  yp:  | n ereuptid bimswith, |  | \"Do you know, mama, that my uncle Philips takks of twrning oway,Richard, | \n",
      "Epoch: 474.01, iter: 230600, cross-entropy: 0.372, accuracy: 0.88900\n",
      "   y: She was not thoroughly | comfortable herself. The young man’s conduct, and his sister’s, seemed | th\n",
      "  yp: the was sot ahoroughly domfortable herself. The young man’s conduct, and his sisterss  seemed | th\n",
      "Epoch: 474.42, iter: 230800, cross-entropy: 0.386, accuracy: 0.88509\n",
      "   y: erring the education to her seemed to imply it. |  | “Now, ma’am,” said Jane to her aunt, “shall we \n",
      "  yp:  realg the hvucation shgher riemed to hmply it. |  | “Now, Ia’am,” said Jane to her aunt, “Mhall we \n",
      "Epoch: 474.83, iter: 231000, cross-entropy: 0.384, accuracy: 0.88672\n",
      "   y: she cannot be too much guarded | in her behaviour towards the undeserving of the other sex.\" |  | Eliz\n",
      "  yp: the hom ot | te aoo much foarded in her behaviour towards the undeserving of the other sex.\" |  | Eliz\n",
      "Epoch: 475.24, iter: 231200, cross-entropy: 0.367, accuracy: 0.89616\n",
      "   y: impossible I can ever be revenged, and | therefore I cannot forgive him.  Hindley wanted some wate\n",
      "  yp: tnpossible t kan exer be | receaged, and | the e ore I cannot forgive him.  Hindley wanted some wate\n",
      "Epoch: 475.65, iter: 231400, cross-entropy: 0.358, accuracy: 0.89567\n",
      "   y: gazing at the horizon. |  | \"Did you like those people?\" Helen asked her casually. |  | \"Yes,\" she repli\n",
      "  yp: toreng,ot Hhe totizon. |  | \"Did you like those people?\" Helen asked her casually. |  | \"Yes,\" she repli\n",
      "Epoch: 476.06, iter: 231600, cross-entropy: 0.372, accuracy: 0.89144\n",
      "   y: such. Not | unfrequently, through Emma’s persuasion, he had some of the chosen and | the best to din\n",
      "  yp: thch  Hethtndrequintly, thaough Emma’s persuasion, he had some of the loasen and | the lest to ben\n",
      "Epoch: 476.48, iter: 231800, cross-entropy: 0.384, accuracy: 0.89111\n",
      "   y: .  Next day it all came out, sadly to my chagrin; and | still I was not altogether sorry: I though\n",
      "  yp:   TToxt day wt wll | came out, sadly to my coarrin; and | still I was not altogether sorry: I thiugh\n",
      "Epoch: 476.89, iter: 232000, cross-entropy: 0.365, accuracy: 0.88802\n",
      "   y: again. | They had sung together once or twice, it appeared, at Weymouth. But the | sight of Mr. Knig\n",
      "  yp: tnain,  | he  mad mung together once or twice, it appeared, at Meymouth. But the | gight of Mr. Knig\n",
      "Epoch: 477.30, iter: 232200, cross-entropy: 0.383, accuracy: 0.88672\n",
      "   y: remembered its warmth, and | softened its impropriety of expression. |  | When all of the house that w\n",
      "  yp: teaambered tn  wirmth, and | softened its impropriety of expression. |  | 'hen all of the house that w\n",
      "Epoch: 477.71, iter: 232400, cross-entropy: 0.380, accuracy: 0.88965\n",
      "   y: s which shaped the year. Superficially, | three odes of Pindar were mended, Helen covered about fi\n",
      "  yp: h aeich hheped ahe hear  Superficially  | three odes of Picdar were monded, Helen covered about fi\n",
      "Epoch: 478.12, iter: 232600, cross-entropy: 0.373, accuracy: 0.89730\n",
      "   y: ts? Do not imagine me ignorant of their | condition.\" |  | \"Whatever my connections may be,\" said Eliz\n",
      "  yp:      o yot bmagine me ignorant of the r canvition.\" |  | \"Whatever my connections may be,\" said Eliz\n",
      "Epoch: 478.53, iter: 232800, cross-entropy: 0.364, accuracy: 0.89616\n",
      "   y:  |  | Emma amused herself by protesting that it was very extraordinary, | indeed, and that she had not\n",
      "  yp:  |  | “mma jgused serself by mrotesting that it was very extraordinary, | indeed, and that she had net\n",
      "Epoch: 478.94, iter: 233000, cross-entropy: 0.380, accuracy: 0.88558\n",
      "   y: , Kitty?\" |  | Kitty owned that she had rather stay at home. Darcy professed a great | curiosity to se\n",
      "  yp: h ainty,  |  | \"itty owned that she had rather stay at home. Darcy professed a great | curiosity to se\n",
      "Epoch: 479.35, iter: 233200, cross-entropy: 0.360, accuracy: 0.89193\n",
      "   y: e, \"I wish you had gone with us, for we had such fun! | as we went along, Kitty and me drew up all\n",
      "  yp: e  ai dish Jou had bone with us, for wh had such fun! | as we went along, Kitty and me drew up all\n",
      "Epoch: 479.76, iter: 233400, cross-entropy: 0.387, accuracy: 0.88509\n",
      "   y:  his hand: the stone struck my bonnet; and then ensued, | from the stammering lips of the little f\n",
      "  yp:  aam cands ahe shore struck me bonnet, and then pnsued, | feom the wurmmering pips of hhe lattle b\n",
      "Epoch: 480.18, iter: 233600, cross-entropy: 0.371, accuracy: 0.89355\n",
      "   y: ey!” continued Mrs. Elton; “Knightley himself!--Was not it | lucky?--for, not being within when he\n",
      "  yp: e    crntinued Mrs. Tlton; “anightley himself!--Was not it | lucky?--for, not being within when he\n",
      "Epoch: 480.59, iter: 233800, cross-entropy: 0.381, accuracy: 0.89030\n",
      "   y: e time; but I know no | more what I said--I was in such a tremble!--I remember she said she | was so\n",
      "  yp: e tome  tut i snow notmore what I said--I'was in quch a sremble!--I remember she said she | was so\n",
      "Epoch: 481.00, iter: 234000, cross-entropy: 0.370, accuracy: 0.88900\n",
      "   y: nd she thought very highly of him | as a good-humoured, well-meaning, respectable young man, witho\n",
      "  yp: nd the whought tery uaghly of him,is a good-humoured, well-meaning, respectable young man, whtho\n",
      "Epoch: 481.41, iter: 234200, cross-entropy: 0.385, accuracy: 0.88574\n",
      "   y: . Woodhouse from any draught of | air, and therefore induce him the more readily to give them the \n",
      "  yp: e  oodhouse,soom en  orewght of awr, and the efore induce him toe more neadily th give the  ahe \n",
      "Epoch: 481.82, iter: 234400, cross-entropy: 0.376, accuracy: 0.89404\n",
      "   y: ndsome enough | to dance with. |  | He began to wish to know more of her, and as a step towards conver\n",
      "  yp: nd  me txough to sance with.  | He began to wosh to know more of her, and as i cmrp towards conver\n",
      "Epoch: 482.23, iter: 234600, cross-entropy: 0.384, accuracy: 0.88835\n",
      "   y: f subduing feelings, concealing resentment, and avoiding | eclat, were enough to occupy her in mos\n",
      "  yp: u tocjueng alelings  aonvealing tesentment, and avoiding | eclat, were enough to occupy her an mos\n",
      "Epoch: 482.64, iter: 234800, cross-entropy: 0.384, accuracy: 0.89079\n",
      "   y: r, I suppose, and _that_ in the eye of a servant | comprehends every virtue.\" |  | Elizabeth here felt\n",
      "  yp:    a shppose, and mthet_ in the eye of a dervant | couprehends hvery mirtue.\" |  | Elizabeth here felt\n",
      "----------------- temperature = 0.2 ----------------------\n"
     ]
    },
    {
     "data": {
      "text/html": [
       "<span style=\"background-color:#d8daef;\">                                                       </span><sup>[1]</sup><span style=\"background-color:#d8daef;\">                                                       </span><sup>[1]</sup><span style=\"background-color:#d8daef;\">                                                       </span><sup>[1]</sup><span style=\"background-color:#d8daef;\">                                                       </span><sup>[1]</sup><span style=\"background-color:#d8daef;\">                                                       </span><sup>[1]</sup><span style=\"background-color:#d8daef;\">                                                       </span><sup>[1]</sup><span style=\"background-color:#d8daef;\">                                                       </span><sup>[1]</sup><span style=\"background-color:#d8daef;\">                                                       </span><sup>[1]</sup><span style=\"background-color:#d8daef;\">                                                       </span><sup>[1]</sup><span style=\"background-color:#d8daef;\">                                                       </span><sup>[1]</sup><span style=\"background-color:#d8daef;\">                                                       </span><sup>[1]</sup><span style=\"background-color:#d8daef;\">                                                       </span><sup>[1]</sup><span style=\"background-color:#d8daef;\">                                                       </span><sup>[1]</sup><span style=\"background-color:#d8daef;\">                                                       </span><sup>[1]</sup><span style=\"background-color:#d8daef;\">                                                       </span><sup>[1]</sup><span style=\"background-color:#d8daef;\">                                                       </span><sup>[1]</sup><span style=\"background-color:#d8daef;\">                                                       </span><sup>[1]</sup><span style=\"background-color:#d8daef;\">                                                       </span><sup>[1]</sup>          "
      ],
      "text/plain": [
       "<IPython.core.display.HTML object>"
      ]
     },
     "metadata": {},
     "output_type": "display_data"
    },
    {
     "data": {
      "text/html": [
       "<small><p style=\"text-align:right;\">Sources: <span style=\"background-color:#d8daef;\">emma-jane-austen</span><sup>[1]</sup></p></small>"
      ],
      "text/plain": [
       "<IPython.core.display.HTML object>"
      ]
     },
     "metadata": {},
     "output_type": "display_data"
    },
    {
     "name": "stdout",
     "output_type": "stream",
     "text": [
      "----------------- temperature = 0.6 ----------------------\n"
     ]
    },
    {
     "data": {
      "text/html": [
       "<span style=\"background-color:#d8daef;\">                                                       </span><sup>[1]</sup><span style=\"background-color:#d8daef;\">                                                       </span><sup>[1]</sup><span style=\"background-color:#d8daef;\">                                                       </span><sup>[1]</sup><span style=\"background-color:#d8daef;\">                                                       </span><sup>[1]</sup><span style=\"background-color:#d8daef;\">                                                       </span><sup>[1]</sup><span style=\"background-color:#d8daef;\">                                                       </span><sup>[1]</sup><span style=\"background-color:#d8daef;\">                                                       </span><sup>[1]</sup><span style=\"background-color:#d8daef;\">                                                       </span><sup>[1]</sup><span style=\"background-color:#d8daef;\">                                                       </span><sup>[1]</sup><span style=\"background-color:#d8daef;\">                                                       </span><sup>[1]</sup><span style=\"background-color:#d8daef;\">                                                       </span><sup>[1]</sup><span style=\"background-color:#d8daef;\">                                                       </span><sup>[1]</sup><span style=\"background-color:#d8daef;\">                           “A. W.</span><sup>[1]</sup>\"<br><br>\"From what I do earned yet?--We should go with me, my dear, that he knows<br>nobbet by her sister, though she had prevail<span style=\"background-color:#eadbd8;\">ed in Hertfordshire. </span><sup>[3]</sup>He was<br>not allowed to encounter her aunt, to listen back again. The monsts of things<br>were dippuent, and the miseraritions<span style=\"background-color:#d8daef;\"> of the family, but particularly<br>co</span><sup>[1]</sup>mplied wi"
      ],
      "text/plain": [
       "<IPython.core.display.HTML object>"
      ]
     },
     "metadata": {},
     "output_type": "display_data"
    },
    {
     "data": {
      "text/html": [
       "<small><p style=\"text-align:right;\">Sources: <span style=\"background-color:#d8daef;\">emma-jane-austen</span><sup>[1]</sup>, <span style=\"background-color:#eadbd8;\">pride-prejudice-jane-austen</span><sup>[3]</sup></p></small>"
      ],
      "text/plain": [
       "<IPython.core.display.HTML object>"
      ]
     },
     "metadata": {},
     "output_type": "display_data"
    },
    {
     "name": "stdout",
     "output_type": "stream",
     "text": [
      "----------------- temperature = 1.0 ----------------------\n"
     ]
    },
    {
     "data": {
      "text/html": [
       "<span style=\"background-color:#d8daef;\">                                                       </span><sup>[1]</sup>      KYigh acquaided for my own form spendits; whence to think of a<br>different pictures before her!' I said.  'She had asked if he<br>were staring towers to another, but he refrained the letter.<span style=\"background-color:#d8daef;\"><br>“How do you do, Mrs. Ford? </span><sup>[1]</sup>No.  That isn' autue?'<br><br>'Three minutes to reason that sorn of Gibmerkaes the will thirty, and<br>I shall give him of his bor! only love, can see you on an hour or<br>two befores the gentleman at Cleany Emma. She talked with a good letter,<br>for Hirst's name, and _one_, Thought her husband speak at him; and every partialul at once wishes in your equally dear?”<br><br>“Then I had an oppriced creature.”<br><br>“Oh! good I must have finished her into a personing on one. He was gone away; and or<br>passinations in their comforts; and her feelings were capable of very comfortable attentions,<br>to amuse me a creditable dinner-box, still plainly did<span style=\"background-color:#e2d7d5;\">, and entered the house</span><sup>[4]</sup> with<br>way, and do you ill understandings it<span style=\"background-color:#d8daef;\"> might not be afraid of</span><sup>[1]</sup> your<br>pleasur"
      ],
      "text/plain": [
       "<IPython.core.display.HTML object>"
      ]
     },
     "metadata": {},
     "output_type": "display_data"
    },
    {
     "data": {
      "text/html": [
       "<small><p style=\"text-align:right;\">Sources: <span style=\"background-color:#d8daef;\">emma-jane-austen</span><sup>[1]</sup>, <span style=\"background-color:#e2d7d5;\">wuthering-heights-emily-bronte</span><sup>[4]</sup></p></small>"
      ],
      "text/plain": [
       "<IPython.core.display.HTML object>"
      ]
     },
     "metadata": {},
     "output_type": "display_data"
    },
    {
     "name": "stdout",
     "output_type": "stream",
     "text": [
      "---------------------------------------\n",
      "Epoch: 483.05, iter: 235000, cross-entropy: 0.385, accuracy: 0.88574\n",
      "   y: ger, were much | too full of lines under the words to be made public. |  | After the first fortnight o\n",
      "  yp: d d  ah e nach lho full of lines under the iords to he mare plblic. |  | “fter the first fertnight o\n",
      "Epoch: 483.46, iter: 235200, cross-entropy: 0.372, accuracy: 0.88851\n",
      "   y:  chuse some fine morning and drive thither. Two or three more of the | chosen only were to be admi\n",
      "  yp: utoase to e tate oorning afd erive thither. Two or three more of the | coisen only here to me admi\n",
      "Epoch: 483.88, iter: 235400, cross-entropy: 0.371, accuracy: 0.89079\n",
      "   y: kely--that she caught | her illness there. These diseases--Besides, she was set on going. She | woul\n",
      "  yp: ne y -Ihet she wanght | her illness,there. These disense --Bewides, she was sonton ooing  The | woul\n",
      "Epoch: 484.29, iter: 235600, cross-entropy: 0.369, accuracy: 0.89307\n",
      "   y: -More and more frightened, she | immediately promised them money, and taking out her purse, gave t\n",
      "  yp: -arsm and more teightened, sie | immediately promised them merey, and tiking out her purse, gave t\n",
      "Epoch: 484.70, iter: 235800, cross-entropy: 0.370, accuracy: 0.89323\n",
      "   y: zed, and dreamt again: | if possible, still more disagreeably than before. |  | This time, I remembere\n",
      "  yp: uer  and teoamt igain, if possible, still more disagreeably ahan before. |  | This time, I remembere\n",
      "Epoch: 485.11, iter: 236000, cross-entropy: 0.384, accuracy: 0.88867\n",
      "   y: any young woman.” |  | “And who do you think came in while we were there?” |  | Emma was quite at a loss\n",
      "  yp: tnd teung woman.\" |  | “Ind who do you think came,in while we were there?” |  | Emma was quite at a loss\n",
      "Epoch: 485.52, iter: 236200, cross-entropy: 0.367, accuracy: 0.89355\n",
      "   y: ed | in various ways--now in undoing parcels, now in uncorking bottles, now | in writing directions,\n",
      "  yp: nd tn tarious kays;-now in undoing parcels, not in uncorking bottles, now | an whiting drrection,,\n",
      "Epoch: 485.93, iter: 236400, cross-entropy: 0.368, accuracy: 0.89404\n",
      "   y: efly through his own and Mrs. | Bennet's means, for his coming next morning to shoot with her husb\n",
      "  yp: nn y woeeugh tes swn and Mr.. Bennet.s means, for his ooming next morning to dhoot whth her husb\n",
      "Epoch: 486.34, iter: 236600, cross-entropy: 0.352, accuracy: 0.89974\n",
      "   y: f very superior quality | was speedily despatched to Miss Bates with a most friendly note. In half\n",
      "  yp: u tiny superior quality | was speedily despatched to Miss Bates with a most friendly note. In half\n",
      "Epoch: 486.75, iter: 236800, cross-entropy: 0.378, accuracy: 0.88851\n",
      "   y: e considered Rachel | aesthetically; lying unprotected she looked somehow like a victim | dropped fr\n",
      "  yp: e wonsederad bachel adsthetically; lying unprotected she looked stmehow like a gictim | dropped fr\n",
      "Epoch: 487.16, iter: 237000, cross-entropy: 0.364, accuracy: 0.89258\n",
      "   y:  upon her.” |  | But his spirits were soon rising again, and with laughing eyes, after | mentioning th\n",
      "  yp: htp n tir   |  | “ut his spirits were soon jising again, and wath laighing eye-, after | mentioning th\n",
      "Epoch: 487.58, iter: 237200, cross-entropy: 0.370, accuracy: 0.89307\n",
      "   y: certainly be at home before him--but there | was no getting away, no pause; and, to my utter aston\n",
      "  yp: tortain y se as home tefore him--but there was no getting away, no pause; and  to my utter aston\n",
      "Epoch: 487.99, iter: 237400, cross-entropy: 0.394, accuracy: 0.88460\n",
      "   y:  out, but I hardly know what I have written.\" |  | Without allowing herself time for consideration, \n",
      "  yp: htft  wut s dardly know what | I have written. |  |  | Without allowing herself time for monsideration, \n",
      "Epoch: 488.40, iter: 237600, cross-entropy: 0.383, accuracy: 0.88737\n",
      "   y: solution; and perhaps he might be doing the same. |  | They walked towards the Lucases, because Kitt\n",
      "  yp:  slvtion  and seohaps te might be deing the same. |  | Thei walked towards the Lucases, because Kitt\n",
      "Epoch: 488.81, iter: 237800, cross-entropy: 0.369, accuracy: 0.89583\n",
      "   y: two parcels, | Mrs. Ford, could not you?” |  | “It is not worth while, Harriet, to give Mrs. Ford the \n",
      "  yp: tho oegcels, | mrs. Ford, could not you?” |  | “It is not worth whice, Harriet, to cive Mrs. Ford the \n",
      "Epoch: 489.22, iter: 238000, cross-entropy: 0.366, accuracy: 0.89486\n",
      "   y: t poor comfort. |  | It was the arrival of this very invitation while the Westons were at | Hartfield,\n",
      "  yp: l teor Mhnmort?  | It was the arrival of this lery invitation while the lestons were at | Hartfield.\n",
      "Epoch: 489.63, iter: 238200, cross-entropy: 0.380, accuracy: 0.88591\n",
      "   y:  of | being acceptable.\" |  | To such perseverance in wilful self-deception Elizabeth would make no | re\n",
      "  yp: ltf heing abcuptable \" |  | To such perseverance in wilful self-deception olizabeth'would make no | re\n",
      "Epoch: 490.04, iter: 238400, cross-entropy: 0.388, accuracy: 0.88672\n",
      "   y: , and stretching her limbs to the utmost end of her berth, | she merely changed her dress for a dr\n",
      "  yp:   and thoetching her lipbs to the utmost end of tir berth, | she sirely changed her dress for a dr\n",
      "Epoch: 490.45, iter: 238600, cross-entropy: 0.374, accuracy: 0.89388\n",
      "   y: t your kindness has made me | love you deeper than if I deserved your love: and though I couldn't,\n",
      "  yp: n hou  findness tas made me love you deeper than if I deserved your eove: and though I couldn't,\n",
      "Epoch: 490.86, iter: 238800, cross-entropy: 0.387, accuracy: 0.88900\n",
      "   y: o | explain:--there is a good deal of nonsense in it--but the part which is | capable of being commu\n",
      "  yp: h haprain --there is a good deal of wonsense in it,-but the prrt which is | capable of being commu\n",
      "Epoch: 491.28, iter: 239000, cross-entropy: 0.379, accuracy: 0.89046\n",
      "   y: y are so exhausting,\" said Mrs. Elliot. \"I look strong, because of | my colour; but I'm not; the y\n",
      "  yp:   wre st axtaustang   said Hrs. Elliot. \"I look strong,-because of | ty conour; but I'm not; the y\n",
      "Epoch: 491.69, iter: 239200, cross-entropy: 0.374, accuracy: 0.88949\n",
      "   y: uddenly overcome by the spirit of | movement, and pushed along with her skirts wrapping themselves\n",
      "  yp:  rden y afer ome by the spitit of | movement, and pushed along with her skirts whopping themselves\n",
      "Epoch: 492.10, iter: 239400, cross-entropy: 0.366, accuracy: 0.88900\n",
      "   y: anner, where | their two selves only were concerned, was soliciting the good opinion | of her friend\n",
      "  yp: en ers ahone theyr two selves only were concerned, was soliciting the good opinion | of her friend\n",
      "Epoch: 492.51, iter: 239600, cross-entropy: 0.361, accuracy: 0.89355\n",
      "   y:  besides the two songs which | she had lent Elizabeth to copy, a letter to herself; and this lette\n",
      "  yp:  aucide  the cwo eengs whech | whe had lent Elizabeth to copy, a letter to herself; and this lette\n",
      "Epoch: 492.92, iter: 239800, cross-entropy: 0.365, accuracy: 0.89258\n",
      "   y: Did they talk, and say pretty things, and | if so, why didn't they do it, under reasonable conditi\n",
      "  yp: tax nhey galk  and aat pretty things, and | if so, why didn't they do it, under reasonable chnditi\n",
      "----------------- temperature = 0.2 ----------------------\n"
     ]
    },
    {
     "data": {
      "text/html": [
       "F. C. Garlines, the Grange as not a conceit, so shortly; how little of<br>expectation wes, about five with her talk could be over.\"<br><br>\"I have written for<span style=\"background-color:#eadbd8;\"> you to interpose your </span><sup>[3]</sup>family, and I have not<br>g<span style=\"background-color:#eadbd8;\">one to his presentation a</span><sup>[3]</sup>nd additional intelligence. He was the mother of his<br>sisters you have him met. I shall play to m<span style=\"background-color:#d8daef;\">y mother and daughter</span><sup>[1]</sup>. I will attack the<br>smallest degree of conversation that this fellow, she was fonder, when they were<br>on the text--'You must tell you, when you mean by it?\"<br><br>Racher<span style=\"background-color:#d8daef;\"> declared she would </span><sup>[1]</sup>stay. \"Uneacomy of your knowing _I_ while<br>he says he found an old Earnshaw_ was wanting to intimate the morning, for there is<br>_emy misread, Rachel to<span style=\"background-color:#eadbd8;\"> Mr. Wickham's being among them.<br><br>Mrs. Reynolds </span><sup>[3]</sup>got up and lifted her room, she shook issued back before the seas of being always<br>thinking of. Anot<span style=\"background-color:#eadbd8;\">her master, who was </span><sup>[3]</sup>passed before her.<br>Miss Nastius--practing under his breakfast by a ringed<br>from<span style=\"background-color:#eadbd8;\"> Lady Catherine, and the </span><sup>[3]</sup>two first dances<span style=\"background-color:#ebdef0;\"> of the figures<br>of the dance.<br><br></span><sup>[2]</sup>\"I was once i"
      ],
      "text/plain": [
       "<IPython.core.display.HTML object>"
      ]
     },
     "metadata": {},
     "output_type": "display_data"
    },
    {
     "data": {
      "text/html": [
       "<small><p style=\"text-align:right;\">Sources: <span style=\"background-color:#eadbd8;\">pride-prejudice-jane-austen</span><sup>[3]</sup>, <span style=\"background-color:#d8daef;\">emma-jane-austen</span><sup>[1]</sup>, <span style=\"background-color:#ebdef0;\">voyage-out-virginia-woolf</span><sup>[2]</sup></p></small>"
      ],
      "text/plain": [
       "<IPython.core.display.HTML object>"
      ]
     },
     "metadata": {},
     "output_type": "display_data"
    },
    {
     "name": "stdout",
     "output_type": "stream",
     "text": [
      "----------------- temperature = 0.6 ----------------------\n"
     ]
    },
    {
     "data": {
      "text/html": [
       "F. C. WE, No! But at last one like chipe would<br>be any realier to hear the man? Now are the greatest hopes of feeling no evil.<br><br>He had not the centre<span style=\"background-color:#d8daef;\"> of Jane Fairfax, and only </span><sup>[1]</sup><span style=\"background-color:#d8daef;\">regretted<br>not having sought a closer ac</span><sup>[1]</sup>curate nothing else at tears. At present<span style=\"background-color:#e2d7d5;\">,<br>therefore, continue </span><sup>[4]</sup>their visit to the ladies. Miss Bates looked that those<br>who amougn provoking.  I doubt no hind of pleasure, even<span style=\"background-color:#d8daef;\"> in his own concerns and</span><sup>[1]</sup><br>preparations to dejoin their or passion, even by noble than her letter,<br>as if she had understood a ftmamed of her admiration all the deficiency. While<br>she darted no wonder<span style=\"background-color:#ebdef0;\"> that Rachel was not </span><sup>[2]</sup>definely greatly to come with me,<br><span style=\"background-color:#d8daef;\">because I shall never </span><sup>[1]</sup>have known and anything most unfeeling to me,<br>Hirst's about<span style=\"background-color:#ebdef0;\"> Hirst,\" said Hewet, </span><sup>[2]</sup>unchruding her eyes to her aunt.<br><br>\"<span style=\"background-color:#d8daef;\">I can have nothing to </span><sup>[1]</sup>be dwenched it, should be his infinite to<br>give any other perfectly satisfactorily about him,<span style=\"background-color:#d8daef;\"> could not have thought<br></span><sup>[1]</sup>that the principal described, and tr<span style=\"background-color:#d8daef;\">ied to consider it a p</span><sup>[1]</sup>ale yelrow<br>cushion, thordy f"
      ],
      "text/plain": [
       "<IPython.core.display.HTML object>"
      ]
     },
     "metadata": {},
     "output_type": "display_data"
    },
    {
     "data": {
      "text/html": [
       "<small><p style=\"text-align:right;\">Sources: <span style=\"background-color:#d8daef;\">emma-jane-austen</span><sup>[1]</sup>, <span style=\"background-color:#e2d7d5;\">wuthering-heights-emily-bronte</span><sup>[4]</sup>, <span style=\"background-color:#ebdef0;\">voyage-out-virginia-woolf</span><sup>[2]</sup></p></small>"
      ],
      "text/plain": [
       "<IPython.core.display.HTML object>"
      ]
     },
     "metadata": {},
     "output_type": "display_data"
    },
    {
     "name": "stdout",
     "output_type": "stream",
     "text": [
      "----------------- temperature = 1.0 ----------------------\n"
     ]
    },
    {
     "data": {
      "text/html": [
       "F. C. Garliness, Jonr EFCaly<br>would never make so little chancible to marry himself and hurling, I suppose,<br>as much hagh to be more than now, if you came<br>in, I say you always know how to interpose the family, indeed, on<br>the very name one turned to her resentment, but was conscious of every<br>satisfaction appeaded to h<span style=\"background-color:#d8daef;\">er as soon as possible.”<br><br>Mr</span><sup>[1]</sup>. Weston, with a much valuable alarms burst; he had not young and innocent<br>attention, for some minutes when it was unusual that Frank shall stay?--how can<span style=\"background-color:#d8daef;\"> you think we shall </span><sup>[1]</sup>have a doing that England<br>     on our common sense and despatch of it. The momentformame of snow and<br>black things, thought them at the heolt or Cathy,' he remarked, and then<br>saying this to Emma<span style=\"background-color:#d8daef;\"> herself, however, an</span><sup>[1]</sup> enchantage<span style=\"background-color:#eadbd8;\"> in every other room in </span><sup>[3]</sup>her world,<br>and she too ready to learn the Roman south<span style=\"background-color:#e2d7d5;\">ed expression, even </span><sup>[4]</sup>encour<span style=\"background-color:#d8daef;\">aged herself before the</span><sup>[1]</sup> light<br>between them<span style=\"background-color:#ebdef0;\">.<br><br>They had not strolled more than a few hund</span><sup>[2]</sup>s of Hartfield.<br>Nothing less through the party<span style=\"background-color:#eadbd8;\">; and whenever they </span><sup>[3]</sup>h"
      ],
      "text/plain": [
       "<IPython.core.display.HTML object>"
      ]
     },
     "metadata": {},
     "output_type": "display_data"
    },
    {
     "data": {
      "text/html": [
       "<small><p style=\"text-align:right;\">Sources: <span style=\"background-color:#d8daef;\">emma-jane-austen</span><sup>[1]</sup>, <span style=\"background-color:#eadbd8;\">pride-prejudice-jane-austen</span><sup>[3]</sup>, <span style=\"background-color:#e2d7d5;\">wuthering-heights-emily-bronte</span><sup>[4]</sup>, <span style=\"background-color:#ebdef0;\">voyage-out-virginia-woolf</span><sup>[2]</sup></p></small>"
      ],
      "text/plain": [
       "<IPython.core.display.HTML object>"
      ]
     },
     "metadata": {},
     "output_type": "display_data"
    },
    {
     "name": "stdout",
     "output_type": "stream",
     "text": [
      "---------------------------------------\n",
      "Epoch: 493.33, iter: 240000, cross-entropy: 0.366, accuracy: 0.89193\n",
      "   y: led it often in the course of | the evening.  I saw him smile to himself--grin rather--and lapse i\n",
      "  yp: l d tn onfen on | the pourse of the svening.  I saw him smile to himself--grin rather--and lapse i\n",
      "Epoch: 493.74, iter: 240200, cross-entropy: 0.373, accuracy: 0.89502\n",
      "   y: her off with | due decorum. It was an unsuitable connexion, and did not produce much | happiness. Mr\n",
      "  yp: ter fw  aith die decorum. It was an unsuctable eonnexion  and sid not produce much | happiness. Mr\n",
      "Epoch: 494.15, iter: 240400, cross-entropy: 0.378, accuracy: 0.88786\n",
      "   y: gain, | I perceived two such radiant countenances bent over the page of the | accepted book, that I \n",
      "  yp: nains a crrceived two such radiant wountenances bent over the page of the | eccepted book, that I \n",
      "Epoch: 494.56, iter: 240600, cross-entropy: 0.378, accuracy: 0.89014\n",
      "   y: put it up; we will have a good talk about it some | other time, but it will not do now. I shall on\n",
      "  yp: tar at op  ae woll have a good talk about it some | ofher time, but it will not do now. I shall on\n",
      "Epoch: 494.98, iter: 240800, cross-entropy: 0.382, accuracy: 0.88363\n",
      "   y: . |  | Presently Mr. Knightley looked back, and came and sat down by her. They | talked at first only \n",
      "  yp: e  | \"ricently Er. Knightley looked tack, and sole tnd sat down by her. The |  | talked aw first only \n",
      "Epoch: 495.39, iter: 241000, cross-entropy: 0.393, accuracy: 0.88330\n",
      "   y: alk three miles, or four miles, or five miles, or whatever it is, | above her ancles in dirt, and \n",
      "  yp: asketoeoe;miles  or forn | miles, or sofe miles, or whatever it is |  | aboue hir ancles in dirt, and \n",
      "Epoch: 495.80, iter: 241200, cross-entropy: 0.379, accuracy: 0.89014\n",
      "   y: ; and I'm | going to bed.' |  | Then she whispered me to watch whether he touched it, and departed.  B\n",
      "  yp:   and t m pling to bed.' |  | Ihen the whispered me to watch whether he touched it, and departed   B\n",
      "Epoch: 496.21, iter: 241400, cross-entropy: 0.359, accuracy: 0.89551\n",
      "   y:  | 'I shall not be at peace,' moaned Catherine, recalled to a sense of | physical weakness by the vi\n",
      "  yp:  | \"A dhall not se at lecce,' moaned Catherine, recalled to a sense of | dhysical weakness by the wi\n",
      "Epoch: 496.62, iter: 241600, cross-entropy: 0.382, accuracy: 0.88835\n",
      "   y:  or to lie deeply and | calmly in her cheeks. Their eyes at the present moment were brighter | than \n",
      "  yp:  ar to rev deeply and | calmly in her cheeks. Their eyes at the present moment were brighter | than \n",
      "Epoch: 497.03, iter: 241800, cross-entropy: 0.371, accuracy: 0.89437\n",
      "   y: r hours | of repose should not be broken in on. My aunt Philips came to Longbourn | on Tuesday, afte\n",
      "  yp:   taurs of tuaosr.soeuld not be broken in on. My funt Philips came to Lingbourn | on Tuesday, afte\n",
      "Epoch: 497.44, iter: 242000, cross-entropy: 0.362, accuracy: 0.89160\n",
      "   y: lence,\" he said; \"the things people | don't say. But the difficulty is immense.\" He sighed. \"Howev\n",
      "  yp: nl ce   Me baid. \"the things people | aon't say. But the difficulty is immense.\" He sighed. \"Howev\n",
      "Epoch: 497.85, iter: 242200, cross-entropy: 0.381, accuracy: 0.89274\n",
      "   y: o”--and thought no more of it, till after a minute’s | silence she heard Harriet say in a very ser\n",
      "  yp:    -tfd theughtfnoblore of it, fill after a monute’s | silence she heard Harriet say in t very ser\n",
      "Epoch: 498.26, iter: 242400, cross-entropy: 0.366, accuracy: 0.89209\n",
      "   y: lves. They were off Saturday night about twelve, as |      is conjectured, but were not missed til\n",
      "  yp:  les   he  were of  iaturday night about twilve, as |      as convectured, tut were not massed til\n",
      "Epoch: 498.68, iter: 242600, cross-entropy: 0.360, accuracy: 0.89339\n",
      "   y: n. Its effect upon | her appears in the immediate resolution it produced: as soon as she | found I w\n",
      "  yp: ng Bt  effect hpon her appears in the immediate resolution it produced: as soon as she | found h w\n",
      "Epoch: 499.09, iter: 242800, cross-entropy: 0.365, accuracy: 0.89290\n",
      "   y:  windows, letting in cold air upon | heated bodies, which (as you well know, sir) does the mischie\n",
      "  yp:  tatdow., aiating in clld air mpon | heated bodies, which sas you well know, sir) does the mischie\n",
      "Epoch: 499.50, iter: 243000, cross-entropy: 0.362, accuracy: 0.89111\n",
      "   y: nt was certain--that of suitableness as companions; a | suitableness which comprehended health and\n",
      "  yp:  t tis aortain -toat of | soitableness as companions; anstdtableness which commrehended herlth and\n",
      "Epoch: 499.91, iter: 243200, cross-entropy: 0.374, accuracy: 0.89128\n",
      "   y: eathcliff, in much agitation. |  | 'It's no company at all, when people know nothing and say nothing\n",
      "  yp: e thcliff  wn hoth pgitation, |  | 'It's no company at all, when paople know nothing!and say nothing\n",
      "Epoch: 500.32, iter: 243400, cross-entropy: 0.356, accuracy: 0.89697\n",
      "   y: me into the house. |  | 'Ellen, I was ready to tear my hair off my head!  I sobbed and wept so | that \n",
      "  yp: to tn o the souse   | 'Evlen, I was riady to tear my hair off my bead!  I subbed and wept so | that \n",
      "Epoch: 500.73, iter: 243600, cross-entropy: 0.360, accuracy: 0.89925\n",
      "   y: idence towards Harriet, which this one article marked, gave her | severe pain. |  | On the subject of \n",
      "  yp:  nence.oo ards tarriet. ahich ohis one article marked, yave her | severe pain. |  | On the subject of \n",
      "Epoch: 501.14, iter: 243800, cross-entropy: 0.350, accuracy: 0.89990\n",
      "   y:  so little | returned that he had never been there in his life. His coming to visit | his father had\n",
      "  yp:  ao mittle oesurned that he had never been ahere in tis life. Nis coming to Risit | his father had\n",
      "Epoch: 501.55, iter: 244000, cross-entropy: 0.369, accuracy: 0.88835\n",
      "   y: s of that kind that will not lament.  He neither wept nor | prayed; he cursed and defied: execrate\n",
      "  yp: n tf ahet nind.that mill not lauent. IIe neither wept now | proyed; he cursed and desied: mxecrate\n",
      "Epoch: 501.96, iter: 244200, cross-entropy: 0.350, accuracy: 0.90234\n",
      "   y: x his eyes on Elizabeth, when they | were suddenly arrested by the sight of the stranger, and Eliz\n",
      "  yp: n hes cyes,wn Mlizabeth, when they | were suddenly arrested by the sight of the ptranger, w d Eliz\n",
      "Epoch: 502.38, iter: 244400, cross-entropy: 0.372, accuracy: 0.89111\n",
      "   y: s with a smile.  I was half inclined to make it | try; however, he moved off to open the door, and\n",
      "  yp:   tath t vmile. |  ' has walf anclined to make ht | ary  however, he moved off to open the door, and\n",
      "Epoch: 502.79, iter: 244600, cross-entropy: 0.370, accuracy: 0.89242\n",
      "   y: en _your_ satisfaction I made sure of. | It crossed my mind immediately that you would not regret \n",
      "  yp: er thou__ ditisfaction I sade sure of  It crossed my mind immediately that you would not regret \n",
      "Epoch: 503.20, iter: 244800, cross-entropy: 0.374, accuracy: 0.88981\n",
      "   y: o be ashamed of | being rude where she experienced such invariable courtesy, she imposed | unwitting\n",
      "  yp: h he a  amed of heing sude where hhe experienced soch invariable courtesy, she imposed | unwitting\n",
      "----------------- temperature = 0.2 ----------------------\n"
     ]
    },
    {
     "data": {
      "text/html": [
       "<span style=\"background-color:#d8daef;\">                                                       </span><sup>[1]</sup><span style=\"background-color:#d8daef;\">                                                       </span><sup>[1]</sup><span style=\"background-color:#d8daef;\">                                                       </span><sup>[1]</sup><span style=\"background-color:#d8daef;\">                                                       </span><sup>[1]</sup><span style=\"background-color:#d8daef;\">                                                       </span><sup>[1]</sup><span style=\"background-color:#d8daef;\">                                                       </span><sup>[1]</sup><span style=\"background-color:#d8daef;\">                                                       </span><sup>[1]</sup><span style=\"background-color:#d8daef;\">                                                       </span><sup>[1]</sup><span style=\"background-color:#d8daef;\">                                                       </span><sup>[1]</sup><span style=\"background-color:#d8daef;\">                                                       </span><sup>[1]</sup><span style=\"background-color:#d8daef;\">                                                       </span><sup>[1]</sup><span style=\"background-color:#d8daef;\">                                                       </span><sup>[1]</sup><span style=\"background-color:#d8daef;\">                                                       </span><sup>[1]</sup><span style=\"background-color:#d8daef;\">                                                       </span><sup>[1]</sup><span style=\"background-color:#d8daef;\">                                                       </span><sup>[1]</sup><span style=\"background-color:#d8daef;\">                                                       </span><sup>[1]</sup><span style=\"background-color:#d8daef;\">                                                       </span><sup>[1]</sup><span style=\"background-color:#d8daef;\">                                                       </span><sup>[1]</sup>          "
      ],
      "text/plain": [
       "<IPython.core.display.HTML object>"
      ]
     },
     "metadata": {},
     "output_type": "display_data"
    },
    {
     "data": {
      "text/html": [
       "<small><p style=\"text-align:right;\">Sources: <span style=\"background-color:#d8daef;\">emma-jane-austen</span><sup>[1]</sup></p></small>"
      ],
      "text/plain": [
       "<IPython.core.display.HTML object>"
      ]
     },
     "metadata": {},
     "output_type": "display_data"
    },
    {
     "name": "stdout",
     "output_type": "stream",
     "text": [
      "----------------- temperature = 0.6 ----------------------\n"
     ]
    },
    {
     "data": {
      "text/html": [
       "<span style=\"background-color:#d8daef;\">                           F. C. </span><sup>[1]</sup>SEnfDumhing--\"As a delight, <span style=\"background-color:#ebdef0;\">wonderful thing that's ever </span><sup>[2]</sup>Mr. Linton,' said<br>Heathcliff; 'angical with you, heaver,' I exclaimed, watching<br>them from their excuse, bloses, and women<span style=\"background-color:#ebdef0;\"> of your own. But how you will enjoy it--some<br>day!\"<br><br></span><sup>[2]</sup>But so well was over, she asked for a moment that he was softened here very much<br>less hot, and we found her with words sweeping the trouble<br>of that sor<span style=\"background-color:#d8daef;\">t, you know, this morning</span><sup>[1]</sup>, Ellen.'<br><br>'_Low do!' she cried attempting to him.  'There, I stayd to send<br>your intimalous extinction, just as she could, when Terence had some<br>time of indefcrecticy. She saw him strangely<span style=\"background-color:#eadbd8;\"> in the conversation, </span><sup>[3]</sup>she hoped to<br>be a small man<span style=\"background-color:#ebdef0;\"> in love with him, or considered what</span><sup>[2]</sup> was good in him<br>the name of the letter. “Supposing him their age so many<span style=\"background-color:#d8daef;\"> of every<br>thing most un</span><sup>[1]</sup>iversally struggled to New ribes.  I other bes<span style=\"background-color:#ebdef0;\">t came between them the</span><sup>[2]</sup>re,<br>and people drew her to lie down a pitie bey known Sir William who could be selfished<br>to delivere her lot, he answered"
      ],
      "text/plain": [
       "<IPython.core.display.HTML object>"
      ]
     },
     "metadata": {},
     "output_type": "display_data"
    },
    {
     "data": {
      "text/html": [
       "<small><p style=\"text-align:right;\">Sources: <span style=\"background-color:#d8daef;\">emma-jane-austen</span><sup>[1]</sup>, <span style=\"background-color:#ebdef0;\">voyage-out-virginia-woolf</span><sup>[2]</sup>, <span style=\"background-color:#eadbd8;\">pride-prejudice-jane-austen</span><sup>[3]</sup></p></small>"
      ],
      "text/plain": [
       "<IPython.core.display.HTML object>"
      ]
     },
     "metadata": {},
     "output_type": "display_data"
    },
    {
     "name": "stdout",
     "output_type": "stream",
     "text": [
      "----------------- temperature = 1.0 ----------------------\n"
     ]
    },
    {
     "data": {
      "text/html": [
       "    F. C. SEnfor God!’ said she. I hardly except what<br>they can break upon others, with lapslings. Mes was as high to restoring his streets<br>in it, she made me no longer in company as to that as near part of<br>Dernme_ wedt she liked. I have too much outs of escape. This was not<br>less sufferings, she never did so long, and spare them to conclude,<br>for Lydia's remindable enjoyment. It wasn't the sening them back<br>to the house round the carriage-horses,<span style=\"background-color:#e2d7d5;\"> according to their </span><sup>[4]</sup>expensiven I am<br>perfectly struck with him. In such careling and suspiciously respectful; and<br>therefore, every thing had in her eyes so much, for master is a<br>most cross.”<br><br>“Perhaps I feel from any such thing. I am sorry the happiest!  Oh, Cathy,' he said,<br>pully the inmates of her arrival, as she only were too liberalken than I ever;<br>run me<span style=\"background-color:#d8daef;\"> to be satisfied with </span><sup>[1]</sup>my judgments, I<span style=\"background-color:#ebdef0;\"> did not know exactly what</span><sup>[2]</sup><br>the world would have been. Mr. Elton was worthle: it was equally vague to the<br>sex better, one's live! Never mention yestic is who"
      ],
      "text/plain": [
       "<IPython.core.display.HTML object>"
      ]
     },
     "metadata": {},
     "output_type": "display_data"
    },
    {
     "data": {
      "text/html": [
       "<small><p style=\"text-align:right;\">Sources: <span style=\"background-color:#e2d7d5;\">wuthering-heights-emily-bronte</span><sup>[4]</sup>, <span style=\"background-color:#d8daef;\">emma-jane-austen</span><sup>[1]</sup>, <span style=\"background-color:#ebdef0;\">voyage-out-virginia-woolf</span><sup>[2]</sup></p></small>"
      ],
      "text/plain": [
       "<IPython.core.display.HTML object>"
      ]
     },
     "metadata": {},
     "output_type": "display_data"
    },
    {
     "name": "stdout",
     "output_type": "stream",
     "text": [
      "---------------------------------------\n",
      "Epoch: 503.61, iter: 245000, cross-entropy: 0.390, accuracy: 0.88737\n",
      "   y: oofs to her who had seen them, had passed | undiscerned by her who now heard them; but the two lat\n",
      "  yp: emm  oh tir aio had aeen them  had passed | endiscerned by her who now heard them; but the two lat\n",
      "Epoch: 504.02, iter: 245200, cross-entropy: 0.392, accuracy: 0.88574\n",
      "   y: ghby's offer of free | passages on his ship, to place the children with their grand-parents, | and t\n",
      "  yp: lh a s awfereof frie | parsages on his ship, to place the children with their gland-parents. | and t\n",
      "Epoch: 504.43, iter: 245400, cross-entropy: 0.367, accuracy: 0.89339\n",
      "   y: romised her some draughts. The advice | was followed readily, for the feverish symptoms increased,\n",
      "  yp: eovine  tir wome trawbhts. The advice | was followed readily, for the fererish symptoms increased,\n",
      "Epoch: 504.84, iter: 245600, cross-entropy: 0.372, accuracy: 0.88867\n",
      "   y: mpassion, while they are sharers of our intimacy at Rosings.\" |  | Words were insufficient for the e\n",
      "  yp: nelnsion. ahice | the  sre ntaper, of our intimacy at Rosings.\" |  | Words were insufficient for the e\n",
      "Epoch: 505.25, iter: 245800, cross-entropy: 0.388, accuracy: 0.88558\n",
      "   y: omething mysterious and impressive to heated partners | resting from the dance. She became a ship \n",
      "  yp:   e hing tu eeriousltnd impressive to heated partners | resting from the dance. She hecame a ship \n",
      "Epoch: 505.66, iter: 246000, cross-entropy: 0.391, accuracy: 0.88737\n",
      "   y: d the tenant of the kitchen, in | answer to an unheard speech of Nelly's.  'It's a blazing shame, \n",
      "  yp: n the swn nt of the oitchen, an answer to an unheard speech of Nelly's   'It's a blazing shame, \n",
      "Epoch: 506.08, iter: 246200, cross-entropy: 0.365, accuracy: 0.89535\n",
      "   y: id | from his seat on to the hearthstone, and lay writhing in the mere | perverseness of an indulged\n",
      "  yp: lnasoom tes fect.in th the Biarthstone, and lay writhing in the | cera | perverseness of an indelged\n",
      "Epoch: 506.49, iter: 246400, cross-entropy: 0.372, accuracy: 0.89225\n",
      "   y: , though it suits _him_ very well; his figure, and look, | and situation in life seem to allow it;\n",
      "  yp: e aheugh sn ients _him_ very well; his figure, and look, | and situation in life seemsto allow it;\n",
      "Epoch: 506.90, iter: 246600, cross-entropy: 0.362, accuracy: 0.89518\n",
      "   y:  see greater pride or refinement in the teacher | of a school, Harriet. I dare say Miss Nash would\n",
      "  yp: uhee hoeat r pride,or refinement in the teacher | of a school, Harriet. I dare say Miss Nash would\n",
      "Epoch: 507.31, iter: 246800, cross-entropy: 0.368, accuracy: 0.88851\n",
      "   y:  draw circles round the whole lot of | them, and they'd never stray outside.\" |  | (\"You can kill a he\n",
      "  yp:  toew borcles round the whole oot of | them, and they'd never stray outside.\" |  | (\"You can kill a he\n",
      "Epoch: 507.72, iter: 247000, cross-entropy: 0.352, accuracy: 0.89697\n",
      "   y:  assertion concerning her rude-bred kindred. | Hareton, recovering from his disgust at being taken\n",
      "  yp:  an untion.ooncerning hir rede-bred kindred. | Hareton, recomering from his distust at being taken\n",
      "Epoch: 508.13, iter: 247200, cross-entropy: 0.362, accuracy: 0.89372\n",
      "   y: hat according to Helen, but she restrained | herself and said aloud: |  | \"One has to make experiments\n",
      "  yp: het hncomding to Halen, wut she dacprained | herself and seid tloud: |  | \"Ofe has to make experiments\n",
      "Epoch: 508.54, iter: 247400, cross-entropy: 0.358, accuracy: 0.89551\n",
      "   y:  in a handkerchief | and set them aside, relocking the vacant drawer. |  | Following her habit, my you\n",
      "  yp: etn t wund erchief | and set the  aside, relecking the vacant drawer  |  | \"ollowing her hebit, my you\n",
      "Epoch: 508.95, iter: 247600, cross-entropy: 0.386, accuracy: 0.88932\n",
      "   y: t alone the suffering to them, | it explains why women are what they are--the wonder is they're no\n",
      "  yp:   tnlne ioeyfupfering oo the , | at wxplains why women are wrat Ihey are--the wonder is they're no\n"
     ]
    }
   ],
   "source": [
    "# Training:\n",
    "max_iter = 1000000\n",
    "batch_size = 64\n",
    "generated_text_size = 1000\n",
    "epl = len(textlib.data) / (batch_size * model.steps)\n",
    "\n",
    "with tf.Session() as sess:\n",
    "    model.init.run()\n",
    "\n",
    "    tflogdir = os.path.realpath('tensorlog')\n",
    "    if not os.path.exists(tflogdir):\n",
    "        os.makedirs(tflogdir)\n",
    "        print(\"Tensorboard: 'tensorboard --logdir {}'\".format(tflogdir))\n",
    "\n",
    "    train_writer = tf.summary.FileWriter(tflogdir, sess.graph)\n",
    "    train_writer.add_graph(sess.graph)\n",
    "        \n",
    "    \n",
    "    for iteration in range(max_iter):\n",
    "        # Train with batches from the text library:\n",
    "        X_batch, y_batch = textlib.getRandomSampleBatch(batch_size, model.steps)\n",
    "        i_state = sess.run([model.init_state_0], feed_dict={model.batch_size: batch_size})\n",
    "        i_state, _ = sess.run([model.final_state, model.training_op],\n",
    "                              feed_dict={model.X: X_batch, model.y: y_batch,\n",
    "                                         model.batch_size: batch_size, model.init_state: i_state})\n",
    "\n",
    "        # Output training statistics every 100 iterations:\n",
    "        if iteration % 200 == 0:\n",
    "            ce, accuracy, prediction, summary = sess.run([model.cross_entropy,\n",
    "                                                          model.accuracy, model.prediction,\n",
    "                                                          model.summary_merged],\n",
    "                                             feed_dict={model.X: X_batch, model.y: y_batch,\n",
    "                                                        model.batch_size: batch_size})\n",
    "            train_writer.add_summary(summary, iteration)\n",
    "            ep = iteration / epl\n",
    "            print(\"Epoch: {0:.2f}, iter: {1:d}, cross-entropy: {2:.3f}, accuracy: {3:.5f}\".format(ep, iteration, ce, accuracy))\n",
    "            for ind in range(1): # model.batch_size):\n",
    "                ys = textlib.decode(y_batch[ind]).replace('\\n', ' | ')\n",
    "                yps = textlib.decode(prediction[ind]).replace('\\n', ' | ')\n",
    "                print(\"   y:\", ys)\n",
    "                print(\"  yp:\", yps)\n",
    "\n",
    "        # Generate sample texts for different temperature every 500 iterations:\n",
    "        if (iteration+1) % 5000 == 0:\n",
    "            for t in range(2, 11, 4):\n",
    "                temp = float(t) / 10.0;\n",
    "                g_state = sess.run([model.init_state_0], feed_dict={model.batch_size: 1})\n",
    "                xs = ' ' * model.steps\n",
    "                xso = ''\n",
    "                for i in range(generated_text_size):\n",
    "                    X_new = np.transpose([[textlib.c2i[sj]] for sj in xs])\n",
    "                    g_state, y_pred = sess.run([model.final_state, model.output_softmax_temp], \n",
    "                                              feed_dict={model.X: X_new, model.init_state: g_state,\n",
    "                                                         model.batch_size: 1, model.temperature: temp})\n",
    "                    inds=list(range(model.vocab_size))\n",
    "                    ind = np.random.choice(inds, p=y_pred[0, -1].ravel())\n",
    "                    nc = textlib.i2c[ind]\n",
    "                    xso += nc\n",
    "                    xs = xs[1:]+nc\n",
    "                             \n",
    "                print(\"----------------- temperature =\", temp, \"----------------------\")\n",
    "                # print(xso)\n",
    "                textlib.sourceHighlight(xso, 20)   # 20: minimum quote size detected.\n",
    "            print(\"---------------------------------------\")"
   ]
  },
  {
   "cell_type": "code",
   "execution_count": null,
   "metadata": {
    "collapsed": true
   },
   "outputs": [],
   "source": []
  },
  {
   "cell_type": "code",
   "execution_count": null,
   "metadata": {
    "collapsed": true
   },
   "outputs": [],
   "source": []
  }
 ],
 "metadata": {
  "kernelspec": {
   "display_name": "Python 3",
   "language": "python",
   "name": "python3"
  },
  "language_info": {
   "codemirror_mode": {
    "name": "ipython",
    "version": 3
   },
   "file_extension": ".py",
   "mimetype": "text/x-python",
   "name": "python",
   "nbconvert_exporter": "python",
   "pygments_lexer": "ipython3",
   "version": "3.6.0"
  }
 },
 "nbformat": 4,
 "nbformat_minor": 2
}
